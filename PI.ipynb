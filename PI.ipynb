{
  "nbformat": 4,
  "nbformat_minor": 0,
  "metadata": {
    "colab": {
      "name": "PI.ipynb",
      "provenance": [],
      "authorship_tag": "ABX9TyNyXTCDqxVTbhR1hIfIsaYV",
      "include_colab_link": true
    },
    "kernelspec": {
      "name": "python3",
      "display_name": "Python 3"
    },
    "language_info": {
      "name": "python"
    }
  },
  "cells": [
    {
      "cell_type": "markdown",
      "metadata": {
        "id": "view-in-github",
        "colab_type": "text"
      },
      "source": [
        "<a href=\"https://colab.research.google.com/github/waraporn19/KKU_data_mining/blob/master/PI.ipynb\" target=\"_parent\"><img src=\"https://colab.research.google.com/assets/colab-badge.svg\" alt=\"Open In Colab\"/></a>"
      ]
    },
    {
      "cell_type": "code",
      "source": [
        "den10= cv2.rectangle(RGB_img1,(2030,1800),(2135,1700),(255,0,0),10) \n",
        "Square1 = cv2.rectangle(RGB_img1,(1710,1700),(1820,1800),(255,0,0),10)#(x,y)(x,y)\n",
        "plt.imshow(RGB_img1)"
      ],
      "metadata": {
        "id": "ErkhleudPGQy"
      },
      "execution_count": null,
      "outputs": []
    },
    {
      "cell_type": "code",
      "source": [
        " if 1699<i<1799 and 2029<j<2134 :\n",
        " if 1699<i<1799 and 1709<j<1819 :"
      ],
      "metadata": {
        "id": "XWWLbD-BPTOX"
      },
      "execution_count": null,
      "outputs": []
    },
    {
      "cell_type": "code",
      "source": [
        "den10= cv2.rectangle(RGB_img1,(2030,1820),(2135,1720),(255,0,0),10) \n",
        "Square1 = cv2.rectangle(RGB_img1,(1710,1720),(1820,1820),(255,0,0),10)#(x,y)(x,y)\n",
        "plt.imshow(RGB_img1)"
      ],
      "metadata": {
        "id": "jOsMM5bXPJXv"
      },
      "execution_count": null,
      "outputs": []
    },
    {
      "cell_type": "code",
      "source": [
        " if 1719<i<1819 and 2029<j<2134 :\n",
        " if 1719<i<1819 and 1709<j<1819 :"
      ],
      "metadata": {
        "id": "maLlCP-OQ9MX"
      },
      "execution_count": null,
      "outputs": []
    },
    {
      "cell_type": "code",
      "source": [
        "den10= cv2.rectangle(RGB_img1,(2030,1840),(2135,1740),(255,0,0),10) \n",
        "Square1 = cv2.rectangle(RGB_img1,(1710,1740),(1820,1840),(255,0,0),10)#(x,y)(x,y)\n",
        "plt.imshow(RGB_img1)"
      ],
      "metadata": {
        "id": "b4ZuZKRwPJcI"
      },
      "execution_count": null,
      "outputs": []
    },
    {
      "cell_type": "code",
      "source": [
        " if 1739<i<1839 and 2029<j<2134 :\n",
        " if 1739<i<1839 and 1709<j<1819 :"
      ],
      "metadata": {
        "id": "fZ_Abhy3Rg-B"
      },
      "execution_count": null,
      "outputs": []
    },
    {
      "cell_type": "code",
      "source": [
        "den10= cv2.rectangle(RGB_img1,(2030,1860),(2135,1760),(255,0,0),10) \n",
        "Square1 = cv2.rectangle(RGB_img1,(1710,1760),(1820,1860),(255,0,0),10)#(x,y)(x,y)\n",
        "plt.imshow(RGB_img1)"
      ],
      "metadata": {
        "id": "Xl7eqegfPJgH"
      },
      "execution_count": null,
      "outputs": []
    },
    {
      "cell_type": "code",
      "source": [
        " if 1759<i<1859 and 2029<j<2134 :\n",
        " if 1759<i<1859 and 1709<j<1819 :"
      ],
      "metadata": {
        "id": "K1PbGX24Rr_D"
      },
      "execution_count": null,
      "outputs": []
    },
    {
      "cell_type": "code",
      "source": [
        "den10= cv2.rectangle(RGB_img1,(2030,1880),(2135,1780),(255,0,0),10) \n",
        "Square1 = cv2.rectangle(RGB_img1,(1710,1780),(1820,1880),(255,0,0),10)#(x,y)(x,y)\n",
        "plt.imshow(RGB_img1)"
      ],
      "metadata": {
        "id": "CKUKDcC1PJj3"
      },
      "execution_count": null,
      "outputs": []
    },
    {
      "cell_type": "code",
      "source": [
        ""
      ],
      "metadata": {
        "id": "GT5aJ9OmPJpN"
      },
      "execution_count": null,
      "outputs": []
    }
  ]
}