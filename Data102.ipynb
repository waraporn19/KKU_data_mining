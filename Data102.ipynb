{
  "nbformat": 4,
  "nbformat_minor": 0,
  "metadata": {
    "colab": {
      "name": "Untitled0.ipynb",
      "provenance": [],
      "authorship_tag": "ABX9TyMPUQ2APiHWGhw7Rjh9Xq8i",
      "include_colab_link": true
    },
    "kernelspec": {
      "name": "python3",
      "display_name": "Python 3"
    }
  },
  "cells": [
    {
      "cell_type": "markdown",
      "metadata": {
        "id": "view-in-github",
        "colab_type": "text"
      },
      "source": [
        "<a href=\"https://colab.research.google.com/github/waraporn19/KKU_data_mining/blob/master/Data102.ipynb\" target=\"_parent\"><img src=\"https://colab.research.google.com/assets/colab-badge.svg\" alt=\"Open In Colab\"/></a>"
      ]
    },
    {
      "cell_type": "code",
      "metadata": {
        "id": "XuANOwXrq7_5",
        "colab_type": "code",
        "colab": {
          "base_uri": "https://localhost:8080/",
          "height": 111
        },
        "outputId": "4c4ca892-82b2-4a7a-dcc3-025ba833e706"
      },
      "source": [
        "from google.colab import drive\n",
        "drive.mount('/content/drive')"
      ],
      "execution_count": 2,
      "outputs": [
        {
          "output_type": "stream",
          "text": [
            "Go to this URL in a browser: https://accounts.google.com/o/oauth2/auth?client_id=947318989803-6bn6qk8qdgf4n4g3pfee6491hc0brc4i.apps.googleusercontent.com&redirect_uri=urn%3aietf%3awg%3aoauth%3a2.0%3aoob&scope=email%20https%3a%2f%2fwww.googleapis.com%2fauth%2fdocs.test%20https%3a%2f%2fwww.googleapis.com%2fauth%2fdrive%20https%3a%2f%2fwww.googleapis.com%2fauth%2fdrive.photos.readonly%20https%3a%2f%2fwww.googleapis.com%2fauth%2fpeopleapi.readonly&response_type=code\n",
            "\n",
            "Enter your authorization code:\n",
            "··········\n",
            "Mounted at /content/drive\n"
          ],
          "name": "stdout"
        }
      ]
    },
    {
      "cell_type": "code",
      "metadata": {
        "id": "vf32vQVdrXWx",
        "colab_type": "code",
        "colab": {}
      },
      "source": [
        "import os"
      ],
      "execution_count": null,
      "outputs": []
    },
    {
      "cell_type": "code",
      "metadata": {
        "id": "64Qu0LH1slkT",
        "colab_type": "code",
        "colab": {}
      },
      "source": [
        "import pandas as pd"
      ],
      "execution_count": null,
      "outputs": []
    },
    {
      "cell_type": "code",
      "metadata": {
        "id": "sjCCvWWBrYDQ",
        "colab_type": "code",
        "colab": {}
      },
      "source": [
        "data.d"
      ],
      "execution_count": null,
      "outputs": []
    },
    {
      "cell_type": "markdown",
      "metadata": {
        "id": "UOWqfD68rSAM",
        "colab_type": "text"
      },
      "source": [
        "##Box_plot"
      ]
    },
    {
      "cell_type": "code",
      "metadata": {
        "id": "UL9sbF2jrS-8",
        "colab_type": "code",
        "colab": {}
      },
      "source": [
        "from matplotlib import pylot  as plt"
      ],
      "execution_count": null,
      "outputs": []
    },
    {
      "cell_type": "code",
      "metadata": {
        "id": "QHsTHwtErwNl",
        "colab_type": "code",
        "colab": {}
      },
      "source": [
        "plt.boxplot(data['x'],vert=False)"
      ],
      "execution_count": null,
      "outputs": []
    },
    {
      "cell_type": "code",
      "metadata": {
        "id": "1OLqvp9Frw7I",
        "colab_type": "code",
        "colab": {}
      },
      "source": [
        "plt.boxplot(data['x'],vert=False,whis=1.2)"
      ],
      "execution_count": null,
      "outputs": []
    },
    {
      "cell_type": "code",
      "metadata": {
        "id": "slgYFHqauPDq",
        "colab_type": "code",
        "colab": {}
      },
      "source": [
        "out = plt.boxplot(data['X'],vert=False,whis=1.2)"
      ],
      "execution_count": null,
      "outputs": []
    },
    {
      "cell_type": "code",
      "metadata": {
        "id": "vFUH3E4SuQY2",
        "colab_type": "code",
        "colab": {}
      },
      "source": [
        "oput['fliers'][0].get_xdata()"
      ],
      "execution_count": null,
      "outputs": []
    },
    {
      "cell_type": "code",
      "metadata": {
        "id": "jFuBYNgjvnxA",
        "colab_type": "code",
        "colab": {}
      },
      "source": [
        "oput['whiskers'][0].get_xdata()"
      ],
      "execution_count": null,
      "outputs": []
    },
    {
      "cell_type": "code",
      "metadata": {
        "id": "gPxAhlPjvomk",
        "colab_type": "code",
        "colab": {}
      },
      "source": [
        "oput['whiskers'][1].get_xdata()"
      ],
      "execution_count": null,
      "outputs": []
    },
    {
      "cell_type": "markdown",
      "metadata": {
        "id": "gK_mhmQBxQFn",
        "colab_type": "text"
      },
      "source": [
        "##Scatter plot"
      ]
    },
    {
      "cell_type": "code",
      "metadata": {
        "id": "CBO7IEeMxxOw",
        "colab_type": "code",
        "colab": {}
      },
      "source": [
        "plt.scatter(data['X']data['Y'])"
      ],
      "execution_count": null,
      "outputs": []
    },
    {
      "cell_type": "code",
      "metadata": {
        "id": "esZa94z6y8mn",
        "colab_type": "code",
        "colab": {}
      },
      "source": [
        ""
      ],
      "execution_count": null,
      "outputs": []
    },
    {
      "cell_type": "code",
      "metadata": {
        "id": "8vqMIZ5zyI2m",
        "colab_type": "code",
        "colab": {}
      },
      "source": [
        "plt.scatter(data['x'],data['y'],s=data['y'],c='m')"
      ],
      "execution_count": null,
      "outputs": []
    },
    {
      "cell_type": "code",
      "metadata": {
        "id": "mbSbfhEEzBnD",
        "colab_type": "code",
        "colab": {}
      },
      "source": [
        "plt.scatter(data['x'],data['y'],s=data['y'],c='r',marker ='*')"
      ],
      "execution_count": null,
      "outputs": []
    },
    {
      "cell_type": "code",
      "metadata": {
        "id": "1Wwdmspl1Dkn",
        "colab_type": "code",
        "colab": {}
      },
      "source": [
        ""
      ],
      "execution_count": null,
      "outputs": []
    },
    {
      "cell_type": "markdown",
      "metadata": {
        "id": "QrsdRq_g1EUc",
        "colab_type": "text"
      },
      "source": [
        "##HW4 วาดปีกกับนอ ให้ไดโนเสาร์"
      ]
    }
  ]
}