{
  "nbformat": 4,
  "nbformat_minor": 0,
  "metadata": {
    "colab": {
      "name": "Visualize Data Distribution.ipynb",
      "provenance": [],
      "authorship_tag": "ABX9TyNpira113fDZWNPduPfmPRt",
      "include_colab_link": true
    },
    "kernelspec": {
      "name": "python3",
      "display_name": "Python 3"
    }
  },
  "cells": [
    {
      "cell_type": "markdown",
      "metadata": {
        "id": "view-in-github",
        "colab_type": "text"
      },
      "source": [
        "<a href=\"https://colab.research.google.com/github/waraporn19/KKU_data_mining/blob/master/Visualize_Data_Distribution.ipynb\" target=\"_parent\"><img src=\"https://colab.research.google.com/assets/colab-badge.svg\" alt=\"Open In Colab\"/></a>"
      ]
    },
    {
      "cell_type": "code",
      "metadata": {
        "id": "8scIWCU5MGg-"
      },
      "source": [
        "import pandas as pd\r\n",
        "from matplotlib import pyplot as plt "
      ],
      "execution_count": null,
      "outputs": []
    },
    {
      "cell_type": "code",
      "metadata": {
        "id": "b05LWxoCUTam"
      },
      "source": [
        ""
      ],
      "execution_count": null,
      "outputs": []
    },
    {
      "cell_type": "markdown",
      "metadata": {
        "id": "pe46u37ORYm8"
      },
      "source": [
        "#scattใส่ค่าแกน X Y แต่ละจุด"
      ]
    },
    {
      "cell_type": "markdown",
      "metadata": {
        "id": "eGvU3hmlRnZk"
      },
      "source": [
        "#Color"
      ]
    },
    {
      "cell_type": "markdown",
      "metadata": {
        "id": "HRbqR6zyQ8lb"
      },
      "source": [
        "#ใส่สีให้แต่ละจุด"
      ]
    },
    {
      "cell_type": "code",
      "metadata": {
        "id": "GYvdBST2R2c0"
      },
      "source": [
        "# แต่ถ้า Class  เป็นตัวอักษร ต้องมาเปลี่ยน Type ให้เป็นตัวเลขก่อน"
      ],
      "execution_count": null,
      "outputs": []
    },
    {
      "cell_type": "code",
      "metadata": {
        "id": "9o_UbSIvRDIY"
      },
      "source": [
        "plt.scatter(df['PetalLength'],df['Petal']) #ถ้า calss เป็นตัวเลขสามารถเอามาใส่สีได้เลย"
      ],
      "execution_count": null,
      "outputs": []
    }
  ]
}