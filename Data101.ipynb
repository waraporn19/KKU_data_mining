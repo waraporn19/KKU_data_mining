{
  "nbformat": 4,
  "nbformat_minor": 0,
  "metadata": {
    "colab": {
      "name": "Data101.ipynb",
      "provenance": [],
      "collapsed_sections": [],
      "authorship_tag": "ABX9TyOjsUeQ71OFPXMzEqmXSNCo",
      "include_colab_link": true
    },
    "kernelspec": {
      "name": "python3",
      "display_name": "Python 3"
    }
  },
  "cells": [
    {
      "cell_type": "markdown",
      "metadata": {
        "id": "view-in-github",
        "colab_type": "text"
      },
      "source": [
        "<a href=\"https://colab.research.google.com/github/waraporn19/KKU_data_mining/blob/master/Data101.ipynb\" target=\"_parent\"><img src=\"https://colab.research.google.com/assets/colab-badge.svg\" alt=\"Open In Colab\"/></a>"
      ]
    },
    {
      "cell_type": "code",
      "metadata": {
        "id": "qniP8wkAGbf8"
      },
      "source": [
        "import pandas "
      ],
      "execution_count": null,
      "outputs": []
    },
    {
      "cell_type": "markdown",
      "metadata": {
        "id": "EH5h_NE6ymWK"
      },
      "source": [
        "ตัวอย่างการเรียกใช้ packege ที่ชื่อว่า pandas\n",
        "\n",
        "การเรียกใช้ package ที่ชื่อว่า pandas\n"
      ]
    },
    {
      "cell_type": "code",
      "metadata": {
        "id": "FcpQ6VfoGguO"
      },
      "source": [
        "import pandas as pd #การเรียกใช้ package ที่ชื่อว่า pandas โดยให้แทนด้วยชื่อ pd ด้วยการใช้คำสั่ง as"
      ],
      "execution_count": null,
      "outputs": []
    },
    {
      "cell_type": "markdown",
      "metadata": {
        "id": "6XsxPtofy4dY"
      },
      "source": [
        "คำสั่งเพื่อเชื่อมกับ Google drive"
      ]
    },
    {
      "cell_type": "code",
      "metadata": {
        "id": "KbUN4s3rGnTu",
        "colab": {
          "base_uri": "https://localhost:8080/",
          "height": 34
        },
        "outputId": "bf360da3-75f7-4cf6-f54c-21eb8cd26088"
      },
      "source": [
        "from google.colab import drive \n",
        "drive.mount('/content/drive')"
      ],
      "execution_count": null,
      "outputs": [
        {
          "output_type": "stream",
          "text": [
            "Drive already mounted at /content/drive; to attempt to forcibly remount, call drive.mount(\"/content/drive\", force_remount=True).\n"
          ],
          "name": "stdout"
        }
      ]
    },
    {
      "cell_type": "markdown",
      "metadata": {
        "id": "KZIlfFVyzJWo"
      },
      "source": [
        "การเรียกใช้ package ที่ชื่อว่า os"
      ]
    },
    {
      "cell_type": "code",
      "metadata": {
        "id": "fQ7yFcoNKbOC"
      },
      "source": [
        "import os"
      ],
      "execution_count": null,
      "outputs": []
    },
    {
      "cell_type": "markdown",
      "metadata": {
        "id": "55YHK07IzRfM"
      },
      "source": [
        "การใช้ path ไฟล์ข้อมูลที่อยู่ใน Goofle drive เพื่อง่ายต่อการใช้งาน"
      ]
    },
    {
      "cell_type": "code",
      "metadata": {
        "id": "unP45XXyKykZ"
      },
      "source": [
        "path = '/content/drive/My Drive/DWDM_material'"
      ],
      "execution_count": null,
      "outputs": []
    },
    {
      "cell_type": "markdown",
      "metadata": {
        "id": "OtL7bI6HzTwz"
      },
      "source": [
        "คำสั่งเรียกดูไฟล์ข้อมูลที่อยู่ใน path"
      ]
    },
    {
      "cell_type": "code",
      "metadata": {
        "id": "w1BkFiETLNuC",
        "colab": {
          "base_uri": "https://localhost:8080/",
          "height": 34
        },
        "outputId": "59dfda53-4026-4446-903e-1aa9b9918833"
      },
      "source": [
        "os.listdir('/content/drive/My Drive/DWDM_material')"
      ],
      "execution_count": null,
      "outputs": [
        {
          "output_type": "execute_result",
          "data": {
            "text/plain": [
              "['test.csv']"
            ]
          },
          "metadata": {
            "tags": []
          },
          "execution_count": 17
        }
      ]
    },
    {
      "cell_type": "code",
      "metadata": {
        "id": "RYH8vVT_MT6-"
      },
      "source": [
        "import pandas as pd"
      ],
      "execution_count": null,
      "outputs": []
    },
    {
      "cell_type": "markdown",
      "metadata": {
        "id": "b2fdCfbNzo8Z"
      },
      "source": [
        "เรียกใช้ฟังก์ชั่น join เพื่อจอย path กับ ไฟล์ที่เราจะเปิด โดยให้ชื่อว่า file_path"
      ]
    },
    {
      "cell_type": "code",
      "metadata": {
        "id": "MwfJXOcwNfOz",
        "colab": {
          "base_uri": "https://localhost:8080/",
          "height": 34
        },
        "outputId": "6d732052-c9b0-430c-da74-95bbd7cc86d3"
      },
      "source": [
        "file_path = os.path.join(path,'test.csv')\n",
        "print(file_path)"
      ],
      "execution_count": null,
      "outputs": [
        {
          "output_type": "stream",
          "text": [
            "/content/drive/My Drive/DWDM_material/test.csv\n"
          ],
          "name": "stdout"
        }
      ]
    },
    {
      "cell_type": "markdown",
      "metadata": {
        "id": "t8IlscoXz4Hi"
      },
      "source": [
        "คำสั่งอ่านข้อมูล โดยจะแสดงข้อมูลทุกตัว"
      ]
    },
    {
      "cell_type": "code",
      "metadata": {
        "id": "Ttret16LOEVl",
        "colab": {
          "base_uri": "https://localhost:8080/",
          "height": 419
        },
        "outputId": "60d9cc09-96f1-4c1d-fa47-ea87ae1a815f"
      },
      "source": [
        "pd.read_csv(file_path)"
      ],
      "execution_count": null,
      "outputs": [
        {
          "output_type": "execute_result",
          "data": {
            "text/html": [
              "<div>\n",
              "<style scoped>\n",
              "    .dataframe tbody tr th:only-of-type {\n",
              "        vertical-align: middle;\n",
              "    }\n",
              "\n",
              "    .dataframe tbody tr th {\n",
              "        vertical-align: top;\n",
              "    }\n",
              "\n",
              "    .dataframe thead th {\n",
              "        text-align: right;\n",
              "    }\n",
              "</style>\n",
              "<table border=\"1\" class=\"dataframe\">\n",
              "  <thead>\n",
              "    <tr style=\"text-align: right;\">\n",
              "      <th></th>\n",
              "      <th>Unnamed: 0</th>\n",
              "      <th>x</th>\n",
              "      <th>y</th>\n",
              "    </tr>\n",
              "  </thead>\n",
              "  <tbody>\n",
              "    <tr>\n",
              "      <th>0</th>\n",
              "      <td>0</td>\n",
              "      <td>55.3846</td>\n",
              "      <td>97.1795</td>\n",
              "    </tr>\n",
              "    <tr>\n",
              "      <th>1</th>\n",
              "      <td>1</td>\n",
              "      <td>51.5385</td>\n",
              "      <td>96.0256</td>\n",
              "    </tr>\n",
              "    <tr>\n",
              "      <th>2</th>\n",
              "      <td>2</td>\n",
              "      <td>46.1538</td>\n",
              "      <td>94.4872</td>\n",
              "    </tr>\n",
              "    <tr>\n",
              "      <th>3</th>\n",
              "      <td>3</td>\n",
              "      <td>42.8205</td>\n",
              "      <td>91.4103</td>\n",
              "    </tr>\n",
              "    <tr>\n",
              "      <th>4</th>\n",
              "      <td>4</td>\n",
              "      <td>40.7692</td>\n",
              "      <td>88.3333</td>\n",
              "    </tr>\n",
              "    <tr>\n",
              "      <th>...</th>\n",
              "      <td>...</td>\n",
              "      <td>...</td>\n",
              "      <td>...</td>\n",
              "    </tr>\n",
              "    <tr>\n",
              "      <th>137</th>\n",
              "      <td>137</td>\n",
              "      <td>39.4872</td>\n",
              "      <td>25.3846</td>\n",
              "    </tr>\n",
              "    <tr>\n",
              "      <th>138</th>\n",
              "      <td>138</td>\n",
              "      <td>91.2821</td>\n",
              "      <td>41.5385</td>\n",
              "    </tr>\n",
              "    <tr>\n",
              "      <th>139</th>\n",
              "      <td>139</td>\n",
              "      <td>50.0000</td>\n",
              "      <td>95.7692</td>\n",
              "    </tr>\n",
              "    <tr>\n",
              "      <th>140</th>\n",
              "      <td>140</td>\n",
              "      <td>47.9487</td>\n",
              "      <td>95.0000</td>\n",
              "    </tr>\n",
              "    <tr>\n",
              "      <th>141</th>\n",
              "      <td>141</td>\n",
              "      <td>44.1026</td>\n",
              "      <td>92.6923</td>\n",
              "    </tr>\n",
              "  </tbody>\n",
              "</table>\n",
              "<p>142 rows × 3 columns</p>\n",
              "</div>"
            ],
            "text/plain": [
              "     Unnamed: 0        x        y\n",
              "0             0  55.3846  97.1795\n",
              "1             1  51.5385  96.0256\n",
              "2             2  46.1538  94.4872\n",
              "3             3  42.8205  91.4103\n",
              "4             4  40.7692  88.3333\n",
              "..          ...      ...      ...\n",
              "137         137  39.4872  25.3846\n",
              "138         138  91.2821  41.5385\n",
              "139         139  50.0000  95.7692\n",
              "140         140  47.9487  95.0000\n",
              "141         141  44.1026  92.6923\n",
              "\n",
              "[142 rows x 3 columns]"
            ]
          },
          "metadata": {
            "tags": []
          },
          "execution_count": 20
        }
      ]
    },
    {
      "cell_type": "markdown",
      "metadata": {
        "id": "Tao1JBMRz9oz"
      },
      "source": [
        "แทนชื่อคำสั่งอ่านไฟล์ด้วย table1"
      ]
    },
    {
      "cell_type": "code",
      "metadata": {
        "id": "kR-Ct_BtOV7e"
      },
      "source": [
        "table1= pd.read_csv(file_path)"
      ],
      "execution_count": null,
      "outputs": []
    },
    {
      "cell_type": "markdown",
      "metadata": {
        "id": "V7qDCAih0D4W"
      },
      "source": [
        "คำสั่งอ่านข้อมูลเพื่อดูหัวตาราง"
      ]
    },
    {
      "cell_type": "code",
      "metadata": {
        "id": "ytIsZx_cOy86",
        "colab": {
          "base_uri": "https://localhost:8080/",
          "height": 391
        },
        "outputId": "89fa258e-3ecf-4574-a295-18fe97c17efd"
      },
      "source": [
        "table1. head()"
      ],
      "execution_count": null,
      "outputs": [
        {
          "output_type": "execute_result",
          "data": {
            "text/html": [
              "<div>\n",
              "<style scoped>\n",
              "    .dataframe tbody tr th:only-of-type {\n",
              "        vertical-align: middle;\n",
              "    }\n",
              "\n",
              "    .dataframe tbody tr th {\n",
              "        vertical-align: top;\n",
              "    }\n",
              "\n",
              "    .dataframe thead th {\n",
              "        text-align: right;\n",
              "    }\n",
              "</style>\n",
              "<table border=\"1\" class=\"dataframe\">\n",
              "  <thead>\n",
              "    <tr style=\"text-align: right;\">\n",
              "      <th></th>\n",
              "      <th>Unnamed: 0</th>\n",
              "      <th>x</th>\n",
              "      <th>y</th>\n",
              "    </tr>\n",
              "  </thead>\n",
              "  <tbody>\n",
              "    <tr>\n",
              "      <th>0</th>\n",
              "      <td>0</td>\n",
              "      <td>55.3846</td>\n",
              "      <td>97.1795</td>\n",
              "    </tr>\n",
              "    <tr>\n",
              "      <th>1</th>\n",
              "      <td>1</td>\n",
              "      <td>51.5385</td>\n",
              "      <td>96.0256</td>\n",
              "    </tr>\n",
              "    <tr>\n",
              "      <th>2</th>\n",
              "      <td>2</td>\n",
              "      <td>46.1538</td>\n",
              "      <td>94.4872</td>\n",
              "    </tr>\n",
              "    <tr>\n",
              "      <th>3</th>\n",
              "      <td>3</td>\n",
              "      <td>42.8205</td>\n",
              "      <td>91.4103</td>\n",
              "    </tr>\n",
              "    <tr>\n",
              "      <th>4</th>\n",
              "      <td>4</td>\n",
              "      <td>40.7692</td>\n",
              "      <td>88.3333</td>\n",
              "    </tr>\n",
              "  </tbody>\n",
              "</table>\n",
              "</div>"
            ],
            "text/plain": [
              "   Unnamed: 0        x        y\n",
              "0           0  55.3846  97.1795\n",
              "1           1  51.5385  96.0256\n",
              "2           2  46.1538  94.4872\n",
              "3           3  42.8205  91.4103\n",
              "4           4  40.7692  88.3333"
            ]
          },
          "metadata": {
            "tags": []
          },
          "execution_count": 23
        },
        {
          "output_type": "execute_result",
          "data": {
            "text/html": [
              "<div>\n",
              "<style scoped>\n",
              "    .dataframe tbody tr th:only-of-type {\n",
              "        vertical-align: middle;\n",
              "    }\n",
              "\n",
              "    .dataframe tbody tr th {\n",
              "        vertical-align: top;\n",
              "    }\n",
              "\n",
              "    .dataframe thead th {\n",
              "        text-align: right;\n",
              "    }\n",
              "</style>\n",
              "<table border=\"1\" class=\"dataframe\">\n",
              "  <thead>\n",
              "    <tr style=\"text-align: right;\">\n",
              "      <th></th>\n",
              "      <th>Unnamed: 0</th>\n",
              "      <th>x</th>\n",
              "      <th>y</th>\n",
              "    </tr>\n",
              "  </thead>\n",
              "  <tbody>\n",
              "    <tr>\n",
              "      <th>0</th>\n",
              "      <td>0</td>\n",
              "      <td>55.3846</td>\n",
              "      <td>97.1795</td>\n",
              "    </tr>\n",
              "    <tr>\n",
              "      <th>1</th>\n",
              "      <td>1</td>\n",
              "      <td>51.5385</td>\n",
              "      <td>96.0256</td>\n",
              "    </tr>\n",
              "    <tr>\n",
              "      <th>2</th>\n",
              "      <td>2</td>\n",
              "      <td>46.1538</td>\n",
              "      <td>94.4872</td>\n",
              "    </tr>\n",
              "    <tr>\n",
              "      <th>3</th>\n",
              "      <td>3</td>\n",
              "      <td>42.8205</td>\n",
              "      <td>91.4103</td>\n",
              "    </tr>\n",
              "    <tr>\n",
              "      <th>4</th>\n",
              "      <td>4</td>\n",
              "      <td>40.7692</td>\n",
              "      <td>88.3333</td>\n",
              "    </tr>\n",
              "  </tbody>\n",
              "</table>\n",
              "</div>"
            ],
            "text/plain": [
              "   Unnamed: 0        x        y\n",
              "0           0  55.3846  97.1795\n",
              "1           1  51.5385  96.0256\n",
              "2           2  46.1538  94.4872\n",
              "3           3  42.8205  91.4103\n",
              "4           4  40.7692  88.3333"
            ]
          },
          "metadata": {
            "tags": []
          },
          "execution_count": 24
        }
      ]
    },
    {
      "cell_type": "markdown",
      "metadata": {
        "id": "G9ShKtq_0I3A"
      },
      "source": [
        "การเรียกใช้คำสั่ง matplotlib เพื่อวาดกราฟ โดยแทนชื่อ matplotlib ด้วย plt"
      ]
    },
    {
      "cell_type": "code",
      "metadata": {
        "id": "SSxHSgAUP5Z3"
      },
      "source": [
        "from matplotlib import pyplot as plt\n"
      ],
      "execution_count": null,
      "outputs": []
    },
    {
      "cell_type": "markdown",
      "metadata": {
        "id": "R7yJGUBq0MCl"
      },
      "source": [
        "คำสั่งสร้าง scatter plot"
      ]
    },
    {
      "cell_type": "code",
      "metadata": {
        "id": "NTw79ReGQQLj",
        "colab": {
          "base_uri": "https://localhost:8080/",
          "height": 282
        },
        "outputId": "453e979b-c674-4777-e53c-ddf2845f2df2"
      },
      "source": [
        "plt.scatter(table1['x'],table1['y'])"
      ],
      "execution_count": null,
      "outputs": [
        {
          "output_type": "execute_result",
          "data": {
            "text/plain": [
              "<matplotlib.collections.PathCollection at 0x7fee287f1a20>"
            ]
          },
          "metadata": {
            "tags": []
          },
          "execution_count": 24
        },
        {
          "output_type": "display_data",
          "data": {
            "image/png": "[encoded data removed]",
            "text/plain": [
              "<Figure size 432x288 with 1 Axes>"
            ]
          },
          "metadata": {
            "tags": [],
            "needs_background": "light"
          }
        }
      ]
    },
    {
      "cell_type": "markdown",
      "metadata": {
        "id": "eY6Yg_rAjCP0"
      },
      "source": [
        "#Centrality\n",
        "กาารหาค่ากลาง\n",
        "เรียกดูข้อมูลใน table1\n"
      ]
    },
    {
      "cell_type": "code",
      "metadata": {
        "id": "JZpE43IrjQvd",
        "colab": {
          "base_uri": "https://localhost:8080/",
          "height": 221
        },
        "outputId": "dd9cb728-64ab-4003-9d05-17e485900c62"
      },
      "source": [
        "table1['x']"
      ],
      "execution_count": null,
      "outputs": [
        {
          "output_type": "execute_result",
          "data": {
            "text/plain": [
              "0      55.3846\n",
              "1      51.5385\n",
              "2      46.1538\n",
              "3      42.8205\n",
              "4      40.7692\n",
              "        ...   \n",
              "137    39.4872\n",
              "138    91.2821\n",
              "139    50.0000\n",
              "140    47.9487\n",
              "141    44.1026\n",
              "Name: x, Length: 142, dtype: float64"
            ]
          },
          "metadata": {
            "tags": []
          },
          "execution_count": 25
        }
      ]
    },
    {
      "cell_type": "markdown",
      "metadata": {
        "id": "LciNzZKp0spB"
      },
      "source": [
        "เรียกดูแค่ค่า X แต่ถ้าชื่อเป็นภาษาไทยจะทำแบบนี้ไม่ได้"
      ]
    },
    {
      "cell_type": "code",
      "metadata": {
        "id": "Y5IewyIQkzz_",
        "colab": {
          "base_uri": "https://localhost:8080/",
          "height": 221
        },
        "outputId": "deb46167-d34a-4369-e928-a0b325ff5276"
      },
      "source": [
        "table1.x"
      ],
      "execution_count": null,
      "outputs": [
        {
          "output_type": "execute_result",
          "data": {
            "text/plain": [
              "0      55.3846\n",
              "1      51.5385\n",
              "2      46.1538\n",
              "3      42.8205\n",
              "4      40.7692\n",
              "        ...   \n",
              "137    39.4872\n",
              "138    91.2821\n",
              "139    50.0000\n",
              "140    47.9487\n",
              "141    44.1026\n",
              "Name: x, Length: 142, dtype: float64"
            ]
          },
          "metadata": {
            "tags": []
          },
          "execution_count": 26
        }
      ]
    },
    {
      "cell_type": "markdown",
      "metadata": {
        "id": "yBYQCHOOmRDy"
      },
      "source": [
        "ตัวอย่างคำสั่งอธิบายในคลอลั่มโดยใช้ describe() \n",
        "การอธิบายข้อมูลด้วยค่ากลาง\n",
        "\n",
        "25% คือ ควอไทน์ที่ 1"
      ]
    },
    {
      "cell_type": "code",
      "metadata": {
        "id": "xFBGR3FFlNAq",
        "colab": {
          "base_uri": "https://localhost:8080/",
          "height": 297
        },
        "outputId": "8d05ebd9-38f7-44d7-c9b1-3af29a33d47f"
      },
      "source": [
        "table1.describe()"
      ],
      "execution_count": null,
      "outputs": [
        {
          "output_type": "execute_result",
          "data": {
            "text/html": [
              "<div>\n",
              "<style scoped>\n",
              "    .dataframe tbody tr th:only-of-type {\n",
              "        vertical-align: middle;\n",
              "    }\n",
              "\n",
              "    .dataframe tbody tr th {\n",
              "        vertical-align: top;\n",
              "    }\n",
              "\n",
              "    .dataframe thead th {\n",
              "        text-align: right;\n",
              "    }\n",
              "</style>\n",
              "<table border=\"1\" class=\"dataframe\">\n",
              "  <thead>\n",
              "    <tr style=\"text-align: right;\">\n",
              "      <th></th>\n",
              "      <th>Unnamed: 0</th>\n",
              "      <th>x</th>\n",
              "      <th>y</th>\n",
              "    </tr>\n",
              "  </thead>\n",
              "  <tbody>\n",
              "    <tr>\n",
              "      <th>count</th>\n",
              "      <td>142.000000</td>\n",
              "      <td>142.000000</td>\n",
              "      <td>142.000000</td>\n",
              "    </tr>\n",
              "    <tr>\n",
              "      <th>mean</th>\n",
              "      <td>70.500000</td>\n",
              "      <td>54.263273</td>\n",
              "      <td>47.832253</td>\n",
              "    </tr>\n",
              "    <tr>\n",
              "      <th>std</th>\n",
              "      <td>41.135953</td>\n",
              "      <td>16.765142</td>\n",
              "      <td>26.935403</td>\n",
              "    </tr>\n",
              "    <tr>\n",
              "      <th>min</th>\n",
              "      <td>0.000000</td>\n",
              "      <td>22.307700</td>\n",
              "      <td>2.948700</td>\n",
              "    </tr>\n",
              "    <tr>\n",
              "      <th>25%</th>\n",
              "      <td>35.250000</td>\n",
              "      <td>44.102600</td>\n",
              "      <td>25.288450</td>\n",
              "    </tr>\n",
              "    <tr>\n",
              "      <th>50%</th>\n",
              "      <td>70.500000</td>\n",
              "      <td>53.333300</td>\n",
              "      <td>46.025600</td>\n",
              "    </tr>\n",
              "    <tr>\n",
              "      <th>75%</th>\n",
              "      <td>105.750000</td>\n",
              "      <td>64.743600</td>\n",
              "      <td>68.525675</td>\n",
              "    </tr>\n",
              "    <tr>\n",
              "      <th>max</th>\n",
              "      <td>141.000000</td>\n",
              "      <td>98.205100</td>\n",
              "      <td>99.487200</td>\n",
              "    </tr>\n",
              "  </tbody>\n",
              "</table>\n",
              "</div>"
            ],
            "text/plain": [
              "       Unnamed: 0           x           y\n",
              "count  142.000000  142.000000  142.000000\n",
              "mean    70.500000   54.263273   47.832253\n",
              "std     41.135953   16.765142   26.935403\n",
              "min      0.000000   22.307700    2.948700\n",
              "25%     35.250000   44.102600   25.288450\n",
              "50%     70.500000   53.333300   46.025600\n",
              "75%    105.750000   64.743600   68.525675\n",
              "max    141.000000   98.205100   99.487200"
            ]
          },
          "metadata": {
            "tags": []
          },
          "execution_count": 27
        }
      ]
    },
    {
      "cell_type": "markdown",
      "metadata": {
        "id": "ZgqrxNTZntF4"
      },
      "source": [
        "## Python Data Structure\n"
      ]
    },
    {
      "cell_type": "markdown",
      "metadata": {
        "id": "jTzJQWsvn5aw"
      },
      "source": [
        "Variable ตัวอย่างการตั้งชื่อตัวแปร ใช้ #"
      ]
    },
    {
      "cell_type": "code",
      "metadata": {
        "id": "NUBUA_KOoMyt"
      },
      "source": [
        "a = 1\n",
        "b = 3"
      ],
      "execution_count": null,
      "outputs": []
    },
    {
      "cell_type": "code",
      "metadata": {
        "id": "qwLI8096oiwZ"
      },
      "source": [
        "c = a + b"
      ],
      "execution_count": null,
      "outputs": []
    },
    {
      "cell_type": "code",
      "metadata": {
        "id": "s2F_4EEeoice",
        "colab": {
          "base_uri": "https://localhost:8080/",
          "height": 34
        },
        "outputId": "c0af3903-0649-4102-f902-0a87834cd3d2"
      },
      "source": [
        "c"
      ],
      "execution_count": null,
      "outputs": [
        {
          "output_type": "execute_result",
          "data": {
            "text/plain": [
              "4"
            ]
          },
          "metadata": {
            "tags": []
          },
          "execution_count": 30
        }
      ]
    },
    {
      "cell_type": "markdown",
      "metadata": {
        "id": "SUfOLOj41WbS"
      },
      "source": [
        "เป็นคาเรคเตอร์ หรือ sting มี '' ด้วย"
      ]
    },
    {
      "cell_type": "code",
      "metadata": {
        "id": "hyqtdYvToh0G"
      },
      "source": [
        "name = 'a'"
      ],
      "execution_count": null,
      "outputs": []
    },
    {
      "cell_type": "code",
      "metadata": {
        "id": "3SVAvU_bo8zP",
        "colab": {
          "base_uri": "https://localhost:8080/",
          "height": 34
        },
        "outputId": "fbd9bdae-5f12-451c-b311-3c24f452e0ec"
      },
      "source": [
        "name"
      ],
      "execution_count": null,
      "outputs": [
        {
          "output_type": "execute_result",
          "data": {
            "application/vnd.google.colaboratory.intrinsic+json": {
              "type": "string"
            },
            "text/plain": [
              "'a'"
            ]
          },
          "metadata": {
            "tags": []
          },
          "execution_count": 32
        }
      ]
    },
    {
      "cell_type": "markdown",
      "metadata": {
        "id": "zaILRgCl1cEA"
      },
      "source": [
        "ให้ one = ข้อความ 1"
      ]
    },
    {
      "cell_type": "code",
      "metadata": {
        "id": "UtisKN3go94B"
      },
      "source": [
        "one = ' 1'"
      ],
      "execution_count": null,
      "outputs": []
    },
    {
      "cell_type": "markdown",
      "metadata": {
        "id": "Pv4SzlkV1ocw"
      },
      "source": [
        "ตัวเลข + ข้อควาามไม่ได้"
      ]
    },
    {
      "cell_type": "code",
      "metadata": {
        "id": "EfGO46RSpQvb",
        "colab": {
          "base_uri": "https://localhost:8080/",
          "height": 164
        },
        "outputId": "5e8a07fa-a145-4d1c-a58f-422770378137"
      },
      "source": [
        "a + one"
      ],
      "execution_count": null,
      "outputs": [
        {
          "output_type": "error",
          "ename": "TypeError",
          "evalue": "ignored",
          "traceback": [
            "\u001b[0;31m---------------------------------------------------------------------------\u001b[0m",
            "\u001b[0;31mTypeError\u001b[0m                                 Traceback (most recent call last)",
            "\u001b[0;32m<ipython-input-34-5fb4ec9c50dc>\u001b[0m in \u001b[0;36m<module>\u001b[0;34m()\u001b[0m\n\u001b[0;32m----> 1\u001b[0;31m \u001b[0ma\u001b[0m \u001b[0;34m+\u001b[0m \u001b[0mone\u001b[0m\u001b[0;34m\u001b[0m\u001b[0;34m\u001b[0m\u001b[0m\n\u001b[0m",
            "\u001b[0;31mTypeError\u001b[0m: unsupported operand type(s) for +: 'int' and 'str'"
          ]
        }
      ]
    },
    {
      "cell_type": "code",
      "metadata": {
        "id": "IDYpui1xpgpk",
        "colab": {
          "base_uri": "https://localhost:8080/",
          "height": 34
        },
        "outputId": "c4ff0785-22f8-4e60-8266-ce5e9f1db101"
      },
      "source": [
        "a + int(one)"
      ],
      "execution_count": null,
      "outputs": [
        {
          "output_type": "execute_result",
          "data": {
            "text/plain": [
              "2"
            ]
          },
          "metadata": {
            "tags": []
          },
          "execution_count": 35
        }
      ]
    },
    {
      "cell_type": "markdown",
      "metadata": {
        "id": "bH7Y25zI14X6"
      },
      "source": [
        "num = ข้อความ '112.76'"
      ]
    },
    {
      "cell_type": "code",
      "metadata": {
        "id": "aTUxNyFmqBfS"
      },
      "source": [
        "num = ' 112.76'"
      ],
      "execution_count": null,
      "outputs": []
    },
    {
      "cell_type": "markdown",
      "metadata": {
        "id": "pDxBOpjl16IG"
      },
      "source": [
        "int เป็นตัวเลข num ไม่ใช่ตัวเลข เลยรันไม่ได้"
      ]
    },
    {
      "cell_type": "code",
      "metadata": {
        "id": "5gAKKBOCqDDT",
        "colab": {
          "base_uri": "https://localhost:8080/",
          "height": 164
        },
        "outputId": "edca3051-f41d-4c19-b6d9-b81dd0b37587"
      },
      "source": [
        "int(num)"
      ],
      "execution_count": null,
      "outputs": [
        {
          "output_type": "error",
          "ename": "ValueError",
          "evalue": "ignored",
          "traceback": [
            "\u001b[0;31m---------------------------------------------------------------------------\u001b[0m",
            "\u001b[0;31mValueError\u001b[0m                                Traceback (most recent call last)",
            "\u001b[0;32m<ipython-input-37-fa4446644730>\u001b[0m in \u001b[0;36m<module>\u001b[0;34m()\u001b[0m\n\u001b[0;32m----> 1\u001b[0;31m \u001b[0mint\u001b[0m\u001b[0;34m(\u001b[0m\u001b[0mnum\u001b[0m\u001b[0;34m)\u001b[0m\u001b[0;34m\u001b[0m\u001b[0;34m\u001b[0m\u001b[0m\n\u001b[0m",
            "\u001b[0;31mValueError\u001b[0m: invalid literal for int() with base 10: ' 112.76'"
          ]
        }
      ]
    },
    {
      "cell_type": "code",
      "metadata": {
        "id": "EJPu7QeNqCek",
        "colab": {
          "base_uri": "https://localhost:8080/",
          "height": 34
        },
        "outputId": "36ab580a-72a9-41b4-f5a9-0da9e1196491"
      },
      "source": [
        "float(num)"
      ],
      "execution_count": null,
      "outputs": [
        {
          "output_type": "execute_result",
          "data": {
            "text/plain": [
              "112.76"
            ]
          },
          "metadata": {
            "tags": []
          },
          "execution_count": 38
        }
      ]
    },
    {
      "cell_type": "markdown",
      "metadata": {
        "id": "FmL45524qpE1"
      },
      "source": [
        ""
      ]
    },
    {
      "cell_type": "code",
      "metadata": {
        "id": "MOvtUXC3qsnP"
      },
      "source": [
        ""
      ],
      "execution_count": null,
      "outputs": []
    },
    {
      "cell_type": "code",
      "metadata": {
        "id": "C9TCA7ehquCu",
        "colab": {
          "base_uri": "https://localhost:8080/",
          "height": 34
        },
        "outputId": "a305f32a-6373-4480-ce35-9f69f9b07096"
      },
      "source": [
        "str(float(num))"
      ],
      "execution_count": null,
      "outputs": [
        {
          "output_type": "execute_result",
          "data": {
            "application/vnd.google.colaboratory.intrinsic+json": {
              "type": "string"
            },
            "text/plain": [
              "'112.76'"
            ]
          },
          "metadata": {
            "tags": []
          },
          "execution_count": 39
        }
      ]
    },
    {
      "cell_type": "markdown",
      "metadata": {
        "id": "10z4LqjBrJR_"
      },
      "source": [
        "เปลี่ยนค่า num= ’112.76887’ เปลี่ยนเป็นเลขจำนวนเต็ม112 \n",
        "ด้วย fuction casting (int() float()  str ()  เท่านั้น"
      ]
    },
    {
      "cell_type": "code",
      "metadata": {
        "id": "V8pvzUpeq39b"
      },
      "source": [
        "num2 = '112.76887'\n"
      ],
      "execution_count": null,
      "outputs": []
    },
    {
      "cell_type": "code",
      "metadata": {
        "id": "DrDOmxCyJuI8",
        "colab": {
          "base_uri": "https://localhost:8080/",
          "height": 34
        },
        "outputId": "92d3b901-d198-4f71-b22e-3c722372a770"
      },
      "source": [
        "float(num2)"
      ],
      "execution_count": null,
      "outputs": [
        {
          "output_type": "execute_result",
          "data": {
            "text/plain": [
              "112.76887"
            ]
          },
          "metadata": {
            "tags": []
          },
          "execution_count": 41
        }
      ]
    },
    {
      "cell_type": "markdown",
      "metadata": {
        "id": "n-cBcq2kKCVS"
      },
      "source": [
        "#list()\n",
        "\n",
        "\n",
        "การสร้างlisth สามารถเพิ่ม listh ด้วย [ สมาชิก , …]\n"
      ]
    },
    {
      "cell_type": "code",
      "metadata": {
        "id": "jinA3KJLJ7GJ"
      },
      "source": [
        "list_a = [1,3,7,19] #1, 3, 7, 19 คือสมาชิกใน list"
      ],
      "execution_count": null,
      "outputs": []
    },
    {
      "cell_type": "markdown",
      "metadata": {
        "id": "7n4IVOogK7S3"
      },
      "source": [
        "การรันสมาชิกใน list ใช้ภาษา c ในการหา เช่นการหาสมาชิกตัวแรกของ list a ใช้ 0 แล้วนับต่อไปเรื่อยฟ แต่ตัวสุดท้ายใช้ -1 และนับลบลงเรื่อยๆ"
      ]
    },
    {
      "cell_type": "code",
      "metadata": {
        "id": "_sb425S-J7xq",
        "colab": {
          "base_uri": "https://localhost:8080/",
          "height": 34
        },
        "outputId": "7fea657f-3a79-4cd7-bff0-a196c3386724"
      },
      "source": [
        "list_a[0] #เรียกค่าใน list สมาชิกตัวที่ 0"
      ],
      "execution_count": null,
      "outputs": [
        {
          "output_type": "execute_result",
          "data": {
            "text/plain": [
              "1"
            ]
          },
          "metadata": {
            "tags": []
          },
          "execution_count": 43
        }
      ]
    },
    {
      "cell_type": "code",
      "metadata": {
        "id": "ggGo-ZYCJ8Ot",
        "colab": {
          "base_uri": "https://localhost:8080/",
          "height": 35
        },
        "outputId": "dc18d76d-39bb-471e-cdfe-a87af0977889"
      },
      "source": [
        "list_a[-1] #ตัวสุดท้ายคือ -1"
      ],
      "execution_count": null,
      "outputs": [
        {
          "output_type": "execute_result",
          "data": {
            "text/plain": [
              "19"
            ]
          },
          "metadata": {
            "tags": []
          },
          "execution_count": 6
        }
      ]
    },
    {
      "cell_type": "markdown",
      "metadata": {
        "id": "y3GuPy00LlbJ"
      },
      "source": [
        " len คือ ความยาวของ list ว่ามีสมาชิกกี่ตัว"
      ]
    },
    {
      "cell_type": "code",
      "metadata": {
        "id": "jT8x8ABpL4ok",
        "colab": {
          "base_uri": "https://localhost:8080/",
          "height": 34
        },
        "outputId": "9ccc2c5c-25de-4e6c-a9dc-b12057eb1f1e"
      },
      "source": [
        "len(list_a) #len คือ ความยาวของ list_a ว่ามีสมาชิกกี่ตัว"
      ],
      "execution_count": null,
      "outputs": [
        {
          "output_type": "execute_result",
          "data": {
            "text/plain": [
              "4"
            ]
          },
          "metadata": {
            "tags": []
          },
          "execution_count": 44
        }
      ]
    },
    {
      "cell_type": "markdown",
      "metadata": {
        "id": "VrLO7gpPMFsg"
      },
      "source": [
        "โดยใน list สามารถใส่ค่าอะไรก็ได้ ลงไปในlist ไม่จำเป็นต้องเป็นตัวเลข ตัวหนังสือ ข้อความ ก็ได้ "
      ]
    },
    {
      "cell_type": "code",
      "metadata": {
        "id": "VdPPZUVyL5Dj"
      },
      "source": [
        "list_b =[1,4,'thai',['a',3,9]]"
      ],
      "execution_count": null,
      "outputs": []
    },
    {
      "cell_type": "markdown",
      "metadata": {
        "id": "gxSc25DcMqWR"
      },
      "source": [
        "ถ้าเราต้องการรุ้ค้าที่อยู่ข้างใน list อีก ที่สามารถเรียกได้จาก การเลือกตัวสมาชิกในlist นั้นอีกที เช่น เลือกตัวสุดท้ายใน list และเลือกตัวแรกในlist สุดท้าย"
      ]
    },
    {
      "cell_type": "code",
      "metadata": {
        "id": "qWeH075FL5nZ",
        "colab": {
          "base_uri": "https://localhost:8080/",
          "height": 34
        },
        "outputId": "93f3dbc0-de2d-4123-fe87-27e3b9e36cca"
      },
      "source": [
        "list_b[-1][0]"
      ],
      "execution_count": null,
      "outputs": [
        {
          "output_type": "execute_result",
          "data": {
            "application/vnd.google.colaboratory.intrinsic+json": {
              "type": "string"
            },
            "text/plain": [
              "'a'"
            ]
          },
          "metadata": {
            "tags": []
          },
          "execution_count": 46
        }
      ]
    },
    {
      "cell_type": "markdown",
      "metadata": {
        "id": "n0N33iPMNQPK"
      },
      "source": [
        "ใน list จะมีการบวกเพียงอย่างเดียวเท่านั้น โดยการนำ list มาต่อกัน โดยจะเขียน 2 ค่า คือการบวกกัน ก็คือการนำค่ามาต่อกันแล้วเขียน list ที่รวมซ้ำเพื่อให้แสดงค่า"
      ]
    },
    {
      "cell_type": "code",
      "metadata": {
        "id": "rNA9vGeFN0Cm",
        "colab": {
          "base_uri": "https://localhost:8080/",
          "height": 34
        },
        "outputId": "dfe344fc-ea91-4982-cef1-4b9dfc77e6db"
      },
      "source": [
        "list_c = list_a + list_b #list สามารถ + กันได้\n",
        "list_c"
      ],
      "execution_count": null,
      "outputs": [
        {
          "output_type": "execute_result",
          "data": {
            "text/plain": [
              "[1, 3, 7, 19, 1, 4, 'thai', ['a', 3, 9]]"
            ]
          },
          "metadata": {
            "tags": []
          },
          "execution_count": 47
        }
      ]
    },
    {
      "cell_type": "markdown",
      "metadata": {
        "id": "840kLv2BOOSO"
      },
      "source": [
        "การสร้าง list ว่างแบบที่ 1 และ2 โดยค่า list นั้นคือฟังก์ชั่นการสร้าง list"
      ]
    },
    {
      "cell_type": "code",
      "metadata": {
        "id": "77bDc5puN0ag"
      },
      "source": [
        "list_a1 = []"
      ],
      "execution_count": null,
      "outputs": []
    },
    {
      "cell_type": "code",
      "metadata": {
        "id": "g5dS1YRCN0_e"
      },
      "source": [
        "list_a2 =()"
      ],
      "execution_count": null,
      "outputs": []
    },
    {
      "cell_type": "markdown",
      "metadata": {
        "id": "xEqiktL1O9Km"
      },
      "source": [
        "การเพิ่มสมาชิกเข้าไปใน list ว่าง คือการใช้ .append"
      ]
    },
    {
      "cell_type": "markdown",
      "metadata": {
        "id": "50DNu6mpPMpo"
      },
      "source": [
        ""
      ]
    },
    {
      "cell_type": "code",
      "metadata": {
        "id": "2admPy9yPNXQ",
        "colab": {
          "base_uri": "https://localhost:8080/",
          "height": 34
        },
        "outputId": "5337a762-2623-4946-8255-9a6b4c0e1d0a"
      },
      "source": [
        "list_a1.append(666)\n",
        "list_a1"
      ],
      "execution_count": null,
      "outputs": [
        {
          "output_type": "execute_result",
          "data": {
            "text/plain": [
              "[666]"
            ]
          },
          "metadata": {
            "tags": []
          },
          "execution_count": 50
        }
      ]
    },
    {
      "cell_type": "code",
      "metadata": {
        "id": "sGUgHrx5PNvs",
        "colab": {
          "base_uri": "https://localhost:8080/",
          "height": 51
        },
        "outputId": "3b07da51-2b98-4bd2-e971-574438a72f08"
      },
      "source": [
        "print(list_c)\n",
        "list_c.append(1234)\n",
        "print(list_c)"
      ],
      "execution_count": null,
      "outputs": [
        {
          "output_type": "stream",
          "text": [
            "[1, 3, 7, 19, 1, 4, 'thai', ['a', 3, 9]]\n",
            "[1, 3, 7, 19, 1, 4, 'thai', ['a', 3, 9], 1234]\n"
          ],
          "name": "stdout"
        }
      ]
    },
    {
      "cell_type": "markdown",
      "metadata": {
        "id": "7yRB9DoJqmHU"
      },
      "source": [
        "#String is a list "
      ]
    },
    {
      "cell_type": "code",
      "metadata": {
        "id": "eggbSW6NPONP"
      },
      "source": [
        "word_a = 'statistics KKU'"
      ],
      "execution_count": null,
      "outputs": []
    },
    {
      "cell_type": "code",
      "metadata": {
        "id": "QX9AtAOIPOka",
        "colab": {
          "base_uri": "https://localhost:8080/",
          "height": 34
        },
        "outputId": "3d53b18f-20ac-4673-9206-56424f241ef1"
      },
      "source": [
        "word_a[-1]"
      ],
      "execution_count": null,
      "outputs": [
        {
          "output_type": "execute_result",
          "data": {
            "application/vnd.google.colaboratory.intrinsic+json": {
              "type": "string"
            },
            "text/plain": [
              "'U'"
            ]
          },
          "metadata": {
            "tags": []
          },
          "execution_count": 53
        }
      ]
    },
    {
      "cell_type": "code",
      "metadata": {
        "id": "zCUnRBfGQMWq",
        "colab": {
          "base_uri": "https://localhost:8080/",
          "height": 34
        },
        "outputId": "745c2ccb-1771-4fed-e514-a6cfa1797274"
      },
      "source": [
        "word_a + 'thailand'"
      ],
      "execution_count": null,
      "outputs": [
        {
          "output_type": "execute_result",
          "data": {
            "application/vnd.google.colaboratory.intrinsic+json": {
              "type": "string"
            },
            "text/plain": [
              "'statistics KKUthailand'"
            ]
          },
          "metadata": {
            "tags": []
          },
          "execution_count": 54
        }
      ]
    },
    {
      "cell_type": "code",
      "metadata": {
        "id": "NkQtCwjfQOLy",
        "colab": {
          "base_uri": "https://localhost:8080/",
          "height": 34
        },
        "outputId": "31a667fe-9484-45aa-b1e0-26e75388a1a8"
      },
      "source": [
        "len(word_a)"
      ],
      "execution_count": null,
      "outputs": [
        {
          "output_type": "execute_result",
          "data": {
            "text/plain": [
              "14"
            ]
          },
          "metadata": {
            "tags": []
          },
          "execution_count": 55
        }
      ]
    },
    {
      "cell_type": "markdown",
      "metadata": {
        "id": "CIzs7VdYQsfb"
      },
      "source": [
        " f เป็นการจัดการ หรือ format ของ sting"
      ]
    },
    {
      "cell_type": "code",
      "metadata": {
        "id": "xsJ_BCrVQOxS",
        "colab": {
          "base_uri": "https://localhost:8080/",
          "height": 34
        },
        "outputId": "a5992305-00c3-4a6d-efbf-e6981e0e98de"
      },
      "source": [
        "st_x = f'list_c = {list_c}'\n",
        "st_x"
      ],
      "execution_count": null,
      "outputs": [
        {
          "output_type": "execute_result",
          "data": {
            "application/vnd.google.colaboratory.intrinsic+json": {
              "type": "string"
            },
            "text/plain": [
              "\"list_c = [1, 3, 7, 19, 1, 4, 'thai', ['a', 3, 9], 1234]\""
            ]
          },
          "metadata": {
            "tags": []
          },
          "execution_count": 56
        }
      ]
    },
    {
      "cell_type": "markdown",
      "metadata": {
        "id": "mqE5L1jaRIEy"
      },
      "source": [
        "ความสามารถพิเศษของ sting ใน python เราสามารถแทรกตัวแปรอะไรก็ได้ "
      ]
    },
    {
      "cell_type": "code",
      "metadata": {
        "id": "zCuENHKgRJdy",
        "colab": {
          "base_uri": "https://localhost:8080/",
          "height": 34
        },
        "outputId": "06a99486-367a-4e15-ff79-e1b8983c256a"
      },
      "source": [
        "f'modulo example -> 4 mod 3  = {4%3}'"
      ],
      "execution_count": null,
      "outputs": [
        {
          "output_type": "execute_result",
          "data": {
            "application/vnd.google.colaboratory.intrinsic+json": {
              "type": "string"
            },
            "text/plain": [
              "'modulo example -> 4 mod 3  = 1'"
            ]
          },
          "metadata": {
            "tags": []
          },
          "execution_count": 57
        }
      ]
    },
    {
      "cell_type": "markdown",
      "metadata": {
        "id": "vnqysbY3R13m"
      },
      "source": [
        " % การหารเศษ"
      ]
    },
    {
      "cell_type": "code",
      "metadata": {
        "id": "CW8GgUtERKEb",
        "colab": {
          "base_uri": "https://localhost:8080/",
          "height": 221
        },
        "outputId": "7573e88d-2bf5-459c-837e-93286a2fe697"
      },
      "source": [
        "print(st_x)\n",
        "st_x.split(',')"
      ],
      "execution_count": null,
      "outputs": [
        {
          "output_type": "stream",
          "text": [
            "list_c = [1, 3, 7, 19, 1, 4, 'thai', ['a', 3, 9], 1234]\n"
          ],
          "name": "stdout"
        },
        {
          "output_type": "execute_result",
          "data": {
            "text/plain": [
              "['list_c = [1',\n",
              " ' 3',\n",
              " ' 7',\n",
              " ' 19',\n",
              " ' 1',\n",
              " ' 4',\n",
              " \" 'thai'\",\n",
              " \" ['a'\",\n",
              " ' 3',\n",
              " ' 9]',\n",
              " ' 1234]']"
            ]
          },
          "metadata": {
            "tags": []
          },
          "execution_count": 58
        }
      ]
    },
    {
      "cell_type": "markdown",
      "metadata": {
        "id": "pOLvlgR2Sz4y"
      },
      "source": [
        ".split  คือคำสั่งแยก การใส่ (’,’) คือการตัด ,"
      ]
    },
    {
      "cell_type": "code",
      "metadata": {
        "id": "5WSy6BHtRK8U"
      },
      "source": [
        "print(st_x)\n",
        "st_x.split(', ')"
      ],
      "execution_count": null,
      "outputs": []
    },
    {
      "cell_type": "markdown",
      "metadata": {
        "id": "BCcDsQeOUYHv"
      },
      "source": [
        "#loop"
      ]
    },
    {
      "cell_type": "code",
      "metadata": {
        "id": "DC-_aAWkUg9s",
        "colab": {
          "base_uri": "https://localhost:8080/",
          "height": 153
        },
        "outputId": "cd807c91-73ad-4545-ec65-3ca6c54b0782"
      },
      "source": [
        "for i in [1,2,3,4] :\n",
        "    print(f'frist line{i}')\n",
        "    print(f'second line{2*i}')"
      ],
      "execution_count": null,
      "outputs": [
        {
          "output_type": "stream",
          "text": [
            "frist line1\n",
            "second line2\n",
            "frist line2\n",
            "second line4\n",
            "frist line3\n",
            "second line6\n",
            "frist line4\n",
            "second line8\n"
          ],
          "name": "stdout"
        }
      ]
    },
    {
      "cell_type": "markdown",
      "metadata": {
        "id": "392l5N3uU7g-"
      },
      "source": [
        "การเว้นว่าง คือการจัด spac ให้เท่ากัน"
      ]
    },
    {
      "cell_type": "code",
      "metadata": {
        "id": "wwubaVSMVhY5",
        "colab": {
          "base_uri": "https://localhost:8080/",
          "height": 89
        },
        "outputId": "3c736f2b-37e3-4d2e-921c-fe701c5b529e"
      },
      "source": [
        "for i in [1,2,3,4] : \n",
        "       print ('HaHaHa')"
      ],
      "execution_count": null,
      "outputs": [
        {
          "output_type": "stream",
          "text": [
            "HaHaHa\n",
            "HaHaHa\n",
            "HaHaHa\n",
            "HaHaHa\n"
          ],
          "name": "stdout"
        }
      ]
    },
    {
      "cell_type": "code",
      "metadata": {
        "id": "IHV8Lx7kVjTG",
        "colab": {
          "base_uri": "https://localhost:8080/",
          "height": 85
        },
        "outputId": "b3639231-94bb-42a2-b6c3-aad9c4fde12b"
      },
      "source": [
        "for  x in list_a:\n",
        "      print(x)"
      ],
      "execution_count": null,
      "outputs": [
        {
          "output_type": "stream",
          "text": [
            "1\n",
            "3\n",
            "7\n",
            "19\n"
          ],
          "name": "stdout"
        }
      ]
    },
    {
      "cell_type": "code",
      "metadata": {
        "id": "ixmlkg7IWXoG",
        "colab": {
          "base_uri": "https://localhost:8080/",
          "height": 34
        },
        "outputId": "163a561a-d64f-4e14-eb25-484a8f38fa26"
      },
      "source": [
        "range(6)"
      ],
      "execution_count": null,
      "outputs": [
        {
          "output_type": "execute_result",
          "data": {
            "text/plain": [
              "range(0, 6)"
            ]
          },
          "metadata": {
            "tags": []
          },
          "execution_count": 61
        }
      ]
    },
    {
      "cell_type": "code",
      "metadata": {
        "id": "0LDw_fwKWYSD",
        "colab": {
          "base_uri": "https://localhost:8080/",
          "height": 119
        },
        "outputId": "71ba3b6a-27b4-4191-dbbc-f25fc64ac062"
      },
      "source": [
        "for i in range(6) :\n",
        "      print(i)"
      ],
      "execution_count": null,
      "outputs": [
        {
          "output_type": "stream",
          "text": [
            "0\n",
            "1\n",
            "2\n",
            "3\n",
            "4\n",
            "5\n"
          ],
          "name": "stdout"
        }
      ]
    },
    {
      "cell_type": "code",
      "metadata": {
        "id": "g-R5BdyJXagR",
        "colab": {
          "base_uri": "https://localhost:8080/",
          "height": 272
        },
        "outputId": "6703e03f-862d-4745-afea-5246f5c8ec7a"
      },
      "source": [
        "for i in  range(3) :\n",
        "     print('start inner')\n",
        "     for j in  range(3) :\n",
        "           print(f'i = {i},j = {j} ixj = {i*j}')\n",
        "     print('end inner')"
      ],
      "execution_count": null,
      "outputs": [
        {
          "output_type": "stream",
          "text": [
            "start inner\n",
            "i = 0,j = 0 ixj = 0\n",
            "i = 0,j = 1 ixj = 0\n",
            "i = 0,j = 2 ixj = 0\n",
            "end inner\n",
            "start inner\n",
            "i = 1,j = 0 ixj = 0\n",
            "i = 1,j = 1 ixj = 1\n",
            "i = 1,j = 2 ixj = 2\n",
            "end inner\n",
            "start inner\n",
            "i = 2,j = 0 ixj = 0\n",
            "i = 2,j = 1 ixj = 2\n",
            "i = 2,j = 2 ixj = 4\n",
            "end inner\n"
          ],
          "name": "stdout"
        }
      ]
    },
    {
      "cell_type": "markdown",
      "metadata": {
        "id": "y6G7EwzGZoJi"
      },
      "source": [
        "if statement (<,>,<=,>=,==,=!)"
      ]
    },
    {
      "cell_type": "code",
      "metadata": {
        "id": "Ii5SXA3zXbu2"
      },
      "source": [
        "stringX = ' abcdefghijklmnopq'\n",
        "if len(stringX) > 100:\n",
        "    print('stringX is longer than 6 ')"
      ],
      "execution_count": null,
      "outputs": []
    },
    {
      "cell_type": "code",
      "metadata": {
        "id": "2FEpPRuSXaNY",
        "colab": {
          "base_uri": "https://localhost:8080/",
          "height": 34
        },
        "outputId": "6e633e8c-e0ed-44f3-e18e-66f0f3e9339c"
      },
      "source": [
        "stringX = 'abcdefghijklmnopq'\n",
        "if len(stringX) > 100:\n",
        "   print('stringX is longer than 6')\n",
        "else :\n",
        "   print('xxx')"
      ],
      "execution_count": null,
      "outputs": [
        {
          "output_type": "stream",
          "text": [
            "xxx\n"
          ],
          "name": "stdout"
        }
      ]
    },
    {
      "cell_type": "code",
      "metadata": {
        "id": "luCcIdudbFir",
        "colab": {
          "base_uri": "https://localhost:8080/",
          "height": 34
        },
        "outputId": "9c45e7f2-9307-460d-99f8-d27d3a982306"
      },
      "source": [
        "stringX = 'abcdefghijklmnopq'\n",
        "if len(stringX)  < 10:\n",
        "    print('StringX is shorter than 10')\n",
        "elif len(stringX) == 17:\n",
        "      print(stringX)\n",
        "else:\n",
        "      print('xxx')"
      ],
      "execution_count": null,
      "outputs": [
        {
          "output_type": "stream",
          "text": [
            "abcdefghijklmnopq\n"
          ],
          "name": "stdout"
        }
      ]
    },
    {
      "cell_type": "markdown",
      "metadata": {
        "id": "ktxq3tXRcQm2"
      },
      "source": [
        "#Exercise 1"
      ]
    },
    {
      "cell_type": "markdown",
      "metadata": {
        "id": "PZM8DBYlcbul"
      },
      "source": [
        "หาค่ามากที่สุดใน list_EX = [-4,-1,-9,8,11] โดยไม่ใช่ function max()"
      ]
    },
    {
      "cell_type": "code",
      "metadata": {
        "id": "S3gusUQJbGTq",
        "colab": {
          "base_uri": "https://localhost:8080/",
          "height": 107
        },
        "outputId": "f377f842-238b-402b-e5a9-e0545fe70337"
      },
      "source": [
        "list_EX =  [-4,-1,8,11]\n",
        "MAXIMUM = -1000000000\n",
        "for i in list_EX:\n",
        "     if i  >  MAXIMUM :\n",
        "      MAXIMUM = i\n",
        "      print ( f' now maximum is {MAXIMUM}')\n",
        "print(f'Answer is {MAXIMUM} is the maximum number of {list_EX}')"
      ],
      "execution_count": null,
      "outputs": [
        {
          "output_type": "stream",
          "text": [
            " now maximum is -4\n",
            " now maximum is -1\n",
            " now maximum is 8\n",
            " now maximum is 11\n",
            "Answer is 11 is the maximum number of [-4, -1, 8, 11]\n"
          ],
          "name": "stdout"
        }
      ]
    },
    {
      "cell_type": "markdown",
      "metadata": {
        "id": "2MPld9gae4lD"
      },
      "source": [
        ""
      ]
    },
    {
      "cell_type": "markdown",
      "metadata": {
        "id": "wy5pwb3vfAGs"
      },
      "source": [
        ""
      ]
    },
    {
      "cell_type": "code",
      "metadata": {
        "id": "3RrIY-SEc1DJ",
        "colab": {
          "base_uri": "https://localhost:8080/",
          "height": 119
        },
        "outputId": "aee008af-049a-47ce-f05e-c751299908ee"
      },
      "source": [
        "list_EX = [-4,-1,-9,8,11]\n",
        "MAXIMUM = -100000000\n",
        "for i in list_EX :\n",
        "     if i > MAXIMUM:\n",
        "        print (f'{i}>{MAXIMUM} UPDATE!, ' , end=' ')\n",
        "        MAXIMUM = i \n",
        "        print ( f' {i}> MAXIMUM) NOT UPDATE!, now maximum is {MAXIMUM}')\n",
        "else :\n",
        "        print(f'{i}<MAXIMUM) NOT UPDATE!, now maximum is {MAXIMUM}')  \n",
        "print(f' Answer is {MAXIMUM} is the maximum number of {list_EX}')"
      ],
      "execution_count": null,
      "outputs": [
        {
          "output_type": "stream",
          "text": [
            "-4>-100000000 UPDATE!,   -4> MAXIMUM) NOT UPDATE!, now maximum is -4\n",
            "-1>-4 UPDATE!,   -1> MAXIMUM) NOT UPDATE!, now maximum is -1\n",
            "8>-1 UPDATE!,   8> MAXIMUM) NOT UPDATE!, now maximum is 8\n",
            "11>8 UPDATE!,   11> MAXIMUM) NOT UPDATE!, now maximum is 11\n",
            "11<MAXIMUM) NOT UPDATE!, now maximum is 11\n",
            " Answer is 11 is the maximum number of [-4, -1, -9, 8, 11]\n"
          ],
          "name": "stdout"
        }
      ]
    },
    {
      "cell_type": "markdown",
      "metadata": {
        "id": "usIMace2kEec"
      },
      "source": [
        "##HW\n"
      ]
    },
    {
      "cell_type": "markdown",
      "metadata": {
        "id": "zpgFlp5BkJeI"
      },
      "source": [
        "เขียน functionเรียงลำดับใน list_EX = [-4,-1,-9,8,11] จากค่ามากที่สุดไปน้อยที่สุด โดยใช้ funtion sort()"
      ]
    },
    {
      "cell_type": "code",
      "metadata": {
        "id": "Fyy0CZTbBL3k",
        "colab": {
          "base_uri": "https://localhost:8080/",
          "height": 34
        },
        "outputId": "00ff6cd2-9041-4902-a147-093a18e564b8"
      },
      "source": [
        "list_EX = [-4,-1,-9,8,11]\n",
        "sizeList_EX = len(list_EX) #5\n",
        "sizeSort = sizeList_EX -1 #4\n",
        "for index in range(sizeList_EX):\n",
        "     for j in range(sizeSort):\n",
        "          if list_EX[j] < list_EX[j+1]:\n",
        "             tmp = list_EX[j]\n",
        "             list_EX[j] = list_EX[j+1]\n",
        "             list_EX[j+1] = tmp\n",
        "print(list_EX)"
      ],
      "execution_count": null,
      "outputs": [
        {
          "output_type": "stream",
          "text": [
            "[11, 8, -1, -4, -9]\n"
          ],
          "name": "stdout"
        }
      ]
    },
    {
      "cell_type": "markdown",
      "metadata": {
        "id": "N6ZEM90EL3hM"
      },
      "source": [
        "ใช้คำสั่ง sort ในการเรียงลำดับ"
      ]
    },
    {
      "cell_type": "markdown",
      "metadata": {
        "id": "eMEwJepsktPc"
      },
      "source": [
        "#Funtion()\n",
        "\n",
        "\n",
        " คือ การทำงานที่แปลงค่าข้อมูล input แล้ว output ออกมา"
      ]
    },
    {
      "cell_type": "code",
      "metadata": {
        "id": "XyvcAdERlDbo"
      },
      "source": [
        "def find_max(in_list):\n",
        "      MAXIMUM = -100000000\n",
        "      for i in in_list :\n",
        "           if i > MAXIMUM:\n",
        "              print(f'{i}>{MAXIMUM} UPDATE!, ' , end=' ')\n",
        "              MAXIMUM = i\n",
        "              print(f'now maximum is {MAXIMUM}')\n",
        "           else :\n",
        "              print(f'{i}<{MAXIMUM} NOT UPDATE!, now maximum is {MAXIMUM}')\n",
        "      print(f'The answer is {MAXIMUM} is the  maximum number of { in_list}')\n"
      ],
      "execution_count": null,
      "outputs": []
    },
    {
      "cell_type": "code",
      "metadata": {
        "id": "Ac7A7k5MnvBn",
        "colab": {
          "base_uri": "https://localhost:8080/",
          "height": 119
        },
        "outputId": "3f5d1ba8-d895-4fe0-eeed-ef359675a243"
      },
      "source": [
        "find_max([12,16666,912312,-2,77])"
      ],
      "execution_count": null,
      "outputs": [
        {
          "output_type": "stream",
          "text": [
            "12>-100000000 UPDATE!,  now maximum is 12\n",
            "16666>12 UPDATE!,  now maximum is 16666\n",
            "912312>16666 UPDATE!,  now maximum is 912312\n",
            "-2<912312 NOT UPDATE!, now maximum is 912312\n",
            "77<912312 NOT UPDATE!, now maximum is 912312\n",
            "The answer is 912312 is the  maximum number of [12, 16666, 912312, -2, 77]\n"
          ],
          "name": "stdout"
        }
      ]
    },
    {
      "cell_type": "markdown",
      "metadata": {
        "id": "W8h2QkBfpKov"
      },
      "source": [
        ""
      ]
    },
    {
      "cell_type": "code",
      "metadata": {
        "id": "kH8T2Zfcpad5",
        "colab": {
          "base_uri": "https://localhost:8080/",
          "height": 119
        },
        "outputId": "053afe39-582c-44a5-e676-8e7263816278"
      },
      "source": [
        "a = find_max([12,16666,912312,-2,77])"
      ],
      "execution_count": null,
      "outputs": [
        {
          "output_type": "stream",
          "text": [
            "12>-100000000 UPDATE!,  now maximum is 12\n",
            "16666>12 UPDATE!,  now maximum is 16666\n",
            "912312>16666 UPDATE!,  now maximum is 912312\n",
            "-2<912312 NOT UPDATE!, now maximum is 912312\n",
            "77<912312 NOT UPDATE!, now maximum is 912312\n",
            "The answer is 912312 is the  maximum number of [12, 16666, 912312, -2, 77]\n"
          ],
          "name": "stdout"
        }
      ]
    },
    {
      "cell_type": "markdown",
      "metadata": {
        "id": "fPLitM7Jii6M"
      },
      "source": [
        "##List Slicing"
      ]
    },
    {
      "cell_type": "code",
      "metadata": {
        "id": "W5F1xwL9jLv3"
      },
      "source": [
        "example_list=list(range(-4,99,33))"
      ],
      "execution_count": null,
      "outputs": []
    },
    {
      "cell_type": "code",
      "metadata": {
        "id": "KqoQjkIKjOIW",
        "colab": {
          "base_uri": "https://localhost:8080/",
          "height": 34
        },
        "outputId": "3a878996-4291-485e-f81d-7fef37570c32"
      },
      "source": [
        "example_list[0:10]"
      ],
      "execution_count": null,
      "outputs": [
        {
          "output_type": "execute_result",
          "data": {
            "text/plain": [
              "[-4, 29, 62, 95]"
            ]
          },
          "metadata": {
            "tags": []
          },
          "execution_count": 74
        }
      ]
    },
    {
      "cell_type": "markdown",
      "metadata": {
        "id": "R19j6Yzkj7Kk"
      },
      "source": [
        "#ตัวอย่าง"
      ]
    },
    {
      "cell_type": "code",
      "metadata": {
        "id": "rLRhdUObjNBC",
        "colab": {
          "base_uri": "https://localhost:8080/",
          "height": 34
        },
        "outputId": "d4064622-cd73-4531-8f61-fd70f6cc85fc"
      },
      "source": [
        "example_list[-10:]"
      ],
      "execution_count": null,
      "outputs": [
        {
          "output_type": "execute_result",
          "data": {
            "text/plain": [
              "[-4, 29, 62, 95]"
            ]
          },
          "metadata": {
            "tags": []
          },
          "execution_count": 75
        }
      ]
    },
    {
      "cell_type": "code",
      "metadata": {
        "id": "UBCCYGWqkBXj",
        "colab": {
          "base_uri": "https://localhost:8080/",
          "height": 34
        },
        "outputId": "3a1bfe93-6eaa-42a6-a1a0-8af1011d4b91"
      },
      "source": [
        "example_list[9:-2:4]"
      ],
      "execution_count": null,
      "outputs": [
        {
          "output_type": "execute_result",
          "data": {
            "text/plain": [
              "[]"
            ]
          },
          "metadata": {
            "tags": []
          },
          "execution_count": 76
        }
      ]
    },
    {
      "cell_type": "code",
      "metadata": {
        "id": "DlgJn1CZkCEZ",
        "colab": {
          "base_uri": "https://localhost:8080/",
          "height": 34
        },
        "outputId": "352f5d02-67b6-41ab-c7a7-dafc24d81442"
      },
      "source": [
        "example_list[::-1]"
      ],
      "execution_count": null,
      "outputs": [
        {
          "output_type": "execute_result",
          "data": {
            "text/plain": [
              "[95, 62, 29, -4]"
            ]
          },
          "metadata": {
            "tags": []
          },
          "execution_count": 77
        }
      ]
    },
    {
      "cell_type": "markdown",
      "metadata": {
        "id": "Vup_iqjSk5I2"
      },
      "source": [
        "pd, os, scatter plot, กาารหาค่ากลาง, ควอไทน์ที่ 1, if, List Slicing\n",
        "\n",
        ".head(‘จำนวน row ที่อยากได้ออกมาแสดงนับจากแถวบนสุด’) เช่น dt.head(8)\n",
        "\n",
        ".tail\n",
        "\n",
        ".shape บอกจำนวน แถว หลัก\n",
        "\n",
        ".append(ตัวเลขที่จะเพิ่มเข้าไป)\n",
        "\n",
        ".sort() เรียงน้อย ->มาก\n",
        "\n",
        ".sort(reverse=True) // .reverse() เรียงมาก ->น้อย\n",
        "\n",
        ".sample(9) เพื่อดูข้อมูลแบบสุ่มจำนวน 9 แถว\n",
        "\n",
        ".info เพื่อเรียกดูข้อมูลของ Data Frame\n",
        "\n",
        ".astype(‘ชนิดของข้อมูลที่ต้องการ’) ex. ('int35'), (float55')\n",
        "\n",
        ".describe() การหาค่า (count, mean ,std ,min ,25% ,50% ,75%, max)ของข้อมูลแต่ละ column\n",
        "\n",
        ".isnull() เช็คของมูลที่มีค่าเป็น Null : True คือมี Null\n",
        "\n",
        ".notnull() วิธีเช็คข้อมูล ที่ไม่เป็นเป็น Null\n",
        "\n",
        ".query(‘เงื่อนไขที่ต้องการ’) วิธีกรองข้อมูลแบบมีเงื่อนไข\n",
        "\n",
        ".T สลับ Row กับ Column: transpose\n",
        "\n",
        ".merge(table1, table2, left_on=”column table1”, right_on=”column table2”, how=”รูปแบบการ join”)\n",
        "\n",
        "”inner” “outer” “left” “right”\n",
        "\n",
        ".agg('mean') การหาค่า mean, max , sum (aggregate)ทั้ง dataframe\n",
        "\n",
        ".unique() การหาค่าข้อมูลที่ไม่ซ้ำกันในแต่ละ column ex. data['column'].unique()\n",
        "\n",
        ".duplicated() ex. data.duplicated(['column'])"
      ]
    },
    {
      "cell_type": "markdown",
      "metadata": {
        "id": "6vFC3tGok60k"
      },
      "source": [
        "การนับข้อมูลที่ duplicate() -> len(dataframe[dataframe.duplicated([‘column name’], keep = False)])\n",
        "\n",
        ".replace() การแทนค่าข้อมูลในตาราง ex data.replace(1,50) เลข 1 ให้แทนด้วย 50\n",
        "\n",
        "pd.DataFrame(ชื่อlist)\n",
        "\n",
        ".loc['ชื่อของแถว']\n",
        "\n",
        ".iloc[ลำดับตัวเลข] เริ่มจาก 0\n",
        "\n",
        "list(range(-4,99,3) เริ่มจาก-4 ไปถึง 99 โดยเพิ่มทีละ 3\n",
        "\n",
        "Slicing\n",
        "list[::-1] ย้อน list จากตัวสุดท้าย มาจนถึงตัวแรก"
      ]
    },
    {
      "cell_type": "code",
      "metadata": {
        "id": "D6bPLP2KkCkd"
      },
      "source": [
        ""
      ],
      "execution_count": null,
      "outputs": []
    },
    {
      "cell_type": "code",
      "metadata": {
        "id": "D6U2WGg4kDB6"
      },
      "source": [
        ""
      ],
      "execution_count": null,
      "outputs": []
    }
  ]
}