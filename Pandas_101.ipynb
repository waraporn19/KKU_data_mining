{
  "nbformat": 4,
  "nbformat_minor": 0,
  "metadata": {
    "colab": {
      "name": "Pandas_101.ipynb",
      "provenance": [],
      "authorship_tag": "ABX9TyNSpdEE0mG+slaVJMvTCZ8X",
      "include_colab_link": true
    },
    "kernelspec": {
      "name": "python3",
      "display_name": "Python 3"
    }
  },
  "cells": [
    {
      "cell_type": "markdown",
      "metadata": {
        "id": "view-in-github",
        "colab_type": "text"
      },
      "source": [
        "<a href=\"https://colab.research.google.com/github/waraporn19/KKU_data_mining/blob/master/Pandas_101.ipynb\" target=\"_parent\"><img src=\"https://colab.research.google.com/assets/colab-badge.svg\" alt=\"Open In Colab\"/></a>"
      ]
    },
    {
      "cell_type": "code",
      "metadata": {
        "id": "o06kpKnXWShf"
      },
      "source": [
        "import pandas"
      ],
      "execution_count": null,
      "outputs": []
    },
    {
      "cell_type": "code",
      "metadata": {
        "id": "m5mEGuTfYLbg",
        "outputId": "fe1c0b4f-58b8-47ec-f662-681c18172bea",
        "colab": {
          "base_uri": "https://localhost:8080/",
          "height": 34
        }
      },
      "source": [
        "from google.colab import drive\n",
        "drive.mount('/content/drive')"
      ],
      "execution_count": null,
      "outputs": [
        {
          "output_type": "stream",
          "text": [
            "Mounted at /content/drive\n"
          ],
          "name": "stdout"
        }
      ]
    },
    {
      "cell_type": "code",
      "metadata": {
        "id": "8RBQvA9nYf84"
      },
      "source": [
        "# เรียกใช้ฟังก์ชั่น os\n",
        "import os"
      ],
      "execution_count": null,
      "outputs": []
    },
    {
      "cell_type": "code",
      "metadata": {
        "id": "z89l3Uo4aeNX"
      },
      "source": [
        "#ให้ข้อมูลที่อยู่ใน Drive แทนด้วยชื่อ path\n",
        "path = '/content/drive/My Drive/DWDM_material'"
      ],
      "execution_count": null,
      "outputs": []
    },
    {
      "cell_type": "code",
      "metadata": {
        "id": "O5DrgNWgagJq"
      },
      "source": [
        "\n",
        "search_click = os.path.join(path,'search_click.csv')\n",
        "w_restaurant = os.path.join(path,'w_restaurant.csv')"
      ],
      "execution_count": null,
      "outputs": []
    },
    {
      "cell_type": "code",
      "metadata": {
        "id": "v3txlUt4anIO"
      },
      "source": [
        "\n",
        "import pandas"
      ],
      "execution_count": null,
      "outputs": []
    },
    {
      "cell_type": "code",
      "metadata": {
        "id": "sDHMS-BWagVW",
        "outputId": "d21b4a8e-2b12-40ac-dc52-2e4f4bb72241",
        "colab": {
          "base_uri": "https://localhost:8080/",
          "height": 204
        }
      },
      "source": [
        "search_click_df = pandas.read_csv(search_click) # อ่านข้อมูลที่อยู่ในไฟล์ search_click โดยให้อยู่ในชื่อ search_click_df\n",
        "search_click_df.head() # เรียกดูข้อมูลในไฟล์ search_click_df"
      ],
      "execution_count": null,
      "outputs": [
        {
          "output_type": "execute_result",
          "data": {
            "text/html": [
              "<div>\n",
              "<style scoped>\n",
              "    .dataframe tbody tr th:only-of-type {\n",
              "        vertical-align: middle;\n",
              "    }\n",
              "\n",
              "    .dataframe tbody tr th {\n",
              "        vertical-align: top;\n",
              "    }\n",
              "\n",
              "    .dataframe thead th {\n",
              "        text-align: right;\n",
              "    }\n",
              "</style>\n",
              "<table border=\"1\" class=\"dataframe\">\n",
              "  <thead>\n",
              "    <tr style=\"text-align: right;\">\n",
              "      <th></th>\n",
              "      <th>click_timestamp</th>\n",
              "      <th>search_id</th>\n",
              "      <th>business_id</th>\n",
              "      <th>display_position</th>\n",
              "      <th>time_diff_nanos</th>\n",
              "      <th>ads</th>\n",
              "    </tr>\n",
              "  </thead>\n",
              "  <tbody>\n",
              "    <tr>\n",
              "      <th>0</th>\n",
              "      <td>11:38.9</td>\n",
              "      <td>5c004472-5ecc-4159-9698-9f329b8e26e1</td>\n",
              "      <td>298839.0</td>\n",
              "      <td>0</td>\n",
              "      <td>2.222400e+15</td>\n",
              "      <td>True</td>\n",
              "    </tr>\n",
              "    <tr>\n",
              "      <th>1</th>\n",
              "      <td>30:51.3</td>\n",
              "      <td>5f34eca0-c04e-4c10-b600-54aa447dbd8e</td>\n",
              "      <td>171372.0</td>\n",
              "      <td>0</td>\n",
              "      <td>4.608380e+14</td>\n",
              "      <td>True</td>\n",
              "    </tr>\n",
              "    <tr>\n",
              "      <th>2</th>\n",
              "      <td>32:09.6</td>\n",
              "      <td>8dc6d1f0-11f1-4239-9dd2-5c1674c81224</td>\n",
              "      <td>16157.0</td>\n",
              "      <td>0</td>\n",
              "      <td>2.581490e+15</td>\n",
              "      <td>True</td>\n",
              "    </tr>\n",
              "    <tr>\n",
              "      <th>3</th>\n",
              "      <td>00:59.8</td>\n",
              "      <td>1a5810e9-3d1f-44b9-9a2e-26ede21c524b</td>\n",
              "      <td>89741.0</td>\n",
              "      <td>1</td>\n",
              "      <td>1.404580e+15</td>\n",
              "      <td>True</td>\n",
              "    </tr>\n",
              "    <tr>\n",
              "      <th>4</th>\n",
              "      <td>23:36.8</td>\n",
              "      <td>6bc75e0d-fc65-471e-9926-ff6be6708639</td>\n",
              "      <td>189564.0</td>\n",
              "      <td>1</td>\n",
              "      <td>9.333590e+14</td>\n",
              "      <td>True</td>\n",
              "    </tr>\n",
              "  </tbody>\n",
              "</table>\n",
              "</div>"
            ],
            "text/plain": [
              "  click_timestamp                             search_id  ...  time_diff_nanos   ads\n",
              "0         11:38.9  5c004472-5ecc-4159-9698-9f329b8e26e1  ...     2.222400e+15  True\n",
              "1         30:51.3  5f34eca0-c04e-4c10-b600-54aa447dbd8e  ...     4.608380e+14  True\n",
              "2         32:09.6  8dc6d1f0-11f1-4239-9dd2-5c1674c81224  ...     2.581490e+15  True\n",
              "3         00:59.8  1a5810e9-3d1f-44b9-9a2e-26ede21c524b  ...     1.404580e+15  True\n",
              "4         23:36.8  6bc75e0d-fc65-471e-9926-ff6be6708639  ...     9.333590e+14  True\n",
              "\n",
              "[5 rows x 6 columns]"
            ]
          },
          "metadata": {
            "tags": []
          },
          "execution_count": 8
        }
      ]
    },
    {
      "cell_type": "code",
      "metadata": {
        "id": "rwdlTRkSa63L",
        "outputId": "a4d91eaa-9a4a-4911-a6e1-c92b64537e13",
        "colab": {
          "base_uri": "https://localhost:8080/",
          "height": 377
        }
      },
      "source": [
        "w_restaurant_df = pandas.read_csv(w_restaurant) # อ่านข้อมูลที่อยู่ในไฟล์ w_restaurant โดยให้อยู่ในชื่อ w_restaurant_df\n",
        "w_restaurant_df.head() # เรียกดูข้อมูลในไฟล์ w_restaurant_df"
      ],
      "execution_count": null,
      "outputs": [
        {
          "output_type": "execute_result",
          "data": {
            "text/html": [
              "<div>\n",
              "<style scoped>\n",
              "    .dataframe tbody tr th:only-of-type {\n",
              "        vertical-align: middle;\n",
              "    }\n",
              "\n",
              "    .dataframe tbody tr th {\n",
              "        vertical-align: top;\n",
              "    }\n",
              "\n",
              "    .dataframe thead th {\n",
              "        text-align: right;\n",
              "    }\n",
              "</style>\n",
              "<table border=\"1\" class=\"dataframe\">\n",
              "  <thead>\n",
              "    <tr style=\"text-align: right;\">\n",
              "      <th></th>\n",
              "      <th>id</th>\n",
              "      <th>name</th>\n",
              "      <th>domain_id</th>\n",
              "      <th>closed</th>\n",
              "      <th>city_name</th>\n",
              "      <th>zipcode</th>\n",
              "      <th>geohash</th>\n",
              "      <th>new_open</th>\n",
              "      <th>weighted_average_rating</th>\n",
              "      <th>number_of_chains</th>\n",
              "      <th>number_of_bookmarks</th>\n",
              "      <th>number_of_reviews</th>\n",
              "      <th>number_of_product_tags</th>\n",
              "      <th>total_number_of_views</th>\n",
              "      <th>number_of_checkins</th>\n",
              "      <th>number_of_menu_groups</th>\n",
              "      <th>number_of_menu_photos</th>\n",
              "      <th>category_name</th>\n",
              "      <th>price_range</th>\n",
              "      <th>avg_price</th>\n",
              "      <th>parking</th>\n",
              "      <th>credit_card_accepted</th>\n",
              "      <th>good_for_groups</th>\n",
              "      <th>good_for_kids</th>\n",
              "      <th>bookable</th>\n",
              "      <th>best_of_wongnai</th>\n",
              "      <th>wifi</th>\n",
              "      <th>number_of_seats</th>\n",
              "      <th>music_venue</th>\n",
              "      <th>hotel_restaurant</th>\n",
              "      <th>pet_friendly</th>\n",
              "      <th>delivery</th>\n",
              "    </tr>\n",
              "  </thead>\n",
              "  <tbody>\n",
              "    <tr>\n",
              "      <th>0</th>\n",
              "      <td>2</td>\n",
              "      <td>นครินทร์ทันตกรรม</td>\n",
              "      <td>2</td>\n",
              "      <td>0</td>\n",
              "      <td>Samut Songkhram</td>\n",
              "      <td>75000</td>\n",
              "      <td>w4rh7g3</td>\n",
              "      <td>0</td>\n",
              "      <td>5.000000</td>\n",
              "      <td>NaN</td>\n",
              "      <td>NaN</td>\n",
              "      <td>1</td>\n",
              "      <td>0</td>\n",
              "      <td>3016</td>\n",
              "      <td>0</td>\n",
              "      <td>0</td>\n",
              "      <td>0</td>\n",
              "      <td>Orthodontic</td>\n",
              "      <td>NaN</td>\n",
              "      <td>NaN</td>\n",
              "      <td>3.0</td>\n",
              "      <td>0.0</td>\n",
              "      <td>NaN</td>\n",
              "      <td>NaN</td>\n",
              "      <td>NaN</td>\n",
              "      <td>NaN</td>\n",
              "      <td>NaN</td>\n",
              "      <td>13.0</td>\n",
              "      <td>NaN</td>\n",
              "      <td>NaN</td>\n",
              "      <td>NaN</td>\n",
              "      <td>NaN</td>\n",
              "    </tr>\n",
              "    <tr>\n",
              "      <th>1</th>\n",
              "      <td>4</td>\n",
              "      <td>Corner House</td>\n",
              "      <td>1</td>\n",
              "      <td>0</td>\n",
              "      <td>Bangkok Metropolitan Region</td>\n",
              "      <td>12150</td>\n",
              "      <td>w4rx73h</td>\n",
              "      <td>0</td>\n",
              "      <td>2.000000</td>\n",
              "      <td>NaN</td>\n",
              "      <td>NaN</td>\n",
              "      <td>1</td>\n",
              "      <td>0</td>\n",
              "      <td>321</td>\n",
              "      <td>0</td>\n",
              "      <td>0</td>\n",
              "      <td>1</td>\n",
              "      <td>Quick Meal</td>\n",
              "      <td>1.0</td>\n",
              "      <td>NaN</td>\n",
              "      <td>1.0</td>\n",
              "      <td>NaN</td>\n",
              "      <td>NaN</td>\n",
              "      <td>NaN</td>\n",
              "      <td>NaN</td>\n",
              "      <td>NaN</td>\n",
              "      <td>NaN</td>\n",
              "      <td>NaN</td>\n",
              "      <td>NaN</td>\n",
              "      <td>NaN</td>\n",
              "      <td>NaN</td>\n",
              "      <td>NaN</td>\n",
              "    </tr>\n",
              "    <tr>\n",
              "      <th>2</th>\n",
              "      <td>5</td>\n",
              "      <td>วัดโลกยสุธาราม</td>\n",
              "      <td>4</td>\n",
              "      <td>0</td>\n",
              "      <td>Phra Nakhon Si Ayutthaya</td>\n",
              "      <td>13000</td>\n",
              "      <td>w4x98jk</td>\n",
              "      <td>0</td>\n",
              "      <td>4.000000</td>\n",
              "      <td>NaN</td>\n",
              "      <td>1.0</td>\n",
              "      <td>0</td>\n",
              "      <td>0</td>\n",
              "      <td>167</td>\n",
              "      <td>0</td>\n",
              "      <td>0</td>\n",
              "      <td>0</td>\n",
              "      <td>Historical/Religion</td>\n",
              "      <td>NaN</td>\n",
              "      <td>NaN</td>\n",
              "      <td>1.0</td>\n",
              "      <td>NaN</td>\n",
              "      <td>NaN</td>\n",
              "      <td>NaN</td>\n",
              "      <td>NaN</td>\n",
              "      <td>NaN</td>\n",
              "      <td>NaN</td>\n",
              "      <td>NaN</td>\n",
              "      <td>NaN</td>\n",
              "      <td>NaN</td>\n",
              "      <td>NaN</td>\n",
              "      <td>NaN</td>\n",
              "    </tr>\n",
              "    <tr>\n",
              "      <th>3</th>\n",
              "      <td>6</td>\n",
              "      <td>นันท์คาราโอเกะ</td>\n",
              "      <td>1</td>\n",
              "      <td>0</td>\n",
              "      <td>Bangkok Metropolitan Region</td>\n",
              "      <td>10700</td>\n",
              "      <td>w4rqw9q</td>\n",
              "      <td>0</td>\n",
              "      <td>0.000000</td>\n",
              "      <td>NaN</td>\n",
              "      <td>NaN</td>\n",
              "      <td>0</td>\n",
              "      <td>0</td>\n",
              "      <td>901</td>\n",
              "      <td>0</td>\n",
              "      <td>0</td>\n",
              "      <td>0</td>\n",
              "      <td>Karaoke</td>\n",
              "      <td>NaN</td>\n",
              "      <td>NaN</td>\n",
              "      <td>NaN</td>\n",
              "      <td>NaN</td>\n",
              "      <td>NaN</td>\n",
              "      <td>NaN</td>\n",
              "      <td>NaN</td>\n",
              "      <td>NaN</td>\n",
              "      <td>NaN</td>\n",
              "      <td>NaN</td>\n",
              "      <td>NaN</td>\n",
              "      <td>NaN</td>\n",
              "      <td>NaN</td>\n",
              "      <td>NaN</td>\n",
              "    </tr>\n",
              "    <tr>\n",
              "      <th>4</th>\n",
              "      <td>7</td>\n",
              "      <td>Buono Caffe</td>\n",
              "      <td>1</td>\n",
              "      <td>0</td>\n",
              "      <td>Bangkok Metropolitan Region</td>\n",
              "      <td>10220</td>\n",
              "      <td>w4rx4gd</td>\n",
              "      <td>0</td>\n",
              "      <td>3.738462</td>\n",
              "      <td>NaN</td>\n",
              "      <td>15.0</td>\n",
              "      <td>3</td>\n",
              "      <td>0</td>\n",
              "      <td>2360</td>\n",
              "      <td>1</td>\n",
              "      <td>0</td>\n",
              "      <td>2</td>\n",
              "      <td>Café/Coffee Shop</td>\n",
              "      <td>1.0</td>\n",
              "      <td>NaN</td>\n",
              "      <td>1.0</td>\n",
              "      <td>0.0</td>\n",
              "      <td>NaN</td>\n",
              "      <td>NaN</td>\n",
              "      <td>NaN</td>\n",
              "      <td>NaN</td>\n",
              "      <td>1.0</td>\n",
              "      <td>2.0</td>\n",
              "      <td>NaN</td>\n",
              "      <td>NaN</td>\n",
              "      <td>NaN</td>\n",
              "      <td>NaN</td>\n",
              "    </tr>\n",
              "  </tbody>\n",
              "</table>\n",
              "</div>"
            ],
            "text/plain": [
              "   id              name  domain_id  ...  hotel_restaurant pet_friendly delivery\n",
              "0   2  นครินทร์ทันตกรรม          2  ...               NaN          NaN      NaN\n",
              "1   4      Corner House          1  ...               NaN          NaN      NaN\n",
              "2   5    วัดโลกยสุธาราม          4  ...               NaN          NaN      NaN\n",
              "3   6    นันท์คาราโอเกะ          1  ...               NaN          NaN      NaN\n",
              "4   7       Buono Caffe          1  ...               NaN          NaN      NaN\n",
              "\n",
              "[5 rows x 32 columns]"
            ]
          },
          "metadata": {
            "tags": []
          },
          "execution_count": 9
        }
      ]
    },
    {
      "cell_type": "code",
      "metadata": {
        "id": "2G9ReezFbAWB",
        "outputId": "9c3c090a-c52d-4e27-e038-a93b9f6a3421",
        "colab": {
          "base_uri": "https://localhost:8080/",
          "height": 34
        }
      },
      "source": [
        "search_click_df.shape \n",
        "# .shape เช็คว่าข้อมูลครบทุกแถวทุกคอลัมมั้ย"
      ],
      "execution_count": null,
      "outputs": [
        {
          "output_type": "execute_result",
          "data": {
            "text/plain": [
              "(1048575, 6)"
            ]
          },
          "metadata": {
            "tags": []
          },
          "execution_count": 10
        }
      ]
    },
    {
      "cell_type": "code",
      "metadata": {
        "id": "5nTk62FGbISt",
        "outputId": "13b3dfe4-0793-4004-e0f5-d5a716d234ff",
        "colab": {
          "base_uri": "https://localhost:8080/",
          "height": 34
        }
      },
      "source": [
        "w_restaurant_df.shape"
      ],
      "execution_count": null,
      "outputs": [
        {
          "output_type": "execute_result",
          "data": {
            "text/plain": [
              "(246847, 32)"
            ]
          },
          "metadata": {
            "tags": []
          },
          "execution_count": 11
        }
      ]
    },
    {
      "cell_type": "markdown",
      "metadata": {
        "id": "jqX1pq0xbK-l"
      },
      "source": [
        "# Point to data in the table"
      ]
    },
    {
      "cell_type": "code",
      "metadata": {
        "id": "gLQA51aLbVN5",
        "outputId": "67708d7a-4e0b-4c94-c93e-c748b64c41cc",
        "colab": {
          "base_uri": "https://localhost:8080/",
          "height": 221
        }
      },
      "source": [
        "search_click_df['search_id']  # เรียกดูข้อมูลในคอลัม"
      ],
      "execution_count": null,
      "outputs": [
        {
          "output_type": "execute_result",
          "data": {
            "text/plain": [
              "0          5c004472-5ecc-4159-9698-9f329b8e26e1\n",
              "1          5f34eca0-c04e-4c10-b600-54aa447dbd8e\n",
              "2          8dc6d1f0-11f1-4239-9dd2-5c1674c81224\n",
              "3          1a5810e9-3d1f-44b9-9a2e-26ede21c524b\n",
              "4          6bc75e0d-fc65-471e-9926-ff6be6708639\n",
              "                           ...                 \n",
              "1048570    99aab616-6fc5-4fbf-994b-4aebee7bb360\n",
              "1048571    d70a2c5d-ee94-4e4c-9f7c-c5faac6db12a\n",
              "1048572    4c1de7fe-300e-41aa-9d01-914344fc3753\n",
              "1048573    2ec0ddec-e450-4b98-9779-42b77aa7eda5\n",
              "1048574    5741d9cf-b9f1-441d-aa83-d2b0179bf874\n",
              "Name: search_id, Length: 1048575, dtype: object"
            ]
          },
          "metadata": {
            "tags": []
          },
          "execution_count": 12
        }
      ]
    },
    {
      "cell_type": "code",
      "metadata": {
        "id": "TMEdyXtdbVyW",
        "outputId": "0b254fef-0002-45b5-c7a7-15c029032faa",
        "colab": {
          "base_uri": "https://localhost:8080/",
          "height": 34
        }
      },
      "source": [
        "search_click_df['search_id'][0] # ใช้ index สองอันได้ เพื่่อดูแถวแรก"
      ],
      "execution_count": null,
      "outputs": [
        {
          "output_type": "execute_result",
          "data": {
            "application/vnd.google.colaboratory.intrinsic+json": {
              "type": "string"
            },
            "text/plain": [
              "'5c004472-5ecc-4159-9698-9f329b8e26e1'"
            ]
          },
          "metadata": {
            "tags": []
          },
          "execution_count": 13
        }
      ]
    },
    {
      "cell_type": "code",
      "metadata": {
        "id": "jX42QEIxbV-c",
        "outputId": "3fd90afc-59e9-4709-ce92-b3a25e166ae8",
        "colab": {
          "base_uri": "https://localhost:8080/",
          "height": 419
        }
      },
      "source": [
        "w_restaurant_df[['name','city_name','weighted_average_rating']] # สร้างตารางใหม่จากชื่อคอลัมป์ที่มีอยู่"
      ],
      "execution_count": null,
      "outputs": [
        {
          "output_type": "execute_result",
          "data": {
            "text/html": [
              "<div>\n",
              "<style scoped>\n",
              "    .dataframe tbody tr th:only-of-type {\n",
              "        vertical-align: middle;\n",
              "    }\n",
              "\n",
              "    .dataframe tbody tr th {\n",
              "        vertical-align: top;\n",
              "    }\n",
              "\n",
              "    .dataframe thead th {\n",
              "        text-align: right;\n",
              "    }\n",
              "</style>\n",
              "<table border=\"1\" class=\"dataframe\">\n",
              "  <thead>\n",
              "    <tr style=\"text-align: right;\">\n",
              "      <th></th>\n",
              "      <th>name</th>\n",
              "      <th>city_name</th>\n",
              "      <th>weighted_average_rating</th>\n",
              "    </tr>\n",
              "  </thead>\n",
              "  <tbody>\n",
              "    <tr>\n",
              "      <th>0</th>\n",
              "      <td>นครินทร์ทันตกรรม</td>\n",
              "      <td>Samut Songkhram</td>\n",
              "      <td>5.000000</td>\n",
              "    </tr>\n",
              "    <tr>\n",
              "      <th>1</th>\n",
              "      <td>Corner House</td>\n",
              "      <td>Bangkok Metropolitan Region</td>\n",
              "      <td>2.000000</td>\n",
              "    </tr>\n",
              "    <tr>\n",
              "      <th>2</th>\n",
              "      <td>วัดโลกยสุธาราม</td>\n",
              "      <td>Phra Nakhon Si Ayutthaya</td>\n",
              "      <td>4.000000</td>\n",
              "    </tr>\n",
              "    <tr>\n",
              "      <th>3</th>\n",
              "      <td>นันท์คาราโอเกะ</td>\n",
              "      <td>Bangkok Metropolitan Region</td>\n",
              "      <td>0.000000</td>\n",
              "    </tr>\n",
              "    <tr>\n",
              "      <th>4</th>\n",
              "      <td>Buono Caffe</td>\n",
              "      <td>Bangkok Metropolitan Region</td>\n",
              "      <td>3.738462</td>\n",
              "    </tr>\n",
              "    <tr>\n",
              "      <th>...</th>\n",
              "      <td>...</td>\n",
              "      <td>...</td>\n",
              "      <td>...</td>\n",
              "    </tr>\n",
              "    <tr>\n",
              "      <th>246842</th>\n",
              "      <td>Sushi Tama</td>\n",
              "      <td>Bangkok Metropolitan Region</td>\n",
              "      <td>3.663522</td>\n",
              "    </tr>\n",
              "    <tr>\n",
              "      <th>246843</th>\n",
              "      <td>สะบายดี คาราโอเกะ</td>\n",
              "      <td>Bangkok Metropolitan Region</td>\n",
              "      <td>0.000000</td>\n",
              "    </tr>\n",
              "    <tr>\n",
              "      <th>246844</th>\n",
              "      <td>สเต็กแม่&amp;กาแฟลูก</td>\n",
              "      <td>Bangkok Metropolitan Region</td>\n",
              "      <td>4.000000</td>\n",
              "    </tr>\n",
              "    <tr>\n",
              "      <th>246845</th>\n",
              "      <td>Mom Made</td>\n",
              "      <td>Nakhon Si Thammarat</td>\n",
              "      <td>5.000000</td>\n",
              "    </tr>\n",
              "    <tr>\n",
              "      <th>246846</th>\n",
              "      <td>ก๋วยเตี๋ยวหมูน้ำตก ก๋วยเตี๋ยวเรือทอง</td>\n",
              "      <td>Suphan Buri</td>\n",
              "      <td>3.000000</td>\n",
              "    </tr>\n",
              "  </tbody>\n",
              "</table>\n",
              "<p>246847 rows × 3 columns</p>\n",
              "</div>"
            ],
            "text/plain": [
              "                                        name  ... weighted_average_rating\n",
              "0                           นครินทร์ทันตกรรม  ...                5.000000\n",
              "1                               Corner House  ...                2.000000\n",
              "2                             วัดโลกยสุธาราม  ...                4.000000\n",
              "3                             นันท์คาราโอเกะ  ...                0.000000\n",
              "4                                Buono Caffe  ...                3.738462\n",
              "...                                      ...  ...                     ...\n",
              "246842                            Sushi Tama  ...                3.663522\n",
              "246843                     สะบายดี คาราโอเกะ  ...                0.000000\n",
              "246844                      สเต็กแม่&กาแฟลูก  ...                4.000000\n",
              "246845                              Mom Made  ...                5.000000\n",
              "246846  ก๋วยเตี๋ยวหมูน้ำตก ก๋วยเตี๋ยวเรือทอง  ...                3.000000\n",
              "\n",
              "[246847 rows x 3 columns]"
            ]
          },
          "metadata": {
            "tags": []
          },
          "execution_count": 14
        }
      ]
    },
    {
      "cell_type": "markdown",
      "metadata": {
        "id": "8p9O6aMVboZ4"
      },
      "source": [
        "#คำสั่ง .iloc"
      ]
    },
    {
      "cell_type": "code",
      "metadata": {
        "id": "fDEvFo3ZbWLD",
        "outputId": "9eccbd16-3ee3-4acd-8b10-2e893b6e40b8",
        "colab": {
          "base_uri": "https://localhost:8080/",
          "height": 34
        }
      },
      "source": [
        "search_click_df.iloc[0,1] # การชี้ไปที่ตาราง เรียกดูข้อมูลโดยใช้แบบตาราง numphy array แถวที่ 0 ของคอลัมป์ที่ 1"
      ],
      "execution_count": null,
      "outputs": [
        {
          "output_type": "execute_result",
          "data": {
            "application/vnd.google.colaboratory.intrinsic+json": {
              "type": "string"
            },
            "text/plain": [
              "'5c004472-5ecc-4159-9698-9f329b8e26e1'"
            ]
          },
          "metadata": {
            "tags": []
          },
          "execution_count": 15
        }
      ]
    },
    {
      "cell_type": "code",
      "metadata": {
        "id": "Np6zB6EKcX7M",
        "outputId": "a4c80f0e-e3ba-42af-c9d5-fbab8f08eb32",
        "colab": {
          "base_uri": "https://localhost:8080/",
          "height": 359
        }
      },
      "source": [
        "search_click_df.iloc[:10,:2] # ชี้ไปที่ตาราง เรียกดูข้อมูล แถวที่ 0-9 ของคอลัมป์ที่ 0-1"
      ],
      "execution_count": null,
      "outputs": [
        {
          "output_type": "execute_result",
          "data": {
            "text/html": [
              "<div>\n",
              "<style scoped>\n",
              "    .dataframe tbody tr th:only-of-type {\n",
              "        vertical-align: middle;\n",
              "    }\n",
              "\n",
              "    .dataframe tbody tr th {\n",
              "        vertical-align: top;\n",
              "    }\n",
              "\n",
              "    .dataframe thead th {\n",
              "        text-align: right;\n",
              "    }\n",
              "</style>\n",
              "<table border=\"1\" class=\"dataframe\">\n",
              "  <thead>\n",
              "    <tr style=\"text-align: right;\">\n",
              "      <th></th>\n",
              "      <th>click_timestamp</th>\n",
              "      <th>search_id</th>\n",
              "    </tr>\n",
              "  </thead>\n",
              "  <tbody>\n",
              "    <tr>\n",
              "      <th>0</th>\n",
              "      <td>11:38.9</td>\n",
              "      <td>5c004472-5ecc-4159-9698-9f329b8e26e1</td>\n",
              "    </tr>\n",
              "    <tr>\n",
              "      <th>1</th>\n",
              "      <td>30:51.3</td>\n",
              "      <td>5f34eca0-c04e-4c10-b600-54aa447dbd8e</td>\n",
              "    </tr>\n",
              "    <tr>\n",
              "      <th>2</th>\n",
              "      <td>32:09.6</td>\n",
              "      <td>8dc6d1f0-11f1-4239-9dd2-5c1674c81224</td>\n",
              "    </tr>\n",
              "    <tr>\n",
              "      <th>3</th>\n",
              "      <td>00:59.8</td>\n",
              "      <td>1a5810e9-3d1f-44b9-9a2e-26ede21c524b</td>\n",
              "    </tr>\n",
              "    <tr>\n",
              "      <th>4</th>\n",
              "      <td>23:36.8</td>\n",
              "      <td>6bc75e0d-fc65-471e-9926-ff6be6708639</td>\n",
              "    </tr>\n",
              "    <tr>\n",
              "      <th>5</th>\n",
              "      <td>48:16.7</td>\n",
              "      <td>92ea02ba-2c89-4efd-973c-e23526c531de</td>\n",
              "    </tr>\n",
              "    <tr>\n",
              "      <th>6</th>\n",
              "      <td>39:18.4</td>\n",
              "      <td>79d61918-fb3e-4181-99b6-7a7abddfcdb1</td>\n",
              "    </tr>\n",
              "    <tr>\n",
              "      <th>7</th>\n",
              "      <td>33:39.0</td>\n",
              "      <td>7f8b2b57-dea1-4fe1-84c8-5a7d63750e47</td>\n",
              "    </tr>\n",
              "    <tr>\n",
              "      <th>8</th>\n",
              "      <td>07:48.3</td>\n",
              "      <td>3d9217bb-3eae-42b5-8cf3-a756efae2cfa</td>\n",
              "    </tr>\n",
              "    <tr>\n",
              "      <th>9</th>\n",
              "      <td>41:25.4</td>\n",
              "      <td>a2cb0d41-6e1f-4169-9140-cb671fbb41dc</td>\n",
              "    </tr>\n",
              "  </tbody>\n",
              "</table>\n",
              "</div>"
            ],
            "text/plain": [
              "  click_timestamp                             search_id\n",
              "0         11:38.9  5c004472-5ecc-4159-9698-9f329b8e26e1\n",
              "1         30:51.3  5f34eca0-c04e-4c10-b600-54aa447dbd8e\n",
              "2         32:09.6  8dc6d1f0-11f1-4239-9dd2-5c1674c81224\n",
              "3         00:59.8  1a5810e9-3d1f-44b9-9a2e-26ede21c524b\n",
              "4         23:36.8  6bc75e0d-fc65-471e-9926-ff6be6708639\n",
              "5         48:16.7  92ea02ba-2c89-4efd-973c-e23526c531de\n",
              "6         39:18.4  79d61918-fb3e-4181-99b6-7a7abddfcdb1\n",
              "7         33:39.0  7f8b2b57-dea1-4fe1-84c8-5a7d63750e47\n",
              "8         07:48.3  3d9217bb-3eae-42b5-8cf3-a756efae2cfa\n",
              "9         41:25.4  a2cb0d41-6e1f-4169-9140-cb671fbb41dc"
            ]
          },
          "metadata": {
            "tags": []
          },
          "execution_count": 16
        }
      ]
    },
    {
      "cell_type": "markdown",
      "metadata": {
        "id": "joPok22KclDC"
      },
      "source": [
        "#Missing Values ค่าผิดปกติ เช็คดูว่าตารางเรามี missimg มั้ย"
      ]
    },
    {
      "cell_type": "code",
      "metadata": {
        "id": "KxtplI-FcYGX",
        "outputId": "422b9759-0fa8-4bce-8fa6-e5540a6b789a",
        "colab": {
          "base_uri": "https://localhost:8080/",
          "height": 419
        }
      },
      "source": [
        "# .isnull ดูว่าแต่ละช่องในตารางมีช่องว่างรึป่าว\n",
        "search_click_df.isnull()"
      ],
      "execution_count": null,
      "outputs": [
        {
          "output_type": "execute_result",
          "data": {
            "text/html": [
              "<div>\n",
              "<style scoped>\n",
              "    .dataframe tbody tr th:only-of-type {\n",
              "        vertical-align: middle;\n",
              "    }\n",
              "\n",
              "    .dataframe tbody tr th {\n",
              "        vertical-align: top;\n",
              "    }\n",
              "\n",
              "    .dataframe thead th {\n",
              "        text-align: right;\n",
              "    }\n",
              "</style>\n",
              "<table border=\"1\" class=\"dataframe\">\n",
              "  <thead>\n",
              "    <tr style=\"text-align: right;\">\n",
              "      <th></th>\n",
              "      <th>click_timestamp</th>\n",
              "      <th>search_id</th>\n",
              "      <th>business_id</th>\n",
              "      <th>display_position</th>\n",
              "      <th>time_diff_nanos</th>\n",
              "      <th>ads</th>\n",
              "    </tr>\n",
              "  </thead>\n",
              "  <tbody>\n",
              "    <tr>\n",
              "      <th>0</th>\n",
              "      <td>False</td>\n",
              "      <td>False</td>\n",
              "      <td>False</td>\n",
              "      <td>False</td>\n",
              "      <td>False</td>\n",
              "      <td>False</td>\n",
              "    </tr>\n",
              "    <tr>\n",
              "      <th>1</th>\n",
              "      <td>False</td>\n",
              "      <td>False</td>\n",
              "      <td>False</td>\n",
              "      <td>False</td>\n",
              "      <td>False</td>\n",
              "      <td>False</td>\n",
              "    </tr>\n",
              "    <tr>\n",
              "      <th>2</th>\n",
              "      <td>False</td>\n",
              "      <td>False</td>\n",
              "      <td>False</td>\n",
              "      <td>False</td>\n",
              "      <td>False</td>\n",
              "      <td>False</td>\n",
              "    </tr>\n",
              "    <tr>\n",
              "      <th>3</th>\n",
              "      <td>False</td>\n",
              "      <td>False</td>\n",
              "      <td>False</td>\n",
              "      <td>False</td>\n",
              "      <td>False</td>\n",
              "      <td>False</td>\n",
              "    </tr>\n",
              "    <tr>\n",
              "      <th>4</th>\n",
              "      <td>False</td>\n",
              "      <td>False</td>\n",
              "      <td>False</td>\n",
              "      <td>False</td>\n",
              "      <td>False</td>\n",
              "      <td>False</td>\n",
              "    </tr>\n",
              "    <tr>\n",
              "      <th>...</th>\n",
              "      <td>...</td>\n",
              "      <td>...</td>\n",
              "      <td>...</td>\n",
              "      <td>...</td>\n",
              "      <td>...</td>\n",
              "      <td>...</td>\n",
              "    </tr>\n",
              "    <tr>\n",
              "      <th>1048570</th>\n",
              "      <td>False</td>\n",
              "      <td>False</td>\n",
              "      <td>False</td>\n",
              "      <td>False</td>\n",
              "      <td>False</td>\n",
              "      <td>False</td>\n",
              "    </tr>\n",
              "    <tr>\n",
              "      <th>1048571</th>\n",
              "      <td>False</td>\n",
              "      <td>False</td>\n",
              "      <td>False</td>\n",
              "      <td>False</td>\n",
              "      <td>False</td>\n",
              "      <td>False</td>\n",
              "    </tr>\n",
              "    <tr>\n",
              "      <th>1048572</th>\n",
              "      <td>False</td>\n",
              "      <td>False</td>\n",
              "      <td>False</td>\n",
              "      <td>False</td>\n",
              "      <td>False</td>\n",
              "      <td>False</td>\n",
              "    </tr>\n",
              "    <tr>\n",
              "      <th>1048573</th>\n",
              "      <td>False</td>\n",
              "      <td>False</td>\n",
              "      <td>False</td>\n",
              "      <td>False</td>\n",
              "      <td>False</td>\n",
              "      <td>False</td>\n",
              "    </tr>\n",
              "    <tr>\n",
              "      <th>1048574</th>\n",
              "      <td>False</td>\n",
              "      <td>False</td>\n",
              "      <td>False</td>\n",
              "      <td>False</td>\n",
              "      <td>False</td>\n",
              "      <td>False</td>\n",
              "    </tr>\n",
              "  </tbody>\n",
              "</table>\n",
              "<p>1048575 rows × 6 columns</p>\n",
              "</div>"
            ],
            "text/plain": [
              "         click_timestamp  search_id  ...  time_diff_nanos    ads\n",
              "0                  False      False  ...            False  False\n",
              "1                  False      False  ...            False  False\n",
              "2                  False      False  ...            False  False\n",
              "3                  False      False  ...            False  False\n",
              "4                  False      False  ...            False  False\n",
              "...                  ...        ...  ...              ...    ...\n",
              "1048570            False      False  ...            False  False\n",
              "1048571            False      False  ...            False  False\n",
              "1048572            False      False  ...            False  False\n",
              "1048573            False      False  ...            False  False\n",
              "1048574            False      False  ...            False  False\n",
              "\n",
              "[1048575 rows x 6 columns]"
            ]
          },
          "metadata": {
            "tags": []
          },
          "execution_count": 21
        }
      ]
    },
    {
      "cell_type": "code",
      "metadata": {
        "id": "NjMe8v96cYRF",
        "outputId": "2d73225e-bd97-4bac-9dd7-826dbdfec7b5",
        "colab": {
          "base_uri": "https://localhost:8080/",
          "height": 136
        }
      },
      "source": [
        "search_click_df.isnull().any()\n",
        "# .any นำข้อมูลมา or คือ T or T = T, T or F = F เพื่อหาว่าในคอลัมไหนที่มี True อยู่ ก็จะขึ้น True\n",
        "# .all นำข้อมูลมา and \n",
        "# ถ้า มี .any().any() สองตัว คือดูว่าตารางมี misssing หรือไม่\n"
      ],
      "execution_count": null,
      "outputs": [
        {
          "output_type": "execute_result",
          "data": {
            "text/plain": [
              "click_timestamp     False\n",
              "search_id            True\n",
              "business_id          True\n",
              "display_position    False\n",
              "time_diff_nanos     False\n",
              "ads                 False\n",
              "dtype: bool"
            ]
          },
          "metadata": {
            "tags": []
          },
          "execution_count": 22
        }
      ]
    },
    {
      "cell_type": "markdown",
      "metadata": {
        "id": "48PuznI-dj2i"
      },
      "source": [
        "#Handling missing values \n",
        " "
      ]
    },
    {
      "cell_type": "markdown",
      "metadata": {
        "id": "pCqDEiiZdvDI"
      },
      "source": [
        "#การลบ missing\n",
        "\n",
        "Method 1\n"
      ]
    },
    {
      "cell_type": "code",
      "metadata": {
        "id": "ka9MKJxSdbqp"
      },
      "source": [
        "search_click_df_nm = search_click_df.dropna()\n",
        "# .dropna()  คือ ลบ missing ลบแล้ว ให้อยู่ในตาราง search_click_df_nm"
      ],
      "execution_count": null,
      "outputs": []
    },
    {
      "cell_type": "code",
      "metadata": {
        "id": "ysiC2xbreQMm",
        "outputId": "17c87601-f936-4534-f069-b2ee61a2fa04",
        "colab": {
          "base_uri": "https://localhost:8080/",
          "height": 34
        }
      },
      "source": [
        "# ดูว่าตารางยังมี missing อยู่ไหม\n",
        "search_click_df_nm.isnull().any().any()"
      ],
      "execution_count": null,
      "outputs": [
        {
          "output_type": "execute_result",
          "data": {
            "text/plain": [
              "False"
            ]
          },
          "metadata": {
            "tags": []
          },
          "execution_count": 28
        }
      ]
    },
    {
      "cell_type": "code",
      "metadata": {
        "id": "kWCLZkI_eQUV",
        "outputId": "843ea5a4-2b96-4613-e354-a70b77917e2b",
        "colab": {
          "base_uri": "https://localhost:8080/",
          "height": 51
        }
      },
      "source": [
        "# ดูว่าข้อมูลหายไปมากน้อยเท่าไร\n",
        "print(search_click_df.shape)\n",
        "print(search_click_df_nm.shape)"
      ],
      "execution_count": null,
      "outputs": [
        {
          "output_type": "stream",
          "text": [
            "(1048575, 6)\n",
            "(1048206, 6)\n"
          ],
          "name": "stdout"
        }
      ]
    },
    {
      "cell_type": "markdown",
      "metadata": {
        "id": "5LL2Y4vBem16"
      },
      "source": [
        "#Excercise 1 ตรวจสอบว่าการลบข้อมูล missing ออก"
      ]
    },
    {
      "cell_type": "markdown",
      "metadata": {
        "id": "FrSttxece8iN"
      },
      "source": [
        "จากตาราง w_restaurant จะทำให้ข้อมูลลดลงกี่ %"
      ]
    },
    {
      "cell_type": "code",
      "metadata": {
        "id": "2Aq7lxzae80A",
        "outputId": "871d7d26-1b66-447f-d86c-4726ad2073df",
        "colab": {
          "base_uri": "https://localhost:8080/",
          "height": 68
        }
      },
      "source": [
        "#เว้นวรรค\\ คือเว้นบรรทัดเขียนต่อ\n",
        "size_before_drop = w_restaurant_df.shape[0]\n",
        "size_after_drop = w_restaurant_df.dropna().shape[0]\n",
        "print(f'size_before_drop = {size_before_drop} \\nsize_after_drop = {size_after_drop}\\\n",
        "  \\nwhich is {100*((size_before_drop - size_after_drop)/size_before_drop)}')"
      ],
      "execution_count": 110,
      "outputs": [
        {
          "output_type": "stream",
          "text": [
            "size_before_drop = 246847 \n",
            "size_after_drop = 9  \n",
            "which is 99.99635401686065\n"
          ],
          "name": "stdout"
        }
      ]
    },
    {
      "cell_type": "code",
      "metadata": {
        "id": "xSwtc0WKgArG",
        "outputId": "03ea0a2d-de65-4a4a-e61b-69f6b0ae9120",
        "colab": {
          "base_uri": "https://localhost:8080/",
          "height": 34
        }
      },
      "source": [
        "# dropna เฉพาะ ตัวที่เราต้องการ \n",
        "w_restaurant_df.dropna(subset= ['id','name','price_range']).shape"
      ],
      "execution_count": 111,
      "outputs": [
        {
          "output_type": "execute_result",
          "data": {
            "text/plain": [
              "(180972, 32)"
            ]
          },
          "metadata": {
            "tags": []
          },
          "execution_count": 111
        }
      ]
    },
    {
      "cell_type": "markdown",
      "metadata": {
        "id": "4tzoLfvpfhrb"
      },
      "source": [
        "#Method 2 (raplece with reasonable value)"
      ]
    },
    {
      "cell_type": "markdown",
      "metadata": {
        "id": "HbX8-pYigK3z"
      },
      "source": [
        "แทนที่ด้วยค่าที่เหมาะสม"
      ]
    },
    {
      "cell_type": "code",
      "metadata": {
        "id": "isxUvAj6gVa1"
      },
      "source": [
        "# .flillna(ค่าที่จะเติม) ใส่ค่าที่ missing \n",
        "w_restaurant_df[['number_of_chains']] = w_restaurant_df[['number_of_chains']].fillna(0) #fillna(0) ร้านส่วนใหญ่ไม่มีสาขาย่อย"
      ],
      "execution_count": 114,
      "outputs": []
    },
    {
      "cell_type": "code",
      "metadata": {
        "id": "aKL2g0lPgVeY",
        "outputId": "16f99457-f64d-42a8-a07b-e5f20fbbd45f",
        "colab": {
          "base_uri": "https://localhost:8080/",
          "height": 578
        }
      },
      "source": [
        "w_restaurant_df.isnull().any()"
      ],
      "execution_count": 115,
      "outputs": [
        {
          "output_type": "execute_result",
          "data": {
            "text/plain": [
              "id                         False\n",
              "name                       False\n",
              "domain_id                  False\n",
              "closed                     False\n",
              "city_name                  False\n",
              "zipcode                     True\n",
              "geohash                    False\n",
              "new_open                   False\n",
              "weighted_average_rating    False\n",
              "number_of_chains           False\n",
              "number_of_bookmarks         True\n",
              "number_of_reviews          False\n",
              "number_of_product_tags     False\n",
              "total_number_of_views      False\n",
              "number_of_checkins         False\n",
              "number_of_menu_groups      False\n",
              "number_of_menu_photos      False\n",
              "category_name              False\n",
              "price_range                 True\n",
              "avg_price                   True\n",
              "parking                     True\n",
              "credit_card_accepted        True\n",
              "good_for_groups             True\n",
              "good_for_kids               True\n",
              "bookable                    True\n",
              "best_of_wongnai             True\n",
              "wifi                        True\n",
              "number_of_seats             True\n",
              "music_venue                 True\n",
              "hotel_restaurant            True\n",
              "pet_friendly                True\n",
              "delivery                    True\n",
              "dtype: bool"
            ]
          },
          "metadata": {
            "tags": []
          },
          "execution_count": 115
        }
      ]
    },
    {
      "cell_type": "markdown",
      "metadata": {
        "id": "scfhdfZ5g19U"
      },
      "source": [
        "#Method 2.1 (replace with unknow value)\n",
        "\n",
        "เติมค่าตามฟิลอื่นที่ใกล้เคียง"
      ]
    },
    {
      "cell_type": "code",
      "metadata": {
        "id": "-c2eKvjsg_8q",
        "outputId": "715ab733-7c86-4b41-d7c9-75179d198b4f",
        "colab": {
          "base_uri": "https://localhost:8080/",
          "height": 419
        }
      },
      "source": [
        "new_table = w_restaurant_df[['name','city_name','avg_price']]\n",
        "new_table"
      ],
      "execution_count": 121,
      "outputs": [
        {
          "output_type": "execute_result",
          "data": {
            "text/html": [
              "<div>\n",
              "<style scoped>\n",
              "    .dataframe tbody tr th:only-of-type {\n",
              "        vertical-align: middle;\n",
              "    }\n",
              "\n",
              "    .dataframe tbody tr th {\n",
              "        vertical-align: top;\n",
              "    }\n",
              "\n",
              "    .dataframe thead th {\n",
              "        text-align: right;\n",
              "    }\n",
              "</style>\n",
              "<table border=\"1\" class=\"dataframe\">\n",
              "  <thead>\n",
              "    <tr style=\"text-align: right;\">\n",
              "      <th></th>\n",
              "      <th>name</th>\n",
              "      <th>city_name</th>\n",
              "      <th>avg_price</th>\n",
              "    </tr>\n",
              "  </thead>\n",
              "  <tbody>\n",
              "    <tr>\n",
              "      <th>0</th>\n",
              "      <td>นครินทร์ทันตกรรม</td>\n",
              "      <td>Samut Songkhram</td>\n",
              "      <td>NaN</td>\n",
              "    </tr>\n",
              "    <tr>\n",
              "      <th>1</th>\n",
              "      <td>Corner House</td>\n",
              "      <td>Bangkok Metropolitan Region</td>\n",
              "      <td>NaN</td>\n",
              "    </tr>\n",
              "    <tr>\n",
              "      <th>2</th>\n",
              "      <td>วัดโลกยสุธาราม</td>\n",
              "      <td>Phra Nakhon Si Ayutthaya</td>\n",
              "      <td>NaN</td>\n",
              "    </tr>\n",
              "    <tr>\n",
              "      <th>3</th>\n",
              "      <td>นันท์คาราโอเกะ</td>\n",
              "      <td>Bangkok Metropolitan Region</td>\n",
              "      <td>NaN</td>\n",
              "    </tr>\n",
              "    <tr>\n",
              "      <th>4</th>\n",
              "      <td>Buono Caffe</td>\n",
              "      <td>Bangkok Metropolitan Region</td>\n",
              "      <td>NaN</td>\n",
              "    </tr>\n",
              "    <tr>\n",
              "      <th>...</th>\n",
              "      <td>...</td>\n",
              "      <td>...</td>\n",
              "      <td>...</td>\n",
              "    </tr>\n",
              "    <tr>\n",
              "      <th>246842</th>\n",
              "      <td>Sushi Tama</td>\n",
              "      <td>Bangkok Metropolitan Region</td>\n",
              "      <td>NaN</td>\n",
              "    </tr>\n",
              "    <tr>\n",
              "      <th>246843</th>\n",
              "      <td>สะบายดี คาราโอเกะ</td>\n",
              "      <td>Bangkok Metropolitan Region</td>\n",
              "      <td>NaN</td>\n",
              "    </tr>\n",
              "    <tr>\n",
              "      <th>246844</th>\n",
              "      <td>สเต็กแม่&amp;กาแฟลูก</td>\n",
              "      <td>Bangkok Metropolitan Region</td>\n",
              "      <td>NaN</td>\n",
              "    </tr>\n",
              "    <tr>\n",
              "      <th>246845</th>\n",
              "      <td>Mom Made</td>\n",
              "      <td>Nakhon Si Thammarat</td>\n",
              "      <td>NaN</td>\n",
              "    </tr>\n",
              "    <tr>\n",
              "      <th>246846</th>\n",
              "      <td>ก๋วยเตี๋ยวหมูน้ำตก ก๋วยเตี๋ยวเรือทอง</td>\n",
              "      <td>Suphan Buri</td>\n",
              "      <td>NaN</td>\n",
              "    </tr>\n",
              "  </tbody>\n",
              "</table>\n",
              "<p>246847 rows × 3 columns</p>\n",
              "</div>"
            ],
            "text/plain": [
              "                                        name  ... avg_price\n",
              "0                           นครินทร์ทันตกรรม  ...       NaN\n",
              "1                               Corner House  ...       NaN\n",
              "2                             วัดโลกยสุธาราม  ...       NaN\n",
              "3                             นันท์คาราโอเกะ  ...       NaN\n",
              "4                                Buono Caffe  ...       NaN\n",
              "...                                      ...  ...       ...\n",
              "246842                            Sushi Tama  ...       NaN\n",
              "246843                     สะบายดี คาราโอเกะ  ...       NaN\n",
              "246844                      สเต็กแม่&กาแฟลูก  ...       NaN\n",
              "246845                              Mom Made  ...       NaN\n",
              "246846  ก๋วยเตี๋ยวหมูน้ำตก ก๋วยเตี๋ยวเรือทอง  ...       NaN\n",
              "\n",
              "[246847 rows x 3 columns]"
            ]
          },
          "metadata": {
            "tags": []
          },
          "execution_count": 121
        }
      ]
    },
    {
      "cell_type": "markdown",
      "metadata": {
        "id": "LwhBUKPEg7ht"
      },
      "source": [
        "# panpas  [PD] select dat"
      ]
    },
    {
      "cell_type": "markdown",
      "metadata": {
        "id": "VmaPc3m0hU_c"
      },
      "source": [
        "เลือกข้อมูลใน PD เลือกข้อมูลที่เราต้องการ"
      ]
    },
    {
      "cell_type": "code",
      "metadata": {
        "id": "jlD0ljJthRGV",
        "outputId": "27ddf90b-2712-458d-ed5b-ddd42abc9123",
        "colab": {
          "base_uri": "https://localhost:8080/",
          "height": 221
        }
      },
      "source": [
        "selected_list = new_table['city_name']=='Khon Kaen'\n",
        "selected_list\n",
        "# list เฉพาะตัวที่เราต้องการ: colume 0 ไม่มี Bangkok Metropolitan Region เลยขึ้น False แสดงว่าข้อมูลแถวนี้เราไม่เอา"
      ],
      "execution_count": 122,
      "outputs": [
        {
          "output_type": "execute_result",
          "data": {
            "text/plain": [
              "0         False\n",
              "1         False\n",
              "2         False\n",
              "3         False\n",
              "4         False\n",
              "          ...  \n",
              "246842    False\n",
              "246843    False\n",
              "246844    False\n",
              "246845    False\n",
              "246846    False\n",
              "Name: city_name, Length: 246847, dtype: bool"
            ]
          },
          "metadata": {
            "tags": []
          },
          "execution_count": 122
        }
      ]
    },
    {
      "cell_type": "code",
      "metadata": {
        "id": "XJizcN4WhRSg",
        "outputId": "7a42ad6d-8c01-43cb-c424-4b8e71ded32f",
        "colab": {
          "base_uri": "https://localhost:8080/",
          "height": 419
        }
      },
      "source": [
        "new_table[selected_list]"
      ],
      "execution_count": 123,
      "outputs": [
        {
          "output_type": "execute_result",
          "data": {
            "text/html": [
              "<div>\n",
              "<style scoped>\n",
              "    .dataframe tbody tr th:only-of-type {\n",
              "        vertical-align: middle;\n",
              "    }\n",
              "\n",
              "    .dataframe tbody tr th {\n",
              "        vertical-align: top;\n",
              "    }\n",
              "\n",
              "    .dataframe thead th {\n",
              "        text-align: right;\n",
              "    }\n",
              "</style>\n",
              "<table border=\"1\" class=\"dataframe\">\n",
              "  <thead>\n",
              "    <tr style=\"text-align: right;\">\n",
              "      <th></th>\n",
              "      <th>name</th>\n",
              "      <th>city_name</th>\n",
              "      <th>avg_price</th>\n",
              "    </tr>\n",
              "  </thead>\n",
              "  <tbody>\n",
              "    <tr>\n",
              "      <th>81</th>\n",
              "      <td>WISH CLINIC</td>\n",
              "      <td>Khon Kaen</td>\n",
              "      <td>NaN</td>\n",
              "    </tr>\n",
              "    <tr>\n",
              "      <th>317</th>\n",
              "      <td>Pomodoro</td>\n",
              "      <td>Khon Kaen</td>\n",
              "      <td>NaN</td>\n",
              "    </tr>\n",
              "    <tr>\n",
              "      <th>390</th>\n",
              "      <td>ครัวอรวรรณ</td>\n",
              "      <td>Khon Kaen</td>\n",
              "      <td>NaN</td>\n",
              "    </tr>\n",
              "    <tr>\n",
              "      <th>452</th>\n",
              "      <td>วาสนาเคียมห้วย</td>\n",
              "      <td>Khon Kaen</td>\n",
              "      <td>NaN</td>\n",
              "    </tr>\n",
              "    <tr>\n",
              "      <th>514</th>\n",
              "      <td>ส้มตำศิริพร</td>\n",
              "      <td>Khon Kaen</td>\n",
              "      <td>NaN</td>\n",
              "    </tr>\n",
              "    <tr>\n",
              "      <th>...</th>\n",
              "      <td>...</td>\n",
              "      <td>...</td>\n",
              "      <td>...</td>\n",
              "    </tr>\n",
              "    <tr>\n",
              "      <th>246312</th>\n",
              "      <td>สเวนเซ่นส์ เซ็นทรัลพลาซ่า ขอนแก่น</td>\n",
              "      <td>Khon Kaen</td>\n",
              "      <td>NaN</td>\n",
              "    </tr>\n",
              "    <tr>\n",
              "      <th>246335</th>\n",
              "      <td>คิดถึงเบเกอรี่</td>\n",
              "      <td>Khon Kaen</td>\n",
              "      <td>NaN</td>\n",
              "    </tr>\n",
              "    <tr>\n",
              "      <th>246638</th>\n",
              "      <td>Firehaus Bistro</td>\n",
              "      <td>Khon Kaen</td>\n",
              "      <td>NaN</td>\n",
              "    </tr>\n",
              "    <tr>\n",
              "      <th>246748</th>\n",
              "      <td>ร้านป้าจ่อย</td>\n",
              "      <td>Khon Kaen</td>\n",
              "      <td>NaN</td>\n",
              "    </tr>\n",
              "    <tr>\n",
              "      <th>246818</th>\n",
              "      <td>Coffman</td>\n",
              "      <td>Khon Kaen</td>\n",
              "      <td>NaN</td>\n",
              "    </tr>\n",
              "  </tbody>\n",
              "</table>\n",
              "<p>4177 rows × 3 columns</p>\n",
              "</div>"
            ],
            "text/plain": [
              "                                     name  city_name  avg_price\n",
              "81                            WISH CLINIC  Khon Kaen        NaN\n",
              "317                              Pomodoro  Khon Kaen        NaN\n",
              "390                            ครัวอรวรรณ  Khon Kaen        NaN\n",
              "452                        วาสนาเคียมห้วย  Khon Kaen        NaN\n",
              "514                           ส้มตำศิริพร  Khon Kaen        NaN\n",
              "...                                   ...        ...        ...\n",
              "246312  สเวนเซ่นส์ เซ็นทรัลพลาซ่า ขอนแก่น  Khon Kaen        NaN\n",
              "246335                     คิดถึงเบเกอรี่  Khon Kaen        NaN\n",
              "246638                    Firehaus Bistro  Khon Kaen        NaN\n",
              "246748                        ร้านป้าจ่อย  Khon Kaen        NaN\n",
              "246818                            Coffman  Khon Kaen        NaN\n",
              "\n",
              "[4177 rows x 3 columns]"
            ]
          },
          "metadata": {
            "tags": []
          },
          "execution_count": 123
        }
      ]
    },
    {
      "cell_type": "markdown",
      "metadata": {
        "id": "Icubpxp7h9tb"
      },
      "source": [
        "#ex 9 หาราคาเฉลี่ยของร้านในจังหวัดขอนแก่น"
      ]
    },
    {
      "cell_type": "code",
      "metadata": {
        "id": "a5gYo0cIhRbC",
        "outputId": "107db3b2-cf14-4081-a2cb-f1dc75300f4d",
        "colab": {
          "base_uri": "https://localhost:8080/",
          "height": 221
        }
      },
      "source": [
        "selected_list = new_table['city_name']=='Bangkok Metropolitan Region'\n",
        "selected_list"
      ],
      "execution_count": 124,
      "outputs": [
        {
          "output_type": "execute_result",
          "data": {
            "text/plain": [
              "0         False\n",
              "1          True\n",
              "2         False\n",
              "3          True\n",
              "4          True\n",
              "          ...  \n",
              "246842     True\n",
              "246843     True\n",
              "246844     True\n",
              "246845    False\n",
              "246846    False\n",
              "Name: city_name, Length: 246847, dtype: bool"
            ]
          },
          "metadata": {
            "tags": []
          },
          "execution_count": 124
        }
      ]
    },
    {
      "cell_type": "code",
      "metadata": {
        "id": "f_lt4NTfiUjY",
        "outputId": "f39d4eee-1bbb-4eee-eb4f-c9941b792f82",
        "colab": {
          "base_uri": "https://localhost:8080/",
          "height": 34
        }
      },
      "source": [
        "new_table[new_table['city_name']=='Bangkok Metropolitan Region'].dropna()['avg_price'].mean()\n",
        "# สร้างตารางใหม่ โดยสร้างมาจากตาราง new_table เอาตาราง [new_tabel['city_name']=='Bangkok Metropolitan Region'] มาใส่ \n",
        "# โดยเอามาแค่ ['avg_price'] แล้วต้องการแค่ mean"
      ],
      "execution_count": 125,
      "outputs": [
        {
          "output_type": "execute_result",
          "data": {
            "text/plain": [
              "392.5854715094968"
            ]
          },
          "metadata": {
            "tags": []
          },
          "execution_count": 125
        }
      ]
    },
    {
      "cell_type": "code",
      "metadata": {
        "id": "YkrDsql_iUsZ",
        "outputId": "d1375451-94eb-4fce-f032-aa6c3f34c9a3",
        "colab": {
          "base_uri": "https://localhost:8080/",
          "height": 419
        }
      },
      "source": [
        "#1 เลือกเฉพาะ กรุงเทพ\n",
        "bkk_table = new_table[new_table['city_name']=='Bangkok Metropolitan Region']\n",
        "bkk_table"
      ],
      "execution_count": 126,
      "outputs": [
        {
          "output_type": "execute_result",
          "data": {
            "text/html": [
              "<div>\n",
              "<style scoped>\n",
              "    .dataframe tbody tr th:only-of-type {\n",
              "        vertical-align: middle;\n",
              "    }\n",
              "\n",
              "    .dataframe tbody tr th {\n",
              "        vertical-align: top;\n",
              "    }\n",
              "\n",
              "    .dataframe thead th {\n",
              "        text-align: right;\n",
              "    }\n",
              "</style>\n",
              "<table border=\"1\" class=\"dataframe\">\n",
              "  <thead>\n",
              "    <tr style=\"text-align: right;\">\n",
              "      <th></th>\n",
              "      <th>name</th>\n",
              "      <th>city_name</th>\n",
              "      <th>avg_price</th>\n",
              "    </tr>\n",
              "  </thead>\n",
              "  <tbody>\n",
              "    <tr>\n",
              "      <th>1</th>\n",
              "      <td>Corner House</td>\n",
              "      <td>Bangkok Metropolitan Region</td>\n",
              "      <td>NaN</td>\n",
              "    </tr>\n",
              "    <tr>\n",
              "      <th>3</th>\n",
              "      <td>นันท์คาราโอเกะ</td>\n",
              "      <td>Bangkok Metropolitan Region</td>\n",
              "      <td>NaN</td>\n",
              "    </tr>\n",
              "    <tr>\n",
              "      <th>4</th>\n",
              "      <td>Buono Caffe</td>\n",
              "      <td>Bangkok Metropolitan Region</td>\n",
              "      <td>NaN</td>\n",
              "    </tr>\n",
              "    <tr>\n",
              "      <th>7</th>\n",
              "      <td>Sazanami</td>\n",
              "      <td>Bangkok Metropolitan Region</td>\n",
              "      <td>NaN</td>\n",
              "    </tr>\n",
              "    <tr>\n",
              "      <th>10</th>\n",
              "      <td>Rotee Me Chabu</td>\n",
              "      <td>Bangkok Metropolitan Region</td>\n",
              "      <td>NaN</td>\n",
              "    </tr>\n",
              "    <tr>\n",
              "      <th>...</th>\n",
              "      <td>...</td>\n",
              "      <td>...</td>\n",
              "      <td>...</td>\n",
              "    </tr>\n",
              "    <tr>\n",
              "      <th>246835</th>\n",
              "      <td>ร้านครัวแกงป่า</td>\n",
              "      <td>Bangkok Metropolitan Region</td>\n",
              "      <td>NaN</td>\n",
              "    </tr>\n",
              "    <tr>\n",
              "      <th>246840</th>\n",
              "      <td>โตข้าวต้มปลา</td>\n",
              "      <td>Bangkok Metropolitan Region</td>\n",
              "      <td>NaN</td>\n",
              "    </tr>\n",
              "    <tr>\n",
              "      <th>246842</th>\n",
              "      <td>Sushi Tama</td>\n",
              "      <td>Bangkok Metropolitan Region</td>\n",
              "      <td>NaN</td>\n",
              "    </tr>\n",
              "    <tr>\n",
              "      <th>246843</th>\n",
              "      <td>สะบายดี คาราโอเกะ</td>\n",
              "      <td>Bangkok Metropolitan Region</td>\n",
              "      <td>NaN</td>\n",
              "    </tr>\n",
              "    <tr>\n",
              "      <th>246844</th>\n",
              "      <td>สเต็กแม่&amp;กาแฟลูก</td>\n",
              "      <td>Bangkok Metropolitan Region</td>\n",
              "      <td>NaN</td>\n",
              "    </tr>\n",
              "  </tbody>\n",
              "</table>\n",
              "<p>100588 rows × 3 columns</p>\n",
              "</div>"
            ],
            "text/plain": [
              "                     name                    city_name  avg_price\n",
              "1            Corner House  Bangkok Metropolitan Region        NaN\n",
              "3          นันท์คาราโอเกะ  Bangkok Metropolitan Region        NaN\n",
              "4             Buono Caffe  Bangkok Metropolitan Region        NaN\n",
              "7                Sazanami  Bangkok Metropolitan Region        NaN\n",
              "10         Rotee Me Chabu  Bangkok Metropolitan Region        NaN\n",
              "...                   ...                          ...        ...\n",
              "246835     ร้านครัวแกงป่า  Bangkok Metropolitan Region        NaN\n",
              "246840       โตข้าวต้มปลา  Bangkok Metropolitan Region        NaN\n",
              "246842         Sushi Tama  Bangkok Metropolitan Region        NaN\n",
              "246843  สะบายดี คาราโอเกะ  Bangkok Metropolitan Region        NaN\n",
              "246844   สเต็กแม่&กาแฟลูก  Bangkok Metropolitan Region        NaN\n",
              "\n",
              "[100588 rows x 3 columns]"
            ]
          },
          "metadata": {
            "tags": []
          },
          "execution_count": 126
        }
      ]
    },
    {
      "cell_type": "markdown",
      "metadata": {
        "id": "NIV0FFodi05t"
      },
      "source": [
        "ลบ missing"
      ]
    },
    {
      "cell_type": "code",
      "metadata": {
        "id": "_YUbwAi0ihjz",
        "outputId": "044b5ee1-fe6a-4a76-8bca-afe9d080809e",
        "colab": {
          "base_uri": "https://localhost:8080/",
          "height": 419
        }
      },
      "source": [
        "bkk_table_dp = bkk_table.dropna()\n",
        "bkk_table_dp"
      ],
      "execution_count": 127,
      "outputs": [
        {
          "output_type": "execute_result",
          "data": {
            "text/html": [
              "<div>\n",
              "<style scoped>\n",
              "    .dataframe tbody tr th:only-of-type {\n",
              "        vertical-align: middle;\n",
              "    }\n",
              "\n",
              "    .dataframe tbody tr th {\n",
              "        vertical-align: top;\n",
              "    }\n",
              "\n",
              "    .dataframe thead th {\n",
              "        text-align: right;\n",
              "    }\n",
              "</style>\n",
              "<table border=\"1\" class=\"dataframe\">\n",
              "  <thead>\n",
              "    <tr style=\"text-align: right;\">\n",
              "      <th></th>\n",
              "      <th>name</th>\n",
              "      <th>city_name</th>\n",
              "      <th>avg_price</th>\n",
              "    </tr>\n",
              "  </thead>\n",
              "  <tbody>\n",
              "    <tr>\n",
              "      <th>67</th>\n",
              "      <td>เล็กกุ้งเผา</td>\n",
              "      <td>Bangkok Metropolitan Region</td>\n",
              "      <td>375.0</td>\n",
              "    </tr>\n",
              "    <tr>\n",
              "      <th>134</th>\n",
              "      <td>Cafe Cha</td>\n",
              "      <td>Bangkok Metropolitan Region</td>\n",
              "      <td>175.0</td>\n",
              "    </tr>\n",
              "    <tr>\n",
              "      <th>247</th>\n",
              "      <td>Masterpiece clinic</td>\n",
              "      <td>Bangkok Metropolitan Region</td>\n",
              "      <td>1500.0</td>\n",
              "    </tr>\n",
              "    <tr>\n",
              "      <th>319</th>\n",
              "      <td>Chaba Nails &amp; Eyelashes Pro</td>\n",
              "      <td>Bangkok Metropolitan Region</td>\n",
              "      <td>375.0</td>\n",
              "    </tr>\n",
              "    <tr>\n",
              "      <th>382</th>\n",
              "      <td>Panlee Bakery</td>\n",
              "      <td>Bangkok Metropolitan Region</td>\n",
              "      <td>175.0</td>\n",
              "    </tr>\n",
              "    <tr>\n",
              "      <th>...</th>\n",
              "      <td>...</td>\n",
              "      <td>...</td>\n",
              "      <td>...</td>\n",
              "    </tr>\n",
              "    <tr>\n",
              "      <th>246458</th>\n",
              "      <td>Farm Design</td>\n",
              "      <td>Bangkok Metropolitan Region</td>\n",
              "      <td>50.0</td>\n",
              "    </tr>\n",
              "    <tr>\n",
              "      <th>246472</th>\n",
              "      <td>The Andaman</td>\n",
              "      <td>Bangkok Metropolitan Region</td>\n",
              "      <td>1500.0</td>\n",
              "    </tr>\n",
              "    <tr>\n",
              "      <th>246508</th>\n",
              "      <td>ZEN Japanese Restaurant</td>\n",
              "      <td>Bangkok Metropolitan Region</td>\n",
              "      <td>375.0</td>\n",
              "    </tr>\n",
              "    <tr>\n",
              "      <th>246666</th>\n",
              "      <td>ต้นเครื่อง</td>\n",
              "      <td>Bangkok Metropolitan Region</td>\n",
              "      <td>375.0</td>\n",
              "    </tr>\n",
              "    <tr>\n",
              "      <th>246721</th>\n",
              "      <td>Abelle cafe</td>\n",
              "      <td>Bangkok Metropolitan Region</td>\n",
              "      <td>375.0</td>\n",
              "    </tr>\n",
              "  </tbody>\n",
              "</table>\n",
              "<p>3001 rows × 3 columns</p>\n",
              "</div>"
            ],
            "text/plain": [
              "                               name                    city_name  avg_price\n",
              "67                      เล็กกุ้งเผา  Bangkok Metropolitan Region      375.0\n",
              "134                        Cafe Cha  Bangkok Metropolitan Region      175.0\n",
              "247              Masterpiece clinic  Bangkok Metropolitan Region     1500.0\n",
              "319     Chaba Nails & Eyelashes Pro  Bangkok Metropolitan Region      375.0\n",
              "382                   Panlee Bakery  Bangkok Metropolitan Region      175.0\n",
              "...                             ...                          ...        ...\n",
              "246458                  Farm Design  Bangkok Metropolitan Region       50.0\n",
              "246472                  The Andaman  Bangkok Metropolitan Region     1500.0\n",
              "246508     ZEN Japanese Restaurant   Bangkok Metropolitan Region      375.0\n",
              "246666                   ต้นเครื่อง  Bangkok Metropolitan Region      375.0\n",
              "246721                  Abelle cafe  Bangkok Metropolitan Region      375.0\n",
              "\n",
              "[3001 rows x 3 columns]"
            ]
          },
          "metadata": {
            "tags": []
          },
          "execution_count": 127
        }
      ]
    },
    {
      "cell_type": "markdown",
      "metadata": {
        "id": "Z1G2KpMIjEIo"
      },
      "source": [
        "3. เลือกเฉพาะ colomn 'avg_price'"
      ]
    },
    {
      "cell_type": "code",
      "metadata": {
        "id": "SZiA4wkHjIN7",
        "outputId": "cf6d041c-fbf8-4733-86fd-fb13ef3422bb",
        "colab": {
          "base_uri": "https://localhost:8080/",
          "height": 221
        }
      },
      "source": [
        "bkk_table_dp_avg_price = bkk_table_dp['avg_price']\n",
        "bkk_table_dp_avg_price"
      ],
      "execution_count": 128,
      "outputs": [
        {
          "output_type": "execute_result",
          "data": {
            "text/plain": [
              "67         375.0\n",
              "134        175.0\n",
              "247       1500.0\n",
              "319        375.0\n",
              "382        175.0\n",
              "           ...  \n",
              "246458      50.0\n",
              "246472    1500.0\n",
              "246508     375.0\n",
              "246666     375.0\n",
              "246721     375.0\n",
              "Name: avg_price, Length: 3001, dtype: float64"
            ]
          },
          "metadata": {
            "tags": []
          },
          "execution_count": 128
        }
      ]
    },
    {
      "cell_type": "markdown",
      "metadata": {
        "id": "DdvqsDtmjHKX"
      },
      "source": [
        "4. หาค่าเฉลี่ย"
      ]
    },
    {
      "cell_type": "code",
      "metadata": {
        "id": "CCb5Ra6Pi6-A",
        "outputId": "ef735567-c130-4847-b00c-c050ca2b3cf8",
        "colab": {
          "base_uri": "https://localhost:8080/",
          "height": 34
        }
      },
      "source": [
        "bkk_table_dp_avg_price.mean()"
      ],
      "execution_count": 129,
      "outputs": [
        {
          "output_type": "execute_result",
          "data": {
            "text/plain": [
              "392.5854715094968"
            ]
          },
          "metadata": {
            "tags": []
          },
          "execution_count": 129
        }
      ]
    },
    {
      "cell_type": "markdown",
      "metadata": {
        "id": "5d_IALn4izNR"
      },
      "source": [
        "#Ex.9 หาราคาเฉลี่ยของร้านในเชียงใหม่"
      ]
    },
    {
      "cell_type": "code",
      "metadata": {
        "id": "TqmKFs5ujpXW",
        "outputId": "d1946bd3-2464-4fc3-b437-5ac85be9c51c",
        "colab": {
          "base_uri": "https://localhost:8080/",
          "height": 34
        }
      },
      "source": [
        "new_tabel[new_table['city_name']=='Chiang Mai'].dropna()['avg_price'].mean()"
      ],
      "execution_count": 131,
      "outputs": [
        {
          "output_type": "execute_result",
          "data": {
            "text/plain": [
              "188.41594827586206"
            ]
          },
          "metadata": {
            "tags": []
          },
          "execution_count": 131
        }
      ]
    },
    {
      "cell_type": "markdown",
      "metadata": {
        "id": "3ztAEpCSjwje"
      },
      "source": [
        "#แก้ missing method 3 เติมค่าที่เหมาะสมตามกลุ่มของมัน"
      ]
    },
    {
      "cell_type": "code",
      "metadata": {
        "id": "t2E0Dz7Sj25T",
        "outputId": "f96a96bb-6482-4629-cae8-2af67b5df0e6",
        "colab": {
          "base_uri": "https://localhost:8080/",
          "height": 306
        }
      },
      "source": [
        "bkk_table[['avg_price']] = bkk_table[['avg_price']].fillna(bkk_table_dp_avg_price.mean()) \n",
        "bkk_table.head()"
      ],
      "execution_count": 132,
      "outputs": [
        {
          "output_type": "stream",
          "text": [
            "/usr/local/lib/python3.6/dist-packages/pandas/core/frame.py:3065: SettingWithCopyWarning: \n",
            "A value is trying to be set on a copy of a slice from a DataFrame.\n",
            "Try using .loc[row_indexer,col_indexer] = value instead\n",
            "\n",
            "See the caveats in the documentation: https://pandas.pydata.org/pandas-docs/stable/user_guide/indexing.html#returning-a-view-versus-a-copy\n",
            "  self[k1] = value[k2]\n"
          ],
          "name": "stderr"
        },
        {
          "output_type": "execute_result",
          "data": {
            "text/html": [
              "<div>\n",
              "<style scoped>\n",
              "    .dataframe tbody tr th:only-of-type {\n",
              "        vertical-align: middle;\n",
              "    }\n",
              "\n",
              "    .dataframe tbody tr th {\n",
              "        vertical-align: top;\n",
              "    }\n",
              "\n",
              "    .dataframe thead th {\n",
              "        text-align: right;\n",
              "    }\n",
              "</style>\n",
              "<table border=\"1\" class=\"dataframe\">\n",
              "  <thead>\n",
              "    <tr style=\"text-align: right;\">\n",
              "      <th></th>\n",
              "      <th>name</th>\n",
              "      <th>city_name</th>\n",
              "      <th>avg_price</th>\n",
              "    </tr>\n",
              "  </thead>\n",
              "  <tbody>\n",
              "    <tr>\n",
              "      <th>1</th>\n",
              "      <td>Corner House</td>\n",
              "      <td>Bangkok Metropolitan Region</td>\n",
              "      <td>392.585472</td>\n",
              "    </tr>\n",
              "    <tr>\n",
              "      <th>3</th>\n",
              "      <td>นันท์คาราโอเกะ</td>\n",
              "      <td>Bangkok Metropolitan Region</td>\n",
              "      <td>392.585472</td>\n",
              "    </tr>\n",
              "    <tr>\n",
              "      <th>4</th>\n",
              "      <td>Buono Caffe</td>\n",
              "      <td>Bangkok Metropolitan Region</td>\n",
              "      <td>392.585472</td>\n",
              "    </tr>\n",
              "    <tr>\n",
              "      <th>7</th>\n",
              "      <td>Sazanami</td>\n",
              "      <td>Bangkok Metropolitan Region</td>\n",
              "      <td>392.585472</td>\n",
              "    </tr>\n",
              "    <tr>\n",
              "      <th>10</th>\n",
              "      <td>Rotee Me Chabu</td>\n",
              "      <td>Bangkok Metropolitan Region</td>\n",
              "      <td>392.585472</td>\n",
              "    </tr>\n",
              "  </tbody>\n",
              "</table>\n",
              "</div>"
            ],
            "text/plain": [
              "              name                    city_name   avg_price\n",
              "1     Corner House  Bangkok Metropolitan Region  392.585472\n",
              "3   นันท์คาราโอเกะ  Bangkok Metropolitan Region  392.585472\n",
              "4      Buono Caffe  Bangkok Metropolitan Region  392.585472\n",
              "7         Sazanami  Bangkok Metropolitan Region  392.585472\n",
              "10  Rotee Me Chabu  Bangkok Metropolitan Region  392.585472"
            ]
          },
          "metadata": {
            "tags": []
          },
          "execution_count": 132
        }
      ]
    },
    {
      "cell_type": "markdown",
      "metadata": {
        "id": "MNhq0vzjkEw5"
      },
      "source": [
        "#[PD] ต่อตารางในแนวแกน Y (เพิ่มจำนวน data)"
      ]
    },
    {
      "cell_type": "code",
      "metadata": {
        "id": "nZ68QMT1j_lN",
        "outputId": "88629e8f-5f58-4cce-c5ca-8040b32ed29e",
        "colab": {
          "base_uri": "https://localhost:8080/",
          "height": 34
        }
      },
      "source": [
        "# หาค่าเฉลี่ยของร้านในเชียงใหม่\n",
        "cm_table = new_tabel[new_tabel['city_name']=='Chiang Mai'] # ตารางที่มีค่าทั้งหมด ทั้ง มีและไม่มี missing\n",
        "cm_table_dp = cm_table.dropna()\n",
        "cm_table_dp_avg_price = cm_table_dp['avg_price']\n",
        "cm_table_dp_avg_price.mean()"
      ],
      "execution_count": 133,
      "outputs": [
        {
          "output_type": "execute_result",
          "data": {
            "text/plain": [
              "188.41594827586206"
            ]
          },
          "metadata": {
            "tags": []
          },
          "execution_count": 133
        }
      ]
    },
    {
      "cell_type": "code",
      "metadata": {
        "id": "UoklqXO9kQzO",
        "outputId": "737a2430-3069-4177-879a-49dc59108d8e",
        "colab": {
          "base_uri": "https://localhost:8080/",
          "height": 306
        }
      },
      "source": [
        "# เติมค่าเฉลี่ยของร้านในเชียงใหม่ ลงในช่องที่ missing\n",
        "cm_table[['avg_price']] = cm_table[['avg_price']].fillna(cm_table_dp_avg_price.mean()) \n",
        "cm_table.head()"
      ],
      "execution_count": 134,
      "outputs": [
        {
          "output_type": "stream",
          "text": [
            "/usr/local/lib/python3.6/dist-packages/pandas/core/frame.py:3065: SettingWithCopyWarning: \n",
            "A value is trying to be set on a copy of a slice from a DataFrame.\n",
            "Try using .loc[row_indexer,col_indexer] = value instead\n",
            "\n",
            "See the caveats in the documentation: https://pandas.pydata.org/pandas-docs/stable/user_guide/indexing.html#returning-a-view-versus-a-copy\n",
            "  self[k1] = value[k2]\n"
          ],
          "name": "stderr"
        },
        {
          "output_type": "execute_result",
          "data": {
            "text/html": [
              "<div>\n",
              "<style scoped>\n",
              "    .dataframe tbody tr th:only-of-type {\n",
              "        vertical-align: middle;\n",
              "    }\n",
              "\n",
              "    .dataframe tbody tr th {\n",
              "        vertical-align: top;\n",
              "    }\n",
              "\n",
              "    .dataframe thead th {\n",
              "        text-align: right;\n",
              "    }\n",
              "</style>\n",
              "<table border=\"1\" class=\"dataframe\">\n",
              "  <thead>\n",
              "    <tr style=\"text-align: right;\">\n",
              "      <th></th>\n",
              "      <th>name</th>\n",
              "      <th>city_name</th>\n",
              "      <th>avg_price</th>\n",
              "    </tr>\n",
              "  </thead>\n",
              "  <tbody>\n",
              "    <tr>\n",
              "      <th>36</th>\n",
              "      <td>Wrap Master</td>\n",
              "      <td>Chiang Mai</td>\n",
              "      <td>188.415948</td>\n",
              "    </tr>\n",
              "    <tr>\n",
              "      <th>40</th>\n",
              "      <td>Sozen</td>\n",
              "      <td>Chiang Mai</td>\n",
              "      <td>188.415948</td>\n",
              "    </tr>\n",
              "    <tr>\n",
              "      <th>52</th>\n",
              "      <td>ไวท์ดราก้อน หมูกะทะ</td>\n",
              "      <td>Chiang Mai</td>\n",
              "      <td>188.415948</td>\n",
              "    </tr>\n",
              "    <tr>\n",
              "      <th>60</th>\n",
              "      <td>เต-ชา ก๋วยเตี๋ยวไข่ไดโนเสาร์</td>\n",
              "      <td>Chiang Mai</td>\n",
              "      <td>188.415948</td>\n",
              "    </tr>\n",
              "    <tr>\n",
              "      <th>79</th>\n",
              "      <td>ก๋วยเตี๋ยวเรือสะใจ</td>\n",
              "      <td>Chiang Mai</td>\n",
              "      <td>188.415948</td>\n",
              "    </tr>\n",
              "  </tbody>\n",
              "</table>\n",
              "</div>"
            ],
            "text/plain": [
              "                            name   city_name   avg_price\n",
              "36                   Wrap Master  Chiang Mai  188.415948\n",
              "40                         Sozen  Chiang Mai  188.415948\n",
              "52           ไวท์ดราก้อน หมูกะทะ  Chiang Mai  188.415948\n",
              "60  เต-ชา ก๋วยเตี๋ยวไข่ไดโนเสาร์  Chiang Mai  188.415948\n",
              "79            ก๋วยเตี๋ยวเรือสะใจ  Chiang Mai  188.415948"
            ]
          },
          "metadata": {
            "tags": []
          },
          "execution_count": 134
        }
      ]
    },
    {
      "cell_type": "markdown",
      "metadata": {
        "id": "tpl5QmDe1ecl"
      },
      "source": [
        "#\n",
        "รวมตาราง"
      ]
    },
    {
      "cell_type": "code",
      "metadata": {
        "id": "BQVo5k7u1ew2",
        "outputId": "f5b78cd1-a332-46c3-e7ab-ffdb41c51a1e",
        "colab": {
          "base_uri": "https://localhost:8080/",
          "height": 306
        }
      },
      "source": [
        "# เติมค่าเฉลี่ยของร้านในเชียงใหม่ ลงในช่องที่ missing\n",
        "cm_table[['avg_price']] = cm_table[['avg_price']].fillna(cm_table_dp_avg_price.mean()) \n",
        "cm_table.head()\n"
      ],
      "execution_count": 135,
      "outputs": [
        {
          "output_type": "stream",
          "text": [
            "/usr/local/lib/python3.6/dist-packages/pandas/core/frame.py:3065: SettingWithCopyWarning: \n",
            "A value is trying to be set on a copy of a slice from a DataFrame.\n",
            "Try using .loc[row_indexer,col_indexer] = value instead\n",
            "\n",
            "See the caveats in the documentation: https://pandas.pydata.org/pandas-docs/stable/user_guide/indexing.html#returning-a-view-versus-a-copy\n",
            "  self[k1] = value[k2]\n"
          ],
          "name": "stderr"
        },
        {
          "output_type": "execute_result",
          "data": {
            "text/html": [
              "<div>\n",
              "<style scoped>\n",
              "    .dataframe tbody tr th:only-of-type {\n",
              "        vertical-align: middle;\n",
              "    }\n",
              "\n",
              "    .dataframe tbody tr th {\n",
              "        vertical-align: top;\n",
              "    }\n",
              "\n",
              "    .dataframe thead th {\n",
              "        text-align: right;\n",
              "    }\n",
              "</style>\n",
              "<table border=\"1\" class=\"dataframe\">\n",
              "  <thead>\n",
              "    <tr style=\"text-align: right;\">\n",
              "      <th></th>\n",
              "      <th>name</th>\n",
              "      <th>city_name</th>\n",
              "      <th>avg_price</th>\n",
              "    </tr>\n",
              "  </thead>\n",
              "  <tbody>\n",
              "    <tr>\n",
              "      <th>36</th>\n",
              "      <td>Wrap Master</td>\n",
              "      <td>Chiang Mai</td>\n",
              "      <td>188.415948</td>\n",
              "    </tr>\n",
              "    <tr>\n",
              "      <th>40</th>\n",
              "      <td>Sozen</td>\n",
              "      <td>Chiang Mai</td>\n",
              "      <td>188.415948</td>\n",
              "    </tr>\n",
              "    <tr>\n",
              "      <th>52</th>\n",
              "      <td>ไวท์ดราก้อน หมูกะทะ</td>\n",
              "      <td>Chiang Mai</td>\n",
              "      <td>188.415948</td>\n",
              "    </tr>\n",
              "    <tr>\n",
              "      <th>60</th>\n",
              "      <td>เต-ชา ก๋วยเตี๋ยวไข่ไดโนเสาร์</td>\n",
              "      <td>Chiang Mai</td>\n",
              "      <td>188.415948</td>\n",
              "    </tr>\n",
              "    <tr>\n",
              "      <th>79</th>\n",
              "      <td>ก๋วยเตี๋ยวเรือสะใจ</td>\n",
              "      <td>Chiang Mai</td>\n",
              "      <td>188.415948</td>\n",
              "    </tr>\n",
              "  </tbody>\n",
              "</table>\n",
              "</div>"
            ],
            "text/plain": [
              "                            name   city_name   avg_price\n",
              "36                   Wrap Master  Chiang Mai  188.415948\n",
              "40                         Sozen  Chiang Mai  188.415948\n",
              "52           ไวท์ดราก้อน หมูกะทะ  Chiang Mai  188.415948\n",
              "60  เต-ชา ก๋วยเตี๋ยวไข่ไดโนเสาร์  Chiang Mai  188.415948\n",
              "79            ก๋วยเตี๋ยวเรือสะใจ  Chiang Mai  188.415948"
            ]
          },
          "metadata": {
            "tags": []
          },
          "execution_count": 135
        }
      ]
    },
    {
      "cell_type": "code",
      "metadata": {
        "id": "AHSBFHimGFgo",
        "outputId": "247a86c8-0696-46bd-f90e-11e412cd1d7f",
        "colab": {
          "base_uri": "https://localhost:8080/",
          "height": 221
        }
      },
      "source": [
        " new_table ['city_name']"
      ],
      "execution_count": 136,
      "outputs": [
        {
          "output_type": "execute_result",
          "data": {
            "text/plain": [
              "0                     Samut Songkhram\n",
              "1         Bangkok Metropolitan Region\n",
              "2            Phra Nakhon Si Ayutthaya\n",
              "3         Bangkok Metropolitan Region\n",
              "4         Bangkok Metropolitan Region\n",
              "                     ...             \n",
              "246842    Bangkok Metropolitan Region\n",
              "246843    Bangkok Metropolitan Region\n",
              "246844    Bangkok Metropolitan Region\n",
              "246845            Nakhon Si Thammarat\n",
              "246846                    Suphan Buri\n",
              "Name: city_name, Length: 246847, dtype: object"
            ]
          },
          "metadata": {
            "tags": []
          },
          "execution_count": 136
        }
      ]
    },
    {
      "cell_type": "code",
      "metadata": {
        "id": "XuEXIN8S1n7Y",
        "outputId": "7a06e4cf-1fdf-46d0-ecb5-8c450b045ace",
        "colab": {
          "base_uri": "https://localhost:8080/",
          "height": 419
        }
      },
      "source": [
        "pd_concat = pandas.concat([bkk_table,cm_table])\n",
        "pd_concat"
      ],
      "execution_count": 137,
      "outputs": [
        {
          "output_type": "execute_result",
          "data": {
            "text/html": [
              "<div>\n",
              "<style scoped>\n",
              "    .dataframe tbody tr th:only-of-type {\n",
              "        vertical-align: middle;\n",
              "    }\n",
              "\n",
              "    .dataframe tbody tr th {\n",
              "        vertical-align: top;\n",
              "    }\n",
              "\n",
              "    .dataframe thead th {\n",
              "        text-align: right;\n",
              "    }\n",
              "</style>\n",
              "<table border=\"1\" class=\"dataframe\">\n",
              "  <thead>\n",
              "    <tr style=\"text-align: right;\">\n",
              "      <th></th>\n",
              "      <th>name</th>\n",
              "      <th>city_name</th>\n",
              "      <th>avg_price</th>\n",
              "    </tr>\n",
              "  </thead>\n",
              "  <tbody>\n",
              "    <tr>\n",
              "      <th>1</th>\n",
              "      <td>Corner House</td>\n",
              "      <td>Bangkok Metropolitan Region</td>\n",
              "      <td>392.585472</td>\n",
              "    </tr>\n",
              "    <tr>\n",
              "      <th>3</th>\n",
              "      <td>นันท์คาราโอเกะ</td>\n",
              "      <td>Bangkok Metropolitan Region</td>\n",
              "      <td>392.585472</td>\n",
              "    </tr>\n",
              "    <tr>\n",
              "      <th>4</th>\n",
              "      <td>Buono Caffe</td>\n",
              "      <td>Bangkok Metropolitan Region</td>\n",
              "      <td>392.585472</td>\n",
              "    </tr>\n",
              "    <tr>\n",
              "      <th>7</th>\n",
              "      <td>Sazanami</td>\n",
              "      <td>Bangkok Metropolitan Region</td>\n",
              "      <td>392.585472</td>\n",
              "    </tr>\n",
              "    <tr>\n",
              "      <th>10</th>\n",
              "      <td>Rotee Me Chabu</td>\n",
              "      <td>Bangkok Metropolitan Region</td>\n",
              "      <td>392.585472</td>\n",
              "    </tr>\n",
              "    <tr>\n",
              "      <th>...</th>\n",
              "      <td>...</td>\n",
              "      <td>...</td>\n",
              "      <td>...</td>\n",
              "    </tr>\n",
              "    <tr>\n",
              "      <th>246783</th>\n",
              "      <td>ส้มตำลำฮิมกอง</td>\n",
              "      <td>Chiang Mai</td>\n",
              "      <td>188.415948</td>\n",
              "    </tr>\n",
              "    <tr>\n",
              "      <th>246803</th>\n",
              "      <td>ไก่ทอดปักษ์ใต้ นายหัวโต</td>\n",
              "      <td>Chiang Mai</td>\n",
              "      <td>188.415948</td>\n",
              "    </tr>\n",
              "    <tr>\n",
              "      <th>246808</th>\n",
              "      <td>แคลิฟอร์เนียเวร็ป</td>\n",
              "      <td>Chiang Mai</td>\n",
              "      <td>188.415948</td>\n",
              "    </tr>\n",
              "    <tr>\n",
              "      <th>246813</th>\n",
              "      <td>TOONGs COFFEE Roasters</td>\n",
              "      <td>Chiang Mai</td>\n",
              "      <td>188.415948</td>\n",
              "    </tr>\n",
              "    <tr>\n",
              "      <th>246826</th>\n",
              "      <td>ลาบเขยยอง</td>\n",
              "      <td>Chiang Mai</td>\n",
              "      <td>188.415948</td>\n",
              "    </tr>\n",
              "  </tbody>\n",
              "</table>\n",
              "<p>116258 rows × 3 columns</p>\n",
              "</div>"
            ],
            "text/plain": [
              "                           name                    city_name   avg_price\n",
              "1                  Corner House  Bangkok Metropolitan Region  392.585472\n",
              "3                นันท์คาราโอเกะ  Bangkok Metropolitan Region  392.585472\n",
              "4                   Buono Caffe  Bangkok Metropolitan Region  392.585472\n",
              "7                      Sazanami  Bangkok Metropolitan Region  392.585472\n",
              "10               Rotee Me Chabu  Bangkok Metropolitan Region  392.585472\n",
              "...                         ...                          ...         ...\n",
              "246783            ส้มตำลำฮิมกอง                   Chiang Mai  188.415948\n",
              "246803  ไก่ทอดปักษ์ใต้ นายหัวโต                   Chiang Mai  188.415948\n",
              "246808        แคลิฟอร์เนียเวร็ป                   Chiang Mai  188.415948\n",
              "246813   TOONGs COFFEE Roasters                   Chiang Mai  188.415948\n",
              "246826                ลาบเขยยอง                   Chiang Mai  188.415948\n",
              "\n",
              "[116258 rows x 3 columns]"
            ]
          },
          "metadata": {
            "tags": []
          },
          "execution_count": 137
        }
      ]
    },
    {
      "cell_type": "markdown",
      "metadata": {
        "id": "MBMmJoAd3PHD"
      },
      "source": [
        ""
      ]
    },
    {
      "cell_type": "code",
      "metadata": {
        "id": "PlZwlqOM4Fd4"
      },
      "source": [
        ""
      ],
      "execution_count": 137,
      "outputs": []
    },
    {
      "cell_type": "code",
      "metadata": {
        "id": "H8DTEmO33Pb1",
        "outputId": "0cd8854a-7151-4e34-8e1a-4e44e188c364",
        "colab": {
          "base_uri": "https://localhost:8080/",
          "height": 34
        }
      },
      "source": [
        "all_cities = set(new_table['city_name'])\n",
        "len(all_cities)"
      ],
      "execution_count": 138,
      "outputs": [
        {
          "output_type": "execute_result",
          "data": {
            "text/plain": [
              "479"
            ]
          },
          "metadata": {
            "tags": []
          },
          "execution_count": 138
        }
      ]
    },
    {
      "cell_type": "code",
      "metadata": {
        "id": "xOBu-Vu64Xmv",
        "outputId": "d381c7c9-b73d-4b21-dccc-c4ee87fe77e1",
        "colab": {
          "base_uri": "https://localhost:8080/",
          "height": 34
        }
      },
      "source": [
        "all_mean = new_table.dropna(subset=['avg_price'])['avg_price'].mean()\n",
        "all_mean"
      ],
      "execution_count": 139,
      "outputs": [
        {
          "output_type": "execute_result",
          "data": {
            "text/plain": [
              "327.44728783902013"
            ]
          },
          "metadata": {
            "tags": []
          },
          "execution_count": 139
        }
      ]
    },
    {
      "cell_type": "markdown",
      "metadata": {
        "id": "DGCuOLfR8PgJ"
      },
      "source": [
        "#สร้าง list ของตารางของทุกๆจังหวัด\n"
      ]
    },
    {
      "cell_type": "code",
      "metadata": {
        "id": "43pxj1xI44xI",
        "outputId": "183dd52e-42f0-4462-e372-5e42a312c341",
        "colab": {
          "base_uri": "https://localhost:8080/",
          "height": 130
        }
      },
      "source": [
        "all_cities_list = []\n",
        "for each_city in list(all_cities) :\n",
        "  temp_table = new_table[new_table['city_name']==each_city]\n",
        "  temp_[['avg_price']] = temp_table[[\"avg_price\"]].fillna(new_table['city_name']==each_city].dropna()['avg_price'],mean()) #หา Mean ทุกๆจังหวัด\n",
        "  aii_cities_list.append(temp_table) #ตารางที่แก้ missing แล้วมาใส่ในตารางใหม่"
      ],
      "execution_count": 142,
      "outputs": [
        {
          "output_type": "error",
          "ename": "SyntaxError",
          "evalue": "ignored",
          "traceback": [
            "\u001b[0;36m  File \u001b[0;32m\"<ipython-input-142-8a4d7f39bbd1>\"\u001b[0;36m, line \u001b[0;32m4\u001b[0m\n\u001b[0;31m    temp_[['avg_price']] = temp_table[[\"avg_price\"]].fillna(new_table['city_name']==each_city].dropna()['avg_price'],mean()) #หา Mean ทุกๆจังหวัด\u001b[0m\n\u001b[0m                                                                                             ^\u001b[0m\n\u001b[0;31mSyntaxError\u001b[0m\u001b[0;31m:\u001b[0m invalid syntax\n"
          ]
        }
      ]
    },
    {
      "cell_type": "code",
      "metadata": {
        "id": "WxjI6J_F8B6k",
        "outputId": "a4c2fac4-2ceb-4963-9c37-d2c517adfdfe",
        "colab": {
          "base_uri": "https://localhost:8080/",
          "height": 130
        }
      },
      "source": [
        "all_cities_list = []\n",
        "for each_city in list(all_cities) :\n",
        "  temp_table = new_table[new_table['city_name']==each_city].copy() # .copy เอามาทุกจังหวัด\n",
        "  temp_[['avg_price']] = temp_table[[\"avg_price\"]].fillna(new_table['city_name']==each_city].dropna()['avg_price'],mean())\n",
        "  aii_cities_list.append(temp_table)"
      ],
      "execution_count": 143,
      "outputs": [
        {
          "output_type": "error",
          "ename": "SyntaxError",
          "evalue": "ignored",
          "traceback": [
            "\u001b[0;36m  File \u001b[0;32m\"<ipython-input-143-d893bdb169a5>\"\u001b[0;36m, line \u001b[0;32m4\u001b[0m\n\u001b[0;31m    temp_[['avg_price']] = temp_table[[\"avg_price\"]].fillna(new_table['city_name']==each_city].dropna()['avg_price'],mean())\u001b[0m\n\u001b[0m                                                                                             ^\u001b[0m\n\u001b[0;31mSyntaxError\u001b[0m\u001b[0;31m:\u001b[0m invalid syntax\n"
          ]
        }
      ]
    },
    {
      "cell_type": "markdown",
      "metadata": {
        "id": "aSdgpiI-9BnE"
      },
      "source": [
        ""
      ]
    },
    {
      "cell_type": "code",
      "metadata": {
        "id": "SkvK8q_28_39"
      },
      "source": [
        "all_no_missing = pandas.concat(all_cities_list)\n",
        "all_no_missing"
      ],
      "execution_count": null,
      "outputs": []
    },
    {
      "cell_type": "markdown",
      "metadata": {
        "id": "sAE6eZcd-1-N"
      },
      "source": [
        "# 5.เติมค่า mean ของทั้งตารางให้กับจังหวัดที่ ไม่มี mean"
      ]
    },
    {
      "cell_type": "code",
      "metadata": {
        "id": "wVuiijV5-Psk"
      },
      "source": [
        "all_no_missing = all_no_missing.fillna(all_mean)\n",
        "all_no_missing.isnull().any()"
      ],
      "execution_count": null,
      "outputs": []
    },
    {
      "cell_type": "code",
      "metadata": {
        "id": "vxhKcJDu9mKD"
      },
      "source": [
        "all_no_missing[all_no_missing['city_name'] == 'chiang mai']"
      ],
      "execution_count": null,
      "outputs": []
    },
    {
      "cell_type": "markdown",
      "metadata": {
        "id": "GSPTvwtC_uJE"
      },
      "source": [
        "##Remove Outlier (boxplot) "
      ]
    },
    {
      "cell_type": "markdown",
      "metadata": {
        "id": "_DKg3-tNAQcq"
      },
      "source": [
        "### Quiz วาด boxplot ของค่า 'avg_price' ของตาราง all_no_missing (แนวนอน)"
      ]
    },
    {
      "cell_type": "code",
      "metadata": {
        "id": "x30VW2bI_7-H"
      },
      "source": [
        "from matplotlib import pyplot as plt"
      ],
      "execution_count": 87,
      "outputs": []
    },
    {
      "cell_type": "code",
      "metadata": {
        "id": "xqHOtjbHCQ6J",
        "outputId": "e9ff677b-d32f-454c-aeaa-fd129718b195",
        "colab": {
          "base_uri": "https://localhost:8080/",
          "height": 164
        }
      },
      "source": [
        "plt.boxplot(all_no_missing['avg_price'],vert = False)\n"
      ],
      "execution_count": 88,
      "outputs": [
        {
          "output_type": "error",
          "ename": "NameError",
          "evalue": "ignored",
          "traceback": [
            "\u001b[0;31m---------------------------------------------------------------------------\u001b[0m",
            "\u001b[0;31mNameError\u001b[0m                                 Traceback (most recent call last)",
            "\u001b[0;32m<ipython-input-88-650727435af2>\u001b[0m in \u001b[0;36m<module>\u001b[0;34m()\u001b[0m\n\u001b[0;32m----> 1\u001b[0;31m \u001b[0mplt\u001b[0m\u001b[0;34m.\u001b[0m\u001b[0mboxplot\u001b[0m\u001b[0;34m(\u001b[0m\u001b[0mall_no_missing\u001b[0m\u001b[0;34m[\u001b[0m\u001b[0;34m'avg_price'\u001b[0m\u001b[0;34m]\u001b[0m\u001b[0;34m,\u001b[0m\u001b[0mvert\u001b[0m \u001b[0;34m=\u001b[0m \u001b[0;32mFalse\u001b[0m\u001b[0;34m)\u001b[0m\u001b[0;34m\u001b[0m\u001b[0;34m\u001b[0m\u001b[0m\n\u001b[0m",
            "\u001b[0;31mNameError\u001b[0m: name 'all_no_missing' is not defined"
          ]
        }
      ]
    },
    {
      "cell_type": "code",
      "metadata": {
        "id": "Jx9eX-6xGwC-"
      },
      "source": [
        "print(ret['whisker'][0].get_xdata()[1])\n",
        "print(ret['whisker'][1].get_xdata()[1])"
      ],
      "execution_count": null,
      "outputs": []
    },
    {
      "cell_type": "code",
      "metadata": {
        "id": "Jd2sMwY4HK8n"
      },
      "source": [
        "nooutlier_nomissing = all_nomissing[all_no_missing['avg_price']>=ret['whisker'][0].get_xdata()[1]]\n",
        "nooutlier_nomissing =nooutlier_ nomissing[nooutlier_ nomissing['avg_price']<=ret['whisker'][1].get_xdata()[1]]\n",
        "nooutlier_nomissing"
      ],
      "execution_count": null,
      "outputs": []
    }
  ]
}