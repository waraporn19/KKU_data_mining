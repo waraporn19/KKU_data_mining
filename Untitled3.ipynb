{
  "nbformat": 4,
  "nbformat_minor": 0,
  "metadata": {
    "colab": {
      "name": "Untitled3.ipynb",
      "provenance": [],
      "authorship_tag": "ABX9TyOyLTDNFB6O5A3o7O3mWIAT",
      "include_colab_link": true
    },
    "kernelspec": {
      "name": "python3",
      "display_name": "Python 3"
    }
  },
  "cells": [
    {
      "cell_type": "markdown",
      "metadata": {
        "id": "view-in-github",
        "colab_type": "text"
      },
      "source": [
        "<a href=\"https://colab.research.google.com/github/waraporn19/KKU_data_mining/blob/master/Untitled3.ipynb\" target=\"_parent\"><img src=\"https://colab.research.google.com/assets/colab-badge.svg\" alt=\"Open In Colab\"/></a>"
      ]
    },
    {
      "cell_type": "code",
      "metadata": {
        "id": "FdZ_rA2NjAf-"
      },
      "source": [
        "pd, os, scatter plot, กาารหาค่ากลาง, ควอไทน์ที่ 1, if, List Slicing"
      ],
      "execution_count": null,
      "outputs": []
    },
    {
      "cell_type": "markdown",
      "metadata": {
        "id": "j1uaq0q6jZtl"
      },
      "source": [
        "\n",
        ".head(‘จำนวน row ที่อยากได้ออกมาแสดงนับจากแถวบนสุด’) เช่น dt.head(8)\n",
        "\n",
        ".tail\n",
        "\n",
        ".shape บอกจำนวน แถว หลัก\n",
        "\n",
        ".append(ตัวเลขที่จะเพิ่มเข้าไป)\n",
        "\n",
        ".sort() เรียงน้อย ->มาก\n",
        "\n",
        ".sort(reverse=True) // .reverse() เรียงมาก ->น้อย\n",
        "\n",
        ".sample(9) เพื่อดูข้อมูลแบบสุ่มจำนวน 9 แถว"
      ]
    },
    {
      "cell_type": "markdown",
      "metadata": {
        "id": "AuSB-sISjcg2"
      },
      "source": [
        ".info เพื่อเรียกดูข้อมูลของ Data Frame\n",
        "\n",
        ".astype(‘ชนิดของข้อมูลที่ต้องการ’) ex. ('int35'), (float55')\n",
        "\n",
        ".describe() การหาค่า (count, mean ,std ,min ,25% ,50% ,75%, max)ของข้อมูลแต่ละ column\n",
        "\n",
        ".isnull() เช็คของมูลที่มีค่าเป็น Null : True คือมี Null\n",
        "\n",
        ".notnull() วิธีเช็คข้อมูล ที่ไม่เป็นเป็น Null\n",
        "\n",
        ".query(‘เงื่อนไขที่ต้องการ’) วิธีกรองข้อมูลแบบมีเงื่อนไข\n",
        "\n",
        ".T สลับ Row กับ Column: transpose\n",
        "\n",
        ".merge(table1, table2, left_on=”column table1”, right_on=”column table2”, how=”รูปแบบการ join”)\n",
        "\n",
        "”inner” “outer” “left” “right”\n",
        "\n",
        ".agg('mean') การหาค่า mean, max , sum (aggregate)ทั้ง dataframe\n",
        "\n",
        ".unique() การหาค่าข้อมูลที่ไม่ซ้ำกันในแต่ละ column ex. data['column'].unique()\n",
        "\n",
        ".duplicated() ex. data.duplicated(['column'])"
      ]
    },
    {
      "cell_type": "markdown",
      "metadata": {
        "id": "olqP6dPHjmj1"
      },
      "source": [
        "การนับข้อมูลที่ duplicate() -> len(dataframe[dataframe.duplicated([‘column name’], keep = False)])\n",
        "\n",
        ".replace() การแทนค่าข้อมูลในตาราง ex data.replace(1,50) เลข 1 ให้แทนด้วย 50\n",
        "\n",
        "pd.DataFrame(ชื่อlist)\n",
        "\n",
        ".loc['ชื่อของแถว']\n",
        "\n",
        ".iloc[ลำดับตัวเลข] เริ่มจาก 0\n",
        "\n",
        "list(range(-4,99,3) เริ่มจาก-4 ไปถึง 99 โดยเพิ่มทีละ 3\n",
        "\n",
        "Slicing\n",
        "list[::-1] ย้อน list จากตัวสุดท้าย มาจนถึงตัวแรก"
      ]
    },
    {
      "cell_type": "markdown",
      "metadata": {
        "id": "legzu9NUjrJK"
      },
      "source": [
        "Data102\n",
        "\n",
        "Box plot, Scatter plot, Plot (หาจุดแรกม เพิ่มสี ) , Bar chart, Histogram\n",
        "\n",
        "แทรกข้อมูลด้วย hstack คือการแทรกข้อมูลในแนวตั้ง\n",
        "\n",
        "แทรกข้อมูลด้วย vstack คือการแทรกข้อมูลในแนวนอน"
      ]
    },
    {
      "cell_type": "markdown",
      "metadata": {
        "id": "G-OyMZKgj0oa"
      },
      "source": [
        "#Data103 Distance\n",
        "Numpy Array, process, Distance of nominal or categorical features\n",
        "\n",
        "สร้าง array ที่มีค่าเป็น 1 ด้วย np.ones([ขนาดแถว, ขนาดหลัก]) : (( , ))\n",
        "\n",
        "สร้าง array ที่มีค่าเป็น 0 ด้วย np.zeros([ขนาดแถว, ขนาดหลัก])"
      ]
    },
    {
      "cell_type": "markdown",
      "metadata": {
        "id": "VwNQRBVmkKw_"
      },
      "source": [
        "Dimention อธิบายตัวมุมมองของข้อมูล\n",
        "\n",
        "Fact table เก็บ/ใช้อธิบายตัวที่เราสนใจจริง ๆ\n",
        "\n",
        "Data Cube ข้อมูล 1 ตัวที่ถูกมองหลายมุม\n",
        "\n",
        "star Schema measures\n",
        "\n",
        "Snawfleck บางมุมมองของข้อมูลถูก normalize\n",
        "\n",
        "fact constellation schema มี fact หลายตัวเชื่อมกัน\n",
        "\n",
        "hierarchy ลำดับชั้น ดูได้หลายมุมมอง ปท. ทวีป โลก ขึ้นลงได้\n",
        "\n",
        "roll up ยุปรวม หลายเมือง - ประเทศ - ทวีป\n",
        "\n",
        "drill down การซูมดู ปี Q สัปดาห์ วัน\n",
        "\n",
        "slice/Dice หัาน ให้เป็นแผ่น / ลูกเต๋าเล็กๆ\n",
        "\n",
        "pivot การ transpost"
      ]
    },
    {
      "cell_type": "markdown",
      "metadata": {
        "id": "FvRNSI18kMYf"
      },
      "source": [
        "KNN\n",
        "k=3 หาตัวที่ใกล้ที่สุด3 ตัว\n",
        "\n",
        "ใช้การโหวต\n",
        "\n",
        "weight = uniformให้นน.เพื่อนบ้านเท่ากัน, distance คนใกล้นน.มากกว่า\n",
        "\n",
        "metric ระยะทาง ' minkowski' Manhattan, Minkowski, Cosine หรือ Jaccard ขึ้นอยู่กับประเภทของข้อมูลที่เรากำลังวิเคราะห์อยู่"
      ]
    }
  ]
}