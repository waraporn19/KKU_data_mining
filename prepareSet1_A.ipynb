{
  "nbformat": 4,
  "nbformat_minor": 0,
  "metadata": {
    "colab": {
      "name": "prepareSet1_A.ipynb",
      "provenance": [],
      "collapsed_sections": [
        "qjY_4stpKt6h",
        "MBanZfyaN_Ur",
        "DzUq8OAol_iL",
        "EG2mdo4UprE4",
        "e6GT7u_6pyP2"
      ],
      "authorship_tag": "ABX9TyMFH9/CC77X0aE1vouwlJJW",
      "include_colab_link": true
    },
    "kernelspec": {
      "name": "python3",
      "display_name": "Python 3"
    },
    "language_info": {
      "name": "python"
    }
  },
  "cells": [
    {
      "cell_type": "markdown",
      "metadata": {
        "id": "view-in-github",
        "colab_type": "text"
      },
      "source": [
        "<a href=\"https://colab.research.google.com/github/waraporn19/KKU_data_mining/blob/master/prepareSet1_A.ipynb\" target=\"_parent\"><img src=\"https://colab.research.google.com/assets/colab-badge.svg\" alt=\"Open In Colab\"/></a>"
      ]
    },
    {
      "cell_type": "code",
      "execution_count": 4,
      "metadata": {
        "id": "Ymwqnwsbih-m"
      },
      "outputs": [],
      "source": [
        "import pandas as pd"
      ]
    },
    {
      "cell_type": "code",
      "execution_count": 5,
      "metadata": {
        "colab": {
          "base_uri": "https://localhost:8080/"
        },
        "id": "EHrxpNqlqgeI",
        "outputId": "01db3852-6680-4b10-f42f-a038fe2fbb05"
      },
      "outputs": [
        {
          "output_type": "stream",
          "name": "stdout",
          "text": [
            "Mounted at /content/drive\n"
          ]
        }
      ],
      "source": [
        "from google.colab import drive \n",
        "drive.mount('/content/drive')"
      ]
    },
    {
      "cell_type": "code",
      "execution_count": 6,
      "metadata": {
        "id": "7Jmnpc3sq5sI"
      },
      "outputs": [],
      "source": [
        "path = '/content/drive/My Drive/shadeimg/SVM shade'"
      ]
    },
    {
      "cell_type": "code",
      "execution_count": 7,
      "metadata": {
        "id": "u0pE0Y7GrGZc"
      },
      "outputs": [],
      "source": [
        "import os"
      ]
    },
    {
      "cell_type": "code",
      "execution_count": 8,
      "metadata": {
        "colab": {
          "base_uri": "https://localhost:8080/"
        },
        "id": "lb9f-peNrAwQ",
        "outputId": "9d8d6361-f442-4f94-c558-3fbaf9cb1842"
      },
      "outputs": [
        {
          "output_type": "execute_result",
          "data": {
            "text/plain": [
              "['DD.xlsx',\n",
              " 'CC.xlsx',\n",
              " 'BB.xlsx',\n",
              " 'Shade_AA.xlsx',\n",
              " 'Shade_CC.xlsx',\n",
              " 'Shade_DD.xlsx',\n",
              " 'Shade_BB.xlsx',\n",
              " 'AA.xlsx',\n",
              " 'Color-checker.xlsx']"
            ]
          },
          "metadata": {},
          "execution_count": 8
        }
      ],
      "source": [
        "os.listdir(path)"
      ]
    },
    {
      "cell_type": "code",
      "execution_count": 9,
      "metadata": {
        "colab": {
          "base_uri": "https://localhost:8080/"
        },
        "id": "wwZX8yQokAxo",
        "outputId": "7ee29495-7371-44f1-9215-d25b5c2b7b93"
      },
      "outputs": [
        {
          "output_type": "stream",
          "name": "stdout",
          "text": [
            "Collecting azure-storage-blob==2.1.0\n",
            "  Downloading azure_storage_blob-2.1.0-py2.py3-none-any.whl (88 kB)\n",
            "\u001b[?25l\r\u001b[K     |███▊                            | 10 kB 25.5 MB/s eta 0:00:01\r\u001b[K     |███████▍                        | 20 kB 30.5 MB/s eta 0:00:01\r\u001b[K     |███████████▏                    | 30 kB 12.0 MB/s eta 0:00:01\r\u001b[K     |██████████████▉                 | 40 kB 14.5 MB/s eta 0:00:01\r\u001b[K     |██████████████████▋             | 51 kB 17.0 MB/s eta 0:00:01\r\u001b[K     |██████████████████████▎         | 61 kB 14.7 MB/s eta 0:00:01\r\u001b[K     |██████████████████████████      | 71 kB 14.7 MB/s eta 0:00:01\r\u001b[K     |█████████████████████████████▊  | 81 kB 16.0 MB/s eta 0:00:01\r\u001b[K     |████████████████████████████████| 88 kB 4.0 MB/s \n",
            "\u001b[?25hCollecting azure-storage-common~=2.1\n",
            "  Downloading azure_storage_common-2.1.0-py2.py3-none-any.whl (47 kB)\n",
            "\u001b[K     |████████████████████████████████| 47 kB 4.2 MB/s \n",
            "\u001b[?25hCollecting azure-common>=1.1.5\n",
            "  Downloading azure_common-1.1.27-py2.py3-none-any.whl (12 kB)\n",
            "Requirement already satisfied: python-dateutil in /usr/local/lib/python3.7/dist-packages (from azure-storage-common~=2.1->azure-storage-blob==2.1.0) (2.8.2)\n",
            "Requirement already satisfied: requests in /usr/local/lib/python3.7/dist-packages (from azure-storage-common~=2.1->azure-storage-blob==2.1.0) (2.23.0)\n",
            "Collecting cryptography\n",
            "  Downloading cryptography-36.0.1-cp36-abi3-manylinux_2_24_x86_64.whl (3.6 MB)\n",
            "\u001b[K     |████████████████████████████████| 3.6 MB 54.7 MB/s \n",
            "\u001b[?25hRequirement already satisfied: cffi>=1.12 in /usr/local/lib/python3.7/dist-packages (from cryptography->azure-storage-common~=2.1->azure-storage-blob==2.1.0) (1.15.0)\n",
            "Requirement already satisfied: pycparser in /usr/local/lib/python3.7/dist-packages (from cffi>=1.12->cryptography->azure-storage-common~=2.1->azure-storage-blob==2.1.0) (2.21)\n",
            "Requirement already satisfied: six>=1.5 in /usr/local/lib/python3.7/dist-packages (from python-dateutil->azure-storage-common~=2.1->azure-storage-blob==2.1.0) (1.15.0)\n",
            "Requirement already satisfied: idna<3,>=2.5 in /usr/local/lib/python3.7/dist-packages (from requests->azure-storage-common~=2.1->azure-storage-blob==2.1.0) (2.10)\n",
            "Requirement already satisfied: chardet<4,>=3.0.2 in /usr/local/lib/python3.7/dist-packages (from requests->azure-storage-common~=2.1->azure-storage-blob==2.1.0) (3.0.4)\n",
            "Requirement already satisfied: certifi>=2017.4.17 in /usr/local/lib/python3.7/dist-packages (from requests->azure-storage-common~=2.1->azure-storage-blob==2.1.0) (2021.10.8)\n",
            "Requirement already satisfied: urllib3!=1.25.0,!=1.25.1,<1.26,>=1.21.1 in /usr/local/lib/python3.7/dist-packages (from requests->azure-storage-common~=2.1->azure-storage-blob==2.1.0) (1.24.3)\n",
            "Installing collected packages: cryptography, azure-common, azure-storage-common, azure-storage-blob\n",
            "Successfully installed azure-common-1.1.27 azure-storage-blob-2.1.0 azure-storage-common-2.1.0 cryptography-36.0.1\n"
          ]
        }
      ],
      "source": [
        "!pip install azure-storage-blob==2.1.0"
      ]
    },
    {
      "cell_type": "code",
      "execution_count": 10,
      "metadata": {
        "id": "upBpPzhgmWjh"
      },
      "outputs": [],
      "source": [
        "from azure.storage.blob import BlockBlobService\n",
        "import os"
      ]
    },
    {
      "cell_type": "code",
      "execution_count": 11,
      "metadata": {
        "id": "k3-2jUTwmWq1"
      },
      "outputs": [],
      "source": [
        "blob_service_client = BlockBlobService(account_name='dent01', account_key='CuShY0B4TZJ84TjzPpaHxyrHOpO73aGXeCpdVq7x26OjIlQ1HOz+3DVc9pDEj9BdcEL8odFuTRF0mOAE+aCgiw==')"
      ]
    },
    {
      "cell_type": "code",
      "execution_count": 12,
      "metadata": {
        "id": "r02hCfq4rnrg"
      },
      "outputs": [],
      "source": [
        "import cv2\n",
        "from matplotlib import pyplot as plt #การเรียกใช้คำสั่ง matplotlib เพื่อวาดกราฟ โดยแทนชื่อ matplotlib ด้วย plt\n",
        "import matplotlib"
      ]
    },
    {
      "cell_type": "code",
      "execution_count": 13,
      "metadata": {
        "id": "9yH_FPhvSBdf"
      },
      "outputs": [],
      "source": [
        "AA = os.path.join(path,'AA.xlsx')"
      ]
    },
    {
      "cell_type": "code",
      "execution_count": 14,
      "metadata": {
        "colab": {
          "base_uri": "https://localhost:8080/",
          "height": 424
        },
        "id": "q8cds2a6RyqT",
        "outputId": "49852cad-7b7e-4459-fb83-7321b3d0ee9c"
      },
      "outputs": [
        {
          "output_type": "execute_result",
          "data": {
            "text/html": [
              "\n",
              "  <div id=\"df-ffd4734a-7bf7-4394-af97-e8e63b91150f\">\n",
              "    <div class=\"colab-df-container\">\n",
              "      <div>\n",
              "<style scoped>\n",
              "    .dataframe tbody tr th:only-of-type {\n",
              "        vertical-align: middle;\n",
              "    }\n",
              "\n",
              "    .dataframe tbody tr th {\n",
              "        vertical-align: top;\n",
              "    }\n",
              "\n",
              "    .dataframe thead th {\n",
              "        text-align: right;\n",
              "    }\n",
              "</style>\n",
              "<table border=\"1\" class=\"dataframe\">\n",
              "  <thead>\n",
              "    <tr style=\"text-align: right;\">\n",
              "      <th></th>\n",
              "      <th>ชื่อไฟล์ข้อมูล</th>\n",
              "      <th>รหัสเฉดไกด์</th>\n",
              "      <th>Unnamed: 2</th>\n",
              "      <th>ชนิดกล้องถ่ายรูป</th>\n",
              "      <th>แสงที่ใช้</th>\n",
              "      <th>ฉากหลัง</th>\n",
              "      <th>หมายเหตุ</th>\n",
              "    </tr>\n",
              "  </thead>\n",
              "  <tbody>\n",
              "    <tr>\n",
              "      <th>0</th>\n",
              "      <td>NaN</td>\n",
              "      <td>ฝั่งซ้าย</td>\n",
              "      <td>ฝั่งขวา</td>\n",
              "      <td>NaN</td>\n",
              "      <td>NaN</td>\n",
              "      <td>NaN</td>\n",
              "      <td>NaN</td>\n",
              "    </tr>\n",
              "    <tr>\n",
              "      <th>1</th>\n",
              "      <td>34F0629C-69B1-4125-85F4-7E496A7847A0.png</td>\n",
              "      <td>A1</td>\n",
              "      <td>A1</td>\n",
              "      <td>Iphone 11</td>\n",
              "      <td>ไฟกลมในห้อง และไฟนีออน 4 ดวง</td>\n",
              "      <td>สีดำ</td>\n",
              "      <td>ค่า duration 1/100 ISO 630</td>\n",
              "    </tr>\n",
              "    <tr>\n",
              "      <th>2</th>\n",
              "      <td>75D1D3E7-592F-475B-9A9A-875F69F08B32.png</td>\n",
              "      <td>A1</td>\n",
              "      <td>A1</td>\n",
              "      <td>Iphone 11</td>\n",
              "      <td>ไฟกลมในห้อง และไฟนีออน 4 ดวง</td>\n",
              "      <td>สีดำ</td>\n",
              "      <td>ค่า duration 1/100 ISO 630</td>\n",
              "    </tr>\n",
              "    <tr>\n",
              "      <th>3</th>\n",
              "      <td>0269AD27-018D-4F5C-8420-0138CBE2F66D.png</td>\n",
              "      <td>A1</td>\n",
              "      <td>A1</td>\n",
              "      <td>Iphone 11</td>\n",
              "      <td>ไฟกลมในห้อง และไฟนีออน 4 ดวง</td>\n",
              "      <td>สีดำ</td>\n",
              "      <td>ค่า duration 1/100 ISO 630</td>\n",
              "    </tr>\n",
              "    <tr>\n",
              "      <th>4</th>\n",
              "      <td>23588608-16F4-4103-ABCE-12D22092B61E.png</td>\n",
              "      <td>A1</td>\n",
              "      <td>A1</td>\n",
              "      <td>Iphone 11</td>\n",
              "      <td>ไฟกลมในห้อง และไฟนีออน 4 ดวง</td>\n",
              "      <td>สีดำ</td>\n",
              "      <td>ค่า duration 1/100 ISO 630</td>\n",
              "    </tr>\n",
              "    <tr>\n",
              "      <th>...</th>\n",
              "      <td>...</td>\n",
              "      <td>...</td>\n",
              "      <td>...</td>\n",
              "      <td>...</td>\n",
              "      <td>...</td>\n",
              "      <td>...</td>\n",
              "      <td>...</td>\n",
              "    </tr>\n",
              "    <tr>\n",
              "      <th>157</th>\n",
              "      <td>F055D60E-75F4-409F-BD02-630F03AE0403.png</td>\n",
              "      <td>A1</td>\n",
              "      <td>D4</td>\n",
              "      <td>Iphone 11</td>\n",
              "      <td>ไฟกลมในห้อง และไฟนีออน 4 ดวง</td>\n",
              "      <td>สีดำ</td>\n",
              "      <td>ค่า duration 1/100 ISO 630</td>\n",
              "    </tr>\n",
              "    <tr>\n",
              "      <th>158</th>\n",
              "      <td>A8C098DB-7C71-4987-BA14-87C945E5327E.png</td>\n",
              "      <td>A1</td>\n",
              "      <td>D4</td>\n",
              "      <td>Iphone 11</td>\n",
              "      <td>ไฟกลมในห้อง และไฟนีออน 4 ดวง</td>\n",
              "      <td>สีดำ</td>\n",
              "      <td>ค่า duration 1/100 ISO 630</td>\n",
              "    </tr>\n",
              "    <tr>\n",
              "      <th>159</th>\n",
              "      <td>C2265DF6-63D4-4B00-919C-CB891BF75E67.png</td>\n",
              "      <td>A1</td>\n",
              "      <td>D4</td>\n",
              "      <td>Iphone 11</td>\n",
              "      <td>ไฟกลมในห้อง และไฟนีออน 4 ดวง</td>\n",
              "      <td>สีดำ</td>\n",
              "      <td>ค่า duration 1/100 ISO 630</td>\n",
              "    </tr>\n",
              "    <tr>\n",
              "      <th>160</th>\n",
              "      <td>A7F2FAFC-9EE8-4E34-A180-7A7E5030F4F7.png</td>\n",
              "      <td>A1</td>\n",
              "      <td>D4</td>\n",
              "      <td>Iphone 11</td>\n",
              "      <td>ไฟกลมในห้อง และไฟนีออน 4 ดวง</td>\n",
              "      <td>สีดำ</td>\n",
              "      <td>ค่า duration 1/100 ISO 630</td>\n",
              "    </tr>\n",
              "    <tr>\n",
              "      <th>161</th>\n",
              "      <td>36796E2A-5E2D-4E8F-AEFA-7FD009598838.png</td>\n",
              "      <td>A1</td>\n",
              "      <td>D4</td>\n",
              "      <td>Iphone 11</td>\n",
              "      <td>ไฟกลมในห้อง และไฟนีออน 4 ดวง</td>\n",
              "      <td>สีดำ</td>\n",
              "      <td>ค่า duration 1/100 ISO 630</td>\n",
              "    </tr>\n",
              "  </tbody>\n",
              "</table>\n",
              "<p>162 rows × 7 columns</p>\n",
              "</div>\n",
              "      <button class=\"colab-df-convert\" onclick=\"convertToInteractive('df-ffd4734a-7bf7-4394-af97-e8e63b91150f')\"\n",
              "              title=\"Convert this dataframe to an interactive table.\"\n",
              "              style=\"display:none;\">\n",
              "        \n",
              "  <svg xmlns=\"http://www.w3.org/2000/svg\" height=\"24px\"viewBox=\"0 0 24 24\"\n",
              "       width=\"24px\">\n",
              "    <path d=\"M0 0h24v24H0V0z\" fill=\"none\"/>\n",
              "    <path d=\"M18.56 5.44l.94 2.06.94-2.06 2.06-.94-2.06-.94-.94-2.06-.94 2.06-2.06.94zm-11 1L8.5 8.5l.94-2.06 2.06-.94-2.06-.94L8.5 2.5l-.94 2.06-2.06.94zm10 10l.94 2.06.94-2.06 2.06-.94-2.06-.94-.94-2.06-.94 2.06-2.06.94z\"/><path d=\"M17.41 7.96l-1.37-1.37c-.4-.4-.92-.59-1.43-.59-.52 0-1.04.2-1.43.59L10.3 9.45l-7.72 7.72c-.78.78-.78 2.05 0 2.83L4 21.41c.39.39.9.59 1.41.59.51 0 1.02-.2 1.41-.59l7.78-7.78 2.81-2.81c.8-.78.8-2.07 0-2.86zM5.41 20L4 18.59l7.72-7.72 1.47 1.35L5.41 20z\"/>\n",
              "  </svg>\n",
              "      </button>\n",
              "      \n",
              "  <style>\n",
              "    .colab-df-container {\n",
              "      display:flex;\n",
              "      flex-wrap:wrap;\n",
              "      gap: 12px;\n",
              "    }\n",
              "\n",
              "    .colab-df-convert {\n",
              "      background-color: #E8F0FE;\n",
              "      border: none;\n",
              "      border-radius: 50%;\n",
              "      cursor: pointer;\n",
              "      display: none;\n",
              "      fill: #1967D2;\n",
              "      height: 32px;\n",
              "      padding: 0 0 0 0;\n",
              "      width: 32px;\n",
              "    }\n",
              "\n",
              "    .colab-df-convert:hover {\n",
              "      background-color: #E2EBFA;\n",
              "      box-shadow: 0px 1px 2px rgba(60, 64, 67, 0.3), 0px 1px 3px 1px rgba(60, 64, 67, 0.15);\n",
              "      fill: #174EA6;\n",
              "    }\n",
              "\n",
              "    [theme=dark] .colab-df-convert {\n",
              "      background-color: #3B4455;\n",
              "      fill: #D2E3FC;\n",
              "    }\n",
              "\n",
              "    [theme=dark] .colab-df-convert:hover {\n",
              "      background-color: #434B5C;\n",
              "      box-shadow: 0px 1px 3px 1px rgba(0, 0, 0, 0.15);\n",
              "      filter: drop-shadow(0px 1px 2px rgba(0, 0, 0, 0.3));\n",
              "      fill: #FFFFFF;\n",
              "    }\n",
              "  </style>\n",
              "\n",
              "      <script>\n",
              "        const buttonEl =\n",
              "          document.querySelector('#df-ffd4734a-7bf7-4394-af97-e8e63b91150f button.colab-df-convert');\n",
              "        buttonEl.style.display =\n",
              "          google.colab.kernel.accessAllowed ? 'block' : 'none';\n",
              "\n",
              "        async function convertToInteractive(key) {\n",
              "          const element = document.querySelector('#df-ffd4734a-7bf7-4394-af97-e8e63b91150f');\n",
              "          const dataTable =\n",
              "            await google.colab.kernel.invokeFunction('convertToInteractive',\n",
              "                                                     [key], {});\n",
              "          if (!dataTable) return;\n",
              "\n",
              "          const docLinkHtml = 'Like what you see? Visit the ' +\n",
              "            '<a target=\"_blank\" href=https://colab.research.google.com/notebooks/data_table.ipynb>data table notebook</a>'\n",
              "            + ' to learn more about interactive tables.';\n",
              "          element.innerHTML = '';\n",
              "          dataTable['output_type'] = 'display_data';\n",
              "          await google.colab.output.renderOutput(dataTable, element);\n",
              "          const docLink = document.createElement('div');\n",
              "          docLink.innerHTML = docLinkHtml;\n",
              "          element.appendChild(docLink);\n",
              "        }\n",
              "      </script>\n",
              "    </div>\n",
              "  </div>\n",
              "  "
            ],
            "text/plain": [
              "                               ชื่อไฟล์ข้อมูล  ...                    หมายเหตุ\n",
              "0                                         NaN  ...                         NaN\n",
              "1    34F0629C-69B1-4125-85F4-7E496A7847A0.png  ...  ค่า duration 1/100 ISO 630\n",
              "2    75D1D3E7-592F-475B-9A9A-875F69F08B32.png  ...  ค่า duration 1/100 ISO 630\n",
              "3    0269AD27-018D-4F5C-8420-0138CBE2F66D.png  ...  ค่า duration 1/100 ISO 630\n",
              "4    23588608-16F4-4103-ABCE-12D22092B61E.png  ...  ค่า duration 1/100 ISO 630\n",
              "..                                        ...  ...                         ...\n",
              "157  F055D60E-75F4-409F-BD02-630F03AE0403.png  ...  ค่า duration 1/100 ISO 630\n",
              "158  A8C098DB-7C71-4987-BA14-87C945E5327E.png  ...  ค่า duration 1/100 ISO 630\n",
              "159  C2265DF6-63D4-4B00-919C-CB891BF75E67.png  ...  ค่า duration 1/100 ISO 630\n",
              "160  A7F2FAFC-9EE8-4E34-A180-7A7E5030F4F7.png  ...  ค่า duration 1/100 ISO 630\n",
              "161  36796E2A-5E2D-4E8F-AEFA-7FD009598838.png  ...  ค่า duration 1/100 ISO 630\n",
              "\n",
              "[162 rows x 7 columns]"
            ]
          },
          "metadata": {},
          "execution_count": 14
        }
      ],
      "source": [
        "A1_set1= pd.read_excel(AA, sheet_name='A1Set2')\n",
        "A1_set1"
      ]
    },
    {
      "cell_type": "code",
      "execution_count": 15,
      "metadata": {
        "id": "Y6jhTgRvwsTN"
      },
      "outputs": [],
      "source": [
        "A1_set1.rename(columns={\"รหัสเฉดไกด์\": \"Ref\"},inplace=True)"
      ]
    },
    {
      "cell_type": "code",
      "execution_count": 16,
      "metadata": {
        "id": "6yS5pC3Txiuc"
      },
      "outputs": [],
      "source": [
        "A1_set1.rename(columns={\"Unnamed: 2\":\"Shad\"},inplace=True)"
      ]
    },
    {
      "cell_type": "code",
      "execution_count": 17,
      "metadata": {
        "colab": {
          "base_uri": "https://localhost:8080/",
          "height": 424
        },
        "id": "O90BXV_Hxq9f",
        "outputId": "043e942d-303b-4b1d-e917-74b42015012a"
      },
      "outputs": [
        {
          "output_type": "execute_result",
          "data": {
            "text/html": [
              "\n",
              "  <div id=\"df-8eeba4eb-0233-49c9-8791-888b612bb870\">\n",
              "    <div class=\"colab-df-container\">\n",
              "      <div>\n",
              "<style scoped>\n",
              "    .dataframe tbody tr th:only-of-type {\n",
              "        vertical-align: middle;\n",
              "    }\n",
              "\n",
              "    .dataframe tbody tr th {\n",
              "        vertical-align: top;\n",
              "    }\n",
              "\n",
              "    .dataframe thead th {\n",
              "        text-align: right;\n",
              "    }\n",
              "</style>\n",
              "<table border=\"1\" class=\"dataframe\">\n",
              "  <thead>\n",
              "    <tr style=\"text-align: right;\">\n",
              "      <th></th>\n",
              "      <th>ชื่อไฟล์ข้อมูล</th>\n",
              "      <th>Ref</th>\n",
              "      <th>Shad</th>\n",
              "      <th>ชนิดกล้องถ่ายรูป</th>\n",
              "      <th>แสงที่ใช้</th>\n",
              "      <th>ฉากหลัง</th>\n",
              "      <th>หมายเหตุ</th>\n",
              "    </tr>\n",
              "  </thead>\n",
              "  <tbody>\n",
              "    <tr>\n",
              "      <th>0</th>\n",
              "      <td>NaN</td>\n",
              "      <td>ฝั่งซ้าย</td>\n",
              "      <td>ฝั่งขวา</td>\n",
              "      <td>NaN</td>\n",
              "      <td>NaN</td>\n",
              "      <td>NaN</td>\n",
              "      <td>NaN</td>\n",
              "    </tr>\n",
              "    <tr>\n",
              "      <th>1</th>\n",
              "      <td>34F0629C-69B1-4125-85F4-7E496A7847A0.png</td>\n",
              "      <td>A1</td>\n",
              "      <td>A1</td>\n",
              "      <td>Iphone 11</td>\n",
              "      <td>ไฟกลมในห้อง และไฟนีออน 4 ดวง</td>\n",
              "      <td>สีดำ</td>\n",
              "      <td>ค่า duration 1/100 ISO 630</td>\n",
              "    </tr>\n",
              "    <tr>\n",
              "      <th>2</th>\n",
              "      <td>75D1D3E7-592F-475B-9A9A-875F69F08B32.png</td>\n",
              "      <td>A1</td>\n",
              "      <td>A1</td>\n",
              "      <td>Iphone 11</td>\n",
              "      <td>ไฟกลมในห้อง และไฟนีออน 4 ดวง</td>\n",
              "      <td>สีดำ</td>\n",
              "      <td>ค่า duration 1/100 ISO 630</td>\n",
              "    </tr>\n",
              "    <tr>\n",
              "      <th>3</th>\n",
              "      <td>0269AD27-018D-4F5C-8420-0138CBE2F66D.png</td>\n",
              "      <td>A1</td>\n",
              "      <td>A1</td>\n",
              "      <td>Iphone 11</td>\n",
              "      <td>ไฟกลมในห้อง และไฟนีออน 4 ดวง</td>\n",
              "      <td>สีดำ</td>\n",
              "      <td>ค่า duration 1/100 ISO 630</td>\n",
              "    </tr>\n",
              "    <tr>\n",
              "      <th>4</th>\n",
              "      <td>23588608-16F4-4103-ABCE-12D22092B61E.png</td>\n",
              "      <td>A1</td>\n",
              "      <td>A1</td>\n",
              "      <td>Iphone 11</td>\n",
              "      <td>ไฟกลมในห้อง และไฟนีออน 4 ดวง</td>\n",
              "      <td>สีดำ</td>\n",
              "      <td>ค่า duration 1/100 ISO 630</td>\n",
              "    </tr>\n",
              "    <tr>\n",
              "      <th>...</th>\n",
              "      <td>...</td>\n",
              "      <td>...</td>\n",
              "      <td>...</td>\n",
              "      <td>...</td>\n",
              "      <td>...</td>\n",
              "      <td>...</td>\n",
              "      <td>...</td>\n",
              "    </tr>\n",
              "    <tr>\n",
              "      <th>157</th>\n",
              "      <td>F055D60E-75F4-409F-BD02-630F03AE0403.png</td>\n",
              "      <td>A1</td>\n",
              "      <td>D4</td>\n",
              "      <td>Iphone 11</td>\n",
              "      <td>ไฟกลมในห้อง และไฟนีออน 4 ดวง</td>\n",
              "      <td>สีดำ</td>\n",
              "      <td>ค่า duration 1/100 ISO 630</td>\n",
              "    </tr>\n",
              "    <tr>\n",
              "      <th>158</th>\n",
              "      <td>A8C098DB-7C71-4987-BA14-87C945E5327E.png</td>\n",
              "      <td>A1</td>\n",
              "      <td>D4</td>\n",
              "      <td>Iphone 11</td>\n",
              "      <td>ไฟกลมในห้อง และไฟนีออน 4 ดวง</td>\n",
              "      <td>สีดำ</td>\n",
              "      <td>ค่า duration 1/100 ISO 630</td>\n",
              "    </tr>\n",
              "    <tr>\n",
              "      <th>159</th>\n",
              "      <td>C2265DF6-63D4-4B00-919C-CB891BF75E67.png</td>\n",
              "      <td>A1</td>\n",
              "      <td>D4</td>\n",
              "      <td>Iphone 11</td>\n",
              "      <td>ไฟกลมในห้อง และไฟนีออน 4 ดวง</td>\n",
              "      <td>สีดำ</td>\n",
              "      <td>ค่า duration 1/100 ISO 630</td>\n",
              "    </tr>\n",
              "    <tr>\n",
              "      <th>160</th>\n",
              "      <td>A7F2FAFC-9EE8-4E34-A180-7A7E5030F4F7.png</td>\n",
              "      <td>A1</td>\n",
              "      <td>D4</td>\n",
              "      <td>Iphone 11</td>\n",
              "      <td>ไฟกลมในห้อง และไฟนีออน 4 ดวง</td>\n",
              "      <td>สีดำ</td>\n",
              "      <td>ค่า duration 1/100 ISO 630</td>\n",
              "    </tr>\n",
              "    <tr>\n",
              "      <th>161</th>\n",
              "      <td>36796E2A-5E2D-4E8F-AEFA-7FD009598838.png</td>\n",
              "      <td>A1</td>\n",
              "      <td>D4</td>\n",
              "      <td>Iphone 11</td>\n",
              "      <td>ไฟกลมในห้อง และไฟนีออน 4 ดวง</td>\n",
              "      <td>สีดำ</td>\n",
              "      <td>ค่า duration 1/100 ISO 630</td>\n",
              "    </tr>\n",
              "  </tbody>\n",
              "</table>\n",
              "<p>162 rows × 7 columns</p>\n",
              "</div>\n",
              "      <button class=\"colab-df-convert\" onclick=\"convertToInteractive('df-8eeba4eb-0233-49c9-8791-888b612bb870')\"\n",
              "              title=\"Convert this dataframe to an interactive table.\"\n",
              "              style=\"display:none;\">\n",
              "        \n",
              "  <svg xmlns=\"http://www.w3.org/2000/svg\" height=\"24px\"viewBox=\"0 0 24 24\"\n",
              "       width=\"24px\">\n",
              "    <path d=\"M0 0h24v24H0V0z\" fill=\"none\"/>\n",
              "    <path d=\"M18.56 5.44l.94 2.06.94-2.06 2.06-.94-2.06-.94-.94-2.06-.94 2.06-2.06.94zm-11 1L8.5 8.5l.94-2.06 2.06-.94-2.06-.94L8.5 2.5l-.94 2.06-2.06.94zm10 10l.94 2.06.94-2.06 2.06-.94-2.06-.94-.94-2.06-.94 2.06-2.06.94z\"/><path d=\"M17.41 7.96l-1.37-1.37c-.4-.4-.92-.59-1.43-.59-.52 0-1.04.2-1.43.59L10.3 9.45l-7.72 7.72c-.78.78-.78 2.05 0 2.83L4 21.41c.39.39.9.59 1.41.59.51 0 1.02-.2 1.41-.59l7.78-7.78 2.81-2.81c.8-.78.8-2.07 0-2.86zM5.41 20L4 18.59l7.72-7.72 1.47 1.35L5.41 20z\"/>\n",
              "  </svg>\n",
              "      </button>\n",
              "      \n",
              "  <style>\n",
              "    .colab-df-container {\n",
              "      display:flex;\n",
              "      flex-wrap:wrap;\n",
              "      gap: 12px;\n",
              "    }\n",
              "\n",
              "    .colab-df-convert {\n",
              "      background-color: #E8F0FE;\n",
              "      border: none;\n",
              "      border-radius: 50%;\n",
              "      cursor: pointer;\n",
              "      display: none;\n",
              "      fill: #1967D2;\n",
              "      height: 32px;\n",
              "      padding: 0 0 0 0;\n",
              "      width: 32px;\n",
              "    }\n",
              "\n",
              "    .colab-df-convert:hover {\n",
              "      background-color: #E2EBFA;\n",
              "      box-shadow: 0px 1px 2px rgba(60, 64, 67, 0.3), 0px 1px 3px 1px rgba(60, 64, 67, 0.15);\n",
              "      fill: #174EA6;\n",
              "    }\n",
              "\n",
              "    [theme=dark] .colab-df-convert {\n",
              "      background-color: #3B4455;\n",
              "      fill: #D2E3FC;\n",
              "    }\n",
              "\n",
              "    [theme=dark] .colab-df-convert:hover {\n",
              "      background-color: #434B5C;\n",
              "      box-shadow: 0px 1px 3px 1px rgba(0, 0, 0, 0.15);\n",
              "      filter: drop-shadow(0px 1px 2px rgba(0, 0, 0, 0.3));\n",
              "      fill: #FFFFFF;\n",
              "    }\n",
              "  </style>\n",
              "\n",
              "      <script>\n",
              "        const buttonEl =\n",
              "          document.querySelector('#df-8eeba4eb-0233-49c9-8791-888b612bb870 button.colab-df-convert');\n",
              "        buttonEl.style.display =\n",
              "          google.colab.kernel.accessAllowed ? 'block' : 'none';\n",
              "\n",
              "        async function convertToInteractive(key) {\n",
              "          const element = document.querySelector('#df-8eeba4eb-0233-49c9-8791-888b612bb870');\n",
              "          const dataTable =\n",
              "            await google.colab.kernel.invokeFunction('convertToInteractive',\n",
              "                                                     [key], {});\n",
              "          if (!dataTable) return;\n",
              "\n",
              "          const docLinkHtml = 'Like what you see? Visit the ' +\n",
              "            '<a target=\"_blank\" href=https://colab.research.google.com/notebooks/data_table.ipynb>data table notebook</a>'\n",
              "            + ' to learn more about interactive tables.';\n",
              "          element.innerHTML = '';\n",
              "          dataTable['output_type'] = 'display_data';\n",
              "          await google.colab.output.renderOutput(dataTable, element);\n",
              "          const docLink = document.createElement('div');\n",
              "          docLink.innerHTML = docLinkHtml;\n",
              "          element.appendChild(docLink);\n",
              "        }\n",
              "      </script>\n",
              "    </div>\n",
              "  </div>\n",
              "  "
            ],
            "text/plain": [
              "                               ชื่อไฟล์ข้อมูล  ...                    หมายเหตุ\n",
              "0                                         NaN  ...                         NaN\n",
              "1    34F0629C-69B1-4125-85F4-7E496A7847A0.png  ...  ค่า duration 1/100 ISO 630\n",
              "2    75D1D3E7-592F-475B-9A9A-875F69F08B32.png  ...  ค่า duration 1/100 ISO 630\n",
              "3    0269AD27-018D-4F5C-8420-0138CBE2F66D.png  ...  ค่า duration 1/100 ISO 630\n",
              "4    23588608-16F4-4103-ABCE-12D22092B61E.png  ...  ค่า duration 1/100 ISO 630\n",
              "..                                        ...  ...                         ...\n",
              "157  F055D60E-75F4-409F-BD02-630F03AE0403.png  ...  ค่า duration 1/100 ISO 630\n",
              "158  A8C098DB-7C71-4987-BA14-87C945E5327E.png  ...  ค่า duration 1/100 ISO 630\n",
              "159  C2265DF6-63D4-4B00-919C-CB891BF75E67.png  ...  ค่า duration 1/100 ISO 630\n",
              "160  A7F2FAFC-9EE8-4E34-A180-7A7E5030F4F7.png  ...  ค่า duration 1/100 ISO 630\n",
              "161  36796E2A-5E2D-4E8F-AEFA-7FD009598838.png  ...  ค่า duration 1/100 ISO 630\n",
              "\n",
              "[162 rows x 7 columns]"
            ]
          },
          "metadata": {},
          "execution_count": 17
        }
      ],
      "source": [
        "A1_set1"
      ]
    },
    {
      "cell_type": "code",
      "execution_count": 18,
      "metadata": {
        "colab": {
          "base_uri": "https://localhost:8080/",
          "height": 424
        },
        "id": "X6w8bgse0RQZ",
        "outputId": "bf93e1aa-91d3-442c-e20d-2130b93f4016"
      },
      "outputs": [
        {
          "output_type": "execute_result",
          "data": {
            "text/html": [
              "\n",
              "  <div id=\"df-ef543435-08ac-4b6b-a1ee-fc3e1454ba3e\">\n",
              "    <div class=\"colab-df-container\">\n",
              "      <div>\n",
              "<style scoped>\n",
              "    .dataframe tbody tr th:only-of-type {\n",
              "        vertical-align: middle;\n",
              "    }\n",
              "\n",
              "    .dataframe tbody tr th {\n",
              "        vertical-align: top;\n",
              "    }\n",
              "\n",
              "    .dataframe thead th {\n",
              "        text-align: right;\n",
              "    }\n",
              "</style>\n",
              "<table border=\"1\" class=\"dataframe\">\n",
              "  <thead>\n",
              "    <tr style=\"text-align: right;\">\n",
              "      <th></th>\n",
              "      <th>ชื่อไฟล์ข้อมูล</th>\n",
              "      <th>Ref</th>\n",
              "      <th>Shad</th>\n",
              "      <th>ชนิดกล้องถ่ายรูป</th>\n",
              "      <th>แสงที่ใช้</th>\n",
              "      <th>ฉากหลัง</th>\n",
              "      <th>หมายเหตุ</th>\n",
              "    </tr>\n",
              "  </thead>\n",
              "  <tbody>\n",
              "    <tr>\n",
              "      <th>1</th>\n",
              "      <td>34F0629C-69B1-4125-85F4-7E496A7847A0.png</td>\n",
              "      <td>A1</td>\n",
              "      <td>A1</td>\n",
              "      <td>Iphone 11</td>\n",
              "      <td>ไฟกลมในห้อง และไฟนีออน 4 ดวง</td>\n",
              "      <td>สีดำ</td>\n",
              "      <td>ค่า duration 1/100 ISO 630</td>\n",
              "    </tr>\n",
              "    <tr>\n",
              "      <th>2</th>\n",
              "      <td>75D1D3E7-592F-475B-9A9A-875F69F08B32.png</td>\n",
              "      <td>A1</td>\n",
              "      <td>A1</td>\n",
              "      <td>Iphone 11</td>\n",
              "      <td>ไฟกลมในห้อง และไฟนีออน 4 ดวง</td>\n",
              "      <td>สีดำ</td>\n",
              "      <td>ค่า duration 1/100 ISO 630</td>\n",
              "    </tr>\n",
              "    <tr>\n",
              "      <th>3</th>\n",
              "      <td>0269AD27-018D-4F5C-8420-0138CBE2F66D.png</td>\n",
              "      <td>A1</td>\n",
              "      <td>A1</td>\n",
              "      <td>Iphone 11</td>\n",
              "      <td>ไฟกลมในห้อง และไฟนีออน 4 ดวง</td>\n",
              "      <td>สีดำ</td>\n",
              "      <td>ค่า duration 1/100 ISO 630</td>\n",
              "    </tr>\n",
              "    <tr>\n",
              "      <th>4</th>\n",
              "      <td>23588608-16F4-4103-ABCE-12D22092B61E.png</td>\n",
              "      <td>A1</td>\n",
              "      <td>A1</td>\n",
              "      <td>Iphone 11</td>\n",
              "      <td>ไฟกลมในห้อง และไฟนีออน 4 ดวง</td>\n",
              "      <td>สีดำ</td>\n",
              "      <td>ค่า duration 1/100 ISO 630</td>\n",
              "    </tr>\n",
              "    <tr>\n",
              "      <th>5</th>\n",
              "      <td>7FD4DE28-0FF8-4A06-A8F0-172F77C0E69C.png</td>\n",
              "      <td>A1</td>\n",
              "      <td>A1</td>\n",
              "      <td>Iphone 11</td>\n",
              "      <td>ไฟกลมในห้อง และไฟนีออน 4 ดวง</td>\n",
              "      <td>สีดำ</td>\n",
              "      <td>ค่า duration 1/100 ISO 630</td>\n",
              "    </tr>\n",
              "    <tr>\n",
              "      <th>...</th>\n",
              "      <td>...</td>\n",
              "      <td>...</td>\n",
              "      <td>...</td>\n",
              "      <td>...</td>\n",
              "      <td>...</td>\n",
              "      <td>...</td>\n",
              "      <td>...</td>\n",
              "    </tr>\n",
              "    <tr>\n",
              "      <th>157</th>\n",
              "      <td>F055D60E-75F4-409F-BD02-630F03AE0403.png</td>\n",
              "      <td>A1</td>\n",
              "      <td>D4</td>\n",
              "      <td>Iphone 11</td>\n",
              "      <td>ไฟกลมในห้อง และไฟนีออน 4 ดวง</td>\n",
              "      <td>สีดำ</td>\n",
              "      <td>ค่า duration 1/100 ISO 630</td>\n",
              "    </tr>\n",
              "    <tr>\n",
              "      <th>158</th>\n",
              "      <td>A8C098DB-7C71-4987-BA14-87C945E5327E.png</td>\n",
              "      <td>A1</td>\n",
              "      <td>D4</td>\n",
              "      <td>Iphone 11</td>\n",
              "      <td>ไฟกลมในห้อง และไฟนีออน 4 ดวง</td>\n",
              "      <td>สีดำ</td>\n",
              "      <td>ค่า duration 1/100 ISO 630</td>\n",
              "    </tr>\n",
              "    <tr>\n",
              "      <th>159</th>\n",
              "      <td>C2265DF6-63D4-4B00-919C-CB891BF75E67.png</td>\n",
              "      <td>A1</td>\n",
              "      <td>D4</td>\n",
              "      <td>Iphone 11</td>\n",
              "      <td>ไฟกลมในห้อง และไฟนีออน 4 ดวง</td>\n",
              "      <td>สีดำ</td>\n",
              "      <td>ค่า duration 1/100 ISO 630</td>\n",
              "    </tr>\n",
              "    <tr>\n",
              "      <th>160</th>\n",
              "      <td>A7F2FAFC-9EE8-4E34-A180-7A7E5030F4F7.png</td>\n",
              "      <td>A1</td>\n",
              "      <td>D4</td>\n",
              "      <td>Iphone 11</td>\n",
              "      <td>ไฟกลมในห้อง และไฟนีออน 4 ดวง</td>\n",
              "      <td>สีดำ</td>\n",
              "      <td>ค่า duration 1/100 ISO 630</td>\n",
              "    </tr>\n",
              "    <tr>\n",
              "      <th>161</th>\n",
              "      <td>36796E2A-5E2D-4E8F-AEFA-7FD009598838.png</td>\n",
              "      <td>A1</td>\n",
              "      <td>D4</td>\n",
              "      <td>Iphone 11</td>\n",
              "      <td>ไฟกลมในห้อง และไฟนีออน 4 ดวง</td>\n",
              "      <td>สีดำ</td>\n",
              "      <td>ค่า duration 1/100 ISO 630</td>\n",
              "    </tr>\n",
              "  </tbody>\n",
              "</table>\n",
              "<p>161 rows × 7 columns</p>\n",
              "</div>\n",
              "      <button class=\"colab-df-convert\" onclick=\"convertToInteractive('df-ef543435-08ac-4b6b-a1ee-fc3e1454ba3e')\"\n",
              "              title=\"Convert this dataframe to an interactive table.\"\n",
              "              style=\"display:none;\">\n",
              "        \n",
              "  <svg xmlns=\"http://www.w3.org/2000/svg\" height=\"24px\"viewBox=\"0 0 24 24\"\n",
              "       width=\"24px\">\n",
              "    <path d=\"M0 0h24v24H0V0z\" fill=\"none\"/>\n",
              "    <path d=\"M18.56 5.44l.94 2.06.94-2.06 2.06-.94-2.06-.94-.94-2.06-.94 2.06-2.06.94zm-11 1L8.5 8.5l.94-2.06 2.06-.94-2.06-.94L8.5 2.5l-.94 2.06-2.06.94zm10 10l.94 2.06.94-2.06 2.06-.94-2.06-.94-.94-2.06-.94 2.06-2.06.94z\"/><path d=\"M17.41 7.96l-1.37-1.37c-.4-.4-.92-.59-1.43-.59-.52 0-1.04.2-1.43.59L10.3 9.45l-7.72 7.72c-.78.78-.78 2.05 0 2.83L4 21.41c.39.39.9.59 1.41.59.51 0 1.02-.2 1.41-.59l7.78-7.78 2.81-2.81c.8-.78.8-2.07 0-2.86zM5.41 20L4 18.59l7.72-7.72 1.47 1.35L5.41 20z\"/>\n",
              "  </svg>\n",
              "      </button>\n",
              "      \n",
              "  <style>\n",
              "    .colab-df-container {\n",
              "      display:flex;\n",
              "      flex-wrap:wrap;\n",
              "      gap: 12px;\n",
              "    }\n",
              "\n",
              "    .colab-df-convert {\n",
              "      background-color: #E8F0FE;\n",
              "      border: none;\n",
              "      border-radius: 50%;\n",
              "      cursor: pointer;\n",
              "      display: none;\n",
              "      fill: #1967D2;\n",
              "      height: 32px;\n",
              "      padding: 0 0 0 0;\n",
              "      width: 32px;\n",
              "    }\n",
              "\n",
              "    .colab-df-convert:hover {\n",
              "      background-color: #E2EBFA;\n",
              "      box-shadow: 0px 1px 2px rgba(60, 64, 67, 0.3), 0px 1px 3px 1px rgba(60, 64, 67, 0.15);\n",
              "      fill: #174EA6;\n",
              "    }\n",
              "\n",
              "    [theme=dark] .colab-df-convert {\n",
              "      background-color: #3B4455;\n",
              "      fill: #D2E3FC;\n",
              "    }\n",
              "\n",
              "    [theme=dark] .colab-df-convert:hover {\n",
              "      background-color: #434B5C;\n",
              "      box-shadow: 0px 1px 3px 1px rgba(0, 0, 0, 0.15);\n",
              "      filter: drop-shadow(0px 1px 2px rgba(0, 0, 0, 0.3));\n",
              "      fill: #FFFFFF;\n",
              "    }\n",
              "  </style>\n",
              "\n",
              "      <script>\n",
              "        const buttonEl =\n",
              "          document.querySelector('#df-ef543435-08ac-4b6b-a1ee-fc3e1454ba3e button.colab-df-convert');\n",
              "        buttonEl.style.display =\n",
              "          google.colab.kernel.accessAllowed ? 'block' : 'none';\n",
              "\n",
              "        async function convertToInteractive(key) {\n",
              "          const element = document.querySelector('#df-ef543435-08ac-4b6b-a1ee-fc3e1454ba3e');\n",
              "          const dataTable =\n",
              "            await google.colab.kernel.invokeFunction('convertToInteractive',\n",
              "                                                     [key], {});\n",
              "          if (!dataTable) return;\n",
              "\n",
              "          const docLinkHtml = 'Like what you see? Visit the ' +\n",
              "            '<a target=\"_blank\" href=https://colab.research.google.com/notebooks/data_table.ipynb>data table notebook</a>'\n",
              "            + ' to learn more about interactive tables.';\n",
              "          element.innerHTML = '';\n",
              "          dataTable['output_type'] = 'display_data';\n",
              "          await google.colab.output.renderOutput(dataTable, element);\n",
              "          const docLink = document.createElement('div');\n",
              "          docLink.innerHTML = docLinkHtml;\n",
              "          element.appendChild(docLink);\n",
              "        }\n",
              "      </script>\n",
              "    </div>\n",
              "  </div>\n",
              "  "
            ],
            "text/plain": [
              "                               ชื่อไฟล์ข้อมูล  ...                    หมายเหตุ\n",
              "1    34F0629C-69B1-4125-85F4-7E496A7847A0.png  ...  ค่า duration 1/100 ISO 630\n",
              "2    75D1D3E7-592F-475B-9A9A-875F69F08B32.png  ...  ค่า duration 1/100 ISO 630\n",
              "3    0269AD27-018D-4F5C-8420-0138CBE2F66D.png  ...  ค่า duration 1/100 ISO 630\n",
              "4    23588608-16F4-4103-ABCE-12D22092B61E.png  ...  ค่า duration 1/100 ISO 630\n",
              "5    7FD4DE28-0FF8-4A06-A8F0-172F77C0E69C.png  ...  ค่า duration 1/100 ISO 630\n",
              "..                                        ...  ...                         ...\n",
              "157  F055D60E-75F4-409F-BD02-630F03AE0403.png  ...  ค่า duration 1/100 ISO 630\n",
              "158  A8C098DB-7C71-4987-BA14-87C945E5327E.png  ...  ค่า duration 1/100 ISO 630\n",
              "159  C2265DF6-63D4-4B00-919C-CB891BF75E67.png  ...  ค่า duration 1/100 ISO 630\n",
              "160  A7F2FAFC-9EE8-4E34-A180-7A7E5030F4F7.png  ...  ค่า duration 1/100 ISO 630\n",
              "161  36796E2A-5E2D-4E8F-AEFA-7FD009598838.png  ...  ค่า duration 1/100 ISO 630\n",
              "\n",
              "[161 rows x 7 columns]"
            ]
          },
          "metadata": {},
          "execution_count": 18
        }
      ],
      "source": [
        "A1_set1 = A1_set1.drop([0])\n",
        "A1_set1"
      ]
    },
    {
      "cell_type": "code",
      "execution_count": 19,
      "metadata": {
        "colab": {
          "base_uri": "https://localhost:8080/",
          "height": 424
        },
        "id": "ZHeekG9KHMJz",
        "outputId": "d2642970-ef18-410f-ddb3-571095fb7e9d"
      },
      "outputs": [
        {
          "output_type": "execute_result",
          "data": {
            "text/html": [
              "\n",
              "  <div id=\"df-8cbea4cd-0519-4b83-8ccf-0969dd39739f\">\n",
              "    <div class=\"colab-df-container\">\n",
              "      <div>\n",
              "<style scoped>\n",
              "    .dataframe tbody tr th:only-of-type {\n",
              "        vertical-align: middle;\n",
              "    }\n",
              "\n",
              "    .dataframe tbody tr th {\n",
              "        vertical-align: top;\n",
              "    }\n",
              "\n",
              "    .dataframe thead th {\n",
              "        text-align: right;\n",
              "    }\n",
              "</style>\n",
              "<table border=\"1\" class=\"dataframe\">\n",
              "  <thead>\n",
              "    <tr style=\"text-align: right;\">\n",
              "      <th></th>\n",
              "      <th>Ref</th>\n",
              "      <th>Shad</th>\n",
              "      <th>ชื่อไฟล์ข้อมูล</th>\n",
              "    </tr>\n",
              "  </thead>\n",
              "  <tbody>\n",
              "    <tr>\n",
              "      <th>1</th>\n",
              "      <td>A1</td>\n",
              "      <td>A1</td>\n",
              "      <td>34F0629C-69B1-4125-85F4-7E496A7847A0.png</td>\n",
              "    </tr>\n",
              "    <tr>\n",
              "      <th>2</th>\n",
              "      <td>A1</td>\n",
              "      <td>A1</td>\n",
              "      <td>75D1D3E7-592F-475B-9A9A-875F69F08B32.png</td>\n",
              "    </tr>\n",
              "    <tr>\n",
              "      <th>3</th>\n",
              "      <td>A1</td>\n",
              "      <td>A1</td>\n",
              "      <td>0269AD27-018D-4F5C-8420-0138CBE2F66D.png</td>\n",
              "    </tr>\n",
              "    <tr>\n",
              "      <th>4</th>\n",
              "      <td>A1</td>\n",
              "      <td>A1</td>\n",
              "      <td>23588608-16F4-4103-ABCE-12D22092B61E.png</td>\n",
              "    </tr>\n",
              "    <tr>\n",
              "      <th>5</th>\n",
              "      <td>A1</td>\n",
              "      <td>A1</td>\n",
              "      <td>7FD4DE28-0FF8-4A06-A8F0-172F77C0E69C.png</td>\n",
              "    </tr>\n",
              "    <tr>\n",
              "      <th>...</th>\n",
              "      <td>...</td>\n",
              "      <td>...</td>\n",
              "      <td>...</td>\n",
              "    </tr>\n",
              "    <tr>\n",
              "      <th>157</th>\n",
              "      <td>A1</td>\n",
              "      <td>D4</td>\n",
              "      <td>F055D60E-75F4-409F-BD02-630F03AE0403.png</td>\n",
              "    </tr>\n",
              "    <tr>\n",
              "      <th>158</th>\n",
              "      <td>A1</td>\n",
              "      <td>D4</td>\n",
              "      <td>A8C098DB-7C71-4987-BA14-87C945E5327E.png</td>\n",
              "    </tr>\n",
              "    <tr>\n",
              "      <th>159</th>\n",
              "      <td>A1</td>\n",
              "      <td>D4</td>\n",
              "      <td>C2265DF6-63D4-4B00-919C-CB891BF75E67.png</td>\n",
              "    </tr>\n",
              "    <tr>\n",
              "      <th>160</th>\n",
              "      <td>A1</td>\n",
              "      <td>D4</td>\n",
              "      <td>A7F2FAFC-9EE8-4E34-A180-7A7E5030F4F7.png</td>\n",
              "    </tr>\n",
              "    <tr>\n",
              "      <th>161</th>\n",
              "      <td>A1</td>\n",
              "      <td>D4</td>\n",
              "      <td>36796E2A-5E2D-4E8F-AEFA-7FD009598838.png</td>\n",
              "    </tr>\n",
              "  </tbody>\n",
              "</table>\n",
              "<p>161 rows × 3 columns</p>\n",
              "</div>\n",
              "      <button class=\"colab-df-convert\" onclick=\"convertToInteractive('df-8cbea4cd-0519-4b83-8ccf-0969dd39739f')\"\n",
              "              title=\"Convert this dataframe to an interactive table.\"\n",
              "              style=\"display:none;\">\n",
              "        \n",
              "  <svg xmlns=\"http://www.w3.org/2000/svg\" height=\"24px\"viewBox=\"0 0 24 24\"\n",
              "       width=\"24px\">\n",
              "    <path d=\"M0 0h24v24H0V0z\" fill=\"none\"/>\n",
              "    <path d=\"M18.56 5.44l.94 2.06.94-2.06 2.06-.94-2.06-.94-.94-2.06-.94 2.06-2.06.94zm-11 1L8.5 8.5l.94-2.06 2.06-.94-2.06-.94L8.5 2.5l-.94 2.06-2.06.94zm10 10l.94 2.06.94-2.06 2.06-.94-2.06-.94-.94-2.06-.94 2.06-2.06.94z\"/><path d=\"M17.41 7.96l-1.37-1.37c-.4-.4-.92-.59-1.43-.59-.52 0-1.04.2-1.43.59L10.3 9.45l-7.72 7.72c-.78.78-.78 2.05 0 2.83L4 21.41c.39.39.9.59 1.41.59.51 0 1.02-.2 1.41-.59l7.78-7.78 2.81-2.81c.8-.78.8-2.07 0-2.86zM5.41 20L4 18.59l7.72-7.72 1.47 1.35L5.41 20z\"/>\n",
              "  </svg>\n",
              "      </button>\n",
              "      \n",
              "  <style>\n",
              "    .colab-df-container {\n",
              "      display:flex;\n",
              "      flex-wrap:wrap;\n",
              "      gap: 12px;\n",
              "    }\n",
              "\n",
              "    .colab-df-convert {\n",
              "      background-color: #E8F0FE;\n",
              "      border: none;\n",
              "      border-radius: 50%;\n",
              "      cursor: pointer;\n",
              "      display: none;\n",
              "      fill: #1967D2;\n",
              "      height: 32px;\n",
              "      padding: 0 0 0 0;\n",
              "      width: 32px;\n",
              "    }\n",
              "\n",
              "    .colab-df-convert:hover {\n",
              "      background-color: #E2EBFA;\n",
              "      box-shadow: 0px 1px 2px rgba(60, 64, 67, 0.3), 0px 1px 3px 1px rgba(60, 64, 67, 0.15);\n",
              "      fill: #174EA6;\n",
              "    }\n",
              "\n",
              "    [theme=dark] .colab-df-convert {\n",
              "      background-color: #3B4455;\n",
              "      fill: #D2E3FC;\n",
              "    }\n",
              "\n",
              "    [theme=dark] .colab-df-convert:hover {\n",
              "      background-color: #434B5C;\n",
              "      box-shadow: 0px 1px 3px 1px rgba(0, 0, 0, 0.15);\n",
              "      filter: drop-shadow(0px 1px 2px rgba(0, 0, 0, 0.3));\n",
              "      fill: #FFFFFF;\n",
              "    }\n",
              "  </style>\n",
              "\n",
              "      <script>\n",
              "        const buttonEl =\n",
              "          document.querySelector('#df-8cbea4cd-0519-4b83-8ccf-0969dd39739f button.colab-df-convert');\n",
              "        buttonEl.style.display =\n",
              "          google.colab.kernel.accessAllowed ? 'block' : 'none';\n",
              "\n",
              "        async function convertToInteractive(key) {\n",
              "          const element = document.querySelector('#df-8cbea4cd-0519-4b83-8ccf-0969dd39739f');\n",
              "          const dataTable =\n",
              "            await google.colab.kernel.invokeFunction('convertToInteractive',\n",
              "                                                     [key], {});\n",
              "          if (!dataTable) return;\n",
              "\n",
              "          const docLinkHtml = 'Like what you see? Visit the ' +\n",
              "            '<a target=\"_blank\" href=https://colab.research.google.com/notebooks/data_table.ipynb>data table notebook</a>'\n",
              "            + ' to learn more about interactive tables.';\n",
              "          element.innerHTML = '';\n",
              "          dataTable['output_type'] = 'display_data';\n",
              "          await google.colab.output.renderOutput(dataTable, element);\n",
              "          const docLink = document.createElement('div');\n",
              "          docLink.innerHTML = docLinkHtml;\n",
              "          element.appendChild(docLink);\n",
              "        }\n",
              "      </script>\n",
              "    </div>\n",
              "  </div>\n",
              "  "
            ],
            "text/plain": [
              "    Ref Shad                            ชื่อไฟล์ข้อมูล\n",
              "1    A1   A1  34F0629C-69B1-4125-85F4-7E496A7847A0.png\n",
              "2    A1   A1  75D1D3E7-592F-475B-9A9A-875F69F08B32.png\n",
              "3    A1   A1  0269AD27-018D-4F5C-8420-0138CBE2F66D.png\n",
              "4    A1   A1  23588608-16F4-4103-ABCE-12D22092B61E.png\n",
              "5    A1   A1  7FD4DE28-0FF8-4A06-A8F0-172F77C0E69C.png\n",
              "..   ..  ...                                       ...\n",
              "157  A1   D4  F055D60E-75F4-409F-BD02-630F03AE0403.png\n",
              "158  A1   D4  A8C098DB-7C71-4987-BA14-87C945E5327E.png\n",
              "159  A1   D4  C2265DF6-63D4-4B00-919C-CB891BF75E67.png\n",
              "160  A1   D4  A7F2FAFC-9EE8-4E34-A180-7A7E5030F4F7.png\n",
              "161  A1   D4  36796E2A-5E2D-4E8F-AEFA-7FD009598838.png\n",
              "\n",
              "[161 rows x 3 columns]"
            ]
          },
          "metadata": {},
          "execution_count": 19
        }
      ],
      "source": [
        "table1= A1_set1[['Ref', 'Shad','ชื่อไฟล์ข้อมูล']]\n",
        "table1"
      ]
    },
    {
      "cell_type": "code",
      "execution_count": 20,
      "metadata": {
        "colab": {
          "base_uri": "https://localhost:8080/",
          "height": 424
        },
        "id": "3AjeiKMdmdA1",
        "outputId": "391f1ec0-92d0-437c-8973-4659ad35527f"
      },
      "outputs": [
        {
          "output_type": "execute_result",
          "data": {
            "text/html": [
              "\n",
              "  <div id=\"df-08459935-1b40-4153-8883-5ac99a0fd3a4\">\n",
              "    <div class=\"colab-df-container\">\n",
              "      <div>\n",
              "<style scoped>\n",
              "    .dataframe tbody tr th:only-of-type {\n",
              "        vertical-align: middle;\n",
              "    }\n",
              "\n",
              "    .dataframe tbody tr th {\n",
              "        vertical-align: top;\n",
              "    }\n",
              "\n",
              "    .dataframe thead th {\n",
              "        text-align: right;\n",
              "    }\n",
              "</style>\n",
              "<table border=\"1\" class=\"dataframe\">\n",
              "  <thead>\n",
              "    <tr style=\"text-align: right;\">\n",
              "      <th></th>\n",
              "      <th>ชื่อไฟล์ข้อมูล</th>\n",
              "      <th>Ref</th>\n",
              "      <th>Shad</th>\n",
              "    </tr>\n",
              "  </thead>\n",
              "  <tbody>\n",
              "    <tr>\n",
              "      <th>1</th>\n",
              "      <td>34F0629C-69B1-4125-85F4-7E496A7847A0.png</td>\n",
              "      <td>A1</td>\n",
              "      <td>A1</td>\n",
              "    </tr>\n",
              "    <tr>\n",
              "      <th>2</th>\n",
              "      <td>75D1D3E7-592F-475B-9A9A-875F69F08B32.png</td>\n",
              "      <td>A1</td>\n",
              "      <td>A1</td>\n",
              "    </tr>\n",
              "    <tr>\n",
              "      <th>3</th>\n",
              "      <td>0269AD27-018D-4F5C-8420-0138CBE2F66D.png</td>\n",
              "      <td>A1</td>\n",
              "      <td>A1</td>\n",
              "    </tr>\n",
              "    <tr>\n",
              "      <th>4</th>\n",
              "      <td>23588608-16F4-4103-ABCE-12D22092B61E.png</td>\n",
              "      <td>A1</td>\n",
              "      <td>A1</td>\n",
              "    </tr>\n",
              "    <tr>\n",
              "      <th>5</th>\n",
              "      <td>7FD4DE28-0FF8-4A06-A8F0-172F77C0E69C.png</td>\n",
              "      <td>A1</td>\n",
              "      <td>A1</td>\n",
              "    </tr>\n",
              "    <tr>\n",
              "      <th>...</th>\n",
              "      <td>...</td>\n",
              "      <td>...</td>\n",
              "      <td>...</td>\n",
              "    </tr>\n",
              "    <tr>\n",
              "      <th>157</th>\n",
              "      <td>F055D60E-75F4-409F-BD02-630F03AE0403.png</td>\n",
              "      <td>A1</td>\n",
              "      <td>D4</td>\n",
              "    </tr>\n",
              "    <tr>\n",
              "      <th>158</th>\n",
              "      <td>A8C098DB-7C71-4987-BA14-87C945E5327E.png</td>\n",
              "      <td>A1</td>\n",
              "      <td>D4</td>\n",
              "    </tr>\n",
              "    <tr>\n",
              "      <th>159</th>\n",
              "      <td>C2265DF6-63D4-4B00-919C-CB891BF75E67.png</td>\n",
              "      <td>A1</td>\n",
              "      <td>D4</td>\n",
              "    </tr>\n",
              "    <tr>\n",
              "      <th>160</th>\n",
              "      <td>A7F2FAFC-9EE8-4E34-A180-7A7E5030F4F7.png</td>\n",
              "      <td>A1</td>\n",
              "      <td>D4</td>\n",
              "    </tr>\n",
              "    <tr>\n",
              "      <th>161</th>\n",
              "      <td>36796E2A-5E2D-4E8F-AEFA-7FD009598838.png</td>\n",
              "      <td>A1</td>\n",
              "      <td>D4</td>\n",
              "    </tr>\n",
              "  </tbody>\n",
              "</table>\n",
              "<p>161 rows × 3 columns</p>\n",
              "</div>\n",
              "      <button class=\"colab-df-convert\" onclick=\"convertToInteractive('df-08459935-1b40-4153-8883-5ac99a0fd3a4')\"\n",
              "              title=\"Convert this dataframe to an interactive table.\"\n",
              "              style=\"display:none;\">\n",
              "        \n",
              "  <svg xmlns=\"http://www.w3.org/2000/svg\" height=\"24px\"viewBox=\"0 0 24 24\"\n",
              "       width=\"24px\">\n",
              "    <path d=\"M0 0h24v24H0V0z\" fill=\"none\"/>\n",
              "    <path d=\"M18.56 5.44l.94 2.06.94-2.06 2.06-.94-2.06-.94-.94-2.06-.94 2.06-2.06.94zm-11 1L8.5 8.5l.94-2.06 2.06-.94-2.06-.94L8.5 2.5l-.94 2.06-2.06.94zm10 10l.94 2.06.94-2.06 2.06-.94-2.06-.94-.94-2.06-.94 2.06-2.06.94z\"/><path d=\"M17.41 7.96l-1.37-1.37c-.4-.4-.92-.59-1.43-.59-.52 0-1.04.2-1.43.59L10.3 9.45l-7.72 7.72c-.78.78-.78 2.05 0 2.83L4 21.41c.39.39.9.59 1.41.59.51 0 1.02-.2 1.41-.59l7.78-7.78 2.81-2.81c.8-.78.8-2.07 0-2.86zM5.41 20L4 18.59l7.72-7.72 1.47 1.35L5.41 20z\"/>\n",
              "  </svg>\n",
              "      </button>\n",
              "      \n",
              "  <style>\n",
              "    .colab-df-container {\n",
              "      display:flex;\n",
              "      flex-wrap:wrap;\n",
              "      gap: 12px;\n",
              "    }\n",
              "\n",
              "    .colab-df-convert {\n",
              "      background-color: #E8F0FE;\n",
              "      border: none;\n",
              "      border-radius: 50%;\n",
              "      cursor: pointer;\n",
              "      display: none;\n",
              "      fill: #1967D2;\n",
              "      height: 32px;\n",
              "      padding: 0 0 0 0;\n",
              "      width: 32px;\n",
              "    }\n",
              "\n",
              "    .colab-df-convert:hover {\n",
              "      background-color: #E2EBFA;\n",
              "      box-shadow: 0px 1px 2px rgba(60, 64, 67, 0.3), 0px 1px 3px 1px rgba(60, 64, 67, 0.15);\n",
              "      fill: #174EA6;\n",
              "    }\n",
              "\n",
              "    [theme=dark] .colab-df-convert {\n",
              "      background-color: #3B4455;\n",
              "      fill: #D2E3FC;\n",
              "    }\n",
              "\n",
              "    [theme=dark] .colab-df-convert:hover {\n",
              "      background-color: #434B5C;\n",
              "      box-shadow: 0px 1px 3px 1px rgba(0, 0, 0, 0.15);\n",
              "      filter: drop-shadow(0px 1px 2px rgba(0, 0, 0, 0.3));\n",
              "      fill: #FFFFFF;\n",
              "    }\n",
              "  </style>\n",
              "\n",
              "      <script>\n",
              "        const buttonEl =\n",
              "          document.querySelector('#df-08459935-1b40-4153-8883-5ac99a0fd3a4 button.colab-df-convert');\n",
              "        buttonEl.style.display =\n",
              "          google.colab.kernel.accessAllowed ? 'block' : 'none';\n",
              "\n",
              "        async function convertToInteractive(key) {\n",
              "          const element = document.querySelector('#df-08459935-1b40-4153-8883-5ac99a0fd3a4');\n",
              "          const dataTable =\n",
              "            await google.colab.kernel.invokeFunction('convertToInteractive',\n",
              "                                                     [key], {});\n",
              "          if (!dataTable) return;\n",
              "\n",
              "          const docLinkHtml = 'Like what you see? Visit the ' +\n",
              "            '<a target=\"_blank\" href=https://colab.research.google.com/notebooks/data_table.ipynb>data table notebook</a>'\n",
              "            + ' to learn more about interactive tables.';\n",
              "          element.innerHTML = '';\n",
              "          dataTable['output_type'] = 'display_data';\n",
              "          await google.colab.output.renderOutput(dataTable, element);\n",
              "          const docLink = document.createElement('div');\n",
              "          docLink.innerHTML = docLinkHtml;\n",
              "          element.appendChild(docLink);\n",
              "        }\n",
              "      </script>\n",
              "    </div>\n",
              "  </div>\n",
              "  "
            ],
            "text/plain": [
              "                               ชื่อไฟล์ข้อมูล Ref Shad\n",
              "1    34F0629C-69B1-4125-85F4-7E496A7847A0.png  A1   A1\n",
              "2    75D1D3E7-592F-475B-9A9A-875F69F08B32.png  A1   A1\n",
              "3    0269AD27-018D-4F5C-8420-0138CBE2F66D.png  A1   A1\n",
              "4    23588608-16F4-4103-ABCE-12D22092B61E.png  A1   A1\n",
              "5    7FD4DE28-0FF8-4A06-A8F0-172F77C0E69C.png  A1   A1\n",
              "..                                        ...  ..  ...\n",
              "157  F055D60E-75F4-409F-BD02-630F03AE0403.png  A1   D4\n",
              "158  A8C098DB-7C71-4987-BA14-87C945E5327E.png  A1   D4\n",
              "159  C2265DF6-63D4-4B00-919C-CB891BF75E67.png  A1   D4\n",
              "160  A7F2FAFC-9EE8-4E34-A180-7A7E5030F4F7.png  A1   D4\n",
              "161  36796E2A-5E2D-4E8F-AEFA-7FD009598838.png  A1   D4\n",
              "\n",
              "[161 rows x 3 columns]"
            ]
          },
          "metadata": {},
          "execution_count": 20
        }
      ],
      "source": [
        "df =A1_set1.drop(['ชนิดกล้องถ่ายรูป','แสงที่ใช้', 'ฉากหลัง','หมายเหตุ'], axis=1)\n",
        "df "
      ]
    },
    {
      "cell_type": "code",
      "execution_count": 21,
      "metadata": {
        "colab": {
          "base_uri": "https://localhost:8080/",
          "height": 143
        },
        "id": "hlQOFAeCcjwm",
        "outputId": "2d4d89cf-21b7-4ce8-c15f-7dd09601315b"
      },
      "outputs": [
        {
          "output_type": "execute_result",
          "data": {
            "text/html": [
              "\n",
              "  <div id=\"df-08c75cba-4b73-479d-80fe-c8c7682a37b4\">\n",
              "    <div class=\"colab-df-container\">\n",
              "      <div>\n",
              "<style scoped>\n",
              "    .dataframe tbody tr th:only-of-type {\n",
              "        vertical-align: middle;\n",
              "    }\n",
              "\n",
              "    .dataframe tbody tr th {\n",
              "        vertical-align: top;\n",
              "    }\n",
              "\n",
              "    .dataframe thead th {\n",
              "        text-align: right;\n",
              "    }\n",
              "</style>\n",
              "<table border=\"1\" class=\"dataframe\">\n",
              "  <thead>\n",
              "    <tr style=\"text-align: right;\">\n",
              "      <th></th>\n",
              "      <th>ชื่อไฟล์ข้อมูล</th>\n",
              "      <th>Ref</th>\n",
              "      <th>Shad</th>\n",
              "      <th>ชนิดกล้องถ่ายรูป</th>\n",
              "      <th>แสงที่ใช้</th>\n",
              "      <th>ฉากหลัง</th>\n",
              "      <th>หมายเหตุ</th>\n",
              "    </tr>\n",
              "  </thead>\n",
              "  <tbody>\n",
              "    <tr>\n",
              "      <th>1</th>\n",
              "      <td>34F0629C-69B1-4125-85F4-7E496A7847A0.png</td>\n",
              "      <td>A1</td>\n",
              "      <td>A1</td>\n",
              "      <td>Iphone 11</td>\n",
              "      <td>ไฟกลมในห้อง และไฟนีออน 4 ดวง</td>\n",
              "      <td>สีดำ</td>\n",
              "      <td>ค่า duration 1/100 ISO 630</td>\n",
              "    </tr>\n",
              "    <tr>\n",
              "      <th>2</th>\n",
              "      <td>75D1D3E7-592F-475B-9A9A-875F69F08B32.png</td>\n",
              "      <td>A1</td>\n",
              "      <td>A1</td>\n",
              "      <td>Iphone 11</td>\n",
              "      <td>ไฟกลมในห้อง และไฟนีออน 4 ดวง</td>\n",
              "      <td>สีดำ</td>\n",
              "      <td>ค่า duration 1/100 ISO 630</td>\n",
              "    </tr>\n",
              "    <tr>\n",
              "      <th>3</th>\n",
              "      <td>0269AD27-018D-4F5C-8420-0138CBE2F66D.png</td>\n",
              "      <td>A1</td>\n",
              "      <td>A1</td>\n",
              "      <td>Iphone 11</td>\n",
              "      <td>ไฟกลมในห้อง และไฟนีออน 4 ดวง</td>\n",
              "      <td>สีดำ</td>\n",
              "      <td>ค่า duration 1/100 ISO 630</td>\n",
              "    </tr>\n",
              "  </tbody>\n",
              "</table>\n",
              "</div>\n",
              "      <button class=\"colab-df-convert\" onclick=\"convertToInteractive('df-08c75cba-4b73-479d-80fe-c8c7682a37b4')\"\n",
              "              title=\"Convert this dataframe to an interactive table.\"\n",
              "              style=\"display:none;\">\n",
              "        \n",
              "  <svg xmlns=\"http://www.w3.org/2000/svg\" height=\"24px\"viewBox=\"0 0 24 24\"\n",
              "       width=\"24px\">\n",
              "    <path d=\"M0 0h24v24H0V0z\" fill=\"none\"/>\n",
              "    <path d=\"M18.56 5.44l.94 2.06.94-2.06 2.06-.94-2.06-.94-.94-2.06-.94 2.06-2.06.94zm-11 1L8.5 8.5l.94-2.06 2.06-.94-2.06-.94L8.5 2.5l-.94 2.06-2.06.94zm10 10l.94 2.06.94-2.06 2.06-.94-2.06-.94-.94-2.06-.94 2.06-2.06.94z\"/><path d=\"M17.41 7.96l-1.37-1.37c-.4-.4-.92-.59-1.43-.59-.52 0-1.04.2-1.43.59L10.3 9.45l-7.72 7.72c-.78.78-.78 2.05 0 2.83L4 21.41c.39.39.9.59 1.41.59.51 0 1.02-.2 1.41-.59l7.78-7.78 2.81-2.81c.8-.78.8-2.07 0-2.86zM5.41 20L4 18.59l7.72-7.72 1.47 1.35L5.41 20z\"/>\n",
              "  </svg>\n",
              "      </button>\n",
              "      \n",
              "  <style>\n",
              "    .colab-df-container {\n",
              "      display:flex;\n",
              "      flex-wrap:wrap;\n",
              "      gap: 12px;\n",
              "    }\n",
              "\n",
              "    .colab-df-convert {\n",
              "      background-color: #E8F0FE;\n",
              "      border: none;\n",
              "      border-radius: 50%;\n",
              "      cursor: pointer;\n",
              "      display: none;\n",
              "      fill: #1967D2;\n",
              "      height: 32px;\n",
              "      padding: 0 0 0 0;\n",
              "      width: 32px;\n",
              "    }\n",
              "\n",
              "    .colab-df-convert:hover {\n",
              "      background-color: #E2EBFA;\n",
              "      box-shadow: 0px 1px 2px rgba(60, 64, 67, 0.3), 0px 1px 3px 1px rgba(60, 64, 67, 0.15);\n",
              "      fill: #174EA6;\n",
              "    }\n",
              "\n",
              "    [theme=dark] .colab-df-convert {\n",
              "      background-color: #3B4455;\n",
              "      fill: #D2E3FC;\n",
              "    }\n",
              "\n",
              "    [theme=dark] .colab-df-convert:hover {\n",
              "      background-color: #434B5C;\n",
              "      box-shadow: 0px 1px 3px 1px rgba(0, 0, 0, 0.15);\n",
              "      filter: drop-shadow(0px 1px 2px rgba(0, 0, 0, 0.3));\n",
              "      fill: #FFFFFF;\n",
              "    }\n",
              "  </style>\n",
              "\n",
              "      <script>\n",
              "        const buttonEl =\n",
              "          document.querySelector('#df-08c75cba-4b73-479d-80fe-c8c7682a37b4 button.colab-df-convert');\n",
              "        buttonEl.style.display =\n",
              "          google.colab.kernel.accessAllowed ? 'block' : 'none';\n",
              "\n",
              "        async function convertToInteractive(key) {\n",
              "          const element = document.querySelector('#df-08c75cba-4b73-479d-80fe-c8c7682a37b4');\n",
              "          const dataTable =\n",
              "            await google.colab.kernel.invokeFunction('convertToInteractive',\n",
              "                                                     [key], {});\n",
              "          if (!dataTable) return;\n",
              "\n",
              "          const docLinkHtml = 'Like what you see? Visit the ' +\n",
              "            '<a target=\"_blank\" href=https://colab.research.google.com/notebooks/data_table.ipynb>data table notebook</a>'\n",
              "            + ' to learn more about interactive tables.';\n",
              "          element.innerHTML = '';\n",
              "          dataTable['output_type'] = 'display_data';\n",
              "          await google.colab.output.renderOutput(dataTable, element);\n",
              "          const docLink = document.createElement('div');\n",
              "          docLink.innerHTML = docLinkHtml;\n",
              "          element.appendChild(docLink);\n",
              "        }\n",
              "      </script>\n",
              "    </div>\n",
              "  </div>\n",
              "  "
            ],
            "text/plain": [
              "                             ชื่อไฟล์ข้อมูล  ...                    หมายเหตุ\n",
              "1  34F0629C-69B1-4125-85F4-7E496A7847A0.png  ...  ค่า duration 1/100 ISO 630\n",
              "2  75D1D3E7-592F-475B-9A9A-875F69F08B32.png  ...  ค่า duration 1/100 ISO 630\n",
              "3  0269AD27-018D-4F5C-8420-0138CBE2F66D.png  ...  ค่า duration 1/100 ISO 630\n",
              "\n",
              "[3 rows x 7 columns]"
            ]
          },
          "metadata": {},
          "execution_count": 21
        }
      ],
      "source": [
        "A1_set11 =A1_set1.head(3)\n",
        "A1_set11"
      ]
    },
    {
      "cell_type": "code",
      "execution_count": 22,
      "metadata": {
        "id": "qynTygcC1ZBH"
      },
      "outputs": [],
      "source": [
        "import cv2\n",
        "from matplotlib import pyplot as plt #การเรียกใช้คำสั่ง matplotlib เพื่อวาดกราฟ โดยแทนชื่อ matplotlib ด้วย plt\n",
        "import matplotlib"
      ]
    },
    {
      "cell_type": "code",
      "execution_count": 23,
      "metadata": {
        "id": "kbd_KOCD5vG7"
      },
      "outputs": [],
      "source": [
        "import numpy as np"
      ]
    },
    {
      "cell_type": "code",
      "execution_count": 24,
      "metadata": {
        "id": "aqVTTsy35K6K"
      },
      "outputs": [],
      "source": [
        "from tabulate import tabulate"
      ]
    },
    {
      "cell_type": "code",
      "execution_count": 25,
      "metadata": {
        "id": "Aju5DUHW49cB"
      },
      "outputs": [],
      "source": [
        "table   = [['R-ref', 'G-ref', 'B-ref', 'R-Shad', 'G-Shad', 'B-Shad', 'H-ref', 'S-ref', 'V-ref', 'H-Shad', 'S-Shad', 'V-Shad', 'Shade-ref', 'Shade', 'Setting']]"
      ]
    },
    {
      "cell_type": "markdown",
      "metadata": {
        "id": "qjY_4stpKt6h"
      },
      "source": [
        "#ดึงค่า"
      ]
    },
    {
      "cell_type": "code",
      "execution_count": 26,
      "metadata": {
        "id": "8qjFnXXtOkt6"
      },
      "outputs": [],
      "source": [
        "list_total1 = list()\n",
        "for img in A1_set1['ชื่อไฟล์ข้อมูล']:\n",
        "  S1_double = img\n",
        "  full_path_to_file2 = os.path.join(S1_double) \n",
        "  blob_service_client.get_blob_to_path('shadeimg', full_path_to_file2, full_path_to_file2)\n",
        "  imgS1_A1A1_1  = cv2.imread(S1_double) #RGB\n",
        "  S1RGB_imgA1A1_1= cv2.cvtColor(imgS1_A1A1_1, cv2.COLOR_BGR2RGB)\n",
        "  S1meanrefA1_1 = list()\n",
        "  for i in range(S1RGB_imgA1A1_1.shape[0]): \n",
        "     for j in range(S1RGB_imgA1A1_1.shape[1]): \n",
        "                if 1769<i<1881 and 2019<j<2131 :\n",
        "                  S1meanrefA1_1.append(S1RGB_imgA1A1_1[i][j]) \n",
        "  S1meanrefA1_1 = np.array(S1meanrefA1_1)\n",
        "  S1rgbrefA1_1 = list()\n",
        "  for i in range(3):\n",
        "    S1rgbrefA1_1.append(S1meanrefA1_1[:,i].mean())\n",
        "  list_total1.append(S1rgbrefA1_1)"
      ]
    },
    {
      "cell_type": "code",
      "execution_count": 27,
      "metadata": {
        "id": "U_z-3B5UPmWR"
      },
      "outputs": [],
      "source": [
        "cols=['R-ref', 'G-ref' , 'B-ref']\n",
        "S1=pd.DataFrame(list_total1,columns=cols)\n",
        "S1.index.names=['id']"
      ]
    },
    {
      "cell_type": "code",
      "execution_count": 28,
      "metadata": {
        "id": "ZBBrF_b_OsMA"
      },
      "outputs": [],
      "source": [
        "list_total2 = list()\n",
        "for img in A1_set1['ชื่อไฟล์ข้อมูล']:\n",
        "  S1_double = img\n",
        "  full_path_to_file2 = os.path.join(S1_double) \n",
        "  blob_service_client.get_blob_to_path('shadeimg', full_path_to_file2, full_path_to_file2)\n",
        "  imgS1_A1A1_1  = cv2.imread(S1_double) #RGB\n",
        "  S1RGB_imgA1A1_1= cv2.cvtColor(imgS1_A1A1_1, cv2.COLOR_BGR2RGB)\n",
        "  S1meanA1_2 = list()\n",
        "  for i in range(S1RGB_imgA1A1_1.shape[0]): \n",
        "     for j in range(S1RGB_imgA1A1_1.shape[1]): \n",
        "                if 1770<i<1880 and 2015<j<2145 :\n",
        "                  S1meanA1_2.append(S1RGB_imgA1A1_1[i][j])  \n",
        "  S1meanA1_2 = np.array(S1meanA1_2)\n",
        "  S1rgbA1_2 = list()\n",
        "  for i in range(3):\n",
        "    S1rgbA1_2.append(S1meanA1_2[:,i].mean())\n",
        "  list_total2.append(S1rgbA1_2)"
      ]
    },
    {
      "cell_type": "code",
      "execution_count": 29,
      "metadata": {
        "id": "H4O48DoGbBeg"
      },
      "outputs": [],
      "source": [
        "cols=['R-Shad', 'G-Shad' , 'B-Shad'] \n",
        "S2=pd.DataFrame(list_total2,columns=cols)"
      ]
    },
    {
      "cell_type": "code",
      "execution_count": 30,
      "metadata": {
        "colab": {
          "base_uri": "https://localhost:8080/",
          "height": 0
        },
        "id": "bLXIp3MnWSBy",
        "outputId": "4d3cf14d-0039-4045-db59-f5be1795f76a"
      },
      "outputs": [
        {
          "output_type": "execute_result",
          "data": {
            "text/html": [
              "\n",
              "  <div id=\"df-fdfd7608-5650-4c0d-bd58-9ee13b74e950\">\n",
              "    <div class=\"colab-df-container\">\n",
              "      <div>\n",
              "<style scoped>\n",
              "    .dataframe tbody tr th:only-of-type {\n",
              "        vertical-align: middle;\n",
              "    }\n",
              "\n",
              "    .dataframe tbody tr th {\n",
              "        vertical-align: top;\n",
              "    }\n",
              "\n",
              "    .dataframe thead th {\n",
              "        text-align: right;\n",
              "    }\n",
              "</style>\n",
              "<table border=\"1\" class=\"dataframe\">\n",
              "  <thead>\n",
              "    <tr style=\"text-align: right;\">\n",
              "      <th></th>\n",
              "      <th>R-ref</th>\n",
              "      <th>G-ref</th>\n",
              "      <th>B-ref</th>\n",
              "      <th>R-Shad</th>\n",
              "      <th>G-Shad</th>\n",
              "      <th>B-Shad</th>\n",
              "    </tr>\n",
              "  </thead>\n",
              "  <tbody>\n",
              "    <tr>\n",
              "      <th>0</th>\n",
              "      <td>231.544599</td>\n",
              "      <td>214.478370</td>\n",
              "      <td>170.378622</td>\n",
              "      <td>231.217125</td>\n",
              "      <td>214.152265</td>\n",
              "      <td>170.137330</td>\n",
              "    </tr>\n",
              "    <tr>\n",
              "      <th>1</th>\n",
              "      <td>226.812191</td>\n",
              "      <td>209.496226</td>\n",
              "      <td>165.074669</td>\n",
              "      <td>226.556859</td>\n",
              "      <td>209.166702</td>\n",
              "      <td>164.849442</td>\n",
              "    </tr>\n",
              "    <tr>\n",
              "      <th>2</th>\n",
              "      <td>232.169223</td>\n",
              "      <td>214.141790</td>\n",
              "      <td>169.744664</td>\n",
              "      <td>231.777114</td>\n",
              "      <td>213.747244</td>\n",
              "      <td>169.416827</td>\n",
              "    </tr>\n",
              "    <tr>\n",
              "      <th>3</th>\n",
              "      <td>232.451830</td>\n",
              "      <td>213.986852</td>\n",
              "      <td>169.900333</td>\n",
              "      <td>232.075172</td>\n",
              "      <td>213.621933</td>\n",
              "      <td>169.580684</td>\n",
              "    </tr>\n",
              "    <tr>\n",
              "      <th>4</th>\n",
              "      <td>231.967454</td>\n",
              "      <td>213.415307</td>\n",
              "      <td>170.147472</td>\n",
              "      <td>231.642913</td>\n",
              "      <td>213.095939</td>\n",
              "      <td>169.843681</td>\n",
              "    </tr>\n",
              "    <tr>\n",
              "      <th>...</th>\n",
              "      <td>...</td>\n",
              "      <td>...</td>\n",
              "      <td>...</td>\n",
              "      <td>...</td>\n",
              "      <td>...</td>\n",
              "      <td>...</td>\n",
              "    </tr>\n",
              "    <tr>\n",
              "      <th>156</th>\n",
              "      <td>228.800422</td>\n",
              "      <td>205.861213</td>\n",
              "      <td>145.525607</td>\n",
              "      <td>228.582107</td>\n",
              "      <td>205.750018</td>\n",
              "      <td>145.500462</td>\n",
              "    </tr>\n",
              "    <tr>\n",
              "      <th>157</th>\n",
              "      <td>226.550118</td>\n",
              "      <td>203.378541</td>\n",
              "      <td>144.094635</td>\n",
              "      <td>226.478202</td>\n",
              "      <td>203.253325</td>\n",
              "      <td>144.082996</td>\n",
              "    </tr>\n",
              "    <tr>\n",
              "      <th>158</th>\n",
              "      <td>226.000406</td>\n",
              "      <td>203.723886</td>\n",
              "      <td>143.303871</td>\n",
              "      <td>225.820923</td>\n",
              "      <td>203.576844</td>\n",
              "      <td>143.258516</td>\n",
              "    </tr>\n",
              "    <tr>\n",
              "      <th>159</th>\n",
              "      <td>226.466845</td>\n",
              "      <td>205.043665</td>\n",
              "      <td>143.904716</td>\n",
              "      <td>226.374511</td>\n",
              "      <td>204.893393</td>\n",
              "      <td>143.898158</td>\n",
              "    </tr>\n",
              "    <tr>\n",
              "      <th>160</th>\n",
              "      <td>228.276520</td>\n",
              "      <td>204.980440</td>\n",
              "      <td>144.768769</td>\n",
              "      <td>228.051632</td>\n",
              "      <td>204.716663</td>\n",
              "      <td>144.671574</td>\n",
              "    </tr>\n",
              "  </tbody>\n",
              "</table>\n",
              "<p>161 rows × 6 columns</p>\n",
              "</div>\n",
              "      <button class=\"colab-df-convert\" onclick=\"convertToInteractive('df-fdfd7608-5650-4c0d-bd58-9ee13b74e950')\"\n",
              "              title=\"Convert this dataframe to an interactive table.\"\n",
              "              style=\"display:none;\">\n",
              "        \n",
              "  <svg xmlns=\"http://www.w3.org/2000/svg\" height=\"24px\"viewBox=\"0 0 24 24\"\n",
              "       width=\"24px\">\n",
              "    <path d=\"M0 0h24v24H0V0z\" fill=\"none\"/>\n",
              "    <path d=\"M18.56 5.44l.94 2.06.94-2.06 2.06-.94-2.06-.94-.94-2.06-.94 2.06-2.06.94zm-11 1L8.5 8.5l.94-2.06 2.06-.94-2.06-.94L8.5 2.5l-.94 2.06-2.06.94zm10 10l.94 2.06.94-2.06 2.06-.94-2.06-.94-.94-2.06-.94 2.06-2.06.94z\"/><path d=\"M17.41 7.96l-1.37-1.37c-.4-.4-.92-.59-1.43-.59-.52 0-1.04.2-1.43.59L10.3 9.45l-7.72 7.72c-.78.78-.78 2.05 0 2.83L4 21.41c.39.39.9.59 1.41.59.51 0 1.02-.2 1.41-.59l7.78-7.78 2.81-2.81c.8-.78.8-2.07 0-2.86zM5.41 20L4 18.59l7.72-7.72 1.47 1.35L5.41 20z\"/>\n",
              "  </svg>\n",
              "      </button>\n",
              "      \n",
              "  <style>\n",
              "    .colab-df-container {\n",
              "      display:flex;\n",
              "      flex-wrap:wrap;\n",
              "      gap: 12px;\n",
              "    }\n",
              "\n",
              "    .colab-df-convert {\n",
              "      background-color: #E8F0FE;\n",
              "      border: none;\n",
              "      border-radius: 50%;\n",
              "      cursor: pointer;\n",
              "      display: none;\n",
              "      fill: #1967D2;\n",
              "      height: 32px;\n",
              "      padding: 0 0 0 0;\n",
              "      width: 32px;\n",
              "    }\n",
              "\n",
              "    .colab-df-convert:hover {\n",
              "      background-color: #E2EBFA;\n",
              "      box-shadow: 0px 1px 2px rgba(60, 64, 67, 0.3), 0px 1px 3px 1px rgba(60, 64, 67, 0.15);\n",
              "      fill: #174EA6;\n",
              "    }\n",
              "\n",
              "    [theme=dark] .colab-df-convert {\n",
              "      background-color: #3B4455;\n",
              "      fill: #D2E3FC;\n",
              "    }\n",
              "\n",
              "    [theme=dark] .colab-df-convert:hover {\n",
              "      background-color: #434B5C;\n",
              "      box-shadow: 0px 1px 3px 1px rgba(0, 0, 0, 0.15);\n",
              "      filter: drop-shadow(0px 1px 2px rgba(0, 0, 0, 0.3));\n",
              "      fill: #FFFFFF;\n",
              "    }\n",
              "  </style>\n",
              "\n",
              "      <script>\n",
              "        const buttonEl =\n",
              "          document.querySelector('#df-fdfd7608-5650-4c0d-bd58-9ee13b74e950 button.colab-df-convert');\n",
              "        buttonEl.style.display =\n",
              "          google.colab.kernel.accessAllowed ? 'block' : 'none';\n",
              "\n",
              "        async function convertToInteractive(key) {\n",
              "          const element = document.querySelector('#df-fdfd7608-5650-4c0d-bd58-9ee13b74e950');\n",
              "          const dataTable =\n",
              "            await google.colab.kernel.invokeFunction('convertToInteractive',\n",
              "                                                     [key], {});\n",
              "          if (!dataTable) return;\n",
              "\n",
              "          const docLinkHtml = 'Like what you see? Visit the ' +\n",
              "            '<a target=\"_blank\" href=https://colab.research.google.com/notebooks/data_table.ipynb>data table notebook</a>'\n",
              "            + ' to learn more about interactive tables.';\n",
              "          element.innerHTML = '';\n",
              "          dataTable['output_type'] = 'display_data';\n",
              "          await google.colab.output.renderOutput(dataTable, element);\n",
              "          const docLink = document.createElement('div');\n",
              "          docLink.innerHTML = docLinkHtml;\n",
              "          element.appendChild(docLink);\n",
              "        }\n",
              "      </script>\n",
              "    </div>\n",
              "  </div>\n",
              "  "
            ],
            "text/plain": [
              "          R-ref       G-ref       B-ref      R-Shad      G-Shad      B-Shad\n",
              "0    231.544599  214.478370  170.378622  231.217125  214.152265  170.137330\n",
              "1    226.812191  209.496226  165.074669  226.556859  209.166702  164.849442\n",
              "2    232.169223  214.141790  169.744664  231.777114  213.747244  169.416827\n",
              "3    232.451830  213.986852  169.900333  232.075172  213.621933  169.580684\n",
              "4    231.967454  213.415307  170.147472  231.642913  213.095939  169.843681\n",
              "..          ...         ...         ...         ...         ...         ...\n",
              "156  228.800422  205.861213  145.525607  228.582107  205.750018  145.500462\n",
              "157  226.550118  203.378541  144.094635  226.478202  203.253325  144.082996\n",
              "158  226.000406  203.723886  143.303871  225.820923  203.576844  143.258516\n",
              "159  226.466845  205.043665  143.904716  226.374511  204.893393  143.898158\n",
              "160  228.276520  204.980440  144.768769  228.051632  204.716663  144.671574\n",
              "\n",
              "[161 rows x 6 columns]"
            ]
          },
          "metadata": {},
          "execution_count": 30
        }
      ],
      "source": [
        "dataA1 = pd.concat([S1, S2], axis=1)\n",
        "dataA1"
      ]
    },
    {
      "cell_type": "markdown",
      "metadata": {
        "id": "MBanZfyaN_Ur"
      },
      "source": [
        "##HSV"
      ]
    },
    {
      "cell_type": "code",
      "execution_count": 31,
      "metadata": {
        "id": "zRgwejYPY-Yf"
      },
      "outputs": [],
      "source": [
        "list_total11 = list()\n",
        "for img in A1_set1['ชื่อไฟล์ข้อมูล']:\n",
        "  S1_double = img\n",
        "  full_path_to_file2 = os.path.join(S1_double) \n",
        "  blob_service_client.get_blob_to_path('shadeimg', full_path_to_file2, full_path_to_file2)\n",
        "  imgS1_A1A1_1  = cv2.imread(S1_double) #HSV\n",
        "  S1HSV_imgA1A1_1= cv2.cvtColor(imgS1_A1A1_1, cv2.COLOR_BGR2HSV)\n",
        "  S1meanA1_1 = list()\n",
        "  for i in range(S1HSV_imgA1A1_1.shape[0]): \n",
        "     for j in range(S1HSV_imgA1A1_1.shape[1]): \n",
        "                if 1769<i<1881 and 2019<j<2131 :\n",
        "                  S1meanA1_1.append(S1HSV_imgA1A1_1[i][j])  \n",
        "  S1meanA1_1 = np.array(S1meanA1_1)\n",
        "  S1rgbrefA1_1 = list()\n",
        "  for i in range(3):\n",
        "    S1rgbrefA1_1.append(S1meanA1_1[:,i].mean())\n",
        "  list_total11.append(S1rgbrefA1_1)"
      ]
    },
    {
      "cell_type": "code",
      "execution_count": 32,
      "metadata": {
        "id": "YidAWzt4a3Vn"
      },
      "outputs": [],
      "source": [
        "cols=['H-ref', 'S-ref' , 'V-ref']\n",
        "S11=pd.DataFrame(list_total11,columns=cols)\n",
        "S11.index.names=['id']"
      ]
    },
    {
      "cell_type": "code",
      "execution_count": null,
      "metadata": {
        "id": "B73Cjqu0aHcC"
      },
      "outputs": [],
      "source": [
        "list_total22 = list()\n",
        "for img in A1_set1['ชื่อไฟล์ข้อมูล']:\n",
        "  S1_double = img\n",
        "  full_path_to_file2 = os.path.join(S1_double) \n",
        "  blob_service_client.get_blob_to_path('shadeimg', full_path_to_file2, full_path_to_file2)\n",
        "  imgS1_A1A1_1  = cv2.imread(S1_double) #HSV\n",
        "  S1HSV_imgA1A1_1= cv2.cvtColor(imgS1_A1A1_1, cv2.COLOR_BGR2HSV)\n",
        "  S1meanA1_2 = list()\n",
        "  for i in range(S1HSV_imgA1A1_1.shape[0]): \n",
        "     for j in range(S1HSV_imgA1A1_1.shape[1]): \n",
        "                if 1770<i<1880 and 2015<j<2145 :\n",
        "                  S1meanA1_2.append(S1HSV_imgA1A1_1[i][j])  \n",
        "  S1meanA1_2 = np.array(S1meanA1_2)\n",
        "  S1hsvA1_2 = list()\n",
        "  for i in range(3):\n",
        "    S1hsvA1_2.append(S1meanA1_2[:,i].mean())\n",
        "  list_total22.append(S1hsvA1_2)"
      ]
    },
    {
      "cell_type": "code",
      "execution_count": null,
      "metadata": {
        "id": "7TqjTvkmdTX4"
      },
      "outputs": [],
      "source": [
        "cols=['H-Shad', 'S-Shad' , 'V-Shad']\n",
        "S22=pd.DataFrame(list_total22,columns=cols)\n",
        "S22.index.names=['id']"
      ]
    },
    {
      "cell_type": "code",
      "execution_count": null,
      "metadata": {
        "id": "HluzK7ZgkOz4"
      },
      "outputs": [],
      "source": [
        "dataP1 = pd.concat([S1, S2,S11,S22], axis=1)\n",
        "dataP1"
      ]
    },
    {
      "cell_type": "markdown",
      "metadata": {
        "id": "DzUq8OAol_iL"
      },
      "source": [
        "#2"
      ]
    },
    {
      "cell_type": "code",
      "execution_count": null,
      "metadata": {
        "id": "pcYTAnmLmNcR"
      },
      "outputs": [],
      "source": [
        "list_total102 = list()\n",
        "for img in A1_set1['ชื่อไฟล์ข้อมูล']:\n",
        "  S1_double = img\n",
        "  full_path_to_file2 = os.path.join(S1_double) \n",
        "  blob_service_client.get_blob_to_path('shadeimg', full_path_to_file2, full_path_to_file2)\n",
        "  imgS1_A1A1_1  = cv2.imread(S1_double) #RGB\n",
        "  S1RGB_imgA1A1_1= cv2.cvtColor(imgS1_A1A1_1, cv2.COLOR_BGR2RGB)\n",
        "  S1meanrefA1_1 = list()\n",
        "  for i in range(S1RGB_imgA1A1_1.shape[0]): \n",
        "     for j in range(S1RGB_imgA1A1_1.shape[1]): \n",
        "                if 1719<i<1819 and 2029<j<2134 :\n",
        "                  S1meanrefA1_1.append(S1RGB_imgA1A1_1[i][j]) \n",
        "  S1meanrefA1_1 = np.array(S1meanrefA1_1)\n",
        "  S1rgbrefA1_1 = list()\n",
        "  for i in range(3):\n",
        "    S1rgbrefA1_1.append(S1meanrefA1_1[:,i].mean())\n",
        "  list_total102.append(S1rgbrefA1_1)"
      ]
    },
    {
      "cell_type": "code",
      "execution_count": null,
      "metadata": {
        "id": "m_VZQHS8mNcS"
      },
      "outputs": [],
      "source": [
        "cols=['R-ref', 'G-ref' , 'B-ref']\n",
        "S1=pd.DataFrame(list_total102,columns=cols)\n",
        "S1.index.names=['id']"
      ]
    },
    {
      "cell_type": "code",
      "execution_count": null,
      "metadata": {
        "id": "N04m4EijmNcT"
      },
      "outputs": [],
      "source": [
        "list_total202 = list()\n",
        "for img in A1_set1['ชื่อไฟล์ข้อมูล']:\n",
        "  S1_double = img\n",
        "  full_path_to_file2 = os.path.join(S1_double) \n",
        "  blob_service_client.get_blob_to_path('shadeimg', full_path_to_file2, full_path_to_file2)\n",
        "  imgS1_A1A1_1  = cv2.imread(S1_double) #RGB\n",
        "  S1RGB_imgA1A1_1= cv2.cvtColor(imgS1_A1A1_1, cv2.COLOR_BGR2RGB)\n",
        "  S1meanA1_2 = list()\n",
        "  for i in range(S1RGB_imgA1A1_1.shape[0]): \n",
        "     for j in range(S1RGB_imgA1A1_1.shape[1]): \n",
        "                 if 1719<i<1819 and 1709<j<1819 :\n",
        "                  S1meanA1_2.append(S1RGB_imgA1A1_1[i][j])  \n",
        "  S1meanA1_2 = np.array(S1meanA1_2)\n",
        "  S1rgbA1_2 = list()\n",
        "  for i in range(3):\n",
        "    S1rgbA1_2.append(S1meanA1_2[:,i].mean())\n",
        "  list_total202.append(S1rgbA1_2)"
      ]
    },
    {
      "cell_type": "code",
      "execution_count": null,
      "metadata": {
        "id": "sEaOaU0tmNcU"
      },
      "outputs": [],
      "source": [
        "cols=['R-Shad', 'G-Shad' , 'B-Shad'] \n",
        "S2=pd.DataFrame(list_total202,columns=cols)\n",
        "S2.index.names=['id']"
      ]
    },
    {
      "cell_type": "code",
      "execution_count": null,
      "metadata": {
        "id": "eYnNrMJqmNcU"
      },
      "outputs": [],
      "source": [
        "dataA102 = pd.concat([S1, S2], axis=1)\n",
        "dataA102"
      ]
    },
    {
      "cell_type": "code",
      "execution_count": null,
      "metadata": {
        "id": "xGKaEVf1n1JF"
      },
      "outputs": [],
      "source": [
        "list_total1102 = list()\n",
        "for img in A1_set1['ชื่อไฟล์ข้อมูล']:\n",
        "  S1_double = img\n",
        "  full_path_to_file2 = os.path.join(S1_double) \n",
        "  blob_service_client.get_blob_to_path('shadeimg', full_path_to_file2, full_path_to_file2)\n",
        "  imgS1_A1A1_1  = cv2.imread(S1_double) #HSV\n",
        "  S1HSV_imgA1A1_1= cv2.cvtColor(imgS1_A1A1_1, cv2.COLOR_BGR2HSV)\n",
        "  S1meanA1_1 = list()\n",
        "  for i in range(S1HSV_imgA1A1_1.shape[0]): \n",
        "     for j in range(S1HSV_imgA1A1_1.shape[1]): \n",
        "                if 1719<i<1819 and 1709<j<1819 :\n",
        "                  S1meanA1_1.append(S1HSV_imgA1A1_1[i][j])  \n",
        "  S1meanA1_1 = np.array(S1meanA1_1)\n",
        "  S1rgbrefA1_1 = list()\n",
        "  for i in range(3):\n",
        "    S1rgbrefA1_1.append(S1meanA1_1[:,i].mean())\n",
        "  list_total1102.append(S1rgbrefA1_1)"
      ]
    },
    {
      "cell_type": "code",
      "execution_count": null,
      "metadata": {
        "id": "Jr-y2mqbn1JG"
      },
      "outputs": [],
      "source": [
        "cols=['H-ref', 'S-ref' , 'V-ref']\n",
        "S11=pd.DataFrame(list_total1102,columns=cols)\n",
        "S11.index.names=['id']"
      ]
    },
    {
      "cell_type": "code",
      "execution_count": null,
      "metadata": {
        "id": "e0L02S9Pn1JH"
      },
      "outputs": [],
      "source": [
        "list_total2202 = list()\n",
        "for img in A1_set1['ชื่อไฟล์ข้อมูล']:\n",
        "  S1_double = img\n",
        "  full_path_to_file2 = os.path.join(S1_double) \n",
        "  blob_service_client.get_blob_to_path('shadeimg', full_path_to_file2, full_path_to_file2)\n",
        "  imgS1_A1A1_1  = cv2.imread(S1_double) #HSV\n",
        "  S1HSV_imgA1A1_1= cv2.cvtColor(imgS1_A1A1_1, cv2.COLOR_BGR2HSV)\n",
        "  S1meanA1_2 = list()\n",
        "  for i in range(S1HSV_imgA1A1_1.shape[0]): \n",
        "     for j in range(S1HSV_imgA1A1_1.shape[1]): \n",
        "                 if 1719<i<1819 and 1709<j<1819 :\n",
        "                  S1meanA1_2.append(S1HSV_imgA1A1_1[i][j])  \n",
        "  S1meanA1_2 = np.array(S1meanA1_2)\n",
        "  S1hsvA1_2 = list()\n",
        "  for i in range(3):\n",
        "    S1hsvA1_2.append(S1meanA1_2[:,i].mean())\n",
        "  list_total2202.append(S1hsvA1_2)"
      ]
    },
    {
      "cell_type": "code",
      "execution_count": null,
      "metadata": {
        "id": "3eLgII7nn1JJ"
      },
      "outputs": [],
      "source": [
        "cols=['H-Shad', 'S-Shad' , 'V-Shad']\n",
        "S22=pd.DataFrame(list_total2202,columns=cols)\n",
        "S22.index.names=['id']"
      ]
    },
    {
      "cell_type": "code",
      "execution_count": null,
      "metadata": {
        "id": "AnZ-1xpnn1JK"
      },
      "outputs": [],
      "source": [
        "dataP2 = pd.concat([S1, S2,S11,S22], axis=1)\n",
        "dataP2"
      ]
    },
    {
      "cell_type": "markdown",
      "metadata": {
        "id": "EG2mdo4UprE4"
      },
      "source": [
        "#3"
      ]
    },
    {
      "cell_type": "code",
      "execution_count": null,
      "metadata": {
        "id": "16QmTIQGqJt6"
      },
      "outputs": [],
      "source": [
        "list_total103 = list()\n",
        "for img in A1_set1['ชื่อไฟล์ข้อมูล']:\n",
        "  S1_double = img\n",
        "  full_path_to_file2 = os.path.join(S1_double) \n",
        "  blob_service_client.get_blob_to_path('shadeimg', full_path_to_file2, full_path_to_file2)\n",
        "  imgS1_A1A1_1  = cv2.imread(S1_double) #RGB\n",
        "  S1RGB_imgA1A1_1= cv2.cvtColor(imgS1_A1A1_1, cv2.COLOR_BGR2RGB)\n",
        "  S1meanrefA1_1 = list()\n",
        "  for i in range(S1RGB_imgA1A1_1.shape[0]): \n",
        "     for j in range(S1RGB_imgA1A1_1.shape[1]): \n",
        "                 if 1739<i<1839 and 2029<j<2134 :\n",
        "                  S1meanrefA1_1.append(S1RGB_imgA1A1_1[i][j]) \n",
        "  S1meanrefA1_1 = np.array(S1meanrefA1_1)\n",
        "  S1rgbrefA1_1 = list()\n",
        "  for i in range(3):\n",
        "    S1rgbrefA1_1.append(S1meanrefA1_1[:,i].mean())\n",
        "  list_total103.append(S1rgbrefA1_1)"
      ]
    },
    {
      "cell_type": "code",
      "execution_count": null,
      "metadata": {
        "id": "nppZBqy3qJt8"
      },
      "outputs": [],
      "source": [
        "cols=['R-ref', 'G-ref' , 'B-ref']\n",
        "S1=pd.DataFrame(list_total103,columns=cols)\n",
        "S1.index.names=['id']"
      ]
    },
    {
      "cell_type": "code",
      "execution_count": null,
      "metadata": {
        "id": "QvRDEIFtqJt9"
      },
      "outputs": [],
      "source": [
        "list_total203 = list()\n",
        "for img in A1_set1['ชื่อไฟล์ข้อมูล']:\n",
        "  S1_double = img\n",
        "  full_path_to_file2 = os.path.join(S1_double) \n",
        "  blob_service_client.get_blob_to_path('shadeimg', full_path_to_file2, full_path_to_file2)\n",
        "  imgS1_A1A1_1  = cv2.imread(S1_double) #RGB\n",
        "  S1RGB_imgA1A1_1= cv2.cvtColor(imgS1_A1A1_1, cv2.COLOR_BGR2RGB)\n",
        "  S1meanA1_2 = list()\n",
        "  for i in range(S1RGB_imgA1A1_1.shape[0]): \n",
        "     for j in range(S1RGB_imgA1A1_1.shape[1]): \n",
        "                if 1739<i<1839 and 1709<j<1819 :\n",
        "                  S1meanA1_2.append(S1RGB_imgA1A1_1[i][j])  \n",
        "  S1meanA1_2 = np.array(S1meanA1_2)\n",
        "  S1rgbA1_2 = list()\n",
        "  for i in range(3):\n",
        "    S1rgbA1_2.append(S1meanA1_2[:,i].mean())\n",
        "  list_total203.append(S1rgbA1_2)"
      ]
    },
    {
      "cell_type": "code",
      "execution_count": null,
      "metadata": {
        "id": "ZKhSPvp-qJt-"
      },
      "outputs": [],
      "source": [
        "cols=['R-Shad', 'G-Shad' , 'B-Shad'] \n",
        "S2=pd.DataFrame(list_total203,columns=cols)\n",
        "S2.index.names=['id']"
      ]
    },
    {
      "cell_type": "code",
      "execution_count": null,
      "metadata": {
        "id": "dapwzkoFqJt-"
      },
      "outputs": [],
      "source": [
        "dataA103 = pd.concat([S1, S2], axis=1)\n",
        "dataA103"
      ]
    },
    {
      "cell_type": "code",
      "execution_count": null,
      "metadata": {
        "id": "fVuINsw8qJt_"
      },
      "outputs": [],
      "source": [
        "list_total1103 = list()\n",
        "for img in A1_set1['ชื่อไฟล์ข้อมูล']:\n",
        "  S1_double = img\n",
        "  full_path_to_file2 = os.path.join(S1_double) \n",
        "  blob_service_client.get_blob_to_path('shadeimg', full_path_to_file2, full_path_to_file2)\n",
        "  imgS1_A1A1_1  = cv2.imread(S1_double) #HSV\n",
        "  S1HSV_imgA1A1_1= cv2.cvtColor(imgS1_A1A1_1, cv2.COLOR_BGR2HSV)\n",
        "  S1meanA1_1 = list()\n",
        "  for i in range(S1HSV_imgA1A1_1.shape[0]): \n",
        "     for j in range(S1HSV_imgA1A1_1.shape[1]): \n",
        "               if 1739<i<1839 and 2029<j<2134 :\n",
        "                  S1meanA1_1.append(S1HSV_imgA1A1_1[i][j])  \n",
        "  S1meanA1_1 = np.array(S1meanA1_1)\n",
        "  S1rgbrefA1_1 = list()\n",
        "  for i in range(3):\n",
        "    S1rgbrefA1_1.append(S1meanA1_1[:,i].mean())\n",
        "  list_total1103.append(S1rgbrefA1_1)"
      ]
    },
    {
      "cell_type": "code",
      "execution_count": null,
      "metadata": {
        "id": "XrZOKXagqJuA"
      },
      "outputs": [],
      "source": [
        "cols=['H-ref', 'S-ref' , 'V-ref']\n",
        "S11=pd.DataFrame(list_total1103,columns=cols)\n",
        "S11.index.names=['id']"
      ]
    },
    {
      "cell_type": "code",
      "execution_count": null,
      "metadata": {
        "id": "6uLXGjtoqJuB"
      },
      "outputs": [],
      "source": [
        "list_total2203 = list()\n",
        "for img in A1_set1['ชื่อไฟล์ข้อมูล']:\n",
        "  S1_double = img\n",
        "  full_path_to_file2 = os.path.join(S1_double) \n",
        "  blob_service_client.get_blob_to_path('shadeimg', full_path_to_file2, full_path_to_file2)\n",
        "  imgS1_A1A1_1  = cv2.imread(S1_double) #HSV\n",
        "  S1HSV_imgA1A1_1= cv2.cvtColor(imgS1_A1A1_1, cv2.COLOR_BGR2HSV)\n",
        "  S1meanA1_2 = list()\n",
        "  for i in range(S1HSV_imgA1A1_1.shape[0]): \n",
        "     for j in range(S1HSV_imgA1A1_1.shape[1]): \n",
        "                if 1739<i<1839 and 1709<j<1819 :\n",
        "                  S1meanA1_2.append(S1HSV_imgA1A1_1[i][j])  \n",
        "  S1meanA1_2 = np.array(S1meanA1_2)\n",
        "  S1hsvA1_2 = list()\n",
        "  for i in range(3):\n",
        "    S1hsvA1_2.append(S1meanA1_2[:,i].mean())\n",
        "  list_total2203.append(S1hsvA1_2)"
      ]
    },
    {
      "cell_type": "code",
      "execution_count": null,
      "metadata": {
        "id": "XFRnlVL2qJuC"
      },
      "outputs": [],
      "source": [
        "cols=['H-Shad', 'S-Shad' , 'V-Shad']\n",
        "S22=pd.DataFrame(list_total2203,columns=cols)\n",
        "S22.index.names=['id']"
      ]
    },
    {
      "cell_type": "code",
      "execution_count": null,
      "metadata": {
        "id": "kbxF2EKdqJuC"
      },
      "outputs": [],
      "source": [
        "dataP3 = pd.concat([S1, S2,S11,S22], axis=1)\n",
        "dataP3 "
      ]
    },
    {
      "cell_type": "markdown",
      "metadata": {
        "id": "e6GT7u_6pyP2"
      },
      "source": [
        "#4"
      ]
    },
    {
      "cell_type": "code",
      "execution_count": null,
      "metadata": {
        "id": "CssZAu1ZrMJ6"
      },
      "outputs": [],
      "source": [
        "list_total104 = list()\n",
        "for img in A1_set1['ชื่อไฟล์ข้อมูล']:\n",
        "  S1_double = img\n",
        "  full_path_to_file2 = os.path.join(S1_double) \n",
        "  blob_service_client.get_blob_to_path('shadeimg', full_path_to_file2, full_path_to_file2)\n",
        "  imgS1_A1A1_1  = cv2.imread(S1_double) #RGB\n",
        "  S1RGB_imgA1A1_1= cv2.cvtColor(imgS1_A1A1_1, cv2.COLOR_BGR2RGB)\n",
        "  S1meanrefA1_1 = list()\n",
        "  for i in range(S1RGB_imgA1A1_1.shape[0]): \n",
        "     for j in range(S1RGB_imgA1A1_1.shape[1]): \n",
        "                if 1759<i<1859 and 2029<j<2134 :\n",
        "                  S1meanrefA1_1.append(S1RGB_imgA1A1_1[i][j]) \n",
        "  S1meanrefA1_1 = np.array(S1meanrefA1_1)\n",
        "  S1rgbrefA1_1 = list()\n",
        "  for i in range(3):\n",
        "    S1rgbrefA1_1.append(S1meanrefA1_1[:,i].mean())\n",
        "  list_total104.append(S1rgbrefA1_1)"
      ]
    },
    {
      "cell_type": "code",
      "execution_count": null,
      "metadata": {
        "id": "VJlAnZ1UrMKI"
      },
      "outputs": [],
      "source": [
        "cols=['R-ref', 'G-ref' , 'B-ref']\n",
        "S1=pd.DataFrame(list_total104,columns=cols)\n",
        "S1.index.names=['id']"
      ]
    },
    {
      "cell_type": "code",
      "execution_count": null,
      "metadata": {
        "id": "WrolBHWUrMKJ"
      },
      "outputs": [],
      "source": [
        "list_total204 = list()\n",
        "for img in A1_set1['ชื่อไฟล์ข้อมูล']:\n",
        "  S1_double = img\n",
        "  full_path_to_file2 = os.path.join(S1_double) \n",
        "  blob_service_client.get_blob_to_path('shadeimg', full_path_to_file2, full_path_to_file2)\n",
        "  imgS1_A1A1_1  = cv2.imread(S1_double) #RGB\n",
        "  S1RGB_imgA1A1_1= cv2.cvtColor(imgS1_A1A1_1, cv2.COLOR_BGR2RGB)\n",
        "  S1meanA1_2 = list()\n",
        "  for i in range(S1RGB_imgA1A1_1.shape[0]): \n",
        "     for j in range(S1RGB_imgA1A1_1.shape[1]): \n",
        "                if 1759<i<1859 and 1709<j<1819 :\n",
        "                  S1meanA1_2.append(S1RGB_imgA1A1_1[i][j])  \n",
        "  S1meanA1_2 = np.array(S1meanA1_2)\n",
        "  S1rgbA1_2 = list()\n",
        "  for i in range(3):\n",
        "    S1rgbA1_2.append(S1meanA1_2[:,i].mean())\n",
        "  list_total204.append(S1rgbA1_2)"
      ]
    },
    {
      "cell_type": "code",
      "execution_count": null,
      "metadata": {
        "id": "mZvd3Jy4rMKJ"
      },
      "outputs": [],
      "source": [
        "cols=['R-Shad', 'G-Shad' , 'B-Shad'] \n",
        "S2=pd.DataFrame(list_total204,columns=cols)\n",
        "S2.index.names=['id']"
      ]
    },
    {
      "cell_type": "code",
      "execution_count": null,
      "metadata": {
        "id": "sBXYBtCyrMKK"
      },
      "outputs": [],
      "source": [
        "dataA104 = pd.concat([S1, S2], axis=1)\n",
        "dataA104"
      ]
    },
    {
      "cell_type": "code",
      "execution_count": null,
      "metadata": {
        "id": "2TNkw9ZVrMKK"
      },
      "outputs": [],
      "source": [
        "list_total1104 = list()\n",
        "for img in A1_set1['ชื่อไฟล์ข้อมูล']:\n",
        "  S1_double = img\n",
        "  full_path_to_file2 = os.path.join(S1_double) \n",
        "  blob_service_client.get_blob_to_path('shadeimg', full_path_to_file2, full_path_to_file2)\n",
        "  imgS1_A1A1_1  = cv2.imread(S1_double) #HSV\n",
        "  S1HSV_imgA1A1_1= cv2.cvtColor(imgS1_A1A1_1, cv2.COLOR_BGR2HSV)\n",
        "  S1meanA1_1 = list()\n",
        "  for i in range(S1HSV_imgA1A1_1.shape[0]): \n",
        "     for j in range(S1HSV_imgA1A1_1.shape[1]): \n",
        "                if 1759<i<1859 and 2029<j<2134 :\n",
        "                  S1meanA1_1.append(S1HSV_imgA1A1_1[i][j])  \n",
        "  S1meanA1_1 = np.array(S1meanA1_1)\n",
        "  S1rgbrefA1_1 = list()\n",
        "  for i in range(3):\n",
        "    S1rgbrefA1_1.append(S1meanA1_1[:,i].mean())\n",
        "  list_total1104.append(S1rgbrefA1_1)"
      ]
    },
    {
      "cell_type": "code",
      "execution_count": null,
      "metadata": {
        "id": "1AQEsprtrMKL"
      },
      "outputs": [],
      "source": [
        "cols=['H-ref', 'S-ref' , 'V-ref']\n",
        "S11=pd.DataFrame(list_total1104,columns=cols)\n",
        "S11.index.names=['id']"
      ]
    },
    {
      "cell_type": "code",
      "execution_count": null,
      "metadata": {
        "id": "4Q1li5BqrMKL"
      },
      "outputs": [],
      "source": [
        "list_total2204 = list()\n",
        "for img in A1_set1['ชื่อไฟล์ข้อมูล']:\n",
        "  S1_double = img\n",
        "  full_path_to_file2 = os.path.join(S1_double) \n",
        "  blob_service_client.get_blob_to_path('shadeimg', full_path_to_file2, full_path_to_file2)\n",
        "  imgS1_A1A1_1  = cv2.imread(S1_double) #HSV\n",
        "  S1HSV_imgA1A1_1= cv2.cvtColor(imgS1_A1A1_1, cv2.COLOR_BGR2HSV)\n",
        "  S1meanA1_2 = list()\n",
        "  for i in range(S1HSV_imgA1A1_1.shape[0]): \n",
        "     for j in range(S1HSV_imgA1A1_1.shape[1]): \n",
        "                if 1759<i<1859 and 1709<j<1819 :\n",
        "                  S1meanA1_2.append(S1HSV_imgA1A1_1[i][j])  \n",
        "  S1meanA1_2 = np.array(S1meanA1_2)\n",
        "  S1hsvA1_2 = list()\n",
        "  for i in range(3):\n",
        "    S1hsvA1_2.append(S1meanA1_2[:,i].mean())\n",
        "  list_total2204.append(S1hsvA1_2)"
      ]
    },
    {
      "cell_type": "code",
      "execution_count": null,
      "metadata": {
        "id": "Vs536JyArMKL"
      },
      "outputs": [],
      "source": [
        "cols=['H-Shad', 'S-Shad' , 'V-Shad']\n",
        "S22=pd.DataFrame(list_total2204,columns=cols)\n",
        "S22.index.names=['id']"
      ]
    },
    {
      "cell_type": "code",
      "execution_count": null,
      "metadata": {
        "id": "UzjRwW03rMKM"
      },
      "outputs": [],
      "source": [
        "dataP4 = pd.concat([S1, S2,S11,S22], axis=1)\n",
        "dataP4"
      ]
    },
    {
      "cell_type": "markdown",
      "metadata": {
        "id": "7Wi6CBLcp1-k"
      },
      "source": [
        "#5"
      ]
    },
    {
      "cell_type": "code",
      "execution_count": null,
      "metadata": {
        "id": "pipG1YTMrh89"
      },
      "outputs": [],
      "source": [
        "list_total105 = list()\n",
        "for img in A1_set1['ชื่อไฟล์ข้อมูล']:\n",
        "  S1_double = img\n",
        "  full_path_to_file2 = os.path.join(S1_double) \n",
        "  blob_service_client.get_blob_to_path('shadeimg', full_path_to_file2, full_path_to_file2)\n",
        "  imgS1_A1A1_1  = cv2.imread(S1_double) #RGB\n",
        "  S1RGB_imgA1A1_1= cv2.cvtColor(imgS1_A1A1_1, cv2.COLOR_BGR2RGB)\n",
        "  S1meanrefA1_1 = list()\n",
        "  for i in range(S1RGB_imgA1A1_1.shape[0]): \n",
        "     for j in range(S1RGB_imgA1A1_1.shape[1]): \n",
        "                if 1779<i<1879 and 2029<j<2134 :\n",
        "                  S1meanrefA1_1.append(S1RGB_imgA1A1_1[i][j]) \n",
        "  S1meanrefA1_1 = np.array(S1meanrefA1_1)\n",
        "  S1rgbrefA1_1 = list()\n",
        "  for i in range(3):\n",
        "    S1rgbrefA1_1.append(S1meanrefA1_1[:,i].mean())\n",
        "  list_total105.append(S1rgbrefA1_1)"
      ]
    },
    {
      "cell_type": "code",
      "execution_count": null,
      "metadata": {
        "id": "AOzKWn0irh8-"
      },
      "outputs": [],
      "source": [
        "cols=['R-ref', 'G-ref' , 'B-ref']\n",
        "S1=pd.DataFrame(list_total105,columns=cols)\n",
        "S1.index.names=['id']"
      ]
    },
    {
      "cell_type": "code",
      "execution_count": null,
      "metadata": {
        "id": "dQGp4O1orh8-"
      },
      "outputs": [],
      "source": [
        "list_total205 = list()\n",
        "for img in A1_set1['ชื่อไฟล์ข้อมูล']:\n",
        "  S1_double = img\n",
        "  full_path_to_file2 = os.path.join(S1_double) \n",
        "  blob_service_client.get_blob_to_path('shadeimg', full_path_to_file2, full_path_to_file2)\n",
        "  imgS1_A1A1_1  = cv2.imread(S1_double) #RGB\n",
        "  S1RGB_imgA1A1_1= cv2.cvtColor(imgS1_A1A1_1, cv2.COLOR_BGR2RGB)\n",
        "  S1meanA1_2 = list()\n",
        "  for i in range(S1RGB_imgA1A1_1.shape[0]): \n",
        "     for j in range(S1RGB_imgA1A1_1.shape[1]): \n",
        "                if 1779<i<1879 and 1709<j<1819 :\n",
        "                  S1meanA1_2.append(S1RGB_imgA1A1_1[i][j])  \n",
        "  S1meanA1_2 = np.array(S1meanA1_2)\n",
        "  S1rgbA1_2 = list()\n",
        "  for i in range(3):\n",
        "    S1rgbA1_2.append(S1meanA1_2[:,i].mean())\n",
        "  list_total205.append(S1rgbA1_2)"
      ]
    },
    {
      "cell_type": "code",
      "execution_count": null,
      "metadata": {
        "id": "Qe-Xmzwdrh8_"
      },
      "outputs": [],
      "source": [
        "cols=['R-Shad', 'G-Shad' , 'B-Shad'] \n",
        "S2=pd.DataFrame(list_total205,columns=cols)\n",
        "S2.index.names=['id']"
      ]
    },
    {
      "cell_type": "code",
      "execution_count": null,
      "metadata": {
        "id": "rxxAQSiprh8_"
      },
      "outputs": [],
      "source": [
        "dataA105 = pd.concat([S1, S2], axis=1)\n",
        "dataA105"
      ]
    },
    {
      "cell_type": "code",
      "execution_count": null,
      "metadata": {
        "id": "YP3Dy7vlrh9A"
      },
      "outputs": [],
      "source": [
        "list_total1105 = list()\n",
        "for img in A1_set1['ชื่อไฟล์ข้อมูล']:\n",
        "  S1_double = img\n",
        "  full_path_to_file2 = os.path.join(S1_double) \n",
        "  blob_service_client.get_blob_to_path('shadeimg', full_path_to_file2, full_path_to_file2)\n",
        "  imgS1_A1A1_1  = cv2.imread(S1_double) #HSV\n",
        "  S1HSV_imgA1A1_1= cv2.cvtColor(imgS1_A1A1_1, cv2.COLOR_BGR2HSV)\n",
        "  S1meanA1_1 = list()\n",
        "  for i in range(S1HSV_imgA1A1_1.shape[0]): \n",
        "     for j in range(S1HSV_imgA1A1_1.shape[1]): \n",
        "                if 1779<i<1879 and 2029<j<2134 :\n",
        "                  S1meanA1_1.append(S1HSV_imgA1A1_1[i][j])  \n",
        "  S1meanA1_1 = np.array(S1meanA1_1)\n",
        "  S1rgbrefA1_1 = list()\n",
        "  for i in range(3):\n",
        "    S1rgbrefA1_1.append(S1meanA1_1[:,i].mean())\n",
        "  list_total1105.append(S1rgbrefA1_1)"
      ]
    },
    {
      "cell_type": "code",
      "execution_count": null,
      "metadata": {
        "id": "yBU9Hjoirh9A"
      },
      "outputs": [],
      "source": [
        "cols=['H-ref', 'S-ref' , 'V-ref']\n",
        "S11=pd.DataFrame(list_total1105,columns=cols)\n",
        "S11.index.names=['id']"
      ]
    },
    {
      "cell_type": "code",
      "execution_count": null,
      "metadata": {
        "id": "nsuc3rvMrh9B"
      },
      "outputs": [],
      "source": [
        "list_total2205 = list()\n",
        "for img in A1_set1['ชื่อไฟล์ข้อมูล']:\n",
        "  S1_double = img\n",
        "  full_path_to_file2 = os.path.join(S1_double) \n",
        "  blob_service_client.get_blob_to_path('shadeimg', full_path_to_file2, full_path_to_file2)\n",
        "  imgS1_A1A1_1  = cv2.imread(S1_double) #HSV\n",
        "  S1HSV_imgA1A1_1= cv2.cvtColor(imgS1_A1A1_1, cv2.COLOR_BGR2HSV)\n",
        "  S1meanA1_2 = list()\n",
        "  for i in range(S1HSV_imgA1A1_1.shape[0]): \n",
        "     for j in range(S1HSV_imgA1A1_1.shape[1]): \n",
        "                if 1779<i<1879 and 1709<j<1819 :\n",
        "                  S1meanA1_2.append(S1HSV_imgA1A1_1[i][j])  \n",
        "  S1meanA1_2 = np.array(S1meanA1_2)\n",
        "  S1hsvA1_2 = list()\n",
        "  for i in range(3):\n",
        "    S1hsvA1_2.append(S1meanA1_2[:,i].mean())\n",
        "  list_total2205.append(S1hsvA1_2)"
      ]
    },
    {
      "cell_type": "code",
      "execution_count": null,
      "metadata": {
        "id": "0H4sywQorh9B"
      },
      "outputs": [],
      "source": [
        "cols=['H-Shad', 'S-Shad' , 'V-Shad']\n",
        "S22=pd.DataFrame(list_total2205,columns=cols)\n",
        "S22.index.names=['id']"
      ]
    },
    {
      "cell_type": "code",
      "execution_count": null,
      "metadata": {
        "id": "fsi7r5yxrh9C"
      },
      "outputs": [],
      "source": [
        "dataP5 = pd.concat([S1, S2,S11,S22], axis=1)\n",
        "dataP5"
      ]
    },
    {
      "cell_type": "code",
      "execution_count": null,
      "metadata": {
        "id": "juRfZU5Drykx"
      },
      "outputs": [],
      "source": [
        "st1= pd.concat([dataP1, dataP2,dataP3,dataP4,dataP5], axis=0)\n",
        "st1"
      ]
    },
    {
      "cell_type": "code",
      "execution_count": null,
      "metadata": {
        "id": "tA2t02FB7Mfp"
      },
      "outputs": [],
      "source": [
        "st1.to_csv('A1Set2.csv', index=False)"
      ]
    }
  ]
}