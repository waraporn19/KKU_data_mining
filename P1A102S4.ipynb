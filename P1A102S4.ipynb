{
  "nbformat": 4,
  "nbformat_minor": 0,
  "metadata": {
    "colab": {
      "name": " P1A102S4.ipynb",
      "provenance": [],
      "collapsed_sections": [
        "ctZILUENZxNJ",
        "JTzZp40yarmJ",
        "DwwnKHqXbD0f",
        "ezvfgEdqbWeT",
        "tngQqkwA41EB",
        "4jc2tCMd3aaF",
        "tqrpB_Os47oU",
        "8HAr-rxC4_k1",
        "X3iT_Wiz5DpR",
        "1H0qQCcKOTUC",
        "qObWjRD83Rd-",
        "bFUmz21i_tVm",
        "bCeJwUQR_zU1",
        "JRh83G00_5TI",
        "CkCYreCNIxic",
        "98w4NYwsuHUG",
        "l-EubNtx-XCR",
        "jHC0T1Oy-XCS",
        "Y80UKTuT-XCU",
        "yLQq-1FZ-XCV",
        "7OGOajgpt7TD",
        "fe9uE8W88Y1l",
        "V9K2-oKw8lpO",
        "ccU_XQuv8nEE",
        "j3cXkom98pAa"
      ],
      "include_colab_link": true
    },
    "kernelspec": {
      "name": "python3",
      "display_name": "Python 3"
    },
    "language_info": {
      "name": "python"
    }
  },
  "cells": [
    {
      "cell_type": "markdown",
      "metadata": {
        "id": "view-in-github",
        "colab_type": "text"
      },
      "source": [
        "<a href=\"https://colab.research.google.com/github/waraporn19/KKU_data_mining/blob/master/P1A102S4.ipynb\" target=\"_parent\"><img src=\"https://colab.research.google.com/assets/colab-badge.svg\" alt=\"Open In Colab\"/></a>"
      ]
    },
    {
      "cell_type": "code",
      "metadata": {
        "id": "drOKqbUE2PnQ"
      },
      "source": [
        "import pandas as pd"
      ],
      "execution_count": 2,
      "outputs": []
    },
    {
      "cell_type": "code",
      "metadata": {
        "id": "O7x0j_3c2Pjr",
        "colab": {
          "base_uri": "https://localhost:8080/"
        },
        "outputId": "e58f4b38-ca34-4911-95b2-649d2af441cd"
      },
      "source": [
        "from google.colab import drive \n",
        "drive.mount('/content/drive')"
      ],
      "execution_count": 3,
      "outputs": [
        {
          "output_type": "stream",
          "name": "stdout",
          "text": [
            "Mounted at /content/drive\n"
          ]
        }
      ]
    },
    {
      "cell_type": "code",
      "metadata": {
        "id": "lsGPiAcg2Pa7"
      },
      "source": [
        "import os"
      ],
      "execution_count": 4,
      "outputs": []
    },
    {
      "cell_type": "code",
      "metadata": {
        "id": "xGv3Ax6o251w"
      },
      "source": [
        "path = '/content/drive/My Drive/shadeimg'"
      ],
      "execution_count": 5,
      "outputs": []
    },
    {
      "cell_type": "code",
      "metadata": {
        "id": "DK3-qllN3Huu",
        "colab": {
          "base_uri": "https://localhost:8080/"
        },
        "outputId": "32955cac-f274-49b3-b50b-e86bd76f4a2c"
      },
      "source": [
        "os.listdir(path)"
      ],
      "execution_count": 6,
      "outputs": [
        {
          "output_type": "execute_result",
          "data": {
            "text/plain": [
              "['9-10 7 2021',\n",
              " 'รูปฟัน07',\n",
              " '11 7 2021',\n",
              " 'ฟันสักอย่างจำวันไม่ได้',\n",
              " '1 teeth .gsheet',\n",
              " '16 8 2021',\n",
              " '17 8 2021',\n",
              " '1 teeth .xlsx',\n",
              " '2 teeth .xlsx',\n",
              " '2 teeth.gsheet',\n",
              " 'All shade',\n",
              " 'A1set1.xlsx']"
            ]
          },
          "metadata": {},
          "execution_count": 6
        }
      ]
    },
    {
      "cell_type": "code",
      "metadata": {
        "id": "qnyateeBbpSP",
        "colab": {
          "base_uri": "https://localhost:8080/"
        },
        "outputId": "d9f6d597-d93f-44f6-eaed-c64a65eb68b3"
      },
      "source": [
        "!pip install azure-storage-blob==2.1.0"
      ],
      "execution_count": 7,
      "outputs": [
        {
          "output_type": "stream",
          "name": "stdout",
          "text": [
            "Collecting azure-storage-blob==2.1.0\n",
            "  Downloading azure_storage_blob-2.1.0-py2.py3-none-any.whl (88 kB)\n",
            "\u001b[K     |████████████████████████████████| 88 kB 2.6 MB/s \n",
            "\u001b[?25hCollecting azure-common>=1.1.5\n",
            "  Downloading azure_common-1.1.27-py2.py3-none-any.whl (12 kB)\n",
            "Collecting azure-storage-common~=2.1\n",
            "  Downloading azure_storage_common-2.1.0-py2.py3-none-any.whl (47 kB)\n",
            "\u001b[K     |████████████████████████████████| 47 kB 3.2 MB/s \n",
            "\u001b[?25hCollecting cryptography\n",
            "  Downloading cryptography-36.0.0-cp36-abi3-manylinux_2_24_x86_64.whl (3.6 MB)\n",
            "\u001b[K     |████████████████████████████████| 3.6 MB 8.9 MB/s \n",
            "\u001b[?25hRequirement already satisfied: python-dateutil in /usr/local/lib/python3.7/dist-packages (from azure-storage-common~=2.1->azure-storage-blob==2.1.0) (2.8.2)\n",
            "Requirement already satisfied: requests in /usr/local/lib/python3.7/dist-packages (from azure-storage-common~=2.1->azure-storage-blob==2.1.0) (2.23.0)\n",
            "Requirement already satisfied: cffi>=1.12 in /usr/local/lib/python3.7/dist-packages (from cryptography->azure-storage-common~=2.1->azure-storage-blob==2.1.0) (1.15.0)\n",
            "Requirement already satisfied: pycparser in /usr/local/lib/python3.7/dist-packages (from cffi>=1.12->cryptography->azure-storage-common~=2.1->azure-storage-blob==2.1.0) (2.21)\n",
            "Requirement already satisfied: six>=1.5 in /usr/local/lib/python3.7/dist-packages (from python-dateutil->azure-storage-common~=2.1->azure-storage-blob==2.1.0) (1.15.0)\n",
            "Requirement already satisfied: urllib3!=1.25.0,!=1.25.1,<1.26,>=1.21.1 in /usr/local/lib/python3.7/dist-packages (from requests->azure-storage-common~=2.1->azure-storage-blob==2.1.0) (1.24.3)\n",
            "Requirement already satisfied: chardet<4,>=3.0.2 in /usr/local/lib/python3.7/dist-packages (from requests->azure-storage-common~=2.1->azure-storage-blob==2.1.0) (3.0.4)\n",
            "Requirement already satisfied: certifi>=2017.4.17 in /usr/local/lib/python3.7/dist-packages (from requests->azure-storage-common~=2.1->azure-storage-blob==2.1.0) (2021.10.8)\n",
            "Requirement already satisfied: idna<3,>=2.5 in /usr/local/lib/python3.7/dist-packages (from requests->azure-storage-common~=2.1->azure-storage-blob==2.1.0) (2.10)\n",
            "Installing collected packages: cryptography, azure-common, azure-storage-common, azure-storage-blob\n",
            "Successfully installed azure-common-1.1.27 azure-storage-blob-2.1.0 azure-storage-common-2.1.0 cryptography-36.0.0\n"
          ]
        }
      ]
    },
    {
      "cell_type": "code",
      "metadata": {
        "id": "uZRZcO80cxBH"
      },
      "source": [
        "from azure.storage.blob import BlockBlobService\n",
        "import os"
      ],
      "execution_count": 8,
      "outputs": []
    },
    {
      "cell_type": "code",
      "metadata": {
        "id": "tJVMV5DMcyJT"
      },
      "source": [
        "blob_service_client = BlockBlobService(account_name='dent01', account_key='CuShY0B4TZJ84TjzPpaHxyrHOpO73aGXeCpdVq7x26OjIlQ1HOz+3DVc9pDEj9BdcEL8odFuTRF0mOAE+aCgiw==')"
      ],
      "execution_count": 9,
      "outputs": []
    },
    {
      "cell_type": "markdown",
      "metadata": {
        "id": "nNqTWrPIc2qX"
      },
      "source": [
        "#1.สร้างตัวแปรเฉดไกด์"
      ]
    },
    {
      "cell_type": "markdown",
      "metadata": {
        "id": "Gx-nvNvXdCDu"
      },
      "source": [
        "##Set1"
      ]
    },
    {
      "cell_type": "code",
      "source": [
        "S1_doubleA1A1_1 =\t'219558E6-E67A-4672-9E46-3D084D0D2032.png'\n",
        "S1_doubleA1A2_1 =\t'6D94544D-442A-4CFB-811D-FE7DC11D2ED2.png'\n",
        "S1_doubleA1A3_1 = \t'7BF85808-DA35-4E17-B217-3872CF481063.png'\n",
        "S1_doubleA1A3_51 =\t'F8F3A06B-FA35-4279-8C60-CA55360B7179.png'\n",
        "S1_doubleA1A4_1 = \t'B7D67D95-6E1E-4FDB-9C86-BEC2876991A4.png'\n",
        "S1_doubleA1B1_1 =\t'BD55E510-FC24-46F8-9057-F0FB833D77B3.png'\n",
        "S1_doubleA1B2_1 =\t'E74FAFC2-2346-41FE-86DC-74BA55784D10.png'\n",
        "S1_doubleA1B3_1 =\t'98C5F545-74F1-4F79-9459-B78CD7323409.png'\n",
        "S1_doubleA1B4_1 =\t'3F9C3FA1-74A0-4E1C-86C6-4A6ABCBF61E0.png'\n",
        "S1_doubleA1C1_1 =\t'A9BD406D-9241-4529-8915-ACD914DE2114.png'\n",
        "S1_doubleA1C2_1 =\t'3E2D92F5-C039-4375-8801-7177CE0C110B.png'\n",
        "S1_doubleA1C3_1 =\t'A601DEF5-8194-4546-BAA2-E3CF2BC491A7.png'\n",
        "S1_doubleA1C4_1 =\t'0CFB37BF-7362-44C7-8A5C-636AA66DADF1.png'\n",
        "S1_doubleA1D2_1 = \t'276C4D35-B17B-4238-B730-5667F7993357.png'\n",
        "S1_doubleA1D3_1 =\t'14BF11D2-5597-4D76-982D-6D73CA85D29C.png'\n",
        "S1_doubleA1D4_1 =\t'C88EF40F-E3F2-462F-9F7F-F2BACB0E4704.png'\n",
        "S1_doubleA1A1_2 = \t'DDC4DC8E-B6F3-4C8E-B168-D77C99A200B0.png'\n",
        "S1_doubleA1A2_2 =\t'D82BB03D-596F-4490-A11A-78CC339EF07E.png'\n",
        "S1_doubleA1A3_2  =\t'01115472-EC3A-48C7-B1FB-263259578BD7.png'\n",
        "S1_doubleA1A3_52  = 'A7B00E08-3ED6-4D0D-A76A-59936068AD40.png'\n",
        "S1_doubleA1A4_2  =\t'7EE62CC1-C35A-4BD5-8B99-7A02F504FB92.png'\n",
        "S1_doubleA1B1_2  =\t'BEE4A20C-2B3A-4083-964D-EB3923B388F9.png'\n",
        "S1_doubleA1B2_2  =\t'BF7F9C19-2AB0-4C4B-BBF5-EF32E953C0B7.png'\n",
        "S1_doubleA1B3_2  =\t'AAF41B6A-64A6-4300-9FE7-3E9652AA67F2.png'\n",
        "S1_doubleA1B4_2  =\t'EBA0C742-6F93-40D7-BBDC-FDA0F7717CF5.png'\n",
        "S1_doubleA1C1_2  =\t'F3F783C1-E391-4CFF-9D8F-14A27160415E.png'\n",
        "S1_doubleA1C2_2  =\t'041A2217-2C1E-4183-940C-81AF1B7ADCEB.png'\n",
        "S1_doubleA1C3_2  =\t'F228CEDF-9850-4974-955D-6A187146338E.png'\n",
        "S1_doubleA1C4_2  =\t'59AD9845-D209-4929-8E83-5C3FCBD50C90.png'\n",
        "S1_doubleA1D2_2  = '93A759D9-F0C7-4426-B4BA-CF54017B3FD4.png'\n",
        "S1_doubleA1D3_2  =\t'630B56EB-1A02-4C39-8E72-401279881303.png'\n",
        "S1_doubleA1D4_2  =\t'9664FAC5-C093-4C4E-9906-23DCC933C2BC.png'\n",
        "S1_doubleA1A1_3 =\t'9C42EB3E-DDE7-43A2-91AE-4DCE60FCDAA9.png'\n",
        "S1_doubleA1A2_3 =\t'0E935DDC-4F2E-44CA-8761-D9EEF48FA184.png'\n",
        "S1_doubleA1A3_3 = \t'6503F4C5-1138-4796-972C-5FF66EFD389B.png'\n",
        "S1_doubleA1A3_53 = '7BDDACC1-D18B-459A-BEE5-E1ECAF9BF9C2.png'\n",
        "S1_doubleA1A4_3= \t'82C9B7F8-9A33-48DF-B722-CD2CCE4DFDA4.png'\n",
        "S1_doubleA1B1_3 =\t'5E756B9E-5B8B-4003-A2CC-32D244523EF5.png'\n",
        "S1_doubleA1B2_3 =\t'0E6A8167-3381-4891-99D4-84EAAC995D0B.png'\n",
        "S1_doubleA1B3_3 =\t'2D83B79D-5337-4378-832C-371721F97678.png'\n",
        "S1_doubleA1B4_3 = \t'91D7D709-F23E-4AE3-A0A2-A445F61D67EB.png'\n",
        "S1_doubleA1C1_3 = \t'781F2ECD-93CA-4AF4-9D79-49910BB1E07A.png'\n",
        "S1_doubleA1C2_3 =\t'B6050550-B56E-4148-BF1E-CE9492B5334F.png'\n",
        "S1_doubleA1C3_3 =\t'1A7C4C1D-67A6-4724-98D9-FFAFEED41437.png'\n",
        "S1_doubleA1C4_3 =\t'75EABE86-EA46-42BC-88A7-90FF6F904B23.png'\n",
        "S1_doubleA1D2_3 =\t'6E56B8EF-2517-4195-B91A-E5EFA20E81A0.png'\n",
        "S1_doubleA1D3_3 =\t'839EA3F3-4256-44C3-9E4C-70E87B10CB38.png'\n",
        "S1_doubleA1D4_3 = \t'07D1EFD7-B26D-41DE-AFC4-C1BACE8867A4.png'\n",
        "S1_doubleA1A1_4 =\t'6305881D-3DFD-4ECE-BD1D-C5376038CD26.png'\n",
        "S1_doubleA1A2_4 =\t'B71E2B77-0A51-4D5C-A7CC-889C3295D37C.png'\n",
        "S1_doubleA1A3_4 = \t'7F841DFC-287B-41C2-A4F5-49FA7331CBB0.png'\n",
        "S1_doubleA1A3_54 = 'CEB5576D-ACE1-42A4-9540-B3F4FB29B6DA.png'\n",
        "S1_doubleA1A4_4 =\t'9AF472D2-DD0D-4A58-8DEE-747C9F852CAD.png'\n",
        "S1_doubleA1B1_4 =\t'A31E86AB-D56C-47DA-A0A9-6715963F7A75.png'\n",
        "S1_doubleA1B2_4 = \t'0DEED793-CF17-4B1A-A942-70848FF5C047.png'\n",
        "S1_doubleA1B3_4 =\t'522CA5D0-1167-4A5B-A005-40F3DF60600F.png'\n",
        "S1_doubleA1B4_4 =\t'11FC10FE-24D7-4815-8F28-FDA778DDBCC8.png'\n",
        "S1_doubleA1C1_4 =\t'13F7D5C3-201D-4CB7-B3D8-718B60A8D012.png'\n",
        "S1_doubleA1C2_4 =\t'0AB9EBD7-AEA7-4CC5-A604-30C0B2695D39.png'\n",
        "S1_doubleA1C3_4 =\t'71185777-D048-455E-980E-311833CF5A88.png'\n",
        "S1_doubleA1C4_4 =\t'C845B358-A745-4A47-BEED-A31BE9B2229C.png'\n",
        "S1_doubleA1D2_4 =\t'B932A10D-9698-4D33-92B2-7FBEA0EB6604.png'\n",
        "S1_doubleA1D3_4 =\t'A7BF792A-74FE-4234-96BE-4655672F9D0A.png'\n",
        "S1_doubleA1D4_4 = \t'90F55DA0-2DAD-4D55-AB2B-CC309628AFBB.png'\n",
        "S1_doubleA1A1_5 = \t'07475504-D2B5-4A4F-960A-6AA5AE0EFFCF.png'\n",
        "S1_doubleA1A2_5 = \t'85C1818F-2E4F-41EB-A42A-B99FA343C8EB.png'\n",
        "S1_doubleA1A3_5 =  \t'58885372-A5CF-4F64-9818-B3658A4174A1.png'\n",
        "S1_doubleA1A3_55 = '2C3C33EF-3E15-4FB9-8BEB-E9E1CA8FF9DE.png'\n",
        "S1_doubleA1A4_5 =\t'2649A9AF-EEDC-4ABE-A4B3-4F1B1AE3E82E.png'\n",
        "S1_doubleA1B1_5 =\t'95487592-C1B2-4553-BDD8-495EC3BB4118.png'\n",
        "S1_doubleA1B2_5 =\t'FE5A5DC8-40FF-4C22-A92C-2A8194EF0A93.png'\n",
        "S1_doubleA1B3_5 = \t'3AA52381-B0B1-4EB5-9A71-A6A514AF1F79.png'\n",
        "S1_doubleA1B4_5 = \t'E198472B-F46C-4A37-BDBC-2FF753C7FD80.png'\n",
        "S1_doubleA1C1_5 =\t'FCF1F382-C6FC-445A-9DAD-1C3C85C0CA9B.png'\n",
        "S1_doubleA1C2_5 =\t'B600BE39-1C00-446D-AA44-D233133703B9.png'\n",
        "S1_doubleA1C3_5 =\t'A6915DE8-8912-4ADE-AFE3-D4CF53442435.png'\n",
        "S1_doubleA1C4_5 = \t'89DFFA68-A5B6-4CCB-A163-DACF9A87AE04.png'\n",
        "S1_doubleA1D2_5 = \t'17D95F3D-B744-4904-9FC7-EE94E2F9EC03.png'\n",
        "S1_doubleA1D3_5 =\t'3ACFB4CC-E01F-4AF6-B021-BBB41ABAAB01.png'\n",
        "S1_doubleA1D4_5 =\t'E9BE42C0-651D-49EE-ADC6-58CA682E2983.png'\n"
      ],
      "metadata": {
        "id": "frA8wHJh6WIu"
      },
      "execution_count": 422,
      "outputs": []
    },
    {
      "cell_type": "markdown",
      "metadata": {
        "id": "Taw1dl5xglaj"
      },
      "source": [
        "#2. ดึงรูป"
      ]
    },
    {
      "cell_type": "code",
      "source": [
        ""
      ],
      "metadata": {
        "id": "JD3O0UIczN6P"
      },
      "execution_count": null,
      "outputs": []
    },
    {
      "cell_type": "code",
      "metadata": {
        "id": "jPe2WlLY4J0n"
      },
      "source": [
        "import cv2\n",
        "from matplotlib import pyplot as plt #การเรียกใช้คำสั่ง matplotlib เพื่อวาดกราฟ โดยแทนชื่อ matplotlib ด้วย plt\n",
        "import matplotlib"
      ],
      "execution_count": 11,
      "outputs": []
    },
    {
      "cell_type": "markdown",
      "metadata": {
        "id": "7Gl_H8idgnRf"
      },
      "source": [
        "##Set1"
      ]
    },
    {
      "cell_type": "code",
      "metadata": {
        "id": "s7mF6eEHiQ19",
        "colab": {
          "base_uri": "https://localhost:8080/"
        },
        "outputId": "be036c2b-95f9-4415-b70b-edbe8e68026a"
      },
      "source": [
        "full_path_to_file2 = os.path.join(S1_doubleA1A1_1) \n",
        "blob_service_client.get_blob_to_path('shadeimg', full_path_to_file2, full_path_to_file2)"
      ],
      "execution_count": 12,
      "outputs": [
        {
          "output_type": "execute_result",
          "data": {
            "text/plain": [
              "<azure.storage.blob.models.Blob at 0x7fb815676d10>"
            ]
          },
          "metadata": {},
          "execution_count": 12
        }
      ]
    },
    {
      "cell_type": "code",
      "metadata": {
        "id": "kzMKB_OniZY1",
        "colab": {
          "base_uri": "https://localhost:8080/"
        },
        "outputId": "845c574d-0b53-43e8-ac15-20bef6666d50"
      },
      "source": [
        "full_path_to_file2 = os.path.join(S1_doubleA1A2_1) \n",
        "blob_service_client.get_blob_to_path('shadeimg', full_path_to_file2, full_path_to_file2)"
      ],
      "execution_count": 13,
      "outputs": [
        {
          "output_type": "execute_result",
          "data": {
            "text/plain": [
              "<azure.storage.blob.models.Blob at 0x7fb81e8794d0>"
            ]
          },
          "metadata": {},
          "execution_count": 13
        }
      ]
    },
    {
      "cell_type": "code",
      "metadata": {
        "id": "IkeC-Fivih3w",
        "colab": {
          "base_uri": "https://localhost:8080/"
        },
        "outputId": "ddb629d3-c798-40f1-bd2d-7bacf3ac4c6f"
      },
      "source": [
        "full_path_to_file2 = os.path.join(S1_doubleA1A3_1) \n",
        "blob_service_client.get_blob_to_path('shadeimg', full_path_to_file2, full_path_to_file2)"
      ],
      "execution_count": 14,
      "outputs": [
        {
          "output_type": "execute_result",
          "data": {
            "text/plain": [
              "<azure.storage.blob.models.Blob at 0x7fb815206a90>"
            ]
          },
          "metadata": {},
          "execution_count": 14
        }
      ]
    },
    {
      "cell_type": "code",
      "metadata": {
        "id": "3Y9aMJj6ij5n",
        "colab": {
          "base_uri": "https://localhost:8080/"
        },
        "outputId": "479f19f5-f854-4c5d-e69d-7df62f4fa170"
      },
      "source": [
        "full_path_to_file2 = os.path.join(S1_doubleA1A3_51) \n",
        "blob_service_client.get_blob_to_path('shadeimg', full_path_to_file2, full_path_to_file2)"
      ],
      "execution_count": 15,
      "outputs": [
        {
          "output_type": "execute_result",
          "data": {
            "text/plain": [
              "<azure.storage.blob.models.Blob at 0x7fb815206d90>"
            ]
          },
          "metadata": {},
          "execution_count": 15
        }
      ]
    },
    {
      "cell_type": "code",
      "metadata": {
        "id": "yrJq8907iuoY",
        "colab": {
          "base_uri": "https://localhost:8080/"
        },
        "outputId": "3136a5b9-6a49-4f76-bb3f-2cfca00fea6a"
      },
      "source": [
        "full_path_to_file2 = os.path.join(S1_doubleA1A4_1) \n",
        "blob_service_client.get_blob_to_path('shadeimg', full_path_to_file2, full_path_to_file2)"
      ],
      "execution_count": 16,
      "outputs": [
        {
          "output_type": "execute_result",
          "data": {
            "text/plain": [
              "<azure.storage.blob.models.Blob at 0x7fb81f672910>"
            ]
          },
          "metadata": {},
          "execution_count": 16
        }
      ]
    },
    {
      "cell_type": "code",
      "metadata": {
        "id": "0VJcKHW2i0Ac",
        "colab": {
          "base_uri": "https://localhost:8080/"
        },
        "outputId": "3921a440-84a3-4c71-f588-9f9aa6705c76"
      },
      "source": [
        "full_path_to_file2 = os.path.join(S1_doubleA1B1_1) \n",
        "blob_service_client.get_blob_to_path('shadeimg', full_path_to_file2, full_path_to_file2)"
      ],
      "execution_count": 17,
      "outputs": [
        {
          "output_type": "execute_result",
          "data": {
            "text/plain": [
              "<azure.storage.blob.models.Blob at 0x7fb81e879bd0>"
            ]
          },
          "metadata": {},
          "execution_count": 17
        }
      ]
    },
    {
      "cell_type": "code",
      "metadata": {
        "id": "hY3AI9RFi0Ad",
        "colab": {
          "base_uri": "https://localhost:8080/"
        },
        "outputId": "5d6b685e-eb1e-43be-f36e-380e6b58ed95"
      },
      "source": [
        "full_path_to_file2 = os.path.join(S1_doubleA1B2_1) \n",
        "blob_service_client.get_blob_to_path('shadeimg', full_path_to_file2, full_path_to_file2)"
      ],
      "execution_count": 18,
      "outputs": [
        {
          "output_type": "execute_result",
          "data": {
            "text/plain": [
              "<azure.storage.blob.models.Blob at 0x7fb8151efc50>"
            ]
          },
          "metadata": {},
          "execution_count": 18
        }
      ]
    },
    {
      "cell_type": "code",
      "metadata": {
        "id": "GApmsAnKi0Ad",
        "colab": {
          "base_uri": "https://localhost:8080/"
        },
        "outputId": "e97384c5-7000-4e09-a0ae-ae5363b76c41"
      },
      "source": [
        "full_path_to_file2 = os.path.join(S1_doubleA1B3_1) \n",
        "blob_service_client.get_blob_to_path('shadeimg', full_path_to_file2, full_path_to_file2)"
      ],
      "execution_count": 19,
      "outputs": [
        {
          "output_type": "execute_result",
          "data": {
            "text/plain": [
              "<azure.storage.blob.models.Blob at 0x7fb815214d50>"
            ]
          },
          "metadata": {},
          "execution_count": 19
        }
      ]
    },
    {
      "cell_type": "code",
      "metadata": {
        "id": "O1h96HYqi7cu",
        "colab": {
          "base_uri": "https://localhost:8080/"
        },
        "outputId": "fd932d79-9db3-41b5-e6f5-6b73fa9dba0e"
      },
      "source": [
        "full_path_to_file2 = os.path.join(S1_doubleA1B4_1) \n",
        "blob_service_client.get_blob_to_path('shadeimg', full_path_to_file2, full_path_to_file2)"
      ],
      "execution_count": 20,
      "outputs": [
        {
          "output_type": "execute_result",
          "data": {
            "text/plain": [
              "<azure.storage.blob.models.Blob at 0x7fb8152202d0>"
            ]
          },
          "metadata": {},
          "execution_count": 20
        }
      ]
    },
    {
      "cell_type": "code",
      "metadata": {
        "id": "RsMHbknqi_fT",
        "colab": {
          "base_uri": "https://localhost:8080/"
        },
        "outputId": "91ed11ad-c712-4c67-812a-546b08f290be"
      },
      "source": [
        "full_path_to_file2 = os.path.join(S1_doubleA1C1_1) \n",
        "blob_service_client.get_blob_to_path('shadeimg', full_path_to_file2, full_path_to_file2)"
      ],
      "execution_count": 21,
      "outputs": [
        {
          "output_type": "execute_result",
          "data": {
            "text/plain": [
              "<azure.storage.blob.models.Blob at 0x7fb815220610>"
            ]
          },
          "metadata": {},
          "execution_count": 21
        }
      ]
    },
    {
      "cell_type": "code",
      "metadata": {
        "id": "wI0oZemgi_fT",
        "colab": {
          "base_uri": "https://localhost:8080/"
        },
        "outputId": "1c218ce6-d783-4fa7-ebaa-23024b2512a7"
      },
      "source": [
        "full_path_to_file2 = os.path.join(S1_doubleA1C2_1) \n",
        "blob_service_client.get_blob_to_path('shadeimg', full_path_to_file2, full_path_to_file2)"
      ],
      "execution_count": 22,
      "outputs": [
        {
          "output_type": "execute_result",
          "data": {
            "text/plain": [
              "<azure.storage.blob.models.Blob at 0x7fb81520a150>"
            ]
          },
          "metadata": {},
          "execution_count": 22
        }
      ]
    },
    {
      "cell_type": "code",
      "metadata": {
        "id": "6ga7nGGti_fT",
        "colab": {
          "base_uri": "https://localhost:8080/"
        },
        "outputId": "bc3dc3aa-d5e9-44dc-8623-00ceed3b5367"
      },
      "source": [
        "full_path_to_file2 = os.path.join(S1_doubleA1C3_1) \n",
        "blob_service_client.get_blob_to_path('shadeimg', full_path_to_file2, full_path_to_file2)"
      ],
      "execution_count": 23,
      "outputs": [
        {
          "output_type": "execute_result",
          "data": {
            "text/plain": [
              "<azure.storage.blob.models.Blob at 0x7fb8261706d0>"
            ]
          },
          "metadata": {},
          "execution_count": 23
        }
      ]
    },
    {
      "cell_type": "code",
      "metadata": {
        "id": "nsiPutfEi_fU",
        "colab": {
          "base_uri": "https://localhost:8080/"
        },
        "outputId": "7c8225d2-d694-4427-8775-58c49c217378"
      },
      "source": [
        "full_path_to_file2 = os.path.join(S1_doubleA1C4_1) \n",
        "blob_service_client.get_blob_to_path('shadeimg', full_path_to_file2, full_path_to_file2)"
      ],
      "execution_count": 24,
      "outputs": [
        {
          "output_type": "execute_result",
          "data": {
            "text/plain": [
              "<azure.storage.blob.models.Blob at 0x7fb81e879610>"
            ]
          },
          "metadata": {},
          "execution_count": 24
        }
      ]
    },
    {
      "cell_type": "code",
      "metadata": {
        "id": "IlqllUIljGVj",
        "colab": {
          "base_uri": "https://localhost:8080/"
        },
        "outputId": "2f9c4dea-c3c6-49ed-d9a1-218f4f2aa6c3"
      },
      "source": [
        "full_path_to_file2 = os.path.join(S1_doubleA1D2_1) \n",
        "blob_service_client.get_blob_to_path('shadeimg', full_path_to_file2, full_path_to_file2)"
      ],
      "execution_count": 25,
      "outputs": [
        {
          "output_type": "execute_result",
          "data": {
            "text/plain": [
              "<azure.storage.blob.models.Blob at 0x7fb81e879f90>"
            ]
          },
          "metadata": {},
          "execution_count": 25
        }
      ]
    },
    {
      "cell_type": "code",
      "metadata": {
        "id": "jXXF16lsjGVj",
        "colab": {
          "base_uri": "https://localhost:8080/"
        },
        "outputId": "b4b68664-b06a-495c-9d07-92a4dd57ae51"
      },
      "source": [
        "full_path_to_file2 = os.path.join(S1_doubleA1D3_1) \n",
        "blob_service_client.get_blob_to_path('shadeimg', full_path_to_file2, full_path_to_file2)"
      ],
      "execution_count": 26,
      "outputs": [
        {
          "output_type": "execute_result",
          "data": {
            "text/plain": [
              "<azure.storage.blob.models.Blob at 0x7fb815214990>"
            ]
          },
          "metadata": {},
          "execution_count": 26
        }
      ]
    },
    {
      "cell_type": "code",
      "metadata": {
        "id": "xRA_M-1PjGVj",
        "colab": {
          "base_uri": "https://localhost:8080/"
        },
        "outputId": "69a8d6e7-ae48-450a-ff70-cda23c7edb7c"
      },
      "source": [
        "full_path_to_file2 = os.path.join(S1_doubleA1D4_1) \n",
        "blob_service_client.get_blob_to_path('shadeimg', full_path_to_file2, full_path_to_file2)"
      ],
      "execution_count": 27,
      "outputs": [
        {
          "output_type": "execute_result",
          "data": {
            "text/plain": [
              "<azure.storage.blob.models.Blob at 0x7fb815218a10>"
            ]
          },
          "metadata": {},
          "execution_count": 27
        }
      ]
    },
    {
      "cell_type": "markdown",
      "metadata": {
        "id": "ctZILUENZxNJ"
      },
      "source": [
        "###Img 2"
      ]
    },
    {
      "cell_type": "code",
      "metadata": {
        "id": "IS9B9yPkarl_",
        "colab": {
          "base_uri": "https://localhost:8080/"
        },
        "outputId": "cabb50a4-d50b-412c-b954-895736a37f36"
      },
      "source": [
        "full_path_to_file2 = os.path.join(S1_doubleA1A1_2) \n",
        "blob_service_client.get_blob_to_path('shadeimg', full_path_to_file2, full_path_to_file2)"
      ],
      "execution_count": 28,
      "outputs": [
        {
          "output_type": "execute_result",
          "data": {
            "text/plain": [
              "<azure.storage.blob.models.Blob at 0x7fb8151af210>"
            ]
          },
          "metadata": {},
          "execution_count": 28
        }
      ]
    },
    {
      "cell_type": "code",
      "metadata": {
        "id": "BllPAVuWarmA",
        "colab": {
          "base_uri": "https://localhost:8080/"
        },
        "outputId": "5239704a-9aed-4369-978d-c02dd34b1eaf"
      },
      "source": [
        "full_path_to_file2 = os.path.join(S1_doubleA1A2_2) \n",
        "blob_service_client.get_blob_to_path('shadeimg', full_path_to_file2, full_path_to_file2)"
      ],
      "execution_count": 29,
      "outputs": [
        {
          "output_type": "execute_result",
          "data": {
            "text/plain": [
              "<azure.storage.blob.models.Blob at 0x7fb8151afa50>"
            ]
          },
          "metadata": {},
          "execution_count": 29
        }
      ]
    },
    {
      "cell_type": "code",
      "metadata": {
        "id": "-4kUfX6varmB",
        "colab": {
          "base_uri": "https://localhost:8080/"
        },
        "outputId": "bb9546f9-0bec-4d1b-c263-29719e089d15"
      },
      "source": [
        "full_path_to_file2 = os.path.join(S1_doubleA1A3_2) \n",
        "blob_service_client.get_blob_to_path('shadeimg', full_path_to_file2, full_path_to_file2)"
      ],
      "execution_count": 30,
      "outputs": [
        {
          "output_type": "execute_result",
          "data": {
            "text/plain": [
              "<azure.storage.blob.models.Blob at 0x7fb8151b8510>"
            ]
          },
          "metadata": {},
          "execution_count": 30
        }
      ]
    },
    {
      "cell_type": "code",
      "metadata": {
        "id": "LArO_C_OarmC",
        "colab": {
          "base_uri": "https://localhost:8080/"
        },
        "outputId": "0f269573-f8db-42ed-e3d2-5b2a08817035"
      },
      "source": [
        "full_path_to_file2 = os.path.join(S1_doubleA1A3_52) \n",
        "blob_service_client.get_blob_to_path('shadeimg', full_path_to_file2, full_path_to_file2)"
      ],
      "execution_count": 31,
      "outputs": [
        {
          "output_type": "execute_result",
          "data": {
            "text/plain": [
              "<azure.storage.blob.models.Blob at 0x7fb8151ef5d0>"
            ]
          },
          "metadata": {},
          "execution_count": 31
        }
      ]
    },
    {
      "cell_type": "code",
      "metadata": {
        "id": "jY7gzT96armC",
        "colab": {
          "base_uri": "https://localhost:8080/"
        },
        "outputId": "c23d4a03-76ee-46ae-d41e-3e4f48a520c1"
      },
      "source": [
        "full_path_to_file2 = os.path.join(S1_doubleA1A4_2) \n",
        "blob_service_client.get_blob_to_path('shadeimg', full_path_to_file2, full_path_to_file2)"
      ],
      "execution_count": 32,
      "outputs": [
        {
          "output_type": "execute_result",
          "data": {
            "text/plain": [
              "<azure.storage.blob.models.Blob at 0x7fb815206c90>"
            ]
          },
          "metadata": {},
          "execution_count": 32
        }
      ]
    },
    {
      "cell_type": "code",
      "metadata": {
        "id": "r_tN80ViarmD",
        "colab": {
          "base_uri": "https://localhost:8080/"
        },
        "outputId": "12ecf706-51bc-427f-f83d-70a21eb9c248"
      },
      "source": [
        "full_path_to_file2 = os.path.join(S1_doubleA1B1_2) \n",
        "blob_service_client.get_blob_to_path('shadeimg', full_path_to_file2, full_path_to_file2)"
      ],
      "execution_count": 33,
      "outputs": [
        {
          "output_type": "execute_result",
          "data": {
            "text/plain": [
              "<azure.storage.blob.models.Blob at 0x7fb81520ac50>"
            ]
          },
          "metadata": {},
          "execution_count": 33
        }
      ]
    },
    {
      "cell_type": "code",
      "metadata": {
        "id": "7k1IhFJHarmD",
        "colab": {
          "base_uri": "https://localhost:8080/"
        },
        "outputId": "7dbfaf9a-879c-4905-fd30-44693cfa7282"
      },
      "source": [
        "full_path_to_file2 = os.path.join(S1_doubleA1B2_2) \n",
        "blob_service_client.get_blob_to_path('shadeimg', full_path_to_file2, full_path_to_file2)"
      ],
      "execution_count": 34,
      "outputs": [
        {
          "output_type": "execute_result",
          "data": {
            "text/plain": [
              "<azure.storage.blob.models.Blob at 0x7fb8151b9290>"
            ]
          },
          "metadata": {},
          "execution_count": 34
        }
      ]
    },
    {
      "cell_type": "code",
      "metadata": {
        "id": "oU7FiinGarmE",
        "colab": {
          "base_uri": "https://localhost:8080/"
        },
        "outputId": "395dd16e-9e25-47cb-8f69-3112aa29134f"
      },
      "source": [
        "full_path_to_file2 = os.path.join(S1_doubleA1B3_2) \n",
        "blob_service_client.get_blob_to_path('shadeimg', full_path_to_file2, full_path_to_file2)"
      ],
      "execution_count": 35,
      "outputs": [
        {
          "output_type": "execute_result",
          "data": {
            "text/plain": [
              "<azure.storage.blob.models.Blob at 0x7fb8151b8c90>"
            ]
          },
          "metadata": {},
          "execution_count": 35
        }
      ]
    },
    {
      "cell_type": "code",
      "metadata": {
        "id": "eOKs2zHbarmE",
        "colab": {
          "base_uri": "https://localhost:8080/"
        },
        "outputId": "b4897b3a-c0d6-4e0a-f5d9-44e36b5663b9"
      },
      "source": [
        "full_path_to_file2 = os.path.join(S1_doubleA1B4_2) \n",
        "blob_service_client.get_blob_to_path('shadeimg', full_path_to_file2, full_path_to_file2)"
      ],
      "execution_count": 36,
      "outputs": [
        {
          "output_type": "execute_result",
          "data": {
            "text/plain": [
              "<azure.storage.blob.models.Blob at 0x7fb8151af6d0>"
            ]
          },
          "metadata": {},
          "execution_count": 36
        }
      ]
    },
    {
      "cell_type": "code",
      "metadata": {
        "id": "U7SiS2N6armF",
        "colab": {
          "base_uri": "https://localhost:8080/"
        },
        "outputId": "de27da8e-aeaa-4638-dcb3-32da49736ba0"
      },
      "source": [
        "full_path_to_file2 = os.path.join(S1_doubleA1C1_2) \n",
        "blob_service_client.get_blob_to_path('shadeimg', full_path_to_file2, full_path_to_file2)"
      ],
      "execution_count": 37,
      "outputs": [
        {
          "output_type": "execute_result",
          "data": {
            "text/plain": [
              "<azure.storage.blob.models.Blob at 0x7fb8151b8990>"
            ]
          },
          "metadata": {},
          "execution_count": 37
        }
      ]
    },
    {
      "cell_type": "code",
      "metadata": {
        "id": "KcpzEnu9armG",
        "colab": {
          "base_uri": "https://localhost:8080/"
        },
        "outputId": "5196c3b3-add2-4de1-98b8-b933e55d34bd"
      },
      "source": [
        "full_path_to_file2 = os.path.join(S1_doubleA1C2_2) \n",
        "blob_service_client.get_blob_to_path('shadeimg', full_path_to_file2, full_path_to_file2)"
      ],
      "execution_count": 38,
      "outputs": [
        {
          "output_type": "execute_result",
          "data": {
            "text/plain": [
              "<azure.storage.blob.models.Blob at 0x7fb8152287d0>"
            ]
          },
          "metadata": {},
          "execution_count": 38
        }
      ]
    },
    {
      "cell_type": "code",
      "metadata": {
        "id": "hazhbOumarmG",
        "colab": {
          "base_uri": "https://localhost:8080/"
        },
        "outputId": "687ed70d-c38a-42de-d497-c44b1e252045"
      },
      "source": [
        "full_path_to_file2 = os.path.join(S1_doubleA1C3_2) \n",
        "blob_service_client.get_blob_to_path('shadeimg', full_path_to_file2, full_path_to_file2)"
      ],
      "execution_count": 39,
      "outputs": [
        {
          "output_type": "execute_result",
          "data": {
            "text/plain": [
              "<azure.storage.blob.models.Blob at 0x7fb81520fdd0>"
            ]
          },
          "metadata": {},
          "execution_count": 39
        }
      ]
    },
    {
      "cell_type": "code",
      "metadata": {
        "id": "U-OoUWhNarmH",
        "colab": {
          "base_uri": "https://localhost:8080/"
        },
        "outputId": "d4dcca01-89d1-4e7e-8328-92ab2b956af6"
      },
      "source": [
        "full_path_to_file2 = os.path.join(S1_doubleA1C4_2) \n",
        "blob_service_client.get_blob_to_path('shadeimg', full_path_to_file2, full_path_to_file2)"
      ],
      "execution_count": 40,
      "outputs": [
        {
          "output_type": "execute_result",
          "data": {
            "text/plain": [
              "<azure.storage.blob.models.Blob at 0x7fb8151b9c10>"
            ]
          },
          "metadata": {},
          "execution_count": 40
        }
      ]
    },
    {
      "cell_type": "code",
      "metadata": {
        "id": "_xD-Hj7karmH",
        "colab": {
          "base_uri": "https://localhost:8080/"
        },
        "outputId": "a91d6276-e2de-4200-b33d-9def13512a7b"
      },
      "source": [
        "full_path_to_file2 = os.path.join(S1_doubleA1D2_2) \n",
        "blob_service_client.get_blob_to_path('shadeimg', full_path_to_file2, full_path_to_file2)"
      ],
      "execution_count": 41,
      "outputs": [
        {
          "output_type": "execute_result",
          "data": {
            "text/plain": [
              "<azure.storage.blob.models.Blob at 0x7fb815220590>"
            ]
          },
          "metadata": {},
          "execution_count": 41
        }
      ]
    },
    {
      "cell_type": "code",
      "metadata": {
        "id": "bUEqUL2marmI",
        "colab": {
          "base_uri": "https://localhost:8080/"
        },
        "outputId": "c02e97d3-7863-47c6-cae3-51c899ab91df"
      },
      "source": [
        "full_path_to_file2 = os.path.join(S1_doubleA1D3_2) \n",
        "blob_service_client.get_blob_to_path('shadeimg', full_path_to_file2, full_path_to_file2)"
      ],
      "execution_count": 42,
      "outputs": [
        {
          "output_type": "execute_result",
          "data": {
            "text/plain": [
              "<azure.storage.blob.models.Blob at 0x7fb8151b83d0>"
            ]
          },
          "metadata": {},
          "execution_count": 42
        }
      ]
    },
    {
      "cell_type": "code",
      "metadata": {
        "id": "RSL36p-5armJ",
        "colab": {
          "base_uri": "https://localhost:8080/"
        },
        "outputId": "620976c7-85f2-445c-cc64-2258de02d5a8"
      },
      "source": [
        "full_path_to_file2 = os.path.join(S1_doubleA1D4_2) \n",
        "blob_service_client.get_blob_to_path('shadeimg', full_path_to_file2, full_path_to_file2)"
      ],
      "execution_count": 43,
      "outputs": [
        {
          "output_type": "execute_result",
          "data": {
            "text/plain": [
              "<azure.storage.blob.models.Blob at 0x7fb815214610>"
            ]
          },
          "metadata": {},
          "execution_count": 43
        }
      ]
    },
    {
      "cell_type": "markdown",
      "metadata": {
        "id": "JTzZp40yarmJ"
      },
      "source": [
        "###Img 3"
      ]
    },
    {
      "cell_type": "code",
      "metadata": {
        "id": "S2_pomstbD0S",
        "colab": {
          "base_uri": "https://localhost:8080/"
        },
        "outputId": "c34d5a4e-012f-4ee1-ad9f-7941b78eec29"
      },
      "source": [
        "full_path_to_file2 = os.path.join(S1_doubleA1A1_3) \n",
        "blob_service_client.get_blob_to_path('shadeimg', full_path_to_file2, full_path_to_file2)"
      ],
      "execution_count": 44,
      "outputs": [
        {
          "output_type": "execute_result",
          "data": {
            "text/plain": [
              "<azure.storage.blob.models.Blob at 0x7fb8151b9690>"
            ]
          },
          "metadata": {},
          "execution_count": 44
        }
      ]
    },
    {
      "cell_type": "code",
      "metadata": {
        "id": "KxZTnAD9bD0T",
        "colab": {
          "base_uri": "https://localhost:8080/"
        },
        "outputId": "ebe1f9c6-89e4-4fe1-a8e1-d77d90a5f769"
      },
      "source": [
        "full_path_to_file2 = os.path.join(S1_doubleA1A2_3) \n",
        "blob_service_client.get_blob_to_path('shadeimg', full_path_to_file2, full_path_to_file2)"
      ],
      "execution_count": 45,
      "outputs": [
        {
          "output_type": "execute_result",
          "data": {
            "text/plain": [
              "<azure.storage.blob.models.Blob at 0x7fb8151b9050>"
            ]
          },
          "metadata": {},
          "execution_count": 45
        }
      ]
    },
    {
      "cell_type": "code",
      "metadata": {
        "id": "7Cy2jzEQbD0U",
        "colab": {
          "base_uri": "https://localhost:8080/"
        },
        "outputId": "04e1c79d-cb82-4d39-9e4f-2ff13f93e041"
      },
      "source": [
        "full_path_to_file2 = os.path.join(S1_doubleA1A3_3) \n",
        "blob_service_client.get_blob_to_path('shadeimg', full_path_to_file2, full_path_to_file2)"
      ],
      "execution_count": 46,
      "outputs": [
        {
          "output_type": "execute_result",
          "data": {
            "text/plain": [
              "<azure.storage.blob.models.Blob at 0x7fb81520f9d0>"
            ]
          },
          "metadata": {},
          "execution_count": 46
        }
      ]
    },
    {
      "cell_type": "code",
      "metadata": {
        "id": "jMyXyjCebD0V",
        "colab": {
          "base_uri": "https://localhost:8080/"
        },
        "outputId": "49147ed1-4d9c-47d2-c71c-eabbfe725067"
      },
      "source": [
        "full_path_to_file2 = os.path.join(S1_doubleA1A3_53) \n",
        "blob_service_client.get_blob_to_path('shadeimg', full_path_to_file2, full_path_to_file2)"
      ],
      "execution_count": 47,
      "outputs": [
        {
          "output_type": "execute_result",
          "data": {
            "text/plain": [
              "<azure.storage.blob.models.Blob at 0x7fb8151d96d0>"
            ]
          },
          "metadata": {},
          "execution_count": 47
        }
      ]
    },
    {
      "cell_type": "code",
      "metadata": {
        "id": "Xhr__6lWbD0V",
        "colab": {
          "base_uri": "https://localhost:8080/"
        },
        "outputId": "e3f38995-0699-4bc4-f885-35366bb48706"
      },
      "source": [
        "full_path_to_file2 = os.path.join(S1_doubleA1A4_3) \n",
        "blob_service_client.get_blob_to_path('shadeimg', full_path_to_file2, full_path_to_file2)"
      ],
      "execution_count": 48,
      "outputs": [
        {
          "output_type": "execute_result",
          "data": {
            "text/plain": [
              "<azure.storage.blob.models.Blob at 0x7fb8151b9210>"
            ]
          },
          "metadata": {},
          "execution_count": 48
        }
      ]
    },
    {
      "cell_type": "code",
      "metadata": {
        "id": "aIWAdCp9bD0X",
        "colab": {
          "base_uri": "https://localhost:8080/"
        },
        "outputId": "05f9456a-71dc-450a-c7bd-74d77ab9f06f"
      },
      "source": [
        "full_path_to_file2 = os.path.join(S1_doubleA1B1_3) \n",
        "blob_service_client.get_blob_to_path('shadeimg', full_path_to_file2, full_path_to_file2)"
      ],
      "execution_count": 49,
      "outputs": [
        {
          "output_type": "execute_result",
          "data": {
            "text/plain": [
              "<azure.storage.blob.models.Blob at 0x7fb81520a090>"
            ]
          },
          "metadata": {},
          "execution_count": 49
        }
      ]
    },
    {
      "cell_type": "code",
      "metadata": {
        "id": "Wyyw5WjWbD0X",
        "colab": {
          "base_uri": "https://localhost:8080/"
        },
        "outputId": "d1b4b8a0-81a9-477f-9c07-a83de98ef635"
      },
      "source": [
        "full_path_to_file2 = os.path.join(S1_doubleA1B2_3) \n",
        "blob_service_client.get_blob_to_path('shadeimg', full_path_to_file2, full_path_to_file2)"
      ],
      "execution_count": 50,
      "outputs": [
        {
          "output_type": "execute_result",
          "data": {
            "text/plain": [
              "<azure.storage.blob.models.Blob at 0x7fb81520f190>"
            ]
          },
          "metadata": {},
          "execution_count": 50
        }
      ]
    },
    {
      "cell_type": "code",
      "metadata": {
        "id": "UBD9688ObD0Y",
        "colab": {
          "base_uri": "https://localhost:8080/"
        },
        "outputId": "8034c976-fca1-457f-f314-2049824b2248"
      },
      "source": [
        "full_path_to_file2 = os.path.join(S1_doubleA1B3_3) \n",
        "blob_service_client.get_blob_to_path('shadeimg', full_path_to_file2, full_path_to_file2)"
      ],
      "execution_count": 51,
      "outputs": [
        {
          "output_type": "execute_result",
          "data": {
            "text/plain": [
              "<azure.storage.blob.models.Blob at 0x7fb815228ad0>"
            ]
          },
          "metadata": {},
          "execution_count": 51
        }
      ]
    },
    {
      "cell_type": "code",
      "metadata": {
        "id": "tgC5B66ObD0Z",
        "colab": {
          "base_uri": "https://localhost:8080/"
        },
        "outputId": "ad02e019-557f-45e1-fe0d-f5fb871661f0"
      },
      "source": [
        "full_path_to_file2 = os.path.join(S1_doubleA1B4_3) \n",
        "blob_service_client.get_blob_to_path('shadeimg', full_path_to_file2, full_path_to_file2)"
      ],
      "execution_count": 52,
      "outputs": [
        {
          "output_type": "execute_result",
          "data": {
            "text/plain": [
              "<azure.storage.blob.models.Blob at 0x7fb815218510>"
            ]
          },
          "metadata": {},
          "execution_count": 52
        }
      ]
    },
    {
      "cell_type": "code",
      "metadata": {
        "id": "VsCusr4EbD0Z",
        "colab": {
          "base_uri": "https://localhost:8080/"
        },
        "outputId": "b836db83-4f0c-490d-dd3b-c9d19aeca2f9"
      },
      "source": [
        "full_path_to_file2 = os.path.join(S1_doubleA1C1_3) \n",
        "blob_service_client.get_blob_to_path('shadeimg', full_path_to_file2, full_path_to_file2)"
      ],
      "execution_count": 53,
      "outputs": [
        {
          "output_type": "execute_result",
          "data": {
            "text/plain": [
              "<azure.storage.blob.models.Blob at 0x7fb8151b9f90>"
            ]
          },
          "metadata": {},
          "execution_count": 53
        }
      ]
    },
    {
      "cell_type": "code",
      "metadata": {
        "id": "FzHMbp8JbD0a",
        "colab": {
          "base_uri": "https://localhost:8080/"
        },
        "outputId": "622ca735-093f-469b-c36f-479e95769a78"
      },
      "source": [
        "full_path_to_file2 = os.path.join(S1_doubleA1C2_3) \n",
        "blob_service_client.get_blob_to_path('shadeimg', full_path_to_file2, full_path_to_file2)"
      ],
      "execution_count": 54,
      "outputs": [
        {
          "output_type": "execute_result",
          "data": {
            "text/plain": [
              "<azure.storage.blob.models.Blob at 0x7fb8151dc5d0>"
            ]
          },
          "metadata": {},
          "execution_count": 54
        }
      ]
    },
    {
      "cell_type": "code",
      "metadata": {
        "id": "SukxYOEObD0a",
        "colab": {
          "base_uri": "https://localhost:8080/"
        },
        "outputId": "961c9336-b25e-4ef5-ba6e-65acc117956d"
      },
      "source": [
        "full_path_to_file2 = os.path.join(S1_doubleA1C3_3) \n",
        "blob_service_client.get_blob_to_path('shadeimg', full_path_to_file2, full_path_to_file2)"
      ],
      "execution_count": 55,
      "outputs": [
        {
          "output_type": "execute_result",
          "data": {
            "text/plain": [
              "<azure.storage.blob.models.Blob at 0x7fb8151df110>"
            ]
          },
          "metadata": {},
          "execution_count": 55
        }
      ]
    },
    {
      "cell_type": "code",
      "metadata": {
        "id": "Tv1u3tYmbD0d",
        "colab": {
          "base_uri": "https://localhost:8080/"
        },
        "outputId": "401427eb-10cc-4664-a090-947e461b76e6"
      },
      "source": [
        "full_path_to_file2 = os.path.join(S1_doubleA1C4_3) \n",
        "blob_service_client.get_blob_to_path('shadeimg', full_path_to_file2, full_path_to_file2)"
      ],
      "execution_count": 56,
      "outputs": [
        {
          "output_type": "execute_result",
          "data": {
            "text/plain": [
              "<azure.storage.blob.models.Blob at 0x7fb825ac3cd0>"
            ]
          },
          "metadata": {},
          "execution_count": 56
        }
      ]
    },
    {
      "cell_type": "code",
      "metadata": {
        "id": "6h7uJ_3NbD0e",
        "colab": {
          "base_uri": "https://localhost:8080/"
        },
        "outputId": "6becbf59-51eb-4c27-b0be-241a0445b4e0"
      },
      "source": [
        "full_path_to_file2 = os.path.join(S1_doubleA1D2_3) \n",
        "blob_service_client.get_blob_to_path('shadeimg', full_path_to_file2, full_path_to_file2)"
      ],
      "execution_count": 57,
      "outputs": [
        {
          "output_type": "execute_result",
          "data": {
            "text/plain": [
              "<azure.storage.blob.models.Blob at 0x7fb81e873290>"
            ]
          },
          "metadata": {},
          "execution_count": 57
        }
      ]
    },
    {
      "cell_type": "code",
      "metadata": {
        "id": "XG429HjrbD0e",
        "colab": {
          "base_uri": "https://localhost:8080/"
        },
        "outputId": "5d2296f1-edc3-483c-f631-cdee220dd432"
      },
      "source": [
        "full_path_to_file2 = os.path.join(S1_doubleA1D3_3) \n",
        "blob_service_client.get_blob_to_path('shadeimg', full_path_to_file2, full_path_to_file2)"
      ],
      "execution_count": 58,
      "outputs": [
        {
          "output_type": "execute_result",
          "data": {
            "text/plain": [
              "<azure.storage.blob.models.Blob at 0x7fb8151dc150>"
            ]
          },
          "metadata": {},
          "execution_count": 58
        }
      ]
    },
    {
      "cell_type": "code",
      "metadata": {
        "id": "t7KeVGgcbD0f",
        "colab": {
          "base_uri": "https://localhost:8080/"
        },
        "outputId": "f85dd928-e56e-43b7-eff9-54bd9b6f0748"
      },
      "source": [
        "full_path_to_file2 = os.path.join(S1_doubleA1D4_3) \n",
        "blob_service_client.get_blob_to_path('shadeimg', full_path_to_file2, full_path_to_file2)"
      ],
      "execution_count": 59,
      "outputs": [
        {
          "output_type": "execute_result",
          "data": {
            "text/plain": [
              "<azure.storage.blob.models.Blob at 0x7fb8151d9310>"
            ]
          },
          "metadata": {},
          "execution_count": 59
        }
      ]
    },
    {
      "cell_type": "markdown",
      "metadata": {
        "id": "DwwnKHqXbD0f"
      },
      "source": [
        "###Img 4"
      ]
    },
    {
      "cell_type": "code",
      "metadata": {
        "id": "DMRu4-1FbWeJ",
        "colab": {
          "base_uri": "https://localhost:8080/"
        },
        "outputId": "0f6b0346-c568-45ed-b3b8-5e609a6212f0"
      },
      "source": [
        "full_path_to_file2 = os.path.join(S1_doubleA1A1_4) \n",
        "blob_service_client.get_blob_to_path('shadeimg', full_path_to_file2, full_path_to_file2)"
      ],
      "execution_count": 60,
      "outputs": [
        {
          "output_type": "execute_result",
          "data": {
            "text/plain": [
              "<azure.storage.blob.models.Blob at 0x7fb8151e6890>"
            ]
          },
          "metadata": {},
          "execution_count": 60
        }
      ]
    },
    {
      "cell_type": "code",
      "metadata": {
        "id": "zRYyKFZ9bWeK",
        "colab": {
          "base_uri": "https://localhost:8080/"
        },
        "outputId": "e493ff5b-7eed-4157-a81d-09ec5f7f1738"
      },
      "source": [
        "full_path_to_file2 = os.path.join(S1_doubleA1A2_4) \n",
        "blob_service_client.get_blob_to_path('shadeimg', full_path_to_file2, full_path_to_file2)"
      ],
      "execution_count": 61,
      "outputs": [
        {
          "output_type": "execute_result",
          "data": {
            "text/plain": [
              "<azure.storage.blob.models.Blob at 0x7fb81516fc10>"
            ]
          },
          "metadata": {},
          "execution_count": 61
        }
      ]
    },
    {
      "cell_type": "code",
      "metadata": {
        "id": "lidWpo37bWeK",
        "colab": {
          "base_uri": "https://localhost:8080/"
        },
        "outputId": "5ca521b5-1998-4395-c00a-fd469273b034"
      },
      "source": [
        "full_path_to_file2 = os.path.join(S1_doubleA1A3_4) \n",
        "blob_service_client.get_blob_to_path('shadeimg', full_path_to_file2, full_path_to_file2)"
      ],
      "execution_count": 62,
      "outputs": [
        {
          "output_type": "execute_result",
          "data": {
            "text/plain": [
              "<azure.storage.blob.models.Blob at 0x7fb81516f890>"
            ]
          },
          "metadata": {},
          "execution_count": 62
        }
      ]
    },
    {
      "cell_type": "code",
      "metadata": {
        "id": "kgHPzfDYbWeL",
        "colab": {
          "base_uri": "https://localhost:8080/"
        },
        "outputId": "ca13018c-c0a2-40cd-b482-afdca3cf36fa"
      },
      "source": [
        "full_path_to_file2 = os.path.join(S1_doubleA1A3_54) \n",
        "blob_service_client.get_blob_to_path('shadeimg', full_path_to_file2, full_path_to_file2)"
      ],
      "execution_count": 63,
      "outputs": [
        {
          "output_type": "execute_result",
          "data": {
            "text/plain": [
              "<azure.storage.blob.models.Blob at 0x7fb8151efb10>"
            ]
          },
          "metadata": {},
          "execution_count": 63
        }
      ]
    },
    {
      "cell_type": "code",
      "metadata": {
        "id": "2m-rE5xdbWeL",
        "colab": {
          "base_uri": "https://localhost:8080/"
        },
        "outputId": "850551d6-1f95-4513-b8aa-4df02b84f6c6"
      },
      "source": [
        "full_path_to_file2 = os.path.join(S1_doubleA1A4_4) \n",
        "blob_service_client.get_blob_to_path('shadeimg', full_path_to_file2, full_path_to_file2)"
      ],
      "execution_count": 64,
      "outputs": [
        {
          "output_type": "execute_result",
          "data": {
            "text/plain": [
              "<azure.storage.blob.models.Blob at 0x7fb8151afbd0>"
            ]
          },
          "metadata": {},
          "execution_count": 64
        }
      ]
    },
    {
      "cell_type": "code",
      "metadata": {
        "id": "P35XEE-8bWeL",
        "colab": {
          "base_uri": "https://localhost:8080/"
        },
        "outputId": "2e8465d4-041d-4296-f472-fa9b8c58dea5"
      },
      "source": [
        "full_path_to_file2 = os.path.join(S1_doubleA1B1_4) \n",
        "blob_service_client.get_blob_to_path('shadeimg', full_path_to_file2, full_path_to_file2)"
      ],
      "execution_count": 65,
      "outputs": [
        {
          "output_type": "execute_result",
          "data": {
            "text/plain": [
              "<azure.storage.blob.models.Blob at 0x7fb8151e6090>"
            ]
          },
          "metadata": {},
          "execution_count": 65
        }
      ]
    },
    {
      "cell_type": "code",
      "metadata": {
        "id": "YYRlNsp1bWeM",
        "colab": {
          "base_uri": "https://localhost:8080/"
        },
        "outputId": "b174dde5-591a-426b-ad74-d10f68f5dd43"
      },
      "source": [
        "full_path_to_file2 = os.path.join(S1_doubleA1B2_4) \n",
        "blob_service_client.get_blob_to_path('shadeimg', full_path_to_file2, full_path_to_file2)"
      ],
      "execution_count": 66,
      "outputs": [
        {
          "output_type": "execute_result",
          "data": {
            "text/plain": [
              "<azure.storage.blob.models.Blob at 0x7fb815177290>"
            ]
          },
          "metadata": {},
          "execution_count": 66
        }
      ]
    },
    {
      "cell_type": "code",
      "metadata": {
        "id": "OKicpqWtbWeM",
        "colab": {
          "base_uri": "https://localhost:8080/"
        },
        "outputId": "560ca8b1-0654-49af-eab2-4af758a02e6e"
      },
      "source": [
        "full_path_to_file2 = os.path.join(S1_doubleA1B3_4) \n",
        "blob_service_client.get_blob_to_path('shadeimg', full_path_to_file2, full_path_to_file2)"
      ],
      "execution_count": 67,
      "outputs": [
        {
          "output_type": "execute_result",
          "data": {
            "text/plain": [
              "<azure.storage.blob.models.Blob at 0x7fb8151dfdd0>"
            ]
          },
          "metadata": {},
          "execution_count": 67
        }
      ]
    },
    {
      "cell_type": "code",
      "metadata": {
        "id": "336FOeuDbWeM",
        "colab": {
          "base_uri": "https://localhost:8080/"
        },
        "outputId": "1d0da531-6ff3-45c9-b88e-57d7c99da3ab"
      },
      "source": [
        "full_path_to_file2 = os.path.join(S1_doubleA1B4_4) \n",
        "blob_service_client.get_blob_to_path('shadeimg', full_path_to_file2, full_path_to_file2)"
      ],
      "execution_count": 68,
      "outputs": [
        {
          "output_type": "execute_result",
          "data": {
            "text/plain": [
              "<azure.storage.blob.models.Blob at 0x7fb8151df710>"
            ]
          },
          "metadata": {},
          "execution_count": 68
        }
      ]
    },
    {
      "cell_type": "code",
      "metadata": {
        "id": "Wy_IaQoDbWeN",
        "colab": {
          "base_uri": "https://localhost:8080/"
        },
        "outputId": "323ad946-a805-489c-bdc8-f053fd98afd9"
      },
      "source": [
        "full_path_to_file2 = os.path.join(S1_doubleA1C1_4) \n",
        "blob_service_client.get_blob_to_path('shadeimg', full_path_to_file2, full_path_to_file2)"
      ],
      "execution_count": 69,
      "outputs": [
        {
          "output_type": "execute_result",
          "data": {
            "text/plain": [
              "<azure.storage.blob.models.Blob at 0x7fb81517c610>"
            ]
          },
          "metadata": {},
          "execution_count": 69
        }
      ]
    },
    {
      "cell_type": "code",
      "metadata": {
        "id": "3FHNrdWqbWeN",
        "colab": {
          "base_uri": "https://localhost:8080/"
        },
        "outputId": "55fe8439-58ec-4b18-cb37-bf2e36207fdd"
      },
      "source": [
        "full_path_to_file2 = os.path.join(S1_doubleA1C2_4) \n",
        "blob_service_client.get_blob_to_path('shadeimg', full_path_to_file2, full_path_to_file2)"
      ],
      "execution_count": 70,
      "outputs": [
        {
          "output_type": "execute_result",
          "data": {
            "text/plain": [
              "<azure.storage.blob.models.Blob at 0x7fb81520fb10>"
            ]
          },
          "metadata": {},
          "execution_count": 70
        }
      ]
    },
    {
      "cell_type": "code",
      "metadata": {
        "id": "13rum4dNbWeN",
        "colab": {
          "base_uri": "https://localhost:8080/"
        },
        "outputId": "a2e80bb1-6a4e-4c07-cf6e-64698c5e8df3"
      },
      "source": [
        "full_path_to_file2 = os.path.join(S1_doubleA1C3_4) \n",
        "blob_service_client.get_blob_to_path('shadeimg', full_path_to_file2, full_path_to_file2)"
      ],
      "execution_count": 71,
      "outputs": [
        {
          "output_type": "execute_result",
          "data": {
            "text/plain": [
              "<azure.storage.blob.models.Blob at 0x7fb81517c110>"
            ]
          },
          "metadata": {},
          "execution_count": 71
        }
      ]
    },
    {
      "cell_type": "code",
      "metadata": {
        "id": "Kw4IEitEbWeR",
        "colab": {
          "base_uri": "https://localhost:8080/"
        },
        "outputId": "c3f7117f-32b7-4739-ef18-241189a30969"
      },
      "source": [
        "full_path_to_file2 = os.path.join(S1_doubleA1C4_4) \n",
        "blob_service_client.get_blob_to_path('shadeimg', full_path_to_file2, full_path_to_file2)"
      ],
      "execution_count": 72,
      "outputs": [
        {
          "output_type": "execute_result",
          "data": {
            "text/plain": [
              "<azure.storage.blob.models.Blob at 0x7fb81517cd10>"
            ]
          },
          "metadata": {},
          "execution_count": 72
        }
      ]
    },
    {
      "cell_type": "code",
      "metadata": {
        "id": "Qmgtor9LbWeS",
        "colab": {
          "base_uri": "https://localhost:8080/"
        },
        "outputId": "39e4a8be-66c2-476d-b267-f4584da7d0b2"
      },
      "source": [
        "full_path_to_file2 = os.path.join(S1_doubleA1D2_4) \n",
        "blob_service_client.get_blob_to_path('shadeimg', full_path_to_file2, full_path_to_file2)"
      ],
      "execution_count": 73,
      "outputs": [
        {
          "output_type": "execute_result",
          "data": {
            "text/plain": [
              "<azure.storage.blob.models.Blob at 0x7fb8151ca650>"
            ]
          },
          "metadata": {},
          "execution_count": 73
        }
      ]
    },
    {
      "cell_type": "code",
      "metadata": {
        "id": "2JHIpGlebWeS",
        "colab": {
          "base_uri": "https://localhost:8080/"
        },
        "outputId": "0b7e1b70-948a-4a73-8af6-63c3ee787826"
      },
      "source": [
        "full_path_to_file2 = os.path.join(S1_doubleA1D3_4) \n",
        "blob_service_client.get_blob_to_path('shadeimg', full_path_to_file2, full_path_to_file2)"
      ],
      "execution_count": 74,
      "outputs": [
        {
          "output_type": "execute_result",
          "data": {
            "text/plain": [
              "<azure.storage.blob.models.Blob at 0x7fb81516fe90>"
            ]
          },
          "metadata": {},
          "execution_count": 74
        }
      ]
    },
    {
      "cell_type": "code",
      "metadata": {
        "id": "EQcWyvujbWeS",
        "colab": {
          "base_uri": "https://localhost:8080/"
        },
        "outputId": "adf83376-0e57-498d-ed71-097321eb6550"
      },
      "source": [
        "full_path_to_file2 = os.path.join(S1_doubleA1D4_4) \n",
        "blob_service_client.get_blob_to_path('shadeimg', full_path_to_file2, full_path_to_file2)"
      ],
      "execution_count": 75,
      "outputs": [
        {
          "output_type": "execute_result",
          "data": {
            "text/plain": [
              "<azure.storage.blob.models.Blob at 0x7fb815183b50>"
            ]
          },
          "metadata": {},
          "execution_count": 75
        }
      ]
    },
    {
      "cell_type": "markdown",
      "metadata": {
        "id": "ezvfgEdqbWeT"
      },
      "source": [
        "###Img 5"
      ]
    },
    {
      "cell_type": "code",
      "metadata": {
        "id": "yoR9sgpTbmP7",
        "colab": {
          "base_uri": "https://localhost:8080/"
        },
        "outputId": "821790c0-d602-464a-a4b7-80fbcecf9057"
      },
      "source": [
        "full_path_to_file2 = os.path.join(S1_doubleA1A1_5) \n",
        "blob_service_client.get_blob_to_path('shadeimg', full_path_to_file2, full_path_to_file2)"
      ],
      "execution_count": 76,
      "outputs": [
        {
          "output_type": "execute_result",
          "data": {
            "text/plain": [
              "<azure.storage.blob.models.Blob at 0x7fb81517ef10>"
            ]
          },
          "metadata": {},
          "execution_count": 76
        }
      ]
    },
    {
      "cell_type": "code",
      "metadata": {
        "id": "qQ4h1WnhbmP8",
        "colab": {
          "base_uri": "https://localhost:8080/"
        },
        "outputId": "8d2b360f-c472-4a10-b185-dee39fe64422"
      },
      "source": [
        "full_path_to_file2 = os.path.join(S1_doubleA1A2_5) \n",
        "blob_service_client.get_blob_to_path('shadeimg', full_path_to_file2, full_path_to_file2)"
      ],
      "execution_count": 77,
      "outputs": [
        {
          "output_type": "execute_result",
          "data": {
            "text/plain": [
              "<azure.storage.blob.models.Blob at 0x7fb81517ebd0>"
            ]
          },
          "metadata": {},
          "execution_count": 77
        }
      ]
    },
    {
      "cell_type": "code",
      "metadata": {
        "id": "x_iwy9albmP8",
        "colab": {
          "base_uri": "https://localhost:8080/"
        },
        "outputId": "e5b06684-9546-4c17-d2a7-4afce31a642c"
      },
      "source": [
        "full_path_to_file2 = os.path.join(S1_doubleA1A3_5) \n",
        "blob_service_client.get_blob_to_path('shadeimg', full_path_to_file2, full_path_to_file2)"
      ],
      "execution_count": 78,
      "outputs": [
        {
          "output_type": "execute_result",
          "data": {
            "text/plain": [
              "<azure.storage.blob.models.Blob at 0x7fb8151779d0>"
            ]
          },
          "metadata": {},
          "execution_count": 78
        }
      ]
    },
    {
      "cell_type": "code",
      "metadata": {
        "id": "49xnybwnbmP9",
        "colab": {
          "base_uri": "https://localhost:8080/"
        },
        "outputId": "681bf4e5-ada3-44e1-9ecc-211aa1d449b9"
      },
      "source": [
        "full_path_to_file2 = os.path.join(S1_doubleA1A3_55) \n",
        "blob_service_client.get_blob_to_path('shadeimg', full_path_to_file2, full_path_to_file2)"
      ],
      "execution_count": 79,
      "outputs": [
        {
          "output_type": "execute_result",
          "data": {
            "text/plain": [
              "<azure.storage.blob.models.Blob at 0x7fb8151b9590>"
            ]
          },
          "metadata": {},
          "execution_count": 79
        }
      ]
    },
    {
      "cell_type": "code",
      "metadata": {
        "id": "2qPaEWIHbmP9",
        "colab": {
          "base_uri": "https://localhost:8080/"
        },
        "outputId": "e78849ec-f1a6-4298-bec8-4d47c9a9a7c6"
      },
      "source": [
        "full_path_to_file2 = os.path.join(S1_doubleA1A4_5) \n",
        "blob_service_client.get_blob_to_path('shadeimg', full_path_to_file2, full_path_to_file2)"
      ],
      "execution_count": 80,
      "outputs": [
        {
          "output_type": "execute_result",
          "data": {
            "text/plain": [
              "<azure.storage.blob.models.Blob at 0x7fb81517c310>"
            ]
          },
          "metadata": {},
          "execution_count": 80
        }
      ]
    },
    {
      "cell_type": "code",
      "metadata": {
        "id": "NCLFk_7-bmP-",
        "colab": {
          "base_uri": "https://localhost:8080/"
        },
        "outputId": "d7ddaf41-e99c-4454-8987-a2c36ce12bb8"
      },
      "source": [
        "full_path_to_file2 = os.path.join(S1_doubleA1B1_5) \n",
        "blob_service_client.get_blob_to_path('shadeimg', full_path_to_file2, full_path_to_file2)"
      ],
      "execution_count": 81,
      "outputs": [
        {
          "output_type": "execute_result",
          "data": {
            "text/plain": [
              "<azure.storage.blob.models.Blob at 0x7fb8151df7d0>"
            ]
          },
          "metadata": {},
          "execution_count": 81
        }
      ]
    },
    {
      "cell_type": "code",
      "metadata": {
        "id": "7q2YWqaibmP_",
        "colab": {
          "base_uri": "https://localhost:8080/"
        },
        "outputId": "fddc0800-d686-40fe-ba51-cf4134f0ac8a"
      },
      "source": [
        "full_path_to_file2 = os.path.join(S1_doubleA1B2_5) \n",
        "blob_service_client.get_blob_to_path('shadeimg', full_path_to_file2, full_path_to_file2)"
      ],
      "execution_count": 82,
      "outputs": [
        {
          "output_type": "execute_result",
          "data": {
            "text/plain": [
              "<azure.storage.blob.models.Blob at 0x7fb815188090>"
            ]
          },
          "metadata": {},
          "execution_count": 82
        }
      ]
    },
    {
      "cell_type": "code",
      "metadata": {
        "id": "_5O9dHpobmQA",
        "colab": {
          "base_uri": "https://localhost:8080/"
        },
        "outputId": "1105a911-5aa9-4c1b-966f-8f96d2cca3ae"
      },
      "source": [
        "full_path_to_file2 = os.path.join(S1_doubleA1B3_5) \n",
        "blob_service_client.get_blob_to_path('shadeimg', full_path_to_file2, full_path_to_file2)"
      ],
      "execution_count": 83,
      "outputs": [
        {
          "output_type": "execute_result",
          "data": {
            "text/plain": [
              "<azure.storage.blob.models.Blob at 0x7fb815188f90>"
            ]
          },
          "metadata": {},
          "execution_count": 83
        }
      ]
    },
    {
      "cell_type": "code",
      "metadata": {
        "id": "JSI7Q1QibmQB",
        "colab": {
          "base_uri": "https://localhost:8080/"
        },
        "outputId": "35d1cb33-bd62-4195-bc5d-ee8c47cb0851"
      },
      "source": [
        "full_path_to_file2 = os.path.join(S1_doubleA1B4_5) \n",
        "blob_service_client.get_blob_to_path('shadeimg', full_path_to_file2, full_path_to_file2)"
      ],
      "execution_count": 84,
      "outputs": [
        {
          "output_type": "execute_result",
          "data": {
            "text/plain": [
              "<azure.storage.blob.models.Blob at 0x7fb81517bf10>"
            ]
          },
          "metadata": {},
          "execution_count": 84
        }
      ]
    },
    {
      "cell_type": "code",
      "metadata": {
        "id": "gkbg-IqBbmQD",
        "colab": {
          "base_uri": "https://localhost:8080/"
        },
        "outputId": "4f1a2178-31fa-47ee-b4b6-dc6e027164fb"
      },
      "source": [
        "full_path_to_file2 = os.path.join(S1_doubleA1C1_5) \n",
        "blob_service_client.get_blob_to_path('shadeimg', full_path_to_file2, full_path_to_file2)"
      ],
      "execution_count": 85,
      "outputs": [
        {
          "output_type": "execute_result",
          "data": {
            "text/plain": [
              "<azure.storage.blob.models.Blob at 0x7fb815183c10>"
            ]
          },
          "metadata": {},
          "execution_count": 85
        }
      ]
    },
    {
      "cell_type": "code",
      "metadata": {
        "id": "2NX90r4EbmQD",
        "colab": {
          "base_uri": "https://localhost:8080/"
        },
        "outputId": "cc2fc059-0c13-47d9-b37b-6de613a5a069"
      },
      "source": [
        "full_path_to_file2 = os.path.join(S1_doubleA1C2_5) \n",
        "blob_service_client.get_blob_to_path('shadeimg', full_path_to_file2, full_path_to_file2)"
      ],
      "execution_count": 86,
      "outputs": [
        {
          "output_type": "execute_result",
          "data": {
            "text/plain": [
              "<azure.storage.blob.models.Blob at 0x7fb8151dfe10>"
            ]
          },
          "metadata": {},
          "execution_count": 86
        }
      ]
    },
    {
      "cell_type": "code",
      "metadata": {
        "id": "UoqalvodbmQE",
        "colab": {
          "base_uri": "https://localhost:8080/"
        },
        "outputId": "c5ea51fa-d757-4b76-f507-1c899210de4f"
      },
      "source": [
        "full_path_to_file2 = os.path.join(S1_doubleA1C3_5) \n",
        "blob_service_client.get_blob_to_path('shadeimg', full_path_to_file2, full_path_to_file2)"
      ],
      "execution_count": 87,
      "outputs": [
        {
          "output_type": "execute_result",
          "data": {
            "text/plain": [
              "<azure.storage.blob.models.Blob at 0x7fb81517e610>"
            ]
          },
          "metadata": {},
          "execution_count": 87
        }
      ]
    },
    {
      "cell_type": "code",
      "metadata": {
        "id": "96--GVnebmQE",
        "colab": {
          "base_uri": "https://localhost:8080/"
        },
        "outputId": "a1edcbf3-177d-427e-ef13-032690a302b8"
      },
      "source": [
        "full_path_to_file2 = os.path.join(S1_doubleA1C4_5) \n",
        "blob_service_client.get_blob_to_path('shadeimg', full_path_to_file2, full_path_to_file2)"
      ],
      "execution_count": 88,
      "outputs": [
        {
          "output_type": "execute_result",
          "data": {
            "text/plain": [
              "<azure.storage.blob.models.Blob at 0x7fb8151995d0>"
            ]
          },
          "metadata": {},
          "execution_count": 88
        }
      ]
    },
    {
      "cell_type": "code",
      "metadata": {
        "id": "4IJdoMddbmQF",
        "colab": {
          "base_uri": "https://localhost:8080/"
        },
        "outputId": "6ba5596e-6954-4f98-eaf6-fbe90292cba2"
      },
      "source": [
        "full_path_to_file2 = os.path.join(S1_doubleA1D2_5) \n",
        "blob_service_client.get_blob_to_path('shadeimg', full_path_to_file2, full_path_to_file2)"
      ],
      "execution_count": 89,
      "outputs": [
        {
          "output_type": "execute_result",
          "data": {
            "text/plain": [
              "<azure.storage.blob.models.Blob at 0x7fb815220f50>"
            ]
          },
          "metadata": {},
          "execution_count": 89
        }
      ]
    },
    {
      "cell_type": "code",
      "metadata": {
        "id": "YZzMUE6DbmQF",
        "colab": {
          "base_uri": "https://localhost:8080/"
        },
        "outputId": "7ad5f612-2f51-4154-e7e7-73479d155713"
      },
      "source": [
        "full_path_to_file2 = os.path.join(S1_doubleA1D3_5) \n",
        "blob_service_client.get_blob_to_path('shadeimg', full_path_to_file2, full_path_to_file2)"
      ],
      "execution_count": 90,
      "outputs": [
        {
          "output_type": "execute_result",
          "data": {
            "text/plain": [
              "<azure.storage.blob.models.Blob at 0x7fb815199fd0>"
            ]
          },
          "metadata": {},
          "execution_count": 90
        }
      ]
    },
    {
      "cell_type": "code",
      "metadata": {
        "id": "OoBgpK07bmQG",
        "colab": {
          "base_uri": "https://localhost:8080/"
        },
        "outputId": "87bbcc35-1545-4276-e9e5-6438b34de2c1"
      },
      "source": [
        "full_path_to_file2 = os.path.join(S1_doubleA1D4_5) \n",
        "blob_service_client.get_blob_to_path('shadeimg', full_path_to_file2, full_path_to_file2)"
      ],
      "execution_count": 91,
      "outputs": [
        {
          "output_type": "execute_result",
          "data": {
            "text/plain": [
              "<azure.storage.blob.models.Blob at 0x7fb81519e410>"
            ]
          },
          "metadata": {},
          "execution_count": 91
        }
      ]
    },
    {
      "cell_type": "markdown",
      "metadata": {
        "id": "MtmXOojtqN4x"
      },
      "source": [
        "#3. BGR to RGB"
      ]
    },
    {
      "cell_type": "code",
      "metadata": {
        "id": "s8SS5YJfrpRC"
      },
      "source": [
        "import cv2\n",
        "from matplotlib import pyplot as plt #การเรียกใช้คำสั่ง matplotlib เพื่อวาดกราฟ โดยแทนชื่อ matplotlib ด้วย plt\n",
        "import matplotlib"
      ],
      "execution_count": 92,
      "outputs": []
    },
    {
      "cell_type": "markdown",
      "metadata": {
        "id": "tngQqkwA41EB"
      },
      "source": [
        "##Set1"
      ]
    },
    {
      "cell_type": "code",
      "metadata": {
        "id": "pjV8Jh9u4VyJ"
      },
      "source": [
        "imgS1_A1A1_1  = cv2.imread(S1_doubleA1A1_1)\n",
        "S1RGB_imgA1A1_1= cv2.cvtColor(imgS1_A1A1_1, cv2.COLOR_BGR2RGB)"
      ],
      "execution_count": 93,
      "outputs": []
    },
    {
      "cell_type": "code",
      "metadata": {
        "id": "Ixg-SNyU46Lp"
      },
      "source": [
        "imgS1_A1A2_1  = cv2.imread(S1_doubleA1A2_1)\n",
        "S1RGB_imgA1A2_1= cv2.cvtColor(imgS1_A1A2_1, cv2.COLOR_BGR2RGB)"
      ],
      "execution_count": 94,
      "outputs": []
    },
    {
      "cell_type": "code",
      "metadata": {
        "id": "a4-_mkF-4-te"
      },
      "source": [
        "imgS1_A1A3_1  = cv2.imread(S1_doubleA1A3_1)\n",
        "S1RGB_imgA1A3_1= cv2.cvtColor(imgS1_A1A3_1, cv2.COLOR_BGR2RGB)"
      ],
      "execution_count": 95,
      "outputs": []
    },
    {
      "cell_type": "code",
      "metadata": {
        "id": "uRs18zEK5EM3"
      },
      "source": [
        "imgS1_A1A3_51  = cv2.imread(S1_doubleA1A3_51)\n",
        "S1RGB_imgA1A3_51= cv2.cvtColor(imgS1_A1A3_51, cv2.COLOR_BGR2RGB)"
      ],
      "execution_count": 96,
      "outputs": []
    },
    {
      "cell_type": "code",
      "metadata": {
        "id": "LCju5Eai5fV4"
      },
      "source": [
        "imgS1_A1A4_1  = cv2.imread(S1_doubleA1A4_1)\n",
        "S1RGB_imgA1A4_1= cv2.cvtColor(imgS1_A1A4_1, cv2.COLOR_BGR2RGB)"
      ],
      "execution_count": 97,
      "outputs": []
    },
    {
      "cell_type": "code",
      "metadata": {
        "id": "sMwRM7yO5llo"
      },
      "source": [
        "imgS1_A1B1_1  = cv2.imread(S1_doubleA1B1_1)\n",
        "S1RGB_imgA1B1_1= cv2.cvtColor(imgS1_A1B1_1, cv2.COLOR_BGR2RGB)"
      ],
      "execution_count": 98,
      "outputs": []
    },
    {
      "cell_type": "code",
      "metadata": {
        "id": "B8Efejup5llo"
      },
      "source": [
        "imgS1_A1B2_1  = cv2.imread(S1_doubleA1B2_1)\n",
        "S1RGB_imgA1B2_1= cv2.cvtColor(imgS1_A1B2_1, cv2.COLOR_BGR2RGB)"
      ],
      "execution_count": 99,
      "outputs": []
    },
    {
      "cell_type": "code",
      "metadata": {
        "id": "j7fi0Nn95llo"
      },
      "source": [
        "imgS1_A1B3_1  = cv2.imread(S1_doubleA1A3_1)\n",
        "S1RGB_imgA1B3_1= cv2.cvtColor(imgS1_A1A3_1, cv2.COLOR_BGR2RGB)"
      ],
      "execution_count": 100,
      "outputs": []
    },
    {
      "cell_type": "code",
      "metadata": {
        "id": "Hxs3fQUU5llp"
      },
      "source": [
        "imgS1_A1B4_1  = cv2.imread(S1_doubleA1B4_1)\n",
        "S1RGB_imgA1B4_1= cv2.cvtColor(imgS1_A1B4_1, cv2.COLOR_BGR2RGB)"
      ],
      "execution_count": 101,
      "outputs": []
    },
    {
      "cell_type": "code",
      "metadata": {
        "id": "IaQDpBeS6Oa_"
      },
      "source": [
        "imgS1_A1C1_1  = cv2.imread(S1_doubleA1C1_1)\n",
        "S1RGB_imgA1C1_1= cv2.cvtColor(imgS1_A1C1_1, cv2.COLOR_BGR2RGB)"
      ],
      "execution_count": 102,
      "outputs": []
    },
    {
      "cell_type": "code",
      "metadata": {
        "id": "wuQ_nyPB6Oa_"
      },
      "source": [
        "imgS1_A1C2_1  = cv2.imread(S1_doubleA1C2_1)\n",
        "S1RGB_imgA1C2_1= cv2.cvtColor(imgS1_A1C2_1, cv2.COLOR_BGR2RGB)"
      ],
      "execution_count": 103,
      "outputs": []
    },
    {
      "cell_type": "code",
      "metadata": {
        "id": "wAdSVg_I6Oa_"
      },
      "source": [
        "imgS1_A1C3_1  = cv2.imread(S1_doubleA1C3_1)\n",
        "S1RGB_imgA1C3_1= cv2.cvtColor(imgS1_A1C3_1, cv2.COLOR_BGR2RGB)"
      ],
      "execution_count": 104,
      "outputs": []
    },
    {
      "cell_type": "code",
      "metadata": {
        "id": "XeLavKSo6Oa_"
      },
      "source": [
        "imgS1_A1C4_1  = cv2.imread(S1_doubleA1C4_1)\n",
        "S1RGB_imgA1C4_1= cv2.cvtColor(imgS1_A1C4_1, cv2.COLOR_BGR2RGB)"
      ],
      "execution_count": 105,
      "outputs": []
    },
    {
      "cell_type": "code",
      "metadata": {
        "id": "SP6HGOWx6hmP"
      },
      "source": [
        "imgS1_A1D2_1  = cv2.imread(S1_doubleA1D2_1)\n",
        "S1RGB_imgA1D2_1= cv2.cvtColor(imgS1_A1D2_1, cv2.COLOR_BGR2RGB)"
      ],
      "execution_count": 106,
      "outputs": []
    },
    {
      "cell_type": "code",
      "metadata": {
        "id": "2d2cV-Ew6hmP"
      },
      "source": [
        "imgS1_A1D3_1  = cv2.imread(S1_doubleA1D3_1)\n",
        "S1RGB_imgA1D3_1= cv2.cvtColor(imgS1_A1D3_1, cv2.COLOR_BGR2RGB)"
      ],
      "execution_count": 107,
      "outputs": []
    },
    {
      "cell_type": "code",
      "metadata": {
        "id": "doH48ypZ6hmQ"
      },
      "source": [
        "imgS1_A1D4_1  = cv2.imread(S1_doubleA1D4_1)\n",
        "S1RGB_imgA1D4_1= cv2.cvtColor(imgS1_A1D4_1, cv2.COLOR_BGR2RGB)\n"
      ],
      "execution_count": 108,
      "outputs": []
    },
    {
      "cell_type": "markdown",
      "metadata": {
        "id": "4jc2tCMd3aaF"
      },
      "source": [
        "###Img 2"
      ]
    },
    {
      "cell_type": "code",
      "metadata": {
        "id": "So6yuaEr3ryQ"
      },
      "source": [
        "imgS1_A1A1_2 = cv2.imread(S1_doubleA1A1_2)\n",
        "S1RGB_imgA1A1_2= cv2.cvtColor(imgS1_A1A1_2, cv2.COLOR_BGR2RGB)"
      ],
      "execution_count": 109,
      "outputs": []
    },
    {
      "cell_type": "code",
      "metadata": {
        "id": "A43KPfbl3ryR"
      },
      "source": [
        "imgS1_A1A2_2 = cv2.imread(S1_doubleA1A2_2)\n",
        "S1RGB_imgA1A2_2= cv2.cvtColor(imgS1_A1A2_2, cv2.COLOR_BGR2RGB)"
      ],
      "execution_count": 110,
      "outputs": []
    },
    {
      "cell_type": "code",
      "metadata": {
        "id": "4RUkrGTu3ryR"
      },
      "source": [
        "imgS1_A1A3_2= cv2.imread(S1_doubleA1A3_2)\n",
        "S1RGB_imgA1A3_2= cv2.cvtColor(imgS1_A1A3_2, cv2.COLOR_BGR2RGB)"
      ],
      "execution_count": 111,
      "outputs": []
    },
    {
      "cell_type": "code",
      "metadata": {
        "id": "ct6nUk0T3ryS"
      },
      "source": [
        "imgS1_A1A3_52  = cv2.imread(S1_doubleA1A3_52)\n",
        "S1RGB_imgA1A3_52= cv2.cvtColor(imgS1_A1A3_52, cv2.COLOR_BGR2RGB)"
      ],
      "execution_count": 112,
      "outputs": []
    },
    {
      "cell_type": "code",
      "metadata": {
        "id": "q7f1CXA63ryS"
      },
      "source": [
        "imgS1_A1A4_2 = cv2.imread(S1_doubleA1A4_2)\n",
        "S1RGB_imgA1A4_2= cv2.cvtColor(imgS1_A1A4_2, cv2.COLOR_BGR2RGB)"
      ],
      "execution_count": 113,
      "outputs": []
    },
    {
      "cell_type": "code",
      "metadata": {
        "id": "LOtSOlyk3ryT"
      },
      "source": [
        "imgS1_A1B1_2= cv2.imread(S1_doubleA1B1_2)\n",
        "S1RGB_imgA1B1_2= cv2.cvtColor(imgS1_A1B1_2, cv2.COLOR_BGR2RGB)"
      ],
      "execution_count": 114,
      "outputs": []
    },
    {
      "cell_type": "code",
      "metadata": {
        "id": "vad5Kh6m3ryT"
      },
      "source": [
        "imgS1_A1B2_2 = cv2.imread(S1_doubleA1B2_2)\n",
        "S1RGB_imgA1B2_2= cv2.cvtColor(imgS1_A1B2_2, cv2.COLOR_BGR2RGB)"
      ],
      "execution_count": 115,
      "outputs": []
    },
    {
      "cell_type": "code",
      "metadata": {
        "id": "OsPpLa_93ryU"
      },
      "source": [
        "imgS1_A1B3_2  = cv2.imread(S1_doubleA1B3_2)\n",
        "S1RGB_imgA1B3_2= cv2.cvtColor(imgS1_A1B3_2, cv2.COLOR_BGR2RGB)"
      ],
      "execution_count": 116,
      "outputs": []
    },
    {
      "cell_type": "code",
      "metadata": {
        "id": "sPa30Up03ryU"
      },
      "source": [
        "imgS1_A1B4_2 = cv2.imread(S1_doubleA1B4_2)\n",
        "S1RGB_imgA1B4_2= cv2.cvtColor(imgS1_A1B4_2, cv2.COLOR_BGR2RGB)"
      ],
      "execution_count": 117,
      "outputs": []
    },
    {
      "cell_type": "code",
      "metadata": {
        "id": "iL1zzD113ryU"
      },
      "source": [
        "imgS1_A1C1_2  = cv2.imread(S1_doubleA1C1_2)\n",
        "S1RGB_imgA1C1_2= cv2.cvtColor(imgS1_A1C1_2, cv2.COLOR_BGR2RGB)"
      ],
      "execution_count": 118,
      "outputs": []
    },
    {
      "cell_type": "code",
      "metadata": {
        "id": "4bWsc2EG3ryU"
      },
      "source": [
        "imgS1_A1C2_2  = cv2.imread(S1_doubleA1C2_2)\n",
        "S1RGB_imgA1C2_2= cv2.cvtColor(imgS1_A1C2_2, cv2.COLOR_BGR2RGB)"
      ],
      "execution_count": 119,
      "outputs": []
    },
    {
      "cell_type": "code",
      "metadata": {
        "id": "0yka-wm-3ryU"
      },
      "source": [
        "imgS1_A1C3_2  = cv2.imread(S1_doubleA1C3_2)\n",
        "S1RGB_imgA1C3_2= cv2.cvtColor(imgS1_A1C3_2, cv2.COLOR_BGR2RGB)"
      ],
      "execution_count": 120,
      "outputs": []
    },
    {
      "cell_type": "code",
      "metadata": {
        "id": "iF159ThN3ryV"
      },
      "source": [
        "imgS1_A1C4_2 = cv2.imread(S1_doubleA1C4_2)\n",
        "S1RGB_imgA1C4_2= cv2.cvtColor(imgS1_A1C4_2, cv2.COLOR_BGR2RGB)"
      ],
      "execution_count": 121,
      "outputs": []
    },
    {
      "cell_type": "code",
      "metadata": {
        "id": "ZlraPlFh3ryV"
      },
      "source": [
        "imgS1_A1D2_2 = cv2.imread(S1_doubleA1D2_2)\n",
        "S1RGB_imgA1D2_2= cv2.cvtColor(imgS1_A1D2_2, cv2.COLOR_BGR2RGB)"
      ],
      "execution_count": 122,
      "outputs": []
    },
    {
      "cell_type": "code",
      "metadata": {
        "id": "3pkScZ_m3ryV"
      },
      "source": [
        "imgS1_A1D3_2 = cv2.imread(S1_doubleA1D3_2)\n",
        "S1RGB_imgA1D3_2= cv2.cvtColor(imgS1_A1D3_2, cv2.COLOR_BGR2RGB)"
      ],
      "execution_count": 123,
      "outputs": []
    },
    {
      "cell_type": "code",
      "metadata": {
        "id": "QfZq6X_y3ryV"
      },
      "source": [
        "imgS1_A1D4_2  = cv2.imread(S1_doubleA1D4_2)\n",
        "S1RGB_imgA1D4_2= cv2.cvtColor(imgS1_A1D4_2, cv2.COLOR_BGR2RGB)"
      ],
      "execution_count": 124,
      "outputs": []
    },
    {
      "cell_type": "markdown",
      "metadata": {
        "id": "tqrpB_Os47oU"
      },
      "source": [
        "###Img 3"
      ]
    },
    {
      "cell_type": "code",
      "metadata": {
        "id": "qnjaDhn4BbYi"
      },
      "source": [
        "imgS1_A1A1_3= cv2.imread(S1_doubleA1A1_3)\n",
        "S1RGB_imgA1A1_3= cv2.cvtColor(imgS1_A1A1_3, cv2.COLOR_BGR2RGB)"
      ],
      "execution_count": 125,
      "outputs": []
    },
    {
      "cell_type": "code",
      "metadata": {
        "id": "mC6JpzhLBbYi"
      },
      "source": [
        "imgS1_A1A2_3 = cv2.imread(S1_doubleA1A2_3)\n",
        "S1RGB_imgA1A2_3= cv2.cvtColor(imgS1_A1A2_3, cv2.COLOR_BGR2RGB)"
      ],
      "execution_count": 126,
      "outputs": []
    },
    {
      "cell_type": "code",
      "metadata": {
        "id": "pClXvqiWBbYi"
      },
      "source": [
        "imgS1_A1A3_3= cv2.imread(S1_doubleA1A3_3)\n",
        "S1RGB_imgA1A3_3= cv2.cvtColor(imgS1_A1A3_3, cv2.COLOR_BGR2RGB)"
      ],
      "execution_count": 127,
      "outputs": []
    },
    {
      "cell_type": "code",
      "metadata": {
        "id": "X5f1ECCSBbYj"
      },
      "source": [
        "imgS1_A1A3_53  = cv2.imread(S1_doubleA1A3_53)\n",
        "S1RGB_imgA1A3_53= cv2.cvtColor(imgS1_A1A3_53, cv2.COLOR_BGR2RGB)"
      ],
      "execution_count": 128,
      "outputs": []
    },
    {
      "cell_type": "code",
      "metadata": {
        "id": "dlH5LoyjBbYj"
      },
      "source": [
        "imgS1_A1A4_3  = cv2.imread(S1_doubleA1A4_3)\n",
        "S1RGB_imgA1A4_3= cv2.cvtColor(imgS1_A1A4_3, cv2.COLOR_BGR2RGB)"
      ],
      "execution_count": 129,
      "outputs": []
    },
    {
      "cell_type": "code",
      "metadata": {
        "id": "eqyRvv91BbYj"
      },
      "source": [
        "imgS1_A1B1_3  = cv2.imread(S1_doubleA1B1_3)\n",
        "S1RGB_imgA1B1_3= cv2.cvtColor(imgS1_A1B1_3, cv2.COLOR_BGR2RGB)"
      ],
      "execution_count": 130,
      "outputs": []
    },
    {
      "cell_type": "code",
      "metadata": {
        "id": "FPBJS2RvBbYj"
      },
      "source": [
        "imgS1_A1B2_3 = cv2.imread(S1_doubleA1B2_3)\n",
        "S1RGB_imgA1B2_3= cv2.cvtColor(imgS1_A1B2_3, cv2.COLOR_BGR2RGB)"
      ],
      "execution_count": 131,
      "outputs": []
    },
    {
      "cell_type": "code",
      "metadata": {
        "id": "S_FCPFhpBbYk"
      },
      "source": [
        "imgS1_A1B3_3  = cv2.imread(S1_doubleA1B3_3)\n",
        "S1RGB_imgA1B3_3= cv2.cvtColor(imgS1_A1B3_3, cv2.COLOR_BGR2RGB)"
      ],
      "execution_count": 132,
      "outputs": []
    },
    {
      "cell_type": "code",
      "metadata": {
        "id": "9llJohbEBbYk"
      },
      "source": [
        "imgS1_A1B4_3  = cv2.imread(S1_doubleA1B4_3)\n",
        "S1RGB_imgA1B4_3= cv2.cvtColor(imgS1_A1B4_3, cv2.COLOR_BGR2RGB)"
      ],
      "execution_count": 133,
      "outputs": []
    },
    {
      "cell_type": "code",
      "metadata": {
        "id": "qwYNqoAyBbYk"
      },
      "source": [
        "imgS1_A1C1_3  = cv2.imread(S1_doubleA1C1_3)\n",
        "S1RGB_imgA1C1_3= cv2.cvtColor(imgS1_A1C1_3, cv2.COLOR_BGR2RGB)"
      ],
      "execution_count": 134,
      "outputs": []
    },
    {
      "cell_type": "code",
      "metadata": {
        "id": "snEaWInQBbYk"
      },
      "source": [
        "imgS1_A1C2_3  = cv2.imread(S1_doubleA1C2_3)\n",
        "S1RGB_imgA1C2_3= cv2.cvtColor(imgS1_A1C2_3, cv2.COLOR_BGR2RGB)"
      ],
      "execution_count": 135,
      "outputs": []
    },
    {
      "cell_type": "code",
      "metadata": {
        "id": "X9620UvLBbYl"
      },
      "source": [
        "imgS1_A1C3_3  = cv2.imread(S1_doubleA1C3_3)\n",
        "S1RGB_imgA1C3_3= cv2.cvtColor(imgS1_A1C3_3, cv2.COLOR_BGR2RGB)"
      ],
      "execution_count": 136,
      "outputs": []
    },
    {
      "cell_type": "code",
      "metadata": {
        "id": "tgIXRH3jBbYl"
      },
      "source": [
        "imgS1_A1C4_3 = cv2.imread(S1_doubleA1C4_3)\n",
        "S1RGB_imgA1C4_3= cv2.cvtColor(imgS1_A1C4_3, cv2.COLOR_BGR2RGB)"
      ],
      "execution_count": 137,
      "outputs": []
    },
    {
      "cell_type": "code",
      "metadata": {
        "id": "qG0YgksUBbYl"
      },
      "source": [
        "imgS1_A1D2_3  = cv2.imread(S1_doubleA1D2_3)\n",
        "S1RGB_imgA1D2_3= cv2.cvtColor(imgS1_A1D2_3, cv2.COLOR_BGR2RGB)"
      ],
      "execution_count": 138,
      "outputs": []
    },
    {
      "cell_type": "code",
      "metadata": {
        "id": "Kd-yEV9GBbYl"
      },
      "source": [
        "imgS1_A1D3_3 = cv2.imread(S1_doubleA1D3_3)\n",
        "S1RGB_imgA1D3_3= cv2.cvtColor(imgS1_A1D3_3, cv2.COLOR_BGR2RGB)"
      ],
      "execution_count": 139,
      "outputs": []
    },
    {
      "cell_type": "code",
      "metadata": {
        "id": "TaMZz1b3BbYl"
      },
      "source": [
        "imgS1_A1D4_3  = cv2.imread(S1_doubleA1D4_3)\n",
        "S1RGB_imgA1D4_3= cv2.cvtColor(imgS1_A1D4_3, cv2.COLOR_BGR2RGB)"
      ],
      "execution_count": 140,
      "outputs": []
    },
    {
      "cell_type": "markdown",
      "metadata": {
        "id": "8HAr-rxC4_k1"
      },
      "source": [
        "###Img 4"
      ]
    },
    {
      "cell_type": "code",
      "metadata": {
        "id": "g4jKPr0uBcvq"
      },
      "source": [
        "imgS1_A1A1_4 = cv2.imread(S1_doubleA1A1_4)\n",
        "S1RGB_imgA1A1_4= cv2.cvtColor(imgS1_A1A1_4, cv2.COLOR_BGR2RGB)"
      ],
      "execution_count": 141,
      "outputs": []
    },
    {
      "cell_type": "code",
      "metadata": {
        "id": "J1VpRs4BBcvq"
      },
      "source": [
        "imgS1_A1A2_4  = cv2.imread(S1_doubleA1A2_4)\n",
        "S1RGB_imgA1A2_4= cv2.cvtColor(imgS1_A1A2_4, cv2.COLOR_BGR2RGB)"
      ],
      "execution_count": 142,
      "outputs": []
    },
    {
      "cell_type": "code",
      "metadata": {
        "id": "UC_NJfhFBcvr"
      },
      "source": [
        "imgS1_A1A3_4= cv2.imread(S1_doubleA1A3_4)\n",
        "S1RGB_imgA1A3_4= cv2.cvtColor(imgS1_A1A3_4, cv2.COLOR_BGR2RGB)"
      ],
      "execution_count": 143,
      "outputs": []
    },
    {
      "cell_type": "code",
      "metadata": {
        "id": "uj3YrwWNBcvr"
      },
      "source": [
        "imgS1_A1A3_54  = cv2.imread(S1_doubleA1A3_54)\n",
        "S1RGB_imgA1A3_54= cv2.cvtColor(imgS1_A1A3_54, cv2.COLOR_BGR2RGB)"
      ],
      "execution_count": 144,
      "outputs": []
    },
    {
      "cell_type": "code",
      "metadata": {
        "id": "0d76TQUvBcvr"
      },
      "source": [
        "imgS1_A1A4_4  = cv2.imread(S1_doubleA1A4_4)\n",
        "S1RGB_imgA1A4_4= cv2.cvtColor(imgS1_A1A4_4, cv2.COLOR_BGR2RGB)"
      ],
      "execution_count": 145,
      "outputs": []
    },
    {
      "cell_type": "code",
      "metadata": {
        "id": "Vw6AnPuqBcvr"
      },
      "source": [
        "imgS1_A1B1_4  = cv2.imread(S1_doubleA1B1_4)\n",
        "S1RGB_imgA1B1_4= cv2.cvtColor(imgS1_A1B1_4, cv2.COLOR_BGR2RGB)"
      ],
      "execution_count": 146,
      "outputs": []
    },
    {
      "cell_type": "code",
      "metadata": {
        "id": "WfZ31gymBcvs"
      },
      "source": [
        "imgS1_A1B2_4 = cv2.imread(S1_doubleA1B2_4)\n",
        "S1RGB_imgA1B2_4= cv2.cvtColor(imgS1_A1B2_4, cv2.COLOR_BGR2RGB)"
      ],
      "execution_count": 147,
      "outputs": []
    },
    {
      "cell_type": "code",
      "metadata": {
        "id": "Jy1q8GkdBcvs"
      },
      "source": [
        "imgS1_A1B3_4  = cv2.imread(S1_doubleA1B3_4)\n",
        "S1RGB_imgA1B3_4= cv2.cvtColor(imgS1_A1B3_4, cv2.COLOR_BGR2RGB)"
      ],
      "execution_count": 148,
      "outputs": []
    },
    {
      "cell_type": "code",
      "metadata": {
        "id": "mosWDaYTBcvs"
      },
      "source": [
        "imgS1_A1B4_4  = cv2.imread(S1_doubleA1B4_4)\n",
        "S1RGB_imgA1B4_4= cv2.cvtColor(imgS1_A1B4_4, cv2.COLOR_BGR2RGB)"
      ],
      "execution_count": 149,
      "outputs": []
    },
    {
      "cell_type": "code",
      "metadata": {
        "id": "Zn6GAg7YBcvs"
      },
      "source": [
        "imgS1_A1C1_4 = cv2.imread(S1_doubleA1C1_4)\n",
        "S1RGB_imgA1C1_4= cv2.cvtColor(imgS1_A1C1_4, cv2.COLOR_BGR2RGB)"
      ],
      "execution_count": 150,
      "outputs": []
    },
    {
      "cell_type": "code",
      "metadata": {
        "id": "hA89zQxlBcvs"
      },
      "source": [
        "imgS1_A1C2_4  = cv2.imread(S1_doubleA1C2_4)\n",
        "S1RGB_imgA1C2_4= cv2.cvtColor(imgS1_A1C2_4, cv2.COLOR_BGR2RGB)"
      ],
      "execution_count": 151,
      "outputs": []
    },
    {
      "cell_type": "code",
      "metadata": {
        "id": "BVXfA3-rBcvt"
      },
      "source": [
        "imgS1_A1C3_4 = cv2.imread(S1_doubleA1C3_4)\n",
        "S1RGB_imgA1C3_4= cv2.cvtColor(imgS1_A1C3_4, cv2.COLOR_BGR2RGB)"
      ],
      "execution_count": 152,
      "outputs": []
    },
    {
      "cell_type": "code",
      "metadata": {
        "id": "9g4GjJUYBcvt"
      },
      "source": [
        "imgS1_A1C4_4  = cv2.imread(S1_doubleA1C4_4)\n",
        "S1RGB_imgA1C4_4= cv2.cvtColor(imgS1_A1C4_4, cv2.COLOR_BGR2RGB)"
      ],
      "execution_count": 153,
      "outputs": []
    },
    {
      "cell_type": "code",
      "metadata": {
        "id": "uKQr6NqZBcvt"
      },
      "source": [
        "imgS1_A1D2_4  = cv2.imread(S1_doubleA1D2_4)\n",
        "S1RGB_imgA1D2_4= cv2.cvtColor(imgS1_A1D2_4, cv2.COLOR_BGR2RGB)"
      ],
      "execution_count": 154,
      "outputs": []
    },
    {
      "cell_type": "code",
      "metadata": {
        "id": "kLuX8ZnhBcvt"
      },
      "source": [
        "imgS1_A1D3_4  = cv2.imread(S1_doubleA1D3_4)\n",
        "S1RGB_imgA1D3_4= cv2.cvtColor(imgS1_A1D3_4, cv2.COLOR_BGR2RGB)"
      ],
      "execution_count": 155,
      "outputs": []
    },
    {
      "cell_type": "code",
      "metadata": {
        "id": "4Wv16eSBBcvt"
      },
      "source": [
        "imgS1_A1D4_4 = cv2.imread(S1_doubleA1D4_4)\n",
        "S1RGB_imgA1D4_4= cv2.cvtColor(imgS1_A1D4_4, cv2.COLOR_BGR2RGB)"
      ],
      "execution_count": 156,
      "outputs": []
    },
    {
      "cell_type": "markdown",
      "metadata": {
        "id": "X3iT_Wiz5DpR"
      },
      "source": [
        "###Img 5"
      ]
    },
    {
      "cell_type": "code",
      "metadata": {
        "id": "CjMVLKCxBeRS"
      },
      "source": [
        "imgS1_A1A1_5 = cv2.imread(S1_doubleA1A1_5)\n",
        "S1RGB_imgA1A1_5= cv2.cvtColor(imgS1_A1A1_5, cv2.COLOR_BGR2RGB)"
      ],
      "execution_count": 157,
      "outputs": []
    },
    {
      "cell_type": "code",
      "metadata": {
        "id": "zdchQeWkBeRS"
      },
      "source": [
        "imgS1_A1A2_5 = cv2.imread(S1_doubleA1A2_5)\n",
        "S1RGB_imgA1A2_5= cv2.cvtColor(imgS1_A1A2_5, cv2.COLOR_BGR2RGB)"
      ],
      "execution_count": 158,
      "outputs": []
    },
    {
      "cell_type": "code",
      "metadata": {
        "id": "EzpY1UnzBeRS"
      },
      "source": [
        "imgS1_A1A3_5= cv2.imread(S1_doubleA1A3_5)\n",
        "S1RGB_imgA1A3_5= cv2.cvtColor(imgS1_A1A3_5, cv2.COLOR_BGR2RGB)"
      ],
      "execution_count": 159,
      "outputs": []
    },
    {
      "cell_type": "code",
      "metadata": {
        "id": "D6TUam19BeRS"
      },
      "source": [
        "imgS1_A1A3_55  = cv2.imread(S1_doubleA1A3_55)\n",
        "S1RGB_imgA1A3_55= cv2.cvtColor(imgS1_A1A3_55, cv2.COLOR_BGR2RGB)"
      ],
      "execution_count": 160,
      "outputs": []
    },
    {
      "cell_type": "code",
      "metadata": {
        "id": "C0CUpNy5BeRT"
      },
      "source": [
        "imgS1_A1A4_5  = cv2.imread(S1_doubleA1A4_5)\n",
        "S1RGB_imgA1A4_5= cv2.cvtColor(imgS1_A1A4_5, cv2.COLOR_BGR2RGB)"
      ],
      "execution_count": 161,
      "outputs": []
    },
    {
      "cell_type": "code",
      "metadata": {
        "id": "UnX_C87OBeRT"
      },
      "source": [
        "imgS1_A1B1_5  = cv2.imread(S1_doubleA1B1_5)\n",
        "S1RGB_imgA1B1_5= cv2.cvtColor(imgS1_A1B1_5, cv2.COLOR_BGR2RGB)"
      ],
      "execution_count": 162,
      "outputs": []
    },
    {
      "cell_type": "code",
      "metadata": {
        "id": "NefKy34wBeRT"
      },
      "source": [
        "imgS1_A1B2_5  = cv2.imread(S1_doubleA1B2_5)\n",
        "S1RGB_imgA1B2_5= cv2.cvtColor(imgS1_A1B2_5, cv2.COLOR_BGR2RGB)"
      ],
      "execution_count": 163,
      "outputs": []
    },
    {
      "cell_type": "code",
      "metadata": {
        "id": "cgBKD1QjBeRT"
      },
      "source": [
        "imgS1_A1B3_5  = cv2.imread(S1_doubleA1B3_5)\n",
        "S1RGB_imgA1B3_5= cv2.cvtColor(imgS1_A1B3_5, cv2.COLOR_BGR2RGB)"
      ],
      "execution_count": 164,
      "outputs": []
    },
    {
      "cell_type": "code",
      "metadata": {
        "id": "LZy0yHz_BeRT"
      },
      "source": [
        "imgS1_A1B4_5  = cv2.imread(S1_doubleA1B4_5)\n",
        "S1RGB_imgA1B4_5= cv2.cvtColor(imgS1_A1B4_5, cv2.COLOR_BGR2RGB)"
      ],
      "execution_count": 165,
      "outputs": []
    },
    {
      "cell_type": "code",
      "metadata": {
        "id": "AitdnaXmBeRT"
      },
      "source": [
        "imgS1_A1C1_5 = cv2.imread(S1_doubleA1C1_5)\n",
        "S1RGB_imgA1C1_5= cv2.cvtColor(imgS1_A1C1_5, cv2.COLOR_BGR2RGB)"
      ],
      "execution_count": 166,
      "outputs": []
    },
    {
      "cell_type": "code",
      "metadata": {
        "id": "0T9gIsmGBeRT"
      },
      "source": [
        "imgS1_A1C2_5  = cv2.imread(S1_doubleA1C2_5)\n",
        "S1RGB_imgA1C2_5= cv2.cvtColor(imgS1_A1C2_5, cv2.COLOR_BGR2RGB)"
      ],
      "execution_count": 167,
      "outputs": []
    },
    {
      "cell_type": "code",
      "metadata": {
        "id": "R_boTzJGBeRU"
      },
      "source": [
        "imgS1_A1C3_5  = cv2.imread(S1_doubleA1C3_5)\n",
        "S1RGB_imgA1C3_5= cv2.cvtColor(imgS1_A1C3_5, cv2.COLOR_BGR2RGB)"
      ],
      "execution_count": 168,
      "outputs": []
    },
    {
      "cell_type": "code",
      "metadata": {
        "id": "77BGXH-zBeRU"
      },
      "source": [
        "imgS1_A1C4_5= cv2.imread(S1_doubleA1C4_5)\n",
        "S1RGB_imgA1C4_5= cv2.cvtColor(imgS1_A1C4_5, cv2.COLOR_BGR2RGB)"
      ],
      "execution_count": 169,
      "outputs": []
    },
    {
      "cell_type": "code",
      "metadata": {
        "id": "YOgaE0JMBeRU"
      },
      "source": [
        "imgS1_A1D2_5 = cv2.imread(S1_doubleA1D2_5)\n",
        "S1RGB_imgA1D2_5= cv2.cvtColor(imgS1_A1D2_5, cv2.COLOR_BGR2RGB)"
      ],
      "execution_count": 170,
      "outputs": []
    },
    {
      "cell_type": "code",
      "metadata": {
        "id": "2v6CAl8cBeRU"
      },
      "source": [
        "imgS1_A1D3_5  = cv2.imread(S1_doubleA1D3_5)\n",
        "S1RGB_imgA1D3_5= cv2.cvtColor(imgS1_A1D3_5, cv2.COLOR_BGR2RGB)"
      ],
      "execution_count": 171,
      "outputs": []
    },
    {
      "cell_type": "code",
      "metadata": {
        "id": "hk4wNYyhBeRU"
      },
      "source": [
        "imgS1_A1D4_5  = cv2.imread(S1_doubleA1D4_5)\n",
        "S1RGB_imgA1D4_5= cv2.cvtColor(imgS1_A1D4_5, cv2.COLOR_BGR2RGB)"
      ],
      "execution_count": 172,
      "outputs": []
    },
    {
      "cell_type": "markdown",
      "metadata": {
        "id": "4XyCaNz1YAzf"
      },
      "source": [
        "#4. ฺBGR TO HSV"
      ]
    },
    {
      "cell_type": "markdown",
      "metadata": {
        "id": "1H0qQCcKOTUC"
      },
      "source": [
        "##Set1"
      ]
    },
    {
      "cell_type": "code",
      "metadata": {
        "id": "V7LoW4sLYP0V",
        "colab": {
          "base_uri": "https://localhost:8080/",
          "height": 0
        },
        "outputId": "0da5a4ab-cffd-4776-c346-1933d9bd15bb"
      },
      "source": [
        "S1_A1A1_1img  = cv2.imread(S1_doubleA1A1_1)\n",
        "S1HSV_imgA1A1_1= cv2.cvtColor(S1_A1A1_1img, cv2.COLOR_BGR2HSV)\n",
        "plt.imshow(S1HSV_imgA1A1_1)"
      ],
      "execution_count": 173,
      "outputs": [
        {
          "output_type": "execute_result",
          "data": {
            "text/plain": [
              "<matplotlib.image.AxesImage at 0x7fb815169650>"
            ]
          },
          "metadata": {},
          "execution_count": 173
        },
        {
          "output_type": "display_data",
          "data": {
            "image/png": "[encoded data removed]",
            "text/plain": [
              "<Figure size 432x288 with 1 Axes>"
            ]
          },
          "metadata": {
            "needs_background": "light"
          }
        }
      ]
    },
    {
      "cell_type": "code",
      "metadata": {
        "id": "se8UQIFwnL8I"
      },
      "source": [
        "S1_A1A2_1img  = cv2.imread(S1_doubleA1A2_1)\n",
        "S1HSV_imgA1A2_1= cv2.cvtColor(S1_A1A2_1img, cv2.COLOR_BGR2HSV)"
      ],
      "execution_count": 174,
      "outputs": []
    },
    {
      "cell_type": "code",
      "metadata": {
        "id": "NlS3nnjpnMIQ"
      },
      "source": [
        "S1_A1A3_1img  = cv2.imread(S1_doubleA1A3_1)\n",
        "S1HSV_imgA1A3_1= cv2.cvtColor(S1_A1A3_1img, cv2.COLOR_BGR2HSV)"
      ],
      "execution_count": 175,
      "outputs": []
    },
    {
      "cell_type": "code",
      "metadata": {
        "id": "gaiV37Atm-qM"
      },
      "source": [
        "S1_A1A3_51img  = cv2.imread(S1_doubleA1A3_51)\n",
        "S1HSV_imgA1A3_51= cv2.cvtColor(S1_A1A3_51img, cv2.COLOR_BGR2HSV)"
      ],
      "execution_count": 176,
      "outputs": []
    },
    {
      "cell_type": "code",
      "metadata": {
        "id": "b3l1xgJWm-r6"
      },
      "source": [
        "S1_A1A4_1img  = cv2.imread(S1_doubleA1A4_1)\n",
        "S1HSV_imgA1A4_1= cv2.cvtColor(S1_A1A4_1img, cv2.COLOR_BGR2HSV)"
      ],
      "execution_count": 177,
      "outputs": []
    },
    {
      "cell_type": "code",
      "metadata": {
        "id": "w26dE2E2m-ui"
      },
      "source": [
        "S1_A1B1_1img  = cv2.imread(S1_doubleA1B1_1)\n",
        "S1HSV_imgA1B1_1= cv2.cvtColor(S1_A1B1_1img, cv2.COLOR_BGR2HSV)"
      ],
      "execution_count": 178,
      "outputs": []
    },
    {
      "cell_type": "code",
      "metadata": {
        "id": "qq4hEemVm-wd"
      },
      "source": [
        "S1_A1B2_1img  = cv2.imread(S1_doubleA1B2_1)\n",
        "S1HSV_imgA1B2_1= cv2.cvtColor(S1_A1B2_1img, cv2.COLOR_BGR2HSV)"
      ],
      "execution_count": 179,
      "outputs": []
    },
    {
      "cell_type": "code",
      "metadata": {
        "id": "9TyEGSZmp7wg"
      },
      "source": [
        "S1_A1B3_1img  = cv2.imread(S1_doubleA1B3_1)\n",
        "S1HSV_imgA1B3_1= cv2.cvtColor(S1_A1B3_1img, cv2.COLOR_BGR2HSV)"
      ],
      "execution_count": 180,
      "outputs": []
    },
    {
      "cell_type": "code",
      "metadata": {
        "id": "8fg70FdZm-0y"
      },
      "source": [
        "S1_A1B4_1img  = cv2.imread(S1_doubleA1B4_1)\n",
        "S1HSV_imgA1B4_1= cv2.cvtColor(S1_A1B4_1img, cv2.COLOR_BGR2HSV)"
      ],
      "execution_count": 181,
      "outputs": []
    },
    {
      "cell_type": "code",
      "metadata": {
        "id": "86KJ5WjYqLAs"
      },
      "source": [
        "S1_A1C1_1img  = cv2.imread(S1_doubleA1C1_1)\n",
        "S1HSV_imgA1C1_1= cv2.cvtColor(S1_A1C1_1img, cv2.COLOR_BGR2HSV)"
      ],
      "execution_count": 182,
      "outputs": []
    },
    {
      "cell_type": "code",
      "metadata": {
        "id": "4o2oKmb-qLDu"
      },
      "source": [
        "S1_A1C2_1img  = cv2.imread(S1_doubleA1C2_1)\n",
        "S1HSV_imgA1C2_1= cv2.cvtColor(S1_A1C2_1img, cv2.COLOR_BGR2HSV)"
      ],
      "execution_count": 183,
      "outputs": []
    },
    {
      "cell_type": "code",
      "metadata": {
        "id": "0pGWlEU1qLHp"
      },
      "source": [
        "S1_A1C3_1img  = cv2.imread(S1_doubleA1C3_1)\n",
        "S1HSV_imgA1C3_1= cv2.cvtColor(S1_A1C3_1img, cv2.COLOR_BGR2HSV)"
      ],
      "execution_count": 184,
      "outputs": []
    },
    {
      "cell_type": "code",
      "metadata": {
        "id": "IZQIfJ4iqLKb"
      },
      "source": [
        "S1_A1C4_1img  = cv2.imread(S1_doubleA1C4_1)\n",
        "S1HSV_imgA1C4_1= cv2.cvtColor(S1_A1C4_1img, cv2.COLOR_BGR2HSV)"
      ],
      "execution_count": 185,
      "outputs": []
    },
    {
      "cell_type": "code",
      "metadata": {
        "id": "k_K9BBJpqLOi"
      },
      "source": [
        "S1_A1D2_1img  = cv2.imread(S1_doubleA1D2_1)\n",
        "S1HSV_imgA1D2_1= cv2.cvtColor(S1_A1D2_1img, cv2.COLOR_BGR2HSV)"
      ],
      "execution_count": 186,
      "outputs": []
    },
    {
      "cell_type": "code",
      "metadata": {
        "id": "v6YEm_v5quL_"
      },
      "source": [
        "S1_A1D3_1img  = cv2.imread(S1_doubleA1D3_1)\n",
        "S1HSV_imgA1D3_1= cv2.cvtColor(S1_A1D3_1img, cv2.COLOR_BGR2HSV)"
      ],
      "execution_count": 187,
      "outputs": []
    },
    {
      "cell_type": "code",
      "metadata": {
        "id": "SMvBLdQxm-3f"
      },
      "source": [
        "S1_A1D4_1img  = cv2.imread(S1_doubleA1D4_1)\n",
        "S1HSV_imgA1D4_1= cv2.cvtColor(S1_A1D4_1img, cv2.COLOR_BGR2HSV)"
      ],
      "execution_count": 188,
      "outputs": []
    },
    {
      "cell_type": "markdown",
      "metadata": {
        "id": "qObWjRD83Rd-"
      },
      "source": [
        "###Img 2"
      ]
    },
    {
      "cell_type": "code",
      "metadata": {
        "id": "OoihHNQe3ReA"
      },
      "source": [
        "S1_A1A1_2img  = cv2.imread(S1_doubleA1A1_2)\n",
        "S1HSV_imgA1A1_2= cv2.cvtColor(S1_A1A1_2img, cv2.COLOR_BGR2HSV)"
      ],
      "execution_count": 189,
      "outputs": []
    },
    {
      "cell_type": "code",
      "metadata": {
        "id": "F1TsjfTZ3ReC"
      },
      "source": [
        "S1_A1A2_2img  = cv2.imread(S1_doubleA1A2_2)\n",
        "S1HSV_imgA1A2_2= cv2.cvtColor(S1_A1A2_2img, cv2.COLOR_BGR2HSV)"
      ],
      "execution_count": 190,
      "outputs": []
    },
    {
      "cell_type": "code",
      "metadata": {
        "id": "ZYGZB2C73ReE"
      },
      "source": [
        "S1_A1A3_2img  = cv2.imread(S1_doubleA1A3_2)\n",
        "S1HSV_imgA1A3_2= cv2.cvtColor(S1_A1A3_2img, cv2.COLOR_BGR2HSV)"
      ],
      "execution_count": 191,
      "outputs": []
    },
    {
      "cell_type": "code",
      "metadata": {
        "id": "ec2o9E_D3ReF"
      },
      "source": [
        "S1_A1A3_52img  = cv2.imread(S1_doubleA1A3_52)\n",
        "S1HSV_imgA1A3_52= cv2.cvtColor(S1_A1A3_52img, cv2.COLOR_BGR2HSV)"
      ],
      "execution_count": 192,
      "outputs": []
    },
    {
      "cell_type": "code",
      "metadata": {
        "id": "5B0KlpML3ReG"
      },
      "source": [
        "S1_A1A4_2img  = cv2.imread(S1_doubleA1A4_2)\n",
        "S1HSV_imgA1A4_2= cv2.cvtColor(S1_A1A4_2img, cv2.COLOR_BGR2HSV)"
      ],
      "execution_count": 193,
      "outputs": []
    },
    {
      "cell_type": "code",
      "metadata": {
        "id": "VxlQM87C3ReI"
      },
      "source": [
        "S1_A1B1_2img  = cv2.imread(S1_doubleA1B1_2)\n",
        "S1HSV_imgA1B1_2= cv2.cvtColor(S1_A1B1_2img, cv2.COLOR_BGR2HSV)"
      ],
      "execution_count": 194,
      "outputs": []
    },
    {
      "cell_type": "code",
      "metadata": {
        "id": "zDvA_m3D3ReJ"
      },
      "source": [
        "S1_A1B2_2img  = cv2.imread(S1_doubleA1B2_2)\n",
        "S1HSV_imgA1B2_2= cv2.cvtColor(S1_A1B2_2img, cv2.COLOR_BGR2HSV)"
      ],
      "execution_count": 195,
      "outputs": []
    },
    {
      "cell_type": "code",
      "metadata": {
        "id": "HunSHsYL3ReJ"
      },
      "source": [
        "S1_A1B3_2img  = cv2.imread(S1_doubleA1B3_2)\n",
        "S1HSV_imgA1B3_2= cv2.cvtColor(S1_A1B3_2img, cv2.COLOR_BGR2HSV)"
      ],
      "execution_count": 196,
      "outputs": []
    },
    {
      "cell_type": "code",
      "metadata": {
        "id": "sQ10cu6F3ReK"
      },
      "source": [
        "S1_A1B4_2img  = cv2.imread(S1_doubleA1B4_2)\n",
        "S1HSV_imgA1B4_2= cv2.cvtColor(S1_A1B4_2img, cv2.COLOR_BGR2HSV)"
      ],
      "execution_count": 197,
      "outputs": []
    },
    {
      "cell_type": "code",
      "metadata": {
        "id": "0L_Ye0L53ReK"
      },
      "source": [
        "S1_A1C1_2img  = cv2.imread(S1_doubleA1C1_2)\n",
        "S1HSV_imgA1C1_2= cv2.cvtColor(S1_A1C1_2img, cv2.COLOR_BGR2HSV)"
      ],
      "execution_count": 198,
      "outputs": []
    },
    {
      "cell_type": "code",
      "metadata": {
        "id": "lkkb5qPC3ReL"
      },
      "source": [
        "S1_A1C2_2img  = cv2.imread(S1_doubleA1C2_2)\n",
        "S1HSV_imgA1C2_2= cv2.cvtColor(S1_A1C2_2img, cv2.COLOR_BGR2HSV)"
      ],
      "execution_count": 199,
      "outputs": []
    },
    {
      "cell_type": "code",
      "metadata": {
        "id": "5njJuwFU3ReL"
      },
      "source": [
        "S1_A1C3_2img  = cv2.imread(S1_doubleA1C3_2)\n",
        "S1HSV_imgA1C3_2= cv2.cvtColor(S1_A1C3_2img, cv2.COLOR_BGR2HSV)"
      ],
      "execution_count": 200,
      "outputs": []
    },
    {
      "cell_type": "code",
      "metadata": {
        "id": "MK4Q2h7r3ReM"
      },
      "source": [
        "S1_A1C4_2img  = cv2.imread(S1_doubleA1C4_2)\n",
        "S1HSV_imgA1C4_2= cv2.cvtColor(S1_A1C4_2img, cv2.COLOR_BGR2HSV)"
      ],
      "execution_count": 201,
      "outputs": []
    },
    {
      "cell_type": "code",
      "metadata": {
        "id": "NU2-pD7A3ReN"
      },
      "source": [
        "S1_A1D2_2img  = cv2.imread(S1_doubleA1D2_2)\n",
        "S1HSV_imgA1D2_2= cv2.cvtColor(S1_A1D2_2img, cv2.COLOR_BGR2HSV)"
      ],
      "execution_count": 202,
      "outputs": []
    },
    {
      "cell_type": "code",
      "metadata": {
        "id": "3oqaBClV3ReO"
      },
      "source": [
        "S1_A1D3_2img  = cv2.imread(S1_doubleA1D3_2)\n",
        "S1HSV_imgA1D3_2= cv2.cvtColor(S1_A1D3_2img, cv2.COLOR_BGR2HSV)"
      ],
      "execution_count": 203,
      "outputs": []
    },
    {
      "cell_type": "code",
      "metadata": {
        "id": "BMzs70573ReO"
      },
      "source": [
        "S1_A1D4_2img  = cv2.imread(S1_doubleA1D4_2)\n",
        "S1HSV_imgA1D4_2= cv2.cvtColor(S1_A1D4_2img, cv2.COLOR_BGR2HSV)"
      ],
      "execution_count": 204,
      "outputs": []
    },
    {
      "cell_type": "markdown",
      "metadata": {
        "id": "bFUmz21i_tVm"
      },
      "source": [
        "###Img 3"
      ]
    },
    {
      "cell_type": "code",
      "metadata": {
        "id": "oGky0MDF_tVm"
      },
      "source": [
        "S1_A1A1_3img  = cv2.imread(S1_doubleA1A1_3)\n",
        "S1HSV_imgA1A1_3= cv2.cvtColor(S1_A1A1_3img, cv2.COLOR_BGR2HSV)"
      ],
      "execution_count": 205,
      "outputs": []
    },
    {
      "cell_type": "code",
      "metadata": {
        "id": "kVW8ETpP_tVn"
      },
      "source": [
        "S1_A1A2_3img  = cv2.imread(S1_doubleA1A2_3)\n",
        "S1HSV_imgA1A2_3= cv2.cvtColor(S1_A1A2_3img, cv2.COLOR_BGR2HSV)"
      ],
      "execution_count": 206,
      "outputs": []
    },
    {
      "cell_type": "code",
      "metadata": {
        "id": "_GpoJFcy_tVn"
      },
      "source": [
        "S1_A1A3_3img  = cv2.imread(S1_doubleA1A3_3)\n",
        "S1HSV_imgA1A3_3= cv2.cvtColor(S1_A1A3_3img, cv2.COLOR_BGR2HSV)"
      ],
      "execution_count": 207,
      "outputs": []
    },
    {
      "cell_type": "code",
      "metadata": {
        "id": "e75LT_fq_tVo"
      },
      "source": [
        "S1_A1A3_53img  = cv2.imread(S1_doubleA1A3_53)\n",
        "S1HSV_imgA1A3_53= cv2.cvtColor(S1_A1A3_53img, cv2.COLOR_BGR2HSV)"
      ],
      "execution_count": 208,
      "outputs": []
    },
    {
      "cell_type": "code",
      "metadata": {
        "id": "e0dWinlE_tVp"
      },
      "source": [
        "S1_A1A4_3img  = cv2.imread(S1_doubleA1A4_3)\n",
        "S1HSV_imgA1A4_3= cv2.cvtColor(S1_A1A4_3img, cv2.COLOR_BGR2HSV)"
      ],
      "execution_count": 209,
      "outputs": []
    },
    {
      "cell_type": "code",
      "metadata": {
        "id": "1qUpWuoD_tVq"
      },
      "source": [
        "S1_A1B1_3img  = cv2.imread(S1_doubleA1B1_3)\n",
        "S1HSV_imgA1B1_3= cv2.cvtColor(S1_A1B1_3img, cv2.COLOR_BGR2HSV)"
      ],
      "execution_count": 210,
      "outputs": []
    },
    {
      "cell_type": "code",
      "metadata": {
        "id": "meA5JBPl_tVq"
      },
      "source": [
        "S1_A1B2_3img  = cv2.imread(S1_doubleA1B2_3)\n",
        "S1HSV_imgA1B2_3= cv2.cvtColor(S1_A1B2_3img, cv2.COLOR_BGR2HSV)"
      ],
      "execution_count": 211,
      "outputs": []
    },
    {
      "cell_type": "code",
      "metadata": {
        "id": "B_qHavHx_tVr"
      },
      "source": [
        "S1_A1B3_3img  = cv2.imread(S1_doubleA1B3_3)\n",
        "S1HSV_imgA1B3_3= cv2.cvtColor(S1_A1B3_3img, cv2.COLOR_BGR2HSV)"
      ],
      "execution_count": 212,
      "outputs": []
    },
    {
      "cell_type": "code",
      "metadata": {
        "id": "EnJTqOB5_tVr"
      },
      "source": [
        "S1_A1B4_3img  = cv2.imread(S1_doubleA1B4_3)\n",
        "S1HSV_imgA1B4_3= cv2.cvtColor(S1_A1B4_3img, cv2.COLOR_BGR2HSV)"
      ],
      "execution_count": 213,
      "outputs": []
    },
    {
      "cell_type": "code",
      "metadata": {
        "id": "EyglWL31_tVr"
      },
      "source": [
        "S1_A1C1_3img  = cv2.imread(S1_doubleA1C1_3)\n",
        "S1HSV_imgA1C1_3= cv2.cvtColor(S1_A1C1_3img, cv2.COLOR_BGR2HSV)"
      ],
      "execution_count": 214,
      "outputs": []
    },
    {
      "cell_type": "code",
      "metadata": {
        "id": "mkeSyWjy_tVs"
      },
      "source": [
        "S1_A1C2_3img  = cv2.imread(S1_doubleA1C2_3)\n",
        "S1HSV_imgA1C2_3= cv2.cvtColor(S1_A1C2_3img, cv2.COLOR_BGR2HSV)"
      ],
      "execution_count": 215,
      "outputs": []
    },
    {
      "cell_type": "code",
      "metadata": {
        "id": "H3Pcx5LX_tVs"
      },
      "source": [
        "S1_A1C3_3img  = cv2.imread(S1_doubleA1C3_3)\n",
        "S1HSV_imgA1C3_3= cv2.cvtColor(S1_A1C3_3img, cv2.COLOR_BGR2HSV)"
      ],
      "execution_count": 216,
      "outputs": []
    },
    {
      "cell_type": "code",
      "metadata": {
        "id": "ArQb5moQ_tVs"
      },
      "source": [
        "S1_A1C4_3img  = cv2.imread(S1_doubleA1C4_3)\n",
        "S1HSV_imgA1C4_3= cv2.cvtColor(S1_A1C4_3img, cv2.COLOR_BGR2HSV)"
      ],
      "execution_count": 217,
      "outputs": []
    },
    {
      "cell_type": "code",
      "metadata": {
        "id": "_TMKeA90_tVt"
      },
      "source": [
        "S1_A1D2_3img  = cv2.imread(S1_doubleA1D2_3)\n",
        "S1HSV_imgA1D2_3= cv2.cvtColor(S1_A1D2_3img, cv2.COLOR_BGR2HSV)"
      ],
      "execution_count": 218,
      "outputs": []
    },
    {
      "cell_type": "code",
      "metadata": {
        "id": "_BwtlVjY_tVt"
      },
      "source": [
        "S1_A1D3_3img  = cv2.imread(S1_doubleA1D3_3)\n",
        "S1HSV_imgA1D3_3= cv2.cvtColor(S1_A1D3_3img, cv2.COLOR_BGR2HSV)"
      ],
      "execution_count": 219,
      "outputs": []
    },
    {
      "cell_type": "code",
      "metadata": {
        "id": "edUZFY5S_tVt"
      },
      "source": [
        "S1_A1D4_3img  = cv2.imread(S1_doubleA1D4_3)\n",
        "S1HSV_imgA1D4_3= cv2.cvtColor(S1_A1D4_3img, cv2.COLOR_BGR2HSV)"
      ],
      "execution_count": 220,
      "outputs": []
    },
    {
      "cell_type": "markdown",
      "metadata": {
        "id": "bCeJwUQR_zU1"
      },
      "source": [
        "###Img 4"
      ]
    },
    {
      "cell_type": "code",
      "metadata": {
        "id": "0mzTwWTX_zU2"
      },
      "source": [
        "S1_A1A1_4img  = cv2.imread(S1_doubleA1A1_4)\n",
        "S1HSV_imgA1A1_4= cv2.cvtColor(S1_A1A1_4img, cv2.COLOR_BGR2HSV)"
      ],
      "execution_count": 221,
      "outputs": []
    },
    {
      "cell_type": "code",
      "metadata": {
        "id": "6blZkJm8_zU2"
      },
      "source": [
        "S1_A1A2_4img  = cv2.imread(S1_doubleA1A2_4)\n",
        "S1HSV_imgA1A2_4= cv2.cvtColor(S1_A1A2_4img, cv2.COLOR_BGR2HSV)"
      ],
      "execution_count": 222,
      "outputs": []
    },
    {
      "cell_type": "code",
      "metadata": {
        "id": "zPHIaWr2_zU3"
      },
      "source": [
        "S1_A1A3_4img  = cv2.imread(S1_doubleA1A3_4)\n",
        "S1HSV_imgA1A3_4= cv2.cvtColor(S1_A1A3_4img, cv2.COLOR_BGR2HSV)"
      ],
      "execution_count": 223,
      "outputs": []
    },
    {
      "cell_type": "code",
      "metadata": {
        "id": "CAwV3DKZ_zU3"
      },
      "source": [
        "S1_A1A3_54img  = cv2.imread(S1_doubleA1A3_54)\n",
        "S1HSV_imgA1A3_54= cv2.cvtColor(S1_A1A3_54img, cv2.COLOR_BGR2HSV)"
      ],
      "execution_count": 224,
      "outputs": []
    },
    {
      "cell_type": "code",
      "metadata": {
        "id": "WCxIMq5D_zU3"
      },
      "source": [
        "S1_A1A4_4img  = cv2.imread(S1_doubleA1A4_4)\n",
        "S1HSV_imgA1A4_4= cv2.cvtColor(S1_A1A4_4img, cv2.COLOR_BGR2HSV)"
      ],
      "execution_count": 225,
      "outputs": []
    },
    {
      "cell_type": "code",
      "metadata": {
        "id": "cb0Mhi6D_zU4"
      },
      "source": [
        "S1_A1B1_4img  = cv2.imread(S1_doubleA1B1_4)\n",
        "S1HSV_imgA1B1_4= cv2.cvtColor(S1_A1B1_4img, cv2.COLOR_BGR2HSV)"
      ],
      "execution_count": 226,
      "outputs": []
    },
    {
      "cell_type": "code",
      "metadata": {
        "id": "UYkb3N_J_zU4"
      },
      "source": [
        "S1_A1B2_4img  = cv2.imread(S1_doubleA1B2_4)\n",
        "S1HSV_imgA1B2_4= cv2.cvtColor(S1_A1B2_4img, cv2.COLOR_BGR2HSV)"
      ],
      "execution_count": 227,
      "outputs": []
    },
    {
      "cell_type": "code",
      "metadata": {
        "id": "PWF1Qswt_zU4"
      },
      "source": [
        "S1_A1B3_4img  = cv2.imread(S1_doubleA1B3_4)\n",
        "S1HSV_imgA1B3_4= cv2.cvtColor(S1_A1B3_4img, cv2.COLOR_BGR2HSV)"
      ],
      "execution_count": 228,
      "outputs": []
    },
    {
      "cell_type": "code",
      "metadata": {
        "id": "4ZQEpdt1_zU5"
      },
      "source": [
        "S1_A1B4_4img  = cv2.imread(S1_doubleA1B4_4)\n",
        "S1HSV_imgA1B4_4= cv2.cvtColor(S1_A1B4_4img, cv2.COLOR_BGR2HSV)"
      ],
      "execution_count": 229,
      "outputs": []
    },
    {
      "cell_type": "code",
      "metadata": {
        "id": "85st5FU-_zU5"
      },
      "source": [
        "S1_A1C1_4img  = cv2.imread(S1_doubleA1C1_4)\n",
        "S1HSV_imgA1C1_4= cv2.cvtColor(S1_A1C1_4img, cv2.COLOR_BGR2HSV)"
      ],
      "execution_count": 230,
      "outputs": []
    },
    {
      "cell_type": "code",
      "metadata": {
        "id": "U8fukE7G_zU5"
      },
      "source": [
        "S1_A1C2_4img  = cv2.imread(S1_doubleA1C2_4)\n",
        "S1HSV_imgA1C2_4= cv2.cvtColor(S1_A1C2_4img, cv2.COLOR_BGR2HSV)"
      ],
      "execution_count": 231,
      "outputs": []
    },
    {
      "cell_type": "code",
      "metadata": {
        "id": "fx2kDBf2_zU6"
      },
      "source": [
        "S1_A1C3_4img  = cv2.imread(S1_doubleA1C3_4)\n",
        "S1HSV_imgA1C3_4= cv2.cvtColor(S1_A1C3_4img, cv2.COLOR_BGR2HSV)"
      ],
      "execution_count": 232,
      "outputs": []
    },
    {
      "cell_type": "code",
      "metadata": {
        "id": "WjtAiEiC_zU6"
      },
      "source": [
        "S1_A1C4_4img  = cv2.imread(S1_doubleA1C4_4)\n",
        "S1HSV_imgA1C4_4= cv2.cvtColor(S1_A1C4_4img, cv2.COLOR_BGR2HSV)"
      ],
      "execution_count": 233,
      "outputs": []
    },
    {
      "cell_type": "code",
      "metadata": {
        "id": "o-VgPVUg_zU6"
      },
      "source": [
        "S1_A1D2_4img  = cv2.imread(S1_doubleA1D2_4)\n",
        "S1HSV_imgA1D2_4= cv2.cvtColor(S1_A1D2_4img, cv2.COLOR_BGR2HSV)"
      ],
      "execution_count": 234,
      "outputs": []
    },
    {
      "cell_type": "code",
      "metadata": {
        "id": "4-7w5-tx_zU6"
      },
      "source": [
        "S1_A1D3_4img  = cv2.imread(S1_doubleA1D3_4)\n",
        "S1HSV_imgA1D3_4= cv2.cvtColor(S1_A1D3_4img, cv2.COLOR_BGR2HSV)"
      ],
      "execution_count": 235,
      "outputs": []
    },
    {
      "cell_type": "code",
      "metadata": {
        "id": "aemCfVov_zU7"
      },
      "source": [
        "S1_A1D4_4img  = cv2.imread(S1_doubleA1D4_4)\n",
        "S1HSV_imgA1D4_4= cv2.cvtColor(S1_A1D4_4img, cv2.COLOR_BGR2HSV)"
      ],
      "execution_count": 236,
      "outputs": []
    },
    {
      "cell_type": "markdown",
      "metadata": {
        "id": "JRh83G00_5TI"
      },
      "source": [
        "###Img 5"
      ]
    },
    {
      "cell_type": "code",
      "metadata": {
        "id": "EI4kO2ML_5TI"
      },
      "source": [
        "S1_A1A1_5img  = cv2.imread(S1_doubleA1A1_5)\n",
        "S1HSV_imgA1A1_5= cv2.cvtColor(S1_A1A1_5img, cv2.COLOR_BGR2HSV)"
      ],
      "execution_count": 237,
      "outputs": []
    },
    {
      "cell_type": "code",
      "metadata": {
        "id": "9e_swaP-_5TJ"
      },
      "source": [
        "S1_A1A2_5img  = cv2.imread(S1_doubleA1A2_5)\n",
        "S1HSV_imgA1A2_5= cv2.cvtColor(S1_A1A2_5img, cv2.COLOR_BGR2HSV)"
      ],
      "execution_count": 238,
      "outputs": []
    },
    {
      "cell_type": "code",
      "metadata": {
        "id": "PBfkKmvU_5TJ"
      },
      "source": [
        "S1_A1A3_5img  = cv2.imread(S1_doubleA1A3_5)\n",
        "S1HSV_imgA1A3_5= cv2.cvtColor(S1_A1A3_5img, cv2.COLOR_BGR2HSV)"
      ],
      "execution_count": 239,
      "outputs": []
    },
    {
      "cell_type": "code",
      "metadata": {
        "id": "DfP5_2UW_5TK"
      },
      "source": [
        "S1_A1A3_55img  = cv2.imread(S1_doubleA1A3_55)\n",
        "S1HSV_imgA1A3_55= cv2.cvtColor(S1_A1A3_55img, cv2.COLOR_BGR2HSV)"
      ],
      "execution_count": 240,
      "outputs": []
    },
    {
      "cell_type": "code",
      "metadata": {
        "id": "SY2Hj0OS_5TK"
      },
      "source": [
        "S1_A1A4_5img  = cv2.imread(S1_doubleA1A4_5)\n",
        "S1HSV_imgA1A4_5= cv2.cvtColor(S1_A1A4_5img, cv2.COLOR_BGR2HSV)"
      ],
      "execution_count": 241,
      "outputs": []
    },
    {
      "cell_type": "code",
      "metadata": {
        "id": "bkfZsrP5_5TL"
      },
      "source": [
        "S1_A1B1_5img  = cv2.imread(S1_doubleA1B1_5)\n",
        "S1HSV_imgA1B1_5= cv2.cvtColor(S1_A1B1_5img, cv2.COLOR_BGR2HSV)"
      ],
      "execution_count": 242,
      "outputs": []
    },
    {
      "cell_type": "code",
      "metadata": {
        "id": "FoTDYBTz_5TM"
      },
      "source": [
        "S1_A1B2_5img  = cv2.imread(S1_doubleA1B2_5)\n",
        "S1HSV_imgA1B2_5= cv2.cvtColor(S1_A1B2_5img, cv2.COLOR_BGR2HSV)"
      ],
      "execution_count": 243,
      "outputs": []
    },
    {
      "cell_type": "code",
      "metadata": {
        "id": "QBOZ1myT_5TM"
      },
      "source": [
        "S1_A1B3_5img  = cv2.imread(S1_doubleA1B3_5)\n",
        "S1HSV_imgA1B3_5= cv2.cvtColor(S1_A1B3_5img, cv2.COLOR_BGR2HSV)"
      ],
      "execution_count": 244,
      "outputs": []
    },
    {
      "cell_type": "code",
      "metadata": {
        "id": "65Ik0ZPe_5TM"
      },
      "source": [
        "S1_A1B4_5img  = cv2.imread(S1_doubleA1B4_5)\n",
        "S1HSV_imgA1B4_5= cv2.cvtColor(S1_A1B4_5img, cv2.COLOR_BGR2HSV)"
      ],
      "execution_count": 245,
      "outputs": []
    },
    {
      "cell_type": "code",
      "metadata": {
        "id": "tmNDq9mH_5TN"
      },
      "source": [
        "S1_A1C1_5img  = cv2.imread(S1_doubleA1C1_5)\n",
        "S1HSV_imgA1C1_5= cv2.cvtColor(S1_A1C1_5img, cv2.COLOR_BGR2HSV)"
      ],
      "execution_count": 246,
      "outputs": []
    },
    {
      "cell_type": "code",
      "metadata": {
        "id": "eZvyCP7A_5TN"
      },
      "source": [
        "S1_A1C2_5img  = cv2.imread(S1_doubleA1C2_5)\n",
        "S1HSV_imgA1C2_5= cv2.cvtColor(S1_A1C2_5img, cv2.COLOR_BGR2HSV)"
      ],
      "execution_count": 247,
      "outputs": []
    },
    {
      "cell_type": "code",
      "metadata": {
        "id": "PgDtJXeJ_5TN"
      },
      "source": [
        "S1_A1C3_5img  = cv2.imread(S1_doubleA1C3_5)\n",
        "S1HSV_imgA1C3_5= cv2.cvtColor(S1_A1C3_5img, cv2.COLOR_BGR2HSV)"
      ],
      "execution_count": 248,
      "outputs": []
    },
    {
      "cell_type": "code",
      "metadata": {
        "id": "0dwc60so_5TO"
      },
      "source": [
        "S1_A1C4_5img  = cv2.imread(S1_doubleA1C4_5)\n",
        "S1HSV_imgA1C4_5= cv2.cvtColor(S1_A1C4_5img, cv2.COLOR_BGR2HSV)"
      ],
      "execution_count": 249,
      "outputs": []
    },
    {
      "cell_type": "code",
      "metadata": {
        "id": "9YWsk-xt_5TO"
      },
      "source": [
        "S1_A1D2_5img  = cv2.imread(S1_doubleA1D2_5)\n",
        "S1HSV_imgA1D2_5= cv2.cvtColor(S1_A1D2_5img, cv2.COLOR_BGR2HSV)"
      ],
      "execution_count": 250,
      "outputs": []
    },
    {
      "cell_type": "code",
      "metadata": {
        "id": "Qplcmya4_5TO"
      },
      "source": [
        "S1_A1D3_5img  = cv2.imread(S1_doubleA1D3_5)\n",
        "S1HSV_imgA1D3_5= cv2.cvtColor(S1_A1D3_5img, cv2.COLOR_BGR2HSV)"
      ],
      "execution_count": 251,
      "outputs": []
    },
    {
      "cell_type": "code",
      "metadata": {
        "id": "x6OKhhi6_5TO"
      },
      "source": [
        "S1_A1D4_5img  = cv2.imread(S1_doubleA1D4_5)\n",
        "S1HSV_imgA1D4_5= cv2.cvtColor(S1_A1D4_5img, cv2.COLOR_BGR2HSV)"
      ],
      "execution_count": 252,
      "outputs": []
    },
    {
      "cell_type": "markdown",
      "metadata": {
        "id": "7KPqBEcdIXnZ"
      },
      "source": [
        "#6. หาค่า Mean"
      ]
    },
    {
      "cell_type": "code",
      "metadata": {
        "id": "tePep_ujIfg2"
      },
      "source": [
        "import numpy as np"
      ],
      "execution_count": 253,
      "outputs": []
    },
    {
      "cell_type": "markdown",
      "metadata": {
        "id": "CkCYreCNIxic"
      },
      "source": [
        "##Set1"
      ]
    },
    {
      "cell_type": "markdown",
      "metadata": {
        "id": "98w4NYwsuHUG"
      },
      "source": [
        "###RGB"
      ]
    },
    {
      "cell_type": "code",
      "metadata": {
        "id": "VLEHrLHLItVX",
        "colab": {
          "base_uri": "https://localhost:8080/"
        },
        "outputId": "45055d54-90a9-4b0a-ebe4-1bd7164c4111"
      },
      "source": [
        "S1meanrefA1_1 = list()\n",
        "S1meanA1_2 = list()\n",
        "for i in range(S1RGB_imgA1A1_1.shape[0]): \n",
        "     for j in range(S1RGB_imgA1A1_1.shape[1]): \n",
        "                if 1769<i<1881 and 2019<j<2131 :\n",
        "                  S1meanrefA1_1.append(S1RGB_imgA1A1_1[i][j])\n",
        "                if 1770<i<1880 and 2015<j<2145 :\n",
        "                  S1meanA1_2.append(S1RGB_imgA1A1_1[i][j])  \n",
        "                if 1774<i<1881 and 2024<j<2131 :\n",
        "                  S1meanrefA1_1.append(S1RGB_imgA1A1_1[i][j])\n",
        "                if 1775<i<1880 and 2020<j<2145 :\n",
        "                  S1meanA1_2.append(S1RGB_imgA1A1_1[i][j])  \n",
        "S1meanrefA1_1 = np.array(S1meanrefA1_1)\n",
        "S1meanA1_2 = np.array(S1meanA1_2)\n",
        "\n",
        "S1rgbrefA1_1 = list()\n",
        "S1rgbA1_2 = list()\n",
        "for i in range(3):\n",
        "    S1rgbrefA1_1.append(S1meanrefA1_1[:,i].mean())\n",
        "    S1rgbA1_2.append(S1meanA1_2[:,i].mean())\n",
        "S1rgbrefA1_1,S1rgbA1_2 "
      ],
      "execution_count": 254,
      "outputs": [
        {
          "output_type": "execute_result",
          "data": {
            "text/plain": [
              "([223.25894638536317, 219.0940697032729, 173.01927240310735],\n",
              " [222.71139221723485, 218.46132729903178, 172.71847757539786])"
            ]
          },
          "metadata": {},
          "execution_count": 254
        }
      ]
    },
    {
      "cell_type": "code",
      "metadata": {
        "id": "TPULWoc0JT9L"
      },
      "source": [
        "S1meanrefA1_3 = list()\n",
        "S1meanA2_1 = list()\n",
        "for i in range(S1RGB_imgA1A2_1.shape[0]): \n",
        "     for j in range(S1RGB_imgA1A2_1.shape[1]): \n",
        "                if 1769<i<1881 and 2019<j<2131 :\n",
        "                  S1meanrefA1_3.append(S1RGB_imgA1A2_1[i][j])\n",
        "                if 1770<i<1880 and 2015<j<2145 :\n",
        "                  S1meanA2_1.append(S1RGB_imgA1A2_1[i][j])  \n",
        "S1meanrefA1_3 = np.array(S1meanrefA1_3)\n",
        "S1meanA2_1 = np.array(S1meanA2_1)\n",
        "\n",
        "S1rgbrefA1_3 = list()\n",
        "S1rgbA2_1 = list()\n",
        "for i in range(3):\n",
        "    S1rgbrefA1_3.append(S1meanrefA1_3[:,i].mean())\n",
        "    S1rgbA2_1.append(S1meanA2_1[:,i].mean())"
      ],
      "execution_count": 255,
      "outputs": []
    },
    {
      "cell_type": "code",
      "metadata": {
        "id": "jYWdd4U6Kl7f"
      },
      "source": [
        "S1meanrefA1_4 = list()\n",
        "S1meanA3_1 = list()\n",
        "for i in range(S1RGB_imgA1A3_1.shape[0]): \n",
        "     for j in range(S1RGB_imgA1A3_1.shape[1]): \n",
        "                if 1769<i<1881 and 2019<j<2131 :\n",
        "                  S1meanrefA1_4.append(S1RGB_imgA1A3_1[i][j])\n",
        "                if 1770<i<1880 and 2015<j<2145 :\n",
        "                  S1meanA3_1.append(S1RGB_imgA1A3_1[i][j])  \n",
        "S1meanrefA1_4 = np.array(S1meanrefA1_4)\n",
        "S1meanA3_1 = np.array(S1meanA3_1)\n",
        "\n",
        "S1rgbrefA1_4 = list()\n",
        "S1rgbA3_1 = list()\n",
        "for i in range(3):\n",
        "    S1rgbrefA1_4.append(S1meanrefA1_4[:,i].mean())\n",
        "    S1rgbA3_1.append(S1meanA3_1[:,i].mean())"
      ],
      "execution_count": 256,
      "outputs": []
    },
    {
      "cell_type": "code",
      "metadata": {
        "id": "OU2xD0SEK14J"
      },
      "source": [
        "S1meanrefA1_5 = list()\n",
        "S1meanA3_51 = list()\n",
        "for i in range(S1RGB_imgA1A3_51.shape[0]): \n",
        "     for j in range(S1RGB_imgA1A3_51.shape[1]): \n",
        "                if 1769<i<1881 and 2019<j<2131 :\n",
        "                  S1meanrefA1_5.append(S1RGB_imgA1A3_51[i][j])\n",
        "                if 1770<i<1880 and 2015<j<2145 :\n",
        "                  S1meanA3_51.append(S1RGB_imgA1A3_51[i][j])  \n",
        "S1meanrefA1_5 = np.array(S1meanrefA1_5)\n",
        "S1meanA3_51 = np.array(S1meanA3_51)\n",
        "\n",
        "S1rgbrefA1_5 = list()\n",
        "S1rgbA3_51 = list()\n",
        "for i in range(3):\n",
        "    S1rgbrefA1_5.append(S1meanrefA1_5[:,i].mean())\n",
        "    S1rgbA3_51.append(S1meanA3_51[:,i].mean())"
      ],
      "execution_count": 257,
      "outputs": []
    },
    {
      "cell_type": "code",
      "metadata": {
        "id": "vCXxutjOLEb5"
      },
      "source": [
        "S1meanrefA1_6 = list()\n",
        "S1meanA4_1 = list()\n",
        "for i in range(S1RGB_imgA1A4_1.shape[0]): \n",
        "     for j in range(S1RGB_imgA1A4_1.shape[1]): \n",
        "                if 1769<i<1881 and 2019<j<2131 :\n",
        "                  S1meanrefA1_6.append(S1RGB_imgA1A4_1[i][j])\n",
        "                if 1770<i<1880 and 2015<j<2145 :\n",
        "                  S1meanA4_1.append(S1RGB_imgA1A4_1[i][j])  \n",
        "S1meanrefA1_6 = np.array(S1meanrefA1_6)\n",
        "S1meanA4_1 = np.array(S1meanA4_1)\n",
        "\n",
        "S1rgbrefA1_6 = list()\n",
        "S1rgbA4_1 = list()\n",
        "for i in range(3):\n",
        "    S1rgbrefA1_6.append(S1meanrefA1_6[:,i].mean())\n",
        "    S1rgbA4_1.append(S1meanA4_1[:,i].mean())"
      ],
      "execution_count": 258,
      "outputs": []
    },
    {
      "cell_type": "code",
      "metadata": {
        "id": "Te2hqmb4LbG7"
      },
      "source": [
        "S1meanrefA1_7 = list()\n",
        "S1meanB1_1 = list()\n",
        "for i in range(S1RGB_imgA1B1_1.shape[0]): \n",
        "     for j in range(S1RGB_imgA1B1_1.shape[1]): \n",
        "                if 1769<i<1881 and 2019<j<2131 :\n",
        "                  S1meanrefA1_7.append(S1RGB_imgA1B1_1[i][j])\n",
        "                if 1770<i<1880 and 2015<j<2145 :\n",
        "                  S1meanB1_1.append(S1RGB_imgA1B1_1[i][j])  \n",
        "S1meanrefA1_7 = np.array(S1meanrefA1_7)\n",
        "S1meanB1_1 = np.array(S1meanB1_1)\n",
        "\n",
        "S1rgbrefA1_7 = list()\n",
        "S1rgbB1_1 = list()\n",
        "for i in range(3):\n",
        "    S1rgbrefA1_7.append(S1meanrefA1_7[:,i].mean())\n",
        "    S1rgbB1_1.append(S1meanB1_1[:,i].mean())"
      ],
      "execution_count": 259,
      "outputs": []
    },
    {
      "cell_type": "code",
      "metadata": {
        "id": "Q_VEx1q0LbG7"
      },
      "source": [
        "S1meanrefA1_8 = list()\n",
        "S1meanB2_1 = list()\n",
        "for i in range(S1RGB_imgA1B2_1.shape[0]): \n",
        "     for j in range(S1RGB_imgA1B2_1.shape[1]): \n",
        "                if 1769<i<1881 and 2019<j<2131 :\n",
        "                  S1meanrefA1_8.append(S1RGB_imgA1B2_1[i][j])\n",
        "                if 1770<i<1880 and 2015<j<2145 :\n",
        "                  S1meanB2_1.append(S1RGB_imgA1B2_1[i][j])  \n",
        "S1meanrefA1_8 = np.array(S1meanrefA1_8)\n",
        "S1meanB2_1 = np.array(S1meanB2_1)\n",
        "\n",
        "S1rgbrefA1_8 = list()\n",
        "S1rgbB2_1 = list()\n",
        "for i in range(3):\n",
        "    S1rgbrefA1_8.append(S1meanrefA1_8[:,i].mean())\n",
        "    S1rgbB2_1.append(S1meanB2_1[:,i].mean())"
      ],
      "execution_count": 260,
      "outputs": []
    },
    {
      "cell_type": "code",
      "metadata": {
        "id": "6h5EfHY1LbG7"
      },
      "source": [
        "S1meanrefA1_9 = list()\n",
        "S1meanB3_1 = list()\n",
        "for i in range(S1RGB_imgA1B3_1.shape[0]): \n",
        "     for j in range(S1RGB_imgA1B3_1.shape[1]): \n",
        "                if 1769<i<1881 and 2019<j<2131 :\n",
        "                  S1meanrefA1_9.append(S1RGB_imgA1B3_1[i][j])\n",
        "                if 1770<i<1880 and 2015<j<2145 :\n",
        "                  S1meanB3_1.append(S1RGB_imgA1B3_1[i][j])  \n",
        "S1meanrefA1_9 = np.array(S1meanrefA1_9)\n",
        "S1meanB3_1 = np.array(S1meanB3_1)\n",
        "\n",
        "S1rgbrefA1_9 = list()\n",
        "S1rgbB3_1 = list()\n",
        "for i in range(3):\n",
        "    S1rgbrefA1_9.append(S1meanrefA1_9[:,i].mean())\n",
        "    S1rgbB3_1.append(S1meanB3_1[:,i].mean())"
      ],
      "execution_count": 261,
      "outputs": []
    },
    {
      "cell_type": "code",
      "metadata": {
        "id": "TjKejQxXL9Xb"
      },
      "source": [
        "S1meanrefA1_10 = list()\n",
        "S1meanB4_1 = list()\n",
        "for i in range(S1RGB_imgA1B4_1.shape[0]): \n",
        "     for j in range(S1RGB_imgA1B4_1.shape[1]): \n",
        "                if 1769<i<1881 and 2019<j<2131 :\n",
        "                  S1meanrefA1_10.append(S1RGB_imgA1B4_1[i][j])\n",
        "                if 1770<i<1880 and 2015<j<2145 :\n",
        "                  S1meanB4_1.append(S1RGB_imgA1B4_1[i][j])  \n",
        "S1meanrefA1_10 = np.array(S1meanrefA1_10)\n",
        "S1meanB4_1 = np.array(S1meanB4_1)\n",
        "\n",
        "S1rgbrefA1_10 = list()\n",
        "S1rgbB4_1 = list()\n",
        "for i in range(3):\n",
        "    S1rgbrefA1_10.append(S1meanrefA1_10[:,i].mean())\n",
        "    S1rgbB4_1.append(S1meanB4_1[:,i].mean())"
      ],
      "execution_count": 262,
      "outputs": []
    },
    {
      "cell_type": "code",
      "metadata": {
        "id": "Y8X8SmoGMihg"
      },
      "source": [
        "S1meanrefA1_11 = list()\n",
        "S1meanC1_1 = list()\n",
        "for i in range(S1RGB_imgA1C1_1.shape[0]): \n",
        "     for j in range(S1RGB_imgA1C1_1.shape[1]): \n",
        "                if 1769<i<1881 and 2019<j<2131 :\n",
        "                  S1meanrefA1_11.append(S1RGB_imgA1C1_1[i][j])\n",
        "                if 1770<i<1880 and 2015<j<2145 :\n",
        "                  S1meanC1_1.append(S1RGB_imgA1C1_1[i][j])  \n",
        "S1meanrefA1_11 = np.array(S1meanrefA1_11)\n",
        "S1meanC1_1 = np.array(S1meanC1_1)\n",
        "\n",
        "S1rgbrefA1_11 = list()\n",
        "S1rgbC1_1 = list()\n",
        "for i in range(3):\n",
        "    S1rgbrefA1_11.append(S1meanrefA1_11[:,i].mean())\n",
        "    S1rgbC1_1.append(S1meanC1_1[:,i].mean())"
      ],
      "execution_count": 263,
      "outputs": []
    },
    {
      "cell_type": "code",
      "metadata": {
        "id": "Av_eHI6jMihg"
      },
      "source": [
        "S1meanrefA1_12 = list()\n",
        "S1meanC2_1 = list()\n",
        "for i in range(S1RGB_imgA1C2_1.shape[0]): \n",
        "     for j in range(S1RGB_imgA1C2_1.shape[1]): \n",
        "                if 1769<i<1881 and 2019<j<2131 :\n",
        "                  S1meanrefA1_12.append(S1RGB_imgA1C2_1[i][j])\n",
        "                if 1770<i<1880 and 2015<j<2145 :\n",
        "                  S1meanC2_1.append(S1RGB_imgA1C2_1[i][j])  \n",
        "S1meanrefA1_12 = np.array(S1meanrefA1_12)\n",
        "S1meanC2_1 = np.array(S1meanC2_1)\n",
        "\n",
        "S1rgbrefA1_12 = list()\n",
        "S1rgbC2_1 = list()\n",
        "for i in range(3):\n",
        "    S1rgbrefA1_12.append(S1meanrefA1_12[:,i].mean())\n",
        "    S1rgbC2_1.append(S1meanC2_1[:,i].mean())"
      ],
      "execution_count": 264,
      "outputs": []
    },
    {
      "cell_type": "code",
      "metadata": {
        "id": "lOvykBc7Mihg"
      },
      "source": [
        "S1meanrefA1_13 = list()\n",
        "S1meanC3_1 = list()\n",
        "for i in range(S1RGB_imgA1C3_1.shape[0]): \n",
        "     for j in range(S1RGB_imgA1C3_1.shape[1]): \n",
        "                if 1769<i<1881 and 2019<j<2131 :\n",
        "                  S1meanrefA1_13.append(S1RGB_imgA1C3_1[i][j])\n",
        "                if 1770<i<1880 and 2015<j<2145 :\n",
        "                  S1meanC3_1.append(S1RGB_imgA1C3_1[i][j])  \n",
        "S1meanrefA1_13 = np.array(S1meanrefA1_13)\n",
        "S1meanC3_1 = np.array(S1meanC3_1)\n",
        "\n",
        "S1rgbrefA1_13 = list()\n",
        "S1rgbC3_1 = list()\n",
        "for i in range(3):\n",
        "    S1rgbrefA1_13.append(S1meanrefA1_13[:,i].mean())\n",
        "    S1rgbC3_1.append(S1meanC3_1[:,i].mean())"
      ],
      "execution_count": 265,
      "outputs": []
    },
    {
      "cell_type": "code",
      "metadata": {
        "id": "YdNqiN2LMihg"
      },
      "source": [
        "S1meanrefA1_14 = list()\n",
        "S1meanC4_1 = list()\n",
        "for i in range(S1RGB_imgA1C4_1.shape[0]): \n",
        "     for j in range(S1RGB_imgA1C4_1.shape[1]): \n",
        "                if 1769<i<1881 and 2019<j<2131 :\n",
        "                  S1meanrefA1_14.append(S1RGB_imgA1C4_1[i][j])\n",
        "                if 1770<i<1880 and 2015<j<2145 :\n",
        "                  S1meanC4_1.append(S1RGB_imgA1C4_1[i][j])  \n",
        "S1meanrefA1_14 = np.array(S1meanrefA1_14)\n",
        "S1meanC4_1 = np.array(S1meanC4_1)\n",
        "\n",
        "S1rgbrefA1_14 = list()\n",
        "S1rgbC4_1 = list()\n",
        "for i in range(3):\n",
        "    S1rgbrefA1_14.append(S1meanrefA1_14[:,i].mean())\n",
        "    S1rgbC4_1.append(S1meanC4_1[:,i].mean())"
      ],
      "execution_count": 266,
      "outputs": []
    },
    {
      "cell_type": "code",
      "metadata": {
        "id": "U1oHIKdONm_p"
      },
      "source": [
        "S1meanrefA1_15 = list()\n",
        "S1meanD2_1 = list()\n",
        "for i in range(S1RGB_imgA1D2_1.shape[0]): \n",
        "     for j in range(S1RGB_imgA1D2_1.shape[1]): \n",
        "                if 1769<i<1881 and 2019<j<2131 :\n",
        "                  S1meanrefA1_15.append(S1RGB_imgA1D2_1[i][j])\n",
        "                if 1770<i<1880 and 2015<j<2145 :\n",
        "                  S1meanD2_1.append(S1RGB_imgA1D2_1[i][j])  \n",
        "S1meanrefA1_15 = np.array(S1meanrefA1_15)\n",
        "S1meanD2_1 = np.array(S1meanD2_1)\n",
        "\n",
        "S1rgbrefA1_15 = list()\n",
        "S1rgbD2_1 = list()\n",
        "for i in range(3):\n",
        "    S1rgbrefA1_15.append(S1meanrefA1_15[:,i].mean())\n",
        "    S1rgbD2_1.append(S1meanD2_1[:,i].mean())"
      ],
      "execution_count": 267,
      "outputs": []
    },
    {
      "cell_type": "code",
      "metadata": {
        "id": "_O71JLAONm_p"
      },
      "source": [
        "S1meanrefA1_16 = list()\n",
        "S1meanD3_1 = list()\n",
        "for i in range(S1RGB_imgA1D3_1.shape[0]): \n",
        "     for j in range(S1RGB_imgA1D3_1.shape[1]): \n",
        "                if 1769<i<1881 and 2019<j<2131 :\n",
        "                  S1meanrefA1_16.append(S1RGB_imgA1D3_1[i][j])\n",
        "                if 1770<i<1880 and 2015<j<2145 :\n",
        "                  S1meanD3_1.append(S1RGB_imgA1D3_1[i][j])  \n",
        "S1meanrefA1_16 = np.array(S1meanrefA1_16)\n",
        "S1meanD3_1 = np.array(S1meanD3_1)\n",
        "\n",
        "S1rgbrefA1_16 = list()\n",
        "S1rgbD3_1 = list()\n",
        "for i in range(3):\n",
        "    S1rgbrefA1_16.append(S1meanrefA1_16[:,i].mean())\n",
        "    S1rgbD3_1.append(S1meanD3_1[:,i].mean())"
      ],
      "execution_count": 268,
      "outputs": []
    },
    {
      "cell_type": "code",
      "metadata": {
        "id": "U29gI1aKNm_p"
      },
      "source": [
        "S1meanrefA1_17= list()\n",
        "S1meanD4_1 = list()\n",
        "for i in range(S1RGB_imgA1D4_1.shape[0]): \n",
        "     for j in range(S1RGB_imgA1D4_1.shape[1]): \n",
        "                if 1769<i<1881 and 2019<j<2131 :\n",
        "                  S1meanrefA1_17.append(S1RGB_imgA1D4_1[i][j])\n",
        "                if 1770<i<1880 and 2015<j<2145 :\n",
        "                  S1meanD4_1.append(S1RGB_imgA1D4_1[i][j])  \n",
        "S1meanrefA1_17 = np.array(S1meanrefA1_14)\n",
        "S1meanD4_1 = np.array(S1meanD4_1)\n",
        "\n",
        "S1rgbrefA1_17 = list()\n",
        "S1rgbD4_1 = list()\n",
        "for i in range(3):\n",
        "    S1rgbrefA1_17.append(S1meanrefA1_17[:,i].mean())\n",
        "    S1rgbD4_1.append(S1meanD4_1[:,i].mean())"
      ],
      "execution_count": 269,
      "outputs": []
    },
    {
      "cell_type": "markdown",
      "metadata": {
        "id": "l-EubNtx-XCR"
      },
      "source": [
        "###Img 2"
      ]
    },
    {
      "cell_type": "code",
      "metadata": {
        "id": "3D1den5K-nyt",
        "colab": {
          "base_uri": "https://localhost:8080/"
        },
        "outputId": "38f8adde-9f96-434b-c51d-2da8f6b79cfb"
      },
      "source": [
        "S1meanrefA1_102 = list()\n",
        "S1meanA1_202 = list()\n",
        "for i in range(S1RGB_imgA1A1_2.shape[0]): #ให้ i รันตาม row หรือ shape[0] คือแถว มีทั้งหมด 4032 แถว ของภาพที่ปรับขนาดมาแล้ว\n",
        "     for j in range(S1RGB_imgA1A1_2.shape[1]): #ให้ j รันตาม colum มีทั้งหมด 3024 colum เช่น แถวที่ 1 เข้ามาให้รันครบ 3024colum\n",
        "                if 1769<i<1881 and 2019<j<2131 :\n",
        "                  S1meanrefA1_102.append(S1RGB_imgA1A1_2[i][j])\n",
        "                if 1770<i<1880 and 2015<j<2145 :\n",
        "                  S1meanA1_202.append(S1RGB_imgA1A1_2[i][j])  \n",
        "S1meanrefA1_102 = np.array(S1meanrefA1_102)\n",
        "S1meanA1_202 = np.array(S1meanA1_202)\n",
        "\n",
        "S1rgbrefA1_102 = list()\n",
        "S1rgbA1_202 = list()\n",
        "for i in range(3):\n",
        "    S1rgbrefA1_102.append(S1meanrefA1_102[:,i].mean())\n",
        "    S1rgbA1_202.append(S1meanA1_202[:,i].mean())\n",
        "S1rgbrefA1_102,S1rgbA1_202"
      ],
      "execution_count": 270,
      "outputs": [
        {
          "output_type": "execute_result",
          "data": {
            "text/plain": [
              "([219.88385682980277, 219.47975002029057, 199.39152666179695],\n",
              " [219.23639854917857, 218.8036412772918, 198.57407012303534])"
            ]
          },
          "metadata": {},
          "execution_count": 270
        }
      ]
    },
    {
      "cell_type": "code",
      "metadata": {
        "id": "RRnoqKs_-nyu"
      },
      "source": [
        "S1meanrefA1_302 = list()\n",
        "S1meanA2_102 = list()\n",
        "for i in range(S1RGB_imgA1A2_2.shape[0]): \n",
        "     for j in range(S1RGB_imgA1A2_2.shape[1]): \n",
        "                if 1769<i<1881 and 2019<j<2131 :\n",
        "                  S1meanrefA1_302.append(S1RGB_imgA1A2_2[i][j])\n",
        "                if 1770<i<1880 and 2015<j<2145 :\n",
        "                  S1meanA2_102.append(S1RGB_imgA1A2_2[i][j])  \n",
        "S1meanrefA1_302 = np.array(S1meanrefA1_302)\n",
        "S1meanA2_102 = np.array(S1meanA2_102)\n",
        "\n",
        "S1rgbrefA1_302 = list()\n",
        "S1rgbA2_102 = list()\n",
        "for i in range(3):\n",
        "    S1rgbrefA1_302.append(S1meanrefA1_302[:,i].mean())\n",
        "    S1rgbA2_102.append(S1meanA2_102[:,i].mean())"
      ],
      "execution_count": 271,
      "outputs": []
    },
    {
      "cell_type": "code",
      "metadata": {
        "id": "-Z8Wxm76-nyv"
      },
      "source": [
        "S1meanrefA1_402 = list()\n",
        "S1meanA3_102 = list()\n",
        "for i in range(S1RGB_imgA1A3_2.shape[0]): \n",
        "     for j in range(S1RGB_imgA1A3_2.shape[1]): \n",
        "                if 1769<i<1881 and 2019<j<2131 :\n",
        "                  S1meanrefA1_402.append(S1RGB_imgA1A3_2[i][j])\n",
        "                if 1770<i<1880 and 2015<j<2145 :\n",
        "                  S1meanA3_102.append(S1RGB_imgA1A3_2[i][j])  \n",
        "S1meanrefA1_402 = np.array(S1meanrefA1_402)\n",
        "S1meanA3_102 = np.array(S1meanA3_102)\n",
        "\n",
        "S1rgbrefA1_402 = list()\n",
        "S1rgbA3_102 = list()\n",
        "for i in range(3):\n",
        "    S1rgbrefA1_402.append(S1meanrefA1_402[:,i].mean())\n",
        "    S1rgbA3_102.append(S1meanA3_102[:,i].mean())"
      ],
      "execution_count": 272,
      "outputs": []
    },
    {
      "cell_type": "code",
      "metadata": {
        "id": "Wo7Z5Spk-nyw"
      },
      "source": [
        "S1meanrefA1_502 = list()\n",
        "S1meanA3_5102 = list()\n",
        "for i in range(S1RGB_imgA1A3_52.shape[0]): \n",
        "     for j in range(S1RGB_imgA1A3_52.shape[1]): \n",
        "                if 1769<i<1881 and 2019<j<2131 :\n",
        "                  S1meanrefA1_502.append(S1RGB_imgA1A3_52[i][j])\n",
        "                if 1770<i<1880 and 2015<j<2145 :\n",
        "                  S1meanA3_5102.append(S1RGB_imgA1A3_52[i][j])  \n",
        "S1meanrefA1_502 = np.array(S1meanrefA1_502)\n",
        "S1meanA3_5102 = np.array(S1meanA3_5102)\n",
        "\n",
        "S1rgbrefA1_502 = list()\n",
        "S1rgbA3_5102 = list()\n",
        "for i in range(3):\n",
        "    S1rgbrefA1_502.append(S1meanrefA1_502[:,i].mean())\n",
        "    S1rgbA3_5102.append(S1meanA3_5102[:,i].mean())"
      ],
      "execution_count": 273,
      "outputs": []
    },
    {
      "cell_type": "code",
      "metadata": {
        "id": "cKjcfG9e-nyw"
      },
      "source": [
        "S1meanrefA1_602 = list()\n",
        "S1meanA4_102 = list()\n",
        "for i in range(S1RGB_imgA1A4_2.shape[0]): \n",
        "     for j in range(S1RGB_imgA1A4_2.shape[1]): \n",
        "                if 1769<i<1881 and 2019<j<2131 :\n",
        "                  S1meanrefA1_602.append(S1RGB_imgA1A4_2[i][j])\n",
        "                if 1770<i<1880 and 2015<j<2145 :\n",
        "                  S1meanA4_102.append(S1RGB_imgA1A4_2[i][j])  \n",
        "S1meanrefA1_602 = np.array(S1meanrefA1_602)\n",
        "S1meanA4_102 = np.array(S1meanA4_102)\n",
        "\n",
        "S1rgbrefA1_602 = list()\n",
        "S1rgbA4_102 = list()\n",
        "for i in range(3):\n",
        "    S1rgbrefA1_602.append(S1meanrefA1_602[:,i].mean())\n",
        "    S1rgbA4_102.append(S1meanA4_102[:,i].mean())"
      ],
      "execution_count": 274,
      "outputs": []
    },
    {
      "cell_type": "code",
      "metadata": {
        "id": "yz9vpuVx-nyx"
      },
      "source": [
        "S1meanrefA1_702 = list()\n",
        "S1meanB1_102 = list()\n",
        "for i in range(S1RGB_imgA1B1_2.shape[0]): \n",
        "     for j in range(S1RGB_imgA1B1_2.shape[1]): \n",
        "                if 1769<i<1881 and 2019<j<2131 :\n",
        "                  S1meanrefA1_702.append(S1RGB_imgA1B1_2[i][j])\n",
        "                if 1770<i<1880 and 2015<j<2145 :\n",
        "                  S1meanB1_102.append(S1RGB_imgA1B1_2[i][j])  \n",
        "S1meanrefA1_702 = np.array(S1meanrefA1_702)\n",
        "S1meanB1_102 = np.array(S1meanB1_102)\n",
        "\n",
        "S1rgbrefA1_702= list()\n",
        "S1rgbB1_102 = list()\n",
        "for i in range(3):\n",
        "    S1rgbrefA1_702.append(S1meanrefA1_702[:,i].mean())\n",
        "    S1rgbB1_102.append(S1meanB1_102[:,i].mean())"
      ],
      "execution_count": 275,
      "outputs": []
    },
    {
      "cell_type": "code",
      "metadata": {
        "id": "Wsk9Q3Zv-nyy"
      },
      "source": [
        "S1meanrefA1_802 = list()\n",
        "S1meanB2_102 = list()\n",
        "for i in range(S1RGB_imgA1B2_2.shape[0]): \n",
        "     for j in range(S1RGB_imgA1B2_2.shape[1]): \n",
        "                if 1769<i<1881 and 2019<j<2131 :\n",
        "                  S1meanrefA1_802.append(S1RGB_imgA1B2_2[i][j])\n",
        "                if 1770<i<1880 and 2015<j<2145 :\n",
        "                  S1meanB2_102.append(S1RGB_imgA1B2_2[i][j])  \n",
        "S1meanrefA1_802 = np.array(S1meanrefA1_802)\n",
        "S1meanB2_102 = np.array(S1meanB2_102)\n",
        "\n",
        "S1rgbrefA1_802 = list()\n",
        "S1rgbB2_102 = list()\n",
        "for i in range(3):\n",
        "    S1rgbrefA1_802.append(S1meanrefA1_802[:,i].mean())\n",
        "    S1rgbB2_102.append(S1meanB2_102[:,i].mean())"
      ],
      "execution_count": 276,
      "outputs": []
    },
    {
      "cell_type": "code",
      "metadata": {
        "id": "dCKh80eN-nyy"
      },
      "source": [
        "S1meanrefA1_902 = list()\n",
        "S1meanB3_102 = list()\n",
        "for i in range(S1RGB_imgA1B3_2.shape[0]): \n",
        "     for j in range(S1RGB_imgA1B3_2.shape[1]): \n",
        "                if 1769<i<1881 and 2019<j<2131 :\n",
        "                  S1meanrefA1_902.append(S1RGB_imgA1B3_2[i][j])\n",
        "                if 1770<i<1880 and 2015<j<2145 :\n",
        "                  S1meanB3_102.append(S1RGB_imgA1B3_2[i][j])  \n",
        "S1meanrefA1_902 = np.array(S1meanrefA1_902)\n",
        "S1meanB3_102 = np.array(S1meanB3_102)\n",
        "\n",
        "S1rgbrefA1_902 = list()\n",
        "S1rgbB3_102 = list()\n",
        "for i in range(3):\n",
        "    S1rgbrefA1_902.append(S1meanrefA1_902[:,i].mean())\n",
        "    S1rgbB3_102.append(S1meanB3_102[:,i].mean())"
      ],
      "execution_count": 277,
      "outputs": []
    },
    {
      "cell_type": "code",
      "metadata": {
        "id": "OY7G08cr-nyz"
      },
      "source": [
        "S1meanrefA1_1002 = list()\n",
        "S1meanB4_102 = list()\n",
        "for i in range(S1RGB_imgA1B4_2.shape[0]): \n",
        "     for j in range(S1RGB_imgA1B4_2.shape[1]): \n",
        "                if 1769<i<1881 and 2019<j<2131 :\n",
        "                  S1meanrefA1_1002.append(S1RGB_imgA1B4_2[i][j])\n",
        "                if 1770<i<1880 and 2015<j<2145 :\n",
        "                  S1meanB4_102.append(S1RGB_imgA1B4_2[i][j])  \n",
        "S1meanrefA1_1002 = np.array(S1meanrefA1_1002)\n",
        "S1meanB4_102 = np.array(S1meanB4_102)\n",
        "\n",
        "S1rgbrefA1_1002 = list()\n",
        "S1rgbB4_102 = list()\n",
        "for i in range(3):\n",
        "    S1rgbrefA1_1002.append(S1meanrefA1_1002[:,i].mean())\n",
        "    S1rgbB4_102.append(S1meanB4_102[:,i].mean())"
      ],
      "execution_count": 278,
      "outputs": []
    },
    {
      "cell_type": "code",
      "metadata": {
        "id": "fwZ-xl_I-nyz"
      },
      "source": [
        "S1meanrefA1_1102 = list()\n",
        "S1meanC1_102 = list()\n",
        "for i in range(S1RGB_imgA1C1_2.shape[0]): \n",
        "     for j in range(S1RGB_imgA1C1_2.shape[1]): \n",
        "                if 1769<i<1881 and 2019<j<2131 :\n",
        "                  S1meanrefA1_1102.append(S1RGB_imgA1C1_2[i][j])\n",
        "                if 1770<i<1880 and 2015<j<2145 :\n",
        "                  S1meanC1_102.append(S1RGB_imgA1C1_2[i][j])  \n",
        "S1meanrefA1_1102 = np.array(S1meanrefA1_1102)\n",
        "S1meanC1_102 = np.array(S1meanC1_102)\n",
        "\n",
        "S1rgbrefA1_1102 = list()\n",
        "S1rgbC1_102 = list()\n",
        "for i in range(3):\n",
        "    S1rgbrefA1_1102.append(S1meanrefA1_1102[:,i].mean())\n",
        "    S1rgbC1_102.append(S1meanC1_102[:,i].mean())"
      ],
      "execution_count": 279,
      "outputs": []
    },
    {
      "cell_type": "code",
      "metadata": {
        "id": "6zk1VOd0-ny0"
      },
      "source": [
        "S1meanrefA1_1202 = list()\n",
        "S1meanC2_102 = list()\n",
        "for i in range(S1RGB_imgA1C2_2.shape[0]): \n",
        "     for j in range(S1RGB_imgA1C2_2.shape[1]): \n",
        "                if 1769<i<1881 and 2019<j<2131 :\n",
        "                  S1meanrefA1_1202.append(S1RGB_imgA1C2_2[i][j])\n",
        "                if 1770<i<1880 and 2015<j<2145 :\n",
        "                  S1meanC2_102.append(S1RGB_imgA1C2_2[i][j])  \n",
        "S1meanrefA1_1202 = np.array(S1meanrefA1_1202)\n",
        "S1meanC2_102 = np.array(S1meanC2_102)\n",
        "\n",
        "S1rgbrefA1_1202 = list()\n",
        "S1rgbC2_102 = list()\n",
        "for i in range(3):\n",
        "    S1rgbrefA1_1202.append(S1meanrefA1_1202[:,i].mean())\n",
        "    S1rgbC2_102.append(S1meanC2_102[:,i].mean())"
      ],
      "execution_count": 280,
      "outputs": []
    },
    {
      "cell_type": "code",
      "metadata": {
        "id": "e1xdUv34-ny0"
      },
      "source": [
        "S1meanrefA1_1302 = list()\n",
        "S1meanC3_102 = list()\n",
        "for i in range(S1RGB_imgA1C3_2.shape[0]): \n",
        "     for j in range(S1RGB_imgA1C3_2.shape[1]): \n",
        "                if 1769<i<1881 and 2019<j<2131 :\n",
        "                  S1meanrefA1_1302.append(S1RGB_imgA1C3_2[i][j])\n",
        "                if 1770<i<1880 and 2015<j<2145 :\n",
        "                  S1meanC3_102.append(S1RGB_imgA1C3_2[i][j])  \n",
        "S1meanrefA1_1302 = np.array(S1meanrefA1_1302)\n",
        "S1meanC3_102 = np.array(S1meanC3_102)\n",
        "\n",
        "S1rgbrefA1_1302 = list()\n",
        "S1rgbC3_102 = list()\n",
        "for i in range(3):\n",
        "    S1rgbrefA1_1302.append(S1meanrefA1_1302[:,i].mean())\n",
        "    S1rgbC3_102.append(S1meanC3_102[:,i].mean())"
      ],
      "execution_count": 281,
      "outputs": []
    },
    {
      "cell_type": "code",
      "metadata": {
        "id": "6s9zmb-o-ny0"
      },
      "source": [
        "S1meanrefA1_1402 = list()\n",
        "S1meanC4_102 = list()\n",
        "for i in range(S1RGB_imgA1C4_2.shape[0]): \n",
        "     for j in range(S1RGB_imgA1C4_2.shape[1]): \n",
        "                if 1769<i<1881 and 2019<j<2131 :\n",
        "                  S1meanrefA1_1402.append(S1RGB_imgA1C4_2[i][j])\n",
        "                if 1770<i<1880 and 2015<j<2145 :\n",
        "                  S1meanC4_102.append(S1RGB_imgA1C4_2[i][j])  \n",
        "S1meanrefA1_1402 = np.array(S1meanrefA1_1402)\n",
        "S1meanC4_102 = np.array(S1meanC4_102)\n",
        "\n",
        "S1rgbrefA1_1402 = list()\n",
        "S1rgbC4_102 = list()\n",
        "for i in range(3):\n",
        "    S1rgbrefA1_1402.append(S1meanrefA1_1402[:,i].mean())\n",
        "    S1rgbC4_102.append(S1meanC4_102[:,i].mean())"
      ],
      "execution_count": 282,
      "outputs": []
    },
    {
      "cell_type": "code",
      "metadata": {
        "id": "73-r0q_3-ny1"
      },
      "source": [
        "S1meanrefA1_1502 = list()\n",
        "S1meanD2_102 = list()\n",
        "for i in range(S1RGB_imgA1D2_2.shape[0]): \n",
        "     for j in range(S1RGB_imgA1D2_2.shape[1]): \n",
        "                if 1769<i<1881 and 2019<j<2131 :\n",
        "                  S1meanrefA1_1502.append(S1RGB_imgA1D2_2[i][j])\n",
        "                if 1770<i<1880 and 2015<j<2145 :\n",
        "                  S1meanD2_102.append(S1RGB_imgA1D2_2[i][j])  \n",
        "S1meanrefA1_1502 = np.array(S1meanrefA1_1502)\n",
        "S1meanD2_102 = np.array(S1meanD2_102)\n",
        "\n",
        "S1rgbrefA1_1502 = list()\n",
        "S1rgbD2_102 = list()\n",
        "for i in range(3):\n",
        "    S1rgbrefA1_1502.append(S1meanrefA1_1502[:,i].mean())\n",
        "    S1rgbD2_102.append(S1meanD2_102[:,i].mean())"
      ],
      "execution_count": 283,
      "outputs": []
    },
    {
      "cell_type": "code",
      "metadata": {
        "id": "5pow4JZn-ny1"
      },
      "source": [
        "S1meanrefA1_1602 = list()\n",
        "S1meanD3_102 = list()\n",
        "for i in range(S1RGB_imgA1D3_2.shape[0]): \n",
        "     for j in range(S1RGB_imgA1D3_2.shape[1]): \n",
        "                if 1769<i<1881 and 2019<j<2131 :\n",
        "                  S1meanrefA1_1602.append(S1RGB_imgA1D3_2[i][j])\n",
        "                if 1770<i<1880 and 2015<j<2145 :\n",
        "                  S1meanD3_102.append(S1RGB_imgA1D3_2[i][j])  \n",
        "S1meanrefA1_1602 = np.array(S1meanrefA1_1602)\n",
        "S1meanD3_102 = np.array(S1meanD3_102)\n",
        "\n",
        "S1rgbrefA1_1602 = list()\n",
        "S1rgbD3_102 = list()\n",
        "for i in range(3):\n",
        "    S1rgbrefA1_1602.append(S1meanrefA1_1602[:,i].mean())\n",
        "    S1rgbD3_102.append(S1meanD3_102[:,i].mean())"
      ],
      "execution_count": 284,
      "outputs": []
    },
    {
      "cell_type": "code",
      "metadata": {
        "id": "OvQd7MJW-ny1"
      },
      "source": [
        "S1meanrefA1_1702= list()\n",
        "S1meanD4_102 = list()\n",
        "for i in range(S1RGB_imgA1D4_2.shape[0]): \n",
        "     for j in range(S1RGB_imgA1D4_2.shape[1]): \n",
        "                if 1769<i<1881 and 2019<j<2131 :\n",
        "                  S1meanrefA1_1702.append(S1RGB_imgA1D4_2[i][j])\n",
        "                if 1770<i<1880 and 2015<j<2145 :\n",
        "                  S1meanD4_102.append(S1RGB_imgA1D4_2[i][j])  \n",
        "S1meanrefA1_1702 = np.array(S1meanrefA1_1402)\n",
        "S1meanD4_102 = np.array(S1meanD4_102)\n",
        "\n",
        "S1rgbrefA1_1702 = list()\n",
        "S1rgbD4_102 = list()\n",
        "for i in range(3):\n",
        "    S1rgbrefA1_1702.append(S1meanrefA1_1702[:,i].mean())\n",
        "    S1rgbD4_102.append(S1meanD4_102[:,i].mean())"
      ],
      "execution_count": 285,
      "outputs": []
    },
    {
      "cell_type": "markdown",
      "metadata": {
        "id": "jHC0T1Oy-XCS"
      },
      "source": [
        "###Img 3"
      ]
    },
    {
      "cell_type": "code",
      "metadata": {
        "id": "7hyv2MRI-ph_",
        "colab": {
          "base_uri": "https://localhost:8080/"
        },
        "outputId": "d1fea081-8df6-4f63-efbb-7eb8972fe533"
      },
      "source": [
        "S1meanrefA1_103 = list()\n",
        "S1meanA1_203 = list()\n",
        "for i in range(S1RGB_imgA1A1_3.shape[0]): #ให้ i รันตาม row หรือ shape[0] คือแถว มีทั้งหมด 4032 แถว ของภาพที่ปรับขนาดมาแล้ว\n",
        "     for j in range(S1RGB_imgA1A1_3.shape[1]): #ให้ j รันตาม colum มีทั้งหมด 3024 colum เช่น แถวที่ 1 เข้ามาให้รันครบ 3024colum\n",
        "                if 1769<i<1881 and 2019<j<2131 :\n",
        "                  S1meanrefA1_103.append(S1RGB_imgA1A1_3[i][j])\n",
        "                if 1770<i<1880 and 2015<j<2145 :\n",
        "                  S1meanA1_203.append(S1RGB_imgA1A1_3[i][j])  \n",
        "S1meanrefA1_103 = np.array(S1meanrefA1_103)\n",
        "S1meanA1_203 = np.array(S1meanA1_203)\n",
        "\n",
        "S1rgbrefA1_103 = list()\n",
        "S1rgbA1_203 = list()\n",
        "for i in range(3):\n",
        "    S1rgbrefA1_103.append(S1meanrefA1_103[:,i].mean())\n",
        "    S1rgbA1_203.append(S1meanA1_203[:,i].mean())\n",
        "S1rgbrefA1_103,S1rgbA1_203"
      ],
      "execution_count": 286,
      "outputs": [
        {
          "output_type": "execute_result",
          "data": {
            "text/plain": [
              "([212.21954386819252, 207.09828747666586, 172.00592484376267],\n",
              " [211.93855344570088, 206.81352677618946, 171.91693336178082])"
            ]
          },
          "metadata": {},
          "execution_count": 286
        }
      ]
    },
    {
      "cell_type": "code",
      "metadata": {
        "id": "CwDhy4x7OD7D"
      },
      "source": [
        "S1meanrefA1_303 = list()\n",
        "S1meanA2_103 = list()\n",
        "for i in range(S1RGB_imgA1A2_3.shape[0]): \n",
        "     for j in range(S1RGB_imgA1A2_3.shape[1]): \n",
        "                if 1769<i<1881 and 2019<j<2131 :\n",
        "                  S1meanrefA1_303.append(S1RGB_imgA1A2_3[i][j])\n",
        "                if 1770<i<1880 and 2015<j<2145 :\n",
        "                  S1meanA2_103.append(S1RGB_imgA1A2_3[i][j])  \n",
        "S1meanrefA1_303 = np.array(S1meanrefA1_303)\n",
        "S1meanA2_103 = np.array(S1meanA2_103)\n",
        "\n",
        "S1rgbrefA1_303 = list()\n",
        "S1rgbA2_103 = list()\n",
        "for i in range(3):\n",
        "    S1rgbrefA1_303.append(S1meanrefA1_303[:,i].mean())\n",
        "    S1rgbA2_103.append(S1meanA2_103[:,i].mean())"
      ],
      "execution_count": 287,
      "outputs": []
    },
    {
      "cell_type": "code",
      "metadata": {
        "id": "UYKaG174OD7J"
      },
      "source": [
        "S1meanrefA1_403 = list()\n",
        "S1meanA3_103 = list()\n",
        "for i in range(S1RGB_imgA1A3_3.shape[0]): \n",
        "     for j in range(S1RGB_imgA1A3_3.shape[1]): \n",
        "                if 1769<i<1881 and 2019<j<2131 :\n",
        "                  S1meanrefA1_403.append(S1RGB_imgA1A3_3[i][j])\n",
        "                if 1770<i<1880 and 2015<j<2145 :\n",
        "                  S1meanA3_103.append(S1RGB_imgA1A3_3[i][j])  \n",
        "S1meanrefA1_403= np.array(S1meanrefA1_403 )\n",
        "S1meanA3_103 = np.array(S1meanA3_103 )\n",
        "\n",
        "S1rgbrefA1_403  = list()\n",
        "S1rgbA3_103  = list()\n",
        "for i in range(3):\n",
        "    S1rgbrefA1_403 .append(S1meanrefA1_403[:,i].mean())\n",
        "    S1rgbA3_103 .append(S1meanA3_103 [:,i].mean())"
      ],
      "execution_count": 288,
      "outputs": []
    },
    {
      "cell_type": "code",
      "metadata": {
        "id": "BXhaGTDpOD7L"
      },
      "source": [
        "S1meanrefA1_503  = list()\n",
        "S1meanA3_5103  = list()\n",
        "for i in range(S1RGB_imgA1A3_53.shape[0]): \n",
        "     for j in range(S1RGB_imgA1A3_53.shape[1]): \n",
        "                if 1769<i<1881 and 2019<j<2131 :\n",
        "                  S1meanrefA1_503 .append(S1RGB_imgA1A3_53[i][j])\n",
        "                if 1770<i<1880 and 2015<j<2145 :\n",
        "                  S1meanA3_5103 .append(S1RGB_imgA1A3_53[i][j])  \n",
        "S1meanrefA1_503  = np.array(S1meanrefA1_503 )\n",
        "S1meanA3_5103  = np.array(S1meanA3_5103 )\n",
        "\n",
        "S1rgbrefA1_503  = list()\n",
        "S1rgbA3_5103  = list()\n",
        "for i in range(3):\n",
        "    S1rgbrefA1_503 .append(S1meanrefA1_503 [:,i].mean())\n",
        "    S1rgbA3_5103 .append(S1meanA3_5103 [:,i].mean())"
      ],
      "execution_count": 289,
      "outputs": []
    },
    {
      "cell_type": "code",
      "metadata": {
        "id": "_r-gQx7_OD7N"
      },
      "source": [
        "S1meanrefA1_603  = list()\n",
        "S1meanA4_103  = list()\n",
        "for i in range(S1RGB_imgA1A4_3.shape[0]): \n",
        "     for j in range(S1RGB_imgA1A4_3.shape[1]): \n",
        "                if 1769<i<1881 and 2019<j<2131 :\n",
        "                  S1meanrefA1_603 .append(S1RGB_imgA1A4_3[i][j])\n",
        "                if 1770<i<1880 and 2015<j<2145 :\n",
        "                  S1meanA4_103 .append(S1RGB_imgA1A4_3[i][j])  \n",
        "S1meanrefA1_603  = np.array(S1meanrefA1_603 )\n",
        "S1meanA4_103  = np.array(S1meanA4_103 )\n",
        "\n",
        "S1rgbrefA1_603  = list()\n",
        "S1rgbA4_103  = list()\n",
        "for i in range(3):\n",
        "    S1rgbrefA1_603 .append(S1meanrefA1_603[:,i].mean())\n",
        "    S1rgbA4_103 .append(S1meanA4_103 [:,i].mean())"
      ],
      "execution_count": 290,
      "outputs": []
    },
    {
      "cell_type": "code",
      "metadata": {
        "id": "GuFjy19oOD7P"
      },
      "source": [
        "S1meanrefA1_703  = list()\n",
        "S1meanB1_103  = list()\n",
        "for i in range(S1RGB_imgA1B1_3.shape[0]): \n",
        "     for j in range(S1RGB_imgA1B1_3.shape[1]): \n",
        "                if 1769<i<1881 and 2019<j<2131 :\n",
        "                  S1meanrefA1_703 .append(S1RGB_imgA1B1_3[i][j])\n",
        "                if 1770<i<1880 and 2015<j<2145 :\n",
        "                  S1meanB1_103 .append(S1RGB_imgA1B1_3[i][j])  \n",
        "S1meanrefA1_703  = np.array(S1meanrefA1_703)\n",
        "S1meanB1_103  = np.array(S1meanB1_103)\n",
        "\n",
        "S1rgbrefA1_703  = list()\n",
        "S1rgbB1_103  = list()\n",
        "for i in range(3):\n",
        "    S1rgbrefA1_703 .append(S1meanrefA1_703 [:,i].mean())\n",
        "    S1rgbB1_103 .append(S1meanB1_103 [:,i].mean())"
      ],
      "execution_count": 291,
      "outputs": []
    },
    {
      "cell_type": "code",
      "metadata": {
        "id": "b9OoXHnpOD7R"
      },
      "source": [
        "S1meanrefA1_803  = list()\n",
        "S1meanB2_103  = list()\n",
        "for i in range(S1RGB_imgA1B2_3.shape[0]): \n",
        "     for j in range(S1RGB_imgA1B2_3.shape[1]): \n",
        "                if 1769<i<1881 and 2019<j<2131 :\n",
        "                  S1meanrefA1_803 .append(S1RGB_imgA1B2_3[i][j])\n",
        "                if 1770<i<1880 and 2015<j<2145 :\n",
        "                  S1meanB2_103 .append(S1RGB_imgA1B2_3[i][j])  \n",
        "S1meanrefA1_803  = np.array(S1meanrefA1_803 )\n",
        "S1meanB2_103  = np.array(S1meanB2_103 )\n",
        "\n",
        "S1rgbrefA1_803  = list()\n",
        "S1rgbB2_103  = list()\n",
        "for i in range(3):\n",
        "    S1rgbrefA1_803 .append(S1meanrefA1_803 [:,i].mean())\n",
        "    S1rgbB2_103 .append(S1meanB2_103 [:,i].mean())"
      ],
      "execution_count": 292,
      "outputs": []
    },
    {
      "cell_type": "code",
      "metadata": {
        "id": "yl2iPvWgOD7S"
      },
      "source": [
        "S1meanrefA1_903  = list()\n",
        "S1meanB3_103  = list()\n",
        "for i in range(S1RGB_imgA1B3_3.shape[0]): \n",
        "     for j in range(S1RGB_imgA1B3_3.shape[1]): \n",
        "                if 1769<i<1881 and 2019<j<2131 :\n",
        "                  S1meanrefA1_903 .append(S1RGB_imgA1B3_3[i][j])\n",
        "                if 1770<i<1880 and 2015<j<2145 :\n",
        "                  S1meanB3_103 .append(S1RGB_imgA1B3_3[i][j])  \n",
        "S1meanrefA1_903  = np.array(S1meanrefA1_903 )\n",
        "S1meanB3_103  = np.array(S1meanB3_103 )\n",
        "\n",
        "S1rgbrefA1_903  = list()\n",
        "S1rgbB3_103  = list()\n",
        "for i in range(3):\n",
        "    S1rgbrefA1_903 .append(S1meanrefA1_903 [:,i].mean())\n",
        "    S1rgbB3_103 .append(S1meanB3_103 [:,i].mean())"
      ],
      "execution_count": 293,
      "outputs": []
    },
    {
      "cell_type": "code",
      "metadata": {
        "id": "wHIew2X0OD7T"
      },
      "source": [
        "S1meanrefA1_1003  = list()\n",
        "S1meanB4_103  = list()\n",
        "for i in range(S1RGB_imgA1B4_3.shape[0]): \n",
        "     for j in range(S1RGB_imgA1B4_3.shape[1]): \n",
        "                if 1769<i<1881 and 2019<j<2131 :\n",
        "                  S1meanrefA1_1003 .append(S1RGB_imgA1B4_3[i][j])\n",
        "                if 1770<i<1880 and 2015<j<2145 :\n",
        "                  S1meanB4_103 .append(S1RGB_imgA1B4_3[i][j])  \n",
        "S1meanrefA1_1003  = np.array(S1meanrefA1_1003 )\n",
        "S1meanB4_103  = np.array(S1meanB4_103 )\n",
        "\n",
        "S1rgbrefA1_1003  = list()\n",
        "S1rgbB4_103  = list()\n",
        "for i in range(3):\n",
        "    S1rgbrefA1_1003 .append(S1meanrefA1_1003[:,i].mean())\n",
        "    S1rgbB4_103 .append(S1meanB4_103 [:,i].mean())"
      ],
      "execution_count": 294,
      "outputs": []
    },
    {
      "cell_type": "code",
      "metadata": {
        "id": "2QD9BQEbOD7U"
      },
      "source": [
        "S1meanrefA1_1103  = list()\n",
        "S1meanC1_103  = list()\n",
        "for i in range(S1RGB_imgA1C1_3.shape[0]): \n",
        "     for j in range(S1RGB_imgA1C1_3.shape[1]): \n",
        "                if 1769<i<1881 and 2019<j<2131 :\n",
        "                  S1meanrefA1_1103 .append(S1RGB_imgA1C1_3[i][j])\n",
        "                if 1770<i<1880 and 2015<j<2145 :\n",
        "                  S1meanC1_103 .append(S1RGB_imgA1C1_3[i][j])  \n",
        "S1meanrefA1_1103  = np.array(S1meanrefA1_1103 )\n",
        "S1meanC1_103  = np.array(S1meanC1_103 )\n",
        "\n",
        "S1rgbrefA1_1103  = list()\n",
        "S1rgbC1_103  = list()\n",
        "for i in range(3):\n",
        "    S1rgbrefA1_1103.append(S1meanrefA1_1103 [:,i].mean())\n",
        "    S1rgbC1_103.append(S1meanC1_103 [:,i].mean())"
      ],
      "execution_count": 295,
      "outputs": []
    },
    {
      "cell_type": "code",
      "metadata": {
        "id": "Ey1K7hV-OD7V"
      },
      "source": [
        "S1meanrefA1_1203  = list()\n",
        "S1meanC2_103 = list()\n",
        "for i in range(S1RGB_imgA1C2_3.shape[0]): \n",
        "     for j in range(S1RGB_imgA1C2_3.shape[1]): \n",
        "                if 1769<i<1881 and 2019<j<2131 :\n",
        "                  S1meanrefA1_1203.append(S1RGB_imgA1C2_3[i][j])\n",
        "                if 1770<i<1880 and 2015<j<2145 :\n",
        "                  S1meanC2_103.append(S1RGB_imgA1C2_3[i][j])  \n",
        "S1meanrefA1_1203 = np.array(S1meanrefA1_1203)\n",
        "S1meanC2_103 = np.array(S1meanC2_103)\n",
        "\n",
        "S1rgbrefA1_1203 = list()\n",
        "S1rgbC2_103 = list()\n",
        "for i in range(3):\n",
        "    S1rgbrefA1_1203.append(S1meanrefA1_1203[:,i].mean())\n",
        "    S1rgbC2_103.append(S1meanC2_103[:,i].mean())"
      ],
      "execution_count": 296,
      "outputs": []
    },
    {
      "cell_type": "code",
      "metadata": {
        "id": "Kwplx8sDOD7W"
      },
      "source": [
        "S1meanrefA1_1303 = list()\n",
        "S1meanC3_103 = list()\n",
        "for i in range(S1RGB_imgA1C3_3.shape[0]): \n",
        "     for j in range(S1RGB_imgA1C3_3.shape[1]): \n",
        "                if 1769<i<1881 and 2019<j<2131 :\n",
        "                  S1meanrefA1_1303.append(S1RGB_imgA1C3_3[i][j])\n",
        "                if 1770<i<1880 and 2015<j<2145 :\n",
        "                  S1meanC3_103.append(S1RGB_imgA1C3_3[i][j])  \n",
        "S1meanrefA1_1303 = np.array(S1meanrefA1_1303)\n",
        "S1meanC3_103 = np.array(S1meanC3_103)\n",
        "\n",
        "S1rgbrefA1_1303 = list()\n",
        "S1rgbC3_103 = list()\n",
        "for i in range(3):\n",
        "    S1rgbrefA1_1303.append(S1meanrefA1_1303[:,i].mean())\n",
        "    S1rgbC3_103.append(S1meanC3_103[:,i].mean())"
      ],
      "execution_count": 297,
      "outputs": []
    },
    {
      "cell_type": "code",
      "metadata": {
        "id": "YRT1ACVGOD7W"
      },
      "source": [
        "S1meanrefA1_1403 = list()\n",
        "S1meanC4_103 = list()\n",
        "for i in range(S1RGB_imgA1C4_3.shape[0]): \n",
        "     for j in range(S1RGB_imgA1C4_3.shape[1]): \n",
        "                if 1769<i<1881 and 2019<j<2131 :\n",
        "                  S1meanrefA1_1403.append(S1RGB_imgA1C4_3[i][j])\n",
        "                if 1770<i<1880 and 2015<j<2145 :\n",
        "                  S1meanC4_103.append(S1RGB_imgA1C4_3[i][j])  \n",
        "S1meanrefA1_1403 = np.array(S1meanrefA1_1403)\n",
        "S1meanC4_103 = np.array(S1meanC4_103)\n",
        "\n",
        "S1rgbrefA1_1403 = list()\n",
        "S1rgbC4_103 = list()\n",
        "for i in range(3):\n",
        "    S1rgbrefA1_1403.append(S1meanrefA1_1403[:,i].mean())\n",
        "    S1rgbC4_103.append(S1meanC4_103[:,i].mean())"
      ],
      "execution_count": 298,
      "outputs": []
    },
    {
      "cell_type": "code",
      "metadata": {
        "id": "T7eIAU-fOD7X"
      },
      "source": [
        "S1meanrefA1_1503 = list()\n",
        "S1meanD2_103 = list()\n",
        "for i in range(S1RGB_imgA1D2_3.shape[0]): \n",
        "     for j in range(S1RGB_imgA1D2_3.shape[1]): \n",
        "                if 1769<i<1881 and 2019<j<2131 :\n",
        "                  S1meanrefA1_1503.append(S1RGB_imgA1D2_3[i][j])\n",
        "                if 1770<i<1880 and 2015<j<2145 :\n",
        "                  S1meanD2_103.append(S1RGB_imgA1D2_3[i][j])  \n",
        "S1meanrefA1_1503 = np.array(S1meanrefA1_1503)\n",
        "S1meanD2_103 = np.array(S1meanD2_103)\n",
        "\n",
        "S1rgbrefA1_1503 = list()\n",
        "S1rgbD2_103 = list()\n",
        "for i in range(3):\n",
        "    S1rgbrefA1_1503.append(S1meanrefA1_1503[:,i].mean())\n",
        "    S1rgbD2_103.append(S1meanD2_103[:,i].mean())"
      ],
      "execution_count": 299,
      "outputs": []
    },
    {
      "cell_type": "code",
      "metadata": {
        "id": "DpA4wXbfOD7Y"
      },
      "source": [
        "S1meanrefA1_1603 = list()\n",
        "S1meanD3_103 = list()\n",
        "for i in range(S1RGB_imgA1D3_3.shape[0]): \n",
        "     for j in range(S1RGB_imgA1D3_3.shape[1]): \n",
        "                if 1769<i<1881 and 2019<j<2131 :\n",
        "                  S1meanrefA1_1603.append(S1RGB_imgA1D3_3[i][j])\n",
        "                if 1770<i<1880 and 2015<j<2145 :\n",
        "                  S1meanD3_103.append(S1RGB_imgA1D3_3[i][j])  \n",
        "S1meanrefA1_1603 = np.array(S1meanrefA1_1603)\n",
        "S1meanD3_103 = np.array(S1meanD3_103)\n",
        "\n",
        "S1rgbrefA1_1603 = list()\n",
        "S1rgbD3_103 = list()\n",
        "for i in range(3):\n",
        "    S1rgbrefA1_1603.append(S1meanrefA1_1603[:,i].mean())\n",
        "    S1rgbD3_103.append(S1meanD3_103[:,i].mean())"
      ],
      "execution_count": 300,
      "outputs": []
    },
    {
      "cell_type": "code",
      "metadata": {
        "id": "HYBlGYW-OD7Z"
      },
      "source": [
        "S1meanrefA1_1703= list()\n",
        "S1meanD4_103 = list()\n",
        "for i in range(S1RGB_imgA1D4_3.shape[0]): \n",
        "     for j in range(S1RGB_imgA1D4_3.shape[1]): \n",
        "                if 1769<i<1881 and 2019<j<2131 :\n",
        "                  S1meanrefA1_1703.append(S1RGB_imgA1D4_3[i][j])\n",
        "                if 1770<i<1880 and 2015<j<2145 :\n",
        "                  S1meanD4_103.append(S1RGB_imgA1D4_3[i][j])  \n",
        "S1meanrefA1_1703 = np.array(S1meanrefA1_1403)\n",
        "S1meanD4_103 = np.array(S1meanD4_103)\n",
        "\n",
        "S1rgbrefA1_1703 = list()\n",
        "S1rgbD4_103 = list()\n",
        "for i in range(3):\n",
        "    S1rgbrefA1_1703.append(S1meanrefA1_1703[:,i].mean())\n",
        "    S1rgbD4_103.append(S1meanD4_103[:,i].mean())"
      ],
      "execution_count": 301,
      "outputs": []
    },
    {
      "cell_type": "markdown",
      "metadata": {
        "id": "Y80UKTuT-XCU"
      },
      "source": [
        "###Img 4"
      ]
    },
    {
      "cell_type": "code",
      "metadata": {
        "id": "bn84P_fUOzpo",
        "colab": {
          "base_uri": "https://localhost:8080/"
        },
        "outputId": "5779f7e3-cf08-41f7-92f4-32ed1e4e9902"
      },
      "source": [
        "S1meanrefA1_104 = list()\n",
        "S1meanA1_204 = list()\n",
        "for i in range(S1RGB_imgA1A1_4.shape[0]): #ให้ i รันตาม row หรือ shape[0] คือแถว มีทั้งหมด 4032 แถว ของภาพที่ปรับขนาดมาแล้ว\n",
        "     for j in range(S1RGB_imgA1A1_4.shape[1]): #ให้ j รันตาม colum มีทั้งหมด 3024 colum เช่น แถวที่ 1 เข้ามาให้รันครบ 3024colum\n",
        "                if 1769<i<1881 and 2019<j<2131 :\n",
        "                  S1meanrefA1_104.append(S1RGB_imgA1A1_4[i][j])\n",
        "                if 1770<i<1880 and 2015<j<2145 :\n",
        "                  S1meanA1_204.append(S1RGB_imgA1A1_4[i][j])  \n",
        "S1meanrefA1_104 = np.array(S1meanrefA1_104)\n",
        "S1meanA1_204 = np.array(S1meanA1_204)\n",
        "\n",
        "S1rgbrefA1_104 = list()\n",
        "S1rgbA1_204 = list()\n",
        "for i in range(3):\n",
        "    S1rgbrefA1_104.append(S1meanrefA1_104[:,i].mean())\n",
        "    S1rgbA1_204.append(S1meanA1_204[:,i].mean())\n",
        "S1rgbrefA1_104,S1rgbA1_204 "
      ],
      "execution_count": 302,
      "outputs": [
        {
          "output_type": "execute_result",
          "data": {
            "text/plain": [
              "([211.4133593052512, 204.23699375050725, 158.72015258501744],\n",
              " [211.0674916435531, 203.8401251689069, 158.51959320105254])"
            ]
          },
          "metadata": {},
          "execution_count": 302
        }
      ]
    },
    {
      "cell_type": "code",
      "metadata": {
        "id": "HvR90hw9OYMN"
      },
      "source": [
        "S1meanrefA1_304 = list()\n",
        "S1meanA2_104 = list()\n",
        "for i in range(S1RGB_imgA1A2_4.shape[0]): \n",
        "     for j in range(S1RGB_imgA1A2_4.shape[1]): \n",
        "                if 1769<i<1881 and 2019<j<2131 :\n",
        "                  S1meanrefA1_304.append(S1RGB_imgA1A2_4[i][j])\n",
        "                if 1770<i<1880 and 2015<j<2145 :\n",
        "                  S1meanA2_104.append(S1RGB_imgA1A2_4[i][j])  \n",
        "S1meanrefA1_304 = np.array(S1meanrefA1_304)\n",
        "S1meanA2_104 = np.array(S1meanA2_104)\n",
        "\n",
        "S1rgbrefA1_304 = list()\n",
        "S1rgbA2_104 = list()\n",
        "for i in range(3):\n",
        "    S1rgbrefA1_304.append(S1meanrefA1_304[:,i].mean())\n",
        "    S1rgbA2_104.append(S1meanA2_104[:,i].mean())"
      ],
      "execution_count": 303,
      "outputs": []
    },
    {
      "cell_type": "code",
      "metadata": {
        "id": "dXd8lOH0OYMN"
      },
      "source": [
        "S1meanrefA1_404 = list()\n",
        "S1meanA3_104 = list()\n",
        "for i in range(S1RGB_imgA1A3_4.shape[0]): \n",
        "     for j in range(S1RGB_imgA1A3_4.shape[1]): \n",
        "                if 1769<i<1881 and 2019<j<2131 :\n",
        "                  S1meanrefA1_404.append(S1RGB_imgA1A3_4[i][j])\n",
        "                if 1770<i<1880 and 2015<j<2145 :\n",
        "                  S1meanA3_104.append(S1RGB_imgA1A3_4[i][j])  \n",
        "S1meanrefA1_404 = np.array(S1meanrefA1_404)\n",
        "S1meanA3_104 = np.array(S1meanA3_104)\n",
        "\n",
        "S1rgbrefA1_404 = list()\n",
        "S1rgbA3_104 = list()\n",
        "for i in range(3):\n",
        "    S1rgbrefA1_404.append(S1meanrefA1_404[:,i].mean())\n",
        "    S1rgbA3_104.append(S1meanA3_104[:,i].mean())"
      ],
      "execution_count": 304,
      "outputs": []
    },
    {
      "cell_type": "code",
      "metadata": {
        "id": "Vl4y00CXOYMO"
      },
      "source": [
        "S1meanrefA1_504 = list()\n",
        "S1meanA3_5104 = list()\n",
        "for i in range(S1RGB_imgA1A3_54.shape[0]): \n",
        "     for j in range(S1RGB_imgA1A3_54.shape[1]): \n",
        "                if 1769<i<1881 and 2019<j<2131 :\n",
        "                  S1meanrefA1_504.append(S1RGB_imgA1A3_54[i][j])\n",
        "                if 1770<i<1880 and 2015<j<2145 :\n",
        "                  S1meanA3_5104.append(S1RGB_imgA1A3_54[i][j])  \n",
        "S1meanrefA1_504 = np.array(S1meanrefA1_504)\n",
        "S1meanA3_5104 = np.array(S1meanA3_5104)\n",
        "\n",
        "S1rgbrefA1_504 = list()\n",
        "S1rgbA3_5104 = list()\n",
        "for i in range(3):\n",
        "    S1rgbrefA1_504.append(S1meanrefA1_504[:,i].mean())\n",
        "    S1rgbA3_5104.append(S1meanA3_5104[:,i].mean())"
      ],
      "execution_count": 305,
      "outputs": []
    },
    {
      "cell_type": "code",
      "metadata": {
        "id": "6oEuSutGOYMP"
      },
      "source": [
        "S1meanrefA1_604 = list()\n",
        "S1meanA4_104 = list()\n",
        "for i in range(S1RGB_imgA1A4_4.shape[0]): \n",
        "     for j in range(S1RGB_imgA1A4_4.shape[1]): \n",
        "                if 1769<i<1881 and 2019<j<2131 :\n",
        "                  S1meanrefA1_604.append(S1RGB_imgA1A4_4[i][j])\n",
        "                if 1770<i<1880 and 2015<j<2145 :\n",
        "                  S1meanA4_104.append(S1RGB_imgA1A4_4[i][j])  \n",
        "S1meanrefA1_604 = np.array(S1meanrefA1_604)\n",
        "S1meanA4_104 = np.array(S1meanA4_104)\n",
        "\n",
        "S1rgbrefA1_604 = list()\n",
        "S1rgbA4_104 = list()\n",
        "for i in range(3):\n",
        "    S1rgbrefA1_604.append(S1meanrefA1_604[:,i].mean())\n",
        "    S1rgbA4_104.append(S1meanA4_104[:,i].mean())"
      ],
      "execution_count": 306,
      "outputs": []
    },
    {
      "cell_type": "code",
      "metadata": {
        "id": "cSHA_FHAOYMP"
      },
      "source": [
        "S1meanrefA1_704 = list()\n",
        "S1meanB1_104 = list()\n",
        "for i in range(S1RGB_imgA1B1_4.shape[0]): \n",
        "     for j in range(S1RGB_imgA1B1_4.shape[1]): \n",
        "                if 1769<i<1881 and 2019<j<2131 :\n",
        "                  S1meanrefA1_704.append(S1RGB_imgA1B1_4[i][j])\n",
        "                if 1770<i<1880 and 2015<j<2145 :\n",
        "                  S1meanB1_104.append(S1RGB_imgA1B1_4[i][j])  \n",
        "S1meanrefA1_704 = np.array(S1meanrefA1_704)\n",
        "S1meanB1_104 = np.array(S1meanB1_104)\n",
        "\n",
        "S1rgbrefA1_704 = list()\n",
        "S1rgbB1_104 = list()\n",
        "for i in range(3):\n",
        "    S1rgbrefA1_704.append(S1meanrefA1_704[:,i].mean())\n",
        "    S1rgbB1_104.append(S1meanB1_104[:,i].mean())"
      ],
      "execution_count": 307,
      "outputs": []
    },
    {
      "cell_type": "code",
      "metadata": {
        "id": "t-4GZQBGOYMQ"
      },
      "source": [
        "S1meanrefA1_804 = list()\n",
        "S1meanB2_104 = list()\n",
        "for i in range(S1RGB_imgA1B2_4.shape[0]): \n",
        "     for j in range(S1RGB_imgA1B2_4.shape[1]): \n",
        "                if 1769<i<1881 and 2019<j<2131 :\n",
        "                  S1meanrefA1_804.append(S1RGB_imgA1B2_4[i][j])\n",
        "                if 1770<i<1880 and 2015<j<2145 :\n",
        "                  S1meanB2_104.append(S1RGB_imgA1B2_4[i][j])  \n",
        "S1meanrefA1_804 = np.array(S1meanrefA1_804)\n",
        "S1meanB2_104 = np.array(S1meanB2_104)\n",
        "\n",
        "S1rgbrefA1_804 = list()\n",
        "S1rgbB2_104 = list()\n",
        "for i in range(3):\n",
        "    S1rgbrefA1_804.append(S1meanrefA1_804[:,i].mean())\n",
        "    S1rgbB2_104.append(S1meanB2_104[:,i].mean())"
      ],
      "execution_count": 308,
      "outputs": []
    },
    {
      "cell_type": "code",
      "metadata": {
        "id": "ZCK-5klmOYMQ"
      },
      "source": [
        "S1meanrefA1_904 = list()\n",
        "S1meanB3_104 = list()\n",
        "for i in range(S1RGB_imgA1B3_4.shape[0]): \n",
        "     for j in range(S1RGB_imgA1B3_4.shape[1]): \n",
        "                if 1769<i<1881 and 2019<j<2131 :\n",
        "                  S1meanrefA1_904.append(S1RGB_imgA1B3_4[i][j])\n",
        "                if 1770<i<1880 and 2015<j<2145 :\n",
        "                  S1meanB3_104.append(S1RGB_imgA1B3_4[i][j])  \n",
        "S1meanrefA1_904 = np.array(S1meanrefA1_904)\n",
        "S1meanB3_104 = np.array(S1meanB3_104)\n",
        "\n",
        "S1rgbrefA1_904 = list()\n",
        "S1rgbB3_104 = list()\n",
        "for i in range(3):\n",
        "    S1rgbrefA1_904.append(S1meanrefA1_904[:,i].mean())\n",
        "    S1rgbB3_104.append(S1meanB3_104[:,i].mean())"
      ],
      "execution_count": 309,
      "outputs": []
    },
    {
      "cell_type": "code",
      "metadata": {
        "id": "qQDaQYu9OYMQ"
      },
      "source": [
        "S1meanrefA1_1004 = list()\n",
        "S1meanB4_104 = list()\n",
        "for i in range(S1RGB_imgA1B4_4.shape[0]): \n",
        "     for j in range(S1RGB_imgA1B4_4.shape[1]): \n",
        "                if 1769<i<1881 and 2019<j<2131 :\n",
        "                  S1meanrefA1_1004.append(S1RGB_imgA1B4_4[i][j])\n",
        "                if 1770<i<1880 and 2015<j<2145 :\n",
        "                  S1meanB4_104.append(S1RGB_imgA1B4_4[i][j])  \n",
        "S1meanrefA1_1004 = np.array(S1meanrefA1_1004)\n",
        "S1meanB4_104 = np.array(S1meanB4_104)\n",
        "\n",
        "S1rgbrefA1_1004 = list()\n",
        "S1rgbB4_104 = list()\n",
        "for i in range(3):\n",
        "    S1rgbrefA1_1004.append(S1meanrefA1_1004[:,i].mean())\n",
        "    S1rgbB4_104.append(S1meanB4_104[:,i].mean())"
      ],
      "execution_count": 310,
      "outputs": []
    },
    {
      "cell_type": "code",
      "metadata": {
        "id": "ewVZRrNNOYMR"
      },
      "source": [
        "S1meanrefA1_1104 = list()\n",
        "S1meanC1_104 = list()\n",
        "for i in range(S1RGB_imgA1C1_4.shape[0]): \n",
        "     for j in range(S1RGB_imgA1C1_4.shape[1]): \n",
        "                if 1769<i<1881 and 2019<j<2131 :\n",
        "                  S1meanrefA1_1104.append(S1RGB_imgA1C1_4[i][j])\n",
        "                if 1770<i<1880 and 2015<j<2145 :\n",
        "                  S1meanC1_104.append(S1RGB_imgA1C1_4[i][j])  \n",
        "S1meanrefA1_1104 = np.array(S1meanrefA1_1104)\n",
        "S1meanC1_104 = np.array(S1meanC1_104)\n",
        "\n",
        "S1rgbrefA1_1104 = list()\n",
        "S1rgbC1_104 = list()\n",
        "for i in range(3):\n",
        "    S1rgbrefA1_1104.append(S1meanrefA1_1104[:,i].mean())\n",
        "    S1rgbC1_104.append(S1meanC1_104[:,i].mean())"
      ],
      "execution_count": 311,
      "outputs": []
    },
    {
      "cell_type": "code",
      "metadata": {
        "id": "1fjC_EdYOYMR"
      },
      "source": [
        "S1meanrefA1_1204 = list()\n",
        "S1meanC2_104 = list()\n",
        "for i in range(S1RGB_imgA1C2_4.shape[0]): \n",
        "     for j in range(S1RGB_imgA1C2_4.shape[1]): \n",
        "                if 1769<i<1881 and 2019<j<2131 :\n",
        "                  S1meanrefA1_1204.append(S1RGB_imgA1C2_4[i][j])\n",
        "                if 1770<i<1880 and 2015<j<2145 :\n",
        "                  S1meanC2_104.append(S1RGB_imgA1C2_4[i][j])  \n",
        "S1meanrefA1_1204 = np.array(S1meanrefA1_1204)\n",
        "S1meanC2_104 = np.array(S1meanC2_104)\n",
        "\n",
        "S1rgbrefA1_1204 = list()\n",
        "S1rgbC2_104 = list()\n",
        "for i in range(3):\n",
        "    S1rgbrefA1_1204.append(S1meanrefA1_1204[:,i].mean())\n",
        "    S1rgbC2_104.append(S1meanC2_104[:,i].mean())"
      ],
      "execution_count": 312,
      "outputs": []
    },
    {
      "cell_type": "code",
      "metadata": {
        "id": "QvnG7iiVOYMR"
      },
      "source": [
        "S1meanrefA1_1304 = list()\n",
        "S1meanC3_104 = list()\n",
        "for i in range(S1RGB_imgA1C3_4.shape[0]): \n",
        "     for j in range(S1RGB_imgA1C3_4.shape[1]): \n",
        "                if 1769<i<1881 and 2019<j<2131 :\n",
        "                  S1meanrefA1_1304.append(S1RGB_imgA1C3_4[i][j])\n",
        "                if 1770<i<1880 and 2015<j<2145 :\n",
        "                  S1meanC3_104.append(S1RGB_imgA1C3_4[i][j])  \n",
        "S1meanrefA1_1304 = np.array(S1meanrefA1_1304)\n",
        "S1meanC3_104 = np.array(S1meanC3_104)\n",
        "\n",
        "S1rgbrefA1_1304 = list()\n",
        "S1rgbC3_104 = list()\n",
        "for i in range(3):\n",
        "    S1rgbrefA1_1304.append(S1meanrefA1_1304[:,i].mean())\n",
        "    S1rgbC3_104.append(S1meanC3_104[:,i].mean())"
      ],
      "execution_count": 313,
      "outputs": []
    },
    {
      "cell_type": "code",
      "metadata": {
        "id": "Ex49m5yGOYMS"
      },
      "source": [
        "S1meanrefA1_1404 = list()\n",
        "S1meanC4_104 = list()\n",
        "for i in range(S1RGB_imgA1C4_4.shape[0]): \n",
        "     for j in range(S1RGB_imgA1C4_4.shape[1]): \n",
        "                if 1769<i<1881 and 2019<j<2131 :\n",
        "                  S1meanrefA1_1404.append(S1RGB_imgA1C4_4[i][j])\n",
        "                if 1770<i<1880 and 2015<j<2145 :\n",
        "                  S1meanC4_104.append(S1RGB_imgA1C4_4[i][j])  \n",
        "S1meanrefA1_1404 = np.array(S1meanrefA1_1404)\n",
        "S1meanC4_104 = np.array(S1meanC4_104)\n",
        "\n",
        "S1rgbrefA1_1404 = list()\n",
        "S1rgbC4_104 = list()\n",
        "for i in range(3):\n",
        "    S1rgbrefA1_1404.append(S1meanrefA1_1404[:,i].mean())\n",
        "    S1rgbC4_104.append(S1meanC4_104[:,i].mean())"
      ],
      "execution_count": 314,
      "outputs": []
    },
    {
      "cell_type": "code",
      "metadata": {
        "id": "OSDdu6HCOYMS"
      },
      "source": [
        "S1meanrefA1_1504 = list()\n",
        "S1meanD2_104 = list()\n",
        "for i in range(S1RGB_imgA1D2_4.shape[0]): \n",
        "     for j in range(S1RGB_imgA1D2_4.shape[1]): \n",
        "                if 1769<i<1881 and 2019<j<2131 :\n",
        "                  S1meanrefA1_1504.append(S1RGB_imgA1D2_4[i][j])\n",
        "                if 1770<i<1880 and 2015<j<2145 :\n",
        "                  S1meanD2_104.append(S1RGB_imgA1D2_4[i][j])  \n",
        "S1meanrefA1_1504 = np.array(S1meanrefA1_1504)\n",
        "S1meanD2_104 = np.array(S1meanD2_104)\n",
        "\n",
        "S1rgbrefA1_1504 = list()\n",
        "S1rgbD2_104 = list()\n",
        "for i in range(3):\n",
        "    S1rgbrefA1_1504.append(S1meanrefA1_1504[:,i].mean())\n",
        "    S1rgbD2_104.append(S1meanD2_104[:,i].mean())"
      ],
      "execution_count": 315,
      "outputs": []
    },
    {
      "cell_type": "code",
      "metadata": {
        "id": "aXr6Kqt-OYMS"
      },
      "source": [
        "S1meanrefA1_1604 = list()\n",
        "S1meanD3_104 = list()\n",
        "for i in range(S1RGB_imgA1D3_4.shape[0]): \n",
        "     for j in range(S1RGB_imgA1D3_4.shape[1]): \n",
        "                if 1769<i<1881 and 2019<j<2131 :\n",
        "                  S1meanrefA1_1604.append(S1RGB_imgA1D3_4[i][j])\n",
        "                if 1770<i<1880 and 2015<j<2145 :\n",
        "                  S1meanD3_104.append(S1RGB_imgA1D3_4[i][j])  \n",
        "S1meanrefA1_1604 = np.array(S1meanrefA1_1604)\n",
        "S1meanD3_104 = np.array(S1meanD3_104)\n",
        "\n",
        "S1rgbrefA1_1604 = list()\n",
        "S1rgbD3_104 = list()\n",
        "for i in range(3):\n",
        "    S1rgbrefA1_1604.append(S1meanrefA1_1604[:,i].mean())\n",
        "    S1rgbD3_104.append(S1meanD3_104[:,i].mean())"
      ],
      "execution_count": 316,
      "outputs": []
    },
    {
      "cell_type": "code",
      "metadata": {
        "id": "6eck_A4OOYMT"
      },
      "source": [
        "S1meanrefA1_1704= list()\n",
        "S1meanD4_104 = list()\n",
        "for i in range(S1RGB_imgA1D4_4.shape[0]): \n",
        "     for j in range(S1RGB_imgA1D4_4.shape[1]): \n",
        "                if 1769<i<1881 and 2019<j<2131 :\n",
        "                  S1meanrefA1_1704.append(S1RGB_imgA1D4_4[i][j])\n",
        "                if 1770<i<1880 and 2015<j<2145 :\n",
        "                  S1meanD4_104.append(S1RGB_imgA1D4_4[i][j])  \n",
        "S1meanrefA1_1704 = np.array(S1meanrefA1_1404)\n",
        "S1meanD4_104 = np.array(S1meanD4_104)\n",
        "\n",
        "S1rgbrefA1_1704 = list()\n",
        "S1rgbD4_104 = list()\n",
        "for i in range(3):\n",
        "    S1rgbrefA1_1704.append(S1meanrefA1_1704[:,i].mean())\n",
        "    S1rgbD4_104.append(S1meanD4_104[:,i].mean())"
      ],
      "execution_count": 317,
      "outputs": []
    },
    {
      "cell_type": "markdown",
      "metadata": {
        "id": "yLQq-1FZ-XCV"
      },
      "source": [
        "###Img 5"
      ]
    },
    {
      "cell_type": "code",
      "metadata": {
        "id": "DKMpl6KPPIKP",
        "colab": {
          "base_uri": "https://localhost:8080/"
        },
        "outputId": "fe082c6d-1f4c-4e0a-88a9-c47519255046"
      },
      "source": [
        "S1meanrefA1_105 = list()\n",
        "S1meanA1_205 = list()\n",
        "for i in range(S1RGB_imgA1A1_5.shape[0]): #ให้ i รันตาม row หรือ shape[0] คือแถว มีทั้งหมด 4032 แถว ของภาพที่ปรับขนาดมาแล้ว\n",
        "     for j in range(S1RGB_imgA1A1_5.shape[1]): #ให้ j รันตาม colum มีทั้งหมด 3024 colum เช่น แถวที่ 1 เข้ามาให้รันครบ 3024colum\n",
        "                if 1769<i<1881 and 2019<j<2131 :\n",
        "                  S1meanrefA1_105.append(S1RGB_imgA1A1_5[i][j])\n",
        "                if 1770<i<1880 and 2015<j<2145 :\n",
        "                  S1meanA1_205.append(S1RGB_imgA1A1_5[i][j])  \n",
        "S1meanrefA1_105 = np.array(S1meanrefA1_105)\n",
        "S1meanA1_205 = np.array(S1meanA1_205)\n",
        "\n",
        "S1rgbrefA1_105 = list()\n",
        "S1rgbA1_205 = list()\n",
        "for i in range(3):\n",
        "    S1rgbrefA1_105.append(S1meanrefA1_105[:,i].mean())\n",
        "    S1rgbA1_205.append(S1meanA1_2[:,i].mean())\n",
        "S1rgbrefA1_105,S1rgbA1_205 "
      ],
      "execution_count": 318,
      "outputs": [
        {
          "output_type": "execute_result",
          "data": {
            "text/plain": [
              "([221.97532667802938, 217.55685415144873, 189.3438032627222],\n",
              " [222.71139221723485, 218.46132729903178, 172.71847757539786])"
            ]
          },
          "metadata": {},
          "execution_count": 318
        }
      ]
    },
    {
      "cell_type": "code",
      "metadata": {
        "id": "kGGu65MbPIKQ"
      },
      "source": [
        "S1meanrefA1_305 = list()\n",
        "S1meanA2_105 = list()\n",
        "for i in range(S1RGB_imgA1A2_5.shape[0]): \n",
        "     for j in range(S1RGB_imgA1A2_5.shape[1]): \n",
        "                if 1769<i<1881 and 2019<j<2131 :\n",
        "                  S1meanrefA1_305.append(S1RGB_imgA1A2_5[i][j])\n",
        "                if 1770<i<1880 and 2015<j<2145 :\n",
        "                  S1meanA2_105.append(S1RGB_imgA1A2_5[i][j])  \n",
        "S1meanrefA1_305 = np.array(S1meanrefA1_305 )\n",
        "S1meanA2_105 = np.array(S1meanA2_105 )\n",
        "\n",
        "S1rgbrefA1_305 = list()\n",
        "S1rgbA2_105  = list()\n",
        "for i in range(3):\n",
        "    S1rgbrefA1_305 .append(S1meanrefA1_305 [:,i].mean())\n",
        "    S1rgbA2_105 .append(S1meanA2_105 [:,i].mean())"
      ],
      "execution_count": 319,
      "outputs": []
    },
    {
      "cell_type": "code",
      "metadata": {
        "id": "0Ls4I6iWPIKR"
      },
      "source": [
        "S1meanrefA1_405  = list()\n",
        "S1meanA3_105  = list()\n",
        "for i in range(S1RGB_imgA1A3_5.shape[0]): \n",
        "     for j in range(S1RGB_imgA1A3_5.shape[1]): \n",
        "                if 1769<i<1881 and 2019<j<2131 :\n",
        "                  S1meanrefA1_405 .append(S1RGB_imgA1A3_5[i][j])\n",
        "                if 1770<i<1880 and 2015<j<2145 :\n",
        "                  S1meanA3_105 .append(S1RGB_imgA1A3_5[i][j])  \n",
        "S1meanrefA1_405 = np.array(S1meanrefA1_405)\n",
        "S1meanA3_105  = np.array(S1meanA3_105 )\n",
        "\n",
        "S1rgbrefA1_405  = list()\n",
        "S1rgbA3_105  = list()\n",
        "for i in range(3):\n",
        "    S1rgbrefA1_405 .append(S1meanrefA1_405 [:,i].mean())\n",
        "    S1rgbA3_105 .append(S1meanA3_105 [:,i].mean())"
      ],
      "execution_count": 320,
      "outputs": []
    },
    {
      "cell_type": "code",
      "metadata": {
        "id": "k3UxCX2fPIKT"
      },
      "source": [
        "S1meanrefA1_505  = list()\n",
        "S1meanA3_5105  = list()\n",
        "for i in range(S1RGB_imgA1A3_55.shape[0]): \n",
        "     for j in range(S1RGB_imgA1A3_55.shape[1]): \n",
        "                if 1769<i<1881 and 2019<j<2131 :\n",
        "                  S1meanrefA1_505 .append(S1RGB_imgA1A3_55[i][j])\n",
        "                if 1770<i<1880 and 2015<j<2145 :\n",
        "                  S1meanA3_5105 .append(S1RGB_imgA1A3_55[i][j])  \n",
        "S1meanrefA1_505  = np.array(S1meanrefA1_5)\n",
        "S1meanA3_5105  = np.array(S1meanA3_51)\n",
        "\n",
        "S1rgbrefA1_505  = list()\n",
        "S1rgbA3_5105  = list()\n",
        "for i in range(3):\n",
        "    S1rgbrefA1_505 .append(S1meanrefA1_505 [:,i].mean())\n",
        "    S1rgbA3_5105 .append(S1meanA3_5105 [:,i].mean())"
      ],
      "execution_count": 321,
      "outputs": []
    },
    {
      "cell_type": "code",
      "metadata": {
        "id": "j-VsfMjOPIKV"
      },
      "source": [
        "S1meanrefA1_605  = list()\n",
        "S1meanA4_105  = list()\n",
        "for i in range(S1RGB_imgA1A4_5.shape[0]): \n",
        "     for j in range(S1RGB_imgA1A4_5.shape[1]): \n",
        "                if 1769<i<1881 and 2019<j<2131 :\n",
        "                  S1meanrefA1_605 .append(S1RGB_imgA1A4_5[i][j])\n",
        "                if 1770<i<1880 and 2015<j<2145 :\n",
        "                  S1meanA4_105 .append(S1RGB_imgA1A4_5[i][j])  \n",
        "S1meanrefA1_605 = np.array(S1meanrefA1_6)\n",
        "S1meanA4_105 = np.array(S1meanA4_1)\n",
        "\n",
        "S1rgbrefA1_605 = list()\n",
        "S1rgbA4_105 = list()\n",
        "for i in range(3):\n",
        "    S1rgbrefA1_605.append(S1meanrefA1_605[:,i].mean())\n",
        "    S1rgbA4_105.append(S1meanA4_105[:,i].mean())"
      ],
      "execution_count": 322,
      "outputs": []
    },
    {
      "cell_type": "code",
      "metadata": {
        "id": "1ud_OvLDPIKV"
      },
      "source": [
        "S1meanrefA1_705 = list()\n",
        "S1meanB1_105 = list()\n",
        "for i in range(S1RGB_imgA1B1_5.shape[0]): \n",
        "     for j in range(S1RGB_imgA1B1_5.shape[1]): \n",
        "                if 1769<i<1881 and 2019<j<2131 :\n",
        "                  S1meanrefA1_705.append(S1RGB_imgA1B1_5[i][j])\n",
        "                if 1770<i<1880 and 2015<j<2145 :\n",
        "                  S1meanB1_105.append(S1RGB_imgA1B1_5[i][j])  \n",
        "S1meanrefA1_705 = np.array(S1meanrefA1_705)\n",
        "S1meanB1_105 = np.array(S1meanB1_105)\n",
        "\n",
        "S1rgbrefA1_705 = list()\n",
        "S1rgbB1_105 = list()\n",
        "for i in range(3):\n",
        "    S1rgbrefA1_705.append(S1meanrefA1_705[:,i].mean())\n",
        "    S1rgbB1_105.append(S1meanB1_105[:,i].mean())"
      ],
      "execution_count": 323,
      "outputs": []
    },
    {
      "cell_type": "code",
      "metadata": {
        "id": "EaD2_t-7PIKW"
      },
      "source": [
        "S1meanrefA1_805 = list()\n",
        "S1meanB2_105 = list()\n",
        "for i in range(S1RGB_imgA1B2_5.shape[0]): \n",
        "     for j in range(S1RGB_imgA1B2_5.shape[1]): \n",
        "                if 1769<i<1881 and 2019<j<2131 :\n",
        "                  S1meanrefA1_805.append(S1RGB_imgA1B2_5[i][j])\n",
        "                if 1770<i<1880 and 2015<j<2145 :\n",
        "                  S1meanB2_105.append(S1RGB_imgA1B2_5[i][j])  \n",
        "S1meanrefA1_805 = np.array(S1meanrefA1_8)\n",
        "S1meanB2_105 = np.array(S1meanB2_1)\n",
        "\n",
        "S1rgbrefA1_805 = list()\n",
        "S1rgbB2_105 = list()\n",
        "for i in range(3):\n",
        "    S1rgbrefA1_805.append(S1meanrefA1_805[:,i].mean())\n",
        "    S1rgbB2_105.append(S1meanB2_105[:,i].mean())"
      ],
      "execution_count": 324,
      "outputs": []
    },
    {
      "cell_type": "code",
      "metadata": {
        "id": "WvVWR0mlPIKW"
      },
      "source": [
        "S1meanrefA1_905 = list()\n",
        "S1meanB3_105 = list()\n",
        "for i in range(S1RGB_imgA1B3_5.shape[0]): \n",
        "     for j in range(S1RGB_imgA1B3_5.shape[1]): \n",
        "                if 1769<i<1881 and 2019<j<2131 :\n",
        "                  S1meanrefA1_905.append(S1RGB_imgA1B3_5[i][j])\n",
        "                if 1770<i<1880 and 2015<j<2145 :\n",
        "                  S1meanB3_105.append(S1RGB_imgA1B3_5[i][j])  \n",
        "S1meanrefA1_905 = np.array(S1meanrefA1_905)\n",
        "S1meanB3_105 = np.array(S1meanB3_105)\n",
        "\n",
        "S1rgbrefA1_905 = list()\n",
        "S1rgbB3_105 = list()\n",
        "for i in range(3):\n",
        "    S1rgbrefA1_905.append(S1meanrefA1_905[:,i].mean())\n",
        "    S1rgbB3_105.append(S1meanB3_105[:,i].mean())"
      ],
      "execution_count": 325,
      "outputs": []
    },
    {
      "cell_type": "code",
      "metadata": {
        "id": "qAzCAafMPIKX"
      },
      "source": [
        "S1meanrefA1_1005 = list()\n",
        "S1meanB4_105 = list()\n",
        "for i in range(S1RGB_imgA1B4_5.shape[0]): \n",
        "     for j in range(S1RGB_imgA1B4_5.shape[1]): \n",
        "                if 1769<i<1881 and 2019<j<2131 :\n",
        "                  S1meanrefA1_1005.append(S1RGB_imgA1B4_5[i][j])\n",
        "                if 1770<i<1880 and 2015<j<2145 :\n",
        "                  S1meanB4_105.append(S1RGB_imgA1B4_5[i][j])  \n",
        "S1meanrefA1_1005 = np.array(S1meanrefA1_10)\n",
        "S1meanB4_105 = np.array(S1meanB4_1)\n",
        "\n",
        "S1rgbrefA1_1005 = list()\n",
        "S1rgbB4_105 = list()\n",
        "for i in range(3):\n",
        "    S1rgbrefA1_1005.append(S1meanrefA1_1005[:,i].mean())\n",
        "    S1rgbB4_105.append(S1meanB4_105[:,i].mean())"
      ],
      "execution_count": 326,
      "outputs": []
    },
    {
      "cell_type": "code",
      "metadata": {
        "id": "oIFyW6HKPIKX"
      },
      "source": [
        "S1meanrefA1_1105 = list()\n",
        "S1meanC1_105 = list()\n",
        "for i in range(S1RGB_imgA1C1_5.shape[0]): \n",
        "     for j in range(S1RGB_imgA1C1_5.shape[1]): \n",
        "                if 1769<i<1881 and 2019<j<2131 :\n",
        "                  S1meanrefA1_1105.append(S1RGB_imgA1C1_5[i][j])\n",
        "                if 1770<i<1880 and 2015<j<2145 :\n",
        "                  S1meanC1_105.append(S1RGB_imgA1C1_5[i][j])  \n",
        "S1meanrefA1_1105 = np.array(S1meanrefA1_1105)\n",
        "S1meanC1_105 = np.array(S1meanC1_105)\n",
        "\n",
        "S1rgbrefA1_1105 = list()\n",
        "S1rgbC1_105 = list()\n",
        "for i in range(3):\n",
        "    S1rgbrefA1_1105.append(S1meanrefA1_1105[:,i].mean())\n",
        "    S1rgbC1_105.append(S1meanC1_105[:,i].mean())"
      ],
      "execution_count": 327,
      "outputs": []
    },
    {
      "cell_type": "code",
      "metadata": {
        "id": "yOsgRrwFPIKY"
      },
      "source": [
        "S1meanrefA1_1205 = list()\n",
        "S1meanC2_105 = list()\n",
        "for i in range(S1RGB_imgA1C2_5.shape[0]): \n",
        "     for j in range(S1RGB_imgA1C2_5.shape[1]): \n",
        "                if 1769<i<1881 and 2019<j<2131 :\n",
        "                  S1meanrefA1_1205.append(S1RGB_imgA1C2_5[i][j])\n",
        "                if 1770<i<1880 and 2015<j<2145 :\n",
        "                  S1meanC2_105.append(S1RGB_imgA1C2_5[i][j])  \n",
        "S1meanrefA1_1205 = np.array(S1meanrefA1_1205)\n",
        "S1meanC2_105 = np.array(S1meanC2_105)\n",
        "\n",
        "S1rgbrefA1_1205 = list()\n",
        "S1rgbC2_105 = list()\n",
        "for i in range(3):\n",
        "    S1rgbrefA1_1205.append(S1meanrefA1_1205[:,i].mean())\n",
        "    S1rgbC2_105.append(S1meanC2_105[:,i].mean())"
      ],
      "execution_count": 328,
      "outputs": []
    },
    {
      "cell_type": "code",
      "metadata": {
        "id": "iWWRMtj7PIKY"
      },
      "source": [
        "S1meanrefA1_1305 = list()\n",
        "S1meanC3_105 = list()\n",
        "for i in range(S1RGB_imgA1C3_5.shape[0]): \n",
        "     for j in range(S1RGB_imgA1C3_5.shape[1]): \n",
        "                if 1769<i<1881 and 2019<j<2131 :\n",
        "                  S1meanrefA1_1305.append(S1RGB_imgA1C3_5[i][j])\n",
        "                if 1770<i<1880 and 2015<j<2145 :\n",
        "                  S1meanC3_105.append(S1RGB_imgA1C3_5[i][j])  \n",
        "S1meanrefA1_1305 = np.array(S1meanrefA1_13)\n",
        "S1meanC3_105 = np.array(S1meanC3_1)\n",
        "\n",
        "S1rgbrefA1_1305 = list()\n",
        "S1rgbC3_105 = list()\n",
        "for i in range(3):\n",
        "    S1rgbrefA1_1305.append(S1meanrefA1_1305[:,i].mean())\n",
        "    S1rgbC3_105.append(S1meanC3_105[:,i].mean())"
      ],
      "execution_count": 329,
      "outputs": []
    },
    {
      "cell_type": "code",
      "metadata": {
        "id": "RUKUTXzPPIKY"
      },
      "source": [
        "S1meanrefA1_1405 = list()\n",
        "S1meanC4_105 = list()\n",
        "for i in range(S1RGB_imgA1C4_5.shape[0]): \n",
        "     for j in range(S1RGB_imgA1C4_5.shape[1]): \n",
        "                if 1769<i<1881 and 2019<j<2131 :\n",
        "                  S1meanrefA1_1405.append(S1RGB_imgA1C4_5[i][j])\n",
        "                if 1770<i<1880 and 2015<j<2145 :\n",
        "                  S1meanC4_105.append(S1RGB_imgA1C4_5[i][j])  \n",
        "S1meanrefA1_1405 = np.array(S1meanrefA1_1405)\n",
        "S1meanC4_105 = np.array(S1meanC4_105)\n",
        "\n",
        "S1rgbrefA1_1405 = list()\n",
        "S1rgbC4_105 = list()\n",
        "for i in range(3):\n",
        "    S1rgbrefA1_1405.append(S1meanrefA1_1405[:,i].mean())\n",
        "    S1rgbC4_105.append(S1meanC4_105[:,i].mean())"
      ],
      "execution_count": 330,
      "outputs": []
    },
    {
      "cell_type": "code",
      "metadata": {
        "id": "ouvNr9pOPIKZ"
      },
      "source": [
        "S1meanrefA1_1505 = list()\n",
        "S1meanD2_105 = list()\n",
        "for i in range(S1RGB_imgA1D2_5.shape[0]): \n",
        "     for j in range(S1RGB_imgA1D2_5.shape[1]): \n",
        "                if 1769<i<1881 and 2019<j<2131 :\n",
        "                  S1meanrefA1_1505.append(S1RGB_imgA1D2_5[i][j])\n",
        "                if 1770<i<1880 and 2015<j<2145 :\n",
        "                  S1meanD2_105.append(S1RGB_imgA1D2_5[i][j])  \n",
        "S1meanrefA1_1505 = np.array(S1meanrefA1_15)\n",
        "S1meanD2_105 = np.array(S1meanD2_1)\n",
        "\n",
        "S1rgbrefA1_1505 = list()\n",
        "S1rgbD2_105 = list()\n",
        "for i in range(3):\n",
        "    S1rgbrefA1_1505.append(S1meanrefA1_1505[:,i].mean())\n",
        "    S1rgbD2_105.append(S1meanD2_105[:,i].mean())"
      ],
      "execution_count": 331,
      "outputs": []
    },
    {
      "cell_type": "code",
      "metadata": {
        "id": "3jNYetAuPIKZ"
      },
      "source": [
        "S1meanrefA1_1605 = list()\n",
        "S1meanD3_105 = list()\n",
        "for i in range(S1RGB_imgA1D3_5.shape[0]): \n",
        "     for j in range(S1RGB_imgA1D3_5.shape[1]): \n",
        "                if 1769<i<1881 and 2019<j<2131 :\n",
        "                  S1meanrefA1_1605.append(S1RGB_imgA1D3_5[i][j])\n",
        "                if 1770<i<1880 and 2015<j<2145 :\n",
        "                  S1meanD3_105.append(S1RGB_imgA1D3_5[i][j])  \n",
        "S1meanrefA1_1605 = np.array(S1meanrefA1_1605)\n",
        "S1meanD3_105 = np.array(S1meanD3_105)\n",
        "\n",
        "S1rgbrefA1_1605 = list()\n",
        "S1rgbD3_105 = list()\n",
        "for i in range(3):\n",
        "    S1rgbrefA1_1605.append(S1meanrefA1_1605[:,i].mean())\n",
        "    S1rgbD3_105.append(S1meanD3_105[:,i].mean())"
      ],
      "execution_count": 332,
      "outputs": []
    },
    {
      "cell_type": "code",
      "metadata": {
        "id": "n0HkYyGGPIKZ"
      },
      "source": [
        "S1meanrefA1_1705= list()\n",
        "S1meanD4_105 = list()\n",
        "for i in range(S1RGB_imgA1D4_5.shape[0]): \n",
        "     for j in range(S1RGB_imgA1D4_5.shape[1]): \n",
        "                if 1769<i<1881 and 2019<j<2131 :\n",
        "                  S1meanrefA1_1705.append(S1RGB_imgA1D4_5[i][j])\n",
        "                if 1770<i<1880 and 2015<j<2145 :\n",
        "                  S1meanD4_105.append(S1RGB_imgA1D4_5[i][j])  \n",
        "S1meanrefA1_1705 = np.array(S1meanrefA1_1405)\n",
        "S1meanD4_105 = np.array(S1meanD4_105)\n",
        "\n",
        "S1rgbrefA1_1705 = list()\n",
        "S1rgbD4_105 = list()\n",
        "for i in range(3):\n",
        "    S1rgbrefA1_1705.append(S1meanrefA1_1705[:,i].mean())\n",
        "    S1rgbD4_105.append(S1meanD4_105[:,i].mean())"
      ],
      "execution_count": 333,
      "outputs": []
    },
    {
      "cell_type": "markdown",
      "metadata": {
        "id": "7OGOajgpt7TD"
      },
      "source": [
        "###HSV"
      ]
    },
    {
      "cell_type": "code",
      "metadata": {
        "id": "gyewAPUYuQs5",
        "colab": {
          "base_uri": "https://localhost:8080/"
        },
        "outputId": "a8f536f1-6ed7-4eec-af2a-31b7f60b1bee"
      },
      "source": [
        "S1meanrefA1_1 = list()\n",
        "S1meanA1_2 = list()\n",
        "for i in range(S1HSV_imgA1A1_1.shape[0]): #ให้ i รันตาม row หรือ shape[0] คือแถว มีทั้งหมด 4032 แถว ของภาพที่ปรับขนาดมาแล้ว\n",
        "     for j in range(S1HSV_imgA1A1_1.shape[1]): #ให้ j รันตาม colum มีทั้งหมด 3024 colum เช่น แถวที่ 1 เข้ามาให้รันครบ 3024colum\n",
        "                if 1769<i<1881 and 2019<j<2131 :\n",
        "                  S1meanrefA1_1.append(S1HSV_imgA1A1_1[i][j])\n",
        "                if 1770<i<1880 and 2015<j<2145 :\n",
        "                  S1meanA1_2.append(S1HSV_imgA1A1_1[i][j])  \n",
        "S1meanrefA1_1 = np.array(S1meanrefA1_1)\n",
        "S1meanA1_2 = np.array(S1meanA1_2)\n",
        "\n",
        "S1hsvrefA1_1 = list()\n",
        "S1hsvA1_2 = list()\n",
        "for i in range(3):\n",
        "    S1hsvrefA1_1.append(S1meanrefA1_1[:,i].mean())\n",
        "    S1hsvA1_2.append(S1meanA1_2[:,i].mean())\n",
        "S1hsvrefA1_1,S1hsvA1_2 "
      ],
      "execution_count": 334,
      "outputs": [
        {
          "output_type": "execute_result",
          "data": {
            "text/plain": [
              "([27.856423991559126, 57.41652463274085, 223.3614966317669],\n",
              " [27.784083635587795, 57.27387810255316, 222.8151625062229])"
            ]
          },
          "metadata": {},
          "execution_count": 334
        }
      ]
    },
    {
      "cell_type": "code",
      "metadata": {
        "id": "dK9vu9zRuQs7"
      },
      "source": [
        "S1meanrefA1_3 = list()\n",
        "S1meanA2_1 = list()\n",
        "for i in range(S1HSV_imgA1A2_1.shape[0]): \n",
        "     for j in range(S1HSV_imgA1A2_1.shape[1]): \n",
        "                if 1769<i<1881 and 2019<j<2131 :\n",
        "                  S1meanrefA1_3.append(S1HSV_imgA1A2_1[i][j])\n",
        "                if 1770<i<1880 and 2015<j<2145 :\n",
        "                  S1meanA2_1.append(S1HSV_imgA1A2_1[i][j])  \n",
        "S1meanrefA1_3 = np.array(S1meanrefA1_3)\n",
        "S1meanA2_1 = np.array(S1meanA2_1)\n",
        "\n",
        "S1hsvrefA1_3 = list()\n",
        "S1hsvA2_1 = list()\n",
        "for i in range(3):\n",
        "    S1hsvrefA1_3.append(S1meanrefA1_3[:,i].mean())\n",
        "    S1hsvA2_1.append(S1meanA2_1[:,i].mean())"
      ],
      "execution_count": 335,
      "outputs": []
    },
    {
      "cell_type": "code",
      "metadata": {
        "id": "HVnaWekuuQs8"
      },
      "source": [
        "S1meanrefA1_4 = list()\n",
        "S1meanA3_1 = list()\n",
        "for i in range(S1HSV_imgA1A3_1.shape[0]): \n",
        "     for j in range(S1HSV_imgA1A3_1.shape[1]): \n",
        "                if 1769<i<1881 and 2019<j<2131 :\n",
        "                  S1meanrefA1_4.append(S1HSV_imgA1A3_1[i][j])\n",
        "                if 1770<i<1880 and 2015<j<2145 :\n",
        "                  S1meanA3_1.append(S1HSV_imgA1A3_1[i][j])  \n",
        "S1meanrefA1_4 = np.array(S1meanrefA1_4)\n",
        "S1meanA3_1 = np.array(S1meanA3_1)\n",
        "\n",
        "S1hsvrefA1_4 = list()\n",
        "S1hsvA3_1 = list()\n",
        "for i in range(3):\n",
        "    S1hsvrefA1_4.append(S1meanrefA1_4[:,i].mean())\n",
        "    S1hsvA3_1.append(S1meanA3_1[:,i].mean())"
      ],
      "execution_count": 336,
      "outputs": []
    },
    {
      "cell_type": "code",
      "metadata": {
        "id": "-YCvbbWAuQs8"
      },
      "source": [
        "S1meanrefA1_5 = list()\n",
        "S1meanA3_51 = list()\n",
        "for i in range(S1HSV_imgA1A3_51.shape[0]): \n",
        "     for j in range(S1HSV_imgA1A3_51.shape[1]): \n",
        "                if 1769<i<1881 and 2019<j<2131 :\n",
        "                  S1meanrefA1_5.append(S1HSV_imgA1A3_51[i][j])\n",
        "                if 1770<i<1880 and 2015<j<2145 :\n",
        "                  S1meanA3_51.append(S1HSV_imgA1A3_51[i][j])  \n",
        "S1meanrefA1_5 = np.array(S1meanrefA1_5)\n",
        "S1meanA3_51 = np.array(S1meanA3_51)\n",
        "\n",
        "S1hsvrefA1_5 = list()\n",
        "S1hsvA3_51 = list()\n",
        "for i in range(3):\n",
        "    S1hsvrefA1_5.append(S1meanrefA1_5[:,i].mean())\n",
        "    S1hsvA3_51.append(S1meanA3_51[:,i].mean())"
      ],
      "execution_count": 337,
      "outputs": []
    },
    {
      "cell_type": "code",
      "metadata": {
        "id": "UvZxCzLSuQs9"
      },
      "source": [
        "S1meanrefA1_6 = list()\n",
        "S1meanA4_1 = list()\n",
        "for i in range(S1HSV_imgA1A4_1.shape[0]): \n",
        "     for j in range(S1HSV_imgA1A4_1.shape[1]): \n",
        "                if 1769<i<1881 and 2019<j<2131 :\n",
        "                  S1meanrefA1_6.append(S1HSV_imgA1A4_1[i][j])\n",
        "                if 1770<i<1880 and 2015<j<2145 :\n",
        "                  S1meanA4_1.append(S1HSV_imgA1A4_1[i][j])  \n",
        "S1meanrefA1_6 = np.array(S1meanrefA1_6)\n",
        "S1meanA4_1 = np.array(S1meanA4_1)\n",
        "\n",
        "S1hsvrefA1_6 = list()\n",
        "S1hsvA4_1 = list()\n",
        "for i in range(3):\n",
        "    S1hsvrefA1_6.append(S1meanrefA1_6[:,i].mean())\n",
        "    S1hsvA4_1.append(S1meanA4_1[:,i].mean())"
      ],
      "execution_count": 338,
      "outputs": []
    },
    {
      "cell_type": "code",
      "metadata": {
        "id": "_KgSdI0LuQs-"
      },
      "source": [
        "S1meanrefA1_7 = list()\n",
        "S1meanB1_1 = list()\n",
        "for i in range(S1HSV_imgA1B1_1.shape[0]): \n",
        "     for j in range(S1HSV_imgA1B1_1.shape[1]): \n",
        "                if 1769<i<1881 and 2019<j<2131 :\n",
        "                  S1meanrefA1_7.append(S1HSV_imgA1B1_1[i][j])\n",
        "                if 1770<i<1880 and 2015<j<2145 :\n",
        "                  S1meanB1_1.append(S1HSV_imgA1B1_1[i][j])  \n",
        "S1meanrefA1_7 = np.array(S1meanrefA1_7)\n",
        "S1meanB1_1 = np.array(S1meanB1_1)\n",
        "\n",
        "S1hsvrefA1_7 = list()\n",
        "S1hsvB1_1 = list()\n",
        "for i in range(3):\n",
        "    S1hsvrefA1_7.append(S1meanrefA1_7[:,i].mean())\n",
        "    S1hsvB1_1.append(S1meanB1_1[:,i].mean())"
      ],
      "execution_count": 339,
      "outputs": []
    },
    {
      "cell_type": "code",
      "metadata": {
        "id": "D73bQNbSuQs_"
      },
      "source": [
        "S1meanrefA1_8 = list()\n",
        "S1meanB2_1 = list()\n",
        "for i in range(S1HSV_imgA1B2_1.shape[0]): \n",
        "     for j in range(S1HSV_imgA1B2_1.shape[1]): \n",
        "                if 1769<i<1881 and 2019<j<2131 :\n",
        "                  S1meanrefA1_8.append(S1HSV_imgA1B2_1[i][j])\n",
        "                if 1770<i<1880 and 2015<j<2145 :\n",
        "                  S1meanB2_1.append(S1HSV_imgA1B2_1[i][j])  \n",
        "S1meanrefA1_8 = np.array(S1meanrefA1_8)\n",
        "S1meanB2_1 = np.array(S1meanB2_1)\n",
        "\n",
        "S1hsvrefA1_8 = list()\n",
        "S1hsvB2_1 = list()\n",
        "for i in range(3):\n",
        "    S1hsvrefA1_8.append(S1meanrefA1_8[:,i].mean())\n",
        "    S1hsvB2_1.append(S1meanB2_1[:,i].mean())"
      ],
      "execution_count": 340,
      "outputs": []
    },
    {
      "cell_type": "code",
      "metadata": {
        "id": "-2Um-Pq5uQtA"
      },
      "source": [
        "S1meanrefA1_9 = list()\n",
        "S1meanB3_1 = list()\n",
        "for i in range(S1HSV_imgA1B3_1.shape[0]): \n",
        "     for j in range(S1HSV_imgA1B3_1.shape[1]): \n",
        "                if 1769<i<1881 and 2019<j<2131 :\n",
        "                  S1meanrefA1_9.append(S1HSV_imgA1B3_1[i][j])\n",
        "                if 1770<i<1880 and 2015<j<2145 :\n",
        "                  S1meanB3_1.append(S1HSV_imgA1B3_1[i][j])  \n",
        "S1meanrefA1_9 = np.array(S1meanrefA1_9)\n",
        "S1meanB3_1 = np.array(S1meanB3_1)\n",
        "\n",
        "S1hsvrefA1_9 = list()\n",
        "S1hsvB3_1 = list()\n",
        "for i in range(3):\n",
        "    S1hsvrefA1_9.append(S1meanrefA1_9[:,i].mean())\n",
        "    S1hsvB3_1.append(S1meanB3_1[:,i].mean())"
      ],
      "execution_count": 341,
      "outputs": []
    },
    {
      "cell_type": "code",
      "metadata": {
        "id": "Bprrg-KQuQtB"
      },
      "source": [
        "S1meanrefA1_10 = list()\n",
        "S1meanB4_1 = list()\n",
        "for i in range(S1HSV_imgA1B4_1.shape[0]): \n",
        "     for j in range(S1HSV_imgA1B4_1.shape[1]): \n",
        "                if 1769<i<1881 and 2019<j<2131 :\n",
        "                  S1meanrefA1_10.append(S1HSV_imgA1B4_1[i][j])\n",
        "                if 1770<i<1880 and 2015<j<2145 :\n",
        "                  S1meanB4_1.append(S1HSV_imgA1B4_1[i][j])  \n",
        "S1meanrefA1_10 = np.array(S1meanrefA1_10)\n",
        "S1meanB4_1 = np.array(S1meanB4_1)\n",
        "\n",
        "S1hsvrefA1_10 = list()\n",
        "S1hsvB4_1 = list()\n",
        "for i in range(3):\n",
        "    S1hsvrefA1_10.append(S1meanrefA1_10[:,i].mean())\n",
        "    S1hsvB4_1.append(S1meanB4_1[:,i].mean())"
      ],
      "execution_count": 342,
      "outputs": []
    },
    {
      "cell_type": "code",
      "metadata": {
        "id": "tM9mAjB8uQtB"
      },
      "source": [
        "S1meanrefA1_11 = list()\n",
        "S1meanC1_1 = list()\n",
        "for i in range(S1HSV_imgA1C1_1.shape[0]): \n",
        "     for j in range(S1HSV_imgA1C1_1.shape[1]): \n",
        "                if 1769<i<1881 and 2019<j<2131 :\n",
        "                  S1meanrefA1_11.append(S1HSV_imgA1C1_1[i][j])\n",
        "                if 1770<i<1880 and 2015<j<2145 :\n",
        "                  S1meanC1_1.append(S1HSV_imgA1C1_1[i][j])  \n",
        "S1meanrefA1_11 = np.array(S1meanrefA1_11)\n",
        "S1meanC1_1 = np.array(S1meanC1_1)\n",
        "\n",
        "S1hsvrefA1_11 = list()\n",
        "S1hsvC1_1 = list()\n",
        "for i in range(3):\n",
        "    S1hsvrefA1_11.append(S1meanrefA1_11[:,i].mean())\n",
        "    S1hsvC1_1.append(S1meanC1_1[:,i].mean())"
      ],
      "execution_count": 343,
      "outputs": []
    },
    {
      "cell_type": "code",
      "metadata": {
        "id": "kDklKgouuQtC"
      },
      "source": [
        "S1meanrefA1_12 = list()\n",
        "S1meanC2_1 = list()\n",
        "for i in range(S1HSV_imgA1C2_1.shape[0]): \n",
        "     for j in range(S1HSV_imgA1C2_1.shape[1]): \n",
        "                if 1769<i<1881 and 2019<j<2131 :\n",
        "                  S1meanrefA1_12.append(S1HSV_imgA1C2_1[i][j])\n",
        "                if 1770<i<1880 and 2015<j<2145 :\n",
        "                  S1meanC2_1.append(S1HSV_imgA1C2_1[i][j])  \n",
        "S1meanrefA1_12 = np.array(S1meanrefA1_12)\n",
        "S1meanC2_1 = np.array(S1meanC2_1)\n",
        "\n",
        "S1hsvrefA1_12 = list()\n",
        "S1hsvC2_1 = list()\n",
        "for i in range(3):\n",
        "    S1hsvrefA1_12.append(S1meanrefA1_12[:,i].mean())\n",
        "    S1hsvC2_1.append(S1meanC2_1[:,i].mean())"
      ],
      "execution_count": 344,
      "outputs": []
    },
    {
      "cell_type": "code",
      "metadata": {
        "id": "y5Ptet2IuQtC"
      },
      "source": [
        "S1meanrefA1_13 = list()\n",
        "S1meanC3_1 = list()\n",
        "for i in range(S1HSV_imgA1C3_1.shape[0]): \n",
        "     for j in range(S1HSV_imgA1C3_1.shape[1]): \n",
        "                if 1769<i<1881 and 2019<j<2131 :\n",
        "                  S1meanrefA1_13.append(S1HSV_imgA1C3_1[i][j])\n",
        "                if 1770<i<1880 and 2015<j<2145 :\n",
        "                  S1meanC3_1.append(S1HSV_imgA1C3_1[i][j])  \n",
        "S1meanrefA1_13 = np.array(S1meanrefA1_13)\n",
        "S1meanC3_1 = np.array(S1meanC3_1)\n",
        "\n",
        "S1hsvrefA1_13 = list()\n",
        "S1hsvC3_1 = list()\n",
        "for i in range(3):\n",
        "    S1hsvrefA1_13.append(S1meanrefA1_13[:,i].mean())\n",
        "    S1hsvC3_1.append(S1meanC3_1[:,i].mean())"
      ],
      "execution_count": 345,
      "outputs": []
    },
    {
      "cell_type": "code",
      "metadata": {
        "id": "HukrHNNxuQtC"
      },
      "source": [
        "S1meanrefA1_14 = list()\n",
        "S1meanC4_1 = list()\n",
        "for i in range(S1HSV_imgA1C4_1.shape[0]): \n",
        "     for j in range(S1HSV_imgA1C4_1.shape[1]): \n",
        "                if 1769<i<1881 and 2019<j<2131 :\n",
        "                  S1meanrefA1_14.append(S1HSV_imgA1C4_1[i][j])\n",
        "                if 1770<i<1880 and 2015<j<2145 :\n",
        "                  S1meanC4_1.append(S1HSV_imgA1C4_1[i][j])  \n",
        "S1meanrefA1_14 = np.array(S1meanrefA1_14)\n",
        "S1meanC4_1 = np.array(S1meanC4_1)\n",
        "\n",
        "S1hsvrefA1_14 = list()\n",
        "S1hsvC4_1 = list()\n",
        "for i in range(3):\n",
        "    S1hsvrefA1_14.append(S1meanrefA1_14[:,i].mean())\n",
        "    S1hsvC4_1.append(S1meanC4_1[:,i].mean())"
      ],
      "execution_count": 346,
      "outputs": []
    },
    {
      "cell_type": "code",
      "metadata": {
        "id": "EEzN-mXZuQtD"
      },
      "source": [
        "S1meanrefA1_15 = list()\n",
        "S1meanD2_1 = list()\n",
        "for i in range(S1HSV_imgA1D2_1.shape[0]): \n",
        "     for j in range(S1HSV_imgA1D2_1.shape[1]): \n",
        "                if 1769<i<1881 and 2019<j<2131 :\n",
        "                  S1meanrefA1_15.append(S1HSV_imgA1D2_1[i][j])\n",
        "                if 1770<i<1880 and 2015<j<2145 :\n",
        "                  S1meanD2_1.append(S1HSV_imgA1D2_1[i][j])  \n",
        "S1meanrefA1_15 = np.array(S1meanrefA1_15)\n",
        "S1meanD2_1 = np.array(S1meanD2_1)\n",
        "\n",
        "S1hsvrefA1_15 = list()\n",
        "S1hsvD2_1 = list()\n",
        "for i in range(3):\n",
        "    S1hsvrefA1_15.append(S1meanrefA1_15[:,i].mean())\n",
        "    S1hsvD2_1.append(S1meanD2_1[:,i].mean())"
      ],
      "execution_count": 347,
      "outputs": []
    },
    {
      "cell_type": "code",
      "metadata": {
        "id": "ceqVIiUGuQtD"
      },
      "source": [
        "S1meanrefA1_16 = list()\n",
        "S1meanD3_1 = list()\n",
        "for i in range(S1HSV_imgA1D3_1.shape[0]): \n",
        "     for j in range(S1HSV_imgA1D3_1.shape[1]): \n",
        "                if 1769<i<1881 and 2019<j<2131 :\n",
        "                  S1meanrefA1_16.append(S1HSV_imgA1D3_1[i][j])\n",
        "                if 1770<i<1880 and 2015<j<2145 :\n",
        "                  S1meanD3_1.append(S1HSV_imgA1D3_1[i][j])  \n",
        "S1meanrefA1_16 = np.array(S1meanrefA1_16)\n",
        "S1meanD3_1 = np.array(S1meanD3_1)\n",
        "\n",
        "S1hsvrefA1_16 = list()\n",
        "S1hsvD3_1 = list()\n",
        "for i in range(3):\n",
        "    S1hsvrefA1_16.append(S1meanrefA1_16[:,i].mean())\n",
        "    S1hsvD3_1.append(S1meanD3_1[:,i].mean())"
      ],
      "execution_count": 348,
      "outputs": []
    },
    {
      "cell_type": "code",
      "metadata": {
        "id": "GEl4Fv4ouQtD"
      },
      "source": [
        "S1meanrefA1_17= list()\n",
        "S1meanD4_1 = list()\n",
        "for i in range(S1HSV_imgA1D4_1.shape[0]): \n",
        "     for j in range(S1HSV_imgA1D4_1.shape[1]): \n",
        "                if 1769<i<1881 and 2019<j<2131 :\n",
        "                  S1meanrefA1_17.append(S1HSV_imgA1D4_1[i][j])\n",
        "                if 1770<i<1880 and 2015<j<2145 :\n",
        "                  S1meanD4_1.append(S1HSV_imgA1D4_1[i][j])  \n",
        "S1meanrefA1_17 = np.array(S1meanrefA1_14)\n",
        "S1meanD4_1 = np.array(S1meanD4_1)\n",
        "\n",
        "S1hsvrefA1_17 = list()\n",
        "S1hsvD4_1 = list()\n",
        "for i in range(3):\n",
        "    S1hsvrefA1_17.append(S1meanrefA1_17[:,i].mean())\n",
        "    S1hsvD4_1.append(S1meanD4_1[:,i].mean())"
      ],
      "execution_count": 349,
      "outputs": []
    },
    {
      "cell_type": "markdown",
      "metadata": {
        "id": "fe9uE8W88Y1l"
      },
      "source": [
        "###Img 2"
      ]
    },
    {
      "cell_type": "code",
      "metadata": {
        "id": "Xm87A-FV-1IY",
        "colab": {
          "base_uri": "https://localhost:8080/"
        },
        "outputId": "82f64f08-6481-4a29-f26d-a8d397b0bf5e"
      },
      "source": [
        "S1meanrefA1_102 = list()\n",
        "S1meanA1_202 = list()\n",
        "for i in range(S1HSV_imgA1A1_2.shape[0]): #ให้ i รันตาม row หรือ shape[0] คือแถว มีทั้งหมด 4032 แถว ของภาพที่ปรับขนาดมาแล้ว\n",
        "     for j in range(S1HSV_imgA1A1_2.shape[1]): #ให้ j รันตาม colum มีทั้งหมด 3024 colum เช่น แถวที่ 1 เข้ามาให้รันครบ 3024colum\n",
        "                if 1769<i<1881 and 2019<j<2131 :\n",
        "                  S1meanrefA1_102.append(S1HSV_imgA1A1_2[i][j])\n",
        "                if 1770<i<1880 and 2015<j<2145 :\n",
        "                  S1meanA1_202.append(S1HSV_imgA1A1_2[i][j])  \n",
        "S1meanrefA1_102= np.array(S1meanrefA1_102)\n",
        "S1meanA1_202 = np.array(S1meanA1_202)\n",
        "\n",
        "S1hsvrefA1_102 = list()\n",
        "S1hsvA1_202 = list()\n",
        "for i in range(3):\n",
        "    S1hsvrefA1_102.append(S1meanrefA1_1[:,i].mean())\n",
        "    S1hsvA1_202.append(S1meanA1_2[:,i].mean())\n",
        "S1hsvrefA1_102,S1hsvA1_202 "
      ],
      "execution_count": 350,
      "outputs": [
        {
          "output_type": "execute_result",
          "data": {
            "text/plain": [
              "([27.856423991559126, 57.41652463274085, 223.3614966317669],\n",
              " [27.784083635587795, 57.27387810255316, 222.8151625062229])"
            ]
          },
          "metadata": {},
          "execution_count": 350
        }
      ]
    },
    {
      "cell_type": "code",
      "metadata": {
        "id": "rYLMn5SR-1IZ"
      },
      "source": [
        "S1meanrefA1_302 = list()\n",
        "S1meanA2_102 = list()\n",
        "for i in range(S1HSV_imgA1A2_2.shape[0]): \n",
        "     for j in range(S1HSV_imgA1A2_2.shape[1]): \n",
        "                if 1769<i<1881 and 2019<j<2131 :\n",
        "                  S1meanrefA1_302.append(S1HSV_imgA1A2_2[i][j])\n",
        "                if 1770<i<1880 and 2015<j<2145 :\n",
        "                  S1meanA2_102.append(S1HSV_imgA1A2_2[i][j])  \n",
        "S1meanrefA1_302 = np.array(S1meanrefA1_3)\n",
        "S1meanA2_102 = np.array(S1meanA2_1)\n",
        "\n",
        "S1hsvrefA1_302 = list()\n",
        "S1hsvA2_102 = list()\n",
        "for i in range(3):\n",
        "    S1hsvrefA1_302.append(S1meanrefA1_302[:,i].mean())\n",
        "    S1hsvA2_102.append(S1meanA2_102[:,i].mean())"
      ],
      "execution_count": 351,
      "outputs": []
    },
    {
      "cell_type": "code",
      "metadata": {
        "id": "A5BphPfF-1Ia"
      },
      "source": [
        "S1meanrefA1_402 = list()\n",
        "S1meanA3_102 = list()\n",
        "for i in range(S1HSV_imgA1A3_2.shape[0]): \n",
        "     for j in range(S1HSV_imgA1A3_2.shape[1]): \n",
        "                if 1769<i<1881 and 2019<j<2131 :\n",
        "                  S1meanrefA1_402.append(S1HSV_imgA1A3_2[i][j])\n",
        "                if 1770<i<1880 and 2015<j<2145 :\n",
        "                  S1meanA3_102.append(S1HSV_imgA1A3_2[i][j])  \n",
        "S1meanrefA1_402= np.array(S1meanrefA1_402)\n",
        "S1meanA3_102 = np.array(S1meanA3_102)\n",
        "\n",
        "S1hsvrefA1_402 = list()\n",
        "S1hsvA3_102 = list()\n",
        "for i in range(3):\n",
        "    S1hsvrefA1_402.append(S1meanrefA1_402[:,i].mean())\n",
        "    S1hsvA3_102.append(S1meanA3_102[:,i].mean())"
      ],
      "execution_count": 352,
      "outputs": []
    },
    {
      "cell_type": "code",
      "metadata": {
        "id": "DQ0nlZoK-1Ia"
      },
      "source": [
        "S1meanrefA1_502 = list()\n",
        "S1meanA3_5102 = list()\n",
        "for i in range(S1HSV_imgA1A3_52.shape[0]): \n",
        "     for j in range(S1HSV_imgA1A3_52.shape[1]): \n",
        "                if 1769<i<1881 and 2019<j<2131 :\n",
        "                  S1meanrefA1_502.append(S1HSV_imgA1A3_52[i][j])\n",
        "                if 1770<i<1880 and 2015<j<2145 :\n",
        "                  S1meanA3_5102.append(S1HSV_imgA1A3_52[i][j])  \n",
        "S1meanrefA1_502 = np.array(S1meanrefA1_502)\n",
        "S1meanA3_5102 = np.array(S1meanA3_5102)\n",
        "\n",
        "S1hsvrefA1_502 = list()\n",
        "S1hsvA3_5102 = list()\n",
        "for i in range(3):\n",
        "    S1hsvrefA1_502.append(S1meanrefA1_502[:,i].mean())\n",
        "    S1hsvA3_5102.append(S1meanA3_5102[:,i].mean())"
      ],
      "execution_count": 353,
      "outputs": []
    },
    {
      "cell_type": "code",
      "metadata": {
        "id": "gn9mbsac-1Ib"
      },
      "source": [
        "S1meanrefA1_602 = list()\n",
        "S1meanA4_102 = list()\n",
        "for i in range(S1HSV_imgA1A4_2.shape[0]): \n",
        "     for j in range(S1HSV_imgA1A4_2.shape[1]): \n",
        "                if 1769<i<1881 and 2019<j<2131 :\n",
        "                  S1meanrefA1_602.append(S1HSV_imgA1A4_2[i][j])\n",
        "                if 1770<i<1880 and 2015<j<2145 :\n",
        "                  S1meanA4_102.append(S1HSV_imgA1A4_2[i][j])  \n",
        "S1meanrefA1_602 = np.array(S1meanrefA1_602)\n",
        "S1meanA4_102 = np.array(S1meanA4_102)\n",
        "\n",
        "S1hsvrefA1_602 = list()\n",
        "S1hsvA4_102 = list()\n",
        "for i in range(3):\n",
        "    S1hsvrefA1_602.append(S1meanrefA1_602[:,i].mean())\n",
        "    S1hsvA4_102.append(S1meanA4_102[:,i].mean())"
      ],
      "execution_count": 354,
      "outputs": []
    },
    {
      "cell_type": "code",
      "metadata": {
        "id": "3NYWQq6O-1Ib"
      },
      "source": [
        "S1meanrefA1_702 = list()\n",
        "S1meanB1_102 = list()\n",
        "for i in range(S1HSV_imgA1B1_2.shape[0]): \n",
        "     for j in range(S1HSV_imgA1B1_2.shape[1]): \n",
        "                if 1769<i<1881 and 2019<j<2131 :\n",
        "                  S1meanrefA1_702.append(S1HSV_imgA1B1_2[i][j])\n",
        "                if 1770<i<1880 and 2015<j<2145 :\n",
        "                  S1meanB1_102.append(S1HSV_imgA1B1_2[i][j])  \n",
        "S1meanrefA1_702 = np.array(S1meanrefA1_702)\n",
        "S1meanB1_102 = np.array(S1meanB1_102)\n",
        "\n",
        "S1hsvrefA1_702 = list()\n",
        "S1hsvB1_102 = list()\n",
        "for i in range(3):\n",
        "    S1hsvrefA1_702.append(S1meanrefA1_702[:,i].mean())\n",
        "    S1hsvB1_102.append(S1meanB1_102[:,i].mean())"
      ],
      "execution_count": 355,
      "outputs": []
    },
    {
      "cell_type": "code",
      "metadata": {
        "id": "tG9prEea-1Ic"
      },
      "source": [
        "S1meanrefA1_802 = list()\n",
        "S1meanB2_102 = list()\n",
        "for i in range(S1HSV_imgA1B2_2.shape[0]): \n",
        "     for j in range(S1HSV_imgA1B2_2.shape[1]): \n",
        "                if 1769<i<1881 and 2019<j<2131 :\n",
        "                  S1meanrefA1_802.append(S1HSV_imgA1B2_2[i][j])\n",
        "                if 1770<i<1880 and 2015<j<2145 :\n",
        "                  S1meanB2_102.append(S1HSV_imgA1B2_2[i][j])  \n",
        "S1meanrefA1_802 = np.array(S1meanrefA1_802)\n",
        "S1meanB2_102 = np.array(S1meanB2_102)\n",
        "\n",
        "S1hsvrefA1_802 = list()\n",
        "S1hsvB2_102 = list()\n",
        "for i in range(3):\n",
        "    S1hsvrefA1_802.append(S1meanrefA1_802[:,i].mean())\n",
        "    S1hsvB2_102.append(S1meanB2_102[:,i].mean())"
      ],
      "execution_count": 356,
      "outputs": []
    },
    {
      "cell_type": "code",
      "metadata": {
        "id": "eGt2Tuln-1Ic"
      },
      "source": [
        "S1meanrefA1_902 = list()\n",
        "S1meanB3_102 = list()\n",
        "for i in range(S1HSV_imgA1B3_2.shape[0]): \n",
        "     for j in range(S1HSV_imgA1B3_2.shape[1]): \n",
        "                if 1769<i<1881 and 2019<j<2131 :\n",
        "                  S1meanrefA1_902.append(S1HSV_imgA1B3_2[i][j])\n",
        "                if 1770<i<1880 and 2015<j<2145 :\n",
        "                  S1meanB3_102.append(S1HSV_imgA1B3_2[i][j])  \n",
        "S1meanrefA1_902 = np.array(S1meanrefA1_902)\n",
        "S1meanB3_102 = np.array(S1meanB3_102)\n",
        "\n",
        "S1hsvrefA1_902 = list()\n",
        "S1hsvB3_102 = list()\n",
        "for i in range(3):\n",
        "    S1hsvrefA1_902.append(S1meanrefA1_902[:,i].mean())\n",
        "    S1hsvB3_102.append(S1meanB3_102[:,i].mean())"
      ],
      "execution_count": 357,
      "outputs": []
    },
    {
      "cell_type": "code",
      "metadata": {
        "id": "kkHmxLn6-1Id"
      },
      "source": [
        "S1meanrefA1_1002 = list()\n",
        "S1meanB4_102 = list()\n",
        "for i in range(S1HSV_imgA1B4_2.shape[0]): \n",
        "     for j in range(S1HSV_imgA1B4_2.shape[1]): \n",
        "                if 1769<i<1881 and 2019<j<2131 :\n",
        "                  S1meanrefA1_1002.append(S1HSV_imgA1B4_2[i][j])\n",
        "                if 1770<i<1880 and 2015<j<2145 :\n",
        "                  S1meanB4_102.append(S1HSV_imgA1B4_2[i][j])  \n",
        "S1meanrefA1_1002 = np.array(S1meanrefA1_1002)\n",
        "S1meanB4_102 = np.array(S1meanB4_102)\n",
        "\n",
        "S1hsvrefA1_1002 = list()\n",
        "S1hsvB4_102 = list()\n",
        "for i in range(3):\n",
        "    S1hsvrefA1_1002.append(S1meanrefA1_1002[:,i].mean())\n",
        "    S1hsvB4_102.append(S1meanB4_102[:,i].mean())"
      ],
      "execution_count": 358,
      "outputs": []
    },
    {
      "cell_type": "code",
      "metadata": {
        "id": "Lb7z9PnN-1Id"
      },
      "source": [
        "S1meanrefA1_1102 = list()\n",
        "S1meanC1_102 = list()\n",
        "for i in range(S1HSV_imgA1C1_2.shape[0]): \n",
        "     for j in range(S1HSV_imgA1C1_2.shape[1]): \n",
        "                if 1769<i<1881 and 2019<j<2131 :\n",
        "                  S1meanrefA1_1102.append(S1HSV_imgA1C1_2[i][j])\n",
        "                if 1770<i<1880 and 2015<j<2145 :\n",
        "                  S1meanC1_102.append(S1HSV_imgA1C1_2[i][j])  \n",
        "S1meanrefA1_1102 = np.array(S1meanrefA1_1102)\n",
        "S1meanC1_102= np.array(S1meanC1_102)\n",
        "\n",
        "S1hsvrefA1_1102 = list()\n",
        "S1hsvC1_102 = list()\n",
        "for i in range(3):\n",
        "    S1hsvrefA1_1102.append(S1meanrefA1_1102[:,i].mean())\n",
        "    S1hsvC1_102.append(S1meanC1_102[:,i].mean())"
      ],
      "execution_count": 359,
      "outputs": []
    },
    {
      "cell_type": "code",
      "metadata": {
        "id": "MAT7IIoE-1Id"
      },
      "source": [
        "S1meanrefA1_1202 = list()\n",
        "S1meanC2_102 = list()\n",
        "for i in range(S1HSV_imgA1C2_2.shape[0]): \n",
        "     for j in range(S1HSV_imgA1C2_2.shape[1]): \n",
        "                if 1769<i<1881 and 2019<j<2131 :\n",
        "                  S1meanrefA1_1202.append(S1HSV_imgA1C2_2[i][j])\n",
        "                if 1770<i<1880 and 2015<j<2145 :\n",
        "                  S1meanC2_102.append(S1HSV_imgA1C2_2[i][j])  \n",
        "S1meanrefA1_1202 = np.array(S1meanrefA1_1202)\n",
        "S1meanC2_102 = np.array(S1meanC2_102)\n",
        "\n",
        "S1hsvrefA1_1202 = list()\n",
        "S1hsvC2_102 = list()\n",
        "for i in range(3):\n",
        "    S1hsvrefA1_1202.append(S1meanrefA1_1202[:,i].mean())\n",
        "    S1hsvC2_102.append(S1meanC2_102[:,i].mean())"
      ],
      "execution_count": 360,
      "outputs": []
    },
    {
      "cell_type": "code",
      "metadata": {
        "id": "Md5vmNBm-1Ie"
      },
      "source": [
        "S1meanrefA1_1302 = list()\n",
        "S1meanC3_102 = list()\n",
        "for i in range(S1HSV_imgA1C3_2.shape[0]): \n",
        "     for j in range(S1HSV_imgA1C3_2.shape[1]): \n",
        "                if 1769<i<1881 and 2019<j<2131 :\n",
        "                  S1meanrefA1_1302.append(S1HSV_imgA1C3_2[i][j])\n",
        "                if 1770<i<1880 and 2015<j<2145 :\n",
        "                  S1meanC3_102.append(S1HSV_imgA1C3_2[i][j])  \n",
        "S1meanrefA1_1302 = np.array(S1meanrefA1_1302)\n",
        "S1meanC3_102 = np.array(S1meanC3_102)\n",
        "\n",
        "S1hsvrefA1_1302 = list()\n",
        "S1hsvC3_102 = list()\n",
        "for i in range(3):\n",
        "    S1hsvrefA1_1302.append(S1meanrefA1_1302[:,i].mean())\n",
        "    S1hsvC3_102.append(S1meanC3_102[:,i].mean())"
      ],
      "execution_count": 361,
      "outputs": []
    },
    {
      "cell_type": "code",
      "metadata": {
        "id": "VGFMiVDs-1Ie"
      },
      "source": [
        "S1meanrefA1_1402 = list()\n",
        "S1meanC4_102 = list()\n",
        "for i in range(S1HSV_imgA1C4_2.shape[0]): \n",
        "     for j in range(S1HSV_imgA1C4_2.shape[1]): \n",
        "                if 1769<i<1881 and 2019<j<2131 :\n",
        "                  S1meanrefA1_1402.append(S1HSV_imgA1C4_2[i][j])\n",
        "                if 1770<i<1880 and 2015<j<2145 :\n",
        "                  S1meanC4_102.append(S1HSV_imgA1C4_2[i][j])  \n",
        "S1meanrefA1_1402 = np.array(S1meanrefA1_1402)\n",
        "S1meanC4_102 = np.array(S1meanC4_102)\n",
        "\n",
        "S1hsvrefA1_1402 = list()\n",
        "S1hsvC4_102 = list()\n",
        "for i in range(3):\n",
        "    S1hsvrefA1_1402.append(S1meanrefA1_1402[:,i].mean())\n",
        "    S1hsvC4_102.append(S1meanC4_102[:,i].mean())"
      ],
      "execution_count": 362,
      "outputs": []
    },
    {
      "cell_type": "code",
      "metadata": {
        "id": "3u4rPyIU-1If"
      },
      "source": [
        "S1meanrefA1_1502 = list()\n",
        "S1meanD2_102 = list()\n",
        "for i in range(S1HSV_imgA1D2_2.shape[0]): \n",
        "     for j in range(S1HSV_imgA1D2_2.shape[1]): \n",
        "                if 1769<i<1881 and 2019<j<2131 :\n",
        "                  S1meanrefA1_1502.append(S1HSV_imgA1D2_2[i][j])\n",
        "                if 1770<i<1880 and 2015<j<2145 :\n",
        "                  S1meanD2_102.append(S1HSV_imgA1D2_2[i][j])  \n",
        "S1meanrefA1_1502 = np.array(S1meanrefA1_1502)\n",
        "S1meanD2_102 = np.array(S1meanD2_102)\n",
        "\n",
        "S1hsvrefA1_1502 = list()\n",
        "S1hsvD2_102 = list()\n",
        "for i in range(3):\n",
        "    S1hsvrefA1_1502.append(S1meanrefA1_1502[:,i].mean())\n",
        "    S1hsvD2_102.append(S1meanD2_102[:,i].mean())"
      ],
      "execution_count": 363,
      "outputs": []
    },
    {
      "cell_type": "code",
      "metadata": {
        "id": "ZqpY4tfP-1Ig"
      },
      "source": [
        "S1meanrefA1_1602 = list()\n",
        "S1meanD3_102 = list()\n",
        "for i in range(S1HSV_imgA1D3_2.shape[0]): \n",
        "     for j in range(S1HSV_imgA1D3_2.shape[1]): \n",
        "                if 1769<i<1881 and 2019<j<2131 :\n",
        "                  S1meanrefA1_1602.append(S1HSV_imgA1D3_2[i][j])\n",
        "                if 1770<i<1880 and 2015<j<2145 :\n",
        "                  S1meanD3_102.append(S1HSV_imgA1D3_2[i][j])  \n",
        "S1meanrefA1_1602 = np.array(S1meanrefA1_1602)\n",
        "S1meanD3_102 = np.array(S1meanD3_102)\n",
        "\n",
        "S1hsvrefA1_1602 = list()\n",
        "S1hsvD3_102 = list()\n",
        "for i in range(3):\n",
        "    S1hsvrefA1_1602.append(S1meanrefA1_1602[:,i].mean())\n",
        "    S1hsvD3_102.append(S1meanD3_102[:,i].mean())"
      ],
      "execution_count": 364,
      "outputs": []
    },
    {
      "cell_type": "code",
      "metadata": {
        "id": "Gg3OiTIE-1Ih"
      },
      "source": [
        "S1meanrefA1_1702= list()\n",
        "S1meanD4_102 = list()\n",
        "for i in range(S1HSV_imgA1D4_2.shape[0]): \n",
        "     for j in range(S1HSV_imgA1D4_2.shape[1]): \n",
        "                if 1769<i<1881 and 2019<j<2131 :\n",
        "                  S1meanrefA1_1702.append(S1HSV_imgA1D4_2[i][j])\n",
        "                if 1770<i<1880 and 2015<j<2145 :\n",
        "                  S1meanD4_102.append(S1HSV_imgA1D4_2[i][j])  \n",
        "S1meanrefA1_1702 = np.array(S1meanrefA1_1702)\n",
        "S1meanD4_102 = np.array(S1meanD4_102)\n",
        "\n",
        "S1hsvrefA1_1702 = list()\n",
        "S1hsvD4_102 = list()\n",
        "for i in range(3):\n",
        "    S1hsvrefA1_1702.append(S1meanrefA1_1702[:,i].mean())\n",
        "    S1hsvD4_102.append(S1meanD4_102[:,i].mean())"
      ],
      "execution_count": 365,
      "outputs": []
    },
    {
      "cell_type": "markdown",
      "metadata": {
        "id": "V9K2-oKw8lpO"
      },
      "source": [
        "###Img 3"
      ]
    },
    {
      "cell_type": "code",
      "metadata": {
        "id": "MRhjsmBPaD64",
        "colab": {
          "base_uri": "https://localhost:8080/"
        },
        "outputId": "2be14567-78f3-4ef8-f92d-f161fea37cde"
      },
      "source": [
        "S1meanrefA1_103 = list()\n",
        "S1meanA1_203 = list()\n",
        "for i in range(S1HSV_imgA1A1_3.shape[0]): #ให้ i รันตาม row หรือ shape[0] คือแถว มีทั้งหมด 4032 แถว ของภาพที่ปรับขนาดมาแล้ว\n",
        "     for j in range(S1HSV_imgA1A1_3.shape[1]): #ให้ j รันตาม colum มีทั้งหมด 3024 colum เช่น แถวที่ 1 เข้ามาให้รันครบ 3024colum\n",
        "                if 1769<i<1881 and 2019<j<2131 :\n",
        "                  S1meanrefA1_103.append(S1HSV_imgA1A1_3[i][j])\n",
        "                if 1770<i<1880 and 2015<j<2145 :\n",
        "                  S1meanA1_203.append(S1HSV_imgA1A1_3[i][j])  \n",
        "S1meanrefA1_103 = np.array(S1meanrefA1_103)\n",
        "S1meanA1_203 = np.array(S1meanA1_203)\n",
        "\n",
        "S1hsvrefA1_103 = list()\n",
        "S1hsvA1_203 = list()\n",
        "for i in range(3):\n",
        "    S1hsvrefA1_103.append(S1meanrefA1_103[:,i].mean())\n",
        "    S1hsvA1_203.append(S1meanA1_203[:,i].mean())\n",
        "S1hsvrefA1_103,S1hsvA1_203 "
      ],
      "execution_count": 366,
      "outputs": [
        {
          "output_type": "execute_result",
          "data": {
            "text/plain": [
              "([26.458485512539568, 48.30874117360604, 212.21954386819252],\n",
              " [26.439371310717586, 48.13768579759619, 211.93855344570088])"
            ]
          },
          "metadata": {},
          "execution_count": 366
        }
      ]
    },
    {
      "cell_type": "code",
      "metadata": {
        "id": "8mLq2ZPPaD68"
      },
      "source": [
        "S1meanrefA1_303 = list()\n",
        "S1meanA2_103 = list()\n",
        "for i in range(S1HSV_imgA1A2_3.shape[0]): \n",
        "     for j in range(S1HSV_imgA1A2_3.shape[1]): \n",
        "                if 1769<i<1881 and 2019<j<2131 :\n",
        "                  S1meanrefA1_303.append(S1HSV_imgA1A2_3[i][j])\n",
        "                if 1770<i<1880 and 2015<j<2145 :\n",
        "                  S1meanA2_103.append(S1HSV_imgA1A2_3[i][j])  \n",
        "S1meanrefA1_303 = np.array(S1meanrefA1_303)\n",
        "S1meanA2_103 = np.array(S1meanA2_103)\n",
        "\n",
        "S1hsvrefA1_303 = list()\n",
        "S1hsvA2_103 = list()\n",
        "for i in range(3):\n",
        "    S1hsvrefA1_303.append(S1meanrefA1_303[:,i].mean())\n",
        "    S1hsvA2_103.append(S1meanA2_103[:,i].mean())"
      ],
      "execution_count": 367,
      "outputs": []
    },
    {
      "cell_type": "code",
      "metadata": {
        "id": "2D3d780VaD69"
      },
      "source": [
        "S1meanrefA1_403 = list()\n",
        "S1meanA3_103 = list()\n",
        "for i in range(S1HSV_imgA1A3_3.shape[0]): \n",
        "     for j in range(S1HSV_imgA1A3_3.shape[1]): \n",
        "                if 1769<i<1881 and 2019<j<2131 :\n",
        "                  S1meanrefA1_403.append(S1HSV_imgA1A3_3[i][j])\n",
        "                if 1770<i<1880 and 2015<j<2145 :\n",
        "                  S1meanA3_103.append(S1HSV_imgA1A3_3[i][j])  \n",
        "S1meanrefA1_403 = np.array(S1meanrefA1_403)\n",
        "S1meanA3_103 = np.array(S1meanA3_103)\n",
        "\n",
        "S1hsvrefA1_403 = list()\n",
        "S1hsvA3_103 = list()\n",
        "for i in range(3):\n",
        "    S1hsvrefA1_403.append(S1meanrefA1_403[:,i].mean())\n",
        "    S1hsvA3_103.append(S1meanA3_103[:,i].mean())"
      ],
      "execution_count": 368,
      "outputs": []
    },
    {
      "cell_type": "code",
      "metadata": {
        "id": "UZqI76CTaD6-"
      },
      "source": [
        "S1meanrefA1_503 = list()\n",
        "S1meanA3_5103 = list()\n",
        "for i in range(S1HSV_imgA1A3_53.shape[0]): \n",
        "     for j in range(S1HSV_imgA1A3_53.shape[1]): \n",
        "                if 1769<i<1881 and 2019<j<2131 :\n",
        "                  S1meanrefA1_503.append(S1HSV_imgA1A3_53[i][j])\n",
        "                if 1770<i<1880 and 2015<j<2145 :\n",
        "                  S1meanA3_5103.append(S1HSV_imgA1A3_53[i][j])  \n",
        "S1meanrefA1_503 = np.array(S1meanrefA1_503)\n",
        "S1meanA3_5103 = np.array(S1meanA3_5103)\n",
        "\n",
        "S1hsvrefA1_503 = list()\n",
        "S1hsvA3_5103 = list()\n",
        "for i in range(3):\n",
        "    S1hsvrefA1_503.append(S1meanrefA1_503[:,i].mean())\n",
        "    S1hsvA3_5103.append(S1meanA3_5103[:,i].mean())"
      ],
      "execution_count": 369,
      "outputs": []
    },
    {
      "cell_type": "code",
      "metadata": {
        "id": "Sr2jeoZ2aD6_"
      },
      "source": [
        "S1meanrefA1_603 = list()\n",
        "S1meanA4_103 = list()\n",
        "for i in range(S1HSV_imgA1A4_3.shape[0]): \n",
        "     for j in range(S1HSV_imgA1A4_3.shape[1]): \n",
        "                if 1769<i<1881 and 2019<j<2131 :\n",
        "                  S1meanrefA1_603.append(S1HSV_imgA1A4_3[i][j])\n",
        "                if 1770<i<1880 and 2015<j<2145 :\n",
        "                  S1meanA4_103.append(S1HSV_imgA1A4_3[i][j])  \n",
        "S1meanrefA1_603 = np.array(S1meanrefA1_603)\n",
        "S1meanA4_103 = np.array(S1meanA4_103)\n",
        "\n",
        "S1hsvrefA1_603 = list()\n",
        "S1hsvA4_103 = list()\n",
        "for i in range(3):\n",
        "    S1hsvrefA1_603.append(S1meanrefA1_603[:,i].mean())\n",
        "    S1hsvA4_103.append(S1meanA4_103[:,i].mean())"
      ],
      "execution_count": 370,
      "outputs": []
    },
    {
      "cell_type": "code",
      "metadata": {
        "id": "3uzrToiraD7A"
      },
      "source": [
        "S1meanrefA1_703 = list()\n",
        "S1meanB1_103 = list()\n",
        "for i in range(S1HSV_imgA1B1_3.shape[0]): \n",
        "     for j in range(S1HSV_imgA1B1_3.shape[1]): \n",
        "                if 1769<i<1881 and 2019<j<2131 :\n",
        "                  S1meanrefA1_703.append(S1HSV_imgA1B1_3[i][j])\n",
        "                if 1770<i<1880 and 2015<j<2145 :\n",
        "                  S1meanB1_103.append(S1HSV_imgA1B1_3[i][j])  \n",
        "S1meanrefA1_703 = np.array(S1meanrefA1_703)\n",
        "S1meanB1_103 = np.array(S1meanB1_103)\n",
        "\n",
        "S1hsvrefA1_703 = list()\n",
        "S1hsvB1_103 = list()\n",
        "for i in range(3):\n",
        "    S1hsvrefA1_703.append(S1meanrefA1_703[:,i].mean())\n",
        "    S1hsvB1_103.append(S1meanB1_103[:,i].mean())"
      ],
      "execution_count": 371,
      "outputs": []
    },
    {
      "cell_type": "code",
      "metadata": {
        "id": "H07I0B3FaD7A"
      },
      "source": [
        "S1meanrefA1_803 = list()\n",
        "S1meanB2_103 = list()\n",
        "for i in range(S1HSV_imgA1B2_3.shape[0]): \n",
        "     for j in range(S1HSV_imgA1B2_3.shape[1]): \n",
        "                if 1769<i<1881 and 2019<j<2131 :\n",
        "                  S1meanrefA1_803.append(S1HSV_imgA1B2_3[i][j])\n",
        "                if 1770<i<1880 and 2015<j<2145 :\n",
        "                  S1meanB2_103.append(S1HSV_imgA1B2_3[i][j])  \n",
        "S1meanrefA1_803 = np.array(S1meanrefA1_803)\n",
        "S1meanB2_103 = np.array(S1meanB2_103)\n",
        "\n",
        "S1hsvrefA1_803 = list()\n",
        "S1hsvB2_103 = list()\n",
        "for i in range(3):\n",
        "    S1hsvrefA1_803.append(S1meanrefA1_803[:,i].mean())\n",
        "    S1hsvB2_103.append(S1meanB2_103[:,i].mean())"
      ],
      "execution_count": 372,
      "outputs": []
    },
    {
      "cell_type": "code",
      "metadata": {
        "id": "scFxo4IkaD7B"
      },
      "source": [
        "S1meanrefA1_903 = list()\n",
        "S1meanB3_103 = list()\n",
        "for i in range(S1HSV_imgA1B3_3.shape[0]): \n",
        "     for j in range(S1HSV_imgA1B3_3.shape[1]): \n",
        "                if 1769<i<1881 and 2019<j<2131 :\n",
        "                  S1meanrefA1_903.append(S1HSV_imgA1B3_3[i][j])\n",
        "                if 1770<i<1880 and 2015<j<2145 :\n",
        "                  S1meanB3_103.append(S1HSV_imgA1B3_3[i][j])  \n",
        "S1meanrefA1_903 = np.array(S1meanrefA1_903)\n",
        "S1meanB3_103 = np.array(S1meanB3_103)\n",
        "\n",
        "S1hsvrefA1_903 = list()\n",
        "S1hsvB3_103 = list()\n",
        "for i in range(3):\n",
        "    S1hsvrefA1_903.append(S1meanrefA1_9[:,i].mean())\n",
        "    S1hsvB3_103.append(S1meanB3_1[:,i].mean())"
      ],
      "execution_count": 373,
      "outputs": []
    },
    {
      "cell_type": "code",
      "metadata": {
        "id": "upHvOqQMaD7B"
      },
      "source": [
        "S1meanrefA1_1003 = list()\n",
        "S1meanB4_103 = list()\n",
        "for i in range(S1HSV_imgA1B4_3.shape[0]): \n",
        "     for j in range(S1HSV_imgA1B4_3.shape[1]): \n",
        "                if 1769<i<1881 and 2019<j<2131 :\n",
        "                  S1meanrefA1_1003.append(S1HSV_imgA1B4_3[i][j])\n",
        "                if 1770<i<1880 and 2015<j<2145 :\n",
        "                  S1meanB4_103.append(S1HSV_imgA1B4_3[i][j])  \n",
        "S1meanrefA1_1003 = np.array(S1meanrefA1_1003)\n",
        "S1meanB4_103 = np.array(S1meanB4_103)\n",
        "\n",
        "S1hsvrefA1_1003 = list()\n",
        "S1hsvB4_103 = list()\n",
        "for i in range(3):\n",
        "    S1hsvrefA1_1003.append(S1meanrefA1_1003[:,i].mean())\n",
        "    S1hsvB4_103.append(S1meanB4_103[:,i].mean())"
      ],
      "execution_count": 374,
      "outputs": []
    },
    {
      "cell_type": "code",
      "metadata": {
        "id": "DTwQ6hWzaD7C"
      },
      "source": [
        "S1meanrefA1_1103 = list()\n",
        "S1meanC1_103 = list()\n",
        "for i in range(S1HSV_imgA1C1_3.shape[0]): \n",
        "     for j in range(S1HSV_imgA1C1_3.shape[1]): \n",
        "                if 1769<i<1881 and 2019<j<2131 :\n",
        "                  S1meanrefA1_1103.append(S1HSV_imgA1C1_3[i][j])\n",
        "                if 1770<i<1880 and 2015<j<2145 :\n",
        "                  S1meanC1_103.append(S1HSV_imgA1C1_3[i][j])  \n",
        "S1meanrefA1_1103 = np.array(S1meanrefA1_1103)\n",
        "S1meanC1_103 = np.array(S1meanC1_103)\n",
        "\n",
        "S1hsvrefA1_1103 = list()\n",
        "S1hsvC1_103 = list()\n",
        "for i in range(3):\n",
        "    S1hsvrefA1_1103.append(S1meanrefA1_1103[:,i].mean())\n",
        "    S1hsvC1_103.append(S1meanC1_103[:,i].mean())"
      ],
      "execution_count": 375,
      "outputs": []
    },
    {
      "cell_type": "code",
      "metadata": {
        "id": "VhGjLm5PaD7D"
      },
      "source": [
        "S1meanrefA1_1203 = list()\n",
        "S1meanC2_103 = list()\n",
        "for i in range(S1HSV_imgA1C2_3.shape[0]): \n",
        "     for j in range(S1HSV_imgA1C2_3.shape[1]): \n",
        "                if 1769<i<1881 and 2019<j<2131 :\n",
        "                  S1meanrefA1_1203.append(S1HSV_imgA1C2_3[i][j])\n",
        "                if 1770<i<1880 and 2015<j<2145 :\n",
        "                  S1meanC2_103.append(S1HSV_imgA1C2_3[i][j])  \n",
        "S1meanrefA1_1203 = np.array(S1meanrefA1_1203)\n",
        "S1meanC2_103 = np.array(S1meanC2_103)\n",
        "\n",
        "S1hsvrefA1_1203 = list()\n",
        "S1hsvC2_103 = list()\n",
        "for i in range(3):\n",
        "    S1hsvrefA1_1203.append(S1meanrefA1_1203[:,i].mean())\n",
        "    S1hsvC2_103.append(S1meanC2_103[:,i].mean())"
      ],
      "execution_count": 376,
      "outputs": []
    },
    {
      "cell_type": "code",
      "metadata": {
        "id": "PVa_ARI7aD7D"
      },
      "source": [
        "S1meanrefA1_1303 = list()\n",
        "S1meanC3_103 = list()\n",
        "for i in range(S1HSV_imgA1C3_3.shape[0]): \n",
        "     for j in range(S1HSV_imgA1C3_3.shape[1]): \n",
        "                if 1769<i<1881 and 2019<j<2131 :\n",
        "                  S1meanrefA1_1303.append(S1HSV_imgA1C3_3[i][j])\n",
        "                if 1770<i<1880 and 2015<j<2145 :\n",
        "                  S1meanC3_103.append(S1HSV_imgA1C3_3[i][j])  \n",
        "S1meanrefA1_1303 = np.array(S1meanrefA1_1303)\n",
        "S1meanC3_103 = np.array(S1meanC3_103)\n",
        "\n",
        "S1hsvrefA1_1303 = list()\n",
        "S1hsvC3_103 = list()\n",
        "for i in range(3):\n",
        "    S1hsvrefA1_1303.append(S1meanrefA1_1303[:,i].mean())\n",
        "    S1hsvC3_103.append(S1meanC3_103[:,i].mean())"
      ],
      "execution_count": 377,
      "outputs": []
    },
    {
      "cell_type": "code",
      "metadata": {
        "id": "9rsxA2L8aD7D"
      },
      "source": [
        "S1meanrefA1_1403 = list()\n",
        "S1meanC4_103 = list()\n",
        "for i in range(S1HSV_imgA1C4_3.shape[0]): \n",
        "     for j in range(S1HSV_imgA1C4_3.shape[1]): \n",
        "                if 1769<i<1881 and 2019<j<2131 :\n",
        "                  S1meanrefA1_1403.append(S1HSV_imgA1C4_3[i][j])\n",
        "                if 1770<i<1880 and 2015<j<2145 :\n",
        "                  S1meanC4_103.append(S1HSV_imgA1C4_3[i][j])  \n",
        "S1meanrefA1_1403 = np.array(S1meanrefA1_1403)\n",
        "S1meanC4_103 = np.array(S1meanC4_103)\n",
        "\n",
        "S1hsvrefA1_1403 = list()\n",
        "S1hsvC4_103 = list()\n",
        "for i in range(3):\n",
        "    S1hsvrefA1_1403.append(S1meanrefA1_1403[:,i].mean())\n",
        "    S1hsvC4_103.append(S1meanC4_103[:,i].mean())"
      ],
      "execution_count": 378,
      "outputs": []
    },
    {
      "cell_type": "code",
      "metadata": {
        "id": "IeBME7OKaD7E"
      },
      "source": [
        "S1meanrefA1_1503 = list()\n",
        "S1meanD2_103 = list()\n",
        "for i in range(S1HSV_imgA1D2_3.shape[0]): \n",
        "     for j in range(S1HSV_imgA1D2_3.shape[1]): \n",
        "                if 1769<i<1881 and 2019<j<2131 :\n",
        "                  S1meanrefA1_1503.append(S1HSV_imgA1D2_3[i][j])\n",
        "                if 1770<i<1880 and 2015<j<2145 :\n",
        "                  S1meanD2_103.append(S1HSV_imgA1D2_3[i][j])  \n",
        "S1meanrefA1_1503 = np.array(S1meanrefA1_1503)\n",
        "S1meanD2_103 = np.array(S1meanD2_103)\n",
        "\n",
        "S1hsvrefA1_1503 = list()\n",
        "S1hsvD2_103 = list()\n",
        "for i in range(3):\n",
        "    S1hsvrefA1_1503.append(S1meanrefA1_1503[:,i].mean())\n",
        "    S1hsvD2_103.append(S1meanD2_103[:,i].mean())"
      ],
      "execution_count": 379,
      "outputs": []
    },
    {
      "cell_type": "code",
      "metadata": {
        "id": "w8-WEzxtaD7E"
      },
      "source": [
        "S1meanrefA1_1603 = list()\n",
        "S1meanD3_103 = list()\n",
        "for i in range(S1HSV_imgA1D3_3.shape[0]): \n",
        "     for j in range(S1HSV_imgA1D3_3.shape[1]): \n",
        "                if 1769<i<1881 and 2019<j<2131 :\n",
        "                  S1meanrefA1_1603.append(S1HSV_imgA1D3_3[i][j])\n",
        "                if 1770<i<1880 and 2015<j<2145 :\n",
        "                  S1meanD3_103.append(S1HSV_imgA1D3_3[i][j])  \n",
        "S1meanrefA1_1603 = np.array(S1meanrefA1_1603)\n",
        "S1meanD3_103 = np.array(S1meanD3_103)\n",
        "\n",
        "S1hsvrefA1_1603 = list()\n",
        "S1hsvD3_103 = list()\n",
        "for i in range(3):\n",
        "    S1hsvrefA1_1603.append(S1meanrefA1_1603[:,i].mean())\n",
        "    S1hsvD3_103.append(S1meanD3_103[:,i].mean())"
      ],
      "execution_count": 380,
      "outputs": []
    },
    {
      "cell_type": "code",
      "metadata": {
        "id": "OIsms0DjaD7F"
      },
      "source": [
        "S1meanrefA1_1703= list()\n",
        "S1meanD4_103 = list()\n",
        "for i in range(S1HSV_imgA1D4_3.shape[0]): \n",
        "     for j in range(S1HSV_imgA1D4_3.shape[1]): \n",
        "                if 1769<i<1881 and 2019<j<2131 :\n",
        "                  S1meanrefA1_1703.append(S1HSV_imgA1D4_3[i][j])\n",
        "                if 1770<i<1880 and 2015<j<2145 :\n",
        "                  S1meanD4_103.append(S1HSV_imgA1D4_3[i][j])  \n",
        "S1meanrefA1_1703 = np.array(S1meanrefA1_1403)\n",
        "S1meanD4_103 = np.array(S1meanD4_103)\n",
        "\n",
        "S1hsvrefA1_1703 = list()\n",
        "S1hsvD4_103 = list()\n",
        "for i in range(3):\n",
        "    S1hsvrefA1_1703.append(S1meanrefA1_1703[:,i].mean())\n",
        "    S1hsvD4_103.append(S1meanD4_103[:,i].mean())"
      ],
      "execution_count": 381,
      "outputs": []
    },
    {
      "cell_type": "markdown",
      "metadata": {
        "id": "ccU_XQuv8nEE"
      },
      "source": [
        "###Img 4"
      ]
    },
    {
      "cell_type": "code",
      "metadata": {
        "id": "wvN1uUmKaICO",
        "colab": {
          "base_uri": "https://localhost:8080/"
        },
        "outputId": "59cdcfe7-860a-418f-bb57-ec7c36ce00cc"
      },
      "source": [
        "S1meanrefA1_104 = list()\n",
        "S1meanA1_204 = list()\n",
        "for i in range(S1HSV_imgA1A1_4.shape[0]): #ให้ i รันตาม row หรือ shape[0] คือแถว มีทั้งหมด 4032 แถว ของภาพที่ปรับขนาดมาแล้ว\n",
        "     for j in range(S1HSV_imgA1A1_4.shape[1]): #ให้ j รันตาม colum มีทั้งหมด 3024 colum เช่น แถวที่ 1 เข้ามาให้รันครบ 3024colum\n",
        "                if 1769<i<1881 and 2019<j<2131 :\n",
        "                  S1meanrefA1_104.append(S1HSV_imgA1A1_4[i][j])\n",
        "                if 1770<i<1880 and 2015<j<2145 :\n",
        "                  S1meanA1_204.append(S1HSV_imgA1A1_4[i][j])  \n",
        "S1meanrefA1_104 = np.array(S1meanrefA1_104)\n",
        "S1meanA1_204 = np.array(S1meanA1_204)\n",
        "\n",
        "S1hsvrefA1_104 = list()\n",
        "S1hsvA1_204 = list()\n",
        "for i in range(3):\n",
        "    S1hsvrefA1_104.append(S1meanrefA1_104[:,i].mean())\n",
        "    S1hsvA1_204.append(S1meanA1_204[:,i].mean())\n",
        "S1hsvrefA1_104,S1hsvA1_204 "
      ],
      "execution_count": 382,
      "outputs": [
        {
          "output_type": "execute_result",
          "data": {
            "text/plain": [
              "([26.153396639883127, 63.53299245191137, 211.4133593052512],\n",
              " [26.122181921627195, 63.4616314629116, 211.0674916435531])"
            ]
          },
          "metadata": {},
          "execution_count": 382
        }
      ]
    },
    {
      "cell_type": "code",
      "metadata": {
        "id": "yVzXURhOaICP"
      },
      "source": [
        "S1meanrefA1_304 = list()\n",
        "S1meanA2_104 = list()\n",
        "for i in range(S1HSV_imgA1A2_4.shape[0]): \n",
        "     for j in range(S1HSV_imgA1A2_4.shape[1]): \n",
        "                if 1769<i<1881 and 2019<j<2131 :\n",
        "                  S1meanrefA1_304.append(S1HSV_imgA1A2_4[i][j])\n",
        "                if 1770<i<1880 and 2015<j<2145 :\n",
        "                  S1meanA2_104.append(S1HSV_imgA1A2_4[i][j])  \n",
        "S1meanrefA1_304 = np.array(S1meanrefA1_304)\n",
        "S1meanA2_104 = np.array(S1meanA2_104)\n",
        "\n",
        "S1hsvrefA1_304 = list()\n",
        "S1hsvA2_104 = list()\n",
        "for i in range(3):\n",
        "    S1hsvrefA1_304.append(S1meanrefA1_304[:,i].mean())\n",
        "    S1hsvA2_104.append(S1meanA2_104[:,i].mean())"
      ],
      "execution_count": 383,
      "outputs": []
    },
    {
      "cell_type": "code",
      "metadata": {
        "id": "OYidQZ77aICQ"
      },
      "source": [
        "S1meanrefA1_404 = list()\n",
        "S1meanA3_104 = list()\n",
        "for i in range(S1HSV_imgA1A3_4.shape[0]): \n",
        "     for j in range(S1HSV_imgA1A3_4.shape[1]): \n",
        "                if 1769<i<1881 and 2019<j<2131 :\n",
        "                  S1meanrefA1_404.append(S1HSV_imgA1A3_4[i][j])\n",
        "                if 1770<i<1880 and 2015<j<2145 :\n",
        "                  S1meanA3_104.append(S1HSV_imgA1A3_4[i][j])  \n",
        "S1meanrefA1_404 = np.array(S1meanrefA1_404)\n",
        "S1meanA3_104 = np.array(S1meanA3_104)\n",
        "\n",
        "S1hsvrefA1_404 = list()\n",
        "S1hsvA3_104 = list()\n",
        "for i in range(3):\n",
        "    S1hsvrefA1_404.append(S1meanrefA1_404[:,i].mean())\n",
        "    S1hsvA3_104.append(S1meanA3_104[:,i].mean())"
      ],
      "execution_count": 384,
      "outputs": []
    },
    {
      "cell_type": "code",
      "metadata": {
        "id": "RDGFdA8QaICR"
      },
      "source": [
        "S1meanrefA1_504 = list()\n",
        "S1meanA3_5104 = list()\n",
        "for i in range(S1HSV_imgA1A3_54.shape[0]): \n",
        "     for j in range(S1HSV_imgA1A3_54.shape[1]): \n",
        "                if 1769<i<1881 and 2019<j<2131 :\n",
        "                  S1meanrefA1_504.append(S1HSV_imgA1A3_54[i][j])\n",
        "                if 1770<i<1880 and 2015<j<2145 :\n",
        "                  S1meanA3_5104.append(S1HSV_imgA1A3_54[i][j])  \n",
        "S1meanrefA1_504 = np.array(S1meanrefA1_504)\n",
        "S1meanA3_5104 = np.array(S1meanA3_5104)\n",
        "\n",
        "S1hsvrefA1_504 = list()\n",
        "S1hsvA3_5104 = list()\n",
        "for i in range(3):\n",
        "    S1hsvrefA1_504.append(S1meanrefA1_504[:,i].mean())\n",
        "    S1hsvA3_5104.append(S1meanA3_5104[:,i].mean())"
      ],
      "execution_count": 385,
      "outputs": []
    },
    {
      "cell_type": "code",
      "metadata": {
        "id": "phmsZ1pVaICR"
      },
      "source": [
        "S1meanrefA1_604 = list()\n",
        "S1meanA4_104 = list()\n",
        "for i in range(S1HSV_imgA1A4_4.shape[0]): \n",
        "     for j in range(S1HSV_imgA1A4_4.shape[1]): \n",
        "                if 1769<i<1881 and 2019<j<2131 :\n",
        "                  S1meanrefA1_604.append(S1HSV_imgA1A4_4[i][j])\n",
        "                if 1770<i<1880 and 2015<j<2145 :\n",
        "                  S1meanA4_104.append(S1HSV_imgA1A4_4[i][j])  \n",
        "S1meanrefA1_604 = np.array(S1meanrefA1_604)\n",
        "S1meanA4_104 = np.array(S1meanA4_104)\n",
        "\n",
        "S1hsvrefA1_604 = list()\n",
        "S1hsvA4_104 = list()\n",
        "for i in range(3):\n",
        "    S1hsvrefA1_604.append(S1meanrefA1_604[:,i].mean())\n",
        "    S1hsvA4_104.append(S1meanA4_104[:,i].mean())"
      ],
      "execution_count": 386,
      "outputs": []
    },
    {
      "cell_type": "code",
      "metadata": {
        "id": "jVkmiIbYaICS"
      },
      "source": [
        "S1meanrefA1_704 = list()\n",
        "S1meanB1_104 = list()\n",
        "for i in range(S1HSV_imgA1B1_4.shape[0]): \n",
        "     for j in range(S1HSV_imgA1B1_4.shape[1]): \n",
        "                if 1769<i<1881 and 2019<j<2131 :\n",
        "                  S1meanrefA1_704.append(S1HSV_imgA1B1_4[i][j])\n",
        "                if 1770<i<1880 and 2015<j<2145 :\n",
        "                  S1meanB1_104.append(S1HSV_imgA1B1_4[i][j])  \n",
        "S1meanrefA1_704 = np.array(S1meanrefA1_704)\n",
        "S1meanB1_104 = np.array(S1meanB1_104)\n",
        "\n",
        "S1hsvrefA1_704 = list()\n",
        "S1hsvB1_104 = list()\n",
        "for i in range(3):\n",
        "    S1hsvrefA1_704.append(S1meanrefA1_704[:,i].mean())\n",
        "    S1hsvB1_104.append(S1meanB1_104[:,i].mean())"
      ],
      "execution_count": 387,
      "outputs": []
    },
    {
      "cell_type": "code",
      "metadata": {
        "id": "01iHJyeDaICS"
      },
      "source": [
        "S1meanrefA1_804 = list()\n",
        "S1meanB2_104 = list()\n",
        "for i in range(S1HSV_imgA1B2_4.shape[0]): \n",
        "     for j in range(S1HSV_imgA1B2_4.shape[1]): \n",
        "                if 1769<i<1881 and 2019<j<2131 :\n",
        "                  S1meanrefA1_804.append(S1HSV_imgA1B2_4[i][j])\n",
        "                if 1770<i<1880 and 2015<j<2145 :\n",
        "                  S1meanB2_104.append(S1HSV_imgA1B2_4[i][j])  \n",
        "S1meanrefA1_804 = np.array(S1meanrefA1_804)\n",
        "S1meanB2_104 = np.array(S1meanB2_104)\n",
        "\n",
        "S1hsvrefA1_804 = list()\n",
        "S1hsvB2_104 = list()\n",
        "for i in range(3):\n",
        "    S1hsvrefA1_804.append(S1meanrefA1_804[:,i].mean())\n",
        "    S1hsvB2_104.append(S1meanB2_104[:,i].mean())"
      ],
      "execution_count": 388,
      "outputs": []
    },
    {
      "cell_type": "code",
      "metadata": {
        "id": "xKzJJkajaICT"
      },
      "source": [
        "S1meanrefA1_904 = list()\n",
        "S1meanB3_104 = list()\n",
        "for i in range(S1HSV_imgA1B3_4.shape[0]): \n",
        "     for j in range(S1HSV_imgA1B3_4.shape[1]): \n",
        "                if 1769<i<1881 and 2019<j<2131 :\n",
        "                  S1meanrefA1_904.append(S1HSV_imgA1B3_4[i][j])\n",
        "                if 1770<i<1880 and 2015<j<2145 :\n",
        "                  S1meanB3_104.append(S1HSV_imgA1B3_4[i][j])  \n",
        "S1meanrefA1_904 = np.array(S1meanrefA1_904)\n",
        "S1meanB3_104 = np.array(S1meanB3_104)\n",
        "\n",
        "S1hsvrefA1_904 = list()\n",
        "S1hsvB3_104 = list()\n",
        "for i in range(3):\n",
        "    S1hsvrefA1_904.append(S1meanrefA1_904[:,i].mean())\n",
        "    S1hsvB3_104.append(S1meanB3_104[:,i].mean())"
      ],
      "execution_count": 389,
      "outputs": []
    },
    {
      "cell_type": "code",
      "metadata": {
        "id": "xZvWsisKaICT"
      },
      "source": [
        "S1meanrefA1_1004 = list()\n",
        "S1meanB4_104 = list()\n",
        "for i in range(S1HSV_imgA1B4_4.shape[0]): \n",
        "     for j in range(S1HSV_imgA1B4_4.shape[1]): \n",
        "                if 1769<i<1881 and 2019<j<2131 :\n",
        "                  S1meanrefA1_1004.append(S1HSV_imgA1B4_4[i][j])\n",
        "                if 1770<i<1880 and 2015<j<2145 :\n",
        "                  S1meanB4_104.append(S1HSV_imgA1B4_4[i][j])  \n",
        "S1meanrefA1_1004 = np.array(S1meanrefA1_1004)\n",
        "S1meanB4_104 = np.array(S1meanB4_104)\n",
        "\n",
        "S1hsvrefA1_1004 = list()\n",
        "S1hsvB4_104= list()\n",
        "for i in range(3):\n",
        "    S1hsvrefA1_1004.append(S1meanrefA1_1004[:,i].mean())\n",
        "    S1hsvB4_104.append(S1meanB4_104[:,i].mean())"
      ],
      "execution_count": 390,
      "outputs": []
    },
    {
      "cell_type": "code",
      "metadata": {
        "id": "K9eqM_dhaICU"
      },
      "source": [
        "S1meanrefA1_1104 = list()\n",
        "S1meanC1_104 = list()\n",
        "for i in range(S1HSV_imgA1C1_4.shape[0]): \n",
        "     for j in range(S1HSV_imgA1C1_4.shape[1]): \n",
        "                if 1769<i<1881 and 2019<j<2131 :\n",
        "                  S1meanrefA1_1104.append(S1HSV_imgA1C1_4[i][j])\n",
        "                if 1770<i<1880 and 2015<j<2145 :\n",
        "                  S1meanC1_104.append(S1HSV_imgA1C1_4[i][j])  \n",
        "S1meanrefA1_1104 = np.array(S1meanrefA1_1104)\n",
        "S1meanC1_104 = np.array(S1meanC1_104)\n",
        "\n",
        "S1hsvrefA1_1104 = list()\n",
        "S1hsvC1_104 = list()\n",
        "for i in range(3):\n",
        "    S1hsvrefA1_1104.append(S1meanrefA1_1104[:,i].mean())\n",
        "    S1hsvC1_104.append(S1meanC1_104[:,i].mean())"
      ],
      "execution_count": 391,
      "outputs": []
    },
    {
      "cell_type": "code",
      "metadata": {
        "id": "uuX8MaetaICW"
      },
      "source": [
        "S1meanrefA1_1204 = list()\n",
        "S1meanC2_104 = list()\n",
        "for i in range(S1HSV_imgA1C2_4.shape[0]): \n",
        "     for j in range(S1HSV_imgA1C2_4.shape[1]): \n",
        "                if 1769<i<1881 and 2019<j<2131 :\n",
        "                  S1meanrefA1_1204.append(S1HSV_imgA1C2_4[i][j])\n",
        "                if 1770<i<1880 and 2015<j<2145 :\n",
        "                  S1meanC2_104.append(S1HSV_imgA1C2_4[i][j])  \n",
        "S1meanrefA1_1204 = np.array(S1meanrefA1_1204)\n",
        "S1meanC2_104 = np.array(S1meanC2_104)\n",
        "\n",
        "S1hsvrefA1_1204 = list()\n",
        "S1hsvC2_104 = list()\n",
        "for i in range(3):\n",
        "    S1hsvrefA1_1204.append(S1meanrefA1_1204[:,i].mean())\n",
        "    S1hsvC2_104.append(S1meanC2_104[:,i].mean())"
      ],
      "execution_count": 392,
      "outputs": []
    },
    {
      "cell_type": "code",
      "metadata": {
        "id": "NapZ8mwHaICY"
      },
      "source": [
        "S1meanrefA1_1304 = list()\n",
        "S1meanC3_104 = list()\n",
        "for i in range(S1HSV_imgA1C3_4.shape[0]): \n",
        "     for j in range(S1HSV_imgA1C3_4.shape[1]): \n",
        "                if 1769<i<1881 and 2019<j<2131 :\n",
        "                  S1meanrefA1_1304.append(S1HSV_imgA1C3_4[i][j])\n",
        "                if 1770<i<1880 and 2015<j<2145 :\n",
        "                  S1meanC3_104.append(S1HSV_imgA1C3_4[i][j])  \n",
        "S1meanrefA1_1304 = np.array(S1meanrefA1_1304)\n",
        "S1meanC3_104 = np.array(S1meanC3_104)\n",
        "\n",
        "S1hsvrefA1_1304 = list()\n",
        "S1hsvC3_104 = list()\n",
        "for i in range(3):\n",
        "    S1hsvrefA1_1304.append(S1meanrefA1_1304[:,i].mean())\n",
        "    S1hsvC3_104.append(S1meanC3_104[:,i].mean())"
      ],
      "execution_count": 393,
      "outputs": []
    },
    {
      "cell_type": "code",
      "metadata": {
        "id": "ZsekeOCDaICZ"
      },
      "source": [
        "S1meanrefA1_1404 = list()\n",
        "S1meanC4_104 = list()\n",
        "for i in range(S1HSV_imgA1C4_4.shape[0]): \n",
        "     for j in range(S1HSV_imgA1C4_4.shape[1]): \n",
        "                if 1769<i<1881 and 2019<j<2131 :\n",
        "                  S1meanrefA1_1404.append(S1HSV_imgA1C4_4[i][j])\n",
        "                if 1770<i<1880 and 2015<j<2145 :\n",
        "                  S1meanC4_104.append(S1HSV_imgA1C4_4[i][j])  \n",
        "S1meanrefA1_1404 = np.array(S1meanrefA1_14)\n",
        "S1meanC4_104 = np.array(S1meanC4_1)\n",
        "\n",
        "S1hsvrefA1_1404 = list()\n",
        "S1hsvC4_104 = list()\n",
        "for i in range(3):\n",
        "    S1hsvrefA1_1404.append(S1meanrefA1_1404[:,i].mean())\n",
        "    S1hsvC4_104.append(S1meanC4_104[:,i].mean())"
      ],
      "execution_count": 394,
      "outputs": []
    },
    {
      "cell_type": "code",
      "metadata": {
        "id": "otvoaOftaICa"
      },
      "source": [
        "S1meanrefA1_1504 = list()\n",
        "S1meanD2_104 = list()\n",
        "for i in range(S1HSV_imgA1D2_4.shape[0]): \n",
        "     for j in range(S1HSV_imgA1D2_4.shape[1]): \n",
        "                if 1769<i<1881 and 2019<j<2131 :\n",
        "                  S1meanrefA1_1504.append(S1HSV_imgA1D2_4[i][j])\n",
        "                if 1770<i<1880 and 2015<j<2145 :\n",
        "                  S1meanD2_104.append(S1HSV_imgA1D2_4[i][j])  \n",
        "S1meanrefA1_1504 = np.array(S1meanrefA1_1504)\n",
        "S1meanD2_104 = np.array(S1meanD2_104)\n",
        "\n",
        "S1hsvrefA1_1504 = list()\n",
        "S1hsvD2_104 = list()\n",
        "for i in range(3):\n",
        "    S1hsvrefA1_1504.append(S1meanrefA1_1504[:,i].mean())\n",
        "    S1hsvD2_104.append(S1meanD2_104[:,i].mean())"
      ],
      "execution_count": 395,
      "outputs": []
    },
    {
      "cell_type": "code",
      "metadata": {
        "id": "IH5MJeHdaICa"
      },
      "source": [
        "S1meanrefA1_1604 = list()\n",
        "S1meanD3_104 = list()\n",
        "for i in range(S1HSV_imgA1D3_4.shape[0]): \n",
        "     for j in range(S1HSV_imgA1D3_4.shape[1]): \n",
        "                if 1769<i<1881 and 2019<j<2131 :\n",
        "                  S1meanrefA1_1604.append(S1HSV_imgA1D3_4[i][j])\n",
        "                if 1770<i<1880 and 2015<j<2145 :\n",
        "                  S1meanD3_104.append(S1HSV_imgA1D3_4[i][j])  \n",
        "S1meanrefA1_1604 = np.array(S1meanrefA1_1604)\n",
        "S1meanD3_104 = np.array(S1meanD3_104)\n",
        "\n",
        "S1hsvrefA1_1604 = list()\n",
        "S1hsvD3_104 = list()\n",
        "for i in range(3):\n",
        "    S1hsvrefA1_1604.append(S1meanrefA1_1604[:,i].mean())\n",
        "    S1hsvD3_104.append(S1meanD3_104[:,i].mean())"
      ],
      "execution_count": 396,
      "outputs": []
    },
    {
      "cell_type": "code",
      "metadata": {
        "id": "h610zfiwaICa"
      },
      "source": [
        "S1meanrefA1_1704= list()\n",
        "S1meanD4_104 = list()\n",
        "for i in range(S1HSV_imgA1D4_4.shape[0]): \n",
        "     for j in range(S1HSV_imgA1D4_4.shape[1]): \n",
        "                if 1769<i<1881 and 2019<j<2131 :\n",
        "                  S1meanrefA1_1704.append(S1HSV_imgA1D4_4[i][j])\n",
        "                if 1770<i<1880 and 2015<j<2145 :\n",
        "                  S1meanD4_104.append(S1HSV_imgA1D4_4[i][j])  \n",
        "S1meanrefA1_1704 = np.array(S1meanrefA1_1404)\n",
        "S1meanD4_104 = np.array(S1meanD4_104)\n",
        "\n",
        "S1hsvrefA1_1704 = list()\n",
        "S1hsvD4_104 = list()\n",
        "for i in range(3):\n",
        "    S1hsvrefA1_1704.append(S1meanrefA1_1704[:,i].mean())\n",
        "    S1hsvD4_104.append(S1meanD4_104[:,i].mean())"
      ],
      "execution_count": 397,
      "outputs": []
    },
    {
      "cell_type": "markdown",
      "metadata": {
        "id": "j3cXkom98pAa"
      },
      "source": [
        "###Img 5"
      ]
    },
    {
      "cell_type": "code",
      "metadata": {
        "id": "amRJlxpuaJL5",
        "colab": {
          "base_uri": "https://localhost:8080/"
        },
        "outputId": "dfa9de83-484f-4db3-977a-1e9187275ae6"
      },
      "source": [
        "S1meanrefA1_105 = list()\n",
        "S1meanA1_205 = list()\n",
        "for i in range(S1HSV_imgA1A1_5.shape[0]): #ให้ i รันตาม row หรือ shape[0] คือแถว มีทั้งหมด 4032 แถว ของภาพที่ปรับขนาดมาแล้ว\n",
        "     for j in range(S1HSV_imgA1A1_5.shape[1]): #ให้ j รันตาม colum มีทั้งหมด 3024 colum เช่น แถวที่ 1 เข้ามาให้รันครบ 3024colum\n",
        "                if 1769<i<1881 and 2019<j<2131 :\n",
        "                  S1meanrefA1_105.append(S1HSV_imgA1A1_5[i][j])\n",
        "                if 1770<i<1880 and 2015<j<2145 :\n",
        "                  S1meanA1_205.append(S1HSV_imgA1A1_5[i][j])  \n",
        "S1meanrefA1_105 = np.array(S1meanrefA1_105)\n",
        "S1meanA1_205 = np.array(S1meanA1_205)\n",
        "\n",
        "S1hsvrefA1_105 = list()\n",
        "S1hsvA1_205 = list()\n",
        "for i in range(3):\n",
        "    S1hsvrefA1_105.append(S1meanrefA1_105[:,i].mean())\n",
        "    S1hsvA1_205.append(S1meanA1_205[:,i].mean())\n",
        "S1hsvrefA1_105,S1hsvA1_205 "
      ],
      "execution_count": 398,
      "outputs": [
        {
          "output_type": "execute_result",
          "data": {
            "text/plain": [
              "([26.05048291534778, 37.41555068582095, 221.97532667802938],\n",
              " [26.059455230780173, 37.226015219401184, 221.42735225090675])"
            ]
          },
          "metadata": {},
          "execution_count": 398
        }
      ]
    },
    {
      "cell_type": "code",
      "metadata": {
        "id": "fElJ0l6-aJL6"
      },
      "source": [
        "S1meanrefA1_305 = list()\n",
        "S1meanA2_105 = list()\n",
        "for i in range(S1HSV_imgA1A2_5.shape[0]): \n",
        "     for j in range(S1HSV_imgA1A2_5.shape[1]): \n",
        "                if 1769<i<1881 and 2019<j<2131 :\n",
        "                  S1meanrefA1_305.append(S1HSV_imgA1A2_5[i][j])\n",
        "                if 1770<i<1880 and 2015<j<2145 :\n",
        "                  S1meanA2_105.append(S1HSV_imgA1A2_5[i][j])  \n",
        "S1meanrefA1_305 = np.array(S1meanrefA1_305)\n",
        "S1meanA2_105 = np.array(S1meanA2_105)\n",
        "\n",
        "S1hsvrefA1_305 = list()\n",
        "S1hsvA2_105 = list()\n",
        "for i in range(3):\n",
        "    S1hsvrefA1_305.append(S1meanrefA1_305[:,i].mean())\n",
        "    S1hsvA2_105.append(S1meanA2_105[:,i].mean())"
      ],
      "execution_count": 399,
      "outputs": []
    },
    {
      "cell_type": "code",
      "metadata": {
        "id": "SmoplvtRaJL7"
      },
      "source": [
        "S1meanrefA1_405 = list()\n",
        "S1meanA3_105 = list()\n",
        "for i in range(S1HSV_imgA1A3_5.shape[0]): \n",
        "     for j in range(S1HSV_imgA1A3_5.shape[1]): \n",
        "                if 1769<i<1881 and 2019<j<2131 :\n",
        "                  S1meanrefA1_405.append(S1HSV_imgA1A3_5[i][j])\n",
        "                if 1770<i<1880 and 2015<j<2145 :\n",
        "                  S1meanA3_105.append(S1HSV_imgA1A3_5[i][j])  \n",
        "S1meanrefA1_405 = np.array(S1meanrefA1_405)\n",
        "S1meanA3_105 = np.array(S1meanA3_105)\n",
        "\n",
        "S1hsvrefA1_405 = list()\n",
        "S1hsvA3_105= list()\n",
        "for i in range(3):\n",
        "    S1hsvrefA1_405.append(S1meanrefA1_405[:,i].mean())\n",
        "    S1hsvA3_105.append(S1meanA3_105[:,i].mean())"
      ],
      "execution_count": 400,
      "outputs": []
    },
    {
      "cell_type": "code",
      "metadata": {
        "id": "YBgssB_7aJL7"
      },
      "source": [
        "S1meanrefA1_505 = list()\n",
        "S1meanA3_5105 = list()\n",
        "for i in range(S1HSV_imgA1A3_55.shape[0]): \n",
        "     for j in range(S1HSV_imgA1A3_55.shape[1]): \n",
        "                if 1769<i<1881 and 2019<j<2131 :\n",
        "                  S1meanrefA1_505.append(S1HSV_imgA1A3_55[i][j])\n",
        "                if 1770<i<1880 and 2015<j<2145 :\n",
        "                  S1meanA3_5105.append(S1HSV_imgA1A3_55[i][j])  \n",
        "S1meanrefA1_505 = np.array(S1meanrefA1_505)\n",
        "S1meanA3_5105 = np.array(S1meanA3_5105)\n",
        "\n",
        "S1hsvrefA1_505= list()\n",
        "S1hsvA3_5105 = list()\n",
        "for i in range(3):\n",
        "    S1hsvrefA1_505.append(S1meanrefA1_505[:,i].mean())\n",
        "    S1hsvA3_5105.append(S1meanA3_5105[:,i].mean())"
      ],
      "execution_count": 401,
      "outputs": []
    },
    {
      "cell_type": "code",
      "metadata": {
        "id": "LYdkCfgdaJL8"
      },
      "source": [
        "S1meanrefA1_605 = list()\n",
        "S1meanA4_105= list()\n",
        "for i in range(S1HSV_imgA1A4_5.shape[0]): \n",
        "     for j in range(S1HSV_imgA1A4_5.shape[1]): \n",
        "                if 1769<i<1881 and 2019<j<2131 :\n",
        "                  S1meanrefA1_605.append(S1HSV_imgA1A4_5[i][j])\n",
        "                if 1770<i<1880 and 2015<j<2145 :\n",
        "                  S1meanA4_105.append(S1HSV_imgA1A4_5[i][j])  \n",
        "S1meanrefA1_605 = np.array(S1meanrefA1_605)\n",
        "S1meanA4_105 = np.array(S1meanA4_105)\n",
        "\n",
        "S1hsvrefA1_605 = list()\n",
        "S1hsvA4_105 = list()\n",
        "for i in range(3):\n",
        "    S1hsvrefA1_605.append(S1meanrefA1_605[:,i].mean())\n",
        "    S1hsvA4_105.append(S1meanA4_105[:,i].mean())"
      ],
      "execution_count": 402,
      "outputs": []
    },
    {
      "cell_type": "code",
      "metadata": {
        "id": "gHBQsZxiaJL9"
      },
      "source": [
        "S1meanrefA1_705 = list()\n",
        "S1meanB1_105 = list()\n",
        "for i in range(S1HSV_imgA1B1_5.shape[0]): \n",
        "     for j in range(S1HSV_imgA1B1_5.shape[1]): \n",
        "                if 1769<i<1881 and 2019<j<2131 :\n",
        "                  S1meanrefA1_705.append(S1HSV_imgA1B1_5[i][j])\n",
        "                if 1770<i<1880 and 2015<j<2145 :\n",
        "                  S1meanB1_105.append(S1HSV_imgA1B1_5[i][j])  \n",
        "S1meanrefA1_705 = np.array(S1meanrefA1_705)\n",
        "S1meanB1_105 = np.array(S1meanB1_105)\n",
        "\n",
        "S1hsvrefA1_705 = list()\n",
        "S1hsvB1_105 = list()\n",
        "for i in range(3):\n",
        "    S1hsvrefA1_705.append(S1meanrefA1_7[:,i].mean())\n",
        "    S1hsvB1_105.append(S1meanB1_1[:,i].mean())"
      ],
      "execution_count": 403,
      "outputs": []
    },
    {
      "cell_type": "code",
      "metadata": {
        "id": "7qGd14_BaJL9"
      },
      "source": [
        "S1meanrefA1_805 = list()\n",
        "S1meanB2_105 = list()\n",
        "for i in range(S1HSV_imgA1B2_5.shape[0]): \n",
        "     for j in range(S1HSV_imgA1B2_5.shape[1]): \n",
        "                if 1769<i<1881 and 2019<j<2131 :\n",
        "                  S1meanrefA1_805.append(S1HSV_imgA1B2_5[i][j])\n",
        "                if 1770<i<1880 and 2015<j<2145 :\n",
        "                  S1meanB2_105.append(S1HSV_imgA1B2_5[i][j])  \n",
        "S1meanrefA1_805 = np.array(S1meanrefA1_805)\n",
        "S1meanB2_105 = np.array(S1meanB2_105)\n",
        "\n",
        "S1hsvrefA1_805 = list()\n",
        "S1hsvB2_105 = list()\n",
        "for i in range(3):\n",
        "    S1hsvrefA1_805.append(S1meanrefA1_805[:,i].mean())\n",
        "    S1hsvB2_105.append(S1meanB2_105[:,i].mean())"
      ],
      "execution_count": 404,
      "outputs": []
    },
    {
      "cell_type": "code",
      "metadata": {
        "id": "tuT8A623aJL9"
      },
      "source": [
        "S1meanrefA1_905 = list()\n",
        "S1meanB3_105= list()\n",
        "for i in range(S1HSV_imgA1B3_5.shape[0]): \n",
        "     for j in range(S1HSV_imgA1B3_5.shape[1]): \n",
        "                if 1769<i<1881 and 2019<j<2131 :\n",
        "                  S1meanrefA1_905.append(S1HSV_imgA1B3_5[i][j])\n",
        "                if 1770<i<1880 and 2015<j<2145 :\n",
        "                  S1meanB3_105.append(S1HSV_imgA1B3_5[i][j])  \n",
        "S1meanrefA1_905 = np.array(S1meanrefA1_905)\n",
        "S1meanB3_105 = np.array(S1meanB3_105)\n",
        "\n",
        "S1hsvrefA1_905 = list()\n",
        "S1hsvB3_105 = list()\n",
        "for i in range(3):\n",
        "    S1hsvrefA1_905.append(S1meanrefA1_905[:,i].mean())\n",
        "    S1hsvB3_105.append(S1meanB3_105[:,i].mean())"
      ],
      "execution_count": 405,
      "outputs": []
    },
    {
      "cell_type": "code",
      "metadata": {
        "id": "8zaqHapfaJL-"
      },
      "source": [
        "S1meanrefA1_1005 = list()\n",
        "S1meanB4_105 = list()\n",
        "for i in range(S1HSV_imgA1B4_5.shape[0]): \n",
        "     for j in range(S1HSV_imgA1B4_5.shape[1]): \n",
        "                if 1769<i<1881 and 2019<j<2131 :\n",
        "                  S1meanrefA1_1005.append(S1HSV_imgA1B4_5[i][j])\n",
        "                if 1770<i<1880 and 2015<j<2145 :\n",
        "                  S1meanB4_105.append(S1HSV_imgA1B4_5[i][j])  \n",
        "S1meanrefA1_1005 = np.array(S1meanrefA1_1005)\n",
        "S1meanB4_105 = np.array(S1meanB4_105)\n",
        "\n",
        "S1hsvrefA1_1005 = list()\n",
        "S1hsvB4_105 = list()\n",
        "for i in range(3):\n",
        "    S1hsvrefA1_1005.append(S1meanrefA1_1005[:,i].mean())\n",
        "    S1hsvB4_105.append(S1meanB4_105[:,i].mean())"
      ],
      "execution_count": 406,
      "outputs": []
    },
    {
      "cell_type": "code",
      "metadata": {
        "id": "06bY9c0LaJL-"
      },
      "source": [
        "S1meanrefA1_1105 = list()\n",
        "S1meanC1_105 = list()\n",
        "for i in range(S1HSV_imgA1C1_5.shape[0]): \n",
        "     for j in range(S1HSV_imgA1C1_5.shape[1]): \n",
        "                if 1769<i<1881 and 2019<j<2131 :\n",
        "                  S1meanrefA1_1105.append(S1HSV_imgA1C1_5[i][j])\n",
        "                if 1770<i<1880 and 2015<j<2145 :\n",
        "                  S1meanC1_105.append(S1HSV_imgA1C1_5[i][j])  \n",
        "S1meanrefA1_1105 = np.array(S1meanrefA1_1105)\n",
        "S1meanC1_105 = np.array(S1meanC1_105)\n",
        "\n",
        "S1hsvrefA1_1105 = list()\n",
        "S1hsvC1_105= list()\n",
        "for i in range(3):\n",
        "    S1hsvrefA1_1105.append(S1meanrefA1_1105[:,i].mean())\n",
        "    S1hsvC1_105.append(S1meanC1_105[:,i].mean())"
      ],
      "execution_count": 407,
      "outputs": []
    },
    {
      "cell_type": "code",
      "metadata": {
        "id": "N2jnieV0aJL-"
      },
      "source": [
        "S1meanrefA1_1205 = list()\n",
        "S1meanC2_105 = list()\n",
        "for i in range(S1HSV_imgA1C2_5.shape[0]): \n",
        "     for j in range(S1HSV_imgA1C2_5.shape[1]): \n",
        "                if 1769<i<1881 and 2019<j<2131 :\n",
        "                  S1meanrefA1_1205.append(S1HSV_imgA1C2_5[i][j])\n",
        "                if 1770<i<1880 and 2015<j<2145 :\n",
        "                  S1meanC2_105.append(S1HSV_imgA1C2_5[i][j])  \n",
        "S1meanrefA1_1205 = np.array(S1meanrefA1_1205)\n",
        "S1meanC2_105 = np.array(S1meanC2_105)\n",
        "\n",
        "S1hsvrefA1_1205 = list()\n",
        "S1hsvC2_105 = list()\n",
        "for i in range(3):\n",
        "    S1hsvrefA1_1205.append(S1meanrefA1_1205[:,i].mean())\n",
        "    S1hsvC2_105.append(S1meanC2_105[:,i].mean())"
      ],
      "execution_count": 408,
      "outputs": []
    },
    {
      "cell_type": "code",
      "metadata": {
        "id": "VhyPBVeaaJL_"
      },
      "source": [
        "S1meanrefA1_1305 = list()\n",
        "S1meanC3_105 = list()\n",
        "for i in range(S1HSV_imgA1C3_5.shape[0]): \n",
        "     for j in range(S1HSV_imgA1C3_5.shape[1]): \n",
        "                if 1769<i<1881 and 2019<j<2131 :\n",
        "                  S1meanrefA1_1305 .append(S1HSV_imgA1C3_5[i][j])\n",
        "                if 1770<i<1880 and 2015<j<2145 :\n",
        "                  S1meanC3_105 .append(S1HSV_imgA1C3_5[i][j])  \n",
        "S1meanrefA1_1305 = np.array(S1meanrefA1_1305)\n",
        "S1meanC3_105 = np.array(S1meanC3_105)\n",
        "\n",
        "S1hsvrefA1_1305 = list()\n",
        "S1hsvC3_105 = list()\n",
        "for i in range(3):\n",
        "    S1hsvrefA1_1305.append(S1meanrefA1_1305[:,i].mean())\n",
        "    S1hsvC3_105.append(S1meanC3_105[:,i].mean())"
      ],
      "execution_count": 409,
      "outputs": []
    },
    {
      "cell_type": "code",
      "metadata": {
        "id": "t-9dLwsoaJL_"
      },
      "source": [
        "S1meanrefA1_1405 = list()\n",
        "S1meanC4_105 = list()\n",
        "for i in range(S1HSV_imgA1C4_5.shape[0]): \n",
        "     for j in range(S1HSV_imgA1C4_5.shape[1]): \n",
        "                if 1769<i<1881 and 2019<j<2131 :\n",
        "                  S1meanrefA1_1405.append(S1HSV_imgA1C4_5[i][j])\n",
        "                if 1770<i<1880 and 2015<j<2145 :\n",
        "                  S1meanC4_105.append(S1HSV_imgA1C4_5[i][j])  \n",
        "S1meanrefA1_1405 = np.array(S1meanrefA1_1405)\n",
        "S1meanC4_105 = np.array(S1meanC4_105)\n",
        "\n",
        "S1hsvrefA1_1405 = list()\n",
        "S1hsvC4_105 = list()\n",
        "for i in range(3):\n",
        "    S1hsvrefA1_1405.append(S1meanrefA1_1405[:,i].mean())\n",
        "    S1hsvC4_105.append(S1meanC4_105[:,i].mean())"
      ],
      "execution_count": 410,
      "outputs": []
    },
    {
      "cell_type": "code",
      "metadata": {
        "id": "XDE-yECUaJL_"
      },
      "source": [
        "S1meanrefA1_1505  = list()\n",
        "S1meanD2_105  = list()\n",
        "for i in range(S1HSV_imgA1D2_5.shape[0]): \n",
        "     for j in range(S1HSV_imgA1D2_5.shape[1]): \n",
        "                if 1769<i<1881 and 2019<j<2131 :\n",
        "                  S1meanrefA1_1505 .append(S1HSV_imgA1D2_5[i][j])\n",
        "                if 1770<i<1880 and 2015<j<2145 :\n",
        "                  S1meanD2_105 .append(S1HSV_imgA1D2_5[i][j])  \n",
        "S1meanrefA1_1505 = np.array(S1meanrefA1_1505)\n",
        "S1meanD2_105  = np.array(S1meanD2_105)\n",
        "\n",
        "S1hsvrefA1_1505 = list()\n",
        "S1hsvD2_105 = list()\n",
        "for i in range(3):\n",
        "    S1hsvrefA1_1505.append(S1meanrefA1_1505[:,i].mean())\n",
        "    S1hsvD2_105.append(S1meanD2_105[:,i].mean())"
      ],
      "execution_count": 411,
      "outputs": []
    },
    {
      "cell_type": "code",
      "metadata": {
        "id": "pLUKwAK3aJMA"
      },
      "source": [
        "S1meanrefA1_1605 = list()\n",
        "S1meanD3_105 = list()\n",
        "for i in range(S1HSV_imgA1D3_5.shape[0]): \n",
        "     for j in range(S1HSV_imgA1D3_5.shape[1]): \n",
        "                if 1769<i<1881 and 2019<j<2131 :\n",
        "                  S1meanrefA1_1605.append(S1HSV_imgA1D3_5[i][j])\n",
        "                if 1770<i<1880 and 2015<j<2145 :\n",
        "                  S1meanD3_105.append(S1HSV_imgA1D3_5[i][j])  \n",
        "S1meanrefA1_1605 = np.array(S1meanrefA1_1605)\n",
        "S1meanD3_105 = np.array(S1meanD3_105)\n",
        "\n",
        "S1hsvrefA1_1605 = list()\n",
        "S1hsvD3_105 = list()\n",
        "for i in range(3):\n",
        "    S1hsvrefA1_1605.append(S1meanrefA1_1605[:,i].mean())\n",
        "    S1hsvD3_105.append(S1meanD3_105[:,i].mean())"
      ],
      "execution_count": 412,
      "outputs": []
    },
    {
      "cell_type": "code",
      "metadata": {
        "id": "bOfaWIAsaJMA"
      },
      "source": [
        "S1meanrefA1_1705= list()\n",
        "S1meanD4_105 = list()\n",
        "for i in range(S1HSV_imgA1D4_5.shape[0]): \n",
        "     for j in range(S1HSV_imgA1D4_5.shape[1]): \n",
        "                if 1769<i<1881 and 2019<j<2131 :\n",
        "                  S1meanrefA1_1705.append(S1HSV_imgA1D4_5[i][j])\n",
        "                if 1770<i<1880 and 2015<j<2145 :\n",
        "                  S1meanD4_105.append(S1HSV_imgA1D4_5[i][j])  \n",
        "S1meanrefA1_1705 = np.array(S1meanrefA1_1405)\n",
        "S1meanD4_105 = np.array(S1meanD4_105)\n",
        "\n",
        "S1hsvrefA1_1705 = list()\n",
        "S1hsvD4_105 = list()\n",
        "for i in range(3):\n",
        "    S1hsvrefA1_1705.append(S1meanrefA1_1705[:,i].mean())\n",
        "    S1hsvD4_105.append(S1meanD4_105[:,i].mean())"
      ],
      "execution_count": 413,
      "outputs": []
    },
    {
      "cell_type": "markdown",
      "metadata": {
        "id": "4ihnBocWKAjD"
      },
      "source": [
        "#7.สร้างตาราง"
      ]
    },
    {
      "cell_type": "code",
      "metadata": {
        "id": "EjvYvGQwEIVW"
      },
      "source": [
        "from tabulate import tabulate"
      ],
      "execution_count": 414,
      "outputs": []
    },
    {
      "cell_type": "code",
      "source": [
        "df = pd.DataFrame({'R-ref':[S1rgbrefA1_1[0]], 'G-ref': [S1rgbrefA1_1[1]],'B-ref': [S1rgbrefA1_1[2]],'R-Shad':  [S1rgbA1_2[0]], 'G-Shad':[S1rgbA1_2[1]],'B-Shad': [S1rgbA1_2[2]]\n",
        "})\n",
        "df"
      ],
      "metadata": {
        "colab": {
          "base_uri": "https://localhost:8080/",
          "height": 81
        },
        "id": "Xi8IQeIcuaEb",
        "outputId": "5e9dae68-cab6-4867-a18b-e2c699cef5ab"
      },
      "execution_count": 415,
      "outputs": [
        {
          "output_type": "execute_result",
          "data": {
            "text/html": [
              "<div>\n",
              "<style scoped>\n",
              "    .dataframe tbody tr th:only-of-type {\n",
              "        vertical-align: middle;\n",
              "    }\n",
              "\n",
              "    .dataframe tbody tr th {\n",
              "        vertical-align: top;\n",
              "    }\n",
              "\n",
              "    .dataframe thead th {\n",
              "        text-align: right;\n",
              "    }\n",
              "</style>\n",
              "<table border=\"1\" class=\"dataframe\">\n",
              "  <thead>\n",
              "    <tr style=\"text-align: right;\">\n",
              "      <th></th>\n",
              "      <th>R-ref</th>\n",
              "      <th>G-ref</th>\n",
              "      <th>B-ref</th>\n",
              "      <th>R-Shad</th>\n",
              "      <th>G-Shad</th>\n",
              "      <th>B-Shad</th>\n",
              "    </tr>\n",
              "  </thead>\n",
              "  <tbody>\n",
              "    <tr>\n",
              "      <th>0</th>\n",
              "      <td>223.258946</td>\n",
              "      <td>219.09407</td>\n",
              "      <td>173.019272</td>\n",
              "      <td>222.711392</td>\n",
              "      <td>218.461327</td>\n",
              "      <td>172.718478</td>\n",
              "    </tr>\n",
              "  </tbody>\n",
              "</table>\n",
              "</div>"
            ],
            "text/plain": [
              "        R-ref      G-ref       B-ref      R-Shad      G-Shad      B-Shad\n",
              "0  223.258946  219.09407  173.019272  222.711392  218.461327  172.718478"
            ]
          },
          "metadata": {},
          "execution_count": 415
        }
      ]
    },
    {
      "cell_type": "code",
      "metadata": {
        "id": "g1Ir2tayht50"
      },
      "source": [
        "table   = [['R-ref', 'G-ref', 'B-ref', 'R-Shad', 'G-Shad', 'B-Shad', 'H-ref', 'S-ref', 'V-ref', 'H-Shad', 'S-Shad', 'V-Shad', 'Shade-ref', 'Shade', 'Setting']]"
      ],
      "execution_count": 416,
      "outputs": []
    },
    {
      "cell_type": "code",
      "metadata": {
        "id": "holTb0QrmfaQ",
        "colab": {
          "base_uri": "https://localhost:8080/",
          "height": 423
        },
        "outputId": "650b3fe5-644b-4d9a-8140-08f3b7a4f43d"
      },
      "source": [
        "df1 = pd.DataFrame({'R-ref':[S1rgbrefA1_1[0],S1rgbrefA1_102[0],S1rgbrefA1_103[0],S1rgbrefA1_104[0],S1rgbrefA1_105[0],S1rgbrefA1_3[0],S1rgbrefA1_302[0],S1rgbrefA1_303[0],S1rgbrefA1_304[0],S1rgbrefA1_305[0],S1rgbrefA1_4[0], S1rgbrefA1_402[0], S1rgbrefA1_403[0], S1rgbrefA1_404[0], S1rgbrefA1_405[0],S1rgbrefA1_5[0], S1rgbrefA1_502[0], S1rgbrefA1_503[0], S1rgbrefA1_504[0], S1rgbrefA1_505[0],S1rgbrefA1_6[0], S1rgbrefA1_602[0], S1rgbrefA1_603[0], S1rgbrefA1_604[0], S1rgbrefA1_605[0],S1rgbrefA1_7[0], S1rgbrefA1_702[0], S1rgbrefA1_703[0], S1rgbrefA1_704[0],S1rgbrefA1_705[0],S1rgbrefA1_8[0], S1rgbrefA1_802[0], S1rgbrefA1_803[0], S1rgbrefA1_804[0], S1rgbrefA1_805[0],S1rgbrefA1_9[0], S1rgbrefA1_902[0], S1rgbrefA1_903[0], S1rgbrefA1_904[0], S1rgbrefA1_905[0],S1rgbrefA1_10[0], S1rgbrefA1_1002[0], S1rgbrefA1_1003[0], S1rgbrefA1_1004[0], S1rgbrefA1_1005[0], S1rgbrefA1_11[0], S1rgbrefA1_1102[0], S1rgbrefA1_1103[0], S1rgbrefA1_1104[0], S1rgbrefA1_1105[0],S1rgbrefA1_12[0], S1rgbrefA1_1202[0], S1rgbrefA1_1203[0], S1rgbrefA1_1204[0], S1rgbrefA1_1205[0],S1rgbrefA1_13[0], S1rgbrefA1_1302[0], S1rgbrefA1_1303[0], S1rgbrefA1_1304[0], S1rgbrefA1_1305[0], S1rgbrefA1_14[0], S1rgbrefA1_1402[0], S1rgbrefA1_1403[0], S1rgbrefA1_1404[0], S1rgbrefA1_1405[0], S1rgbrefA1_15[0], S1rgbrefA1_1502[0], S1rgbrefA1_1503[0], S1rgbrefA1_1504[0], S1rgbrefA1_1505[0],  S1rgbrefA1_16[0], S1rgbrefA1_1602[0], S1rgbrefA1_1603[0], S1rgbrefA1_1604[0], S1rgbrefA1_1605[0], S1rgbrefA1_17[0], S1rgbrefA1_1702[0], S1rgbrefA1_1703[0], S1rgbrefA1_1704[0], S1rgbrefA1_1705[0]],\n",
        "'G-ref': [S1rgbrefA1_1[1],S1rgbrefA1_102[1],S1rgbrefA1_103[1],S1rgbrefA1_104[1],S1rgbrefA1_105[1],S1rgbrefA1_3[1],S1rgbrefA1_302[1],S1rgbrefA1_303[1],S1rgbrefA1_304[1],S1rgbrefA1_305[1],S1rgbrefA1_4[1], S1rgbrefA1_402[1], S1rgbrefA1_403[1], S1rgbrefA1_404[1], S1rgbrefA1_405[1],S1rgbrefA1_5[1], S1rgbrefA1_502[1], S1rgbrefA1_503[1], S1rgbrefA1_504[1], S1rgbrefA1_505[1],S1rgbrefA1_6[1], S1rgbrefA1_602[1], S1rgbrefA1_603[1], S1rgbrefA1_604[1], S1rgbrefA1_605[1],S1rgbrefA1_7[1], S1rgbrefA1_702[1], S1rgbrefA1_703[1], S1rgbrefA1_704[1],S1rgbrefA1_705[1],S1rgbrefA1_8[1], S1rgbrefA1_802[1],S1rgbrefA1_803[1], S1rgbrefA1_804[1], S1rgbrefA1_805[1],S1rgbrefA1_9[1], S1rgbrefA1_902[1], S1rgbrefA1_903[1], S1rgbrefA1_904[1], S1rgbrefA1_905[1],S1rgbrefA1_10[1], S1rgbrefA1_1002[1], S1rgbrefA1_1003[1], S1rgbrefA1_1004[1], S1rgbrefA1_1005[1],  S1rgbrefA1_11[1], S1rgbrefA1_1102[1], S1rgbrefA1_1103[1], S1rgbrefA1_1104[1], S1rgbrefA1_1105[1],S1rgbrefA1_12[1],S1rgbrefA1_1202[1], S1rgbrefA1_1203[1], S1rgbrefA1_1204[1], S1rgbrefA1_1205[1],S1rgbrefA1_13[1], S1rgbrefA1_1302[1], S1rgbrefA1_1303[1], S1rgbrefA1_1304[1], S1rgbrefA1_1305[1], S1rgbrefA1_14[1], S1rgbrefA1_1402[1], S1rgbrefA1_1403[1], S1rgbrefA1_1404[1], S1rgbrefA1_1405[1],S1rgbrefA1_15[1], S1rgbrefA1_1502[1], S1rgbrefA1_1503[1], S1rgbrefA1_1504[1], S1rgbrefA1_1505[1], S1rgbrefA1_16[1], S1rgbrefA1_1602[1], S1rgbrefA1_1603[1], S1rgbrefA1_1604[1], S1rgbrefA1_1605[1],S1rgbrefA1_17[1], S1rgbrefA1_1702[1], S1rgbrefA1_1703[1], S1rgbrefA1_1704[1], S1rgbrefA1_1705[1]],\n",
        "'B-ref': [S1rgbrefA1_1[2],S1rgbrefA1_102[2],S1rgbrefA1_103[2],S1rgbrefA1_104[2],S1rgbrefA1_105[2],S1rgbrefA1_3[2],S1rgbrefA1_302[2],S1rgbrefA1_303[2],S1rgbrefA1_304[2],S1rgbrefA1_305[2],S1rgbrefA1_4[2], S1rgbrefA1_402[2], S1rgbrefA1_403[2], S1rgbrefA1_404[2], S1rgbrefA1_405[2],S1rgbrefA1_5[2], S1rgbrefA1_502[2], S1rgbrefA1_503[2], S1rgbrefA1_504[2], S1rgbrefA1_505[2],S1rgbrefA1_6[2], S1rgbrefA1_602[2], S1rgbrefA1_603[2], S1rgbrefA1_604[2], S1rgbrefA1_605[2],S1rgbrefA1_7[2], S1rgbrefA1_702[2], S1rgbrefA1_703[2], S1rgbrefA1_704[2],S1rgbrefA1_705[2],S1rgbrefA1_8[2], S1rgbrefA1_802[2], S1rgbrefA1_803[2], S1rgbrefA1_804[2], S1rgbrefA1_805[2],S1rgbrefA1_9[2], S1rgbrefA1_902[2], S1rgbrefA1_903[2], S1rgbrefA1_904[2], S1rgbrefA1_905[2],S1rgbrefA1_10[2], S1rgbrefA1_1002[2], S1rgbrefA1_1003[2], S1rgbrefA1_1004[2], S1rgbrefA1_1005[2],S1rgbrefA1_11[2], S1rgbrefA1_1102[2], S1rgbrefA1_1103[2], S1rgbrefA1_1104[2], S1rgbrefA1_1105[2],S1rgbrefA1_12[2], S1rgbrefA1_1202[2], S1rgbrefA1_1203[2], S1rgbrefA1_1204[2], S1rgbrefA1_1205[2],S1rgbrefA1_13[2], S1rgbrefA1_1302[2], S1rgbrefA1_1303[2], S1rgbrefA1_1304[2], S1rgbrefA1_1305[2],S1rgbrefA1_14[2], S1rgbrefA1_1402[2], S1rgbrefA1_1403[2], S1rgbrefA1_1404[2], S1rgbrefA1_1405[2],S1rgbrefA1_15[2], S1rgbrefA1_1502[2], S1rgbrefA1_1503[2], S1rgbrefA1_1504[2], S1rgbrefA1_1505[2],S1rgbrefA1_16[2], S1rgbrefA1_1602[2], S1rgbrefA1_1603[2], S1rgbrefA1_1604[2], S1rgbrefA1_1605[2],S1rgbrefA1_17[2], S1rgbrefA1_1702[2], S1rgbrefA1_1703[2], S1rgbrefA1_1704[2], S1rgbrefA1_1705[2]], \n",
        "'R-Shad':  [S1rgbA1_2[0], S1rgbA1_202[0], S1rgbA1_203[0], S1rgbA1_204[0], S1rgbA1_205[0], S1rgbA2_1[0], S1rgbA2_102[0],  S1rgbA2_103[0], S1rgbA2_104[0], S1rgbA2_105[0],S1rgbA3_1[0], S1rgbA3_102[0],S1rgbA3_103[0],S1rgbA3_104[0],S1rgbA3_105[0],S1rgbA3_51[0],S1rgbA3_5102[0],S1rgbA3_5103[0],S1rgbA3_5104[0],  S1rgbA3_5105[0],S1rgbA4_1[0],S1rgbA4_102[0], S1rgbA4_103[0],S1rgbA4_104[0],S1rgbA4_105[0],S1rgbB1_1[0],S1rgbB1_102[0],S1rgbB1_103[0],S1rgbB1_104[0],S1rgbB1_105[0],S1rgbB2_1[0],S1rgbB2_102[0],S1rgbB2_103[0],S1rgbB2_104[0],S1rgbB2_105[0],S1rgbB3_1[0],S1rgbB3_102[0],S1rgbB3_103[0],S1rgbB3_104[0],S1rgbB3_105[0],S1rgbB4_1[0],S1rgbB4_102[0],S1rgbB4_103[0],S1rgbB4_104[0],S1rgbB4_105[0],S1rgbC1_1[0],S1rgbC1_102[0],S1rgbC1_103[0],S1rgbC1_104[0],S1rgbC1_105[0],S1rgbC2_1[0],S1rgbC2_102[0],S1rgbC2_103[0],S1rgbC2_104[0],S1rgbC2_105[0],S1rgbC3_1[0],S1rgbC3_102[0],S1rgbC3_103[0],S1rgbC3_104[0],S1rgbC3_105[0],S1rgbC4_1[0],S1rgbC4_102[0],S1rgbC4_103[0],S1rgbC4_104[0],S1rgbC4_105[0],S1rgbD2_1[0],S1rgbD2_102[0],S1rgbD2_103[0],S1rgbD2_104[0],S1rgbD2_105[0],S1rgbD3_1[0],S1rgbD3_102[0],S1rgbD3_103[0],S1rgbD3_104[0],S1rgbD3_105[0],S1rgbD4_1[0],S1rgbD4_102[0],S1rgbD4_103[0],S1rgbD4_104[0],S1rgbD4_105[0]],\n",
        "'G-Shad':[S1rgbA1_2[1],S1rgbA1_202[1],S1rgbA1_203[1],S1rgbA1_204[1],S1rgbA1_205[1],S1rgbA2_1[1],S1rgbA2_102[1],S1rgbA2_103[1],S1rgbA2_104[1],S1rgbA2_105[1],S1rgbA3_1[1],S1rgbA3_102[1],S1rgbA3_103[1],S1rgbA3_104[1],S1rgbA3_105[1],S1rgbA3_51[1], S1rgbA3_5102[1], S1rgbA3_5103[1],S1rgbA3_5104[1],  S1rgbA3_5105[1],S1rgbA4_1[1],S1rgbA4_102[1],S1rgbA4_103[1],S1rgbA4_104[1],S1rgbA4_105[1],S1rgbB1_1[1],S1rgbB1_102[1],S1rgbB1_103[1],S1rgbB1_104[1],S1rgbB1_105[1],S1rgbB2_1[1],S1rgbB2_102[1],S1rgbB2_103[1],S1rgbB2_104[1],S1rgbB2_105[1],S1rgbB3_1[1],S1rgbB3_102[1],S1rgbB3_103[1],S1rgbB3_104[1],S1rgbB3_105[1],S1rgbB4_1[1],S1rgbB4_102[1],S1rgbB4_103[1],S1rgbB4_104[1],S1rgbB4_105[1],S1rgbC1_1[1],S1rgbC1_102[1],S1rgbC1_103[1],S1rgbC1_104[1],S1rgbC1_105[1],S1rgbC2_1[1],S1rgbC2_102[1],S1rgbC2_103[1],S1rgbC2_104[1],S1rgbC2_105[1],S1rgbC3_1[1],S1rgbC3_102[1],S1rgbC3_103[1],S1rgbC3_104[1],S1rgbC3_105[1],S1rgbC4_1[1],S1rgbC4_102[1],S1rgbC4_103[1],S1rgbC4_104[1],S1rgbC4_105[1],S1rgbD2_1[1],S1rgbD2_102[1],S1rgbD2_103[1],S1rgbD2_104[1],S1rgbD2_105[1],S1rgbD3_1[1],S1rgbD3_102[1],S1rgbD3_103[1],S1rgbD3_104[1],S1rgbD3_105[1],S1rgbD4_1[1],S1rgbD4_102[1],S1rgbD4_103[1],S1rgbD4_104[1],S1rgbD4_105[1]],\n",
        "'B-Shad': [S1rgbA1_2[2],S1rgbA1_202[2],S1rgbA1_203[2],S1rgbA1_204[2],S1rgbA1_205[2],S1rgbA2_1[2],S1rgbA2_102[2],S1rgbA2_103[2],S1rgbA2_104[2],S1rgbA2_105[2],S1rgbA3_1[2],S1rgbA3_102[2],S1rgbA3_103[2],S1rgbA3_104[2],S1rgbA3_105[2],S1rgbA3_51[2],S1rgbA3_5102[2],S1rgbA3_5103[2], S1rgbA3_5104[2],  S1rgbA3_5105[2],S1rgbA4_1[2],S1rgbA4_102[2], S1rgbA4_103[2],S1rgbA4_104[2],S1rgbA4_105[2],S1rgbB1_1[2],S1rgbB1_102[2],S1rgbB1_103[2],S1rgbB1_104[2],S1rgbB1_105[2],S1rgbB2_1[2],S1rgbB2_102[2],S1rgbB2_103[2],S1rgbB2_104[2],S1rgbB2_105[2],S1rgbB3_1[2],S1rgbB3_102[2],S1rgbB3_103[2],S1rgbB3_104[2],S1rgbB3_105[2],S1rgbB4_1[2],S1rgbB4_102[2],S1rgbB4_103[2],S1rgbB4_104[2],S1rgbB4_105[2],S1rgbC1_1[2],S1rgbC1_102[2],S1rgbC1_103[2],S1rgbC1_104[2],S1rgbC1_105[2],S1rgbC2_1[2],S1rgbC2_102[2],S1rgbC2_103[2],S1rgbC2_104[2],S1rgbC2_105[2],S1rgbC3_1[2],S1rgbC3_102[2],S1rgbC3_103[2],S1rgbC3_104[2],S1rgbC3_105[2],S1rgbC4_1[2],S1rgbC4_102[2],S1rgbC4_103[2],S1rgbC4_104[2],S1rgbC4_105[2],S1rgbD2_1[2],S1rgbD2_102[2],S1rgbD2_103[2],S1rgbD2_104[2],S1rgbD2_105[2],S1rgbD3_1[2],S1rgbD3_102[2],S1rgbD3_103[2],S1rgbD3_104[2],S1rgbD3_105[2],S1rgbD4_1[2],S1rgbD4_102[2],S1rgbD4_103[2],S1rgbD4_104[2],S1rgbD4_105[2]],\n",
        "'H-ref':[S1hsvrefA1_1[0],S1hsvrefA1_102[0],S1hsvrefA1_103[0],S1hsvrefA1_104[0],S1hsvrefA1_105[0],S1hsvrefA1_3[0],S1hsvrefA1_302[0],S1hsvrefA1_303[0],S1hsvrefA1_304[0],S1hsvrefA1_305[0],S1hsvrefA1_4[0], S1hsvrefA1_402[0], S1hsvrefA1_403[0], S1hsvrefA1_404[0], S1hsvrefA1_405[0],S1hsvrefA1_5[0], S1hsvrefA1_502[0], S1hsvrefA1_503[0], S1hsvrefA1_504[0], S1hsvrefA1_505[0],S1hsvrefA1_6[0], S1hsvrefA1_602[0], S1hsvrefA1_603[0], S1hsvrefA1_604[0], S1hsvrefA1_605[0],S1hsvrefA1_7[0], S1hsvrefA1_702[0], S1hsvrefA1_703[0], S1hsvrefA1_704[0],S1hsvrefA1_705[0],S1hsvrefA1_8[0], S1hsvrefA1_802[0],S1hsvrefA1_803[0], S1hsvrefA1_804[0], S1hsvrefA1_805[0],S1hsvrefA1_9[0], S1hsvrefA1_902[0], S1hsvrefA1_903[0], S1hsvrefA1_904[0], S1hsvrefA1_905[0],S1hsvrefA1_10[0], S1hsvrefA1_1002[0], S1hsvrefA1_1003[0], S1hsvrefA1_1004[0], S1hsvrefA1_1005[0], S1hsvrefA1_11[0], S1hsvrefA1_1102[0], S1hsvrefA1_1103[0], S1hsvrefA1_1104[0], S1hsvrefA1_1105[0],S1hsvrefA1_12[0], S1hsvrefA1_1202[0], S1hsvrefA1_1203[0], S1hsvrefA1_1204[0], S1hsvrefA1_1205[0],S1hsvrefA1_13[0], S1hsvrefA1_1302[0], S1hsvrefA1_1303[0], S1hsvrefA1_1304[0], S1hsvrefA1_1305[0], S1hsvrefA1_14[0], S1hsvrefA1_1402[0], S1hsvrefA1_1403[0], S1hsvrefA1_1404[0], S1hsvrefA1_1405[0],  S1hsvrefA1_15[0], S1hsvrefA1_1502[0], S1hsvrefA1_1503[0], S1hsvrefA1_1504[0], S1hsvrefA1_1505[0], S1hsvrefA1_16[0], S1hsvrefA1_1602[0], S1hsvrefA1_1603[0], S1hsvrefA1_1604[0], S1hsvrefA1_1605[0], S1hsvrefA1_17[0], S1hsvrefA1_1702[0], S1hsvrefA1_1703[0], S1hsvrefA1_1704[0], S1hsvrefA1_1705[0]], \n",
        "'S-ref':[S1hsvrefA1_1[1],S1hsvrefA1_102[1],S1hsvrefA1_103[1],S1hsvrefA1_104[1],S1hsvrefA1_105[1],S1hsvrefA1_3[1],S1hsvrefA1_302[1],S1hsvrefA1_303[1],S1hsvrefA1_304[1],S1hsvrefA1_305[1],S1hsvrefA1_4[1], S1hsvrefA1_402[1], S1hsvrefA1_403[1], S1hsvrefA1_404[1], S1hsvrefA1_405[1],S1hsvrefA1_5[1], S1hsvrefA1_502[1], S1hsvrefA1_503[1], S1hsvrefA1_504[1], S1hsvrefA1_505[1],S1hsvrefA1_6[1], S1hsvrefA1_602[1], S1hsvrefA1_603[1], S1hsvrefA1_604[1], S1hsvrefA1_605[1],S1hsvrefA1_7[1], S1hsvrefA1_702[1], S1hsvrefA1_703[1], S1hsvrefA1_704[1],S1hsvrefA1_705[1], S1hsvrefA1_8[1], S1hsvrefA1_802[1], S1hsvrefA1_803[1], S1hsvrefA1_804[1], S1hsvrefA1_805[1],S1hsvrefA1_9[1], S1hsvrefA1_902[1], S1hsvrefA1_903[1], S1hsvrefA1_904[1], S1hsvrefA1_905[1],S1hsvrefA1_10[1], S1hsvrefA1_1002[1], S1hsvrefA1_1003[1], S1hsvrefA1_1004[1], S1hsvrefA1_1005[1], S1hsvrefA1_11[1], S1hsvrefA1_1102[1], S1hsvrefA1_1103[1], S1hsvrefA1_1104[1], S1hsvrefA1_1105[1],S1hsvrefA1_12[1], S1hsvrefA1_1202[1], S1hsvrefA1_1203[1], S1hsvrefA1_1204[1], S1hsvrefA1_1205[1],S1hsvrefA1_13[1], S1hsvrefA1_1302[1], S1hsvrefA1_1303[1],S1hsvrefA1_1304[1], S1hsvrefA1_1305[1], S1hsvrefA1_14[1], S1hsvrefA1_1402[1], S1hsvrefA1_1403[1], S1hsvrefA1_1404[1], S1hsvrefA1_1405[1], S1hsvrefA1_15[1], S1hsvrefA1_1502[1], S1hsvrefA1_1503[1], S1hsvrefA1_1504[1], S1hsvrefA1_1505[1], S1hsvrefA1_16[1], S1hsvrefA1_1602[1], S1hsvrefA1_1603[1], S1hsvrefA1_1604[1], S1hsvrefA1_1605[1], S1hsvrefA1_17[1], S1hsvrefA1_1702[1], S1hsvrefA1_1703[1], S1hsvrefA1_1704[1], S1hsvrefA1_1705[1]],\n",
        "'V-ref':[S1hsvrefA1_1[2],S1hsvrefA1_102[2],S1hsvrefA1_103[2],S1hsvrefA1_104[2],S1hsvrefA1_105[2],S1hsvrefA1_3[1],S1hsvrefA1_302[1],S1hsvrefA1_303[1],S1hsvrefA1_304[1],S1hsvrefA1_305[1],S1hsvrefA1_4[2], S1hsvrefA1_402[2], S1hsvrefA1_403[2], S1hsvrefA1_404[2], S1hsvrefA1_405[2],S1hsvrefA1_5[2], S1hsvrefA1_502[2], S1hsvrefA1_503[2], S1hsvrefA1_504[2], S1hsvrefA1_505[2],S1hsvrefA1_6[2], S1hsvrefA1_602[2], S1hsvrefA1_603[2], S1hsvrefA1_604[2], S1hsvrefA1_605[2],S1hsvrefA1_7[2], S1hsvrefA1_702[2], S1hsvrefA1_703[2], S1hsvrefA1_704[2],S1hsvrefA1_705[2],S1hsvrefA1_8[2], S1hsvrefA1_802[2], S1hsvrefA1_803[2], S1hsvrefA1_804[2], S1hsvrefA1_805[2],S1hsvrefA1_9[2], S1hsvrefA1_902[2], S1hsvrefA1_903[2], S1hsvrefA1_904[2], S1hsvrefA1_905[2],S1hsvrefA1_10[2], S1hsvrefA1_1002[2], S1hsvrefA1_1003[2], S1hsvrefA1_1004[2], S1hsvrefA1_1005[2],      S1hsvrefA1_11[2], S1hsvrefA1_1102[2], S1hsvrefA1_1103[2], S1hsvrefA1_1104[2], S1hsvrefA1_1105[2],S1hsvrefA1_12[2], S1hsvrefA1_1202[2], S1hsvrefA1_1203[2], S1hsvrefA1_1204[2], S1hsvrefA1_1205[2],S1hsvrefA1_13[2], S1hsvrefA1_1302[2], S1hsvrefA1_1303[2], S1hsvrefA1_1304[2], S1hsvrefA1_1305[2], S1hsvrefA1_14[2], S1hsvrefA1_1402[2], S1hsvrefA1_1403[2], S1hsvrefA1_1404[2], S1hsvrefA1_1405[2], S1hsvrefA1_15[2], S1hsvrefA1_1502[2], S1hsvrefA1_1503[2], S1hsvrefA1_1504[2], S1hsvrefA1_1505[2],S1hsvrefA1_16[2], S1hsvrefA1_1602[2], S1hsvrefA1_1603[2], S1hsvrefA1_1604[2], S1hsvrefA1_1605[2], S1hsvrefA1_17[2], S1hsvrefA1_1702[2], S1hsvrefA1_1703[2], S1hsvrefA1_1704[2], S1hsvrefA1_1705[2]],\n",
        "'H-Shad':[S1hsvA1_2[0],S1hsvA1_202[0],S1hsvA1_203[0],S1hsvA1_204[0],S1hsvA1_205[0],S1hsvA2_1[0],S1hsvA2_102[0],S1hsvA2_103[0],S1hsvA2_104[0],S1hsvA2_105[0],S1hsvA3_1[0],S1hsvA3_102[0],S1hsvA3_103[0],S1hsvA3_104[0],S1hsvA3_105[0],S1hsvA3_51[0],S1hsvA3_5102[0],S1hsvA3_5103[0],S1hsvA3_5104[0],S1hsvA3_5105[0],S1hsvA4_1[0],S1hsvA4_102[0],S1hsvA4_103[0],S1hsvA4_104[0],S1hsvA4_105[0],S1hsvB1_1[0],S1hsvB1_102[0],S1hsvB1_103[0],S1hsvB1_104[0],S1hsvB1_105[0],S1hsvB2_1[0],S1hsvB2_102[0],S1hsvB2_103[0],S1hsvB2_104[0],S1hsvB2_105[0],S1hsvB3_1[0],S1hsvB3_102[0],S1hsvB3_103[0],S1hsvB3_104[0],S1hsvB3_105[0],S1hsvB4_1[0],S1hsvB4_102[0],S1hsvB4_103[0],S1hsvB4_104[0],S1hsvB4_105[0],S1hsvC1_1[0],S1hsvC1_102[0],S1hsvC1_103[0],S1hsvC1_104[0],S1hsvC1_105[0],S1hsvC2_1[0],S1hsvC2_102[0],S1hsvC2_103[0],S1hsvC2_104[0],S1hsvC2_105[0],S1hsvC3_1[0],S1hsvC3_102[0],S1hsvC3_103[0],S1hsvC3_104[0],S1hsvC3_105[0],S1hsvC4_1[0],S1hsvC4_102[0],S1hsvC4_103[0],S1hsvC4_104[0],S1hsvC4_105[0],S1hsvD2_1[0],S1hsvD2_102[0],S1hsvD2_103[0],S1hsvD2_104[0],S1hsvD2_105[0],S1hsvD3_1[0],S1hsvD3_102[0],S1hsvD3_103[0],S1hsvD3_104[0],S1hsvD3_105[0],S1hsvD4_1[0],S1hsvD4_102[0],S1hsvD4_103[0],S1hsvD4_104[0],S1hsvD4_105[0]],\n",
        "'S-Shad':[S1hsvA1_2[1],S1hsvA1_202[1],S1hsvA1_203[1], S1hsvA1_204[1],S1hsvA1_205[1],S1hsvA2_1[1],S1hsvA2_102[1],S1hsvA2_103[1],S1hsvA2_104[1],S1hsvA2_105[1],S1hsvA3_1[1],S1hsvA3_102[1], S1hsvA3_103[1],S1hsvA3_104[1],S1hsvA3_105[1],S1hsvA3_51[1],S1hsvA3_5102[1],S1hsvA3_5103[1],S1hsvA3_5104[1],S1hsvA3_5105[1],S1hsvA4_1[1],S1hsvA4_102[1],S1hsvA4_103[1],S1hsvA4_104[1],S1hsvA4_105[1],S1hsvB1_1[1],S1hsvB1_102[1],S1hsvB1_103[1],S1hsvB1_104[1],S1hsvB1_105[1],S1hsvB2_1[1],S1hsvB2_102[1],S1hsvB2_103[1],S1hsvB2_104[1],S1hsvB2_105[1],S1hsvB3_1[1],S1hsvB3_102[1],S1hsvB3_103[1],S1hsvB3_104[1],S1hsvB3_105[1],S1hsvB4_1[1],S1hsvB4_102[1],S1hsvB4_103[1],S1hsvB4_104[1],S1hsvB4_105[1],S1hsvC1_1[1],S1hsvC1_102[1],S1hsvC1_103[1],S1hsvC1_104[1],S1hsvC1_105[1],S1hsvC2_1[1],S1hsvC2_102[1],S1hsvC2_103[1],S1hsvC2_104[1],S1hsvC2_105[1],S1hsvC3_1[1],S1hsvC3_102[1],S1hsvC3_103[1],S1hsvC3_104[1],S1hsvC3_105[1],S1hsvC4_1[1],S1hsvC4_102[1],S1hsvC4_103[1],S1hsvC4_104[1],S1hsvC4_105[1],S1hsvD2_1[1],S1hsvD2_102[1],S1hsvD2_103[1],S1hsvD2_104[1],S1hsvD2_105[1],S1hsvD3_1[1],S1hsvD3_102[1],S1hsvD3_103[1],S1hsvD3_104[1],S1hsvD3_105[1],S1hsvD4_1[1],S1hsvD4_102[1],S1hsvD4_103[1],S1hsvD4_104[1],S1hsvD4_105[1]],\n",
        "'V-Shad':[S1hsvA1_2[2],S1hsvA1_202[2],S1hsvA1_203[2],S1hsvA1_204[2],S1hsvA1_205[2],S1hsvA2_1[2],S1hsvA2_102[2],S1hsvA2_103[2],S1hsvA2_104[2],S1hsvA2_105[2],S1hsvA3_1[2],S1hsvA3_102[2],S1hsvA3_103[2],S1hsvA3_104[2],S1hsvA3_105[2],S1hsvA3_51[2],S1hsvA3_5102[2],S1hsvA3_5103[2],S1hsvA3_5104[2],  S1hsvA3_5105[2],S1hsvA4_1[2],S1hsvA4_102[2],S1hsvA4_103[2],S1hsvA4_104[2],S1hsvA4_105[2],S1hsvB1_1[2],S1hsvB1_102[2],S1hsvB1_103[2],S1hsvB1_104[2],S1hsvB1_105[2],S1hsvB2_1[2],S1hsvB2_102[2],S1hsvB2_103[2],S1hsvB2_104[2],S1hsvB2_105[2],S1hsvB3_1[2],S1hsvB3_102[2],S1hsvB3_103[2],S1hsvB3_104[2],S1hsvB3_105[2],S1hsvB4_1[2],S1hsvB4_102[2],S1hsvB4_103[2],S1hsvB4_104[2],S1hsvB4_105[2],S1hsvC1_1[2],S1hsvC1_102[2],S1hsvC1_103[2],S1hsvC1_104[2],S1hsvC1_105[2],S1hsvC2_1[2],S1hsvC2_102[2],S1hsvC2_103[2],S1hsvC2_104[2],S1hsvC2_105[2],S1hsvC3_1[2],S1hsvC3_102[2],S1hsvC3_103[2],S1hsvC3_104[2],S1hsvC3_105[2],S1hsvC4_1[2],S1hsvC4_102[2],S1hsvC4_103[2],S1hsvC4_104[2],S1hsvC4_105[2],S1hsvD2_1[2],S1hsvD2_102[2],S1hsvD2_103[2],S1hsvD2_104[2],S1hsvD2_105[2],S1hsvD3_1[2],S1hsvD3_102[2],S1hsvD3_103[2],S1hsvD3_104[2],S1hsvD3_105[2],S1hsvD4_1[2],S1hsvD4_102[2],S1hsvD4_103[2],S1hsvD4_104[2],S1hsvD4_105[2]],\n",
        "'Shade-ref': ['A1', 'A1', 'A1', 'A1', 'A1', 'A1',  'A1', 'A1', 'A1', 'A1', 'A1',  'A1', 'A1', 'A1', 'A1', 'A1','A1', 'A1', 'A1', 'A1', 'A1', 'A1',  'A1', 'A1', 'A1', 'A1', 'A1',  'A1', 'A1', 'A1', 'A1', 'A1','A1', 'A1', 'A1', 'A1', 'A1', 'A1',  'A1', 'A1', 'A1', 'A1', 'A1',  'A1', 'A1', 'A1', 'A1', 'A1','A1', 'A1', 'A1', 'A1', 'A1', 'A1', 'A1', 'A1', 'A1', 'A1', 'A1',  'A1', 'A1', 'A1', 'A1', 'A1','A1', 'A1', 'A1', 'A1', 'A1', 'A1', 'A1', 'A1', 'A1', 'A1', 'A1', 'A1', 'A1', 'A1', 'A1', 'A1'],\n",
        "'Shade':  ['A1', 'A1', 'A1', 'A1', 'A1', 'A1', 'A1', 'A1', 'A1', 'A1', 'A2', 'A2', 'A2','A2','A2', 'A2', 'A2', 'A2' ,'A2', 'A2','A3', 'A3', 'A3', 'A3', 'A3', 'A3','A3', 'A3','A3', 'A3','A3_5', 'A3_5', 'A3_5', 'A3_5', 'A3_5', 'A3_5', 'A3_5', 'A3_5', 'A3_5', 'A3_5','A4', 'A4', 'A4', 'A4', 'A4', 'A4', 'A4', 'A4', 'A4', 'A4','B1', 'B1', 'B1', 'B1', 'B1', 'B1','B1', 'B1', 'B1', 'B1','B2', 'B2', 'B2', 'B2', 'B2', 'B2','B2', 'B2','B2', 'B2', 'B3','B3', 'B3', 'B3', 'B3', 'B3', 'B3', 'B3', 'B3', 'B3'],\n",
        "'Setting': ['Set1', 'Set1', 'Set1', 'Set1', 'Set1', 'Set1', 'Set1', 'Set1', 'Set1', 'Set1', 'Set1', 'Set1', 'Set1', 'Set1', 'Set1', 'Set1','Set1', 'Set1', 'Set1', 'Set1', 'Set1', 'Set1', 'Set1', 'Set1', 'Set1', 'Set1', 'Set1', 'Set1', 'Set1', 'Set1', 'Set1', 'Set1','Set1', 'Set1', 'Set1', 'Set1', 'Set1', 'Set1', 'Set1', 'Set1', 'Set1', 'Set1', 'Set1', 'Set1', 'Set1', 'Set1', 'Set1', 'Set1','Set1', 'Set1', 'Set1', 'Set1', 'Set1', 'Set1', 'Set1', 'Set1', 'Set1', 'Set1', 'Set1', 'Set1', 'Set1', 'Set1', 'Set1', 'Set1','Set1', 'Set1', 'Set1', 'Set1', 'Set1', 'Set1', 'Set1', 'Set1', 'Set1', 'Set1', 'Set1', 'Set1', 'Set1', 'Set1', 'Set1', 'Set1'],\n",
        "'Img' :[S1_doubleA1A1_1,S1_doubleA1A1_2,S1_doubleA1A1_3,S1_doubleA1A1_4,S1_doubleA1A1_5,S1_doubleA1A2_1, S1_doubleA1A2_2, S1_doubleA1A2_3, S1_doubleA1A2_4, S1_doubleA1A2_5, S1_doubleA1A3_1, S1_doubleA1A3_2, S1_doubleA1A3_3, S1_doubleA1A3_4, S1_doubleA1A3_5, S1_doubleA1A3_51, S1_doubleA1A3_52,S1_doubleA1A3_53,S1_doubleA1A3_54,S1_doubleA1A3_55,S1_doubleA1A4_1, S1_doubleA1A4_2, S1_doubleA1A4_3, S1_doubleA1A4_4, S1_doubleA1A4_5,S1_doubleA1B1_1,S1_doubleA1B1_2,S1_doubleA1B1_3,S1_doubleA1B1_4,S1_doubleA1B1_5,S1_doubleA1B2_1, S1_doubleA1B2_2,S1_doubleA1B2_3,S1_doubleA1B2_4,S1_doubleA1B2_5,S1_doubleA1B3_1, S1_doubleA1B3_2,S1_doubleA1B3_3,S1_doubleA1B3_4,S1_doubleA1B3_5,S1_doubleA1B4_1,S1_doubleA1B4_2,S1_doubleA1B4_3,S1_doubleA1B4_4,S1_doubleA1B4_5,S1_doubleA1C1_1 ,S1_doubleA1C1_2,S1_doubleA1C1_3,S1_doubleA1C1_4,S1_doubleA1C1_5,S1_doubleA1C2_1, S1_doubleA1C2_2, S1_doubleA1C2_3, S1_doubleA1C2_4, S1_doubleA1C2_5,S1_doubleA1C3_1,S1_doubleA1C3_2, S1_doubleA1C3_3,S1_doubleA1C3_4,S1_doubleA1C3_5,S1_doubleA1C4_1, S1_doubleA1C4_2,S1_doubleA1C4_3,S1_doubleA1C4_4,S1_doubleA1C4_5,S1_doubleA1D2_1,S1_doubleA1D2_2, S1_doubleA1D2_3,S1_doubleA1D2_4,  S1_doubleA1D2_5,S1_doubleA1D3_1,S1_doubleA1D3_2,S1_doubleA1D3_3,S1_doubleA1D3_4,S1_doubleA1D3_5,S1_doubleA1D4_1,S1_doubleA1D4_2,S1_doubleA1D4_3,S1_doubleA1D4_4,S1_doubleA1D4_5]\n",
        "})\n",
        "df1 "
      ],
      "execution_count": 417,
      "outputs": [
        {
          "output_type": "execute_result",
          "data": {
            "text/html": [
              "<div>\n",
              "<style scoped>\n",
              "    .dataframe tbody tr th:only-of-type {\n",
              "        vertical-align: middle;\n",
              "    }\n",
              "\n",
              "    .dataframe tbody tr th {\n",
              "        vertical-align: top;\n",
              "    }\n",
              "\n",
              "    .dataframe thead th {\n",
              "        text-align: right;\n",
              "    }\n",
              "</style>\n",
              "<table border=\"1\" class=\"dataframe\">\n",
              "  <thead>\n",
              "    <tr style=\"text-align: right;\">\n",
              "      <th></th>\n",
              "      <th>R-ref</th>\n",
              "      <th>G-ref</th>\n",
              "      <th>B-ref</th>\n",
              "      <th>R-Shad</th>\n",
              "      <th>G-Shad</th>\n",
              "      <th>B-Shad</th>\n",
              "      <th>H-ref</th>\n",
              "      <th>S-ref</th>\n",
              "      <th>V-ref</th>\n",
              "      <th>H-Shad</th>\n",
              "      <th>S-Shad</th>\n",
              "      <th>V-Shad</th>\n",
              "      <th>Shade-ref</th>\n",
              "      <th>Shade</th>\n",
              "      <th>Setting</th>\n",
              "      <th>Img</th>\n",
              "    </tr>\n",
              "  </thead>\n",
              "  <tbody>\n",
              "    <tr>\n",
              "      <th>0</th>\n",
              "      <td>223.258946</td>\n",
              "      <td>219.094070</td>\n",
              "      <td>173.019272</td>\n",
              "      <td>222.711392</td>\n",
              "      <td>218.461327</td>\n",
              "      <td>172.718478</td>\n",
              "      <td>27.856424</td>\n",
              "      <td>57.416525</td>\n",
              "      <td>223.361497</td>\n",
              "      <td>27.784084</td>\n",
              "      <td>57.273878</td>\n",
              "      <td>222.815163</td>\n",
              "      <td>A1</td>\n",
              "      <td>A1</td>\n",
              "      <td>Set1</td>\n",
              "      <td>E06EE405-F4BF-4F38-91EB-D121DD1B7596.png</td>\n",
              "    </tr>\n",
              "    <tr>\n",
              "      <th>1</th>\n",
              "      <td>219.883857</td>\n",
              "      <td>219.479750</td>\n",
              "      <td>199.391527</td>\n",
              "      <td>219.236399</td>\n",
              "      <td>218.803641</td>\n",
              "      <td>198.574070</td>\n",
              "      <td>27.856424</td>\n",
              "      <td>57.416525</td>\n",
              "      <td>223.361497</td>\n",
              "      <td>27.784084</td>\n",
              "      <td>57.273878</td>\n",
              "      <td>222.815163</td>\n",
              "      <td>A1</td>\n",
              "      <td>A1</td>\n",
              "      <td>Set1</td>\n",
              "      <td>AE8AEBC6-65B3-437F-8D3F-E166B2E2BFDA.png</td>\n",
              "    </tr>\n",
              "    <tr>\n",
              "      <th>2</th>\n",
              "      <td>212.219544</td>\n",
              "      <td>207.098287</td>\n",
              "      <td>172.005925</td>\n",
              "      <td>211.938553</td>\n",
              "      <td>206.813527</td>\n",
              "      <td>171.916933</td>\n",
              "      <td>26.458486</td>\n",
              "      <td>48.308741</td>\n",
              "      <td>212.219544</td>\n",
              "      <td>26.439371</td>\n",
              "      <td>48.137686</td>\n",
              "      <td>211.938553</td>\n",
              "      <td>A1</td>\n",
              "      <td>A1</td>\n",
              "      <td>Set1</td>\n",
              "      <td>99B00828-56AB-4F65-A76F-DB15F741C3F7.png</td>\n",
              "    </tr>\n",
              "    <tr>\n",
              "      <th>3</th>\n",
              "      <td>211.413359</td>\n",
              "      <td>204.236994</td>\n",
              "      <td>158.720153</td>\n",
              "      <td>211.067492</td>\n",
              "      <td>203.840125</td>\n",
              "      <td>158.519593</td>\n",
              "      <td>26.153397</td>\n",
              "      <td>63.532992</td>\n",
              "      <td>211.413359</td>\n",
              "      <td>26.122182</td>\n",
              "      <td>63.461631</td>\n",
              "      <td>211.067492</td>\n",
              "      <td>A1</td>\n",
              "      <td>A1</td>\n",
              "      <td>Set1</td>\n",
              "      <td>32FA77BB-E294-49AE-A577-1BFEDB395F5A.png</td>\n",
              "    </tr>\n",
              "    <tr>\n",
              "      <th>4</th>\n",
              "      <td>221.975327</td>\n",
              "      <td>217.556854</td>\n",
              "      <td>189.343803</td>\n",
              "      <td>222.711392</td>\n",
              "      <td>218.461327</td>\n",
              "      <td>172.718478</td>\n",
              "      <td>26.050483</td>\n",
              "      <td>37.415551</td>\n",
              "      <td>221.975327</td>\n",
              "      <td>26.059455</td>\n",
              "      <td>37.226015</td>\n",
              "      <td>221.427352</td>\n",
              "      <td>A1</td>\n",
              "      <td>A1</td>\n",
              "      <td>Set1</td>\n",
              "      <td>C328B2A9-9EAE-4631-BECD-D8B2BB1F7BAB.png</td>\n",
              "    </tr>\n",
              "    <tr>\n",
              "      <th>...</th>\n",
              "      <td>...</td>\n",
              "      <td>...</td>\n",
              "      <td>...</td>\n",
              "      <td>...</td>\n",
              "      <td>...</td>\n",
              "      <td>...</td>\n",
              "      <td>...</td>\n",
              "      <td>...</td>\n",
              "      <td>...</td>\n",
              "      <td>...</td>\n",
              "      <td>...</td>\n",
              "      <td>...</td>\n",
              "      <td>...</td>\n",
              "      <td>...</td>\n",
              "      <td>...</td>\n",
              "      <td>...</td>\n",
              "    </tr>\n",
              "    <tr>\n",
              "      <th>75</th>\n",
              "      <td>219.163785</td>\n",
              "      <td>220.393637</td>\n",
              "      <td>199.336336</td>\n",
              "      <td>219.705497</td>\n",
              "      <td>219.075244</td>\n",
              "      <td>198.830738</td>\n",
              "      <td>32.028650</td>\n",
              "      <td>24.639153</td>\n",
              "      <td>220.641425</td>\n",
              "      <td>29.546832</td>\n",
              "      <td>24.451533</td>\n",
              "      <td>219.939194</td>\n",
              "      <td>A1</td>\n",
              "      <td>B3</td>\n",
              "      <td>Set1</td>\n",
              "      <td>95DD0EB2-20EB-404E-BA97-3740D2D0DF96.png</td>\n",
              "    </tr>\n",
              "    <tr>\n",
              "      <th>76</th>\n",
              "      <td>219.158510</td>\n",
              "      <td>215.741255</td>\n",
              "      <td>186.999838</td>\n",
              "      <td>216.597255</td>\n",
              "      <td>211.207382</td>\n",
              "      <td>174.176232</td>\n",
              "      <td>26.592728</td>\n",
              "      <td>49.851717</td>\n",
              "      <td>216.841084</td>\n",
              "      <td>26.582320</td>\n",
              "      <td>49.955266</td>\n",
              "      <td>216.597255</td>\n",
              "      <td>A1</td>\n",
              "      <td>B3</td>\n",
              "      <td>Set1</td>\n",
              "      <td>2F670532-3760-42FC-A982-1670FEE99E66.png</td>\n",
              "    </tr>\n",
              "    <tr>\n",
              "      <th>77</th>\n",
              "      <td>216.518627</td>\n",
              "      <td>210.308173</td>\n",
              "      <td>165.386738</td>\n",
              "      <td>215.701728</td>\n",
              "      <td>209.406088</td>\n",
              "      <td>163.749733</td>\n",
              "      <td>27.408408</td>\n",
              "      <td>60.642561</td>\n",
              "      <td>216.576252</td>\n",
              "      <td>26.895882</td>\n",
              "      <td>61.624138</td>\n",
              "      <td>215.721855</td>\n",
              "      <td>A1</td>\n",
              "      <td>B3</td>\n",
              "      <td>Set1</td>\n",
              "      <td>547F5541-94BD-48D5-BD5B-25CBEFA4B8C9.png</td>\n",
              "    </tr>\n",
              "    <tr>\n",
              "      <th>78</th>\n",
              "      <td>226.631280</td>\n",
              "      <td>225.869572</td>\n",
              "      <td>206.821687</td>\n",
              "      <td>220.940616</td>\n",
              "      <td>216.798236</td>\n",
              "      <td>188.812247</td>\n",
              "      <td>32.028650</td>\n",
              "      <td>24.639153</td>\n",
              "      <td>220.641425</td>\n",
              "      <td>26.300263</td>\n",
              "      <td>37.027167</td>\n",
              "      <td>220.940616</td>\n",
              "      <td>A1</td>\n",
              "      <td>B3</td>\n",
              "      <td>Set1</td>\n",
              "      <td>E9149994-C281-48DA-AF5B-7A13ECD7E307.png</td>\n",
              "    </tr>\n",
              "    <tr>\n",
              "      <th>79</th>\n",
              "      <td>215.905689</td>\n",
              "      <td>213.445418</td>\n",
              "      <td>172.261748</td>\n",
              "      <td>215.479909</td>\n",
              "      <td>212.782732</td>\n",
              "      <td>172.170543</td>\n",
              "      <td>28.414496</td>\n",
              "      <td>51.543381</td>\n",
              "      <td>215.908530</td>\n",
              "      <td>28.224593</td>\n",
              "      <td>51.259370</td>\n",
              "      <td>215.479909</td>\n",
              "      <td>A1</td>\n",
              "      <td>B3</td>\n",
              "      <td>Set1</td>\n",
              "      <td>D360D9A0-603E-4947-A8FE-72EB861A079A.png</td>\n",
              "    </tr>\n",
              "  </tbody>\n",
              "</table>\n",
              "<p>80 rows × 16 columns</p>\n",
              "</div>"
            ],
            "text/plain": [
              "         R-ref       G-ref  ...  Setting                                       Img\n",
              "0   223.258946  219.094070  ...     Set1  E06EE405-F4BF-4F38-91EB-D121DD1B7596.png\n",
              "1   219.883857  219.479750  ...     Set1  AE8AEBC6-65B3-437F-8D3F-E166B2E2BFDA.png\n",
              "2   212.219544  207.098287  ...     Set1  99B00828-56AB-4F65-A76F-DB15F741C3F7.png\n",
              "3   211.413359  204.236994  ...     Set1  32FA77BB-E294-49AE-A577-1BFEDB395F5A.png\n",
              "4   221.975327  217.556854  ...     Set1  C328B2A9-9EAE-4631-BECD-D8B2BB1F7BAB.png\n",
              "..         ...         ...  ...      ...                                       ...\n",
              "75  219.163785  220.393637  ...     Set1  95DD0EB2-20EB-404E-BA97-3740D2D0DF96.png\n",
              "76  219.158510  215.741255  ...     Set1  2F670532-3760-42FC-A982-1670FEE99E66.png\n",
              "77  216.518627  210.308173  ...     Set1  547F5541-94BD-48D5-BD5B-25CBEFA4B8C9.png\n",
              "78  226.631280  225.869572  ...     Set1  E9149994-C281-48DA-AF5B-7A13ECD7E307.png\n",
              "79  215.905689  213.445418  ...     Set1  D360D9A0-603E-4947-A8FE-72EB861A079A.png\n",
              "\n",
              "[80 rows x 16 columns]"
            ]
          },
          "metadata": {},
          "execution_count": 417
        }
      ]
    },
    {
      "cell_type": "code",
      "source": [
        "df1.to_csv('Shade_A102S4 Guide.csv', index=False)"
      ],
      "metadata": {
        "id": "ZE4BtEQ3ENMC"
      },
      "execution_count": 421,
      "outputs": []
    },
    {
      "cell_type": "code",
      "source": [
        " d3 = pd.read_csv('ShadeSet1_A102 Guide.csv')\n",
        "df3"
      ],
      "metadata": {
        "id": "MW8P1W_AcB1L",
        "colab": {
          "base_uri": "https://localhost:8080/",
          "height": 398
        },
        "outputId": "ab75134b-6378-4257-cc6c-f9fff0e272b2"
      },
      "execution_count": 419,
      "outputs": [
        {
          "output_type": "error",
          "ename": "FileNotFoundError",
          "evalue": "ignored",
          "traceback": [
            "\u001b[0;31m---------------------------------------------------------------------------\u001b[0m",
            "\u001b[0;31mFileNotFoundError\u001b[0m                         Traceback (most recent call last)",
            "\u001b[0;32m<ipython-input-419-5771e899928b>\u001b[0m in \u001b[0;36m<module>\u001b[0;34m()\u001b[0m\n\u001b[0;32m----> 1\u001b[0;31m \u001b[0md3\u001b[0m \u001b[0;34m=\u001b[0m \u001b[0mpd\u001b[0m\u001b[0;34m.\u001b[0m\u001b[0mread_csv\u001b[0m\u001b[0;34m(\u001b[0m\u001b[0;34m'ShadeSet1_A102 Guide.csv'\u001b[0m\u001b[0;34m)\u001b[0m\u001b[0;34m\u001b[0m\u001b[0;34m\u001b[0m\u001b[0m\n\u001b[0m\u001b[1;32m      2\u001b[0m \u001b[0mdf3\u001b[0m\u001b[0;34m\u001b[0m\u001b[0;34m\u001b[0m\u001b[0m\n",
            "\u001b[0;32m/usr/local/lib/python3.7/dist-packages/pandas/io/parsers.py\u001b[0m in \u001b[0;36mread_csv\u001b[0;34m(filepath_or_buffer, sep, delimiter, header, names, index_col, usecols, squeeze, prefix, mangle_dupe_cols, dtype, engine, converters, true_values, false_values, skipinitialspace, skiprows, skipfooter, nrows, na_values, keep_default_na, na_filter, verbose, skip_blank_lines, parse_dates, infer_datetime_format, keep_date_col, date_parser, dayfirst, cache_dates, iterator, chunksize, compression, thousands, decimal, lineterminator, quotechar, quoting, doublequote, escapechar, comment, encoding, dialect, error_bad_lines, warn_bad_lines, delim_whitespace, low_memory, memory_map, float_precision)\u001b[0m\n\u001b[1;32m    686\u001b[0m     )\n\u001b[1;32m    687\u001b[0m \u001b[0;34m\u001b[0m\u001b[0m\n\u001b[0;32m--> 688\u001b[0;31m     \u001b[0;32mreturn\u001b[0m \u001b[0m_read\u001b[0m\u001b[0;34m(\u001b[0m\u001b[0mfilepath_or_buffer\u001b[0m\u001b[0;34m,\u001b[0m \u001b[0mkwds\u001b[0m\u001b[0;34m)\u001b[0m\u001b[0;34m\u001b[0m\u001b[0;34m\u001b[0m\u001b[0m\n\u001b[0m\u001b[1;32m    689\u001b[0m \u001b[0;34m\u001b[0m\u001b[0m\n\u001b[1;32m    690\u001b[0m \u001b[0;34m\u001b[0m\u001b[0m\n",
            "\u001b[0;32m/usr/local/lib/python3.7/dist-packages/pandas/io/parsers.py\u001b[0m in \u001b[0;36m_read\u001b[0;34m(filepath_or_buffer, kwds)\u001b[0m\n\u001b[1;32m    452\u001b[0m \u001b[0;34m\u001b[0m\u001b[0m\n\u001b[1;32m    453\u001b[0m     \u001b[0;31m# Create the parser.\u001b[0m\u001b[0;34m\u001b[0m\u001b[0;34m\u001b[0m\u001b[0;34m\u001b[0m\u001b[0m\n\u001b[0;32m--> 454\u001b[0;31m     \u001b[0mparser\u001b[0m \u001b[0;34m=\u001b[0m \u001b[0mTextFileReader\u001b[0m\u001b[0;34m(\u001b[0m\u001b[0mfp_or_buf\u001b[0m\u001b[0;34m,\u001b[0m \u001b[0;34m**\u001b[0m\u001b[0mkwds\u001b[0m\u001b[0;34m)\u001b[0m\u001b[0;34m\u001b[0m\u001b[0;34m\u001b[0m\u001b[0m\n\u001b[0m\u001b[1;32m    455\u001b[0m \u001b[0;34m\u001b[0m\u001b[0m\n\u001b[1;32m    456\u001b[0m     \u001b[0;32mif\u001b[0m \u001b[0mchunksize\u001b[0m \u001b[0;32mor\u001b[0m \u001b[0miterator\u001b[0m\u001b[0;34m:\u001b[0m\u001b[0;34m\u001b[0m\u001b[0;34m\u001b[0m\u001b[0m\n",
            "\u001b[0;32m/usr/local/lib/python3.7/dist-packages/pandas/io/parsers.py\u001b[0m in \u001b[0;36m__init__\u001b[0;34m(self, f, engine, **kwds)\u001b[0m\n\u001b[1;32m    946\u001b[0m             \u001b[0mself\u001b[0m\u001b[0;34m.\u001b[0m\u001b[0moptions\u001b[0m\u001b[0;34m[\u001b[0m\u001b[0;34m\"has_index_names\"\u001b[0m\u001b[0;34m]\u001b[0m \u001b[0;34m=\u001b[0m \u001b[0mkwds\u001b[0m\u001b[0;34m[\u001b[0m\u001b[0;34m\"has_index_names\"\u001b[0m\u001b[0;34m]\u001b[0m\u001b[0;34m\u001b[0m\u001b[0;34m\u001b[0m\u001b[0m\n\u001b[1;32m    947\u001b[0m \u001b[0;34m\u001b[0m\u001b[0m\n\u001b[0;32m--> 948\u001b[0;31m         \u001b[0mself\u001b[0m\u001b[0;34m.\u001b[0m\u001b[0m_make_engine\u001b[0m\u001b[0;34m(\u001b[0m\u001b[0mself\u001b[0m\u001b[0;34m.\u001b[0m\u001b[0mengine\u001b[0m\u001b[0;34m)\u001b[0m\u001b[0;34m\u001b[0m\u001b[0;34m\u001b[0m\u001b[0m\n\u001b[0m\u001b[1;32m    949\u001b[0m \u001b[0;34m\u001b[0m\u001b[0m\n\u001b[1;32m    950\u001b[0m     \u001b[0;32mdef\u001b[0m \u001b[0mclose\u001b[0m\u001b[0;34m(\u001b[0m\u001b[0mself\u001b[0m\u001b[0;34m)\u001b[0m\u001b[0;34m:\u001b[0m\u001b[0;34m\u001b[0m\u001b[0;34m\u001b[0m\u001b[0m\n",
            "\u001b[0;32m/usr/local/lib/python3.7/dist-packages/pandas/io/parsers.py\u001b[0m in \u001b[0;36m_make_engine\u001b[0;34m(self, engine)\u001b[0m\n\u001b[1;32m   1178\u001b[0m     \u001b[0;32mdef\u001b[0m \u001b[0m_make_engine\u001b[0m\u001b[0;34m(\u001b[0m\u001b[0mself\u001b[0m\u001b[0;34m,\u001b[0m \u001b[0mengine\u001b[0m\u001b[0;34m=\u001b[0m\u001b[0;34m\"c\"\u001b[0m\u001b[0;34m)\u001b[0m\u001b[0;34m:\u001b[0m\u001b[0;34m\u001b[0m\u001b[0;34m\u001b[0m\u001b[0m\n\u001b[1;32m   1179\u001b[0m         \u001b[0;32mif\u001b[0m \u001b[0mengine\u001b[0m \u001b[0;34m==\u001b[0m \u001b[0;34m\"c\"\u001b[0m\u001b[0;34m:\u001b[0m\u001b[0;34m\u001b[0m\u001b[0;34m\u001b[0m\u001b[0m\n\u001b[0;32m-> 1180\u001b[0;31m             \u001b[0mself\u001b[0m\u001b[0;34m.\u001b[0m\u001b[0m_engine\u001b[0m \u001b[0;34m=\u001b[0m \u001b[0mCParserWrapper\u001b[0m\u001b[0;34m(\u001b[0m\u001b[0mself\u001b[0m\u001b[0;34m.\u001b[0m\u001b[0mf\u001b[0m\u001b[0;34m,\u001b[0m \u001b[0;34m**\u001b[0m\u001b[0mself\u001b[0m\u001b[0;34m.\u001b[0m\u001b[0moptions\u001b[0m\u001b[0;34m)\u001b[0m\u001b[0;34m\u001b[0m\u001b[0;34m\u001b[0m\u001b[0m\n\u001b[0m\u001b[1;32m   1181\u001b[0m         \u001b[0;32melse\u001b[0m\u001b[0;34m:\u001b[0m\u001b[0;34m\u001b[0m\u001b[0;34m\u001b[0m\u001b[0m\n\u001b[1;32m   1182\u001b[0m             \u001b[0;32mif\u001b[0m \u001b[0mengine\u001b[0m \u001b[0;34m==\u001b[0m \u001b[0;34m\"python\"\u001b[0m\u001b[0;34m:\u001b[0m\u001b[0;34m\u001b[0m\u001b[0;34m\u001b[0m\u001b[0m\n",
            "\u001b[0;32m/usr/local/lib/python3.7/dist-packages/pandas/io/parsers.py\u001b[0m in \u001b[0;36m__init__\u001b[0;34m(self, src, **kwds)\u001b[0m\n\u001b[1;32m   2008\u001b[0m         \u001b[0mkwds\u001b[0m\u001b[0;34m[\u001b[0m\u001b[0;34m\"usecols\"\u001b[0m\u001b[0;34m]\u001b[0m \u001b[0;34m=\u001b[0m \u001b[0mself\u001b[0m\u001b[0;34m.\u001b[0m\u001b[0musecols\u001b[0m\u001b[0;34m\u001b[0m\u001b[0;34m\u001b[0m\u001b[0m\n\u001b[1;32m   2009\u001b[0m \u001b[0;34m\u001b[0m\u001b[0m\n\u001b[0;32m-> 2010\u001b[0;31m         \u001b[0mself\u001b[0m\u001b[0;34m.\u001b[0m\u001b[0m_reader\u001b[0m \u001b[0;34m=\u001b[0m \u001b[0mparsers\u001b[0m\u001b[0;34m.\u001b[0m\u001b[0mTextReader\u001b[0m\u001b[0;34m(\u001b[0m\u001b[0msrc\u001b[0m\u001b[0;34m,\u001b[0m \u001b[0;34m**\u001b[0m\u001b[0mkwds\u001b[0m\u001b[0;34m)\u001b[0m\u001b[0;34m\u001b[0m\u001b[0;34m\u001b[0m\u001b[0m\n\u001b[0m\u001b[1;32m   2011\u001b[0m         \u001b[0mself\u001b[0m\u001b[0;34m.\u001b[0m\u001b[0munnamed_cols\u001b[0m \u001b[0;34m=\u001b[0m \u001b[0mself\u001b[0m\u001b[0;34m.\u001b[0m\u001b[0m_reader\u001b[0m\u001b[0;34m.\u001b[0m\u001b[0munnamed_cols\u001b[0m\u001b[0;34m\u001b[0m\u001b[0;34m\u001b[0m\u001b[0m\n\u001b[1;32m   2012\u001b[0m \u001b[0;34m\u001b[0m\u001b[0m\n",
            "\u001b[0;32mpandas/_libs/parsers.pyx\u001b[0m in \u001b[0;36mpandas._libs.parsers.TextReader.__cinit__\u001b[0;34m()\u001b[0m\n",
            "\u001b[0;32mpandas/_libs/parsers.pyx\u001b[0m in \u001b[0;36mpandas._libs.parsers.TextReader._setup_parser_source\u001b[0;34m()\u001b[0m\n",
            "\u001b[0;31mFileNotFoundError\u001b[0m: [Errno 2] No such file or directory: 'ShadeSet1_A102 Guide.csv'"
          ]
        }
      ]
    },
    {
      "cell_type": "code",
      "source": [
        "A1_concat = pd.concat([df3, df2])\n",
        "A1_concat"
      ],
      "metadata": {
        "id": "gthn5_UjcCYD"
      },
      "execution_count": null,
      "outputs": []
    },
    {
      "cell_type": "code",
      "source": [
        "A1_concat = pd.concat([df1, df2, df3, df4])\n",
        "A1_concat"
      ],
      "metadata": {
        "id": "2_lNtZ9Oikph"
      },
      "execution_count": null,
      "outputs": []
    },
    {
      "cell_type": "code",
      "source": [
        "A3_concat.to_csv('Shade_A3 Guide.csv', index=False)"
      ],
      "metadata": {
        "id": "7VvHaGzcisZa"
      },
      "execution_count": null,
      "outputs": []
    },
    {
      "cell_type": "code",
      "source": [
        "S1meanrefA1_1 = list()\n",
        "S1meanA1_2 = list()\n",
        "S1meanrefA1_11 = list()\n",
        "S1meanA1_22 = list()\n",
        "for i in range(S1RGB_imgA1A1_1.shape[0]): #ให้ i รันตาม row หรือ shape[0] คือแถว มีทั้งหมด 4032 แถว ของภาพที่ปรับขนาดมาแล้ว\n",
        "     for j in range(S1RGB_imgA1A1_1.shape[1]): #ให้ j รันตาม colum มีทั้งหมด 3024 colum เช่น แถวที่ 1 เข้ามาให้รันครบ 3024colum\n",
        "                if 1769<i<1881 and 2019<j<2131 :\n",
        "                  S1meanrefA1_1.append(S1RGB_imgA1A1_1[i][j])\n",
        "                if 1770<i<1880 and 2015<j<2145 :\n",
        "                  S1meanA1_2.append(S1RGB_imgA1A1_1[i][j])  \n",
        "                if 1764<i<1881 and 2020<j<2131 :\n",
        "                  S1meanrefA1_11.append(S1RGB_imgA1A1_1[i][j])\n",
        "                if 1765<i<1880 and 2016<j<2145 :\n",
        "                  S1meanA1_22.append(S1RGB_imgA1A1_1[i][j])\n",
        "S1meanrefA1_1 = np.array(S1meanrefA1_1)\n",
        "S1meanA1_2 = np.array(S1meanA1_2)\n",
        "S1meanrefA1_11 = np.array(S1meanrefA1_11)\n",
        "S1meanA1_22 = np.array(S1meanA1_22)\n",
        "\n",
        "\n",
        "S1rgbrefA1_1 = list()\n",
        "S1rgbA1_2 = list()\n",
        "for i in range(3):\n",
        "    S1rgbrefA1_1.append((S1meanrefA1_1[:,i].mean(),S1meanrefA1_11[:,i].mean()))\n",
        "    S1rgbA1_2.append((S1meanA1_2[:,i].mean(),S1meanA1_22[:,i].mean()))\n",
        "S1rgbrefA1_1,S1rgbA1_2 "
      ],
      "metadata": {
        "id": "Y47pTRUI6L09"
      },
      "execution_count": null,
      "outputs": []
    },
    {
      "cell_type": "code",
      "source": [
        "df1 = pd.DataFrame({'R-ref':[S1rgbrefA1_1[0]], 'G-ref': [S1rgbrefA1_1[1]],'B-ref': [S1rgbrefA1_1[2]],'R-Shad':  [S1rgbA1_2[0]], 'G-Shad':[S1rgbA1_2[1]],'B-Shad': [S1rgbA1_2[2]]\n",
        "})\n",
        "df1 "
      ],
      "metadata": {
        "id": "egxIQPdj6d0_"
      },
      "execution_count": null,
      "outputs": []
    }
  ]
}