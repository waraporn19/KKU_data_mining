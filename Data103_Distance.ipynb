{
  "nbformat": 4,
  "nbformat_minor": 0,
  "metadata": {
    "colab": {
      "name": "Data103_Distance.ipynb",
      "provenance": [],
      "authorship_tag": "ABX9TyNz7d/Aw5cEX2wp2/x+den5",
      "include_colab_link": true
    },
    "kernelspec": {
      "name": "python3",
      "display_name": "Python 3"
    }
  },
  "cells": [
    {
      "cell_type": "markdown",
      "metadata": {
        "id": "view-in-github",
        "colab_type": "text"
      },
      "source": [
        "<a href=\"https://colab.research.google.com/github/waraporn19/KKU_data_mining/blob/master/Data103_Distance.ipynb\" target=\"_parent\"><img src=\"https://colab.research.google.com/assets/colab-badge.svg\" alt=\"Open In Colab\"/></a>"
      ]
    },
    {
      "cell_type": "code",
      "metadata": {
        "id": "EkGQs13ons-o",
        "colab_type": "code",
        "colab": {}
      },
      "source": [
        "# เกี่ยวกับตัวเลข\n",
        "import numpy as np"
      ],
      "execution_count": 18,
      "outputs": []
    },
    {
      "cell_type": "markdown",
      "metadata": {
        "id": "dcVPBdDRuyTb",
        "colab_type": "text"
      },
      "source": [
        "#Numpy Array"
      ]
    },
    {
      "cell_type": "code",
      "metadata": {
        "id": "bwFOr4I1ut5v",
        "colab_type": "code",
        "colab": {
          "base_uri": "https://localhost:8080/",
          "height": 51
        },
        "outputId": "8fba80d7-049b-4209-86c5-1fa27f798057"
      },
      "source": [
        "np1 = np.array([[1,3,5],[2,4,6]]) # สร้าง numpy array แถวที่ 1-2 \n",
        "np1"
      ],
      "execution_count": 19,
      "outputs": [
        {
          "output_type": "execute_result",
          "data": {
            "text/plain": [
              "array([[1, 3, 5],\n",
              "       [2, 4, 6]])"
            ]
          },
          "metadata": {
            "tags": []
          },
          "execution_count": 19
        }
      ]
    },
    {
      "cell_type": "code",
      "metadata": {
        "id": "cZ2nxqnBvJHf",
        "colab_type": "code",
        "colab": {
          "base_uri": "https://localhost:8080/",
          "height": 85
        },
        "outputId": "346e41ab-3398-49b7-c483-e408b1f1931b"
      },
      "source": [
        "np2 = np.array([[1,2],[3,5],[2,0],[4,5]]) # สร้าง numpy array แถวที่ 1-4 \n",
        "np2\n"
      ],
      "execution_count": 20,
      "outputs": [
        {
          "output_type": "execute_result",
          "data": {
            "text/plain": [
              "array([[1, 2],\n",
              "       [3, 5],\n",
              "       [2, 0],\n",
              "       [4, 5]])"
            ]
          },
          "metadata": {
            "tags": []
          },
          "execution_count": 20
        }
      ]
    },
    {
      "cell_type": "code",
      "metadata": {
        "id": "e1-ZHRqsvKyf",
        "colab_type": "code",
        "colab": {
          "base_uri": "https://localhost:8080/",
          "height": 51
        },
        "outputId": "1bc1741c-bd97-463a-c910-dc18f9b07586"
      },
      "source": [
        "np2.T # Transpost"
      ],
      "execution_count": 21,
      "outputs": [
        {
          "output_type": "execute_result",
          "data": {
            "text/plain": [
              "array([[1, 3, 2, 4],\n",
              "       [2, 5, 0, 5]])"
            ]
          },
          "metadata": {
            "tags": []
          },
          "execution_count": 21
        }
      ]
    },
    {
      "cell_type": "code",
      "metadata": {
        "id": "q1bf0qXxvK4f",
        "colab_type": "code",
        "colab": {
          "base_uri": "https://localhost:8080/",
          "height": 34
        },
        "outputId": "179ffc53-55b2-4e64-e2ab-cc46a0e50b53"
      },
      "source": [
        "np2[0,:] # ดูข้อมูล แถวแรก(0) ข้อมูลทุกตัว(:)ในแถวแรก"
      ],
      "execution_count": 22,
      "outputs": [
        {
          "output_type": "execute_result",
          "data": {
            "text/plain": [
              "array([1, 2])"
            ]
          },
          "metadata": {
            "tags": []
          },
          "execution_count": 22
        }
      ]
    },
    {
      "cell_type": "markdown",
      "metadata": {
        "id": "1DC7NVK1veyY",
        "colab_type": "text"
      },
      "source": [
        "#HW 6"
      ]
    },
    {
      "cell_type": "markdown",
      "metadata": {
        "id": "6ZT9bmBNw2R_",
        "colab_type": "text"
      },
      "source": [
        "สร้าง Distance matrix (Manhattan and Euclidean) ของ np2 โดยสร้าง function สำหรับคำนวณ Manhattan distance และ Euclidean distance\n",
        "\n",
        "''' def Euclidean(data1,data2);\n",
        "\n",
        "#process return dist\n",
        "\n",
        "'''"
      ]
    },
    {
      "cell_type": "code",
      "metadata": {
        "id": "xsOitYeDvK6S",
        "colab_type": "code",
        "colab": {}
      },
      "source": [
        "import math"
      ],
      "execution_count": 26,
      "outputs": []
    },
    {
      "cell_type": "code",
      "metadata": {
        "id": "uh6S06ugvK-z",
        "colab_type": "code",
        "colab": {}
      },
      "source": [
        "def Manhattan(data1,data2):\n",
        "    distX = abs(data1[0]-data2[0]) # ใส่ abs เพื่อให้มันเป็นบวก\n",
        "    distY = abs(data1[1]-data2[1]) # Y อยู่ตำแหน่งที่ 1\n",
        "    return distX+distY"
      ],
      "execution_count": 27,
      "outputs": []
    },
    {
      "cell_type": "code",
      "metadata": {
        "id": "lns4TMLgvLCy",
        "colab_type": "code",
        "colab": {
          "base_uri": "https://localhost:8080/",
          "height": 34
        },
        "outputId": "e54a5c3f-e6ed-47bc-c8de-43ac1443df30"
      },
      "source": [
        "Manhattan(np2[0,:],np2[1,:])"
      ],
      "execution_count": 28,
      "outputs": [
        {
          "output_type": "execute_result",
          "data": {
            "text/plain": [
              "5"
            ]
          },
          "metadata": {
            "tags": []
          },
          "execution_count": 28
        }
      ]
    },
    {
      "cell_type": "code",
      "metadata": {
        "id": "BqTry2FSvK9H",
        "colab_type": "code",
        "colab": {
          "base_uri": "https://localhost:8080/",
          "height": 85
        },
        "outputId": "7e10be46-c896-41b9-cd7c-96c45992f8ca"
      },
      "source": [
        "# สร้าง array เปล่า 4x4 มาจากจำนวนข้อมูล .zeros คือเริ่มจาก 0 .zone ก็มี\n",
        "dist_mat = np.zeros((4,4))\n",
        "dist_mat"
      ],
      "execution_count": 29,
      "outputs": [
        {
          "output_type": "execute_result",
          "data": {
            "text/plain": [
              "array([[0., 0., 0., 0.],\n",
              "       [0., 0., 0., 0.],\n",
              "       [0., 0., 0., 0.],\n",
              "       [0., 0., 0., 0.]])"
            ]
          },
          "metadata": {
            "tags": []
          },
          "execution_count": 29
        }
      ]
    },
    {
      "cell_type": "code",
      "metadata": {
        "id": "yk5cuaRtwfX0",
        "colab_type": "code",
        "colab": {
          "base_uri": "https://localhost:8080/",
          "height": 85
        },
        "outputId": "6bd37347-fb81-4cc3-c405-bf0df43ab6e5"
      },
      "source": [
        "for i in range(4):\n",
        "    for j in range(4):\n",
        "      dist_mat[i,j] = Manhattan(np2[i,:],np2[j,:])\n",
        "      \n",
        "dist_mat"
      ],
      "execution_count": 30,
      "outputs": [
        {
          "output_type": "execute_result",
          "data": {
            "text/plain": [
              "array([[0., 5., 3., 6.],\n",
              "       [5., 0., 6., 1.],\n",
              "       [3., 6., 0., 7.],\n",
              "       [6., 1., 7., 0.]])"
            ]
          },
          "metadata": {
            "tags": []
          },
          "execution_count": 30
        }
      ]
    },
    {
      "cell_type": "code",
      "metadata": {
        "id": "8i_11UE_wfow",
        "colab_type": "code",
        "colab": {
          "base_uri": "https://localhost:8080/",
          "height": 34
        },
        "outputId": "a579ef36-c178-4dca-a419-80a732bc8b61"
      },
      "source": [
        "np2.shape # บอกจำนวนแถวและหลัก ของ เมตริกซ์"
      ],
      "execution_count": 31,
      "outputs": [
        {
          "output_type": "execute_result",
          "data": {
            "text/plain": [
              "(4, 2)"
            ]
          },
          "metadata": {
            "tags": []
          },
          "execution_count": 31
        }
      ]
    },
    {
      "cell_type": "code",
      "metadata": {
        "id": "wfpDjY_DdvSO",
        "colab_type": "code",
        "colab": {}
      },
      "source": [
        "def Euclidean(data1,data2):\n",
        "    distX = pow(abs(data1[0]-data2[0]),2)\n",
        "    distY = pow(abs(data1[1]-data2[1]),2)\n",
        "    return math.sqrt(distX+distY)"
      ],
      "execution_count": 32,
      "outputs": []
    },
    {
      "cell_type": "code",
      "metadata": {
        "id": "Mt1kssYYdvY1",
        "colab_type": "code",
        "colab": {
          "base_uri": "https://localhost:8080/",
          "height": 85
        },
        "outputId": "e6541c4c-f5ce-4110-c3a3-187dbc302bdc"
      },
      "source": [
        "dist_math1 = np.zeros((4,4))\n",
        "dist_math1"
      ],
      "execution_count": 33,
      "outputs": [
        {
          "output_type": "execute_result",
          "data": {
            "text/plain": [
              "array([[0., 0., 0., 0.],\n",
              "       [0., 0., 0., 0.],\n",
              "       [0., 0., 0., 0.],\n",
              "       [0., 0., 0., 0.]])"
            ]
          },
          "metadata": {
            "tags": []
          },
          "execution_count": 33
        }
      ]
    },
    {
      "cell_type": "code",
      "metadata": {
        "id": "GfbTdlIpdvmb",
        "colab_type": "code",
        "colab": {
          "base_uri": "https://localhost:8080/",
          "height": 85
        },
        "outputId": "260fab4a-484e-4dc9-9dbb-6342b27371dc"
      },
      "source": [
        "for i in range(4):\n",
        "    for j in range(4):\n",
        "        dist_math1[i,j] = Euclidean(np2[i,:],np2[j,:])\n",
        "dist_math1"
      ],
      "execution_count": 35,
      "outputs": [
        {
          "output_type": "execute_result",
          "data": {
            "text/plain": [
              "array([[0.        , 3.60555128, 2.23606798, 4.24264069],\n",
              "       [3.60555128, 0.        , 5.09901951, 1.        ],\n",
              "       [2.23606798, 5.09901951, 0.        , 5.38516481],\n",
              "       [4.24264069, 1.        , 5.38516481, 0.        ]])"
            ]
          },
          "metadata": {
            "tags": []
          },
          "execution_count": 35
        }
      ]
    },
    {
      "cell_type": "code",
      "metadata": {
        "id": "idLTRkyudvyb",
        "colab_type": "code",
        "colab": {}
      },
      "source": [
        ""
      ],
      "execution_count": null,
      "outputs": []
    },
    {
      "cell_type": "markdown",
      "metadata": {
        "id": "kepRwArRv2rC",
        "colab_type": "text"
      },
      "source": [
        "#Distance of nominal or categorical features\n",
        "(extra) python data structure (Dictionary)\n"
      ]
    },
    {
      "cell_type": "code",
      "metadata": {
        "id": "cl1T8tVnv7MV",
        "colab_type": "code",
        "colab": {}
      },
      "source": [
        "d_A={'a':1,2:3,3:5,'cat':6}#ใส่ค่า 1 คืนค่า 3 คือ คำสั่งสร้างDictionary"
      ],
      "execution_count": 38,
      "outputs": []
    },
    {
      "cell_type": "code",
      "metadata": {
        "id": "hhXd5jE4v7Ei",
        "colab_type": "code",
        "colab": {
          "base_uri": "https://localhost:8080/",
          "height": 34
        },
        "outputId": "ea04d1e4-051b-4ce9-c082-8ae8cf293ee1"
      },
      "source": [
        "d_A"
      ],
      "execution_count": 39,
      "outputs": [
        {
          "output_type": "execute_result",
          "data": {
            "text/plain": [
              "{2: 3, 3: 5, 'a': 1, 'cat': 6}"
            ]
          },
          "metadata": {
            "tags": []
          },
          "execution_count": 39
        }
      ]
    },
    {
      "cell_type": "code",
      "metadata": {
        "id": "Ryz--31bwx2D",
        "colab_type": "code",
        "colab": {
          "base_uri": "https://localhost:8080/",
          "height": 34
        },
        "outputId": "79ec99a7-2cde-4d13-bfd3-0d0ec4491a76"
      },
      "source": [
        "d_A['cat']"
      ],
      "execution_count": 40,
      "outputs": [
        {
          "output_type": "execute_result",
          "data": {
            "text/plain": [
              "6"
            ]
          },
          "metadata": {
            "tags": []
          },
          "execution_count": 40
        }
      ]
    },
    {
      "cell_type": "code",
      "metadata": {
        "id": "JHoDvZSnwyb9",
        "colab_type": "code",
        "colab": {}
      },
      "source": [
        "\n",
        "d_A['dag'] = [1,2,3,4,5] #เพิ่มค่าเข้าไปใน dict"
      ],
      "execution_count": 42,
      "outputs": []
    },
    {
      "cell_type": "code",
      "metadata": {
        "id": "KQ5ez-Z1wywY",
        "colab_type": "code",
        "colab": {
          "base_uri": "https://localhost:8080/",
          "height": 34
        },
        "outputId": "b3fdbfb0-9a85-4d5c-e0a5-de6826c36cc4"
      },
      "source": [
        "d_A"
      ],
      "execution_count": 43,
      "outputs": [
        {
          "output_type": "execute_result",
          "data": {
            "text/plain": [
              "{2: 3, 3: 5, 'a': 1, 'cat': 6, 'dag': [1, 2, 3, 4, 5]}"
            ]
          },
          "metadata": {
            "tags": []
          },
          "execution_count": 43
        }
      ]
    },
    {
      "cell_type": "code",
      "metadata": {
        "id": "Jz-PQaWXPCrf",
        "colab_type": "code",
        "colab": {}
      },
      "source": [
        "del d_A['dag'] #ลบค่าใน Dict"
      ],
      "execution_count": null,
      "outputs": []
    },
    {
      "cell_type": "code",
      "metadata": {
        "id": "Aw65PJ5tPC5x",
        "colab_type": "code",
        "colab": {}
      },
      "source": [
        "d_A"
      ],
      "execution_count": null,
      "outputs": []
    },
    {
      "cell_type": "code",
      "metadata": {
        "id": "z0oiZNMDPDGK",
        "colab_type": "code",
        "colab": {}
      },
      "source": [
        "d_A['dog'] = [1,2,3,4,5]"
      ],
      "execution_count": null,
      "outputs": []
    },
    {
      "cell_type": "code",
      "metadata": {
        "id": "8EFxngRkPLz9",
        "colab_type": "code",
        "colab": {}
      },
      "source": [
        "d_A"
      ],
      "execution_count": null,
      "outputs": []
    },
    {
      "cell_type": "code",
      "metadata": {
        "id": "cq9QcCF2wy-u",
        "colab_type": "code",
        "colab": {}
      },
      "source": [
        "import pandas as pd"
      ],
      "execution_count": 44,
      "outputs": []
    },
    {
      "cell_type": "code",
      "metadata": {
        "id": "csTh3-9lxDKo",
        "colab_type": "code",
        "colab": {}
      },
      "source": [
        "data_dict = {'color':['red','red','green'], #มีค่าที่เป็นไปได้ color = 'rad', 'green', 'blue'\n",
        "             'status':['single','married','single']} #status = 'single','married','single'\n",
        "data_dict            "
      ],
      "execution_count": null,
      "outputs": []
    },
    {
      "cell_type": "code",
      "metadata": {
        "id": "V1CNy8C8xDqA",
        "colab_type": "code",
        "colab": {}
      },
      "source": [
        "data_pd = pd.DataFrame.from_dict(data_dict)#สร้างตาราง ใช้คำสั่งfrom_dict\n",
        "data_pd"
      ],
      "execution_count": null,
      "outputs": []
    },
    {
      "cell_type": "markdown",
      "metadata": {
        "id": "XXB3Axybyi7N",
        "colab_type": "text"
      },
      "source": [
        "#Categorical feature distance method#1"
      ]
    },
    {
      "cell_type": "code",
      "metadata": {
        "id": "AX87ABngxD3j",
        "colab_type": "code",
        "colab": {
          "base_uri": "https://localhost:8080/",
          "height": 171
        },
        "outputId": "019a4e79-f040-4a2c-c7af-2f48b1056a16"
      },
      "source": [
        "list(data_pd.iloc[0,:])"
      ],
      "execution_count": null,
      "outputs": [
        {
          "output_type": "error",
          "ename": "NameError",
          "evalue": "ignored",
          "traceback": [
            "\u001b[0;31m---------------------------------------------------------------------------\u001b[0m",
            "\u001b[0;31mNameError\u001b[0m                                 Traceback (most recent call last)",
            "\u001b[0;32m<ipython-input-1-2df436830746>\u001b[0m in \u001b[0;36m<module>\u001b[0;34m()\u001b[0m\n\u001b[0;32m----> 1\u001b[0;31m \u001b[0mlist\u001b[0m\u001b[0;34m(\u001b[0m\u001b[0mdata_pd\u001b[0m\u001b[0;34m.\u001b[0m\u001b[0miloc\u001b[0m\u001b[0;34m[\u001b[0m\u001b[0;36m0\u001b[0m\u001b[0;34m:\u001b[0m\u001b[0;34m]\u001b[0m\u001b[0;34m)\u001b[0m\u001b[0;34m\u001b[0m\u001b[0;34m\u001b[0m\u001b[0m\n\u001b[0m",
            "\u001b[0;31mNameError\u001b[0m: name 'data_pd' is not defined"
          ]
        }
      ]
    },
    {
      "cell_type": "code",
      "metadata": {
        "id": "YFYxqFloxEBN",
        "colab_type": "code",
        "colab": {}
      },
      "source": [
        "def meth1_dist(data1,data2):\n",
        "    N = 0     #จำนวนของ unmath ตัวที่ไม่ตรงกัน\n",
        "    print(f'data1 is {data1} and data2 is {data2}')\n",
        "    for i in range(len(data1)):\n",
        "        print(f'feature{i} of data1 is {data1[1]} , feature{i} of data1 is {data2[1]} ')\n",
        "        if data1[i] != data2[i]: \n",
        "          N = N+1\n",
        "          print(f'  {data1[i]} is not equal {data2[i]} : update ({N})')\n",
        "        else:\n",
        "           print(f'  {data1[i]} is equal {data2[i]}')\n",
        "    return N/len(data1)\n",
        "      N = 0 \n",
        "      print(f'data1 is {data1} and data2 is {data2}')\n",
        "      for i in range(len(data1)):\n",
        "           print(f'feature{i} of data1 is {data1[i]}, featuture{i} of data2 is {data2[i]}')\n",
        "           if data1[i] != data2[i]:\n",
        "              N = N+1\n",
        "              print(f' {data[i]} is not equal {data2[i]} : update ({N})')\n",
        "           else:\n",
        "       return N/len(data1)\n",
        "  \n",
        "           "
      ],
      "execution_count": null,
      "outputs": []
    },
    {
      "cell_type": "code",
      "metadata": {
        "id": "iVRVL93K0Hud",
        "colab_type": "code",
        "colab": {}
      },
      "source": [
        "meth1_dist(list(data_pd.iloc[0,:]),list(data_pd.iloc[1,:]))"
      ],
      "execution_count": null,
      "outputs": []
    },
    {
      "cell_type": "markdown",
      "metadata": {
        "id": "coOh1dny3LPg",
        "colab_type": "text"
      },
      "source": [
        "#HW7 calculate distance matrix of data_pd using math1_dist()\n",
        "\n",
        "\n",
        "\n"
      ]
    },
    {
      "cell_type": "code",
      "metadata": {
        "id": "rGnf-8akQv7y",
        "colab_type": "code",
        "colab": {}
      },
      "source": [
        ""
      ],
      "execution_count": null,
      "outputs": []
    },
    {
      "cell_type": "markdown",
      "metadata": {
        "id": "jRgofdH64Tdx",
        "colab_type": "text"
      },
      "source": [
        "#Categorical features distance method#2"
      ]
    },
    {
      "cell_type": "code",
      "metadata": {
        "id": "OKt-3uJXQ6V9",
        "colab_type": "code",
        "colab": {}
      },
      "source": [
        "pd.get_dummies(data_pd)"
      ],
      "execution_count": null,
      "outputs": []
    },
    {
      "cell_type": "code",
      "metadata": {
        "id": "KNp3AmOGQ6ZR",
        "colab_type": "code",
        "colab": {}
      },
      "source": [
        "data_pd_binary = pd.get_dummies(data_pd) # เพิ่มตัวแปรมารับค่าตาราง"
      ],
      "execution_count": null,
      "outputs": []
    },
    {
      "cell_type": "code",
      "metadata": {
        "id": "oakE8yVDRJH4",
        "colab_type": "code",
        "colab": {}
      },
      "source": [
        "#คำนวณ binary \n",
        "def binary_sym_dist(data1,data2): #สร้างฟังก์ชัน\n",
        "    q = 0 #จำนวน ที่เป็น 1 เหมือนกัน\n",
        "    rs = 0 #ค่าไม่เท่ากัน 01\n",
        "    t = 0 #จำนวนที่เป็น 0 เหมือนกัน\n",
        "    for i in range(len(data1)):\n",
        "      if data1[i] == data2[i]: \n",
        "          if data1[i] == 1:\n",
        "            q = q + 1\n",
        "          else:\n",
        "            t = t + 1\n",
        "      if data1[i] != data2[i]:\n",
        "          rs = rs + 1\n",
        "    return (rs)/(q+rs+t)"
      ],
      "execution_count": null,
      "outputs": []
    },
    {
      "cell_type": "code",
      "metadata": {
        "id": "m-UZEFOI0I0v",
        "colab_type": "code",
        "colab": {}
      },
      "source": [
        "binary_sym_dist(list(data_pd_binary.iloc[0,:]),list(data_pd_binary.iloc[1,:]))"
      ],
      "execution_count": null,
      "outputs": []
    },
    {
      "cell_type": "markdown",
      "metadata": {
        "id": "eaTpMc-28I07",
        "colab_type": "text"
      },
      "source": [
        "#HW8 calculate distance matrix of data_pd_binary using binary_sym_dist()"
      ]
    },
    {
      "cell_type": "code",
      "metadata": {
        "id": "s0LzJLq58pAb",
        "colab_type": "code",
        "colab": {}
      },
      "source": [
        ""
      ],
      "execution_count": null,
      "outputs": []
    },
    {
      "cell_type": "code",
      "metadata": {
        "id": "3sWH-LpZ0JB4",
        "colab_type": "code",
        "colab": {}
      },
      "source": [
        ""
      ],
      "execution_count": null,
      "outputs": []
    }
  ]
}