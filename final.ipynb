{
  "nbformat": 4,
  "nbformat_minor": 0,
  "metadata": {
    "colab": {
      "name": "finl.ipynb",
      "provenance": [],
      "include_colab_link": true
    },
    "kernelspec": {
      "name": "python3",
      "display_name": "Python 3"
    },
    "language_info": {
      "name": "python"
    }
  },
  "cells": [
    {
      "cell_type": "markdown",
      "metadata": {
        "id": "view-in-github",
        "colab_type": "text"
      },
      "source": [
        "<a href=\"https://colab.research.google.com/github/waraporn19/KKU_data_mining/blob/master/final.ipynb\" target=\"_parent\"><img src=\"https://colab.research.google.com/assets/colab-badge.svg\" alt=\"Open In Colab\"/></a>"
      ]
    },
    {
      "cell_type": "code",
      "metadata": {
        "id": "gExJ2vW-F57V"
      },
      "source": [
        "import pandas as pd\n",
        "import numpy as np\n",
        "import matplotlib.ticker as ticker\n",
        "import matplotlib.pyplot as plt\n",
        "from datetime import date,datetime"
      ],
      "execution_count": null,
      "outputs": []
    },
    {
      "cell_type": "markdown",
      "metadata": {
        "id": "aGdJsqHMzM5E"
      },
      "source": [
        "## ข้อมูลผู้ป่วยCovid"
      ]
    },
    {
      "cell_type": "code",
      "metadata": {
        "colab": {
          "base_uri": "https://localhost:8080/",
          "height": 404
        },
        "id": "BmoEv9JUILPa",
        "outputId": "d9dcaf30-424c-4fed-94f6-1babbc2c2bf7"
      },
      "source": [
        "covid = pd.read_csv('/content/drive/MyDrive/dataviz_2021_data/covid19cases (2).csv')\n",
        "covid"
      ],
      "execution_count": null,
      "outputs": [
        {
          "output_type": "execute_result",
          "data": {
            "text/html": [
              "<div>\n",
              "<style scoped>\n",
              "    .dataframe tbody tr th:only-of-type {\n",
              "        vertical-align: middle;\n",
              "    }\n",
              "\n",
              "    .dataframe tbody tr th {\n",
              "        vertical-align: top;\n",
              "    }\n",
              "\n",
              "    .dataframe thead th {\n",
              "        text-align: right;\n",
              "    }\n",
              "</style>\n",
              "<table border=\"1\" class=\"dataframe\">\n",
              "  <thead>\n",
              "    <tr style=\"text-align: right;\">\n",
              "      <th></th>\n",
              "      <th>No.</th>\n",
              "      <th>announce_date</th>\n",
              "      <th>Notified date</th>\n",
              "      <th>sex</th>\n",
              "      <th>age</th>\n",
              "      <th>Unit</th>\n",
              "      <th>nationality</th>\n",
              "      <th>province_of_isolation</th>\n",
              "      <th>risk</th>\n",
              "      <th>province_of_onset</th>\n",
              "      <th>district_of_onset</th>\n",
              "    </tr>\n",
              "  </thead>\n",
              "  <tbody>\n",
              "    <tr>\n",
              "      <th>0</th>\n",
              "      <td>1</td>\n",
              "      <td>12/1/2020</td>\n",
              "      <td>NaN</td>\n",
              "      <td>หญิง</td>\n",
              "      <td>61.0</td>\n",
              "      <td>ปี</td>\n",
              "      <td>China</td>\n",
              "      <td>กรุงเทพมหานคร</td>\n",
              "      <td>คนต่างชาติเดินทางมาจากต่างประเทศ</td>\n",
              "      <td>กรุงเทพมหานคร</td>\n",
              "      <td>NaN</td>\n",
              "    </tr>\n",
              "    <tr>\n",
              "      <th>1</th>\n",
              "      <td>2</td>\n",
              "      <td>17/1/2020</td>\n",
              "      <td>NaN</td>\n",
              "      <td>หญิง</td>\n",
              "      <td>74.0</td>\n",
              "      <td>ปี</td>\n",
              "      <td>China</td>\n",
              "      <td>กรุงเทพมหานคร</td>\n",
              "      <td>คนต่างชาติเดินทางมาจากต่างประเทศ</td>\n",
              "      <td>กรุงเทพมหานคร</td>\n",
              "      <td>NaN</td>\n",
              "    </tr>\n",
              "    <tr>\n",
              "      <th>2</th>\n",
              "      <td>3</td>\n",
              "      <td>22/1/2020</td>\n",
              "      <td>NaN</td>\n",
              "      <td>หญิง</td>\n",
              "      <td>73.0</td>\n",
              "      <td>ปี</td>\n",
              "      <td>Thailand</td>\n",
              "      <td>นครปฐม</td>\n",
              "      <td>คนต่างชาติเดินทางมาจากต่างประเทศ</td>\n",
              "      <td>นครปฐม</td>\n",
              "      <td>เมือง</td>\n",
              "    </tr>\n",
              "    <tr>\n",
              "      <th>3</th>\n",
              "      <td>4</td>\n",
              "      <td>22/1/2020</td>\n",
              "      <td>NaN</td>\n",
              "      <td>ชาย</td>\n",
              "      <td>68.0</td>\n",
              "      <td>ปี</td>\n",
              "      <td>China</td>\n",
              "      <td>กรุงเทพมหานคร</td>\n",
              "      <td>คนต่างชาติเดินทางมาจากต่างประเทศ</td>\n",
              "      <td>กรุงเทพมหานคร</td>\n",
              "      <td>NaN</td>\n",
              "    </tr>\n",
              "    <tr>\n",
              "      <th>4</th>\n",
              "      <td>5</td>\n",
              "      <td>24/1/2020</td>\n",
              "      <td>NaN</td>\n",
              "      <td>หญิง</td>\n",
              "      <td>66.0</td>\n",
              "      <td>ปี</td>\n",
              "      <td>China</td>\n",
              "      <td>นนทบุรี</td>\n",
              "      <td>คนต่างชาติเดินทางมาจากต่างประเทศ</td>\n",
              "      <td>กรุงเทพมหานคร</td>\n",
              "      <td>NaN</td>\n",
              "    </tr>\n",
              "    <tr>\n",
              "      <th>...</th>\n",
              "      <td>...</td>\n",
              "      <td>...</td>\n",
              "      <td>...</td>\n",
              "      <td>...</td>\n",
              "      <td>...</td>\n",
              "      <td>...</td>\n",
              "      <td>...</td>\n",
              "      <td>...</td>\n",
              "      <td>...</td>\n",
              "      <td>...</td>\n",
              "      <td>...</td>\n",
              "    </tr>\n",
              "    <tr>\n",
              "      <th>57505</th>\n",
              "      <td>57506</td>\n",
              "      <td>26/4/2021</td>\n",
              "      <td>25/4/2021</td>\n",
              "      <td>ชาย</td>\n",
              "      <td>51.0</td>\n",
              "      <td>ปี</td>\n",
              "      <td>Thailand</td>\n",
              "      <td>กรุงเทพมหานคร</td>\n",
              "      <td>อื่นๆ</td>\n",
              "      <td>NaN</td>\n",
              "      <td>NaN</td>\n",
              "    </tr>\n",
              "    <tr>\n",
              "      <th>57506</th>\n",
              "      <td>57507</td>\n",
              "      <td>26/4/2021</td>\n",
              "      <td>25/4/2021</td>\n",
              "      <td>ชาย</td>\n",
              "      <td>50.0</td>\n",
              "      <td>ปี</td>\n",
              "      <td>Thailand</td>\n",
              "      <td>กรุงเทพมหานคร</td>\n",
              "      <td>อื่นๆ</td>\n",
              "      <td>NaN</td>\n",
              "      <td>NaN</td>\n",
              "    </tr>\n",
              "    <tr>\n",
              "      <th>57507</th>\n",
              "      <td>57508</td>\n",
              "      <td>26/4/2021</td>\n",
              "      <td>25/4/2021</td>\n",
              "      <td>ชาย</td>\n",
              "      <td>24.0</td>\n",
              "      <td>ปี</td>\n",
              "      <td>Thailand</td>\n",
              "      <td>กรุงเทพมหานคร</td>\n",
              "      <td>อื่นๆ</td>\n",
              "      <td>NaN</td>\n",
              "      <td>NaN</td>\n",
              "    </tr>\n",
              "    <tr>\n",
              "      <th>57508</th>\n",
              "      <td>57509</td>\n",
              "      <td>26/4/2021</td>\n",
              "      <td>25/4/2021</td>\n",
              "      <td>ชาย</td>\n",
              "      <td>24.0</td>\n",
              "      <td>ปี</td>\n",
              "      <td>Thailand</td>\n",
              "      <td>กรุงเทพมหานคร</td>\n",
              "      <td>อื่นๆ</td>\n",
              "      <td>NaN</td>\n",
              "      <td>NaN</td>\n",
              "    </tr>\n",
              "    <tr>\n",
              "      <th>57509</th>\n",
              "      <td>57510</td>\n",
              "      <td>26/4/2021</td>\n",
              "      <td>25/4/2021</td>\n",
              "      <td>ชาย</td>\n",
              "      <td>28.0</td>\n",
              "      <td>ปี</td>\n",
              "      <td>Thailand</td>\n",
              "      <td>กรุงเทพมหานคร</td>\n",
              "      <td>อื่นๆ</td>\n",
              "      <td>NaN</td>\n",
              "      <td>NaN</td>\n",
              "    </tr>\n",
              "  </tbody>\n",
              "</table>\n",
              "<p>57510 rows × 11 columns</p>\n",
              "</div>"
            ],
            "text/plain": [
              "         No. announce_date  ... province_of_onset district_of_onset\n",
              "0          1     12/1/2020  ...     กรุงเทพมหานคร               NaN\n",
              "1          2     17/1/2020  ...     กรุงเทพมหานคร               NaN\n",
              "2          3     22/1/2020  ...            นครปฐม             เมือง\n",
              "3          4     22/1/2020  ...     กรุงเทพมหานคร               NaN\n",
              "4          5     24/1/2020  ...     กรุงเทพมหานคร               NaN\n",
              "...      ...           ...  ...               ...               ...\n",
              "57505  57506     26/4/2021  ...               NaN               NaN\n",
              "57506  57507     26/4/2021  ...               NaN               NaN\n",
              "57507  57508     26/4/2021  ...               NaN               NaN\n",
              "57508  57509     26/4/2021  ...               NaN               NaN\n",
              "57509  57510     26/4/2021  ...               NaN               NaN\n",
              "\n",
              "[57510 rows x 11 columns]"
            ]
          },
          "metadata": {
            "tags": []
          },
          "execution_count": 368
        }
      ]
    },
    {
      "cell_type": "code",
      "metadata": {
        "id": "eofZxdX4Ozms"
      },
      "source": [
        "covid['announce_date']  = pd.to_datetime(covid['announce_date'],format='%d/%m/%Y')"
      ],
      "execution_count": null,
      "outputs": []
    },
    {
      "cell_type": "code",
      "metadata": {
        "id": "CbhdXkBCGmy4"
      },
      "source": [
        "covid = covid.set_index(\"announce_date\")\n",
        "covid_Total = covid.resample('M').count()"
      ],
      "execution_count": null,
      "outputs": []
    },
    {
      "cell_type": "code",
      "metadata": {
        "colab": {
          "base_uri": "https://localhost:8080/",
          "height": 554
        },
        "id": "Uy_ujmkjQndM",
        "outputId": "fe7531d5-5d27-495f-a6ce-3ac431d91eb4"
      },
      "source": [
        "covid_All  = covid_Total[covid_Total.columns[covid_Total.columns == 'No.']] #จำนวนผู้ป่วยที่ติดCovid ในแต่ละเดือน\n",
        "covid_All"
      ],
      "execution_count": null,
      "outputs": [
        {
          "output_type": "execute_result",
          "data": {
            "text/html": [
              "<div>\n",
              "<style scoped>\n",
              "    .dataframe tbody tr th:only-of-type {\n",
              "        vertical-align: middle;\n",
              "    }\n",
              "\n",
              "    .dataframe tbody tr th {\n",
              "        vertical-align: top;\n",
              "    }\n",
              "\n",
              "    .dataframe thead th {\n",
              "        text-align: right;\n",
              "    }\n",
              "</style>\n",
              "<table border=\"1\" class=\"dataframe\">\n",
              "  <thead>\n",
              "    <tr style=\"text-align: right;\">\n",
              "      <th></th>\n",
              "      <th>No.</th>\n",
              "    </tr>\n",
              "    <tr>\n",
              "      <th>announce_date</th>\n",
              "      <th></th>\n",
              "    </tr>\n",
              "  </thead>\n",
              "  <tbody>\n",
              "    <tr>\n",
              "      <th>2020-01-31</th>\n",
              "      <td>19</td>\n",
              "    </tr>\n",
              "    <tr>\n",
              "      <th>2020-02-29</th>\n",
              "      <td>23</td>\n",
              "    </tr>\n",
              "    <tr>\n",
              "      <th>2020-03-31</th>\n",
              "      <td>1609</td>\n",
              "    </tr>\n",
              "    <tr>\n",
              "      <th>2020-04-30</th>\n",
              "      <td>1303</td>\n",
              "    </tr>\n",
              "    <tr>\n",
              "      <th>2020-05-31</th>\n",
              "      <td>127</td>\n",
              "    </tr>\n",
              "    <tr>\n",
              "      <th>2020-06-30</th>\n",
              "      <td>90</td>\n",
              "    </tr>\n",
              "    <tr>\n",
              "      <th>2020-07-31</th>\n",
              "      <td>139</td>\n",
              "    </tr>\n",
              "    <tr>\n",
              "      <th>2020-08-31</th>\n",
              "      <td>102</td>\n",
              "    </tr>\n",
              "    <tr>\n",
              "      <th>2020-09-30</th>\n",
              "      <td>152</td>\n",
              "    </tr>\n",
              "    <tr>\n",
              "      <th>2020-10-31</th>\n",
              "      <td>216</td>\n",
              "    </tr>\n",
              "    <tr>\n",
              "      <th>2020-11-30</th>\n",
              "      <td>218</td>\n",
              "    </tr>\n",
              "    <tr>\n",
              "      <th>2020-12-31</th>\n",
              "      <td>2886</td>\n",
              "    </tr>\n",
              "    <tr>\n",
              "      <th>2021-01-31</th>\n",
              "      <td>11898</td>\n",
              "    </tr>\n",
              "    <tr>\n",
              "      <th>2021-02-28</th>\n",
              "      <td>7169</td>\n",
              "    </tr>\n",
              "    <tr>\n",
              "      <th>2021-03-31</th>\n",
              "      <td>2912</td>\n",
              "    </tr>\n",
              "    <tr>\n",
              "      <th>2021-04-30</th>\n",
              "      <td>28647</td>\n",
              "    </tr>\n",
              "  </tbody>\n",
              "</table>\n",
              "</div>"
            ],
            "text/plain": [
              "                 No.\n",
              "announce_date       \n",
              "2020-01-31        19\n",
              "2020-02-29        23\n",
              "2020-03-31      1609\n",
              "2020-04-30      1303\n",
              "2020-05-31       127\n",
              "2020-06-30        90\n",
              "2020-07-31       139\n",
              "2020-08-31       102\n",
              "2020-09-30       152\n",
              "2020-10-31       216\n",
              "2020-11-30       218\n",
              "2020-12-31      2886\n",
              "2021-01-31     11898\n",
              "2021-02-28      7169\n",
              "2021-03-31      2912\n",
              "2021-04-30     28647"
            ]
          },
          "metadata": {
            "tags": []
          },
          "execution_count": 279
        }
      ]
    },
    {
      "cell_type": "code",
      "metadata": {
        "colab": {
          "base_uri": "https://localhost:8080/",
          "height": 554
        },
        "id": "Nd6WIdBXULFi",
        "outputId": "e1924d9f-b7d0-4cf1-be8e-3375f482b837"
      },
      "source": [
        "covid_All=covid_All.rename(columns = {'No.':'Patient totals'})\n",
        "covid_All"
      ],
      "execution_count": null,
      "outputs": [
        {
          "output_type": "execute_result",
          "data": {
            "text/html": [
              "<div>\n",
              "<style scoped>\n",
              "    .dataframe tbody tr th:only-of-type {\n",
              "        vertical-align: middle;\n",
              "    }\n",
              "\n",
              "    .dataframe tbody tr th {\n",
              "        vertical-align: top;\n",
              "    }\n",
              "\n",
              "    .dataframe thead th {\n",
              "        text-align: right;\n",
              "    }\n",
              "</style>\n",
              "<table border=\"1\" class=\"dataframe\">\n",
              "  <thead>\n",
              "    <tr style=\"text-align: right;\">\n",
              "      <th></th>\n",
              "      <th>Patient totals</th>\n",
              "    </tr>\n",
              "    <tr>\n",
              "      <th>announce_date</th>\n",
              "      <th></th>\n",
              "    </tr>\n",
              "  </thead>\n",
              "  <tbody>\n",
              "    <tr>\n",
              "      <th>2020-01-31</th>\n",
              "      <td>19</td>\n",
              "    </tr>\n",
              "    <tr>\n",
              "      <th>2020-02-29</th>\n",
              "      <td>23</td>\n",
              "    </tr>\n",
              "    <tr>\n",
              "      <th>2020-03-31</th>\n",
              "      <td>1609</td>\n",
              "    </tr>\n",
              "    <tr>\n",
              "      <th>2020-04-30</th>\n",
              "      <td>1303</td>\n",
              "    </tr>\n",
              "    <tr>\n",
              "      <th>2020-05-31</th>\n",
              "      <td>127</td>\n",
              "    </tr>\n",
              "    <tr>\n",
              "      <th>2020-06-30</th>\n",
              "      <td>90</td>\n",
              "    </tr>\n",
              "    <tr>\n",
              "      <th>2020-07-31</th>\n",
              "      <td>139</td>\n",
              "    </tr>\n",
              "    <tr>\n",
              "      <th>2020-08-31</th>\n",
              "      <td>102</td>\n",
              "    </tr>\n",
              "    <tr>\n",
              "      <th>2020-09-30</th>\n",
              "      <td>152</td>\n",
              "    </tr>\n",
              "    <tr>\n",
              "      <th>2020-10-31</th>\n",
              "      <td>216</td>\n",
              "    </tr>\n",
              "    <tr>\n",
              "      <th>2020-11-30</th>\n",
              "      <td>218</td>\n",
              "    </tr>\n",
              "    <tr>\n",
              "      <th>2020-12-31</th>\n",
              "      <td>2886</td>\n",
              "    </tr>\n",
              "    <tr>\n",
              "      <th>2021-01-31</th>\n",
              "      <td>11898</td>\n",
              "    </tr>\n",
              "    <tr>\n",
              "      <th>2021-02-28</th>\n",
              "      <td>7169</td>\n",
              "    </tr>\n",
              "    <tr>\n",
              "      <th>2021-03-31</th>\n",
              "      <td>2912</td>\n",
              "    </tr>\n",
              "    <tr>\n",
              "      <th>2021-04-30</th>\n",
              "      <td>28647</td>\n",
              "    </tr>\n",
              "  </tbody>\n",
              "</table>\n",
              "</div>"
            ],
            "text/plain": [
              "               Patient totals\n",
              "announce_date                \n",
              "2020-01-31                 19\n",
              "2020-02-29                 23\n",
              "2020-03-31               1609\n",
              "2020-04-30               1303\n",
              "2020-05-31                127\n",
              "2020-06-30                 90\n",
              "2020-07-31                139\n",
              "2020-08-31                102\n",
              "2020-09-30                152\n",
              "2020-10-31                216\n",
              "2020-11-30                218\n",
              "2020-12-31               2886\n",
              "2021-01-31              11898\n",
              "2021-02-28               7169\n",
              "2021-03-31               2912\n",
              "2021-04-30              28647"
            ]
          },
          "metadata": {
            "tags": []
          },
          "execution_count": 281
        }
      ]
    },
    {
      "cell_type": "markdown",
      "metadata": {
        "id": "mGb4hDIPzWfB"
      },
      "source": [
        "# ข้อมูลประชาชนที่เดินทาง"
      ]
    },
    {
      "cell_type": "code",
      "metadata": {
        "colab": {
          "base_uri": "https://localhost:8080/",
          "height": 379
        },
        "id": "0bmiOGQPGZcT",
        "outputId": "e6bdfa15-9e5e-4998-ea8d-5fbe3e46042e"
      },
      "source": [
        "passenger = pd.read_excel(\"/content/drive/MyDrive/dataviz_2021_data/passenger-covid19.xlsx\",sheet_name=3,skiprows=1,skipfooter=33)\n",
        "passenger"
      ],
      "execution_count": null,
      "outputs": [
        {
          "output_type": "execute_result",
          "data": {
            "text/html": [
              "<div>\n",
              "<style scoped>\n",
              "    .dataframe tbody tr th:only-of-type {\n",
              "        vertical-align: middle;\n",
              "    }\n",
              "\n",
              "    .dataframe tbody tr th {\n",
              "        vertical-align: top;\n",
              "    }\n",
              "\n",
              "    .dataframe thead th {\n",
              "        text-align: right;\n",
              "    }\n",
              "</style>\n",
              "<table border=\"1\" class=\"dataframe\">\n",
              "  <thead>\n",
              "    <tr style=\"text-align: right;\">\n",
              "      <th></th>\n",
              "      <th>Unnamed: 0</th>\n",
              "      <th>2020-01-01 00:00:00</th>\n",
              "      <th>2020-01-02 00:00:00</th>\n",
              "      <th>2020-01-03 00:00:00</th>\n",
              "      <th>2020-01-04 00:00:00</th>\n",
              "      <th>2020-01-05 00:00:00</th>\n",
              "      <th>2020-01-06 00:00:00</th>\n",
              "      <th>2020-01-07 00:00:00</th>\n",
              "      <th>2020-01-08 00:00:00</th>\n",
              "      <th>2020-01-09 00:00:00</th>\n",
              "      <th>2020-01-10 00:00:00</th>\n",
              "      <th>2020-01-11 00:00:00</th>\n",
              "      <th>2020-01-12 00:00:00</th>\n",
              "      <th>2020-01-13 00:00:00</th>\n",
              "      <th>2020-01-14 00:00:00</th>\n",
              "      <th>2020-01-15 00:00:00</th>\n",
              "      <th>2020-01-16 00:00:00</th>\n",
              "      <th>2020-01-17 00:00:00</th>\n",
              "      <th>2020-01-18 00:00:00</th>\n",
              "      <th>2020-01-19 00:00:00</th>\n",
              "      <th>2020-01-20 00:00:00</th>\n",
              "      <th>2020-01-21 00:00:00</th>\n",
              "      <th>2020-01-22 00:00:00</th>\n",
              "      <th>2020-01-23 00:00:00</th>\n",
              "      <th>2020-01-24 00:00:00</th>\n",
              "      <th>2020-01-25 00:00:00</th>\n",
              "      <th>2020-01-26 00:00:00</th>\n",
              "      <th>2020-01-27 00:00:00</th>\n",
              "      <th>2020-01-28 00:00:00</th>\n",
              "      <th>2020-01-29 00:00:00</th>\n",
              "      <th>2020-01-30 00:00:00</th>\n",
              "      <th>2020-01-31 00:00:00</th>\n",
              "      <th>2020-02-01 00:00:00</th>\n",
              "      <th>2020-02-02 00:00:00</th>\n",
              "      <th>2020-02-03 00:00:00</th>\n",
              "      <th>2020-02-04 00:00:00</th>\n",
              "      <th>2020-02-05 00:00:00</th>\n",
              "      <th>2020-02-06 00:00:00</th>\n",
              "      <th>2020-02-07 00:00:00</th>\n",
              "      <th>2020-02-08 00:00:00</th>\n",
              "      <th>...</th>\n",
              "      <th>2021-03-18 00:00:00</th>\n",
              "      <th>2021-03-19 00:00:00</th>\n",
              "      <th>2021-03-20 00:00:00</th>\n",
              "      <th>2021-03-21 00:00:00</th>\n",
              "      <th>2021-03-22 00:00:00</th>\n",
              "      <th>2021-03-23 00:00:00</th>\n",
              "      <th>2021-03-24 00:00:00</th>\n",
              "      <th>2021-03-25 00:00:00</th>\n",
              "      <th>2021-03-26 00:00:00</th>\n",
              "      <th>2021-03-27 00:00:00</th>\n",
              "      <th>2021-03-28 00:00:00</th>\n",
              "      <th>2021-03-29 00:00:00</th>\n",
              "      <th>2021-03-30 00:00:00</th>\n",
              "      <th>2021-03-31 00:00:00</th>\n",
              "      <th>2021-04-01 00:00:00</th>\n",
              "      <th>2021-04-02 00:00:00</th>\n",
              "      <th>2021-04-03 00:00:00</th>\n",
              "      <th>2021-04-04 00:00:00</th>\n",
              "      <th>2021-04-05 00:00:00</th>\n",
              "      <th>2021-04-06 00:00:00</th>\n",
              "      <th>2021-04-07 00:00:00</th>\n",
              "      <th>2021-04-08 00:00:00</th>\n",
              "      <th>2021-04-09 00:00:00</th>\n",
              "      <th>2021-04-10 00:00:00</th>\n",
              "      <th>2021-04-11 00:00:00</th>\n",
              "      <th>2021-04-12 00:00:00</th>\n",
              "      <th>2021-04-13 00:00:00</th>\n",
              "      <th>2021-04-14 00:00:00</th>\n",
              "      <th>2021-04-15 00:00:00</th>\n",
              "      <th>2021-04-16 00:00:00</th>\n",
              "      <th>2021-04-17 00:00:00</th>\n",
              "      <th>2021-04-18 00:00:00</th>\n",
              "      <th>2021-04-19 00:00:00</th>\n",
              "      <th>2021-04-20 00:00:00</th>\n",
              "      <th>2021-04-21 00:00:00</th>\n",
              "      <th>2021-04-22 00:00:00</th>\n",
              "      <th>2021-04-23 00:00:00</th>\n",
              "      <th>2021-04-24 00:00:00</th>\n",
              "      <th>2021-04-25 00:00:00</th>\n",
              "      <th>2021-04-26 00:00:00</th>\n",
              "    </tr>\n",
              "  </thead>\n",
              "  <tbody>\n",
              "    <tr>\n",
              "      <th>0</th>\n",
              "      <td>ทางถนน (คน)</td>\n",
              "      <td>1483255</td>\n",
              "      <td>1705026</td>\n",
              "      <td>1752572</td>\n",
              "      <td>1576146</td>\n",
              "      <td>1565134</td>\n",
              "      <td>1746239</td>\n",
              "      <td>1730243</td>\n",
              "      <td>1721777</td>\n",
              "      <td>1698594</td>\n",
              "      <td>1727356</td>\n",
              "      <td>1522765</td>\n",
              "      <td>1511236</td>\n",
              "      <td>1683606</td>\n",
              "      <td>1691301</td>\n",
              "      <td>1727613</td>\n",
              "      <td>1676901</td>\n",
              "      <td>1732040</td>\n",
              "      <td>1556750</td>\n",
              "      <td>1511356</td>\n",
              "      <td>1718946</td>\n",
              "      <td>1710079</td>\n",
              "      <td>1678182</td>\n",
              "      <td>1685422</td>\n",
              "      <td>1658692</td>\n",
              "      <td>1523835</td>\n",
              "      <td>1498975</td>\n",
              "      <td>1696898</td>\n",
              "      <td>1679988</td>\n",
              "      <td>1668462</td>\n",
              "      <td>1640721</td>\n",
              "      <td>1704546</td>\n",
              "      <td>1400174</td>\n",
              "      <td>1483074</td>\n",
              "      <td>1706497</td>\n",
              "      <td>1731697</td>\n",
              "      <td>1727513</td>\n",
              "      <td>1662866</td>\n",
              "      <td>1746742</td>\n",
              "      <td>1505635</td>\n",
              "      <td>...</td>\n",
              "      <td>997062</td>\n",
              "      <td>1017447</td>\n",
              "      <td>849673</td>\n",
              "      <td>787616</td>\n",
              "      <td>937505</td>\n",
              "      <td>969454</td>\n",
              "      <td>958065</td>\n",
              "      <td>981683</td>\n",
              "      <td>1011976</td>\n",
              "      <td>877911</td>\n",
              "      <td>794001</td>\n",
              "      <td>974571</td>\n",
              "      <td>965117</td>\n",
              "      <td>967022</td>\n",
              "      <td>987469</td>\n",
              "      <td>1006485</td>\n",
              "      <td>868194</td>\n",
              "      <td>789312</td>\n",
              "      <td>965421</td>\n",
              "      <td>753176</td>\n",
              "      <td>908431</td>\n",
              "      <td>936938</td>\n",
              "      <td>929038</td>\n",
              "      <td>719618</td>\n",
              "      <td>555680</td>\n",
              "      <td>578184</td>\n",
              "      <td>424539</td>\n",
              "      <td>454352</td>\n",
              "      <td>479063</td>\n",
              "      <td>596596</td>\n",
              "      <td>540688</td>\n",
              "      <td>507339</td>\n",
              "      <td>695769</td>\n",
              "      <td>665925</td>\n",
              "      <td>648848</td>\n",
              "      <td>631892</td>\n",
              "      <td>635830</td>\n",
              "      <td>516751</td>\n",
              "      <td>425707</td>\n",
              "      <td>580580</td>\n",
              "    </tr>\n",
              "    <tr>\n",
              "      <th>1</th>\n",
              "      <td>ทางราง (คน)</td>\n",
              "      <td>885353</td>\n",
              "      <td>1269207</td>\n",
              "      <td>1366412</td>\n",
              "      <td>1027281</td>\n",
              "      <td>915425</td>\n",
              "      <td>1479971</td>\n",
              "      <td>1496915</td>\n",
              "      <td>1496873</td>\n",
              "      <td>1525899</td>\n",
              "      <td>1630428</td>\n",
              "      <td>1192917</td>\n",
              "      <td>988051</td>\n",
              "      <td>1479502</td>\n",
              "      <td>1491002</td>\n",
              "      <td>1502596</td>\n",
              "      <td>1507477</td>\n",
              "      <td>1599647</td>\n",
              "      <td>1169227</td>\n",
              "      <td>983700</td>\n",
              "      <td>1495196</td>\n",
              "      <td>1497279</td>\n",
              "      <td>1488097</td>\n",
              "      <td>1497174</td>\n",
              "      <td>1527329</td>\n",
              "      <td>1116084</td>\n",
              "      <td>938763</td>\n",
              "      <td>1420125</td>\n",
              "      <td>1457240</td>\n",
              "      <td>1440515</td>\n",
              "      <td>1464619</td>\n",
              "      <td>1597290</td>\n",
              "      <td>1097787</td>\n",
              "      <td>940562</td>\n",
              "      <td>1452349</td>\n",
              "      <td>1437693</td>\n",
              "      <td>1463069</td>\n",
              "      <td>1465400</td>\n",
              "      <td>1589959</td>\n",
              "      <td>1036116</td>\n",
              "      <td>...</td>\n",
              "      <td>984873</td>\n",
              "      <td>1033094</td>\n",
              "      <td>690769</td>\n",
              "      <td>544737</td>\n",
              "      <td>961659</td>\n",
              "      <td>986118</td>\n",
              "      <td>994193</td>\n",
              "      <td>1007277</td>\n",
              "      <td>1083825</td>\n",
              "      <td>730040</td>\n",
              "      <td>583999</td>\n",
              "      <td>1002307</td>\n",
              "      <td>1008957</td>\n",
              "      <td>1039196</td>\n",
              "      <td>1037660</td>\n",
              "      <td>1109747</td>\n",
              "      <td>726174</td>\n",
              "      <td>537800</td>\n",
              "      <td>986006</td>\n",
              "      <td>586488</td>\n",
              "      <td>932517</td>\n",
              "      <td>830224</td>\n",
              "      <td>792450</td>\n",
              "      <td>430863</td>\n",
              "      <td>303809</td>\n",
              "      <td>396526</td>\n",
              "      <td>235614</td>\n",
              "      <td>227986</td>\n",
              "      <td>245450</td>\n",
              "      <td>421863</td>\n",
              "      <td>303925</td>\n",
              "      <td>260010</td>\n",
              "      <td>520387</td>\n",
              "      <td>488979</td>\n",
              "      <td>475030</td>\n",
              "      <td>467490</td>\n",
              "      <td>474554</td>\n",
              "      <td>289943</td>\n",
              "      <td>223384</td>\n",
              "      <td>418835</td>\n",
              "    </tr>\n",
              "    <tr>\n",
              "      <th>2</th>\n",
              "      <td>ทางน้ำ (คน)</td>\n",
              "      <td>272578</td>\n",
              "      <td>291990</td>\n",
              "      <td>301260</td>\n",
              "      <td>271171</td>\n",
              "      <td>254176</td>\n",
              "      <td>281785</td>\n",
              "      <td>275127</td>\n",
              "      <td>253550</td>\n",
              "      <td>263139</td>\n",
              "      <td>280283</td>\n",
              "      <td>243767</td>\n",
              "      <td>246025</td>\n",
              "      <td>276490</td>\n",
              "      <td>276916</td>\n",
              "      <td>253897</td>\n",
              "      <td>252473</td>\n",
              "      <td>281743</td>\n",
              "      <td>251052</td>\n",
              "      <td>227983</td>\n",
              "      <td>293441</td>\n",
              "      <td>278167</td>\n",
              "      <td>267105</td>\n",
              "      <td>266393</td>\n",
              "      <td>281291</td>\n",
              "      <td>257999</td>\n",
              "      <td>246371</td>\n",
              "      <td>269399</td>\n",
              "      <td>270801</td>\n",
              "      <td>253640</td>\n",
              "      <td>257520</td>\n",
              "      <td>264406</td>\n",
              "      <td>220866</td>\n",
              "      <td>231707</td>\n",
              "      <td>264747</td>\n",
              "      <td>259426</td>\n",
              "      <td>262889</td>\n",
              "      <td>257261</td>\n",
              "      <td>268799</td>\n",
              "      <td>234187</td>\n",
              "      <td>...</td>\n",
              "      <td>85762</td>\n",
              "      <td>126155</td>\n",
              "      <td>81959</td>\n",
              "      <td>86020</td>\n",
              "      <td>90290</td>\n",
              "      <td>109277</td>\n",
              "      <td>78491</td>\n",
              "      <td>88408</td>\n",
              "      <td>88934</td>\n",
              "      <td>85300</td>\n",
              "      <td>79325</td>\n",
              "      <td>107145</td>\n",
              "      <td>95217</td>\n",
              "      <td>91676</td>\n",
              "      <td>84888</td>\n",
              "      <td>81193</td>\n",
              "      <td>115793</td>\n",
              "      <td>106230</td>\n",
              "      <td>100081</td>\n",
              "      <td>83620</td>\n",
              "      <td>116425</td>\n",
              "      <td>105530</td>\n",
              "      <td>118869</td>\n",
              "      <td>163296</td>\n",
              "      <td>169357</td>\n",
              "      <td>167760</td>\n",
              "      <td>182536</td>\n",
              "      <td>166326</td>\n",
              "      <td>150923</td>\n",
              "      <td>108396</td>\n",
              "      <td>103610</td>\n",
              "      <td>73357</td>\n",
              "      <td>77813</td>\n",
              "      <td>69035</td>\n",
              "      <td>66006</td>\n",
              "      <td>60186</td>\n",
              "      <td>54870</td>\n",
              "      <td>48885</td>\n",
              "      <td>42733</td>\n",
              "      <td>53591</td>\n",
              "    </tr>\n",
              "    <tr>\n",
              "      <th>3</th>\n",
              "      <td>ทางอากาศ* (คน)</td>\n",
              "      <td>102678</td>\n",
              "      <td>104613</td>\n",
              "      <td>100575</td>\n",
              "      <td>100852</td>\n",
              "      <td>100784</td>\n",
              "      <td>98456</td>\n",
              "      <td>98722</td>\n",
              "      <td>96142</td>\n",
              "      <td>98749</td>\n",
              "      <td>101348</td>\n",
              "      <td>93156</td>\n",
              "      <td>99755</td>\n",
              "      <td>99229</td>\n",
              "      <td>98052</td>\n",
              "      <td>98970</td>\n",
              "      <td>103727</td>\n",
              "      <td>106000</td>\n",
              "      <td>103356</td>\n",
              "      <td>105954</td>\n",
              "      <td>105424</td>\n",
              "      <td>100735</td>\n",
              "      <td>101432</td>\n",
              "      <td>104623</td>\n",
              "      <td>103697</td>\n",
              "      <td>101563</td>\n",
              "      <td>103158</td>\n",
              "      <td>103498</td>\n",
              "      <td>98451</td>\n",
              "      <td>95555</td>\n",
              "      <td>95849</td>\n",
              "      <td>97556</td>\n",
              "      <td>90402</td>\n",
              "      <td>89533</td>\n",
              "      <td>88154</td>\n",
              "      <td>85779</td>\n",
              "      <td>88266</td>\n",
              "      <td>93860</td>\n",
              "      <td>99445</td>\n",
              "      <td>94944</td>\n",
              "      <td>...</td>\n",
              "      <td>51244</td>\n",
              "      <td>65243</td>\n",
              "      <td>57665</td>\n",
              "      <td>64944</td>\n",
              "      <td>59144</td>\n",
              "      <td>51341</td>\n",
              "      <td>53670</td>\n",
              "      <td>59380</td>\n",
              "      <td>67960</td>\n",
              "      <td>63406</td>\n",
              "      <td>72844</td>\n",
              "      <td>66721</td>\n",
              "      <td>56866</td>\n",
              "      <td>57980</td>\n",
              "      <td>70353</td>\n",
              "      <td>77529</td>\n",
              "      <td>76062</td>\n",
              "      <td>80447</td>\n",
              "      <td>73958</td>\n",
              "      <td>77376</td>\n",
              "      <td>74769</td>\n",
              "      <td>79717</td>\n",
              "      <td>75900</td>\n",
              "      <td>69100</td>\n",
              "      <td>59960</td>\n",
              "      <td>51998</td>\n",
              "      <td>47717</td>\n",
              "      <td>48945</td>\n",
              "      <td>49859</td>\n",
              "      <td>44204</td>\n",
              "      <td>43157</td>\n",
              "      <td>45917</td>\n",
              "      <td>29483</td>\n",
              "      <td>25390</td>\n",
              "      <td>18141</td>\n",
              "      <td>16139</td>\n",
              "      <td>15365</td>\n",
              "      <td>13702</td>\n",
              "      <td>16622</td>\n",
              "      <td>13585</td>\n",
              "    </tr>\n",
              "    <tr>\n",
              "      <th>4</th>\n",
              "      <td>รวมประชาชนเดินทาง (คน)</td>\n",
              "      <td>2743864</td>\n",
              "      <td>3370836</td>\n",
              "      <td>3520819</td>\n",
              "      <td>2975450</td>\n",
              "      <td>2835519</td>\n",
              "      <td>3606451</td>\n",
              "      <td>3601007</td>\n",
              "      <td>3568342</td>\n",
              "      <td>3586381</td>\n",
              "      <td>3739415</td>\n",
              "      <td>3052605</td>\n",
              "      <td>2845067</td>\n",
              "      <td>3538827</td>\n",
              "      <td>3557271</td>\n",
              "      <td>3583076</td>\n",
              "      <td>3540578</td>\n",
              "      <td>3719430</td>\n",
              "      <td>3080385</td>\n",
              "      <td>2828993</td>\n",
              "      <td>3613007</td>\n",
              "      <td>3586260</td>\n",
              "      <td>3534816</td>\n",
              "      <td>3553612</td>\n",
              "      <td>3571009</td>\n",
              "      <td>2999481</td>\n",
              "      <td>2787267</td>\n",
              "      <td>3489920</td>\n",
              "      <td>3506480</td>\n",
              "      <td>3458172</td>\n",
              "      <td>3458709</td>\n",
              "      <td>3663798</td>\n",
              "      <td>2809229</td>\n",
              "      <td>2744876</td>\n",
              "      <td>3511747</td>\n",
              "      <td>3514595</td>\n",
              "      <td>3541737</td>\n",
              "      <td>3479387</td>\n",
              "      <td>3704945</td>\n",
              "      <td>2870882</td>\n",
              "      <td>...</td>\n",
              "      <td>2118941</td>\n",
              "      <td>2241939</td>\n",
              "      <td>1680066</td>\n",
              "      <td>1483317</td>\n",
              "      <td>2048598</td>\n",
              "      <td>2116190</td>\n",
              "      <td>2084419</td>\n",
              "      <td>2136748</td>\n",
              "      <td>2252695</td>\n",
              "      <td>1756657</td>\n",
              "      <td>1530169</td>\n",
              "      <td>2150744</td>\n",
              "      <td>2126157</td>\n",
              "      <td>2155874</td>\n",
              "      <td>2180370</td>\n",
              "      <td>2274954</td>\n",
              "      <td>1786223</td>\n",
              "      <td>1513789</td>\n",
              "      <td>2125466</td>\n",
              "      <td>1500660</td>\n",
              "      <td>2032142</td>\n",
              "      <td>1952409</td>\n",
              "      <td>1916257</td>\n",
              "      <td>1382877</td>\n",
              "      <td>1088806</td>\n",
              "      <td>1194468</td>\n",
              "      <td>890406</td>\n",
              "      <td>897609</td>\n",
              "      <td>925295</td>\n",
              "      <td>1171059</td>\n",
              "      <td>991380</td>\n",
              "      <td>886623</td>\n",
              "      <td>1323452</td>\n",
              "      <td>1249329</td>\n",
              "      <td>1208025</td>\n",
              "      <td>1175707</td>\n",
              "      <td>1180619</td>\n",
              "      <td>869281</td>\n",
              "      <td>708446</td>\n",
              "      <td>1066591</td>\n",
              "    </tr>\n",
              "  </tbody>\n",
              "</table>\n",
              "<p>5 rows × 483 columns</p>\n",
              "</div>"
            ],
            "text/plain": [
              "               Unnamed: 0  ...  2021-04-26 00:00:00\n",
              "0             ทางถนน (คน)  ...               580580\n",
              "1             ทางราง (คน)  ...               418835\n",
              "2             ทางน้ำ (คน)  ...                53591\n",
              "3          ทางอากาศ* (คน)  ...                13585\n",
              "4  รวมประชาชนเดินทาง (คน)  ...              1066591\n",
              "\n",
              "[5 rows x 483 columns]"
            ]
          },
          "metadata": {
            "tags": []
          },
          "execution_count": 41
        }
      ]
    },
    {
      "cell_type": "code",
      "metadata": {
        "colab": {
          "base_uri": "https://localhost:8080/"
        },
        "id": "u-qkF_v5H_OG",
        "outputId": "884a95bf-7461-48c7-e5b3-6a2be221071a"
      },
      "source": [
        "passenger.columns"
      ],
      "execution_count": null,
      "outputs": [
        {
          "output_type": "execute_result",
          "data": {
            "text/plain": [
              "Index([       'Unnamed: 0', 2020-01-01 00:00:00, 2020-01-02 00:00:00,\n",
              "       2020-01-03 00:00:00, 2020-01-04 00:00:00, 2020-01-05 00:00:00,\n",
              "       2020-01-06 00:00:00, 2020-01-07 00:00:00, 2020-01-08 00:00:00,\n",
              "       2020-01-09 00:00:00,\n",
              "       ...\n",
              "       2021-04-17 00:00:00, 2021-04-18 00:00:00, 2021-04-19 00:00:00,\n",
              "       2021-04-20 00:00:00, 2021-04-21 00:00:00, 2021-04-22 00:00:00,\n",
              "       2021-04-23 00:00:00, 2021-04-24 00:00:00, 2021-04-25 00:00:00,\n",
              "       2021-04-26 00:00:00],\n",
              "      dtype='object', length=483)"
            ]
          },
          "metadata": {
            "tags": []
          },
          "execution_count": 42
        }
      ]
    },
    {
      "cell_type": "code",
      "metadata": {
        "colab": {
          "base_uri": "https://localhost:8080/",
          "height": 210
        },
        "id": "TD0e49PzK_Vm",
        "outputId": "d88370bd-d37e-4b91-a841-7055077302fd"
      },
      "source": [
        "passenger_total = passenger.filter(regex='4',axis=0)\n",
        "passenger_total"
      ],
      "execution_count": null,
      "outputs": [
        {
          "output_type": "execute_result",
          "data": {
            "text/html": [
              "<div>\n",
              "<style scoped>\n",
              "    .dataframe tbody tr th:only-of-type {\n",
              "        vertical-align: middle;\n",
              "    }\n",
              "\n",
              "    .dataframe tbody tr th {\n",
              "        vertical-align: top;\n",
              "    }\n",
              "\n",
              "    .dataframe thead th {\n",
              "        text-align: right;\n",
              "    }\n",
              "</style>\n",
              "<table border=\"1\" class=\"dataframe\">\n",
              "  <thead>\n",
              "    <tr style=\"text-align: right;\">\n",
              "      <th></th>\n",
              "      <th>Unnamed: 0</th>\n",
              "      <th>2020-01-01 00:00:00</th>\n",
              "      <th>2020-01-02 00:00:00</th>\n",
              "      <th>2020-01-03 00:00:00</th>\n",
              "      <th>2020-01-04 00:00:00</th>\n",
              "      <th>2020-01-05 00:00:00</th>\n",
              "      <th>2020-01-06 00:00:00</th>\n",
              "      <th>2020-01-07 00:00:00</th>\n",
              "      <th>2020-01-08 00:00:00</th>\n",
              "      <th>2020-01-09 00:00:00</th>\n",
              "      <th>2020-01-10 00:00:00</th>\n",
              "      <th>2020-01-11 00:00:00</th>\n",
              "      <th>2020-01-12 00:00:00</th>\n",
              "      <th>2020-01-13 00:00:00</th>\n",
              "      <th>2020-01-14 00:00:00</th>\n",
              "      <th>2020-01-15 00:00:00</th>\n",
              "      <th>2020-01-16 00:00:00</th>\n",
              "      <th>2020-01-17 00:00:00</th>\n",
              "      <th>2020-01-18 00:00:00</th>\n",
              "      <th>2020-01-19 00:00:00</th>\n",
              "      <th>2020-01-20 00:00:00</th>\n",
              "      <th>2020-01-21 00:00:00</th>\n",
              "      <th>2020-01-22 00:00:00</th>\n",
              "      <th>2020-01-23 00:00:00</th>\n",
              "      <th>2020-01-24 00:00:00</th>\n",
              "      <th>2020-01-25 00:00:00</th>\n",
              "      <th>2020-01-26 00:00:00</th>\n",
              "      <th>2020-01-27 00:00:00</th>\n",
              "      <th>2020-01-28 00:00:00</th>\n",
              "      <th>2020-01-29 00:00:00</th>\n",
              "      <th>2020-01-30 00:00:00</th>\n",
              "      <th>2020-01-31 00:00:00</th>\n",
              "      <th>2020-02-01 00:00:00</th>\n",
              "      <th>2020-02-02 00:00:00</th>\n",
              "      <th>2020-02-03 00:00:00</th>\n",
              "      <th>2020-02-04 00:00:00</th>\n",
              "      <th>2020-02-05 00:00:00</th>\n",
              "      <th>2020-02-06 00:00:00</th>\n",
              "      <th>2020-02-07 00:00:00</th>\n",
              "      <th>2020-02-08 00:00:00</th>\n",
              "      <th>...</th>\n",
              "      <th>2021-03-18 00:00:00</th>\n",
              "      <th>2021-03-19 00:00:00</th>\n",
              "      <th>2021-03-20 00:00:00</th>\n",
              "      <th>2021-03-21 00:00:00</th>\n",
              "      <th>2021-03-22 00:00:00</th>\n",
              "      <th>2021-03-23 00:00:00</th>\n",
              "      <th>2021-03-24 00:00:00</th>\n",
              "      <th>2021-03-25 00:00:00</th>\n",
              "      <th>2021-03-26 00:00:00</th>\n",
              "      <th>2021-03-27 00:00:00</th>\n",
              "      <th>2021-03-28 00:00:00</th>\n",
              "      <th>2021-03-29 00:00:00</th>\n",
              "      <th>2021-03-30 00:00:00</th>\n",
              "      <th>2021-03-31 00:00:00</th>\n",
              "      <th>2021-04-01 00:00:00</th>\n",
              "      <th>2021-04-02 00:00:00</th>\n",
              "      <th>2021-04-03 00:00:00</th>\n",
              "      <th>2021-04-04 00:00:00</th>\n",
              "      <th>2021-04-05 00:00:00</th>\n",
              "      <th>2021-04-06 00:00:00</th>\n",
              "      <th>2021-04-07 00:00:00</th>\n",
              "      <th>2021-04-08 00:00:00</th>\n",
              "      <th>2021-04-09 00:00:00</th>\n",
              "      <th>2021-04-10 00:00:00</th>\n",
              "      <th>2021-04-11 00:00:00</th>\n",
              "      <th>2021-04-12 00:00:00</th>\n",
              "      <th>2021-04-13 00:00:00</th>\n",
              "      <th>2021-04-14 00:00:00</th>\n",
              "      <th>2021-04-15 00:00:00</th>\n",
              "      <th>2021-04-16 00:00:00</th>\n",
              "      <th>2021-04-17 00:00:00</th>\n",
              "      <th>2021-04-18 00:00:00</th>\n",
              "      <th>2021-04-19 00:00:00</th>\n",
              "      <th>2021-04-20 00:00:00</th>\n",
              "      <th>2021-04-21 00:00:00</th>\n",
              "      <th>2021-04-22 00:00:00</th>\n",
              "      <th>2021-04-23 00:00:00</th>\n",
              "      <th>2021-04-24 00:00:00</th>\n",
              "      <th>2021-04-25 00:00:00</th>\n",
              "      <th>2021-04-26 00:00:00</th>\n",
              "    </tr>\n",
              "  </thead>\n",
              "  <tbody>\n",
              "    <tr>\n",
              "      <th>4</th>\n",
              "      <td>รวมประชาชนเดินทาง (คน)</td>\n",
              "      <td>2743864</td>\n",
              "      <td>3370836</td>\n",
              "      <td>3520819</td>\n",
              "      <td>2975450</td>\n",
              "      <td>2835519</td>\n",
              "      <td>3606451</td>\n",
              "      <td>3601007</td>\n",
              "      <td>3568342</td>\n",
              "      <td>3586381</td>\n",
              "      <td>3739415</td>\n",
              "      <td>3052605</td>\n",
              "      <td>2845067</td>\n",
              "      <td>3538827</td>\n",
              "      <td>3557271</td>\n",
              "      <td>3583076</td>\n",
              "      <td>3540578</td>\n",
              "      <td>3719430</td>\n",
              "      <td>3080385</td>\n",
              "      <td>2828993</td>\n",
              "      <td>3613007</td>\n",
              "      <td>3586260</td>\n",
              "      <td>3534816</td>\n",
              "      <td>3553612</td>\n",
              "      <td>3571009</td>\n",
              "      <td>2999481</td>\n",
              "      <td>2787267</td>\n",
              "      <td>3489920</td>\n",
              "      <td>3506480</td>\n",
              "      <td>3458172</td>\n",
              "      <td>3458709</td>\n",
              "      <td>3663798</td>\n",
              "      <td>2809229</td>\n",
              "      <td>2744876</td>\n",
              "      <td>3511747</td>\n",
              "      <td>3514595</td>\n",
              "      <td>3541737</td>\n",
              "      <td>3479387</td>\n",
              "      <td>3704945</td>\n",
              "      <td>2870882</td>\n",
              "      <td>...</td>\n",
              "      <td>2118941</td>\n",
              "      <td>2241939</td>\n",
              "      <td>1680066</td>\n",
              "      <td>1483317</td>\n",
              "      <td>2048598</td>\n",
              "      <td>2116190</td>\n",
              "      <td>2084419</td>\n",
              "      <td>2136748</td>\n",
              "      <td>2252695</td>\n",
              "      <td>1756657</td>\n",
              "      <td>1530169</td>\n",
              "      <td>2150744</td>\n",
              "      <td>2126157</td>\n",
              "      <td>2155874</td>\n",
              "      <td>2180370</td>\n",
              "      <td>2274954</td>\n",
              "      <td>1786223</td>\n",
              "      <td>1513789</td>\n",
              "      <td>2125466</td>\n",
              "      <td>1500660</td>\n",
              "      <td>2032142</td>\n",
              "      <td>1952409</td>\n",
              "      <td>1916257</td>\n",
              "      <td>1382877</td>\n",
              "      <td>1088806</td>\n",
              "      <td>1194468</td>\n",
              "      <td>890406</td>\n",
              "      <td>897609</td>\n",
              "      <td>925295</td>\n",
              "      <td>1171059</td>\n",
              "      <td>991380</td>\n",
              "      <td>886623</td>\n",
              "      <td>1323452</td>\n",
              "      <td>1249329</td>\n",
              "      <td>1208025</td>\n",
              "      <td>1175707</td>\n",
              "      <td>1180619</td>\n",
              "      <td>869281</td>\n",
              "      <td>708446</td>\n",
              "      <td>1066591</td>\n",
              "    </tr>\n",
              "  </tbody>\n",
              "</table>\n",
              "<p>1 rows × 483 columns</p>\n",
              "</div>"
            ],
            "text/plain": [
              "               Unnamed: 0  ...  2021-04-26 00:00:00\n",
              "4  รวมประชาชนเดินทาง (คน)  ...              1066591\n",
              "\n",
              "[1 rows x 483 columns]"
            ]
          },
          "metadata": {
            "tags": []
          },
          "execution_count": 43
        }
      ]
    },
    {
      "cell_type": "code",
      "metadata": {
        "colab": {
          "base_uri": "https://localhost:8080/"
        },
        "id": "bP5Rx1_pMytl",
        "outputId": "2e4f0c99-6fe0-4a53-bf2e-94683953341a"
      },
      "source": [
        "passenger_total.columns = [i.strftime('%Y-%m-%d') if isinstance(i, datetime) else i for i in passenger_total.columns]\n",
        "passenger_total.columns"
      ],
      "execution_count": null,
      "outputs": [
        {
          "output_type": "execute_result",
          "data": {
            "text/plain": [
              "Index(['Unnamed: 0', '2020-01-01', '2020-01-02', '2020-01-03', '2020-01-04',\n",
              "       '2020-01-05', '2020-01-06', '2020-01-07', '2020-01-08', '2020-01-09',\n",
              "       ...\n",
              "       '2021-04-17', '2021-04-18', '2021-04-19', '2021-04-20', '2021-04-21',\n",
              "       '2021-04-22', '2021-04-23', '2021-04-24', '2021-04-25', '2021-04-26'],\n",
              "      dtype='object', length=483)"
            ]
          },
          "metadata": {
            "tags": []
          },
          "execution_count": 45
        }
      ]
    },
    {
      "cell_type": "code",
      "metadata": {
        "colab": {
          "base_uri": "https://localhost:8080/",
          "height": 404
        },
        "id": "_XaZ_yy3SAKQ",
        "outputId": "f4e314c6-de27-4c2b-b648-a571271af166"
      },
      "source": [
        "passenger_total_a = passenger_total.T\n",
        "passenger_total_a"
      ],
      "execution_count": null,
      "outputs": [
        {
          "output_type": "execute_result",
          "data": {
            "text/html": [
              "<div>\n",
              "<style scoped>\n",
              "    .dataframe tbody tr th:only-of-type {\n",
              "        vertical-align: middle;\n",
              "    }\n",
              "\n",
              "    .dataframe tbody tr th {\n",
              "        vertical-align: top;\n",
              "    }\n",
              "\n",
              "    .dataframe thead th {\n",
              "        text-align: right;\n",
              "    }\n",
              "</style>\n",
              "<table border=\"1\" class=\"dataframe\">\n",
              "  <thead>\n",
              "    <tr style=\"text-align: right;\">\n",
              "      <th></th>\n",
              "      <th>4</th>\n",
              "    </tr>\n",
              "  </thead>\n",
              "  <tbody>\n",
              "    <tr>\n",
              "      <th>Unnamed: 0</th>\n",
              "      <td>รวมประชาชนเดินทาง (คน)</td>\n",
              "    </tr>\n",
              "    <tr>\n",
              "      <th>2020-01-01</th>\n",
              "      <td>2743864</td>\n",
              "    </tr>\n",
              "    <tr>\n",
              "      <th>2020-01-02</th>\n",
              "      <td>3370836</td>\n",
              "    </tr>\n",
              "    <tr>\n",
              "      <th>2020-01-03</th>\n",
              "      <td>3520819</td>\n",
              "    </tr>\n",
              "    <tr>\n",
              "      <th>2020-01-04</th>\n",
              "      <td>2975450</td>\n",
              "    </tr>\n",
              "    <tr>\n",
              "      <th>...</th>\n",
              "      <td>...</td>\n",
              "    </tr>\n",
              "    <tr>\n",
              "      <th>2021-04-22</th>\n",
              "      <td>1175707</td>\n",
              "    </tr>\n",
              "    <tr>\n",
              "      <th>2021-04-23</th>\n",
              "      <td>1180619</td>\n",
              "    </tr>\n",
              "    <tr>\n",
              "      <th>2021-04-24</th>\n",
              "      <td>869281</td>\n",
              "    </tr>\n",
              "    <tr>\n",
              "      <th>2021-04-25</th>\n",
              "      <td>708446</td>\n",
              "    </tr>\n",
              "    <tr>\n",
              "      <th>2021-04-26</th>\n",
              "      <td>1066591</td>\n",
              "    </tr>\n",
              "  </tbody>\n",
              "</table>\n",
              "<p>483 rows × 1 columns</p>\n",
              "</div>"
            ],
            "text/plain": [
              "                                 4\n",
              "Unnamed: 0  รวมประชาชนเดินทาง (คน)\n",
              "2020-01-01                 2743864\n",
              "2020-01-02                 3370836\n",
              "2020-01-03                 3520819\n",
              "2020-01-04                 2975450\n",
              "...                            ...\n",
              "2021-04-22                 1175707\n",
              "2021-04-23                 1180619\n",
              "2021-04-24                  869281\n",
              "2021-04-25                  708446\n",
              "2021-04-26                 1066591\n",
              "\n",
              "[483 rows x 1 columns]"
            ]
          },
          "metadata": {
            "tags": []
          },
          "execution_count": 46
        }
      ]
    },
    {
      "cell_type": "code",
      "metadata": {
        "colab": {
          "base_uri": "https://localhost:8080/",
          "height": 404
        },
        "id": "qnUyRjnxV0lT",
        "outputId": "5cb0cf78-e143-4563-e467-877c757f5848"
      },
      "source": [
        "passenger_total_b = passenger_total_a.rename(columns=passenger_total_a.iloc[0]).drop(passenger_total_a.index[0])\n",
        "passenger_total_b"
      ],
      "execution_count": null,
      "outputs": [
        {
          "output_type": "execute_result",
          "data": {
            "text/html": [
              "<div>\n",
              "<style scoped>\n",
              "    .dataframe tbody tr th:only-of-type {\n",
              "        vertical-align: middle;\n",
              "    }\n",
              "\n",
              "    .dataframe tbody tr th {\n",
              "        vertical-align: top;\n",
              "    }\n",
              "\n",
              "    .dataframe thead th {\n",
              "        text-align: right;\n",
              "    }\n",
              "</style>\n",
              "<table border=\"1\" class=\"dataframe\">\n",
              "  <thead>\n",
              "    <tr style=\"text-align: right;\">\n",
              "      <th></th>\n",
              "      <th>รวมประชาชนเดินทาง (คน)</th>\n",
              "    </tr>\n",
              "  </thead>\n",
              "  <tbody>\n",
              "    <tr>\n",
              "      <th>2020-01-01</th>\n",
              "      <td>2743864</td>\n",
              "    </tr>\n",
              "    <tr>\n",
              "      <th>2020-01-02</th>\n",
              "      <td>3370836</td>\n",
              "    </tr>\n",
              "    <tr>\n",
              "      <th>2020-01-03</th>\n",
              "      <td>3520819</td>\n",
              "    </tr>\n",
              "    <tr>\n",
              "      <th>2020-01-04</th>\n",
              "      <td>2975450</td>\n",
              "    </tr>\n",
              "    <tr>\n",
              "      <th>2020-01-05</th>\n",
              "      <td>2835519</td>\n",
              "    </tr>\n",
              "    <tr>\n",
              "      <th>...</th>\n",
              "      <td>...</td>\n",
              "    </tr>\n",
              "    <tr>\n",
              "      <th>2021-04-22</th>\n",
              "      <td>1175707</td>\n",
              "    </tr>\n",
              "    <tr>\n",
              "      <th>2021-04-23</th>\n",
              "      <td>1180619</td>\n",
              "    </tr>\n",
              "    <tr>\n",
              "      <th>2021-04-24</th>\n",
              "      <td>869281</td>\n",
              "    </tr>\n",
              "    <tr>\n",
              "      <th>2021-04-25</th>\n",
              "      <td>708446</td>\n",
              "    </tr>\n",
              "    <tr>\n",
              "      <th>2021-04-26</th>\n",
              "      <td>1066591</td>\n",
              "    </tr>\n",
              "  </tbody>\n",
              "</table>\n",
              "<p>482 rows × 1 columns</p>\n",
              "</div>"
            ],
            "text/plain": [
              "           รวมประชาชนเดินทาง (คน)\n",
              "2020-01-01                2743864\n",
              "2020-01-02                3370836\n",
              "2020-01-03                3520819\n",
              "2020-01-04                2975450\n",
              "2020-01-05                2835519\n",
              "...                           ...\n",
              "2021-04-22                1175707\n",
              "2021-04-23                1180619\n",
              "2021-04-24                 869281\n",
              "2021-04-25                 708446\n",
              "2021-04-26                1066591\n",
              "\n",
              "[482 rows x 1 columns]"
            ]
          },
          "metadata": {
            "tags": []
          },
          "execution_count": 47
        }
      ]
    },
    {
      "cell_type": "code",
      "metadata": {
        "colab": {
          "base_uri": "https://localhost:8080/"
        },
        "id": "LuD_eA5iWSBh",
        "outputId": "fa732184-381c-44f8-9f26-9834fa80ff87"
      },
      "source": [
        "passenger_total_b.columns"
      ],
      "execution_count": null,
      "outputs": [
        {
          "output_type": "execute_result",
          "data": {
            "text/plain": [
              "Index(['รวมประชาชนเดินทาง (คน)'], dtype='object')"
            ]
          },
          "metadata": {
            "tags": []
          },
          "execution_count": 48
        }
      ]
    },
    {
      "cell_type": "markdown",
      "metadata": {
        "id": "m8W-XEfzfr17"
      },
      "source": [
        "# รวมยอดประชาชนเดินทางในแต่ละเดือน"
      ]
    },
    {
      "cell_type": "markdown",
      "metadata": {
        "id": "AXByUstKg-li"
      },
      "source": [
        "### มกราคม2020\n",
        "\n",
        "\n"
      ]
    },
    {
      "cell_type": "code",
      "metadata": {
        "colab": {
          "base_uri": "https://localhost:8080/"
        },
        "id": "24YK-PHwdwyd",
        "outputId": "9c1f57ac-08c0-46e8-dc75-aa9282576857"
      },
      "source": [
        "Jan2020 = passenger_total_b.iloc[:31,:].sum()[0]\n",
        "Jan2020"
      ],
      "execution_count": null,
      "outputs": [
        {
          "output_type": "execute_result",
          "data": {
            "text/plain": [
              "104516847.0"
            ]
          },
          "metadata": {
            "tags": []
          },
          "execution_count": 329
        }
      ]
    },
    {
      "cell_type": "markdown",
      "metadata": {
        "id": "GA4Px6rZhLZl"
      },
      "source": [
        "### กุมภาพันธ์2020"
      ]
    },
    {
      "cell_type": "code",
      "metadata": {
        "colab": {
          "base_uri": "https://localhost:8080/"
        },
        "id": "2JP_t4OKfp5O",
        "outputId": "3557e97b-5f4b-48b3-f55c-0ef7be860e6b"
      },
      "source": [
        "Feb2020 = passenger_total_b.iloc[31:60,:].sum()[0]\n",
        "Feb2020"
      ],
      "execution_count": null,
      "outputs": [
        {
          "output_type": "execute_result",
          "data": {
            "text/plain": [
              "92564306.0"
            ]
          },
          "metadata": {
            "tags": []
          },
          "execution_count": 330
        }
      ]
    },
    {
      "cell_type": "markdown",
      "metadata": {
        "id": "0BiisxoVhQX-"
      },
      "source": [
        "### มีนาคม2020"
      ]
    },
    {
      "cell_type": "code",
      "metadata": {
        "colab": {
          "base_uri": "https://localhost:8080/"
        },
        "id": "4p414nmAgcSE",
        "outputId": "2f0bbac1-1c19-428f-9e73-25b0ab08c055"
      },
      "source": [
        "Mar2020 = passenger_total_b.iloc[60:91,:].sum()[0]\n",
        "Mar2020 "
      ],
      "execution_count": null,
      "outputs": [
        {
          "output_type": "execute_result",
          "data": {
            "text/plain": [
              "61635890.0"
            ]
          },
          "metadata": {
            "tags": []
          },
          "execution_count": 331
        }
      ]
    },
    {
      "cell_type": "markdown",
      "metadata": {
        "id": "7l9TyNKyhZBG"
      },
      "source": [
        "### เมษายน2020"
      ]
    },
    {
      "cell_type": "code",
      "metadata": {
        "colab": {
          "base_uri": "https://localhost:8080/"
        },
        "id": "2mCAL03_heKB",
        "outputId": "f014a685-3c54-416b-9ea0-5394b1473511"
      },
      "source": [
        "Apr2020 = passenger_total_b.iloc[91:121,:].sum()[0]\n",
        "Apr2020 "
      ],
      "execution_count": null,
      "outputs": [
        {
          "output_type": "execute_result",
          "data": {
            "text/plain": [
              "22653390.0"
            ]
          },
          "metadata": {
            "tags": []
          },
          "execution_count": 332
        }
      ]
    },
    {
      "cell_type": "markdown",
      "metadata": {
        "id": "UvX8zntNiCEG"
      },
      "source": [
        "### พฤษภาคม2020"
      ]
    },
    {
      "cell_type": "code",
      "metadata": {
        "colab": {
          "base_uri": "https://localhost:8080/"
        },
        "id": "sXfN-795h-T7",
        "outputId": "ecd11c15-f0b9-415f-eb8f-244fdc5af0c6"
      },
      "source": [
        "May2020 = passenger_total_b.iloc[121:152,:].sum()[0]\n",
        "May2020 "
      ],
      "execution_count": null,
      "outputs": [
        {
          "output_type": "execute_result",
          "data": {
            "text/plain": [
              "32569755.0"
            ]
          },
          "metadata": {
            "tags": []
          },
          "execution_count": 333
        }
      ]
    },
    {
      "cell_type": "markdown",
      "metadata": {
        "id": "wAC50drMjeLc"
      },
      "source": [
        "### มิถุนายน2020"
      ]
    },
    {
      "cell_type": "code",
      "metadata": {
        "colab": {
          "base_uri": "https://localhost:8080/"
        },
        "id": "F1xjfpmRjZsI",
        "outputId": "c49618c5-deba-45c3-9fa7-9a7c610523a8"
      },
      "source": [
        "Jun2020 = passenger_total_b.iloc[152:182,:].sum()[0]\n",
        "Jun2020 "
      ],
      "execution_count": null,
      "outputs": [
        {
          "output_type": "execute_result",
          "data": {
            "text/plain": [
              "48464966.0"
            ]
          },
          "metadata": {
            "tags": []
          },
          "execution_count": 334
        }
      ]
    },
    {
      "cell_type": "markdown",
      "metadata": {
        "id": "dZT11hzKkQRS"
      },
      "source": [
        "### กรกฏาคม2020"
      ]
    },
    {
      "cell_type": "code",
      "metadata": {
        "colab": {
          "base_uri": "https://localhost:8080/"
        },
        "id": "SSFWOUS5nMRi",
        "outputId": "2220805a-bc90-43bd-ed09-53806c312edb"
      },
      "source": [
        "Jul2020 = passenger_total_b.iloc[182:213,:].sum()[0]\n",
        "Jul2020 "
      ],
      "execution_count": null,
      "outputs": [
        {
          "output_type": "execute_result",
          "data": {
            "text/plain": [
              "62241436.0"
            ]
          },
          "metadata": {
            "tags": []
          },
          "execution_count": 335
        }
      ]
    },
    {
      "cell_type": "markdown",
      "metadata": {
        "id": "aROF4Cb02vXp"
      },
      "source": [
        "### สิงหาคม2020"
      ]
    },
    {
      "cell_type": "code",
      "metadata": {
        "colab": {
          "base_uri": "https://localhost:8080/"
        },
        "id": "eAyx3duh2mMf",
        "outputId": "eb79c5ef-7fda-43c4-df11-e14f5b9a4f3e"
      },
      "source": [
        "Aug2020 = passenger_total_b.iloc[213:244,:].sum()[0]\n",
        "Aug2020 "
      ],
      "execution_count": null,
      "outputs": [
        {
          "output_type": "execute_result",
          "data": {
            "text/plain": [
              "67208460.0"
            ]
          },
          "metadata": {
            "tags": []
          },
          "execution_count": 336
        }
      ]
    },
    {
      "cell_type": "markdown",
      "metadata": {
        "id": "hEo4WRl6nsd_"
      },
      "source": [
        "### กันยายน2020"
      ]
    },
    {
      "cell_type": "code",
      "metadata": {
        "colab": {
          "base_uri": "https://localhost:8080/"
        },
        "id": "-lUhJI-kndZZ",
        "outputId": "88cf397b-a644-46ff-b7ef-a70bf817da53"
      },
      "source": [
        "Sep2020 = passenger_total_b.iloc[244:274,:].sum()[0]\n",
        "Sep2020 "
      ],
      "execution_count": null,
      "outputs": [
        {
          "output_type": "execute_result",
          "data": {
            "text/plain": [
              "67916587.0"
            ]
          },
          "metadata": {
            "tags": []
          },
          "execution_count": 337
        }
      ]
    },
    {
      "cell_type": "markdown",
      "metadata": {
        "id": "5e01vwacn6YV"
      },
      "source": [
        "###ตุลาคม2020"
      ]
    },
    {
      "cell_type": "code",
      "metadata": {
        "colab": {
          "base_uri": "https://localhost:8080/"
        },
        "id": "pe0XhTV5ncE-",
        "outputId": "ad4a713d-01ce-4ed5-e0ff-3f705dac919c"
      },
      "source": [
        "Oct2020 = passenger_total_b.iloc[274:305,:].sum()[0]\n",
        "Oct2020 "
      ],
      "execution_count": null,
      "outputs": [
        {
          "output_type": "execute_result",
          "data": {
            "text/plain": [
              "68487852.0"
            ]
          },
          "metadata": {
            "tags": []
          },
          "execution_count": 338
        }
      ]
    },
    {
      "cell_type": "markdown",
      "metadata": {
        "id": "kOTWe_dAoHAD"
      },
      "source": [
        "### พฤศจิกายน2020"
      ]
    },
    {
      "cell_type": "code",
      "metadata": {
        "colab": {
          "base_uri": "https://localhost:8080/"
        },
        "id": "5XNzEsM1oGq6",
        "outputId": "466b4833-5722-4ea1-8262-979782bc70df"
      },
      "source": [
        "Nov2020 = passenger_total_b.iloc[305:335,:].sum()[0]\n",
        "Nov2020 "
      ],
      "execution_count": null,
      "outputs": [
        {
          "output_type": "execute_result",
          "data": {
            "text/plain": [
              "68527999.0"
            ]
          },
          "metadata": {
            "tags": []
          },
          "execution_count": 339
        }
      ]
    },
    {
      "cell_type": "markdown",
      "metadata": {
        "id": "GlFrrVlp1D2P"
      },
      "source": [
        "### ธันวาคม2020"
      ]
    },
    {
      "cell_type": "code",
      "metadata": {
        "colab": {
          "base_uri": "https://localhost:8080/"
        },
        "id": "gjZLpftZ06eM",
        "outputId": "1f847b9f-92d3-4c4e-ba8d-79225f97dc14"
      },
      "source": [
        "Dec2020 = passenger_total_b.iloc[335:366,:].sum()[0]\n",
        "Dec2020"
      ],
      "execution_count": null,
      "outputs": [
        {
          "output_type": "execute_result",
          "data": {
            "text/plain": [
              "65242215.0"
            ]
          },
          "metadata": {
            "tags": []
          },
          "execution_count": 340
        }
      ]
    },
    {
      "cell_type": "markdown",
      "metadata": {
        "id": "BFVzpRPx1OlK"
      },
      "source": [
        "### มกราคม2021"
      ]
    },
    {
      "cell_type": "code",
      "metadata": {
        "colab": {
          "base_uri": "https://localhost:8080/"
        },
        "id": "lHjaDWD41Mfn",
        "outputId": "6ca3f18d-71e3-4a26-ddbb-7795db793a1f"
      },
      "source": [
        "Jan2021 = passenger_total_b.iloc[366:397:].sum()[0]\n",
        "Jan2021"
      ],
      "execution_count": null,
      "outputs": [
        {
          "output_type": "execute_result",
          "data": {
            "text/plain": [
              "41277722.0"
            ]
          },
          "metadata": {
            "tags": []
          },
          "execution_count": 341
        }
      ]
    },
    {
      "cell_type": "markdown",
      "metadata": {
        "id": "i5Fpvq5e1j7M"
      },
      "source": [
        "### กุมภาพันธ์2021"
      ]
    },
    {
      "cell_type": "code",
      "metadata": {
        "colab": {
          "base_uri": "https://localhost:8080/"
        },
        "id": "J_vaR1g21n78",
        "outputId": "ae3fbcc4-3733-42ba-f075-ce11d2442795"
      },
      "source": [
        "Feb2021 = passenger_total_b.iloc[397:425:].sum()[0]\n",
        "Feb2021"
      ],
      "execution_count": null,
      "outputs": [
        {
          "output_type": "execute_result",
          "data": {
            "text/plain": [
              "46950817.0"
            ]
          },
          "metadata": {
            "tags": []
          },
          "execution_count": 342
        }
      ]
    },
    {
      "cell_type": "markdown",
      "metadata": {
        "id": "Kxap2L7v17HZ"
      },
      "source": [
        "### มีนาคม2021"
      ]
    },
    {
      "cell_type": "code",
      "metadata": {
        "colab": {
          "base_uri": "https://localhost:8080/"
        },
        "id": "mcgCCnhA16ql",
        "outputId": "73dc6b23-a0c9-4a57-eb75-53c39333621e"
      },
      "source": [
        "Mar2021 = passenger_total_b.iloc[425:456:].sum()[0]\n",
        "Mar2021"
      ],
      "execution_count": null,
      "outputs": [
        {
          "output_type": "execute_result",
          "data": {
            "text/plain": [
              "61514512.0"
            ]
          },
          "metadata": {
            "tags": []
          },
          "execution_count": 343
        }
      ]
    },
    {
      "cell_type": "markdown",
      "metadata": {
        "id": "lauKhZ1a3qEK"
      },
      "source": [
        "### เมษายน2021"
      ]
    },
    {
      "cell_type": "code",
      "metadata": {
        "colab": {
          "base_uri": "https://localhost:8080/"
        },
        "id": "NqBRhjP83sas",
        "outputId": "5ff16e80-e705-45b9-96a5-550c0617b7d0"
      },
      "source": [
        "Apr2021 = passenger_total_b.iloc[456:].sum()[0]\n",
        "Apr2021"
      ],
      "execution_count": null,
      "outputs": [
        {
          "output_type": "execute_result",
          "data": {
            "text/plain": [
              "35492243.0"
            ]
          },
          "metadata": {
            "tags": []
          },
          "execution_count": 346
        }
      ]
    },
    {
      "cell_type": "code",
      "metadata": {
        "id": "CB_xCt9lWErZ"
      },
      "source": [
        "Passenger_Total = {\n",
        "         'Date': ['Jan2020','Feb2020','Mar2020','Apr2020','May2020','Jun2020','Jul2020','Aug2020','Sep2020','Oct2020','Nov2020','Dec2020','Jan2021','Feb2021','Mar2021','Apr2021'],\n",
        "         'passenger Total': [104516847.0,92564306.0,61635890.0,22653390.0,32569755.0,48464966.0,62241436.0,67208460.0,67916587.0,68487852.0,68527999.0,65242215.0,41277722.0, 46950817.0, 61514512.0,35492243.0]\n",
        "    }\n",
        "Passenger_Total = pd.DataFrame(Passenger_Total)"
      ],
      "execution_count": null,
      "outputs": []
    },
    {
      "cell_type": "code",
      "metadata": {
        "colab": {
          "base_uri": "https://localhost:8080/",
          "height": 524
        },
        "id": "OwvLS5dNYDCA",
        "outputId": "d046eccb-91d3-474b-b989-4353c55aa21e"
      },
      "source": [
        "Passenger_Total"
      ],
      "execution_count": null,
      "outputs": [
        {
          "output_type": "execute_result",
          "data": {
            "text/html": [
              "<div>\n",
              "<style scoped>\n",
              "    .dataframe tbody tr th:only-of-type {\n",
              "        vertical-align: middle;\n",
              "    }\n",
              "\n",
              "    .dataframe tbody tr th {\n",
              "        vertical-align: top;\n",
              "    }\n",
              "\n",
              "    .dataframe thead th {\n",
              "        text-align: right;\n",
              "    }\n",
              "</style>\n",
              "<table border=\"1\" class=\"dataframe\">\n",
              "  <thead>\n",
              "    <tr style=\"text-align: right;\">\n",
              "      <th></th>\n",
              "      <th>Date</th>\n",
              "      <th>passenger Total</th>\n",
              "    </tr>\n",
              "  </thead>\n",
              "  <tbody>\n",
              "    <tr>\n",
              "      <th>0</th>\n",
              "      <td>Jan2020</td>\n",
              "      <td>104516847.0</td>\n",
              "    </tr>\n",
              "    <tr>\n",
              "      <th>1</th>\n",
              "      <td>Feb2020</td>\n",
              "      <td>92564306.0</td>\n",
              "    </tr>\n",
              "    <tr>\n",
              "      <th>2</th>\n",
              "      <td>Mar2020</td>\n",
              "      <td>61635890.0</td>\n",
              "    </tr>\n",
              "    <tr>\n",
              "      <th>3</th>\n",
              "      <td>Apr2020</td>\n",
              "      <td>22653390.0</td>\n",
              "    </tr>\n",
              "    <tr>\n",
              "      <th>4</th>\n",
              "      <td>May2020</td>\n",
              "      <td>32569755.0</td>\n",
              "    </tr>\n",
              "    <tr>\n",
              "      <th>5</th>\n",
              "      <td>Jun2020</td>\n",
              "      <td>48464966.0</td>\n",
              "    </tr>\n",
              "    <tr>\n",
              "      <th>6</th>\n",
              "      <td>Jul2020</td>\n",
              "      <td>62241436.0</td>\n",
              "    </tr>\n",
              "    <tr>\n",
              "      <th>7</th>\n",
              "      <td>Aug2020</td>\n",
              "      <td>67208460.0</td>\n",
              "    </tr>\n",
              "    <tr>\n",
              "      <th>8</th>\n",
              "      <td>Sep2020</td>\n",
              "      <td>67916587.0</td>\n",
              "    </tr>\n",
              "    <tr>\n",
              "      <th>9</th>\n",
              "      <td>Oct2020</td>\n",
              "      <td>68487852.0</td>\n",
              "    </tr>\n",
              "    <tr>\n",
              "      <th>10</th>\n",
              "      <td>Nov2020</td>\n",
              "      <td>68527999.0</td>\n",
              "    </tr>\n",
              "    <tr>\n",
              "      <th>11</th>\n",
              "      <td>Dec2020</td>\n",
              "      <td>65242215.0</td>\n",
              "    </tr>\n",
              "    <tr>\n",
              "      <th>12</th>\n",
              "      <td>Jan2021</td>\n",
              "      <td>41277722.0</td>\n",
              "    </tr>\n",
              "    <tr>\n",
              "      <th>13</th>\n",
              "      <td>Feb2021</td>\n",
              "      <td>46950817.0</td>\n",
              "    </tr>\n",
              "    <tr>\n",
              "      <th>14</th>\n",
              "      <td>Mar2021</td>\n",
              "      <td>61514512.0</td>\n",
              "    </tr>\n",
              "    <tr>\n",
              "      <th>15</th>\n",
              "      <td>Apr2021</td>\n",
              "      <td>35492243.0</td>\n",
              "    </tr>\n",
              "  </tbody>\n",
              "</table>\n",
              "</div>"
            ],
            "text/plain": [
              "       Date  passenger Total\n",
              "0   Jan2020      104516847.0\n",
              "1   Feb2020       92564306.0\n",
              "2   Mar2020       61635890.0\n",
              "3   Apr2020       22653390.0\n",
              "4   May2020       32569755.0\n",
              "5   Jun2020       48464966.0\n",
              "6   Jul2020       62241436.0\n",
              "7   Aug2020       67208460.0\n",
              "8   Sep2020       67916587.0\n",
              "9   Oct2020       68487852.0\n",
              "10  Nov2020       68527999.0\n",
              "11  Dec2020       65242215.0\n",
              "12  Jan2021       41277722.0\n",
              "13  Feb2021       46950817.0\n",
              "14  Mar2021       61514512.0\n",
              "15  Apr2021       35492243.0"
            ]
          },
          "metadata": {
            "tags": []
          },
          "execution_count": 312
        }
      ]
    },
    {
      "cell_type": "code",
      "metadata": {
        "colab": {
          "base_uri": "https://localhost:8080/"
        },
        "id": "FYBsdGgKcbat",
        "outputId": "c5d94f85-a0d3-47f8-fa66-3f157fddb5a8"
      },
      "source": [
        "list_pass20 = [Jan2020/100000,Feb2020/100000,Mar2020/100000,Apr2020/100000,May2020/100000,Jun2020/100000,Jul2020/100000,Aug2020/100000,Sep2020/100000,Oct2020/100000\n",
        "                    ,Nov2020/100000,Dec2020/100000]\n",
        "list_pass20"
      ],
      "execution_count": null,
      "outputs": [
        {
          "output_type": "execute_result",
          "data": {
            "text/plain": [
              "[1045.16847,\n",
              " 925.64306,\n",
              " 616.3589,\n",
              " 226.5339,\n",
              " 325.69755,\n",
              " 484.64966,\n",
              " 622.41436,\n",
              " 672.0846,\n",
              " 679.16587,\n",
              " 684.87852,\n",
              " 685.27999,\n",
              " 652.42215]"
            ]
          },
          "metadata": {
            "tags": []
          },
          "execution_count": 392
        }
      ]
    },
    {
      "cell_type": "code",
      "metadata": {
        "colab": {
          "base_uri": "https://localhost:8080/"
        },
        "id": "l_S6eZa6daR9",
        "outputId": "99b0a4d3-94c9-4d81-86f1-a67e95c730a3"
      },
      "source": [
        "list_pass21 = [Jan2021/10000,Feb2021/10000,Mar2021/10000,Apr2021/10000]\n",
        "list_pass21"
      ],
      "execution_count": null,
      "outputs": [
        {
          "output_type": "execute_result",
          "data": {
            "text/plain": [
              "[4127.7722, 4695.0817, 6151.4512, 3549.2243]"
            ]
          },
          "metadata": {
            "tags": []
          },
          "execution_count": 393
        }
      ]
    },
    {
      "cell_type": "code",
      "metadata": {
        "colab": {
          "base_uri": "https://localhost:8080/"
        },
        "id": "PK5C9a2sb2or",
        "outputId": "4d3e017b-df33-4e67-904b-ad4134f06fd4"
      },
      "source": [
        "patient20 = [covid[(covid['announce_date'].dt.month==1) & (covid['announce_date'].dt.year==2020)].count()[0]\n",
        "                  ,covid[(covid['announce_date'].dt.month==2) & (covid['announce_date'].dt.year==2020)].count()[0]\n",
        "                  ,covid[(covid['announce_date'].dt.month==3) & (covid['announce_date'].dt.year==2020)].count()[0]\n",
        "                  ,covid[(covid['announce_date'].dt.month==4) & (covid['announce_date'].dt.year==2020)].count()[0]\n",
        "                  ,covid[(covid['announce_date'].dt.month==5) & (covid['announce_date'].dt.year==2020)].count()[0]\n",
        "                  ,covid[(covid['announce_date'].dt.month==6) & (covid['announce_date'].dt.year==2020)].count()[0]\n",
        "                  ,covid[(covid['announce_date'].dt.month==7) & (covid['announce_date'].dt.year==2020)].count()[0]\n",
        "                  ,covid[(covid['announce_date'].dt.month==8) & (covid['announce_date'].dt.year==2020)].count()[0]\n",
        "                 ,covid[(covid['announce_date'].dt.month==9) & (covid['announce_date'].dt.year==2020)].count()[0]\n",
        "                ,covid[(covid['announce_date'].dt.month==10) & (covid['announce_date'].dt.year==2020)].count()[0]\n",
        "                ,covid[(covid['announce_date'].dt.month==11) & (covid['announce_date'].dt.year==2020)].count()[0]\n",
        "                ,covid[(covid['announce_date'].dt.month==12) & (covid['announce_date'].dt.year==2020)].count()[0]]\n",
        "patient20"
      ],
      "execution_count": null,
      "outputs": [
        {
          "output_type": "execute_result",
          "data": {
            "text/plain": [
              "[19, 23, 1609, 1303, 127, 90, 139, 102, 152, 216, 218, 2886]"
            ]
          },
          "metadata": {
            "tags": []
          },
          "execution_count": 394
        }
      ]
    },
    {
      "cell_type": "code",
      "metadata": {
        "colab": {
          "base_uri": "https://localhost:8080/"
        },
        "id": "OfkKfjqxf2Uf",
        "outputId": "e12a164b-5dd0-40bd-c24d-ced32d4319f5"
      },
      "source": [
        "patient21 = [covid[(covid['announce_date'].dt.month==1) & (covid['announce_date'].dt.year==2021)].count()[0]\n",
        "                  ,covid[(covid['announce_date'].dt.month==2) & (covid['announce_date'].dt.year==2021)].count()[0]\n",
        "                  ,covid[(covid['announce_date'].dt.month==3) & (covid['announce_date'].dt.year==2021)].count()[0]\n",
        "                  ,covid[(covid['announce_date'].dt.month==4) & (covid['announce_date'].dt.year==2021)].count()[0]]\n",
        "patient21"
      ],
      "execution_count": null,
      "outputs": [
        {
          "output_type": "execute_result",
          "data": {
            "text/plain": [
              "[11898, 7169, 2912, 28647]"
            ]
          },
          "metadata": {
            "tags": []
          },
          "execution_count": 395
        }
      ]
    },
    {
      "cell_type": "code",
      "metadata": {
        "id": "AaSZGvethRDe"
      },
      "source": [
        "!wget -q https://github.com/Phonbopit/sarabun-webfont/raw/master/fonts/thsarabunnew-webfont.ttf"
      ],
      "execution_count": null,
      "outputs": []
    },
    {
      "cell_type": "code",
      "metadata": {
        "id": "k9g0hcP6hTlD"
      },
      "source": [
        "# !pip install -U --pre matplotlib  \n",
        "import matplotlib as mpl\n",
        "mpl.font_manager.fontManager.addfont('thsarabunnew-webfont.ttf')\n",
        "mpl.rc('font', family='TH Sarabun New')"
      ],
      "execution_count": null,
      "outputs": []
    },
    {
      "cell_type": "code",
      "metadata": {
        "id": "kNWkbUPTgtvP"
      },
      "source": [
        "labels = ['JAN','FEB','MAR','APR','MAY','JUN','JUL','AUG','SEP','OCT','NOV','DEC']"
      ],
      "execution_count": null,
      "outputs": []
    },
    {
      "cell_type": "code",
      "metadata": {
        "colab": {
          "base_uri": "https://localhost:8080/",
          "height": 500
        },
        "id": "g7VP-bXAgjtC",
        "outputId": "55806f6b-1b7c-4a69-eddd-355236de576e"
      },
      "source": [
        "x = np.arange(len(labels))  # the label locations\n",
        "width = 0.35  # the width of the bars\n",
        "\n",
        "fig, ax = plt.subplots()\n",
        "rects1 = ax.bar(x - width/2,patient20, width, label='patient',color = '#fc9700')  #input ตัวแรกคือตำแหน่งในแนวแกนx(ตามด้วยx-width/2 คือกำหนดความกว้าง)\n",
        "rects2 = ax.bar(x + width/2,list_pass20, width, label='Passenger',color = '#19038a') #ตามด้วยอีกกราฟที่ต้องการเปรียบเทียบ\n",
        "\n",
        "# Add some text for labels, title and custom x-axis tick labels, etc.\n",
        "ax.set_ylabel('Number of requests')\n",
        "ax.set_title('ปริมาณคนเข้าใช้ ')\n",
        "ax.set_xticks(x)\n",
        "ax.set_xticklabels(labels)\n",
        "ax.legend();"
      ],
      "execution_count": null,
      "outputs": [
        {
          "output_type": "display_data",
          "data": {
            "image/png": "[encoded data removed]",
            "text/plain": [
              "<Figure size 864x576 with 1 Axes>"
            ]
          },
          "metadata": {
            "tags": [],
            "needs_background": "light"
          }
        }
      ]
    },
    {
      "cell_type": "code",
      "metadata": {
        "colab": {
          "base_uri": "https://localhost:8080/",
          "height": 503
        },
        "id": "uh7V-mQFhLJu",
        "outputId": "4d9589ae-6eb4-4f7a-ca76-fbf8ceefd59a"
      },
      "source": [
        "width = 0.4      # the width of the bars: can also be len(x) sequence\n",
        "\n",
        "fig, ax = plt.subplots()\n",
        "\n",
        "ax.bar(labels,patient20, width,label='patient', color='darkblue')\n",
        "ax.bar(labels,list_pass20, width,bottom=patient20,   #bottomคือการบอกว่าเริ่มจากตรงไหน\n",
        "       label='Passenger',color='lightblue')\n",
        "\n",
        "ax.set_ylabel('Number of requests')\n",
        "ax.set_title('ปริมาณคนเข้าใช้ Wongnai.com ในแต่ละวัน โดยคิดจาก 2 ช่วงเวลา')\n",
        "ax.legend()\n",
        "\n",
        "plt.show()\n"
      ],
      "execution_count": null,
      "outputs": [
        {
          "output_type": "display_data",
          "data": {
            "image/png": "[encoded data removed]",
            "text/plain": [
              "<Figure size 864x576 with 1 Axes>"
            ]
          },
          "metadata": {
            "tags": [],
            "needs_background": "light"
          }
        }
      ]
    },
    {
      "cell_type": "code",
      "metadata": {
        "colab": {
          "base_uri": "https://localhost:8080/",
          "height": 495
        },
        "id": "Ew0sLu1psiQX",
        "outputId": "3e7ca904-ae78-4a00-c746-fcd58921b8a3"
      },
      "source": [
        "# libraries\n",
        "import numpy as np\n",
        "from numpy import linspace\n",
        "import pandas as pd\n",
        "import seaborn as sns\n",
        "import matplotlib.pyplot as plt\n",
        "from scipy.stats import gaussian_kde\n",
        "\n",
        "# dataframe\n",
        "df = pd.DataFrame({\n",
        "'var1': np.random.normal(size=1000),\n",
        "'var2': np.random.normal(loc=2, size=1000) * -1\n",
        "})\n",
        "\n",
        "# Fig size\n",
        "plt.rcParams[\"figure.figsize\"]=12,8\n",
        "\n",
        "# plot histogram chart for var1\n",
        "sns.histplot(x=df.var1, stat=\"density\", bins=20)\n",
        "\n",
        "# plot histogram chart for var2\n",
        "n_bins = 20\n",
        "# get positions and heights of bars\n",
        "heights, bins = np.histogram(df.var2, density=True, bins=n_bins) \n",
        "# multiply by -1 to reverse it\n",
        "heights *= -1\n",
        "bin_width = np.diff(bins)[0]\n",
        "bin_pos =( bins[:-1] + bin_width / 2) * -1\n",
        "\n",
        "# plot\n",
        "plt.bar(bin_pos, heights, width=bin_width, edgecolor='black')\n",
        "\n",
        "# show the graph\n",
        "plt.show()"
      ],
      "execution_count": null,
      "outputs": [
        {
          "output_type": "display_data",
          "data": {
            "image/png": "[encoded data removed]",
            "text/plain": [
              "<Figure size 864x576 with 1 Axes>"
            ]
          },
          "metadata": {
            "tags": [],
            "needs_background": "light"
          }
        }
      ]
    }
  ]
}